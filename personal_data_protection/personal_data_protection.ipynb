{
 "cells": [
  {
   "cell_type": "markdown",
   "metadata": {},
   "source": [
    "# Защита персональных данных клиентов"
   ]
  },
  {
   "cell_type": "markdown",
   "metadata": {},
   "source": [
    "Вам нужно защитить данные клиентов страховой компании. Разработайте такой метод преобразования данных, чтобы по ним было сложно восстановить персональную информацию. Обоснуйте корректность его работы.\n",
    "\n",
    "Нужно защитить данные, чтобы при преобразовании качество моделей машинного обучения не ухудшилось. Подбирать наилучшую модель не требуется."
   ]
  },
  {
   "cell_type": "markdown",
   "metadata": {},
   "source": [
    "## Загрузка данных"
   ]
  },
  {
   "cell_type": "code",
   "execution_count": 1,
   "metadata": {},
   "outputs": [],
   "source": [
    "# Библиотеки\n",
    "import pandas as pd\n",
    "import numpy as np\n",
    "import seaborn as sns\n",
    "import matplotlib.pyplot as plt\n",
    "from sklearn.model_selection import train_test_split\n",
    "from sklearn.metrics import r2_score\n",
    "from sklearn.linear_model import LinearRegression"
   ]
  },
  {
   "cell_type": "code",
   "execution_count": 2,
   "metadata": {},
   "outputs": [
    {
     "name": "stdout",
     "output_type": "stream",
     "text": [
      "<class 'pandas.core.frame.DataFrame'>\n",
      "RangeIndex: 5000 entries, 0 to 4999\n",
      "Data columns (total 5 columns):\n",
      " #   Column             Non-Null Count  Dtype  \n",
      "---  ------             --------------  -----  \n",
      " 0   Пол                5000 non-null   int64  \n",
      " 1   Возраст            5000 non-null   float64\n",
      " 2   Зарплата           5000 non-null   float64\n",
      " 3   Члены семьи        5000 non-null   int64  \n",
      " 4   Страховые выплаты  5000 non-null   int64  \n",
      "dtypes: float64(2), int64(3)\n",
      "memory usage: 195.4 KB\n"
     ]
    }
   ],
   "source": [
    "try:\n",
    "    data = pd.read_csv('C:/Users/Ксения/data_analyst/Страховая/****nce.csv')\n",
    "except:\n",
    "    data = pd.read_csv('/datasets/****nce.csv')\n",
    "data.info()"
   ]
  },
  {
   "cell_type": "code",
   "execution_count": 3,
   "metadata": {},
   "outputs": [
    {
     "data": {
      "text/html": [
       "<div>\n",
       "<style scoped>\n",
       "    .dataframe tbody tr th:only-of-type {\n",
       "        vertical-align: middle;\n",
       "    }\n",
       "\n",
       "    .dataframe tbody tr th {\n",
       "        vertical-align: top;\n",
       "    }\n",
       "\n",
       "    .dataframe thead th {\n",
       "        text-align: right;\n",
       "    }\n",
       "</style>\n",
       "<table border=\"1\" class=\"dataframe\">\n",
       "  <thead>\n",
       "    <tr style=\"text-align: right;\">\n",
       "      <th></th>\n",
       "      <th>Пол</th>\n",
       "      <th>Возраст</th>\n",
       "      <th>Зарплата</th>\n",
       "      <th>Члены семьи</th>\n",
       "      <th>Страховые выплаты</th>\n",
       "    </tr>\n",
       "  </thead>\n",
       "  <tbody>\n",
       "    <tr>\n",
       "      <th>0</th>\n",
       "      <td>1</td>\n",
       "      <td>41.0</td>\n",
       "      <td>49600.0</td>\n",
       "      <td>1</td>\n",
       "      <td>0</td>\n",
       "    </tr>\n",
       "    <tr>\n",
       "      <th>1</th>\n",
       "      <td>0</td>\n",
       "      <td>46.0</td>\n",
       "      <td>38000.0</td>\n",
       "      <td>1</td>\n",
       "      <td>1</td>\n",
       "    </tr>\n",
       "    <tr>\n",
       "      <th>2</th>\n",
       "      <td>0</td>\n",
       "      <td>29.0</td>\n",
       "      <td>21000.0</td>\n",
       "      <td>0</td>\n",
       "      <td>0</td>\n",
       "    </tr>\n",
       "    <tr>\n",
       "      <th>3</th>\n",
       "      <td>0</td>\n",
       "      <td>21.0</td>\n",
       "      <td>41700.0</td>\n",
       "      <td>2</td>\n",
       "      <td>0</td>\n",
       "    </tr>\n",
       "    <tr>\n",
       "      <th>4</th>\n",
       "      <td>1</td>\n",
       "      <td>28.0</td>\n",
       "      <td>26100.0</td>\n",
       "      <td>0</td>\n",
       "      <td>0</td>\n",
       "    </tr>\n",
       "    <tr>\n",
       "      <th>5</th>\n",
       "      <td>1</td>\n",
       "      <td>43.0</td>\n",
       "      <td>41000.0</td>\n",
       "      <td>2</td>\n",
       "      <td>1</td>\n",
       "    </tr>\n",
       "    <tr>\n",
       "      <th>6</th>\n",
       "      <td>1</td>\n",
       "      <td>39.0</td>\n",
       "      <td>39700.0</td>\n",
       "      <td>2</td>\n",
       "      <td>0</td>\n",
       "    </tr>\n",
       "    <tr>\n",
       "      <th>7</th>\n",
       "      <td>1</td>\n",
       "      <td>25.0</td>\n",
       "      <td>38600.0</td>\n",
       "      <td>4</td>\n",
       "      <td>0</td>\n",
       "    </tr>\n",
       "    <tr>\n",
       "      <th>8</th>\n",
       "      <td>1</td>\n",
       "      <td>36.0</td>\n",
       "      <td>49700.0</td>\n",
       "      <td>1</td>\n",
       "      <td>0</td>\n",
       "    </tr>\n",
       "    <tr>\n",
       "      <th>9</th>\n",
       "      <td>1</td>\n",
       "      <td>32.0</td>\n",
       "      <td>51700.0</td>\n",
       "      <td>1</td>\n",
       "      <td>0</td>\n",
       "    </tr>\n",
       "  </tbody>\n",
       "</table>\n",
       "</div>"
      ],
      "text/plain": [
       "   Пол  Возраст  Зарплата  Члены семьи  Страховые выплаты\n",
       "0    1     41.0   49600.0            1                  0\n",
       "1    0     46.0   38000.0            1                  1\n",
       "2    0     29.0   21000.0            0                  0\n",
       "3    0     21.0   41700.0            2                  0\n",
       "4    1     28.0   26100.0            0                  0\n",
       "5    1     43.0   41000.0            2                  1\n",
       "6    1     39.0   39700.0            2                  0\n",
       "7    1     25.0   38600.0            4                  0\n",
       "8    1     36.0   49700.0            1                  0\n",
       "9    1     32.0   51700.0            1                  0"
      ]
     },
     "execution_count": 3,
     "metadata": {},
     "output_type": "execute_result"
    }
   ],
   "source": [
    "data.head(10)"
   ]
  },
  {
   "cell_type": "code",
   "execution_count": 4,
   "metadata": {},
   "outputs": [
    {
     "name": "stdout",
     "output_type": "stream",
     "text": [
      "<class 'pandas.core.frame.DataFrame'>\n",
      "Int64Index: 4847 entries, 0 to 4999\n",
      "Data columns (total 5 columns):\n",
      " #   Column             Non-Null Count  Dtype\n",
      "---  ------             --------------  -----\n",
      " 0   пол                4847 non-null   int64\n",
      " 1   возраст            4847 non-null   int64\n",
      " 2   зарплата           4847 non-null   int64\n",
      " 3   члены семьи        4847 non-null   int64\n",
      " 4   страховые выплаты  4847 non-null   int64\n",
      "dtypes: int64(5)\n",
      "memory usage: 227.2 KB\n"
     ]
    }
   ],
   "source": [
    "# Обработка данных\n",
    "data = data.drop_duplicates()\n",
    "data.columns = data.columns.str.lower()\n",
    "data[['возраст', 'зарплата']] = data[['возраст', 'зарплата']] .astype('int')\n",
    "data.info()"
   ]
  },
  {
   "cell_type": "code",
   "execution_count": 5,
   "metadata": {},
   "outputs": [
    {
     "data": {
      "text/html": [
       "<div>\n",
       "<style scoped>\n",
       "    .dataframe tbody tr th:only-of-type {\n",
       "        vertical-align: middle;\n",
       "    }\n",
       "\n",
       "    .dataframe tbody tr th {\n",
       "        vertical-align: top;\n",
       "    }\n",
       "\n",
       "    .dataframe thead th {\n",
       "        text-align: right;\n",
       "    }\n",
       "</style>\n",
       "<table border=\"1\" class=\"dataframe\">\n",
       "  <thead>\n",
       "    <tr style=\"text-align: right;\">\n",
       "      <th></th>\n",
       "      <th>пол</th>\n",
       "      <th>возраст</th>\n",
       "      <th>зарплата</th>\n",
       "      <th>члены семьи</th>\n",
       "      <th>страховые выплаты</th>\n",
       "    </tr>\n",
       "  </thead>\n",
       "  <tbody>\n",
       "    <tr>\n",
       "      <th>count</th>\n",
       "      <td>4847.0</td>\n",
       "      <td>4847.0</td>\n",
       "      <td>4847.0</td>\n",
       "      <td>4847.0</td>\n",
       "      <td>4847.0</td>\n",
       "    </tr>\n",
       "    <tr>\n",
       "      <th>mean</th>\n",
       "      <td>0.0</td>\n",
       "      <td>31.0</td>\n",
       "      <td>39896.0</td>\n",
       "      <td>1.0</td>\n",
       "      <td>0.0</td>\n",
       "    </tr>\n",
       "    <tr>\n",
       "      <th>std</th>\n",
       "      <td>1.0</td>\n",
       "      <td>8.0</td>\n",
       "      <td>9973.0</td>\n",
       "      <td>1.0</td>\n",
       "      <td>0.0</td>\n",
       "    </tr>\n",
       "    <tr>\n",
       "      <th>min</th>\n",
       "      <td>0.0</td>\n",
       "      <td>18.0</td>\n",
       "      <td>5300.0</td>\n",
       "      <td>0.0</td>\n",
       "      <td>0.0</td>\n",
       "    </tr>\n",
       "    <tr>\n",
       "      <th>25%</th>\n",
       "      <td>0.0</td>\n",
       "      <td>24.0</td>\n",
       "      <td>33200.0</td>\n",
       "      <td>0.0</td>\n",
       "      <td>0.0</td>\n",
       "    </tr>\n",
       "    <tr>\n",
       "      <th>50%</th>\n",
       "      <td>0.0</td>\n",
       "      <td>30.0</td>\n",
       "      <td>40200.0</td>\n",
       "      <td>1.0</td>\n",
       "      <td>0.0</td>\n",
       "    </tr>\n",
       "    <tr>\n",
       "      <th>75%</th>\n",
       "      <td>1.0</td>\n",
       "      <td>37.0</td>\n",
       "      <td>46600.0</td>\n",
       "      <td>2.0</td>\n",
       "      <td>0.0</td>\n",
       "    </tr>\n",
       "    <tr>\n",
       "      <th>max</th>\n",
       "      <td>1.0</td>\n",
       "      <td>65.0</td>\n",
       "      <td>79000.0</td>\n",
       "      <td>6.0</td>\n",
       "      <td>5.0</td>\n",
       "    </tr>\n",
       "  </tbody>\n",
       "</table>\n",
       "</div>"
      ],
      "text/plain": [
       "          пол  возраст  зарплата  члены семьи  страховые выплаты\n",
       "count  4847.0   4847.0    4847.0       4847.0             4847.0\n",
       "mean      0.0     31.0   39896.0          1.0                0.0\n",
       "std       1.0      8.0    9973.0          1.0                0.0\n",
       "min       0.0     18.0    5300.0          0.0                0.0\n",
       "25%       0.0     24.0   33200.0          0.0                0.0\n",
       "50%       0.0     30.0   40200.0          1.0                0.0\n",
       "75%       1.0     37.0   46600.0          2.0                0.0\n",
       "max       1.0     65.0   79000.0          6.0                5.0"
      ]
     },
     "execution_count": 5,
     "metadata": {},
     "output_type": "execute_result"
    }
   ],
   "source": [
    "round(data.describe(),)"
   ]
  },
  {
   "cell_type": "markdown",
   "metadata": {},
   "source": [
    "В данных была проведена предобработка. Удалены возможные явные дубликаты, столбцы с  плавающий запятой приведены в целочисленный тип. В целом данные выглядят правдоподобно."
   ]
  },
  {
   "cell_type": "code",
   "execution_count": 6,
   "metadata": {},
   "outputs": [
    {
     "data": {
      "image/png": "[encoded data removed]",
      "text/plain": [
       "<Figure size 833.125x720 with 20 Axes>"
      ]
     },
     "metadata": {},
     "output_type": "display_data"
    }
   ],
   "source": [
    "sns.set_style('darkgrid')\n",
    "sns.pairplot(data, hue='страховые выплаты', height=2.5, diag_kind='hist')\n",
    "plt.suptitle(\"Графики зависимости целевого признака\", y=1, fontsize=10)\n",
    "plt.show()"
   ]
  },
  {
   "cell_type": "code",
   "execution_count": 7,
   "metadata": {},
   "outputs": [],
   "source": [
    "features=data.drop(['страховые выплаты'],axis=1)\n",
    "target=data['страховые выплаты']"
   ]
  },
  {
   "cell_type": "code",
   "execution_count": 8,
   "metadata": {},
   "outputs": [],
   "source": [
    "random = 12345"
   ]
  },
  {
   "cell_type": "markdown",
   "metadata": {},
   "source": [
    "## Умножение матриц"
   ]
  },
  {
   "cell_type": "markdown",
   "metadata": {},
   "source": [
    "Обозначения:\n",
    "\n",
    "- $X$ — матрица признаков (нулевой столбец состоит из единиц)\n",
    "\n",
    "- $y$ — вектор целевого признака\n",
    "\n",
    "- $P$ — матрица, на которую умножаются признаки\n",
    "\n",
    "- $w$ — вектор весов линейной регрессии (нулевой элемент равен сдвигу)"
   ]
  },
  {
   "cell_type": "markdown",
   "metadata": {},
   "source": [
    "Предсказания:\n",
    "\n",
    "$$\n",
    "a = Xw\n",
    "$$\n",
    "\n",
    "Задача обучения:\n",
    "\n",
    "$$\n",
    "w = \\arg\\min_w MSE(Xw, y)\n",
    "$$\n",
    "\n",
    "Формула обучения:\n",
    "\n",
    "$$\n",
    "w = (X^T X)^{-1} X^T y\n",
    "$$\n",
    "\n",
    "Умножим на матрицу:\n",
    "\n",
    "$$\n",
    "w' = ((XP)^T XP)^{-1} (XP)^T y\n",
    "$$"
   ]
  },
  {
   "cell_type": "markdown",
   "metadata": {},
   "source": [
    "**Ответ:**  Качество линейной регрессии не изменится.\n",
    "\n",
    "\n",
    "**Обоснование:**  \n",
    "докажем $Xw = XPw1$\n",
    "\n",
    "\n",
    "$$\n",
    "X(X^T X)^{-1} X^T y = XP((XP)^T XP)^{-1} (XP)^T y \n",
    "$$\n",
    "\n",
    "$$\n",
    "(X^T X)^{-1} X^T = P((XP)^T XP)^{-1} (XP)^T\n",
    "$$\n",
    "\n",
    "$$\n",
    "(X^T X)^{-1} X^T = P(P^T X^T XP)^{-1} (XP)^T\n",
    "$$\n",
    "\n",
    "$$\n",
    "(X^T X)^{-1} X^T = PP^{-1}(X^T X)^{-1} X^TP^TP^{-T}\n",
    "$$\n",
    "\n",
    "$$\n",
    "(X^T X)^{-1} X^T = (X^T X)^{-1} X^T\n",
    "$$\n",
    "\n",
    "Равенство подтверждено, что и требовалось доказать."
   ]
  },
  {
   "cell_type": "markdown",
   "metadata": {},
   "source": [
    "## Алгоритм преобразования"
   ]
  },
  {
   "attachments": {
    "Image.png": {
     "image/png": "[encoded data removed]"
    }
   },
   "cell_type": "markdown",
   "metadata": {},
   "source": [
    "**Алгоритм**\n",
    "\n",
    "Для шифрования выберем алгоритм умножения матрицы признаков на обратимую, которая в свою очередь будет формироваться случайным образом. В качестве иллючтрации процесса умножения, приведу формулу из теории:\n",
    "![Image.png](attachment:Image.png)\n",
    "\n",
    "\n",
    "Последовательность действий:\n",
    "\n",
    "- Создадим случайную матрицу (P)\n",
    "\n",
    "- Проверка на возможную обратимость\n",
    "\n",
    "- Если матрица P обратима, то выполняется умножение признаков на новую матрицу и обозначим её Создаём новую матрицу данных (Z)\n",
    "\n",
    "- Присваиваем значение 1 новой измененной матрице\n",
    "\n",
    "- Вычисляем вектор $ w = (X^T X)^{-1} X^T y $\n",
    "\n",
    "- Предсказание модели методом умножения выбрки M и увеличиние на величину сдвига w0 значение. Переменную предсказанных значений обозначим a\n",
    "\n",
    "- Проверим качество моделей r2 b MSE\n"
   ]
  },
  {
   "cell_type": "markdown",
   "metadata": {},
   "source": [
    "**Обоснование**\n",
    "Вышедоказанное равенство позволяет при умножении признаков на обратимую матрицу сделать предсказания в виде произведения  изменённой таблицы с признаками, умноженными на вектор, полученный из той же таблицы с изменёнными данными и увеличенный на ту же величину, что и признаки. \n"
   ]
  },
  {
   "cell_type": "markdown",
   "metadata": {},
   "source": [
    "## Проверка алгоритма"
   ]
  },
  {
   "cell_type": "code",
   "execution_count": 9,
   "metadata": {},
   "outputs": [],
   "source": [
    "class LinearRegression:\n",
    "    \n",
    "    def fit(self, X, y):\n",
    "        X = np.concatenate((np.ones((X.shape[0], 1)), X), axis=1)        \n",
    "        self.w = np.linalg.inv(X.T @ X) @ X.T @ y\n",
    "        \n",
    "    def fit_encryption_1(self, X, y):\n",
    "        X = np.concatenate((np.ones((X.shape[0], 1)), X), axis=1)\n",
    "        self.P = np.random.normal(0, 100, (5,5))\n",
    "        Z = X @ self.P\n",
    "        self.w = np.linalg.inv(Z.T @ Z) @ Z.T @ y\n",
    "    \n",
    " \n",
    "    def predict_1(self, features):\n",
    "        X = np.concatenate((np.ones((features.shape[0], 1)), features), axis=1)\n",
    "        a = X @ self.w\n",
    "        return a\n",
    "    \n",
    "    def predict_encryption_1(self, features):\n",
    "        X = np.concatenate((np.ones((features.shape[0], 1)), features), axis=1)        \n",
    "        Z = X @ self.P\n",
    "        a_1 = Z @ self.w\n",
    "        return a_1   \n",
    "    \n",
    "    def fit_encryption_2(self, X, y):\n",
    "        self.P = np.random.normal(0, 100, (4,4))\n",
    "        try:\n",
    "            p_inv = np.linalg.inv(self.P)\n",
    "            Z = X @ self.P\n",
    "            Z = np.concatenate((np.ones((Z.shape[0], 1)), Z), axis=1)\n",
    "            self.w = np.linalg.inv(Z.T @ Z) @ Z.T @ y\n",
    "        except:\n",
    "            print('Матрица p необратима')\n",
    "    \n",
    "    def predict_2(self, X):\n",
    "        X = np.concatenate((np.ones((X.shape[0], 1)), X), axis=1)\n",
    "        a = X @ self.w\n",
    "        return a\n",
    "    \n",
    "    def predict_encryption_2(self, X):\n",
    "        self.Z = X @ self.P\n",
    "        self.Z_ = np.concatenate((np.ones((self.Z.shape[0], 1)), self.Z), axis=1)\n",
    "        a_1 = self.Z_ @ self.w\n",
    "        return a_1\n",
    "    "
   ]
  },
  {
   "cell_type": "code",
   "execution_count": 10,
   "metadata": {},
   "outputs": [
    {
     "name": "stdout",
     "output_type": "stream",
     "text": [
      "[ 0.51932879  0.69230097  0.09412745 ... -0.26164511 -0.19394186\n",
      "  0.05044763]\n",
      "[ 0.51933071  0.69230154  0.09412522 ... -0.26164707 -0.19394306\n",
      "  0.05044771]\n"
     ]
    }
   ],
   "source": [
    "# прогнозная модель для матрицы признаков\n",
    "model_1 = LinearRegression()\n",
    "model_1.fit(features, target)\n",
    "predictions_X = model_1.predict_1(features)\n",
    "\n",
    "\n",
    "# прогнозная модель для зашифрованной матрицы\n",
    "model_1.fit_encryption_1(features, target)\n",
    "predictions_Z = model_1.predict_encryption_1(features)\n",
    "\n",
    "print(predictions_X)\n",
    "print(predictions_Z)"
   ]
  },
  {
   "cell_type": "code",
   "execution_count": 11,
   "metadata": {},
   "outputs": [
    {
     "name": "stdout",
     "output_type": "stream",
     "text": [
      "Качество модели не изменилось 0.43\n"
     ]
    }
   ],
   "source": [
    "# Проверка качества модели\n",
    "r2_lin1 = round(r2_score(target, predictions_Z), 3)\n",
    "if round(r2_score(target, predictions_X), 3) == r2_lin1 :\n",
    "    print('Качество модели не изменилось', r2_lin1)\n",
    "elif round(r2_score(target, predictions_X), 3) < r2_lin1:\n",
    "    print('Качество модели ухудшилось')    \n",
    "else:\n",
    "    print('Ошибка')    "
   ]
  },
  {
   "cell_type": "code",
   "execution_count": 12,
   "metadata": {},
   "outputs": [
    {
     "name": "stdout",
     "output_type": "stream",
     "text": [
      "[ 0.51932879  0.69230097  0.09412745 ... -0.26164511 -0.19394186\n",
      "  0.05044763]\n",
      "[ 0.51932884  0.69230102  0.09412751 ... -0.26164506 -0.19394181\n",
      "  0.05044768]\n"
     ]
    }
   ],
   "source": [
    "# прогнозная модель для матрицы признаков\n",
    "model_2 = LinearRegression()\n",
    "model_2.fit(features, target)\n",
    "predictions_X = model_2.predict_2(features)\n",
    "\n",
    "\n",
    "# прогнозная модель для зашифрованной матрицы\n",
    "model_2.fit_encryption_2(features, target)\n",
    "predictions_Z = model_2.predict_encryption_2(features)\n",
    "\n",
    "print(predictions_X)\n",
    "print(predictions_Z)"
   ]
  },
  {
   "cell_type": "code",
   "execution_count": 13,
   "metadata": {},
   "outputs": [
    {
     "name": "stdout",
     "output_type": "stream",
     "text": [
      "Качество модели не изменилось 0.43\n"
     ]
    }
   ],
   "source": [
    "# Проверка качества модели\n",
    "r2_lin2 = round(r2_score(target, predictions_Z), 3)\n",
    "if round(r2_score(target, predictions_X), 3) == r2_lin2 :\n",
    "    print('Качество модели не изменилось', r2_lin1)\n",
    "elif round(r2_score(target, predictions_X), 3) < r2_lin2:\n",
    "    print('Качество модели ухудшилось')    \n",
    "else:\n",
    "    print('Ошибка') "
   ]
  },
  {
   "cell_type": "markdown",
   "metadata": {},
   "source": [
    "Целью данной работы было защита данных пользователей с помощью шифрования. ТЗ требовало сохранения качества данных посли шифровки. Для реализации данной задачи был выбран алгоритм преобразования данных с помощью умножения признаков исходных данных на обратимую матрицу, в результате появилась новая матрица зашифрованных данных. В качестве проверки использовалась метрика r2 \n",
    "Показатели качества моделей подтверждены. А это значит, что выбранный алгоритм шифрования верен."
   ]
  }
 ],
 "metadata": {
  "ExecuteTimeLog": [
   {
    "duration": 408,
    "start_time": "2023-06-27T19:57:17.999Z"
   },
   {
    "duration": 166,
    "start_time": "2023-06-27T19:57:18.561Z"
   },
   {
    "duration": 21,
    "start_time": "2023-06-27T19:57:19.053Z"
   },
   {
    "duration": 24,
    "start_time": "2023-06-27T20:00:15.502Z"
   },
   {
    "duration": 24,
    "start_time": "2023-06-27T20:00:18.849Z"
   },
   {
    "duration": 73,
    "start_time": "2023-06-27T20:02:28.531Z"
   },
   {
    "duration": 5,
    "start_time": "2023-06-27T20:02:37.928Z"
   },
   {
    "duration": 27,
    "start_time": "2023-06-27T20:03:51.907Z"
   },
   {
    "duration": 26,
    "start_time": "2023-06-27T20:05:02.614Z"
   },
   {
    "duration": 27,
    "start_time": "2023-06-27T20:09:07.731Z"
   },
   {
    "duration": 26,
    "start_time": "2023-06-27T20:09:53.900Z"
   },
   {
    "duration": 41,
    "start_time": "2023-06-27T20:30:06.508Z"
   },
   {
    "duration": 59,
    "start_time": "2023-06-27T20:31:12.572Z"
   },
   {
    "duration": 52,
    "start_time": "2023-06-27T20:32:29.312Z"
   },
   {
    "duration": 45,
    "start_time": "2023-06-27T20:32:40.643Z"
   },
   {
    "duration": 44,
    "start_time": "2023-06-27T20:32:44.700Z"
   },
   {
    "duration": 413,
    "start_time": "2023-06-28T19:16:51.360Z"
   },
   {
    "duration": 296,
    "start_time": "2023-06-28T19:16:51.776Z"
   },
   {
    "duration": 20,
    "start_time": "2023-06-28T19:16:52.074Z"
   },
   {
    "duration": 25,
    "start_time": "2023-06-28T19:16:52.096Z"
   },
   {
    "duration": 53,
    "start_time": "2023-06-28T19:16:52.123Z"
   },
   {
    "duration": 416,
    "start_time": "2023-06-28T19:25:00.444Z"
   },
   {
    "duration": 119,
    "start_time": "2023-06-28T19:25:00.863Z"
   },
   {
    "duration": 51,
    "start_time": "2023-06-28T19:25:00.985Z"
   },
   {
    "duration": 31,
    "start_time": "2023-06-28T19:25:01.037Z"
   },
   {
    "duration": 68,
    "start_time": "2023-06-28T19:25:01.070Z"
   },
   {
    "duration": 56,
    "start_time": "2023-06-28T19:25:01.140Z"
   },
   {
    "duration": 362,
    "start_time": "2023-06-28T19:27:14.502Z"
   },
   {
    "duration": 180,
    "start_time": "2023-06-28T19:27:14.866Z"
   },
   {
    "duration": 32,
    "start_time": "2023-06-28T19:27:15.048Z"
   },
   {
    "duration": 9,
    "start_time": "2023-06-28T19:27:15.081Z"
   },
   {
    "duration": 83,
    "start_time": "2023-06-28T19:27:15.092Z"
   },
   {
    "duration": 0,
    "start_time": "2023-06-28T19:27:15.176Z"
   },
   {
    "duration": 14,
    "start_time": "2023-06-28T19:28:01.397Z"
   },
   {
    "duration": 14,
    "start_time": "2023-06-28T19:28:58.793Z"
   },
   {
    "duration": 18,
    "start_time": "2023-06-28T19:29:35.045Z"
   },
   {
    "duration": 367,
    "start_time": "2023-06-28T19:30:05.485Z"
   },
   {
    "duration": 126,
    "start_time": "2023-06-28T19:30:05.854Z"
   },
   {
    "duration": 32,
    "start_time": "2023-06-28T19:30:05.982Z"
   },
   {
    "duration": 9,
    "start_time": "2023-06-28T19:30:06.015Z"
   },
   {
    "duration": 14,
    "start_time": "2023-06-28T19:30:06.026Z"
   },
   {
    "duration": 34,
    "start_time": "2023-06-28T19:30:06.042Z"
   },
   {
    "duration": 68,
    "start_time": "2023-06-28T19:39:12.318Z"
   },
   {
    "duration": 11,
    "start_time": "2023-06-28T19:39:22.761Z"
   },
   {
    "duration": 3,
    "start_time": "2023-06-28T19:40:00.999Z"
   },
   {
    "duration": 698,
    "start_time": "2023-06-28T19:41:19.169Z"
   },
   {
    "duration": 2,
    "start_time": "2023-06-28T19:41:56.836Z"
   },
   {
    "duration": 42,
    "start_time": "2023-06-28T19:43:29.713Z"
   },
   {
    "duration": 11,
    "start_time": "2023-07-02T13:35:45.713Z"
   },
   {
    "duration": 1150,
    "start_time": "2023-07-02T13:35:56.474Z"
   },
   {
    "duration": 197,
    "start_time": "2023-07-02T13:35:57.626Z"
   },
   {
    "duration": 21,
    "start_time": "2023-07-02T13:35:57.824Z"
   },
   {
    "duration": 16,
    "start_time": "2023-07-02T13:35:57.848Z"
   },
   {
    "duration": 27,
    "start_time": "2023-07-02T13:35:57.867Z"
   },
   {
    "duration": 25,
    "start_time": "2023-07-02T13:35:57.896Z"
   },
   {
    "duration": 11,
    "start_time": "2023-07-02T13:35:57.923Z"
   },
   {
    "duration": 16,
    "start_time": "2023-07-02T13:35:57.936Z"
   },
   {
    "duration": 12,
    "start_time": "2023-07-02T13:41:15.867Z"
   },
   {
    "duration": 1106,
    "start_time": "2023-07-02T13:49:57.397Z"
   },
   {
    "duration": 137,
    "start_time": "2023-07-02T13:49:58.504Z"
   },
   {
    "duration": 23,
    "start_time": "2023-07-02T13:49:58.642Z"
   },
   {
    "duration": 23,
    "start_time": "2023-07-02T13:49:58.666Z"
   },
   {
    "duration": 28,
    "start_time": "2023-07-02T13:49:58.692Z"
   },
   {
    "duration": 4,
    "start_time": "2023-07-02T13:49:58.721Z"
   },
   {
    "duration": 9,
    "start_time": "2023-07-02T13:49:58.727Z"
   },
   {
    "duration": 8,
    "start_time": "2023-07-02T13:49:58.738Z"
   },
   {
    "duration": 18,
    "start_time": "2023-07-02T13:49:58.747Z"
   },
   {
    "duration": 111,
    "start_time": "2023-07-02T13:50:18.308Z"
   },
   {
    "duration": 3,
    "start_time": "2023-07-02T13:51:20.155Z"
   },
   {
    "duration": 11,
    "start_time": "2023-07-02T13:51:29.008Z"
   },
   {
    "duration": 21,
    "start_time": "2023-07-02T13:52:05.627Z"
   },
   {
    "duration": 23,
    "start_time": "2023-07-02T13:52:10.444Z"
   },
   {
    "duration": 1235,
    "start_time": "2023-07-02T13:52:38.894Z"
   },
   {
    "duration": 99,
    "start_time": "2023-07-02T13:52:40.131Z"
   },
   {
    "duration": 16,
    "start_time": "2023-07-02T13:52:40.232Z"
   },
   {
    "duration": 22,
    "start_time": "2023-07-02T13:52:40.249Z"
   },
   {
    "duration": 32,
    "start_time": "2023-07-02T13:52:40.275Z"
   },
   {
    "duration": 5,
    "start_time": "2023-07-02T13:52:40.309Z"
   },
   {
    "duration": 5,
    "start_time": "2023-07-02T13:52:40.316Z"
   },
   {
    "duration": 9,
    "start_time": "2023-07-02T13:52:40.322Z"
   },
   {
    "duration": 8,
    "start_time": "2023-07-02T13:52:40.332Z"
   },
   {
    "duration": 57,
    "start_time": "2023-07-02T13:52:40.342Z"
   },
   {
    "duration": 70,
    "start_time": "2023-07-02T13:52:40.401Z"
   },
   {
    "duration": 119,
    "start_time": "2023-07-02T13:54:04.551Z"
   },
   {
    "duration": 103,
    "start_time": "2023-07-02T13:55:56.759Z"
   },
   {
    "duration": 5,
    "start_time": "2023-07-02T13:55:59.549Z"
   },
   {
    "duration": 1133,
    "start_time": "2023-07-02T13:59:22.754Z"
   },
   {
    "duration": 115,
    "start_time": "2023-07-02T13:59:23.889Z"
   },
   {
    "duration": 20,
    "start_time": "2023-07-02T13:59:24.006Z"
   },
   {
    "duration": 19,
    "start_time": "2023-07-02T13:59:24.029Z"
   },
   {
    "duration": 35,
    "start_time": "2023-07-02T13:59:24.050Z"
   },
   {
    "duration": 6,
    "start_time": "2023-07-02T13:59:24.087Z"
   },
   {
    "duration": 9,
    "start_time": "2023-07-02T13:59:24.095Z"
   },
   {
    "duration": 11,
    "start_time": "2023-07-02T13:59:24.106Z"
   },
   {
    "duration": 13,
    "start_time": "2023-07-02T13:59:24.119Z"
   },
   {
    "duration": 49,
    "start_time": "2023-07-02T13:59:24.136Z"
   },
   {
    "duration": 106,
    "start_time": "2023-07-02T13:59:24.260Z"
   },
   {
    "duration": 22,
    "start_time": "2023-07-02T13:59:24.369Z"
   },
   {
    "duration": 83,
    "start_time": "2023-07-02T13:59:24.393Z"
   },
   {
    "duration": 90,
    "start_time": "2023-07-02T13:59:24.477Z"
   },
   {
    "duration": 91,
    "start_time": "2023-07-02T13:59:24.570Z"
   },
   {
    "duration": 8,
    "start_time": "2023-07-02T13:59:24.664Z"
   },
   {
    "duration": 5,
    "start_time": "2023-07-02T14:00:02.998Z"
   },
   {
    "duration": 1241,
    "start_time": "2023-07-02T14:00:11.748Z"
   },
   {
    "duration": 89,
    "start_time": "2023-07-02T14:00:12.992Z"
   },
   {
    "duration": 15,
    "start_time": "2023-07-02T14:00:13.082Z"
   },
   {
    "duration": 38,
    "start_time": "2023-07-02T14:00:13.100Z"
   },
   {
    "duration": 50,
    "start_time": "2023-07-02T14:00:13.139Z"
   },
   {
    "duration": 4,
    "start_time": "2023-07-02T14:00:13.192Z"
   },
   {
    "duration": 8,
    "start_time": "2023-07-02T14:00:13.198Z"
   },
   {
    "duration": 17,
    "start_time": "2023-07-02T14:00:13.207Z"
   },
   {
    "duration": 8,
    "start_time": "2023-07-02T14:00:13.225Z"
   },
   {
    "duration": 253,
    "start_time": "2023-07-02T14:00:13.235Z"
   },
   {
    "duration": 75,
    "start_time": "2023-07-02T14:00:13.490Z"
   },
   {
    "duration": 99,
    "start_time": "2023-07-02T14:00:13.570Z"
   },
   {
    "duration": 84,
    "start_time": "2023-07-02T14:00:13.681Z"
   },
   {
    "duration": 99,
    "start_time": "2023-07-02T14:00:13.770Z"
   },
   {
    "duration": 6,
    "start_time": "2023-07-02T14:00:13.875Z"
   },
   {
    "duration": 106,
    "start_time": "2023-07-02T14:00:13.883Z"
   },
   {
    "duration": 86,
    "start_time": "2023-07-02T14:00:14.076Z"
   },
   {
    "duration": 13,
    "start_time": "2023-07-02T14:24:34.025Z"
   },
   {
    "duration": 25,
    "start_time": "2023-07-02T14:24:44.962Z"
   },
   {
    "duration": 111,
    "start_time": "2023-07-02T14:29:14.601Z"
   },
   {
    "duration": 5,
    "start_time": "2023-07-02T14:29:23.421Z"
   },
   {
    "duration": 1195,
    "start_time": "2023-07-02T14:31:30.549Z"
   },
   {
    "duration": 102,
    "start_time": "2023-07-02T14:31:31.746Z"
   },
   {
    "duration": 16,
    "start_time": "2023-07-02T14:31:31.850Z"
   },
   {
    "duration": 23,
    "start_time": "2023-07-02T14:31:31.872Z"
   },
   {
    "duration": 23,
    "start_time": "2023-07-02T14:31:31.897Z"
   },
   {
    "duration": 4,
    "start_time": "2023-07-02T14:31:31.922Z"
   },
   {
    "duration": 17,
    "start_time": "2023-07-02T14:31:31.927Z"
   },
   {
    "duration": 40,
    "start_time": "2023-07-02T14:31:31.946Z"
   },
   {
    "duration": 38,
    "start_time": "2023-07-02T14:31:31.987Z"
   },
   {
    "duration": 138,
    "start_time": "2023-07-02T14:31:32.027Z"
   },
   {
    "duration": 9,
    "start_time": "2023-07-02T14:31:32.167Z"
   },
   {
    "duration": 101,
    "start_time": "2023-07-02T14:31:32.178Z"
   },
   {
    "duration": 94,
    "start_time": "2023-07-02T14:31:32.281Z"
   },
   {
    "duration": 1133,
    "start_time": "2023-07-02T14:42:08.648Z"
   },
   {
    "duration": 93,
    "start_time": "2023-07-02T14:42:09.782Z"
   },
   {
    "duration": 15,
    "start_time": "2023-07-02T14:42:09.877Z"
   },
   {
    "duration": 13,
    "start_time": "2023-07-02T14:42:09.894Z"
   },
   {
    "duration": 24,
    "start_time": "2023-07-02T14:42:09.908Z"
   },
   {
    "duration": 26,
    "start_time": "2023-07-02T14:42:09.934Z"
   },
   {
    "duration": 8,
    "start_time": "2023-07-02T14:42:09.964Z"
   },
   {
    "duration": 6,
    "start_time": "2023-07-02T14:42:09.974Z"
   },
   {
    "duration": 6,
    "start_time": "2023-07-02T14:42:09.981Z"
   },
   {
    "duration": 12,
    "start_time": "2023-07-02T14:42:09.990Z"
   },
   {
    "duration": 94,
    "start_time": "2023-07-02T14:42:10.067Z"
   },
   {
    "duration": 24,
    "start_time": "2023-07-02T14:42:10.162Z"
   },
   {
    "duration": 15,
    "start_time": "2023-07-02T14:42:10.261Z"
   },
   {
    "duration": 1210,
    "start_time": "2023-07-02T19:53:21.614Z"
   },
   {
    "duration": 79,
    "start_time": "2023-07-02T19:53:22.827Z"
   },
   {
    "duration": 18,
    "start_time": "2023-07-02T19:53:22.908Z"
   },
   {
    "duration": 17,
    "start_time": "2023-07-02T19:53:22.928Z"
   },
   {
    "duration": 74,
    "start_time": "2023-07-02T19:53:22.948Z"
   },
   {
    "duration": 4,
    "start_time": "2023-07-02T19:53:23.024Z"
   },
   {
    "duration": 10,
    "start_time": "2023-07-02T19:53:23.029Z"
   },
   {
    "duration": 10,
    "start_time": "2023-07-02T19:53:23.040Z"
   },
   {
    "duration": 8,
    "start_time": "2023-07-02T19:53:23.052Z"
   },
   {
    "duration": 50,
    "start_time": "2023-07-02T19:53:23.062Z"
   },
   {
    "duration": 94,
    "start_time": "2023-07-02T19:53:23.113Z"
   },
   {
    "duration": 108,
    "start_time": "2023-07-02T19:53:23.209Z"
   },
   {
    "duration": 93,
    "start_time": "2023-07-02T19:53:23.319Z"
   },
   {
    "duration": 1081,
    "start_time": "2023-07-03T03:26:17.678Z"
   },
   {
    "duration": 141,
    "start_time": "2023-07-03T03:26:18.760Z"
   },
   {
    "duration": 14,
    "start_time": "2023-07-03T03:26:18.902Z"
   },
   {
    "duration": 12,
    "start_time": "2023-07-03T03:26:18.918Z"
   },
   {
    "duration": 20,
    "start_time": "2023-07-03T03:26:18.931Z"
   },
   {
    "duration": 3,
    "start_time": "2023-07-03T03:26:18.953Z"
   },
   {
    "duration": 13,
    "start_time": "2023-07-03T03:26:18.957Z"
   },
   {
    "duration": 21,
    "start_time": "2023-07-03T03:26:18.971Z"
   },
   {
    "duration": 10,
    "start_time": "2023-07-03T03:26:18.994Z"
   },
   {
    "duration": 12,
    "start_time": "2023-07-03T03:26:19.006Z"
   },
   {
    "duration": 181,
    "start_time": "2023-07-03T03:26:19.020Z"
   },
   {
    "duration": 13,
    "start_time": "2023-07-03T03:26:19.203Z"
   },
   {
    "duration": 83,
    "start_time": "2023-07-03T03:26:19.218Z"
   },
   {
    "duration": 1131,
    "start_time": "2023-07-03T21:05:43.375Z"
   },
   {
    "duration": 145,
    "start_time": "2023-07-03T21:05:44.508Z"
   },
   {
    "duration": 15,
    "start_time": "2023-07-03T21:05:44.655Z"
   },
   {
    "duration": 16,
    "start_time": "2023-07-03T21:05:44.671Z"
   },
   {
    "duration": 24,
    "start_time": "2023-07-03T21:05:44.690Z"
   },
   {
    "duration": 3,
    "start_time": "2023-07-03T21:05:44.716Z"
   },
   {
    "duration": 11,
    "start_time": "2023-07-03T21:05:44.720Z"
   },
   {
    "duration": 9,
    "start_time": "2023-07-03T21:05:44.732Z"
   },
   {
    "duration": 7,
    "start_time": "2023-07-03T21:05:44.742Z"
   },
   {
    "duration": 15,
    "start_time": "2023-07-03T21:05:44.750Z"
   },
   {
    "duration": 41,
    "start_time": "2023-07-03T21:05:44.766Z"
   },
   {
    "duration": 94,
    "start_time": "2023-07-03T21:05:44.809Z"
   },
   {
    "duration": 209,
    "start_time": "2023-07-03T21:05:44.905Z"
   },
   {
    "duration": 999,
    "start_time": "2023-07-03T21:08:35.650Z"
   },
   {
    "duration": 73,
    "start_time": "2023-07-03T21:08:36.651Z"
   },
   {
    "duration": 14,
    "start_time": "2023-07-03T21:08:36.725Z"
   },
   {
    "duration": 12,
    "start_time": "2023-07-03T21:08:36.741Z"
   },
   {
    "duration": 22,
    "start_time": "2023-07-03T21:08:36.754Z"
   },
   {
    "duration": 3,
    "start_time": "2023-07-03T21:08:36.777Z"
   },
   {
    "duration": 3,
    "start_time": "2023-07-03T21:08:36.782Z"
   },
   {
    "duration": 18,
    "start_time": "2023-07-03T21:08:36.787Z"
   },
   {
    "duration": 99,
    "start_time": "2023-07-03T21:08:36.806Z"
   },
   {
    "duration": 0,
    "start_time": "2023-07-03T21:08:36.906Z"
   },
   {
    "duration": 0,
    "start_time": "2023-07-03T21:08:36.907Z"
   },
   {
    "duration": 0,
    "start_time": "2023-07-03T21:08:36.908Z"
   },
   {
    "duration": 6,
    "start_time": "2023-07-03T21:08:58.375Z"
   },
   {
    "duration": 5,
    "start_time": "2023-07-03T21:09:01.696Z"
   },
   {
    "duration": 19,
    "start_time": "2023-07-03T21:09:02.782Z"
   },
   {
    "duration": 7,
    "start_time": "2023-07-03T21:12:36.267Z"
   },
   {
    "duration": 10,
    "start_time": "2023-07-03T21:12:38.671Z"
   },
   {
    "duration": 4,
    "start_time": "2023-07-03T21:12:40.813Z"
   },
   {
    "duration": 7,
    "start_time": "2023-07-03T21:12:42.301Z"
   },
   {
    "duration": 5,
    "start_time": "2023-07-03T21:12:44.045Z"
   },
   {
    "duration": 978,
    "start_time": "2023-07-03T21:13:23.454Z"
   },
   {
    "duration": 75,
    "start_time": "2023-07-03T21:13:24.433Z"
   },
   {
    "duration": 13,
    "start_time": "2023-07-03T21:13:24.509Z"
   },
   {
    "duration": 13,
    "start_time": "2023-07-03T21:13:24.523Z"
   },
   {
    "duration": 23,
    "start_time": "2023-07-03T21:13:24.537Z"
   },
   {
    "duration": 3,
    "start_time": "2023-07-03T21:13:24.561Z"
   },
   {
    "duration": 5,
    "start_time": "2023-07-03T21:13:24.565Z"
   },
   {
    "duration": 6,
    "start_time": "2023-07-03T21:13:24.572Z"
   },
   {
    "duration": 6,
    "start_time": "2023-07-03T21:13:24.599Z"
   },
   {
    "duration": 100,
    "start_time": "2023-07-03T21:13:24.607Z"
   },
   {
    "duration": 127,
    "start_time": "2023-07-03T21:13:24.708Z"
   },
   {
    "duration": 63,
    "start_time": "2023-07-03T21:13:24.838Z"
   },
   {
    "duration": 6,
    "start_time": "2023-07-03T21:14:34.457Z"
   },
   {
    "duration": 68,
    "start_time": "2023-07-03T21:14:37.032Z"
   },
   {
    "duration": 5,
    "start_time": "2023-07-03T21:14:37.980Z"
   },
   {
    "duration": 286,
    "start_time": "2023-07-03T21:14:39.485Z"
   },
   {
    "duration": 993,
    "start_time": "2023-07-03T21:20:41.162Z"
   },
   {
    "duration": 79,
    "start_time": "2023-07-03T21:20:42.157Z"
   },
   {
    "duration": 14,
    "start_time": "2023-07-03T21:20:42.237Z"
   },
   {
    "duration": 13,
    "start_time": "2023-07-03T21:20:42.252Z"
   },
   {
    "duration": 20,
    "start_time": "2023-07-03T21:20:42.266Z"
   },
   {
    "duration": 2,
    "start_time": "2023-07-03T21:20:42.288Z"
   },
   {
    "duration": 4,
    "start_time": "2023-07-03T21:20:42.292Z"
   },
   {
    "duration": 7,
    "start_time": "2023-07-03T21:20:42.297Z"
   },
   {
    "duration": 9,
    "start_time": "2023-07-03T21:20:42.305Z"
   },
   {
    "duration": 190,
    "start_time": "2023-07-03T21:20:42.316Z"
   },
   {
    "duration": 265,
    "start_time": "2023-07-03T21:20:42.508Z"
   },
   {
    "duration": 0,
    "start_time": "2023-07-03T21:20:42.774Z"
   },
   {
    "duration": 1014,
    "start_time": "2023-07-03T21:22:28.015Z"
   },
   {
    "duration": 95,
    "start_time": "2023-07-03T21:22:29.031Z"
   },
   {
    "duration": 13,
    "start_time": "2023-07-03T21:22:29.128Z"
   },
   {
    "duration": 11,
    "start_time": "2023-07-03T21:22:29.143Z"
   },
   {
    "duration": 21,
    "start_time": "2023-07-03T21:22:29.156Z"
   },
   {
    "duration": 4,
    "start_time": "2023-07-03T21:22:29.178Z"
   },
   {
    "duration": 9,
    "start_time": "2023-07-03T21:22:29.183Z"
   },
   {
    "duration": 12,
    "start_time": "2023-07-03T21:22:29.194Z"
   },
   {
    "duration": 267,
    "start_time": "2023-07-03T21:22:29.207Z"
   },
   {
    "duration": 0,
    "start_time": "2023-07-03T21:22:29.476Z"
   },
   {
    "duration": 0,
    "start_time": "2023-07-03T21:22:29.477Z"
   },
   {
    "duration": 0,
    "start_time": "2023-07-03T21:22:29.479Z"
   },
   {
    "duration": 7,
    "start_time": "2023-07-03T21:22:44.708Z"
   },
   {
    "duration": 5,
    "start_time": "2023-07-03T21:22:45.522Z"
   },
   {
    "duration": 11,
    "start_time": "2023-07-03T21:22:46.206Z"
   },
   {
    "duration": 9,
    "start_time": "2023-07-03T21:22:52.875Z"
   },
   {
    "duration": 4,
    "start_time": "2023-07-03T21:22:54.353Z"
   },
   {
    "duration": 1045,
    "start_time": "2023-07-03T21:23:04.613Z"
   },
   {
    "duration": 69,
    "start_time": "2023-07-03T21:23:05.660Z"
   },
   {
    "duration": 14,
    "start_time": "2023-07-03T21:23:05.730Z"
   },
   {
    "duration": 16,
    "start_time": "2023-07-03T21:23:05.745Z"
   },
   {
    "duration": 22,
    "start_time": "2023-07-03T21:23:05.762Z"
   },
   {
    "duration": 3,
    "start_time": "2023-07-03T21:23:05.786Z"
   },
   {
    "duration": 3,
    "start_time": "2023-07-03T21:23:05.791Z"
   },
   {
    "duration": 10,
    "start_time": "2023-07-03T21:23:05.796Z"
   },
   {
    "duration": 12,
    "start_time": "2023-07-03T21:23:05.807Z"
   },
   {
    "duration": 188,
    "start_time": "2023-07-03T21:23:05.822Z"
   },
   {
    "duration": 13,
    "start_time": "2023-07-03T21:23:06.012Z"
   },
   {
    "duration": 76,
    "start_time": "2023-07-03T21:23:06.027Z"
   },
   {
    "duration": 1089,
    "start_time": "2023-07-04T05:53:25.338Z"
   },
   {
    "duration": 150,
    "start_time": "2023-07-04T05:53:26.428Z"
   },
   {
    "duration": 14,
    "start_time": "2023-07-04T05:53:26.579Z"
   },
   {
    "duration": 23,
    "start_time": "2023-07-04T05:53:26.595Z"
   },
   {
    "duration": 28,
    "start_time": "2023-07-04T05:53:26.620Z"
   },
   {
    "duration": 5,
    "start_time": "2023-07-04T05:53:26.651Z"
   },
   {
    "duration": 24,
    "start_time": "2023-07-04T05:53:26.657Z"
   },
   {
    "duration": 22,
    "start_time": "2023-07-04T05:53:26.682Z"
   },
   {
    "duration": 37,
    "start_time": "2023-07-04T05:53:26.705Z"
   },
   {
    "duration": 197,
    "start_time": "2023-07-04T05:53:26.746Z"
   },
   {
    "duration": 43,
    "start_time": "2023-07-04T05:53:26.945Z"
   },
   {
    "duration": 170,
    "start_time": "2023-07-04T05:53:26.990Z"
   },
   {
    "duration": 1075,
    "start_time": "2023-07-04T10:49:48.859Z"
   },
   {
    "duration": 141,
    "start_time": "2023-07-04T10:49:49.936Z"
   },
   {
    "duration": 15,
    "start_time": "2023-07-04T10:49:50.079Z"
   },
   {
    "duration": 24,
    "start_time": "2023-07-04T10:49:50.095Z"
   },
   {
    "duration": 30,
    "start_time": "2023-07-04T10:49:50.120Z"
   },
   {
    "duration": 93,
    "start_time": "2023-07-04T10:49:50.151Z"
   },
   {
    "duration": 0,
    "start_time": "2023-07-04T10:49:50.246Z"
   },
   {
    "duration": 0,
    "start_time": "2023-07-04T10:49:50.247Z"
   },
   {
    "duration": 0,
    "start_time": "2023-07-04T10:49:50.248Z"
   },
   {
    "duration": 0,
    "start_time": "2023-07-04T10:49:50.249Z"
   },
   {
    "duration": 0,
    "start_time": "2023-07-04T10:49:50.251Z"
   },
   {
    "duration": 0,
    "start_time": "2023-07-04T10:49:50.252Z"
   },
   {
    "duration": 0,
    "start_time": "2023-07-04T10:49:50.253Z"
   },
   {
    "duration": 1588,
    "start_time": "2023-07-04T10:50:26.818Z"
   },
   {
    "duration": 212,
    "start_time": "2023-07-04T10:50:28.407Z"
   },
   {
    "duration": 14,
    "start_time": "2023-07-04T10:50:28.620Z"
   },
   {
    "duration": 20,
    "start_time": "2023-07-04T10:50:28.635Z"
   },
   {
    "duration": 44,
    "start_time": "2023-07-04T10:50:28.656Z"
   },
   {
    "duration": 4231,
    "start_time": "2023-07-04T10:50:28.701Z"
   },
   {
    "duration": 0,
    "start_time": "2023-07-04T10:50:32.934Z"
   },
   {
    "duration": 0,
    "start_time": "2023-07-04T10:50:32.936Z"
   },
   {
    "duration": 0,
    "start_time": "2023-07-04T10:50:32.937Z"
   },
   {
    "duration": 1,
    "start_time": "2023-07-04T10:50:32.938Z"
   },
   {
    "duration": 0,
    "start_time": "2023-07-04T10:50:32.940Z"
   },
   {
    "duration": 0,
    "start_time": "2023-07-04T10:50:32.941Z"
   },
   {
    "duration": 1,
    "start_time": "2023-07-04T10:50:32.942Z"
   },
   {
    "duration": 5323,
    "start_time": "2023-07-04T10:51:09.891Z"
   },
   {
    "duration": 7734,
    "start_time": "2023-07-04T10:51:56.034Z"
   },
   {
    "duration": 4,
    "start_time": "2023-07-04T10:52:27.413Z"
   },
   {
    "duration": 79,
    "start_time": "2023-07-04T10:52:28.119Z"
   },
   {
    "duration": 1359,
    "start_time": "2023-07-04T10:52:41.354Z"
   },
   {
    "duration": 75,
    "start_time": "2023-07-04T10:52:42.715Z"
   },
   {
    "duration": 22,
    "start_time": "2023-07-04T10:52:42.793Z"
   },
   {
    "duration": 18,
    "start_time": "2023-07-04T10:52:42.816Z"
   },
   {
    "duration": 40,
    "start_time": "2023-07-04T10:52:42.836Z"
   },
   {
    "duration": 7186,
    "start_time": "2023-07-04T10:52:42.878Z"
   },
   {
    "duration": 4,
    "start_time": "2023-07-04T10:52:50.065Z"
   },
   {
    "duration": 31,
    "start_time": "2023-07-04T10:52:50.070Z"
   },
   {
    "duration": 139,
    "start_time": "2023-07-04T10:52:50.102Z"
   },
   {
    "duration": 50,
    "start_time": "2023-07-04T10:52:50.243Z"
   },
   {
    "duration": 85,
    "start_time": "2023-07-04T10:52:50.296Z"
   },
   {
    "duration": 124,
    "start_time": "2023-07-04T10:52:50.383Z"
   },
   {
    "duration": 169,
    "start_time": "2023-07-04T10:52:50.509Z"
   },
   {
    "duration": 7730,
    "start_time": "2023-07-04T10:54:25.509Z"
   },
   {
    "duration": 7768,
    "start_time": "2023-07-04T10:55:47.454Z"
   },
   {
    "duration": 7428,
    "start_time": "2023-07-04T10:56:10.109Z"
   },
   {
    "duration": 7332,
    "start_time": "2023-07-04T10:56:58.708Z"
   },
   {
    "duration": 1456,
    "start_time": "2023-07-04T10:57:48.808Z"
   },
   {
    "duration": 279,
    "start_time": "2023-07-04T10:57:50.266Z"
   },
   {
    "duration": 14,
    "start_time": "2023-07-04T10:57:50.546Z"
   },
   {
    "duration": 20,
    "start_time": "2023-07-04T10:57:50.562Z"
   },
   {
    "duration": 26,
    "start_time": "2023-07-04T10:57:50.584Z"
   },
   {
    "duration": 7764,
    "start_time": "2023-07-04T10:57:50.612Z"
   },
   {
    "duration": 3,
    "start_time": "2023-07-04T10:57:58.378Z"
   },
   {
    "duration": 6,
    "start_time": "2023-07-04T10:57:58.383Z"
   },
   {
    "duration": 152,
    "start_time": "2023-07-04T10:57:58.391Z"
   },
   {
    "duration": 34,
    "start_time": "2023-07-04T10:57:58.545Z"
   },
   {
    "duration": 194,
    "start_time": "2023-07-04T10:57:58.581Z"
   },
   {
    "duration": 18,
    "start_time": "2023-07-04T10:57:58.777Z"
   },
   {
    "duration": 85,
    "start_time": "2023-07-04T10:57:58.797Z"
   },
   {
    "duration": 7468,
    "start_time": "2023-07-04T10:58:17.309Z"
   },
   {
    "duration": 2402,
    "start_time": "2023-07-04T10:58:44.474Z"
   },
   {
    "duration": 105,
    "start_time": "2023-07-04T10:58:46.878Z"
   },
   {
    "duration": 13,
    "start_time": "2023-07-04T10:58:46.985Z"
   },
   {
    "duration": 14,
    "start_time": "2023-07-04T10:58:47.000Z"
   },
   {
    "duration": 23,
    "start_time": "2023-07-04T10:58:47.016Z"
   },
   {
    "duration": 7412,
    "start_time": "2023-07-04T10:58:47.040Z"
   },
   {
    "duration": 4,
    "start_time": "2023-07-04T10:58:54.454Z"
   },
   {
    "duration": 13,
    "start_time": "2023-07-04T10:58:54.460Z"
   },
   {
    "duration": 128,
    "start_time": "2023-07-04T10:58:54.474Z"
   },
   {
    "duration": 26,
    "start_time": "2023-07-04T10:58:54.604Z"
   },
   {
    "duration": 145,
    "start_time": "2023-07-04T10:58:54.632Z"
   },
   {
    "duration": 12,
    "start_time": "2023-07-04T10:58:54.778Z"
   },
   {
    "duration": 189,
    "start_time": "2023-07-04T10:58:54.793Z"
   },
   {
    "duration": 1452,
    "start_time": "2023-07-04T11:00:50.919Z"
   },
   {
    "duration": 209,
    "start_time": "2023-07-04T11:00:52.373Z"
   },
   {
    "duration": 16,
    "start_time": "2023-07-04T11:00:52.587Z"
   },
   {
    "duration": 48,
    "start_time": "2023-07-04T11:00:52.605Z"
   },
   {
    "duration": 164,
    "start_time": "2023-07-04T11:00:52.655Z"
   },
   {
    "duration": 8187,
    "start_time": "2023-07-04T11:00:52.821Z"
   },
   {
    "duration": 4,
    "start_time": "2023-07-04T11:01:01.010Z"
   },
   {
    "duration": 31,
    "start_time": "2023-07-04T11:01:01.015Z"
   },
   {
    "duration": 150,
    "start_time": "2023-07-04T11:01:01.048Z"
   },
   {
    "duration": 75,
    "start_time": "2023-07-04T11:01:01.201Z"
   },
   {
    "duration": 146,
    "start_time": "2023-07-04T11:01:01.282Z"
   },
   {
    "duration": 93,
    "start_time": "2023-07-04T11:01:01.430Z"
   },
   {
    "duration": 188,
    "start_time": "2023-07-04T11:01:01.526Z"
   },
   {
    "duration": 1563,
    "start_time": "2023-07-05T18:12:10.454Z"
   },
   {
    "duration": 153,
    "start_time": "2023-07-05T18:12:12.019Z"
   },
   {
    "duration": 14,
    "start_time": "2023-07-05T18:12:12.173Z"
   },
   {
    "duration": 17,
    "start_time": "2023-07-05T18:12:12.189Z"
   },
   {
    "duration": 27,
    "start_time": "2023-07-05T18:12:12.208Z"
   },
   {
    "duration": 7715,
    "start_time": "2023-07-05T18:12:12.237Z"
   },
   {
    "duration": 4,
    "start_time": "2023-07-05T18:12:19.953Z"
   },
   {
    "duration": 12,
    "start_time": "2023-07-05T18:12:19.958Z"
   },
   {
    "duration": 142,
    "start_time": "2023-07-05T18:12:19.971Z"
   },
   {
    "duration": 22,
    "start_time": "2023-07-05T18:12:20.116Z"
   },
   {
    "duration": 103,
    "start_time": "2023-07-05T18:12:20.177Z"
   },
   {
    "duration": 93,
    "start_time": "2023-07-05T18:12:20.282Z"
   },
   {
    "duration": 96,
    "start_time": "2023-07-05T18:12:20.378Z"
   },
   {
    "duration": 1513,
    "start_time": "2023-07-05T18:19:23.598Z"
   },
   {
    "duration": 100,
    "start_time": "2023-07-05T18:19:25.113Z"
   },
   {
    "duration": 13,
    "start_time": "2023-07-05T18:19:25.215Z"
   },
   {
    "duration": 27,
    "start_time": "2023-07-05T18:19:25.231Z"
   },
   {
    "duration": 29,
    "start_time": "2023-07-05T18:19:25.260Z"
   },
   {
    "duration": 7973,
    "start_time": "2023-07-05T18:19:25.291Z"
   },
   {
    "duration": 4,
    "start_time": "2023-07-05T18:19:33.266Z"
   },
   {
    "duration": 6,
    "start_time": "2023-07-05T18:19:33.271Z"
   },
   {
    "duration": 163,
    "start_time": "2023-07-05T18:19:33.279Z"
   },
   {
    "duration": 41,
    "start_time": "2023-07-05T18:19:33.444Z"
   },
   {
    "duration": 90,
    "start_time": "2023-07-05T18:19:33.487Z"
   },
   {
    "duration": 106,
    "start_time": "2023-07-05T18:19:33.578Z"
   },
   {
    "duration": 102,
    "start_time": "2023-07-05T18:19:33.686Z"
   }
  ],
  "kernelspec": {
   "display_name": "Python 3 (ipykernel)",
   "language": "python",
   "name": "python3"
  },
  "language_info": {
   "codemirror_mode": {
    "name": "ipython",
    "version": 3
   },
   "file_extension": ".py",
   "mimetype": "text/x-python",
   "name": "python",
   "nbconvert_exporter": "python",
   "pygments_lexer": "ipython3",
   "version": "3.9.12"
  },
  "toc": {
   "base_numbering": 1,
   "nav_menu": {},
   "number_sections": true,
   "sideBar": false,
   "skip_h1_title": true,
   "title_cell": "Содержание",
   "title_sidebar": "Contents",
   "toc_cell": true,
   "toc_position": {
    "height": "707px",
    "left": "97px",
    "top": "141.125px",
    "width": "212px"
   },
   "toc_section_display": false,
   "toc_window_display": true
  }
 },
 "nbformat": 4,
 "nbformat_minor": 2
}
