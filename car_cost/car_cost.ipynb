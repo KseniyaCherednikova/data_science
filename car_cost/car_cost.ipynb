{
 "cells": [
  {
   "cell_type": "markdown",
   "metadata": {},
   "source": [
    "# Определение стоимости автомобилей"
   ]
  },
  {
   "cell_type": "markdown",
   "metadata": {},
   "source": [
    "Сервис по продаже автомобилей с пробегом разрабатывает приложение для привлечения новых клиентов. В нём можно быстро узнать рыночную стоимость своего автомобиля. В вашем распоряжении исторические данные: технические характеристики, комплектации и цены автомобилей. Вам нужно построить модель для определения стоимости. \n",
    "\n",
    "Заказчику важны:\n",
    "\n",
    "- качество предсказания;\n",
    "- скорость предсказания;\n",
    "- время обучения."
   ]
  },
  {
   "cell_type": "markdown",
   "metadata": {},
   "source": [
    "Признаки:\n",
    "- DateCrawled — дата скачивания анкеты из базы\n",
    "- VehicleType — тип автомобильного кузова\n",
    "- RegistrationYear — год регистрации автомобиля\n",
    "- Gearbox — тип коробки передач\n",
    "- Power — мощность (л. с.)\n",
    "- Model — модель автомобиля\n",
    "- Kilometer — пробег (км)\n",
    "- RegistrationMonth — месяц регистрации автомобиля\n",
    "- FuelType — тип топлива\n",
    "- Brand — марка автомобиля\n",
    "- NotRepaired — была машина в ремонте или нет\n",
    "- DateCreated — дата создания анкеты\n",
    "- NumberOfPictures — количество фотографий автомобиля\n",
    "- PostalCode — почтовый индекс владельца анкеты (пользователя)\n",
    "- LastSeen — дата последней активности пользователя\n",
    "\n",
    "Целевой признак:\n",
    "- Price — цена (евро)"
   ]
  },
  {
   "cell_type": "markdown",
   "metadata": {},
   "source": [
    "## Подготовка данных"
   ]
  },
  {
   "cell_type": "code",
   "execution_count": 1,
   "metadata": {},
   "outputs": [],
   "source": [
    "# Библиотеки\n",
    "import matplotlib.pyplot as plt\n",
    "import pandas as pd\n",
    "import numpy as np\n",
    "import seaborn as sns\n",
    "import warnings\n",
    "warnings.filterwarnings('ignore')\n",
    "from sklearn.preprocessing import OrdinalEncoder\n",
    "from sklearn.metrics import mean_absolute_error,mean_squared_error\n",
    "from sklearn.model_selection import train_test_split\n",
    "from sklearn.model_selection import GridSearchCV\n",
    "from sklearn.tree import DecisionTreeRegressor\n",
    "from sklearn.ensemble import RandomForestRegressor\n",
    "from catboost import CatBoostRegressor, cv, train\n",
    "from lightgbm import LGBMRegressor\n",
    "import time\n"
   ]
  },
  {
   "cell_type": "code",
   "execution_count": 2,
   "metadata": {},
   "outputs": [],
   "source": [
    "try:\n",
    "    data = pd.read_csv('C:/Users/Ксения/data_analyst/авто_подбор_цены/autos.csv')\n",
    "except:\n",
    "    data = pd.read_csv('/datasets/autos.csv')"
   ]
  },
  {
   "cell_type": "code",
   "execution_count": 3,
   "metadata": {},
   "outputs": [
    {
     "data": {
      "text/html": [
       "<div>\n",
       "<style scoped>\n",
       "    .dataframe tbody tr th:only-of-type {\n",
       "        vertical-align: middle;\n",
       "    }\n",
       "\n",
       "    .dataframe tbody tr th {\n",
       "        vertical-align: top;\n",
       "    }\n",
       "\n",
       "    .dataframe thead th {\n",
       "        text-align: right;\n",
       "    }\n",
       "</style>\n",
       "<table border=\"1\" class=\"dataframe\">\n",
       "  <thead>\n",
       "    <tr style=\"text-align: right;\">\n",
       "      <th></th>\n",
       "      <th>DateCrawled</th>\n",
       "      <th>Price</th>\n",
       "      <th>VehicleType</th>\n",
       "      <th>RegistrationYear</th>\n",
       "      <th>Gearbox</th>\n",
       "      <th>Power</th>\n",
       "      <th>Model</th>\n",
       "      <th>Kilometer</th>\n",
       "      <th>RegistrationMonth</th>\n",
       "      <th>FuelType</th>\n",
       "      <th>Brand</th>\n",
       "      <th>Repaired</th>\n",
       "      <th>DateCreated</th>\n",
       "      <th>NumberOfPictures</th>\n",
       "      <th>PostalCode</th>\n",
       "      <th>LastSeen</th>\n",
       "    </tr>\n",
       "  </thead>\n",
       "  <tbody>\n",
       "    <tr>\n",
       "      <th>0</th>\n",
       "      <td>2016-03-24 11:52:17</td>\n",
       "      <td>480</td>\n",
       "      <td>NaN</td>\n",
       "      <td>1993</td>\n",
       "      <td>manual</td>\n",
       "      <td>0</td>\n",
       "      <td>golf</td>\n",
       "      <td>150000</td>\n",
       "      <td>0</td>\n",
       "      <td>petrol</td>\n",
       "      <td>volkswagen</td>\n",
       "      <td>NaN</td>\n",
       "      <td>2016-03-24 00:00:00</td>\n",
       "      <td>0</td>\n",
       "      <td>70435</td>\n",
       "      <td>2016-04-07 03:16:57</td>\n",
       "    </tr>\n",
       "    <tr>\n",
       "      <th>1</th>\n",
       "      <td>2016-03-24 10:58:45</td>\n",
       "      <td>18300</td>\n",
       "      <td>coupe</td>\n",
       "      <td>2011</td>\n",
       "      <td>manual</td>\n",
       "      <td>190</td>\n",
       "      <td>NaN</td>\n",
       "      <td>125000</td>\n",
       "      <td>5</td>\n",
       "      <td>gasoline</td>\n",
       "      <td>audi</td>\n",
       "      <td>yes</td>\n",
       "      <td>2016-03-24 00:00:00</td>\n",
       "      <td>0</td>\n",
       "      <td>66954</td>\n",
       "      <td>2016-04-07 01:46:50</td>\n",
       "    </tr>\n",
       "    <tr>\n",
       "      <th>2</th>\n",
       "      <td>2016-03-14 12:52:21</td>\n",
       "      <td>9800</td>\n",
       "      <td>suv</td>\n",
       "      <td>2004</td>\n",
       "      <td>auto</td>\n",
       "      <td>163</td>\n",
       "      <td>grand</td>\n",
       "      <td>125000</td>\n",
       "      <td>8</td>\n",
       "      <td>gasoline</td>\n",
       "      <td>jeep</td>\n",
       "      <td>NaN</td>\n",
       "      <td>2016-03-14 00:00:00</td>\n",
       "      <td>0</td>\n",
       "      <td>90480</td>\n",
       "      <td>2016-04-05 12:47:46</td>\n",
       "    </tr>\n",
       "    <tr>\n",
       "      <th>3</th>\n",
       "      <td>2016-03-17 16:54:04</td>\n",
       "      <td>1500</td>\n",
       "      <td>small</td>\n",
       "      <td>2001</td>\n",
       "      <td>manual</td>\n",
       "      <td>75</td>\n",
       "      <td>golf</td>\n",
       "      <td>150000</td>\n",
       "      <td>6</td>\n",
       "      <td>petrol</td>\n",
       "      <td>volkswagen</td>\n",
       "      <td>no</td>\n",
       "      <td>2016-03-17 00:00:00</td>\n",
       "      <td>0</td>\n",
       "      <td>91074</td>\n",
       "      <td>2016-03-17 17:40:17</td>\n",
       "    </tr>\n",
       "    <tr>\n",
       "      <th>4</th>\n",
       "      <td>2016-03-31 17:25:20</td>\n",
       "      <td>3600</td>\n",
       "      <td>small</td>\n",
       "      <td>2008</td>\n",
       "      <td>manual</td>\n",
       "      <td>69</td>\n",
       "      <td>fabia</td>\n",
       "      <td>90000</td>\n",
       "      <td>7</td>\n",
       "      <td>gasoline</td>\n",
       "      <td>skoda</td>\n",
       "      <td>no</td>\n",
       "      <td>2016-03-31 00:00:00</td>\n",
       "      <td>0</td>\n",
       "      <td>60437</td>\n",
       "      <td>2016-04-06 10:17:21</td>\n",
       "    </tr>\n",
       "  </tbody>\n",
       "</table>\n",
       "</div>"
      ],
      "text/plain": [
       "           DateCrawled  Price VehicleType  RegistrationYear Gearbox  Power  \\\n",
       "0  2016-03-24 11:52:17    480         NaN              1993  manual      0   \n",
       "1  2016-03-24 10:58:45  18300       coupe              2011  manual    190   \n",
       "2  2016-03-14 12:52:21   9800         suv              2004    auto    163   \n",
       "3  2016-03-17 16:54:04   1500       small              2001  manual     75   \n",
       "4  2016-03-31 17:25:20   3600       small              2008  manual     69   \n",
       "\n",
       "   Model  Kilometer  RegistrationMonth  FuelType       Brand Repaired  \\\n",
       "0   golf     150000                  0    petrol  volkswagen      NaN   \n",
       "1    NaN     125000                  5  gasoline        audi      yes   \n",
       "2  grand     125000                  8  gasoline        jeep      NaN   \n",
       "3   golf     150000                  6    petrol  volkswagen       no   \n",
       "4  fabia      90000                  7  gasoline       skoda       no   \n",
       "\n",
       "           DateCreated  NumberOfPictures  PostalCode             LastSeen  \n",
       "0  2016-03-24 00:00:00                 0       70435  2016-04-07 03:16:57  \n",
       "1  2016-03-24 00:00:00                 0       66954  2016-04-07 01:46:50  \n",
       "2  2016-03-14 00:00:00                 0       90480  2016-04-05 12:47:46  \n",
       "3  2016-03-17 00:00:00                 0       91074  2016-03-17 17:40:17  \n",
       "4  2016-03-31 00:00:00                 0       60437  2016-04-06 10:17:21  "
      ]
     },
     "execution_count": 3,
     "metadata": {},
     "output_type": "execute_result"
    }
   ],
   "source": [
    "data.head()"
   ]
  },
  {
   "cell_type": "code",
   "execution_count": 4,
   "metadata": {},
   "outputs": [],
   "source": [
    "data.columns = data.columns.str.lower()"
   ]
  },
  {
   "cell_type": "code",
   "execution_count": 5,
   "metadata": {},
   "outputs": [
    {
     "name": "stdout",
     "output_type": "stream",
     "text": [
      "<class 'pandas.core.frame.DataFrame'>\n",
      "RangeIndex: 354369 entries, 0 to 354368\n",
      "Data columns (total 16 columns):\n",
      " #   Column             Non-Null Count   Dtype \n",
      "---  ------             --------------   ----- \n",
      " 0   datecrawled        354369 non-null  object\n",
      " 1   price              354369 non-null  int64 \n",
      " 2   vehicletype        316879 non-null  object\n",
      " 3   registrationyear   354369 non-null  int64 \n",
      " 4   gearbox            334536 non-null  object\n",
      " 5   power              354369 non-null  int64 \n",
      " 6   model              334664 non-null  object\n",
      " 7   kilometer          354369 non-null  int64 \n",
      " 8   registrationmonth  354369 non-null  int64 \n",
      " 9   fueltype           321474 non-null  object\n",
      " 10  brand              354369 non-null  object\n",
      " 11  repaired           283215 non-null  object\n",
      " 12  datecreated        354369 non-null  object\n",
      " 13  numberofpictures   354369 non-null  int64 \n",
      " 14  postalcode         354369 non-null  int64 \n",
      " 15  lastseen           354369 non-null  object\n",
      "dtypes: int64(7), object(9)\n",
      "memory usage: 43.3+ MB\n"
     ]
    }
   ],
   "source": [
    "data.info()"
   ]
  },
  {
   "cell_type": "code",
   "execution_count": 6,
   "metadata": {},
   "outputs": [],
   "source": [
    "# Удалим ненужные столбцы\n",
    "data = data.drop(['datecrawled', 'registrationmonth', 'datecreated'\n",
    "                  , 'numberofpictures', 'postalcode', 'lastseen'], axis = 1).reset_index(drop=True)"
   ]
  },
  {
   "cell_type": "code",
   "execution_count": 7,
   "metadata": {},
   "outputs": [
    {
     "name": "stdout",
     "output_type": "stream",
     "text": [
      "Пропуски\n"
     ]
    },
    {
     "data": {
      "text/plain": [
       "price                   0\n",
       "vehicletype         37490\n",
       "registrationyear        0\n",
       "gearbox             19833\n",
       "power                   0\n",
       "model               19705\n",
       "kilometer               0\n",
       "fueltype            32895\n",
       "brand                   0\n",
       "repaired            71154\n",
       "dtype: int64"
      ]
     },
     "execution_count": 7,
     "metadata": {},
     "output_type": "execute_result"
    },
    {
     "data": {
      "image/png": "[encoded data removed]",
      "text/plain": [
       "<Figure size 864x648 with 2 Axes>"
      ]
     },
     "metadata": {
      "needs_background": "light"
     },
     "output_type": "display_data"
    }
   ],
   "source": [
    "# Посмотрим на пропуски в датасете\n",
    "colours = ['#D0BBFF', '#FFFEA3'] \n",
    "fig, ax = plt.subplots(figsize=(12,9))\n",
    "print('Пропуски')\n",
    "sns.heatmap(data.isnull(), cmap=sns.color_palette(colours))\n",
    "plt.grid()\n",
    "data.isna().sum()"
   ]
  },
  {
   "cell_type": "markdown",
   "metadata": {},
   "source": [
    "Пропуски имеем в столбце:\n",
    "- тип автомобильного кузова\n",
    "- тип коробки передач\n",
    "- модель автомобиля\n",
    "- тип топлива\n",
    "- ремонт"
   ]
  },
  {
   "cell_type": "code",
   "execution_count": 8,
   "metadata": {},
   "outputs": [],
   "source": [
    "# Заменим пропуски на \"нет данных\"\n",
    "data['repaired']=data['repaired'].fillna('nda')"
   ]
  },
  {
   "cell_type": "code",
   "execution_count": 9,
   "metadata": {},
   "outputs": [],
   "source": [
    "# заменим пропуски на самое популярное топливо\n",
    "data['fueltype'] = data['fueltype'].fillna(data['fueltype'].value_counts(ascending=False).index[0])"
   ]
  },
  {
   "cell_type": "code",
   "execution_count": 10,
   "metadata": {},
   "outputs": [
    {
     "data": {
      "text/plain": [
       "array(['100', '145', '147', '156', '159', '1_reihe', '1er', '200',\n",
       "       '2_reihe', '300c', '3_reihe', '3er', '4_reihe', '500', '5_reihe',\n",
       "       '5er', '601', '6_reihe', '6er', '7er', '80', '850', '90', '900',\n",
       "       '9000', '911', 'a1', 'a2', 'a3', 'a4', 'a5', 'a6', 'a8',\n",
       "       'a_klasse', 'accord', 'agila', 'alhambra', 'almera', 'altea',\n",
       "       'amarok', 'antara', 'arosa', 'astra', 'auris', 'avensis', 'aveo',\n",
       "       'aygo', 'b_klasse', 'b_max', 'beetle', 'berlingo', 'bora',\n",
       "       'boxster', 'bravo', 'c1', 'c2', 'c3', 'c4', 'c5', 'c_klasse',\n",
       "       'c_max', 'c_reihe', 'caddy', 'calibra', 'captiva', 'carisma',\n",
       "       'carnival', 'cayenne', 'cc', 'ceed', 'charade', 'cherokee',\n",
       "       'citigo', 'civic', 'cl', 'clio', 'clk', 'clubman', 'colt', 'combo',\n",
       "       'cooper', 'cordoba', 'corolla', 'corsa', 'cr_reihe', 'croma',\n",
       "       'crossfire', 'cuore', 'cx_reihe', 'defender', 'delta', 'discovery',\n",
       "       'doblo', 'ducato', 'duster', 'e_klasse', 'elefantino', 'eos',\n",
       "       'escort', 'espace', 'exeo', 'fabia', 'fiesta', 'focus', 'forester',\n",
       "       'forfour', 'fortwo', 'fox', 'freelander', 'fusion', 'g_klasse',\n",
       "       'galant', 'galaxy', 'getz', 'gl', 'glk', 'golf', 'grand', 'i3',\n",
       "       'i_reihe', 'ibiza', 'impreza', 'insignia', 'jazz', 'jetta',\n",
       "       'jimny', 'juke', 'justy', 'ka', 'kadett', 'kaefer', 'kalina',\n",
       "       'kalos', 'kangoo', 'kappa', 'kuga', 'laguna', 'lancer', 'lanos',\n",
       "       'legacy', 'leon', 'lodgy', 'logan', 'lupo', 'lybra', 'm_klasse',\n",
       "       'm_reihe', 'materia', 'matiz', 'megane', 'meriva', 'micra', 'mii',\n",
       "       'modus', 'mondeo', 'move', 'musa', 'mustang', 'mx_reihe', 'navara',\n",
       "       'niva', 'note', 'nubira', 'octavia', 'omega', 'one', 'other',\n",
       "       'outlander', 'pajero', 'panda', 'passat', 'phaeton', 'picanto',\n",
       "       'polo', 'primera', 'ptcruiser', 'punto', 'q3', 'q5', 'q7',\n",
       "       'qashqai', 'r19', 'range_rover', 'range_rover_evoque',\n",
       "       'range_rover_sport', 'rangerover', 'rav', 'rio', 'roadster',\n",
       "       'roomster', 'rx_reihe', 's60', 's_klasse', 's_max', 's_type',\n",
       "       'samara', 'sandero', 'santa', 'scenic', 'scirocco', 'seicento',\n",
       "       'serie_1', 'serie_2', 'serie_3', 'sharan', 'signum', 'sirion',\n",
       "       'sl', 'slk', 'sorento', 'spark', 'spider', 'sportage', 'sprinter',\n",
       "       'stilo', 'superb', 'swift', 'terios', 'tigra', 'tiguan', 'toledo',\n",
       "       'touareg', 'touran', 'transit', 'transporter', 'tt', 'tucson',\n",
       "       'twingo', 'up', 'v40', 'v50', 'v60', 'v70', 'v_klasse', 'vectra',\n",
       "       'verso', 'viano', 'vito', 'vivaro', 'voyager', 'wrangler',\n",
       "       'x_reihe', 'x_trail', 'x_type', 'xc_reihe', 'yaris', 'yeti',\n",
       "       'ypsilon', 'z_reihe', 'zafira', nan], dtype=object)"
      ]
     },
     "execution_count": 10,
     "metadata": {},
     "output_type": "execute_result"
    }
   ],
   "source": [
    "# Проверим модели\n",
    "data['model'].sort_values().unique()"
   ]
  },
  {
   "cell_type": "code",
   "execution_count": 11,
   "metadata": {},
   "outputs": [
    {
     "data": {
      "text/plain": [
       "249"
      ]
     },
     "execution_count": 11,
     "metadata": {},
     "output_type": "execute_result"
    }
   ],
   "source": [
    "# Избавимся от неявного дубликата\n",
    "data.loc[data['model']=='rangerover', 'model'] = 'range_rover'\n",
    "data['model'].nunique()"
   ]
  },
  {
   "cell_type": "code",
   "execution_count": 12,
   "metadata": {},
   "outputs": [
    {
     "data": {
      "text/plain": [
       "array(['alfa_romeo', 'audi', 'bmw', 'chevrolet', 'chrysler', 'citroen',\n",
       "       'dacia', 'daewoo', 'daihatsu', 'fiat', 'ford', 'honda', 'hyundai',\n",
       "       'jaguar', 'jeep', 'kia', 'lada', 'lancia', 'land_rover', 'mazda',\n",
       "       'mercedes_benz', 'mini', 'mitsubishi', 'nissan', 'opel', 'peugeot',\n",
       "       'porsche', 'renault', 'rover', 'saab', 'seat', 'skoda', 'smart',\n",
       "       'sonstige_autos', 'subaru', 'suzuki', 'toyota', 'trabant',\n",
       "       'volkswagen', 'volvo'], dtype=object)"
      ]
     },
     "execution_count": 12,
     "metadata": {},
     "output_type": "execute_result"
    }
   ],
   "source": [
    "data['brand'].sort_values().unique()"
   ]
  },
  {
   "cell_type": "code",
   "execution_count": 13,
   "metadata": {},
   "outputs": [
    {
     "data": {
      "text/html": [
       "<div>\n",
       "<style scoped>\n",
       "    .dataframe tbody tr th:only-of-type {\n",
       "        vertical-align: middle;\n",
       "    }\n",
       "\n",
       "    .dataframe tbody tr th {\n",
       "        vertical-align: top;\n",
       "    }\n",
       "\n",
       "    .dataframe thead th {\n",
       "        text-align: right;\n",
       "    }\n",
       "</style>\n",
       "<table border=\"1\" class=\"dataframe\">\n",
       "  <thead>\n",
       "    <tr style=\"text-align: right;\">\n",
       "      <th></th>\n",
       "      <th>model</th>\n",
       "      <th>alternative_vehicletype</th>\n",
       "      <th>numb</th>\n",
       "    </tr>\n",
       "  </thead>\n",
       "  <tbody>\n",
       "    <tr>\n",
       "      <th>0</th>\n",
       "      <td>golf</td>\n",
       "      <td>sedan</td>\n",
       "      <td>14744</td>\n",
       "    </tr>\n",
       "    <tr>\n",
       "      <th>1</th>\n",
       "      <td>corsa</td>\n",
       "      <td>small</td>\n",
       "      <td>10499</td>\n",
       "    </tr>\n",
       "    <tr>\n",
       "      <th>2</th>\n",
       "      <td>polo</td>\n",
       "      <td>small</td>\n",
       "      <td>10267</td>\n",
       "    </tr>\n",
       "    <tr>\n",
       "      <th>3</th>\n",
       "      <td>3er</td>\n",
       "      <td>sedan</td>\n",
       "      <td>8087</td>\n",
       "    </tr>\n",
       "    <tr>\n",
       "      <th>4</th>\n",
       "      <td>passat</td>\n",
       "      <td>wagon</td>\n",
       "      <td>7134</td>\n",
       "    </tr>\n",
       "  </tbody>\n",
       "</table>\n",
       "</div>"
      ],
      "text/plain": [
       "    model alternative_vehicletype   numb\n",
       "0    golf                   sedan  14744\n",
       "1   corsa                   small  10499\n",
       "2    polo                   small  10267\n",
       "3     3er                   sedan   8087\n",
       "4  passat                   wagon   7134"
      ]
     },
     "execution_count": 13,
     "metadata": {},
     "output_type": "execute_result"
    }
   ],
   "source": [
    "# соберем популярные модели и их тип кузова\n",
    "model_vehicletype = data[['model', 'vehicletype']].dropna().value_counts(ascending = False).reset_index()\n",
    "model_vehicletype.columns=['model','alternative_vehicletype','numb'] \n",
    "model_vehicletype.head()"
   ]
  },
  {
   "cell_type": "code",
   "execution_count": 14,
   "metadata": {},
   "outputs": [],
   "source": [
    "# Соберем популярные типы кузовов каждой модели\n",
    "def fillna_skip(column_1, column_2, column_3):\n",
    "    column_1_list = data[data[column_2].isna()==True][column_1].dropna().unique()\n",
    "    column_2_list = []\n",
    "    for i in column_1_list:\n",
    "        column_data = model_vehicletype[model_vehicletype[column_1]==i].reset_index(drop=True)\n",
    "        vehicletype = column_data[column_3][0]\n",
    "        column_2_list.append(vehicletype)\n",
    "    data_new = pd.DataFrame(column_1_list, columns = [column_1])\n",
    "    data_new[column_3] = column_2_list\n",
    "    return data_new"
   ]
  },
  {
   "cell_type": "code",
   "execution_count": 15,
   "metadata": {},
   "outputs": [
    {
     "data": {
      "text/html": [
       "<div>\n",
       "<style scoped>\n",
       "    .dataframe tbody tr th:only-of-type {\n",
       "        vertical-align: middle;\n",
       "    }\n",
       "\n",
       "    .dataframe tbody tr th {\n",
       "        vertical-align: top;\n",
       "    }\n",
       "\n",
       "    .dataframe thead th {\n",
       "        text-align: right;\n",
       "    }\n",
       "</style>\n",
       "<table border=\"1\" class=\"dataframe\">\n",
       "  <thead>\n",
       "    <tr style=\"text-align: right;\">\n",
       "      <th></th>\n",
       "      <th>price</th>\n",
       "      <th>vehicletype</th>\n",
       "      <th>registrationyear</th>\n",
       "      <th>gearbox</th>\n",
       "      <th>power</th>\n",
       "      <th>model</th>\n",
       "      <th>kilometer</th>\n",
       "      <th>fueltype</th>\n",
       "      <th>brand</th>\n",
       "      <th>repaired</th>\n",
       "      <th>alternative_vehicletype</th>\n",
       "    </tr>\n",
       "  </thead>\n",
       "  <tbody>\n",
       "    <tr>\n",
       "      <th>0</th>\n",
       "      <td>480</td>\n",
       "      <td>NaN</td>\n",
       "      <td>1993</td>\n",
       "      <td>manual</td>\n",
       "      <td>0</td>\n",
       "      <td>golf</td>\n",
       "      <td>150000</td>\n",
       "      <td>petrol</td>\n",
       "      <td>volkswagen</td>\n",
       "      <td>nda</td>\n",
       "      <td>sedan</td>\n",
       "    </tr>\n",
       "    <tr>\n",
       "      <th>1</th>\n",
       "      <td>18300</td>\n",
       "      <td>coupe</td>\n",
       "      <td>2011</td>\n",
       "      <td>manual</td>\n",
       "      <td>190</td>\n",
       "      <td>NaN</td>\n",
       "      <td>125000</td>\n",
       "      <td>gasoline</td>\n",
       "      <td>audi</td>\n",
       "      <td>yes</td>\n",
       "      <td>NaN</td>\n",
       "    </tr>\n",
       "    <tr>\n",
       "      <th>2</th>\n",
       "      <td>9800</td>\n",
       "      <td>suv</td>\n",
       "      <td>2004</td>\n",
       "      <td>auto</td>\n",
       "      <td>163</td>\n",
       "      <td>grand</td>\n",
       "      <td>125000</td>\n",
       "      <td>gasoline</td>\n",
       "      <td>jeep</td>\n",
       "      <td>nda</td>\n",
       "      <td>suv</td>\n",
       "    </tr>\n",
       "    <tr>\n",
       "      <th>3</th>\n",
       "      <td>1500</td>\n",
       "      <td>small</td>\n",
       "      <td>2001</td>\n",
       "      <td>manual</td>\n",
       "      <td>75</td>\n",
       "      <td>golf</td>\n",
       "      <td>150000</td>\n",
       "      <td>petrol</td>\n",
       "      <td>volkswagen</td>\n",
       "      <td>no</td>\n",
       "      <td>sedan</td>\n",
       "    </tr>\n",
       "    <tr>\n",
       "      <th>4</th>\n",
       "      <td>3600</td>\n",
       "      <td>small</td>\n",
       "      <td>2008</td>\n",
       "      <td>manual</td>\n",
       "      <td>69</td>\n",
       "      <td>fabia</td>\n",
       "      <td>90000</td>\n",
       "      <td>gasoline</td>\n",
       "      <td>skoda</td>\n",
       "      <td>no</td>\n",
       "      <td>small</td>\n",
       "    </tr>\n",
       "  </tbody>\n",
       "</table>\n",
       "</div>"
      ],
      "text/plain": [
       "   price vehicletype  registrationyear gearbox  power  model  kilometer  \\\n",
       "0    480         NaN              1993  manual      0   golf     150000   \n",
       "1  18300       coupe              2011  manual    190    NaN     125000   \n",
       "2   9800         suv              2004    auto    163  grand     125000   \n",
       "3   1500       small              2001  manual     75   golf     150000   \n",
       "4   3600       small              2008  manual     69  fabia      90000   \n",
       "\n",
       "   fueltype       brand repaired alternative_vehicletype  \n",
       "0    petrol  volkswagen      nda                   sedan  \n",
       "1  gasoline        audi      yes                     NaN  \n",
       "2  gasoline        jeep      nda                     suv  \n",
       "3    petrol  volkswagen       no                   sedan  \n",
       "4  gasoline       skoda       no                   small  "
      ]
     },
     "execution_count": 15,
     "metadata": {},
     "output_type": "execute_result"
    }
   ],
   "source": [
    "data_new = fillna_skip('model','vehicletype', 'alternative_vehicletype' )\n",
    "data = data.merge(data_new, on = 'model', how = 'left')\n",
    "data.head()"
   ]
  },
  {
   "cell_type": "code",
   "execution_count": 16,
   "metadata": {},
   "outputs": [
    {
     "data": {
      "text/html": [
       "<div>\n",
       "<style scoped>\n",
       "    .dataframe tbody tr th:only-of-type {\n",
       "        vertical-align: middle;\n",
       "    }\n",
       "\n",
       "    .dataframe tbody tr th {\n",
       "        vertical-align: top;\n",
       "    }\n",
       "\n",
       "    .dataframe thead th {\n",
       "        text-align: right;\n",
       "    }\n",
       "</style>\n",
       "<table border=\"1\" class=\"dataframe\">\n",
       "  <thead>\n",
       "    <tr style=\"text-align: right;\">\n",
       "      <th></th>\n",
       "      <th>price</th>\n",
       "      <th>vehicletype</th>\n",
       "      <th>registrationyear</th>\n",
       "      <th>gearbox</th>\n",
       "      <th>power</th>\n",
       "      <th>model</th>\n",
       "      <th>kilometer</th>\n",
       "      <th>fueltype</th>\n",
       "      <th>brand</th>\n",
       "      <th>repaired</th>\n",
       "    </tr>\n",
       "  </thead>\n",
       "  <tbody>\n",
       "    <tr>\n",
       "      <th>283608</th>\n",
       "      <td>1300</td>\n",
       "      <td>small</td>\n",
       "      <td>2009</td>\n",
       "      <td>manual</td>\n",
       "      <td>67</td>\n",
       "      <td>i_reihe</td>\n",
       "      <td>20000</td>\n",
       "      <td>petrol</td>\n",
       "      <td>hyundai</td>\n",
       "      <td>yes</td>\n",
       "    </tr>\n",
       "    <tr>\n",
       "      <th>173888</th>\n",
       "      <td>9200</td>\n",
       "      <td>bus</td>\n",
       "      <td>2016</td>\n",
       "      <td>manual</td>\n",
       "      <td>105</td>\n",
       "      <td>touran</td>\n",
       "      <td>150000</td>\n",
       "      <td>petrol</td>\n",
       "      <td>volkswagen</td>\n",
       "      <td>no</td>\n",
       "    </tr>\n",
       "    <tr>\n",
       "      <th>319513</th>\n",
       "      <td>7300</td>\n",
       "      <td>wagon</td>\n",
       "      <td>2005</td>\n",
       "      <td>manual</td>\n",
       "      <td>143</td>\n",
       "      <td>c_klasse</td>\n",
       "      <td>125000</td>\n",
       "      <td>petrol</td>\n",
       "      <td>mercedes_benz</td>\n",
       "      <td>no</td>\n",
       "    </tr>\n",
       "    <tr>\n",
       "      <th>156934</th>\n",
       "      <td>2400</td>\n",
       "      <td>wagon</td>\n",
       "      <td>2000</td>\n",
       "      <td>manual</td>\n",
       "      <td>140</td>\n",
       "      <td>v70</td>\n",
       "      <td>150000</td>\n",
       "      <td>petrol</td>\n",
       "      <td>volvo</td>\n",
       "      <td>no</td>\n",
       "    </tr>\n",
       "    <tr>\n",
       "      <th>209382</th>\n",
       "      <td>1100</td>\n",
       "      <td>small</td>\n",
       "      <td>2002</td>\n",
       "      <td>NaN</td>\n",
       "      <td>0</td>\n",
       "      <td>NaN</td>\n",
       "      <td>100000</td>\n",
       "      <td>petrol</td>\n",
       "      <td>smart</td>\n",
       "      <td>nda</td>\n",
       "    </tr>\n",
       "    <tr>\n",
       "      <th>240573</th>\n",
       "      <td>3450</td>\n",
       "      <td>small</td>\n",
       "      <td>2008</td>\n",
       "      <td>manual</td>\n",
       "      <td>67</td>\n",
       "      <td>i_reihe</td>\n",
       "      <td>80000</td>\n",
       "      <td>petrol</td>\n",
       "      <td>hyundai</td>\n",
       "      <td>no</td>\n",
       "    </tr>\n",
       "    <tr>\n",
       "      <th>45654</th>\n",
       "      <td>3999</td>\n",
       "      <td>sedan</td>\n",
       "      <td>2002</td>\n",
       "      <td>manual</td>\n",
       "      <td>163</td>\n",
       "      <td>e_klasse</td>\n",
       "      <td>150000</td>\n",
       "      <td>petrol</td>\n",
       "      <td>mercedes_benz</td>\n",
       "      <td>no</td>\n",
       "    </tr>\n",
       "    <tr>\n",
       "      <th>174513</th>\n",
       "      <td>2550</td>\n",
       "      <td>coupe</td>\n",
       "      <td>1999</td>\n",
       "      <td>manual</td>\n",
       "      <td>163</td>\n",
       "      <td>clk</td>\n",
       "      <td>150000</td>\n",
       "      <td>petrol</td>\n",
       "      <td>mercedes_benz</td>\n",
       "      <td>no</td>\n",
       "    </tr>\n",
       "    <tr>\n",
       "      <th>137665</th>\n",
       "      <td>2400</td>\n",
       "      <td>sedan</td>\n",
       "      <td>1997</td>\n",
       "      <td>manual</td>\n",
       "      <td>116</td>\n",
       "      <td>golf</td>\n",
       "      <td>150000</td>\n",
       "      <td>petrol</td>\n",
       "      <td>volkswagen</td>\n",
       "      <td>no</td>\n",
       "    </tr>\n",
       "    <tr>\n",
       "      <th>108573</th>\n",
       "      <td>500</td>\n",
       "      <td>sedan</td>\n",
       "      <td>1997</td>\n",
       "      <td>manual</td>\n",
       "      <td>75</td>\n",
       "      <td>astra</td>\n",
       "      <td>150000</td>\n",
       "      <td>petrol</td>\n",
       "      <td>opel</td>\n",
       "      <td>no</td>\n",
       "    </tr>\n",
       "    <tr>\n",
       "      <th>253331</th>\n",
       "      <td>19900</td>\n",
       "      <td>bus</td>\n",
       "      <td>2010</td>\n",
       "      <td>auto</td>\n",
       "      <td>150</td>\n",
       "      <td>viano</td>\n",
       "      <td>150000</td>\n",
       "      <td>gasoline</td>\n",
       "      <td>mercedes_benz</td>\n",
       "      <td>no</td>\n",
       "    </tr>\n",
       "    <tr>\n",
       "      <th>96016</th>\n",
       "      <td>15500</td>\n",
       "      <td>bus</td>\n",
       "      <td>2010</td>\n",
       "      <td>manual</td>\n",
       "      <td>145</td>\n",
       "      <td>other</td>\n",
       "      <td>125000</td>\n",
       "      <td>gasoline</td>\n",
       "      <td>renault</td>\n",
       "      <td>yes</td>\n",
       "    </tr>\n",
       "    <tr>\n",
       "      <th>51635</th>\n",
       "      <td>1</td>\n",
       "      <td>NaN</td>\n",
       "      <td>2000</td>\n",
       "      <td>NaN</td>\n",
       "      <td>0</td>\n",
       "      <td>NaN</td>\n",
       "      <td>30000</td>\n",
       "      <td>petrol</td>\n",
       "      <td>sonstige_autos</td>\n",
       "      <td>nda</td>\n",
       "    </tr>\n",
       "    <tr>\n",
       "      <th>181572</th>\n",
       "      <td>500</td>\n",
       "      <td>small</td>\n",
       "      <td>2000</td>\n",
       "      <td>manual</td>\n",
       "      <td>60</td>\n",
       "      <td>polo</td>\n",
       "      <td>150000</td>\n",
       "      <td>petrol</td>\n",
       "      <td>volkswagen</td>\n",
       "      <td>no</td>\n",
       "    </tr>\n",
       "    <tr>\n",
       "      <th>311616</th>\n",
       "      <td>800</td>\n",
       "      <td>small</td>\n",
       "      <td>1997</td>\n",
       "      <td>manual</td>\n",
       "      <td>75</td>\n",
       "      <td>corsa</td>\n",
       "      <td>90000</td>\n",
       "      <td>petrol</td>\n",
       "      <td>opel</td>\n",
       "      <td>no</td>\n",
       "    </tr>\n",
       "    <tr>\n",
       "      <th>224919</th>\n",
       "      <td>9500</td>\n",
       "      <td>bus</td>\n",
       "      <td>2010</td>\n",
       "      <td>manual</td>\n",
       "      <td>140</td>\n",
       "      <td>caddy</td>\n",
       "      <td>150000</td>\n",
       "      <td>gasoline</td>\n",
       "      <td>volkswagen</td>\n",
       "      <td>no</td>\n",
       "    </tr>\n",
       "    <tr>\n",
       "      <th>266583</th>\n",
       "      <td>4550</td>\n",
       "      <td>sedan</td>\n",
       "      <td>2002</td>\n",
       "      <td>auto</td>\n",
       "      <td>116</td>\n",
       "      <td>passat</td>\n",
       "      <td>90000</td>\n",
       "      <td>petrol</td>\n",
       "      <td>volkswagen</td>\n",
       "      <td>no</td>\n",
       "    </tr>\n",
       "    <tr>\n",
       "      <th>198858</th>\n",
       "      <td>699</td>\n",
       "      <td>small</td>\n",
       "      <td>1999</td>\n",
       "      <td>manual</td>\n",
       "      <td>58</td>\n",
       "      <td>twingo</td>\n",
       "      <td>150000</td>\n",
       "      <td>petrol</td>\n",
       "      <td>renault</td>\n",
       "      <td>yes</td>\n",
       "    </tr>\n",
       "    <tr>\n",
       "      <th>345190</th>\n",
       "      <td>1990</td>\n",
       "      <td>small</td>\n",
       "      <td>2004</td>\n",
       "      <td>manual</td>\n",
       "      <td>61</td>\n",
       "      <td>fortwo</td>\n",
       "      <td>125000</td>\n",
       "      <td>petrol</td>\n",
       "      <td>smart</td>\n",
       "      <td>no</td>\n",
       "    </tr>\n",
       "    <tr>\n",
       "      <th>157029</th>\n",
       "      <td>2999</td>\n",
       "      <td>small</td>\n",
       "      <td>2002</td>\n",
       "      <td>manual</td>\n",
       "      <td>102</td>\n",
       "      <td>a3</td>\n",
       "      <td>150000</td>\n",
       "      <td>petrol</td>\n",
       "      <td>audi</td>\n",
       "      <td>no</td>\n",
       "    </tr>\n",
       "  </tbody>\n",
       "</table>\n",
       "</div>"
      ],
      "text/plain": [
       "        price vehicletype  registrationyear gearbox  power     model  \\\n",
       "283608   1300       small              2009  manual     67   i_reihe   \n",
       "173888   9200         bus              2016  manual    105    touran   \n",
       "319513   7300       wagon              2005  manual    143  c_klasse   \n",
       "156934   2400       wagon              2000  manual    140       v70   \n",
       "209382   1100       small              2002     NaN      0       NaN   \n",
       "240573   3450       small              2008  manual     67   i_reihe   \n",
       "45654    3999       sedan              2002  manual    163  e_klasse   \n",
       "174513   2550       coupe              1999  manual    163       clk   \n",
       "137665   2400       sedan              1997  manual    116      golf   \n",
       "108573    500       sedan              1997  manual     75     astra   \n",
       "253331  19900         bus              2010    auto    150     viano   \n",
       "96016   15500         bus              2010  manual    145     other   \n",
       "51635       1         NaN              2000     NaN      0       NaN   \n",
       "181572    500       small              2000  manual     60      polo   \n",
       "311616    800       small              1997  manual     75     corsa   \n",
       "224919   9500         bus              2010  manual    140     caddy   \n",
       "266583   4550       sedan              2002    auto    116    passat   \n",
       "198858    699       small              1999  manual     58    twingo   \n",
       "345190   1990       small              2004  manual     61    fortwo   \n",
       "157029   2999       small              2002  manual    102        a3   \n",
       "\n",
       "        kilometer  fueltype           brand repaired  \n",
       "283608      20000    petrol         hyundai      yes  \n",
       "173888     150000    petrol      volkswagen       no  \n",
       "319513     125000    petrol   mercedes_benz       no  \n",
       "156934     150000    petrol           volvo       no  \n",
       "209382     100000    petrol           smart      nda  \n",
       "240573      80000    petrol         hyundai       no  \n",
       "45654      150000    petrol   mercedes_benz       no  \n",
       "174513     150000    petrol   mercedes_benz       no  \n",
       "137665     150000    petrol      volkswagen       no  \n",
       "108573     150000    petrol            opel       no  \n",
       "253331     150000  gasoline   mercedes_benz       no  \n",
       "96016      125000  gasoline         renault      yes  \n",
       "51635       30000    petrol  sonstige_autos      nda  \n",
       "181572     150000    petrol      volkswagen       no  \n",
       "311616      90000    petrol            opel       no  \n",
       "224919     150000  gasoline      volkswagen       no  \n",
       "266583      90000    petrol      volkswagen       no  \n",
       "198858     150000    petrol         renault      yes  \n",
       "345190     125000    petrol           smart       no  \n",
       "157029     150000    petrol            audi       no  "
      ]
     },
     "execution_count": 16,
     "metadata": {},
     "output_type": "execute_result"
    }
   ],
   "source": [
    "# Заменим дырки на популярные типы кузовов модели\n",
    "data.loc[data['vehicletype'].isna()==True,'vehicletype'] = data[data['vehicletype'].isna()==True]['alternative_vehicletype']\n",
    "data = data.drop(['alternative_vehicletype'], axis = 1)\n",
    "data.sample(20)"
   ]
  },
  {
   "cell_type": "code",
   "execution_count": 17,
   "metadata": {},
   "outputs": [],
   "source": [
    "data[['gearbox', 'model']] = data[['gearbox', 'model']].fillna('nda')"
   ]
  },
  {
   "cell_type": "code",
   "execution_count": 18,
   "metadata": {},
   "outputs": [
    {
     "data": {
      "text/plain": [
       "price                  0\n",
       "vehicletype         6828\n",
       "registrationyear       0\n",
       "gearbox                0\n",
       "power                  0\n",
       "model                  0\n",
       "kilometer              0\n",
       "fueltype               0\n",
       "brand                  0\n",
       "repaired               0\n",
       "dtype: int64"
      ]
     },
     "execution_count": 18,
     "metadata": {},
     "output_type": "execute_result"
    }
   ],
   "source": [
    "data.isna().sum()"
   ]
  },
  {
   "cell_type": "code",
   "execution_count": 19,
   "metadata": {},
   "outputs": [],
   "source": [
    "# Остальные пропуски удалим\n",
    "data = data.dropna().reset_index(drop=True)"
   ]
  },
  {
   "cell_type": "code",
   "execution_count": 20,
   "metadata": {
    "scrolled": true
   },
   "outputs": [
    {
     "name": "stdout",
     "output_type": "stream",
     "text": [
      "<class 'pandas.core.frame.DataFrame'>\n",
      "RangeIndex: 347541 entries, 0 to 347540\n",
      "Data columns (total 10 columns):\n",
      " #   Column            Non-Null Count   Dtype \n",
      "---  ------            --------------   ----- \n",
      " 0   price             347541 non-null  int64 \n",
      " 1   vehicletype       347541 non-null  object\n",
      " 2   registrationyear  347541 non-null  int64 \n",
      " 3   gearbox           347541 non-null  object\n",
      " 4   power             347541 non-null  int64 \n",
      " 5   model             347541 non-null  object\n",
      " 6   kilometer         347541 non-null  int64 \n",
      " 7   fueltype          347541 non-null  object\n",
      " 8   brand             347541 non-null  object\n",
      " 9   repaired          347541 non-null  object\n",
      "dtypes: int64(4), object(6)\n",
      "memory usage: 26.5+ MB\n"
     ]
    }
   ],
   "source": [
    "data.info()"
   ]
  },
  {
   "cell_type": "code",
   "execution_count": 21,
   "metadata": {},
   "outputs": [
    {
     "data": {
      "text/html": [
       "<div>\n",
       "<style scoped>\n",
       "    .dataframe tbody tr th:only-of-type {\n",
       "        vertical-align: middle;\n",
       "    }\n",
       "\n",
       "    .dataframe tbody tr th {\n",
       "        vertical-align: top;\n",
       "    }\n",
       "\n",
       "    .dataframe thead th {\n",
       "        text-align: right;\n",
       "    }\n",
       "</style>\n",
       "<table border=\"1\" class=\"dataframe\">\n",
       "  <thead>\n",
       "    <tr style=\"text-align: right;\">\n",
       "      <th></th>\n",
       "      <th>price</th>\n",
       "      <th>power</th>\n",
       "      <th>kilometer</th>\n",
       "    </tr>\n",
       "  </thead>\n",
       "  <tbody>\n",
       "    <tr>\n",
       "      <th>count</th>\n",
       "      <td>347541.0</td>\n",
       "      <td>347541.0</td>\n",
       "      <td>347541.0</td>\n",
       "    </tr>\n",
       "    <tr>\n",
       "      <th>mean</th>\n",
       "      <td>4463.6</td>\n",
       "      <td>111.2</td>\n",
       "      <td>128449.6</td>\n",
       "    </tr>\n",
       "    <tr>\n",
       "      <th>std</th>\n",
       "      <td>4524.3</td>\n",
       "      <td>190.6</td>\n",
       "      <td>37472.5</td>\n",
       "    </tr>\n",
       "    <tr>\n",
       "      <th>min</th>\n",
       "      <td>0.0</td>\n",
       "      <td>0.0</td>\n",
       "      <td>5000.0</td>\n",
       "    </tr>\n",
       "    <tr>\n",
       "      <th>25%</th>\n",
       "      <td>1100.0</td>\n",
       "      <td>69.0</td>\n",
       "      <td>125000.0</td>\n",
       "    </tr>\n",
       "    <tr>\n",
       "      <th>50%</th>\n",
       "      <td>2799.0</td>\n",
       "      <td>105.0</td>\n",
       "      <td>150000.0</td>\n",
       "    </tr>\n",
       "    <tr>\n",
       "      <th>75%</th>\n",
       "      <td>6499.0</td>\n",
       "      <td>143.0</td>\n",
       "      <td>150000.0</td>\n",
       "    </tr>\n",
       "    <tr>\n",
       "      <th>max</th>\n",
       "      <td>20000.0</td>\n",
       "      <td>20000.0</td>\n",
       "      <td>150000.0</td>\n",
       "    </tr>\n",
       "  </tbody>\n",
       "</table>\n",
       "</div>"
      ],
      "text/plain": [
       "          price     power  kilometer\n",
       "count  347541.0  347541.0   347541.0\n",
       "mean     4463.6     111.2   128449.6\n",
       "std      4524.3     190.6    37472.5\n",
       "min         0.0       0.0     5000.0\n",
       "25%      1100.0      69.0   125000.0\n",
       "50%      2799.0     105.0   150000.0\n",
       "75%      6499.0     143.0   150000.0\n",
       "max     20000.0   20000.0   150000.0"
      ]
     },
     "execution_count": 21,
     "metadata": {},
     "output_type": "execute_result"
    }
   ],
   "source": [
    "main_num_columns = ['price', 'power', 'kilometer']\n",
    "round(data[main_num_columns].describe(), 1)"
   ]
  },
  {
   "cell_type": "code",
   "execution_count": 22,
   "metadata": {},
   "outputs": [
    {
     "data": {
      "text/plain": [
       "<AxesSubplot:>"
      ]
     },
     "execution_count": 22,
     "metadata": {},
     "output_type": "execute_result"
    },
    {
     "data": {
      "image/png": "[encoded data removed]",
      "text/plain": [
       "<Figure size 864x576 with 1 Axes>"
      ]
     },
     "metadata": {
      "needs_background": "light"
     },
     "output_type": "display_data"
    }
   ],
   "source": [
    "fig = plt.subplots(figsize=(12, 8))\n",
    "data[main_num_columns].boxplot()"
   ]
  },
  {
   "cell_type": "code",
   "execution_count": 23,
   "metadata": {},
   "outputs": [],
   "source": [
    "#Избавимся от выбросов\n",
    "data = data[(data['price']<=data['price'].quantile(0.80)) & (data['price']>=data['price'].quantile(0.05))]\n",
    "data = data[(data['power']<=data['power'].quantile(0.95))&(data['power']>=data['power'].quantile(0.05))]\n",
    "data = data[data['kilometer']>=8000]"
   ]
  },
  {
   "cell_type": "code",
   "execution_count": 24,
   "metadata": {},
   "outputs": [
    {
     "data": {
      "text/html": [
       "<div>\n",
       "<style scoped>\n",
       "    .dataframe tbody tr th:only-of-type {\n",
       "        vertical-align: middle;\n",
       "    }\n",
       "\n",
       "    .dataframe tbody tr th {\n",
       "        vertical-align: top;\n",
       "    }\n",
       "\n",
       "    .dataframe thead th {\n",
       "        text-align: right;\n",
       "    }\n",
       "</style>\n",
       "<table border=\"1\" class=\"dataframe\">\n",
       "  <thead>\n",
       "    <tr style=\"text-align: right;\">\n",
       "      <th></th>\n",
       "      <th>price</th>\n",
       "      <th>power</th>\n",
       "      <th>kilometer</th>\n",
       "    </tr>\n",
       "  </thead>\n",
       "  <tbody>\n",
       "    <tr>\n",
       "      <th>count</th>\n",
       "      <td>246136.0</td>\n",
       "      <td>246136.0</td>\n",
       "      <td>246136.0</td>\n",
       "    </tr>\n",
       "    <tr>\n",
       "      <th>mean</th>\n",
       "      <td>2617.8</td>\n",
       "      <td>90.6</td>\n",
       "      <td>135831.7</td>\n",
       "    </tr>\n",
       "    <tr>\n",
       "      <th>std</th>\n",
       "      <td>1950.4</td>\n",
       "      <td>46.2</td>\n",
       "      <td>28721.8</td>\n",
       "    </tr>\n",
       "    <tr>\n",
       "      <th>min</th>\n",
       "      <td>200.0</td>\n",
       "      <td>0.0</td>\n",
       "      <td>10000.0</td>\n",
       "    </tr>\n",
       "    <tr>\n",
       "      <th>25%</th>\n",
       "      <td>999.0</td>\n",
       "      <td>60.0</td>\n",
       "      <td>125000.0</td>\n",
       "    </tr>\n",
       "    <tr>\n",
       "      <th>50%</th>\n",
       "      <td>2000.0</td>\n",
       "      <td>94.0</td>\n",
       "      <td>150000.0</td>\n",
       "    </tr>\n",
       "    <tr>\n",
       "      <th>75%</th>\n",
       "      <td>3899.0</td>\n",
       "      <td>122.0</td>\n",
       "      <td>150000.0</td>\n",
       "    </tr>\n",
       "    <tr>\n",
       "      <th>max</th>\n",
       "      <td>7690.0</td>\n",
       "      <td>188.0</td>\n",
       "      <td>150000.0</td>\n",
       "    </tr>\n",
       "  </tbody>\n",
       "</table>\n",
       "</div>"
      ],
      "text/plain": [
       "          price     power  kilometer\n",
       "count  246136.0  246136.0   246136.0\n",
       "mean     2617.8      90.6   135831.7\n",
       "std      1950.4      46.2    28721.8\n",
       "min       200.0       0.0    10000.0\n",
       "25%       999.0      60.0   125000.0\n",
       "50%      2000.0      94.0   150000.0\n",
       "75%      3899.0     122.0   150000.0\n",
       "max      7690.0     188.0   150000.0"
      ]
     },
     "execution_count": 24,
     "metadata": {},
     "output_type": "execute_result"
    }
   ],
   "source": [
    "round(data[main_num_columns].describe(), 1)"
   ]
  },
  {
   "cell_type": "code",
   "execution_count": 25,
   "metadata": {},
   "outputs": [
    {
     "data": {
      "text/html": [
       "<div>\n",
       "<style scoped>\n",
       "    .dataframe tbody tr th:only-of-type {\n",
       "        vertical-align: middle;\n",
       "    }\n",
       "\n",
       "    .dataframe tbody tr th {\n",
       "        vertical-align: top;\n",
       "    }\n",
       "\n",
       "    .dataframe thead th {\n",
       "        text-align: right;\n",
       "    }\n",
       "</style>\n",
       "<table border=\"1\" class=\"dataframe\">\n",
       "  <thead>\n",
       "    <tr style=\"text-align: right;\">\n",
       "      <th></th>\n",
       "      <th>registrationyear</th>\n",
       "    </tr>\n",
       "  </thead>\n",
       "  <tbody>\n",
       "    <tr>\n",
       "      <th>count</th>\n",
       "      <td>246136.000000</td>\n",
       "    </tr>\n",
       "    <tr>\n",
       "      <th>mean</th>\n",
       "      <td>2002.446213</td>\n",
       "    </tr>\n",
       "    <tr>\n",
       "      <th>std</th>\n",
       "      <td>46.949596</td>\n",
       "    </tr>\n",
       "    <tr>\n",
       "      <th>min</th>\n",
       "      <td>1910.000000</td>\n",
       "    </tr>\n",
       "    <tr>\n",
       "      <th>25%</th>\n",
       "      <td>1998.000000</td>\n",
       "    </tr>\n",
       "    <tr>\n",
       "      <th>50%</th>\n",
       "      <td>2002.000000</td>\n",
       "    </tr>\n",
       "    <tr>\n",
       "      <th>75%</th>\n",
       "      <td>2006.000000</td>\n",
       "    </tr>\n",
       "    <tr>\n",
       "      <th>max</th>\n",
       "      <td>9999.000000</td>\n",
       "    </tr>\n",
       "  </tbody>\n",
       "</table>\n",
       "</div>"
      ],
      "text/plain": [
       "       registrationyear\n",
       "count     246136.000000\n",
       "mean        2002.446213\n",
       "std           46.949596\n",
       "min         1910.000000\n",
       "25%         1998.000000\n",
       "50%         2002.000000\n",
       "75%         2006.000000\n",
       "max         9999.000000"
      ]
     },
     "metadata": {},
     "output_type": "display_data"
    },
    {
     "data": {
      "text/plain": [
       "<AxesSubplot:>"
      ]
     },
     "execution_count": 25,
     "metadata": {},
     "output_type": "execute_result"
    },
    {
     "data": {
      "image/png": "[encoded data removed]",
      "text/plain": [
       "<Figure size 432x288 with 1 Axes>"
      ]
     },
     "metadata": {
      "needs_background": "light"
     },
     "output_type": "display_data"
    }
   ],
   "source": [
    "display(data[['registrationyear']].describe())\n",
    "data[['registrationyear']].boxplot()"
   ]
  },
  {
   "cell_type": "code",
   "execution_count": 26,
   "metadata": {},
   "outputs": [],
   "source": [
    "data = data[data['registrationyear']>=1960]"
   ]
  },
  {
   "cell_type": "code",
   "execution_count": 27,
   "metadata": {},
   "outputs": [
    {
     "data": {
      "text/plain": [
       "<AxesSubplot:>"
      ]
     },
     "execution_count": 27,
     "metadata": {},
     "output_type": "execute_result"
    },
    {
     "data": {
      "image/png": "[encoded data removed]",
      "text/plain": [
       "<Figure size 432x288 with 1 Axes>"
      ]
     },
     "metadata": {
      "needs_background": "light"
     },
     "output_type": "display_data"
    }
   ],
   "source": [
    "data['registrationyear'].hist()"
   ]
  },
  {
   "cell_type": "code",
   "execution_count": 28,
   "metadata": {},
   "outputs": [
    {
     "name": "stdout",
     "output_type": "stream",
     "text": [
      "<class 'pandas.core.frame.DataFrame'>\n",
      "RangeIndex: 210383 entries, 0 to 210382\n",
      "Data columns (total 10 columns):\n",
      " #   Column            Non-Null Count   Dtype \n",
      "---  ------            --------------   ----- \n",
      " 0   price             210383 non-null  int64 \n",
      " 1   vehicletype       210383 non-null  object\n",
      " 2   registrationyear  210383 non-null  int64 \n",
      " 3   gearbox           210383 non-null  object\n",
      " 4   power             210383 non-null  int64 \n",
      " 5   model             210383 non-null  object\n",
      " 6   kilometer         210383 non-null  int64 \n",
      " 7   fueltype          210383 non-null  object\n",
      " 8   brand             210383 non-null  object\n",
      " 9   repaired          210383 non-null  object\n",
      "dtypes: int64(4), object(6)\n",
      "memory usage: 16.1+ MB\n"
     ]
    }
   ],
   "source": [
    "data = data.drop_duplicates().reset_index(drop=True)\n",
    "data.info()"
   ]
  },
  {
   "cell_type": "markdown",
   "metadata": {},
   "source": [
    "Данные нам достались достаточно \"шумные\" с большим количеством пропусков. Была проведена предобработка:\n",
    "- избавились от лишних столбцов, ненужных для данного исследования\n",
    "- для столбца ремонта поставлена заглушка 'nda', что соответствует маркировке 'нет данных'\n",
    "- в столбце `fueltype` пропуски заполнены самым популярным топливом\n",
    "- в столбце `vehicletype` пропуски заменены на популярный тип кузова каждой модели\n",
    "- остальные пропуски были удалены, поскольку подобрать достоверно значения не представляется возможным и столбцы являются ключевыми для оценки стоимости\n",
    "- проведена очистка данных от выбросов\n",
    "- данные очищены от дубликатов\n",
    "\n",
    "В конечном итоге для дальнейшей работы осталось около 60% данных от исходного датасета."
   ]
  },
  {
   "cell_type": "code",
   "execution_count": 29,
   "metadata": {},
   "outputs": [
    {
     "data": {
      "text/html": [
       "<div>\n",
       "<style scoped>\n",
       "    .dataframe tbody tr th:only-of-type {\n",
       "        vertical-align: middle;\n",
       "    }\n",
       "\n",
       "    .dataframe tbody tr th {\n",
       "        vertical-align: top;\n",
       "    }\n",
       "\n",
       "    .dataframe thead th {\n",
       "        text-align: right;\n",
       "    }\n",
       "</style>\n",
       "<table border=\"1\" class=\"dataframe\">\n",
       "  <thead>\n",
       "    <tr style=\"text-align: right;\">\n",
       "      <th></th>\n",
       "      <th>price</th>\n",
       "      <th>registrationyear</th>\n",
       "      <th>power</th>\n",
       "      <th>kilometer</th>\n",
       "    </tr>\n",
       "  </thead>\n",
       "  <tbody>\n",
       "    <tr>\n",
       "      <th>count</th>\n",
       "      <td>210383.000000</td>\n",
       "      <td>210383.000000</td>\n",
       "      <td>210383.000000</td>\n",
       "      <td>210383.000000</td>\n",
       "    </tr>\n",
       "    <tr>\n",
       "      <th>mean</th>\n",
       "      <td>2646.824553</td>\n",
       "      <td>2002.585375</td>\n",
       "      <td>90.860378</td>\n",
       "      <td>134858.686301</td>\n",
       "    </tr>\n",
       "    <tr>\n",
       "      <th>std</th>\n",
       "      <td>1962.729839</td>\n",
       "      <td>50.722545</td>\n",
       "      <td>46.571556</td>\n",
       "      <td>29533.186729</td>\n",
       "    </tr>\n",
       "    <tr>\n",
       "      <th>min</th>\n",
       "      <td>200.000000</td>\n",
       "      <td>1960.000000</td>\n",
       "      <td>0.000000</td>\n",
       "      <td>10000.000000</td>\n",
       "    </tr>\n",
       "    <tr>\n",
       "      <th>25%</th>\n",
       "      <td>1000.000000</td>\n",
       "      <td>1998.000000</td>\n",
       "      <td>61.000000</td>\n",
       "      <td>125000.000000</td>\n",
       "    </tr>\n",
       "    <tr>\n",
       "      <th>50%</th>\n",
       "      <td>2000.000000</td>\n",
       "      <td>2002.000000</td>\n",
       "      <td>95.000000</td>\n",
       "      <td>150000.000000</td>\n",
       "    </tr>\n",
       "    <tr>\n",
       "      <th>75%</th>\n",
       "      <td>3900.000000</td>\n",
       "      <td>2006.000000</td>\n",
       "      <td>125.000000</td>\n",
       "      <td>150000.000000</td>\n",
       "    </tr>\n",
       "    <tr>\n",
       "      <th>max</th>\n",
       "      <td>7690.000000</td>\n",
       "      <td>9999.000000</td>\n",
       "      <td>188.000000</td>\n",
       "      <td>150000.000000</td>\n",
       "    </tr>\n",
       "  </tbody>\n",
       "</table>\n",
       "</div>"
      ],
      "text/plain": [
       "               price  registrationyear          power      kilometer\n",
       "count  210383.000000     210383.000000  210383.000000  210383.000000\n",
       "mean     2646.824553       2002.585375      90.860378  134858.686301\n",
       "std      1962.729839         50.722545      46.571556   29533.186729\n",
       "min       200.000000       1960.000000       0.000000   10000.000000\n",
       "25%      1000.000000       1998.000000      61.000000  125000.000000\n",
       "50%      2000.000000       2002.000000      95.000000  150000.000000\n",
       "75%      3900.000000       2006.000000     125.000000  150000.000000\n",
       "max      7690.000000       9999.000000     188.000000  150000.000000"
      ]
     },
     "execution_count": 29,
     "metadata": {},
     "output_type": "execute_result"
    }
   ],
   "source": [
    "data.describe()"
   ]
  },
  {
   "cell_type": "markdown",
   "metadata": {},
   "source": [
    "\n",
    "## Обучение моделей"
   ]
  },
  {
   "cell_type": "code",
   "execution_count": 30,
   "metadata": {},
   "outputs": [],
   "source": [
    "# Разделим выборку на целевую и признак\n",
    "features=data.drop(['price'],axis=1)\n",
    "target=data['price']\n",
    "random_state=254"
   ]
  },
  {
   "cell_type": "code",
   "execution_count": 31,
   "metadata": {},
   "outputs": [],
   "source": [
    "train_features, valid_features, train_target, valid_target = train_test_split(\n",
    "    features,target, test_size=0.4, random_state=random_state)\n",
    "\n",
    "test_features, valid_features, test_target, valid_target = train_test_split(\n",
    "    valid_features,valid_target, test_size=0.5, random_state=random_state)"
   ]
  },
  {
   "cell_type": "code",
   "execution_count": 32,
   "metadata": {
    "scrolled": true
   },
   "outputs": [
    {
     "name": "stdout",
     "output_type": "stream",
     "text": [
      "Размер тренировочной выборки:\n",
      "(126229, 9)\n",
      "(126229,)\n",
      "\n",
      "Размер валидационной выборки:\n",
      "(42077, 9)\n",
      "(42077,)\n",
      "\n",
      "Размер тестовой выборки:\n",
      "(42077, 9)\n",
      "(42077,)\n"
     ]
    }
   ],
   "source": [
    "print('Размер тренировочной выборки:')\n",
    "print(train_features.shape)\n",
    "print(train_target.shape)\n",
    "print()\n",
    "print('Размер валидационной выборки:')\n",
    "print(valid_features.shape)\n",
    "print(valid_target.shape)\n",
    "print()\n",
    "print('Размер тестовой выборки:')\n",
    "print(test_features.shape)\n",
    "print(test_target.shape)"
   ]
  },
  {
   "cell_type": "code",
   "execution_count": 33,
   "metadata": {},
   "outputs": [
    {
     "data": {
      "text/html": [
       "<div>\n",
       "<style scoped>\n",
       "    .dataframe tbody tr th:only-of-type {\n",
       "        vertical-align: middle;\n",
       "    }\n",
       "\n",
       "    .dataframe tbody tr th {\n",
       "        vertical-align: top;\n",
       "    }\n",
       "\n",
       "    .dataframe thead th {\n",
       "        text-align: right;\n",
       "    }\n",
       "</style>\n",
       "<table border=\"1\" class=\"dataframe\">\n",
       "  <thead>\n",
       "    <tr style=\"text-align: right;\">\n",
       "      <th></th>\n",
       "      <th>vehicletype</th>\n",
       "      <th>registrationyear</th>\n",
       "      <th>gearbox</th>\n",
       "      <th>power</th>\n",
       "      <th>model</th>\n",
       "      <th>kilometer</th>\n",
       "      <th>fueltype</th>\n",
       "      <th>brand</th>\n",
       "      <th>repaired</th>\n",
       "    </tr>\n",
       "  </thead>\n",
       "  <tbody>\n",
       "    <tr>\n",
       "      <th>108439</th>\n",
       "      <td>wagon</td>\n",
       "      <td>2006</td>\n",
       "      <td>auto</td>\n",
       "      <td>140</td>\n",
       "      <td>passat</td>\n",
       "      <td>150000</td>\n",
       "      <td>gasoline</td>\n",
       "      <td>volkswagen</td>\n",
       "      <td>no</td>\n",
       "    </tr>\n",
       "    <tr>\n",
       "      <th>108637</th>\n",
       "      <td>sedan</td>\n",
       "      <td>1999</td>\n",
       "      <td>manual</td>\n",
       "      <td>60</td>\n",
       "      <td>clio</td>\n",
       "      <td>150000</td>\n",
       "      <td>petrol</td>\n",
       "      <td>renault</td>\n",
       "      <td>no</td>\n",
       "    </tr>\n",
       "    <tr>\n",
       "      <th>181368</th>\n",
       "      <td>sedan</td>\n",
       "      <td>1997</td>\n",
       "      <td>manual</td>\n",
       "      <td>110</td>\n",
       "      <td>golf</td>\n",
       "      <td>150000</td>\n",
       "      <td>gasoline</td>\n",
       "      <td>volkswagen</td>\n",
       "      <td>yes</td>\n",
       "    </tr>\n",
       "    <tr>\n",
       "      <th>158946</th>\n",
       "      <td>small</td>\n",
       "      <td>1999</td>\n",
       "      <td>manual</td>\n",
       "      <td>102</td>\n",
       "      <td>3er</td>\n",
       "      <td>150000</td>\n",
       "      <td>petrol</td>\n",
       "      <td>bmw</td>\n",
       "      <td>nda</td>\n",
       "    </tr>\n",
       "    <tr>\n",
       "      <th>190581</th>\n",
       "      <td>small</td>\n",
       "      <td>2004</td>\n",
       "      <td>manual</td>\n",
       "      <td>60</td>\n",
       "      <td>ka</td>\n",
       "      <td>100000</td>\n",
       "      <td>petrol</td>\n",
       "      <td>ford</td>\n",
       "      <td>yes</td>\n",
       "    </tr>\n",
       "    <tr>\n",
       "      <th>...</th>\n",
       "      <td>...</td>\n",
       "      <td>...</td>\n",
       "      <td>...</td>\n",
       "      <td>...</td>\n",
       "      <td>...</td>\n",
       "      <td>...</td>\n",
       "      <td>...</td>\n",
       "      <td>...</td>\n",
       "      <td>...</td>\n",
       "    </tr>\n",
       "    <tr>\n",
       "      <th>87047</th>\n",
       "      <td>convertible</td>\n",
       "      <td>2004</td>\n",
       "      <td>manual</td>\n",
       "      <td>90</td>\n",
       "      <td>tigra</td>\n",
       "      <td>50000</td>\n",
       "      <td>petrol</td>\n",
       "      <td>opel</td>\n",
       "      <td>no</td>\n",
       "    </tr>\n",
       "    <tr>\n",
       "      <th>164422</th>\n",
       "      <td>suv</td>\n",
       "      <td>2000</td>\n",
       "      <td>manual</td>\n",
       "      <td>120</td>\n",
       "      <td>freelander</td>\n",
       "      <td>150000</td>\n",
       "      <td>petrol</td>\n",
       "      <td>land_rover</td>\n",
       "      <td>no</td>\n",
       "    </tr>\n",
       "    <tr>\n",
       "      <th>182378</th>\n",
       "      <td>wagon</td>\n",
       "      <td>2001</td>\n",
       "      <td>manual</td>\n",
       "      <td>118</td>\n",
       "      <td>focus</td>\n",
       "      <td>150000</td>\n",
       "      <td>gasoline</td>\n",
       "      <td>ford</td>\n",
       "      <td>no</td>\n",
       "    </tr>\n",
       "    <tr>\n",
       "      <th>83753</th>\n",
       "      <td>small</td>\n",
       "      <td>2000</td>\n",
       "      <td>auto</td>\n",
       "      <td>0</td>\n",
       "      <td>fortwo</td>\n",
       "      <td>125000</td>\n",
       "      <td>petrol</td>\n",
       "      <td>smart</td>\n",
       "      <td>no</td>\n",
       "    </tr>\n",
       "    <tr>\n",
       "      <th>162630</th>\n",
       "      <td>small</td>\n",
       "      <td>2003</td>\n",
       "      <td>manual</td>\n",
       "      <td>90</td>\n",
       "      <td>civic</td>\n",
       "      <td>125000</td>\n",
       "      <td>petrol</td>\n",
       "      <td>honda</td>\n",
       "      <td>no</td>\n",
       "    </tr>\n",
       "  </tbody>\n",
       "</table>\n",
       "<p>126229 rows × 9 columns</p>\n",
       "</div>"
      ],
      "text/plain": [
       "        vehicletype  registrationyear gearbox  power       model  kilometer  \\\n",
       "108439        wagon              2006    auto    140      passat     150000   \n",
       "108637        sedan              1999  manual     60        clio     150000   \n",
       "181368        sedan              1997  manual    110        golf     150000   \n",
       "158946        small              1999  manual    102         3er     150000   \n",
       "190581        small              2004  manual     60          ka     100000   \n",
       "...             ...               ...     ...    ...         ...        ...   \n",
       "87047   convertible              2004  manual     90       tigra      50000   \n",
       "164422          suv              2000  manual    120  freelander     150000   \n",
       "182378        wagon              2001  manual    118       focus     150000   \n",
       "83753         small              2000    auto      0      fortwo     125000   \n",
       "162630        small              2003  manual     90       civic     125000   \n",
       "\n",
       "        fueltype       brand repaired  \n",
       "108439  gasoline  volkswagen       no  \n",
       "108637    petrol     renault       no  \n",
       "181368  gasoline  volkswagen      yes  \n",
       "158946    petrol         bmw      nda  \n",
       "190581    petrol        ford      yes  \n",
       "...          ...         ...      ...  \n",
       "87047     petrol        opel       no  \n",
       "164422    petrol  land_rover       no  \n",
       "182378  gasoline        ford       no  \n",
       "83753     petrol       smart       no  \n",
       "162630    petrol       honda       no  \n",
       "\n",
       "[126229 rows x 9 columns]"
      ]
     },
     "execution_count": 33,
     "metadata": {},
     "output_type": "execute_result"
    }
   ],
   "source": [
    "train_features"
   ]
  },
  {
   "cell_type": "code",
   "execution_count": 34,
   "metadata": {},
   "outputs": [
    {
     "data": {
      "text/html": [
       "<div>\n",
       "<style scoped>\n",
       "    .dataframe tbody tr th:only-of-type {\n",
       "        vertical-align: middle;\n",
       "    }\n",
       "\n",
       "    .dataframe tbody tr th {\n",
       "        vertical-align: top;\n",
       "    }\n",
       "\n",
       "    .dataframe thead th {\n",
       "        text-align: right;\n",
       "    }\n",
       "</style>\n",
       "<table border=\"1\" class=\"dataframe\">\n",
       "  <thead>\n",
       "    <tr style=\"text-align: right;\">\n",
       "      <th></th>\n",
       "      <th>vehicletype</th>\n",
       "      <th>registrationyear</th>\n",
       "      <th>gearbox</th>\n",
       "      <th>power</th>\n",
       "      <th>model</th>\n",
       "      <th>kilometer</th>\n",
       "      <th>fueltype</th>\n",
       "      <th>brand</th>\n",
       "      <th>repaired</th>\n",
       "    </tr>\n",
       "  </thead>\n",
       "  <tbody>\n",
       "    <tr>\n",
       "      <th>108439</th>\n",
       "      <td>7.0</td>\n",
       "      <td>2006</td>\n",
       "      <td>0.0</td>\n",
       "      <td>140</td>\n",
       "      <td>169.0</td>\n",
       "      <td>150000</td>\n",
       "      <td>2.0</td>\n",
       "      <td>38.0</td>\n",
       "      <td>1.0</td>\n",
       "    </tr>\n",
       "    <tr>\n",
       "      <th>108637</th>\n",
       "      <td>4.0</td>\n",
       "      <td>1999</td>\n",
       "      <td>1.0</td>\n",
       "      <td>60</td>\n",
       "      <td>74.0</td>\n",
       "      <td>150000</td>\n",
       "      <td>6.0</td>\n",
       "      <td>27.0</td>\n",
       "      <td>1.0</td>\n",
       "    </tr>\n",
       "    <tr>\n",
       "      <th>181368</th>\n",
       "      <td>4.0</td>\n",
       "      <td>1997</td>\n",
       "      <td>1.0</td>\n",
       "      <td>110</td>\n",
       "      <td>114.0</td>\n",
       "      <td>150000</td>\n",
       "      <td>2.0</td>\n",
       "      <td>38.0</td>\n",
       "      <td>2.0</td>\n",
       "    </tr>\n",
       "    <tr>\n",
       "      <th>158946</th>\n",
       "      <td>5.0</td>\n",
       "      <td>1999</td>\n",
       "      <td>1.0</td>\n",
       "      <td>102</td>\n",
       "      <td>11.0</td>\n",
       "      <td>150000</td>\n",
       "      <td>6.0</td>\n",
       "      <td>2.0</td>\n",
       "      <td>0.0</td>\n",
       "    </tr>\n",
       "    <tr>\n",
       "      <th>190581</th>\n",
       "      <td>5.0</td>\n",
       "      <td>2004</td>\n",
       "      <td>1.0</td>\n",
       "      <td>60</td>\n",
       "      <td>126.0</td>\n",
       "      <td>100000</td>\n",
       "      <td>6.0</td>\n",
       "      <td>10.0</td>\n",
       "      <td>2.0</td>\n",
       "    </tr>\n",
       "  </tbody>\n",
       "</table>\n",
       "</div>"
      ],
      "text/plain": [
       "        vehicletype  registrationyear  gearbox  power  model  kilometer  \\\n",
       "108439          7.0              2006      0.0    140  169.0     150000   \n",
       "108637          4.0              1999      1.0     60   74.0     150000   \n",
       "181368          4.0              1997      1.0    110  114.0     150000   \n",
       "158946          5.0              1999      1.0    102   11.0     150000   \n",
       "190581          5.0              2004      1.0     60  126.0     100000   \n",
       "\n",
       "        fueltype  brand  repaired  \n",
       "108439       2.0   38.0       1.0  \n",
       "108637       6.0   27.0       1.0  \n",
       "181368       2.0   38.0       2.0  \n",
       "158946       6.0    2.0       0.0  \n",
       "190581       6.0   10.0       2.0  "
      ]
     },
     "execution_count": 34,
     "metadata": {},
     "output_type": "execute_result"
    }
   ],
   "source": [
    "# Применим кодировку для категориальных данных\n",
    "col=['vehicletype', 'gearbox','model',\n",
    "       'fueltype', 'brand', 'repaired']\n",
    "encoder = OrdinalEncoder()\n",
    "train_features_enc = train_features.copy()\n",
    "train_features_enc[col] = encoder.fit_transform(train_features[col])\n",
    "train_features_enc.head()"
   ]
  },
  {
   "cell_type": "code",
   "execution_count": 35,
   "metadata": {},
   "outputs": [
    {
     "data": {
      "text/html": [
       "<div>\n",
       "<style scoped>\n",
       "    .dataframe tbody tr th:only-of-type {\n",
       "        vertical-align: middle;\n",
       "    }\n",
       "\n",
       "    .dataframe tbody tr th {\n",
       "        vertical-align: top;\n",
       "    }\n",
       "\n",
       "    .dataframe thead th {\n",
       "        text-align: right;\n",
       "    }\n",
       "</style>\n",
       "<table border=\"1\" class=\"dataframe\">\n",
       "  <thead>\n",
       "    <tr style=\"text-align: right;\">\n",
       "      <th></th>\n",
       "      <th>vehicletype</th>\n",
       "      <th>registrationyear</th>\n",
       "      <th>gearbox</th>\n",
       "      <th>power</th>\n",
       "      <th>model</th>\n",
       "      <th>kilometer</th>\n",
       "      <th>fueltype</th>\n",
       "      <th>brand</th>\n",
       "      <th>repaired</th>\n",
       "    </tr>\n",
       "  </thead>\n",
       "  <tbody>\n",
       "    <tr>\n",
       "      <th>196105</th>\n",
       "      <td>4.0</td>\n",
       "      <td>1996</td>\n",
       "      <td>0.0</td>\n",
       "      <td>129</td>\n",
       "      <td>94.0</td>\n",
       "      <td>150000</td>\n",
       "      <td>2.0</td>\n",
       "      <td>20.0</td>\n",
       "      <td>1.0</td>\n",
       "    </tr>\n",
       "    <tr>\n",
       "      <th>31711</th>\n",
       "      <td>5.0</td>\n",
       "      <td>1997</td>\n",
       "      <td>2.0</td>\n",
       "      <td>0</td>\n",
       "      <td>74.0</td>\n",
       "      <td>150000</td>\n",
       "      <td>6.0</td>\n",
       "      <td>27.0</td>\n",
       "      <td>0.0</td>\n",
       "    </tr>\n",
       "    <tr>\n",
       "      <th>68724</th>\n",
       "      <td>5.0</td>\n",
       "      <td>2005</td>\n",
       "      <td>1.0</td>\n",
       "      <td>58</td>\n",
       "      <td>86.0</td>\n",
       "      <td>125000</td>\n",
       "      <td>6.0</td>\n",
       "      <td>8.0</td>\n",
       "      <td>1.0</td>\n",
       "    </tr>\n",
       "    <tr>\n",
       "      <th>84910</th>\n",
       "      <td>7.0</td>\n",
       "      <td>2001</td>\n",
       "      <td>0.0</td>\n",
       "      <td>179</td>\n",
       "      <td>31.0</td>\n",
       "      <td>150000</td>\n",
       "      <td>2.0</td>\n",
       "      <td>1.0</td>\n",
       "      <td>0.0</td>\n",
       "    </tr>\n",
       "    <tr>\n",
       "      <th>20744</th>\n",
       "      <td>7.0</td>\n",
       "      <td>2008</td>\n",
       "      <td>0.0</td>\n",
       "      <td>136</td>\n",
       "      <td>94.0</td>\n",
       "      <td>150000</td>\n",
       "      <td>2.0</td>\n",
       "      <td>20.0</td>\n",
       "      <td>1.0</td>\n",
       "    </tr>\n",
       "  </tbody>\n",
       "</table>\n",
       "</div>"
      ],
      "text/plain": [
       "        vehicletype  registrationyear  gearbox  power  model  kilometer  \\\n",
       "196105          4.0              1996      0.0    129   94.0     150000   \n",
       "31711           5.0              1997      2.0      0   74.0     150000   \n",
       "68724           5.0              2005      1.0     58   86.0     125000   \n",
       "84910           7.0              2001      0.0    179   31.0     150000   \n",
       "20744           7.0              2008      0.0    136   94.0     150000   \n",
       "\n",
       "        fueltype  brand  repaired  \n",
       "196105       2.0   20.0       1.0  \n",
       "31711        6.0   27.0       0.0  \n",
       "68724        6.0    8.0       1.0  \n",
       "84910        2.0    1.0       0.0  \n",
       "20744        2.0   20.0       1.0  "
      ]
     },
     "execution_count": 35,
     "metadata": {},
     "output_type": "execute_result"
    }
   ],
   "source": [
    "valid_features_enc = valid_features.copy()\n",
    "valid_features_enc[col] = encoder.transform(valid_features_enc[col])\n",
    "valid_features_enc.head()"
   ]
  },
  {
   "cell_type": "code",
   "execution_count": 36,
   "metadata": {},
   "outputs": [
    {
     "data": {
      "text/html": [
       "<div>\n",
       "<style scoped>\n",
       "    .dataframe tbody tr th:only-of-type {\n",
       "        vertical-align: middle;\n",
       "    }\n",
       "\n",
       "    .dataframe tbody tr th {\n",
       "        vertical-align: top;\n",
       "    }\n",
       "\n",
       "    .dataframe thead th {\n",
       "        text-align: right;\n",
       "    }\n",
       "</style>\n",
       "<table border=\"1\" class=\"dataframe\">\n",
       "  <thead>\n",
       "    <tr style=\"text-align: right;\">\n",
       "      <th></th>\n",
       "      <th>vehicletype</th>\n",
       "      <th>registrationyear</th>\n",
       "      <th>gearbox</th>\n",
       "      <th>power</th>\n",
       "      <th>model</th>\n",
       "      <th>kilometer</th>\n",
       "      <th>fueltype</th>\n",
       "      <th>brand</th>\n",
       "      <th>repaired</th>\n",
       "    </tr>\n",
       "  </thead>\n",
       "  <tbody>\n",
       "    <tr>\n",
       "      <th>83068</th>\n",
       "      <td>4.0</td>\n",
       "      <td>1999</td>\n",
       "      <td>1.0</td>\n",
       "      <td>75</td>\n",
       "      <td>114.0</td>\n",
       "      <td>150000</td>\n",
       "      <td>6.0</td>\n",
       "      <td>38.0</td>\n",
       "      <td>0.0</td>\n",
       "    </tr>\n",
       "    <tr>\n",
       "      <th>96203</th>\n",
       "      <td>5.0</td>\n",
       "      <td>2004</td>\n",
       "      <td>1.0</td>\n",
       "      <td>77</td>\n",
       "      <td>121.0</td>\n",
       "      <td>150000</td>\n",
       "      <td>6.0</td>\n",
       "      <td>11.0</td>\n",
       "      <td>1.0</td>\n",
       "    </tr>\n",
       "    <tr>\n",
       "      <th>74560</th>\n",
       "      <td>1.0</td>\n",
       "      <td>2002</td>\n",
       "      <td>1.0</td>\n",
       "      <td>109</td>\n",
       "      <td>8.0</td>\n",
       "      <td>150000</td>\n",
       "      <td>6.0</td>\n",
       "      <td>25.0</td>\n",
       "      <td>1.0</td>\n",
       "    </tr>\n",
       "    <tr>\n",
       "      <th>147521</th>\n",
       "      <td>4.0</td>\n",
       "      <td>2004</td>\n",
       "      <td>1.0</td>\n",
       "      <td>105</td>\n",
       "      <td>42.0</td>\n",
       "      <td>150000</td>\n",
       "      <td>6.0</td>\n",
       "      <td>24.0</td>\n",
       "      <td>1.0</td>\n",
       "    </tr>\n",
       "    <tr>\n",
       "      <th>39456</th>\n",
       "      <td>4.0</td>\n",
       "      <td>1995</td>\n",
       "      <td>1.0</td>\n",
       "      <td>90</td>\n",
       "      <td>114.0</td>\n",
       "      <td>150000</td>\n",
       "      <td>6.0</td>\n",
       "      <td>38.0</td>\n",
       "      <td>1.0</td>\n",
       "    </tr>\n",
       "  </tbody>\n",
       "</table>\n",
       "</div>"
      ],
      "text/plain": [
       "        vehicletype  registrationyear  gearbox  power  model  kilometer  \\\n",
       "83068           4.0              1999      1.0     75  114.0     150000   \n",
       "96203           5.0              2004      1.0     77  121.0     150000   \n",
       "74560           1.0              2002      1.0    109    8.0     150000   \n",
       "147521          4.0              2004      1.0    105   42.0     150000   \n",
       "39456           4.0              1995      1.0     90  114.0     150000   \n",
       "\n",
       "        fueltype  brand  repaired  \n",
       "83068        6.0   38.0       0.0  \n",
       "96203        6.0   11.0       1.0  \n",
       "74560        6.0   25.0       1.0  \n",
       "147521       6.0   24.0       1.0  \n",
       "39456        6.0   38.0       1.0  "
      ]
     },
     "execution_count": 36,
     "metadata": {},
     "output_type": "execute_result"
    }
   ],
   "source": [
    "test_features_enc = test_features.copy()\n",
    "try:\n",
    "    test_features_enc[col] = encoder.transform(test_features_enc[col])  \n",
    "except:\n",
    "    test_features_enc = test_features_enc[test_features_enc['model'].isin(train_features['model'])]\n",
    "    test_features_enc[col] = encoder.transform(test_features_enc[col])\n",
    "    test_target = test_target[test_target.index.isin(test_features_enc.index)]\n",
    "test_features_enc.head()"
   ]
  },
  {
   "cell_type": "code",
   "execution_count": 37,
   "metadata": {},
   "outputs": [],
   "source": [
    "# функция целевой метрики\n",
    "def rmse_mae(target,predict):\n",
    "    mae = mean_absolute_error(target, predict)\n",
    "    rmse = (mean_squared_error(target,predict, squared = False)).round(2)\n",
    "    return mae, rmse"
   ]
  },
  {
   "cell_type": "code",
   "execution_count": 38,
   "metadata": {},
   "outputs": [
    {
     "name": "stdout",
     "output_type": "stream",
     "text": [
      "Модель DecisionTreeRegressor \n",
      "Расчетное время обучения 349.76\n",
      "Расчетное время  передсказания 0.02\n",
      "Гиперпараметры модели:\n",
      " GridSearchCV(cv=7, estimator=DecisionTreeRegressor(), n_jobs=-1,\n",
      "             param_grid={'max_depth': range(1, 10),\n",
      "                         'min_samples_leaf': range(1, 10),\n",
      "                         'min_samples_split': range(2, 10)},\n",
      "             scoring='neg_root_mean_squared_error')\n",
      "\n",
      "MAE 835.0273642160059\n",
      "RMSE 1131.41\n"
     ]
    }
   ],
   "source": [
    "# Модель Дерево решений\n",
    "start_time = time.time()\n",
    "model_DTR = DecisionTreeRegressor()\n",
    "parametrs = { 'max_depth': range(1,10),\n",
    "              'min_samples_leaf': range(1,10),\n",
    "              'min_samples_split': range(2,10) \n",
    "            }\n",
    "\n",
    "grid_1 = GridSearchCV(model_DTR, parametrs, scoring='neg_root_mean_squared_error', cv=7, n_jobs =-1)\n",
    "model_1 = grid_1.fit(train_features_enc,train_target)\n",
    "finish_time = time.time()\n",
    "train_time_1 = round(finish_time-start_time, 2)\n",
    "print('Модель DecisionTreeRegressor ')\n",
    "print (\"Расчетное время обучения\", train_time_1)\n",
    "\n",
    "start_time = time.time()\n",
    "predict_1= model_1.predict(valid_features_enc)\n",
    "finish_time = time.time()\n",
    "predict_time_1=round(finish_time-start_time, 2)\n",
    "print (\"Расчетное время  передсказания\", predict_time_1)\n",
    "print('Гиперпараметры модели:\\n',grid_1)\n",
    "print()\n",
    "mae_1, rmse_1 = rmse_mae(valid_target, predict_1)\n",
    "print('MAE',mae_1)\n",
    "print('RMSE',rmse_1)"
   ]
  },
  {
   "cell_type": "code",
   "execution_count": 39,
   "metadata": {},
   "outputs": [
    {
     "name": "stdout",
     "output_type": "stream",
     "text": [
      "Модель RandomForestRegressor \n",
      "Расчетное время обучения 1727.42\n",
      "Расчетное время  передсказания 0.08\n",
      "Гиперпараметры модели:\n",
      " GridSearchCV(cv=3, estimator=RandomForestRegressor(), n_jobs=-1,\n",
      "             param_grid={'max_depth': range(1, 10),\n",
      "                         'min_samples_leaf': range(1, 8),\n",
      "                         'min_samples_split': range(2, 10),\n",
      "                         'n_estimators': range(1, 10)})\n",
      "\n",
      "MAE 808.6657906196672\n",
      "RMSE 1093.61\n"
     ]
    }
   ],
   "source": [
    "# Модель Случайных дров\n",
    "start_time = time.time()\n",
    "model_RF = RandomForestRegressor()\n",
    "parametrs = { 'n_estimators': range (1, 10),\n",
    "              'max_depth': range (1,10),\n",
    "              'min_samples_leaf': range (1,8),\n",
    "              'min_samples_split': range (2,10)\n",
    "            }\n",
    "\n",
    "grid_2 = GridSearchCV(model_RF, parametrs, cv=3, n_jobs =-1)\n",
    "model_2 = grid_2.fit(train_features_enc,train_target)\n",
    "\n",
    "finish_time = time.time()\n",
    "train_time_2 = round(finish_time-start_time, 2)\n",
    "print('Модель RandomForestRegressor ')\n",
    "print (\"Расчетное время обучения\", train_time_2)\n",
    "\n",
    "start_time = time.time()\n",
    "predict_2 = model_2.predict(valid_features_enc)\n",
    "finish_time = time.time()\n",
    "predict_time_2 = round(finish_time-start_time, 2)\n",
    "print (\"Расчетное время  передсказания\", predict_time_2)\n",
    "print('Гиперпараметры модели:\\n',grid_2)\n",
    "print()\n",
    "mae_2, rmse_2 = rmse_mae(valid_target, predict_2)\n",
    "print('MAE',mae_2)\n",
    "print('RMSE',rmse_2)"
   ]
  },
  {
   "cell_type": "code",
   "execution_count": 40,
   "metadata": {},
   "outputs": [
    {
     "name": "stdout",
     "output_type": "stream",
     "text": [
      "Модель CatBoostRegressor\n",
      "Расчетное время обучения 21.42\n",
      "Расчетное время  передсказания 0.01\n",
      "Гиперпараметры модели:\n",
      " GridSearchCV(cv=3,\n",
      "             estimator=<catboost.core.CatBoostRegressor object at 0x000002CA872E9160>,\n",
      "             n_jobs=-1,\n",
      "             param_grid={'max_depth': range(1, 10),\n",
      "                         'n_estimators': range(1, 10), 'verbose': [0]},\n",
      "             scoring='neg_mean_squared_error')\n",
      "\n",
      "MAE 756.3121233053504\n",
      "RMSE 1032.33\n"
     ]
    }
   ],
   "source": [
    "# Модель Градиентного Бустинга CatBoostRegressor\n",
    "start_time = time.time()\n",
    "model_CBR = CatBoostRegressor()\n",
    "parametrs = {\n",
    "            'n_estimators' : range(1,10),\n",
    "            'verbose' : [0],\n",
    "            'max_depth' : range(1,10)\n",
    "    }\n",
    "grid_3 = GridSearchCV(model_CBR, parametrs, cv=3, n_jobs=-1, scoring='neg_mean_squared_error')\n",
    "model_3 = grid_3.fit(train_features_enc,train_target)\n",
    "finish_time = time.time()\n",
    "train_time_3 = round(finish_time-start_time, 2)\n",
    "print('Модель CatBoostRegressor')\n",
    "print (\"Расчетное время обучения\", train_time_3)\n",
    "\n",
    "start_time = time.time()\n",
    "predict_3 = model_3.predict(valid_features_enc)\n",
    "finish_time = time.time()\n",
    "predict_time_3 = round(finish_time-start_time, 2)\n",
    "print (\"Расчетное время  передсказания\", predict_time_3)\n",
    "print('Гиперпараметры модели:\\n',grid_3)\n",
    "\n",
    "print()\n",
    "mae_3, rmse_3 = rmse_mae(valid_target, predict_3)\n",
    "print('MAE',mae_3)\n",
    "print('RMSE',rmse_3)"
   ]
  },
  {
   "cell_type": "code",
   "execution_count": 41,
   "metadata": {},
   "outputs": [
    {
     "name": "stdout",
     "output_type": "stream",
     "text": [
      "Модель LGBMRegressor\n",
      "Расчетное время обучения 22.4\n",
      "Расчетное время передсказания 0.02\n",
      "Гиперпараметры модели:\n",
      " GridSearchCV(cv=3, estimator=LGBMRegressor(), n_jobs=-1,\n",
      "             param_grid={'learning_rate': [0.4], 'max_depth': range(-1, 10),\n",
      "                         'n_estimators': range(1, 10)})\n",
      "\n",
      "MAE 764.8204246050033\n",
      "RMSE 1041.25\n"
     ]
    }
   ],
   "source": [
    "# Модель Градиентного Бустинга LightGBM\n",
    "start_time = time.time()\n",
    "model_LGBMR = LGBMRegressor()\n",
    "parametrs = {'n_estimators' : range(1,10),\n",
    "            'learning_rate' : [0.4],\n",
    "            'max_depth' : range(-1,10)\n",
    "            }\n",
    "\n",
    "grid_4 = GridSearchCV(model_LGBMR, parametrs, cv=3, n_jobs=-1)\n",
    "model_4 = grid_4.fit(train_features_enc,train_target)\n",
    "finish_time = time.time()\n",
    "train_time_4 = round(finish_time-start_time, 2)\n",
    "print('Модель LGBMRegressor')\n",
    "print (\"Расчетное время обучения\", train_time_4)\n",
    "\n",
    "start_time = time.time()\n",
    "predict_4 = model_4.predict(valid_features_enc)\n",
    "finish_time = time.time()\n",
    "predict_time_4 = round(finish_time-start_time, 2)\n",
    "print (\"Расчетное время передсказания\", predict_time_4)\n",
    "print('Гиперпараметры модели:\\n',grid_4)\n",
    "\n",
    "print()\n",
    "mae_4, rmse_4 = rmse_mae(valid_target, predict_4)\n",
    "print('MAE',mae_4)\n",
    "print('RMSE',rmse_4)"
   ]
  },
  {
   "cell_type": "markdown",
   "metadata": {},
   "source": [
    "## Анализ моделей"
   ]
  },
  {
   "cell_type": "code",
   "execution_count": 106,
   "metadata": {},
   "outputs": [
    {
     "data": {
      "text/html": [
       "<div>\n",
       "<style scoped>\n",
       "    .dataframe tbody tr th:only-of-type {\n",
       "        vertical-align: middle;\n",
       "    }\n",
       "\n",
       "    .dataframe tbody tr th {\n",
       "        vertical-align: top;\n",
       "    }\n",
       "\n",
       "    .dataframe thead th {\n",
       "        text-align: right;\n",
       "    }\n",
       "</style>\n",
       "<table border=\"1\" class=\"dataframe\">\n",
       "  <thead>\n",
       "    <tr style=\"text-align: right;\">\n",
       "      <th></th>\n",
       "      <th>model_name</th>\n",
       "      <th>RMSE</th>\n",
       "      <th>MAE</th>\n",
       "      <th>время_обучения</th>\n",
       "      <th>время_передсказания</th>\n",
       "    </tr>\n",
       "  </thead>\n",
       "  <tbody>\n",
       "    <tr>\n",
       "      <th>0</th>\n",
       "      <td>DecisionTreeRegressor</td>\n",
       "      <td>1131.41</td>\n",
       "      <td>835.03</td>\n",
       "      <td>349.76</td>\n",
       "      <td>0.02</td>\n",
       "    </tr>\n",
       "    <tr>\n",
       "      <th>1</th>\n",
       "      <td>RandomForestRegressor</td>\n",
       "      <td>1093.61</td>\n",
       "      <td>808.67</td>\n",
       "      <td>1727.42</td>\n",
       "      <td>0.08</td>\n",
       "    </tr>\n",
       "    <tr>\n",
       "      <th>2</th>\n",
       "      <td>CatBoostRegressor</td>\n",
       "      <td>1032.33</td>\n",
       "      <td>756.31</td>\n",
       "      <td>21.42</td>\n",
       "      <td>0.01</td>\n",
       "    </tr>\n",
       "    <tr>\n",
       "      <th>3</th>\n",
       "      <td>LightGBM</td>\n",
       "      <td>1041.25</td>\n",
       "      <td>764.82</td>\n",
       "      <td>22.40</td>\n",
       "      <td>0.02</td>\n",
       "    </tr>\n",
       "  </tbody>\n",
       "</table>\n",
       "</div>"
      ],
      "text/plain": [
       "              model_name     RMSE     MAE  время_обучения  время_передсказания\n",
       "0  DecisionTreeRegressor  1131.41  835.03          349.76                 0.02\n",
       "1  RandomForestRegressor  1093.61  808.67         1727.42                 0.08\n",
       "2      CatBoostRegressor  1032.33  756.31           21.42                 0.01\n",
       "3               LightGBM  1041.25  764.82           22.40                 0.02"
      ]
     },
     "execution_count": 106,
     "metadata": {},
     "output_type": "execute_result"
    }
   ],
   "source": [
    "columns=['RMSE','MAE']\n",
    "\n",
    "pivot = pd.DataFrame(columns = columns\n",
    "                               , index = ['DecisionTreeRegressor', 'RandomForestRegressor'\n",
    "                                          ,'CatBoostRegressor','LightGBM'])\n",
    "pivot['RMSE'] = rmse_1, rmse_2, rmse_3, rmse_4\n",
    "pivot['MAE'] = mae_1, mae_2, mae_3, mae_4\n",
    "pivot['MAE'] = round(pivot['MAE'] ,2 )\n",
    "pivot['время_обучения'] = train_time_1, train_time_2, train_time_3, train_time_4\n",
    "pivot['время_передсказания'] = predict_time_1, predict_time_2, predict_time_3, predict_time_4\n",
    "pivot = pivot.reset_index()\n",
    "pivot.columns = ['model_name','RMSE','MAE','время_обучения','время_передсказания']\n",
    "pivot"
   ]
  },
  {
   "cell_type": "code",
   "execution_count": 107,
   "metadata": {},
   "outputs": [
    {
     "data": {
      "text/html": [
       "<div>\n",
       "<style scoped>\n",
       "    .dataframe tbody tr th:only-of-type {\n",
       "        vertical-align: middle;\n",
       "    }\n",
       "\n",
       "    .dataframe tbody tr th {\n",
       "        vertical-align: top;\n",
       "    }\n",
       "\n",
       "    .dataframe thead th {\n",
       "        text-align: right;\n",
       "    }\n",
       "</style>\n",
       "<table border=\"1\" class=\"dataframe\">\n",
       "  <thead>\n",
       "    <tr style=\"text-align: right;\">\n",
       "      <th></th>\n",
       "      <th>model_name</th>\n",
       "      <th>RMSE</th>\n",
       "      <th>MAE</th>\n",
       "      <th>время_обучения</th>\n",
       "      <th>время_передсказания</th>\n",
       "    </tr>\n",
       "  </thead>\n",
       "  <tbody>\n",
       "    <tr>\n",
       "      <th>2</th>\n",
       "      <td>CatBoostRegressor</td>\n",
       "      <td>1032.33</td>\n",
       "      <td>756.31</td>\n",
       "      <td>21.42</td>\n",
       "      <td>0.01</td>\n",
       "    </tr>\n",
       "  </tbody>\n",
       "</table>\n",
       "</div>"
      ],
      "text/plain": [
       "          model_name     RMSE     MAE  время_обучения  время_передсказания\n",
       "2  CatBoostRegressor  1032.33  756.31           21.42                 0.01"
      ]
     },
     "execution_count": 107,
     "metadata": {},
     "output_type": "execute_result"
    }
   ],
   "source": [
    "best_model = pivot[pivot['MAE'] ==pivot['MAE'].min()]\n",
    "best_model"
   ]
  },
  {
   "cell_type": "code",
   "execution_count": 108,
   "metadata": {},
   "outputs": [],
   "source": [
    "# Проверим модели на тестовой выборке\n",
    "def testing_best(model):\n",
    "    predict = model.predict(test_features_enc)\n",
    "    mae, rmse = rmse_mae (test_target,predict)\n",
    "    return mae, rmse"
   ]
  },
  {
   "cell_type": "code",
   "execution_count": 109,
   "metadata": {},
   "outputs": [
    {
     "name": "stdout",
     "output_type": "stream",
     "text": [
      "Результаты тестирования модели CatBoostRegressor\n",
      "MAE 810.6567491186083\n",
      "RMSE 1098.97\n"
     ]
    }
   ],
   "source": [
    "models_name = ['DecisionTreeRegressor', 'RandomForestRegressor'\n",
    "                                          ,'CatBoostRegressor','LightGBM']\n",
    "model = [model_1 ,model_2, model_3, model_4]\n",
    "k=0\n",
    "for i in models_name:\n",
    "    if  i in str(best_model['model_name'].unique()):\n",
    "        print('Результаты тестирования модели', i)\n",
    "        mae_best, rmse_best = testing_best(model[k])\n",
    "    k=+1\n",
    "\n",
    "print('MAE',mae_best)\n",
    "print('RMSE',rmse_best)\n"
   ]
  },
  {
   "cell_type": "markdown",
   "metadata": {},
   "source": [
    "По результатам подбора модели в качестве и скорости предсказания оптимальной оказалась модель CatBoostRegressor."
   ]
  }
 ],
 "metadata": {
  "ExecuteTimeLog": [
   {
    "duration": 1315,
    "start_time": "2023-07-06T18:53:54.811Z"
   },
   {
    "duration": 1193,
    "start_time": "2023-07-06T18:54:15.227Z"
   },
   {
    "duration": 16,
    "start_time": "2023-07-06T18:54:36.645Z"
   },
   {
    "duration": 5,
    "start_time": "2023-07-06T18:54:54.043Z"
   },
   {
    "duration": 129,
    "start_time": "2023-07-06T18:56:00.081Z"
   },
   {
    "duration": 5415,
    "start_time": "2023-07-06T18:56:25.699Z"
   },
   {
    "duration": 19,
    "start_time": "2023-07-06T18:58:30.903Z"
   },
   {
    "duration": 45,
    "start_time": "2023-07-06T18:58:48.006Z"
   },
   {
    "duration": 119,
    "start_time": "2023-07-06T18:59:32.656Z"
   },
   {
    "duration": 5129,
    "start_time": "2023-07-06T19:00:00.569Z"
   },
   {
    "duration": 28,
    "start_time": "2023-07-06T19:04:11.525Z"
   },
   {
    "duration": 3003,
    "start_time": "2023-07-06T19:05:37.703Z"
   },
   {
    "duration": 1181,
    "start_time": "2023-07-06T19:07:25.419Z"
   },
   {
    "duration": 830,
    "start_time": "2023-07-06T19:07:26.602Z"
   },
   {
    "duration": 26,
    "start_time": "2023-07-06T19:07:27.435Z"
   },
   {
    "duration": 4,
    "start_time": "2023-07-06T19:07:27.463Z"
   },
   {
    "duration": 151,
    "start_time": "2023-07-06T19:07:27.469Z"
   },
   {
    "duration": 5371,
    "start_time": "2023-07-06T19:07:27.622Z"
   },
   {
    "duration": 22,
    "start_time": "2023-07-06T19:07:32.995Z"
   },
   {
    "duration": 72,
    "start_time": "2023-07-06T19:07:33.018Z"
   },
   {
    "duration": 164,
    "start_time": "2023-07-06T19:07:33.092Z"
   },
   {
    "duration": 119,
    "start_time": "2023-07-06T19:07:33.258Z"
   },
   {
    "duration": 0,
    "start_time": "2023-07-06T19:07:33.378Z"
   },
   {
    "duration": 16,
    "start_time": "2023-07-06T19:08:04.089Z"
   },
   {
    "duration": 1198,
    "start_time": "2023-07-06T19:09:30.037Z"
   },
   {
    "duration": 821,
    "start_time": "2023-07-06T19:09:31.238Z"
   },
   {
    "duration": 21,
    "start_time": "2023-07-06T19:09:32.061Z"
   },
   {
    "duration": 4,
    "start_time": "2023-07-06T19:09:32.084Z"
   },
   {
    "duration": 168,
    "start_time": "2023-07-06T19:09:32.089Z"
   },
   {
    "duration": 5439,
    "start_time": "2023-07-06T19:09:32.258Z"
   },
   {
    "duration": 36,
    "start_time": "2023-07-06T19:09:37.699Z"
   },
   {
    "duration": 58,
    "start_time": "2023-07-06T19:09:37.736Z"
   },
   {
    "duration": 158,
    "start_time": "2023-07-06T19:09:37.796Z"
   },
   {
    "duration": 114,
    "start_time": "2023-07-06T19:09:37.956Z"
   },
   {
    "duration": 0,
    "start_time": "2023-07-06T19:09:38.071Z"
   },
   {
    "duration": 15,
    "start_time": "2023-07-06T19:10:09.583Z"
   },
   {
    "duration": 8,
    "start_time": "2023-07-06T19:31:19.297Z"
   },
   {
    "duration": 1128,
    "start_time": "2023-07-06T19:33:27.995Z"
   },
   {
    "duration": 823,
    "start_time": "2023-07-06T19:33:29.124Z"
   },
   {
    "duration": 17,
    "start_time": "2023-07-06T19:33:29.948Z"
   },
   {
    "duration": 3,
    "start_time": "2023-07-06T19:33:29.967Z"
   },
   {
    "duration": 167,
    "start_time": "2023-07-06T19:33:29.972Z"
   },
   {
    "duration": 5446,
    "start_time": "2023-07-06T19:33:30.143Z"
   },
   {
    "duration": 20,
    "start_time": "2023-07-06T19:33:35.591Z"
   },
   {
    "duration": 86,
    "start_time": "2023-07-06T19:33:35.612Z"
   },
   {
    "duration": 170,
    "start_time": "2023-07-06T19:33:35.699Z"
   },
   {
    "duration": 9,
    "start_time": "2023-07-06T19:33:35.870Z"
   },
   {
    "duration": 2006,
    "start_time": "2023-07-06T19:33:35.880Z"
   },
   {
    "duration": 4238,
    "start_time": "2023-07-06T19:33:37.887Z"
   },
   {
    "duration": 10,
    "start_time": "2023-07-06T19:34:30.207Z"
   },
   {
    "duration": 21,
    "start_time": "2023-07-06T19:34:57.475Z"
   },
   {
    "duration": 8,
    "start_time": "2023-07-06T19:35:33.314Z"
   },
   {
    "duration": 1209,
    "start_time": "2023-07-06T19:36:21.057Z"
   },
   {
    "duration": 815,
    "start_time": "2023-07-06T19:36:22.268Z"
   },
   {
    "duration": 15,
    "start_time": "2023-07-06T19:36:23.084Z"
   },
   {
    "duration": 4,
    "start_time": "2023-07-06T19:36:23.101Z"
   },
   {
    "duration": 167,
    "start_time": "2023-07-06T19:36:23.107Z"
   },
   {
    "duration": 5521,
    "start_time": "2023-07-06T19:36:23.277Z"
   },
   {
    "duration": 21,
    "start_time": "2023-07-06T19:36:28.800Z"
   },
   {
    "duration": 60,
    "start_time": "2023-07-06T19:36:28.832Z"
   },
   {
    "duration": 143,
    "start_time": "2023-07-06T19:36:28.894Z"
   },
   {
    "duration": 11,
    "start_time": "2023-07-06T19:36:29.039Z"
   },
   {
    "duration": 126,
    "start_time": "2023-07-06T19:36:29.052Z"
   },
   {
    "duration": 8,
    "start_time": "2023-07-06T19:36:42.575Z"
   },
   {
    "duration": 1095,
    "start_time": "2023-07-06T19:44:35.291Z"
   },
   {
    "duration": 772,
    "start_time": "2023-07-06T19:44:36.388Z"
   },
   {
    "duration": 14,
    "start_time": "2023-07-06T19:44:37.162Z"
   },
   {
    "duration": 8,
    "start_time": "2023-07-06T19:44:37.178Z"
   },
   {
    "duration": 129,
    "start_time": "2023-07-06T19:44:37.187Z"
   },
   {
    "duration": 4913,
    "start_time": "2023-07-06T19:44:37.318Z"
   },
   {
    "duration": 19,
    "start_time": "2023-07-06T19:44:42.233Z"
   },
   {
    "duration": 47,
    "start_time": "2023-07-06T19:44:42.254Z"
   },
   {
    "duration": 139,
    "start_time": "2023-07-06T19:44:42.303Z"
   },
   {
    "duration": 9,
    "start_time": "2023-07-06T19:44:42.443Z"
   },
   {
    "duration": 2843,
    "start_time": "2023-07-06T20:05:15.527Z"
   },
   {
    "duration": 23,
    "start_time": "2023-07-06T20:05:24.531Z"
   },
   {
    "duration": 1063,
    "start_time": "2023-07-06T20:06:29.665Z"
   },
   {
    "duration": 808,
    "start_time": "2023-07-06T20:06:30.731Z"
   },
   {
    "duration": 16,
    "start_time": "2023-07-06T20:06:31.540Z"
   },
   {
    "duration": 99,
    "start_time": "2023-07-06T20:06:31.558Z"
   },
   {
    "duration": 168,
    "start_time": "2023-07-06T20:06:31.659Z"
   },
   {
    "duration": 4959,
    "start_time": "2023-07-06T20:06:31.829Z"
   },
   {
    "duration": 19,
    "start_time": "2023-07-06T20:06:36.790Z"
   },
   {
    "duration": 53,
    "start_time": "2023-07-06T20:06:36.810Z"
   },
   {
    "duration": 132,
    "start_time": "2023-07-06T20:06:36.865Z"
   },
   {
    "duration": 8,
    "start_time": "2023-07-06T20:06:36.999Z"
   },
   {
    "duration": 1987,
    "start_time": "2023-07-06T20:06:37.009Z"
   },
   {
    "duration": 22,
    "start_time": "2023-07-06T20:06:38.997Z"
   },
   {
    "duration": 1362,
    "start_time": "2023-07-06T20:08:00.154Z"
   },
   {
    "duration": 1027,
    "start_time": "2023-07-06T20:08:01.518Z"
   },
   {
    "duration": 27,
    "start_time": "2023-07-06T20:08:02.550Z"
   },
   {
    "duration": 6,
    "start_time": "2023-07-06T20:08:02.578Z"
   },
   {
    "duration": 161,
    "start_time": "2023-07-06T20:08:02.586Z"
   },
   {
    "duration": 6239,
    "start_time": "2023-07-06T20:08:02.750Z"
   },
   {
    "duration": 20,
    "start_time": "2023-07-06T20:08:08.991Z"
   },
   {
    "duration": 75,
    "start_time": "2023-07-06T20:08:09.012Z"
   },
   {
    "duration": 172,
    "start_time": "2023-07-06T20:08:22.718Z"
   },
   {
    "duration": 390,
    "start_time": "2023-07-06T20:10:36.706Z"
   },
   {
    "duration": 115,
    "start_time": "2023-07-06T20:22:55.772Z"
   },
   {
    "duration": 138,
    "start_time": "2023-07-06T20:22:59.990Z"
   },
   {
    "duration": 93,
    "start_time": "2023-07-06T20:23:00.748Z"
   },
   {
    "duration": 1260,
    "start_time": "2023-07-07T18:52:18.309Z"
   },
   {
    "duration": 2743,
    "start_time": "2023-07-07T18:52:19.571Z"
   },
   {
    "duration": 17,
    "start_time": "2023-07-07T18:52:22.315Z"
   },
   {
    "duration": 3,
    "start_time": "2023-07-07T18:52:22.334Z"
   },
   {
    "duration": 129,
    "start_time": "2023-07-07T18:52:22.339Z"
   },
   {
    "duration": 5094,
    "start_time": "2023-07-07T18:52:22.471Z"
   },
   {
    "duration": 20,
    "start_time": "2023-07-07T18:52:27.566Z"
   },
   {
    "duration": 45,
    "start_time": "2023-07-07T18:52:27.588Z"
   },
   {
    "duration": 219,
    "start_time": "2023-07-07T18:52:27.635Z"
   },
   {
    "duration": 128,
    "start_time": "2023-07-07T18:52:27.856Z"
   },
   {
    "duration": 88,
    "start_time": "2023-07-07T18:52:27.986Z"
   },
   {
    "duration": 94,
    "start_time": "2023-07-07T19:28:47.800Z"
   },
   {
    "duration": 2198,
    "start_time": "2023-07-07T19:29:08.597Z"
   },
   {
    "duration": 1538,
    "start_time": "2023-07-09T07:03:33.938Z"
   },
   {
    "duration": 3166,
    "start_time": "2023-07-09T07:03:35.479Z"
   },
   {
    "duration": 18,
    "start_time": "2023-07-09T07:03:38.647Z"
   },
   {
    "duration": 5,
    "start_time": "2023-07-09T07:03:38.667Z"
   },
   {
    "duration": 133,
    "start_time": "2023-07-09T07:03:38.673Z"
   },
   {
    "duration": 5855,
    "start_time": "2023-07-09T07:03:38.808Z"
   },
   {
    "duration": 35,
    "start_time": "2023-07-09T07:03:44.668Z"
   },
   {
    "duration": 90,
    "start_time": "2023-07-09T07:03:44.706Z"
   },
   {
    "duration": 238,
    "start_time": "2023-07-09T07:03:44.799Z"
   },
   {
    "duration": 191,
    "start_time": "2023-07-09T07:03:45.040Z"
   },
   {
    "duration": 125,
    "start_time": "2023-07-09T07:03:45.233Z"
   },
   {
    "duration": 10,
    "start_time": "2023-07-09T07:03:45.360Z"
   },
   {
    "duration": 0,
    "start_time": "2023-07-09T07:03:45.372Z"
   },
   {
    "duration": 99,
    "start_time": "2023-07-09T07:04:37.885Z"
   },
   {
    "duration": 106,
    "start_time": "2023-07-09T07:05:58.098Z"
   },
   {
    "duration": 1876,
    "start_time": "2023-07-09T07:11:28.741Z"
   },
   {
    "duration": 685,
    "start_time": "2023-07-09T07:13:51.646Z"
   },
   {
    "duration": 740,
    "start_time": "2023-07-09T07:15:07.070Z"
   },
   {
    "duration": 3643,
    "start_time": "2023-07-09T07:15:20.586Z"
   },
   {
    "duration": 2211,
    "start_time": "2023-07-09T07:15:35.595Z"
   },
   {
    "duration": 2140,
    "start_time": "2023-07-09T07:15:46.816Z"
   },
   {
    "duration": 2035,
    "start_time": "2023-07-09T07:15:56.700Z"
   },
   {
    "duration": 2470,
    "start_time": "2023-07-09T07:16:09.173Z"
   },
   {
    "duration": 3238,
    "start_time": "2023-07-09T07:16:23.708Z"
   },
   {
    "duration": 22,
    "start_time": "2023-07-09T07:19:54.664Z"
   },
   {
    "duration": 27,
    "start_time": "2023-07-09T07:20:09.371Z"
   },
   {
    "duration": 1212,
    "start_time": "2023-07-09T07:20:27.998Z"
   },
   {
    "duration": 887,
    "start_time": "2023-07-09T07:20:29.213Z"
   },
   {
    "duration": 22,
    "start_time": "2023-07-09T07:20:30.102Z"
   },
   {
    "duration": 22,
    "start_time": "2023-07-09T07:20:30.127Z"
   },
   {
    "duration": 185,
    "start_time": "2023-07-09T07:20:30.152Z"
   },
   {
    "duration": 6303,
    "start_time": "2023-07-09T07:20:30.340Z"
   },
   {
    "duration": 30,
    "start_time": "2023-07-09T07:20:36.645Z"
   },
   {
    "duration": 65,
    "start_time": "2023-07-09T07:20:36.678Z"
   },
   {
    "duration": 278,
    "start_time": "2023-07-09T07:20:36.750Z"
   },
   {
    "duration": 276,
    "start_time": "2023-07-09T07:20:37.030Z"
   },
   {
    "duration": 0,
    "start_time": "2023-07-09T07:20:37.309Z"
   },
   {
    "duration": 0,
    "start_time": "2023-07-09T07:20:37.310Z"
   },
   {
    "duration": 0,
    "start_time": "2023-07-09T07:20:37.311Z"
   },
   {
    "duration": 171,
    "start_time": "2023-07-09T07:22:18.352Z"
   },
   {
    "duration": 85,
    "start_time": "2023-07-09T07:22:22.198Z"
   },
   {
    "duration": 102,
    "start_time": "2023-07-09T07:22:25.095Z"
   },
   {
    "duration": 1487,
    "start_time": "2023-07-09T07:22:30.230Z"
   },
   {
    "duration": 51,
    "start_time": "2023-07-09T07:26:25.881Z"
   },
   {
    "duration": 833,
    "start_time": "2023-07-09T07:26:26.868Z"
   },
   {
    "duration": 1882,
    "start_time": "2023-07-09T07:44:00.012Z"
   },
   {
    "duration": 91,
    "start_time": "2023-07-09T07:44:15.554Z"
   },
   {
    "duration": 35,
    "start_time": "2023-07-09T07:44:44.892Z"
   },
   {
    "duration": 475,
    "start_time": "2023-07-09T07:45:10.815Z"
   },
   {
    "duration": 1456,
    "start_time": "2023-07-09T07:46:06.946Z"
   },
   {
    "duration": 1175,
    "start_time": "2023-07-09T07:46:08.404Z"
   },
   {
    "duration": 20,
    "start_time": "2023-07-09T07:46:09.581Z"
   },
   {
    "duration": 4,
    "start_time": "2023-07-09T07:46:09.603Z"
   },
   {
    "duration": 158,
    "start_time": "2023-07-09T07:46:09.609Z"
   },
   {
    "duration": 6007,
    "start_time": "2023-07-09T07:46:09.769Z"
   },
   {
    "duration": 24,
    "start_time": "2023-07-09T07:46:15.778Z"
   },
   {
    "duration": 82,
    "start_time": "2023-07-09T07:46:15.805Z"
   },
   {
    "duration": 234,
    "start_time": "2023-07-09T07:46:15.889Z"
   },
   {
    "duration": 172,
    "start_time": "2023-07-09T07:46:16.125Z"
   },
   {
    "duration": 88,
    "start_time": "2023-07-09T07:46:16.299Z"
   },
   {
    "duration": 55,
    "start_time": "2023-07-09T07:46:16.390Z"
   },
   {
    "duration": 942,
    "start_time": "2023-07-09T07:46:16.468Z"
   },
   {
    "duration": 102,
    "start_time": "2023-07-09T07:46:17.413Z"
   },
   {
    "duration": 52,
    "start_time": "2023-07-09T07:46:17.517Z"
   },
   {
    "duration": 593,
    "start_time": "2023-07-09T07:46:17.571Z"
   },
   {
    "duration": 1294,
    "start_time": "2023-07-09T07:47:38.821Z"
   },
   {
    "duration": 842,
    "start_time": "2023-07-09T07:47:40.117Z"
   },
   {
    "duration": 28,
    "start_time": "2023-07-09T07:47:40.962Z"
   },
   {
    "duration": 5,
    "start_time": "2023-07-09T07:47:40.992Z"
   },
   {
    "duration": 174,
    "start_time": "2023-07-09T07:47:41.000Z"
   },
   {
    "duration": 6006,
    "start_time": "2023-07-09T07:47:41.176Z"
   },
   {
    "duration": 21,
    "start_time": "2023-07-09T07:47:47.184Z"
   },
   {
    "duration": 65,
    "start_time": "2023-07-09T07:47:47.207Z"
   },
   {
    "duration": 234,
    "start_time": "2023-07-09T07:47:47.275Z"
   },
   {
    "duration": 167,
    "start_time": "2023-07-09T07:47:47.511Z"
   },
   {
    "duration": 103,
    "start_time": "2023-07-09T07:47:47.680Z"
   },
   {
    "duration": 59,
    "start_time": "2023-07-09T07:47:47.786Z"
   },
   {
    "duration": 871,
    "start_time": "2023-07-09T07:47:47.866Z"
   },
   {
    "duration": 109,
    "start_time": "2023-07-09T07:47:48.741Z"
   },
   {
    "duration": 60,
    "start_time": "2023-07-09T07:47:48.853Z"
   },
   {
    "duration": 609,
    "start_time": "2023-07-09T07:47:48.916Z"
   },
   {
    "duration": 79,
    "start_time": "2023-07-09T07:49:13.042Z"
   },
   {
    "duration": 41,
    "start_time": "2023-07-09T07:49:13.559Z"
   },
   {
    "duration": 483,
    "start_time": "2023-07-09T07:49:14.784Z"
   },
   {
    "duration": 59,
    "start_time": "2023-07-09T07:49:34.440Z"
   },
   {
    "duration": 30,
    "start_time": "2023-07-09T07:49:37.039Z"
   },
   {
    "duration": 351,
    "start_time": "2023-07-09T07:49:37.865Z"
   },
   {
    "duration": 1694,
    "start_time": "2023-07-09T07:50:02.109Z"
   },
   {
    "duration": 1222,
    "start_time": "2023-07-09T07:50:03.806Z"
   },
   {
    "duration": 33,
    "start_time": "2023-07-09T07:50:05.031Z"
   },
   {
    "duration": 4,
    "start_time": "2023-07-09T07:50:05.066Z"
   },
   {
    "duration": 152,
    "start_time": "2023-07-09T07:50:05.072Z"
   },
   {
    "duration": 6428,
    "start_time": "2023-07-09T07:50:05.226Z"
   },
   {
    "duration": 36,
    "start_time": "2023-07-09T07:50:11.656Z"
   },
   {
    "duration": 46,
    "start_time": "2023-07-09T07:50:11.695Z"
   },
   {
    "duration": 244,
    "start_time": "2023-07-09T07:50:11.743Z"
   },
   {
    "duration": 208,
    "start_time": "2023-07-09T07:50:11.991Z"
   },
   {
    "duration": 95,
    "start_time": "2023-07-09T07:50:12.201Z"
   },
   {
    "duration": 71,
    "start_time": "2023-07-09T07:50:12.300Z"
   },
   {
    "duration": 973,
    "start_time": "2023-07-09T07:50:12.375Z"
   },
   {
    "duration": 101,
    "start_time": "2023-07-09T07:50:13.352Z"
   },
   {
    "duration": 51,
    "start_time": "2023-07-09T07:50:13.455Z"
   },
   {
    "duration": 723,
    "start_time": "2023-07-09T07:50:13.508Z"
   },
   {
    "duration": 1420,
    "start_time": "2023-07-09T07:50:50.348Z"
   },
   {
    "duration": 938,
    "start_time": "2023-07-09T07:50:51.775Z"
   },
   {
    "duration": 19,
    "start_time": "2023-07-09T07:50:52.715Z"
   },
   {
    "duration": 4,
    "start_time": "2023-07-09T07:50:52.737Z"
   },
   {
    "duration": 178,
    "start_time": "2023-07-09T07:50:52.744Z"
   },
   {
    "duration": 7141,
    "start_time": "2023-07-09T07:50:52.924Z"
   },
   {
    "duration": 32,
    "start_time": "2023-07-09T07:51:00.067Z"
   },
   {
    "duration": 89,
    "start_time": "2023-07-09T07:51:00.102Z"
   },
   {
    "duration": 235,
    "start_time": "2023-07-09T07:51:00.193Z"
   },
   {
    "duration": 182,
    "start_time": "2023-07-09T07:51:00.431Z"
   },
   {
    "duration": 101,
    "start_time": "2023-07-09T07:51:00.616Z"
   },
   {
    "duration": 84,
    "start_time": "2023-07-09T07:51:00.719Z"
   },
   {
    "duration": 1131,
    "start_time": "2023-07-09T07:51:00.805Z"
   },
   {
    "duration": 117,
    "start_time": "2023-07-09T07:51:01.939Z"
   },
   {
    "duration": 55,
    "start_time": "2023-07-09T07:51:02.068Z"
   },
   {
    "duration": 795,
    "start_time": "2023-07-09T07:51:02.126Z"
   },
   {
    "duration": 68,
    "start_time": "2023-07-09T08:02:02.113Z"
   },
   {
    "duration": 169,
    "start_time": "2023-07-09T08:10:53.656Z"
   },
   {
    "duration": 1416,
    "start_time": "2023-07-09T08:11:45.203Z"
   },
   {
    "duration": 1077,
    "start_time": "2023-07-09T08:11:46.621Z"
   },
   {
    "duration": 23,
    "start_time": "2023-07-09T08:11:47.700Z"
   },
   {
    "duration": 5,
    "start_time": "2023-07-09T08:11:47.725Z"
   },
   {
    "duration": 168,
    "start_time": "2023-07-09T08:11:47.733Z"
   },
   {
    "duration": 142,
    "start_time": "2023-07-09T08:11:47.904Z"
   },
   {
    "duration": 0,
    "start_time": "2023-07-09T08:11:48.049Z"
   },
   {
    "duration": 0,
    "start_time": "2023-07-09T08:11:48.050Z"
   },
   {
    "duration": 0,
    "start_time": "2023-07-09T08:11:48.053Z"
   },
   {
    "duration": 0,
    "start_time": "2023-07-09T08:11:48.057Z"
   },
   {
    "duration": 0,
    "start_time": "2023-07-09T08:11:48.066Z"
   },
   {
    "duration": 0,
    "start_time": "2023-07-09T08:11:48.067Z"
   },
   {
    "duration": 0,
    "start_time": "2023-07-09T08:11:48.076Z"
   },
   {
    "duration": 0,
    "start_time": "2023-07-09T08:11:48.078Z"
   },
   {
    "duration": 0,
    "start_time": "2023-07-09T08:11:48.080Z"
   },
   {
    "duration": 0,
    "start_time": "2023-07-09T08:11:48.081Z"
   },
   {
    "duration": 0,
    "start_time": "2023-07-09T08:11:48.082Z"
   },
   {
    "duration": 0,
    "start_time": "2023-07-09T08:11:48.083Z"
   },
   {
    "duration": 54,
    "start_time": "2023-07-09T08:12:19.799Z"
   },
   {
    "duration": 14,
    "start_time": "2023-07-09T08:14:31.211Z"
   },
   {
    "duration": 52,
    "start_time": "2023-07-09T08:14:45.885Z"
   },
   {
    "duration": 43,
    "start_time": "2023-07-09T08:14:52.634Z"
   },
   {
    "duration": 1225,
    "start_time": "2023-07-09T08:15:00.999Z"
   },
   {
    "duration": 905,
    "start_time": "2023-07-09T08:15:02.227Z"
   },
   {
    "duration": 19,
    "start_time": "2023-07-09T08:15:03.133Z"
   },
   {
    "duration": 16,
    "start_time": "2023-07-09T08:15:03.154Z"
   },
   {
    "duration": 141,
    "start_time": "2023-07-09T08:15:03.174Z"
   },
   {
    "duration": 133,
    "start_time": "2023-07-09T08:15:03.318Z"
   },
   {
    "duration": 0,
    "start_time": "2023-07-09T08:15:03.453Z"
   },
   {
    "duration": 0,
    "start_time": "2023-07-09T08:15:03.454Z"
   },
   {
    "duration": 0,
    "start_time": "2023-07-09T08:15:03.456Z"
   },
   {
    "duration": 0,
    "start_time": "2023-07-09T08:15:03.467Z"
   },
   {
    "duration": 0,
    "start_time": "2023-07-09T08:15:03.468Z"
   },
   {
    "duration": 0,
    "start_time": "2023-07-09T08:15:03.469Z"
   },
   {
    "duration": 0,
    "start_time": "2023-07-09T08:15:03.471Z"
   },
   {
    "duration": 0,
    "start_time": "2023-07-09T08:15:03.472Z"
   },
   {
    "duration": 0,
    "start_time": "2023-07-09T08:15:03.473Z"
   },
   {
    "duration": 0,
    "start_time": "2023-07-09T08:15:03.474Z"
   },
   {
    "duration": 0,
    "start_time": "2023-07-09T08:15:03.475Z"
   },
   {
    "duration": 0,
    "start_time": "2023-07-09T08:15:03.476Z"
   },
   {
    "duration": 15,
    "start_time": "2023-07-09T08:15:47.419Z"
   },
   {
    "duration": 64,
    "start_time": "2023-07-09T08:16:02.603Z"
   },
   {
    "duration": 1219,
    "start_time": "2023-07-09T08:16:20.698Z"
   },
   {
    "duration": 890,
    "start_time": "2023-07-09T08:16:21.920Z"
   },
   {
    "duration": 20,
    "start_time": "2023-07-09T08:16:22.812Z"
   },
   {
    "duration": 4,
    "start_time": "2023-07-09T08:16:22.833Z"
   },
   {
    "duration": 151,
    "start_time": "2023-07-09T08:16:22.839Z"
   },
   {
    "duration": 75,
    "start_time": "2023-07-09T08:16:22.992Z"
   },
   {
    "duration": 3830,
    "start_time": "2023-07-09T08:16:23.069Z"
   },
   {
    "duration": 26,
    "start_time": "2023-07-09T08:16:26.902Z"
   },
   {
    "duration": 80,
    "start_time": "2023-07-09T08:16:26.931Z"
   },
   {
    "duration": 134,
    "start_time": "2023-07-09T08:16:27.014Z"
   },
   {
    "duration": 118,
    "start_time": "2023-07-09T08:16:27.150Z"
   },
   {
    "duration": 0,
    "start_time": "2023-07-09T08:16:27.270Z"
   },
   {
    "duration": 0,
    "start_time": "2023-07-09T08:16:27.272Z"
   },
   {
    "duration": 0,
    "start_time": "2023-07-09T08:16:27.273Z"
   },
   {
    "duration": 0,
    "start_time": "2023-07-09T08:16:27.274Z"
   },
   {
    "duration": 0,
    "start_time": "2023-07-09T08:16:27.275Z"
   },
   {
    "duration": 0,
    "start_time": "2023-07-09T08:16:27.276Z"
   },
   {
    "duration": 0,
    "start_time": "2023-07-09T08:16:27.277Z"
   },
   {
    "duration": 6,
    "start_time": "2023-07-09T08:16:44.462Z"
   },
   {
    "duration": 63,
    "start_time": "2023-07-09T08:16:46.176Z"
   },
   {
    "duration": 59,
    "start_time": "2023-07-09T08:16:46.855Z"
   },
   {
    "duration": 855,
    "start_time": "2023-07-09T08:16:47.289Z"
   },
   {
    "duration": 73,
    "start_time": "2023-07-09T08:16:48.146Z"
   },
   {
    "duration": 47,
    "start_time": "2023-07-09T08:16:48.221Z"
   },
   {
    "duration": 606,
    "start_time": "2023-07-09T08:16:48.403Z"
   },
   {
    "duration": 56,
    "start_time": "2023-07-09T08:16:56.772Z"
   },
   {
    "duration": 16,
    "start_time": "2023-07-09T08:18:10.246Z"
   },
   {
    "duration": 21,
    "start_time": "2023-07-09T08:19:44.338Z"
   },
   {
    "duration": 1251,
    "start_time": "2023-07-09T08:20:18.177Z"
   },
   {
    "duration": 931,
    "start_time": "2023-07-09T08:20:19.430Z"
   },
   {
    "duration": 18,
    "start_time": "2023-07-09T08:20:20.363Z"
   },
   {
    "duration": 4,
    "start_time": "2023-07-09T08:20:20.384Z"
   },
   {
    "duration": 135,
    "start_time": "2023-07-09T08:20:20.390Z"
   },
   {
    "duration": 73,
    "start_time": "2023-07-09T08:20:20.526Z"
   },
   {
    "duration": 4129,
    "start_time": "2023-07-09T08:20:20.601Z"
   },
   {
    "duration": 39,
    "start_time": "2023-07-09T08:20:24.732Z"
   },
   {
    "duration": 49,
    "start_time": "2023-07-09T08:20:24.774Z"
   },
   {
    "duration": 173,
    "start_time": "2023-07-09T08:20:24.826Z"
   },
   {
    "duration": 6,
    "start_time": "2023-07-09T08:20:25.001Z"
   },
   {
    "duration": 79,
    "start_time": "2023-07-09T08:20:25.009Z"
   },
   {
    "duration": 59,
    "start_time": "2023-07-09T08:20:25.089Z"
   },
   {
    "duration": 878,
    "start_time": "2023-07-09T08:20:25.151Z"
   },
   {
    "duration": 70,
    "start_time": "2023-07-09T08:20:26.031Z"
   },
   {
    "duration": 65,
    "start_time": "2023-07-09T08:20:26.103Z"
   },
   {
    "duration": 638,
    "start_time": "2023-07-09T08:20:26.170Z"
   },
   {
    "duration": 138,
    "start_time": "2023-07-09T08:20:26.811Z"
   },
   {
    "duration": 0,
    "start_time": "2023-07-09T08:20:26.952Z"
   },
   {
    "duration": 19,
    "start_time": "2023-07-09T08:22:07.660Z"
   },
   {
    "duration": 22,
    "start_time": "2023-07-09T08:22:12.873Z"
   },
   {
    "duration": 23,
    "start_time": "2023-07-09T08:22:32.576Z"
   },
   {
    "duration": 1203,
    "start_time": "2023-07-09T08:24:35.276Z"
   },
   {
    "duration": 836,
    "start_time": "2023-07-09T08:24:36.482Z"
   },
   {
    "duration": 18,
    "start_time": "2023-07-09T08:24:37.320Z"
   },
   {
    "duration": 3,
    "start_time": "2023-07-09T08:24:37.340Z"
   },
   {
    "duration": 139,
    "start_time": "2023-07-09T08:24:37.345Z"
   },
   {
    "duration": 60,
    "start_time": "2023-07-09T08:24:37.485Z"
   },
   {
    "duration": 3807,
    "start_time": "2023-07-09T08:24:37.547Z"
   },
   {
    "duration": 33,
    "start_time": "2023-07-09T08:24:41.355Z"
   },
   {
    "duration": 47,
    "start_time": "2023-07-09T08:24:41.390Z"
   },
   {
    "duration": 152,
    "start_time": "2023-07-09T08:24:41.439Z"
   },
   {
    "duration": 6,
    "start_time": "2023-07-09T08:24:41.593Z"
   },
   {
    "duration": 80,
    "start_time": "2023-07-09T08:24:41.601Z"
   },
   {
    "duration": 51,
    "start_time": "2023-07-09T08:24:41.683Z"
   },
   {
    "duration": 903,
    "start_time": "2023-07-09T08:24:41.738Z"
   },
   {
    "duration": 79,
    "start_time": "2023-07-09T08:24:42.642Z"
   },
   {
    "duration": 45,
    "start_time": "2023-07-09T08:24:42.723Z"
   },
   {
    "duration": 638,
    "start_time": "2023-07-09T08:24:42.771Z"
   },
   {
    "duration": 424,
    "start_time": "2023-07-09T08:24:43.411Z"
   },
   {
    "duration": 0,
    "start_time": "2023-07-09T08:24:43.837Z"
   },
   {
    "duration": 15,
    "start_time": "2023-07-09T08:25:40.589Z"
   },
   {
    "duration": 4,
    "start_time": "2023-07-09T08:26:03.197Z"
   },
   {
    "duration": 12,
    "start_time": "2023-07-09T08:26:06.062Z"
   },
   {
    "duration": 184,
    "start_time": "2023-07-09T08:26:14.441Z"
   },
   {
    "duration": 857,
    "start_time": "2023-07-09T08:29:38.363Z"
   },
   {
    "duration": 25,
    "start_time": "2023-07-09T08:30:08.222Z"
   },
   {
    "duration": 1652,
    "start_time": "2023-07-09T08:30:20.975Z"
   },
   {
    "duration": 826,
    "start_time": "2023-07-09T08:30:22.629Z"
   },
   {
    "duration": 25,
    "start_time": "2023-07-09T08:30:23.457Z"
   },
   {
    "duration": 4,
    "start_time": "2023-07-09T08:30:23.484Z"
   },
   {
    "duration": 146,
    "start_time": "2023-07-09T08:30:23.489Z"
   },
   {
    "duration": 69,
    "start_time": "2023-07-09T08:30:23.637Z"
   },
   {
    "duration": 3827,
    "start_time": "2023-07-09T08:30:23.708Z"
   },
   {
    "duration": 36,
    "start_time": "2023-07-09T08:30:27.537Z"
   },
   {
    "duration": 50,
    "start_time": "2023-07-09T08:30:27.576Z"
   },
   {
    "duration": 158,
    "start_time": "2023-07-09T08:30:27.628Z"
   },
   {
    "duration": 6,
    "start_time": "2023-07-09T08:30:27.788Z"
   },
   {
    "duration": 81,
    "start_time": "2023-07-09T08:30:27.796Z"
   },
   {
    "duration": 51,
    "start_time": "2023-07-09T08:30:27.879Z"
   },
   {
    "duration": 835,
    "start_time": "2023-07-09T08:30:27.932Z"
   },
   {
    "duration": 66,
    "start_time": "2023-07-09T08:30:28.768Z"
   },
   {
    "duration": 71,
    "start_time": "2023-07-09T08:30:28.836Z"
   },
   {
    "duration": 641,
    "start_time": "2023-07-09T08:30:28.908Z"
   },
   {
    "duration": 167,
    "start_time": "2023-07-09T08:30:29.551Z"
   },
   {
    "duration": 25,
    "start_time": "2023-07-09T08:30:29.720Z"
   },
   {
    "duration": 904,
    "start_time": "2023-07-09T08:30:29.747Z"
   },
   {
    "duration": 32,
    "start_time": "2023-07-09T08:30:30.653Z"
   },
   {
    "duration": 109,
    "start_time": "2023-07-09T08:30:30.686Z"
   },
   {
    "duration": 398,
    "start_time": "2023-07-09T08:32:56.390Z"
   },
   {
    "duration": 241,
    "start_time": "2023-07-09T08:36:53.323Z"
   },
   {
    "duration": 1336,
    "start_time": "2023-07-09T08:38:22.243Z"
   },
   {
    "duration": 976,
    "start_time": "2023-07-09T08:38:23.581Z"
   },
   {
    "duration": 26,
    "start_time": "2023-07-09T08:38:24.558Z"
   },
   {
    "duration": 4,
    "start_time": "2023-07-09T08:38:24.585Z"
   },
   {
    "duration": 136,
    "start_time": "2023-07-09T08:38:24.592Z"
   },
   {
    "duration": 72,
    "start_time": "2023-07-09T08:38:24.730Z"
   },
   {
    "duration": 3931,
    "start_time": "2023-07-09T08:38:24.804Z"
   },
   {
    "duration": 38,
    "start_time": "2023-07-09T08:38:28.737Z"
   },
   {
    "duration": 57,
    "start_time": "2023-07-09T08:38:28.778Z"
   },
   {
    "duration": 209,
    "start_time": "2023-07-09T08:38:28.837Z"
   },
   {
    "duration": 73,
    "start_time": "2023-07-09T08:38:29.047Z"
   },
   {
    "duration": 67,
    "start_time": "2023-07-09T08:38:29.122Z"
   },
   {
    "duration": 924,
    "start_time": "2023-07-09T08:38:29.191Z"
   },
   {
    "duration": 84,
    "start_time": "2023-07-09T08:38:30.119Z"
   },
   {
    "duration": 42,
    "start_time": "2023-07-09T08:38:30.204Z"
   },
   {
    "duration": 687,
    "start_time": "2023-07-09T08:38:30.248Z"
   },
   {
    "duration": 177,
    "start_time": "2023-07-09T08:38:30.937Z"
   },
   {
    "duration": 27,
    "start_time": "2023-07-09T08:38:31.116Z"
   },
   {
    "duration": 135,
    "start_time": "2023-07-09T08:38:31.145Z"
   },
   {
    "duration": 452,
    "start_time": "2023-07-09T08:38:31.283Z"
   },
   {
    "duration": 221,
    "start_time": "2023-07-09T08:38:31.736Z"
   },
   {
    "duration": 220,
    "start_time": "2023-07-09T08:38:42.247Z"
   },
   {
    "duration": 5,
    "start_time": "2023-07-09T08:39:01.270Z"
   },
   {
    "duration": 1236,
    "start_time": "2023-07-09T08:41:14.470Z"
   },
   {
    "duration": 876,
    "start_time": "2023-07-09T08:41:15.708Z"
   },
   {
    "duration": 20,
    "start_time": "2023-07-09T08:41:16.586Z"
   },
   {
    "duration": 3,
    "start_time": "2023-07-09T08:41:16.608Z"
   },
   {
    "duration": 161,
    "start_time": "2023-07-09T08:41:16.614Z"
   },
   {
    "duration": 91,
    "start_time": "2023-07-09T08:41:16.778Z"
   },
   {
    "duration": 3833,
    "start_time": "2023-07-09T08:41:16.871Z"
   },
   {
    "duration": 21,
    "start_time": "2023-07-09T08:41:20.706Z"
   },
   {
    "duration": 57,
    "start_time": "2023-07-09T08:41:20.729Z"
   },
   {
    "duration": 154,
    "start_time": "2023-07-09T08:41:20.788Z"
   },
   {
    "duration": 68,
    "start_time": "2023-07-09T08:41:20.944Z"
   },
   {
    "duration": 62,
    "start_time": "2023-07-09T08:41:21.014Z"
   },
   {
    "duration": 835,
    "start_time": "2023-07-09T08:41:21.077Z"
   },
   {
    "duration": 75,
    "start_time": "2023-07-09T08:41:21.916Z"
   },
   {
    "duration": 41,
    "start_time": "2023-07-09T08:41:21.992Z"
   },
   {
    "duration": 656,
    "start_time": "2023-07-09T08:41:22.035Z"
   },
   {
    "duration": 178,
    "start_time": "2023-07-09T08:41:22.693Z"
   },
   {
    "duration": 25,
    "start_time": "2023-07-09T08:41:22.873Z"
   },
   {
    "duration": 68,
    "start_time": "2023-07-09T08:41:22.900Z"
   },
   {
    "duration": 106,
    "start_time": "2023-07-09T08:41:22.970Z"
   },
   {
    "duration": 377,
    "start_time": "2023-07-09T08:41:23.078Z"
   },
   {
    "duration": 11,
    "start_time": "2023-07-09T08:41:23.457Z"
   },
   {
    "duration": 1263,
    "start_time": "2023-07-09T08:42:05.406Z"
   },
   {
    "duration": 936,
    "start_time": "2023-07-09T08:42:06.671Z"
   },
   {
    "duration": 18,
    "start_time": "2023-07-09T08:42:07.609Z"
   },
   {
    "duration": 6,
    "start_time": "2023-07-09T08:42:07.629Z"
   },
   {
    "duration": 136,
    "start_time": "2023-07-09T08:42:07.637Z"
   },
   {
    "duration": 67,
    "start_time": "2023-07-09T08:42:07.776Z"
   },
   {
    "duration": 3889,
    "start_time": "2023-07-09T08:42:07.845Z"
   },
   {
    "duration": 32,
    "start_time": "2023-07-09T08:42:11.735Z"
   },
   {
    "duration": 43,
    "start_time": "2023-07-09T08:42:11.769Z"
   },
   {
    "duration": 137,
    "start_time": "2023-07-09T08:42:11.814Z"
   },
   {
    "duration": 74,
    "start_time": "2023-07-09T08:42:11.952Z"
   },
   {
    "duration": 65,
    "start_time": "2023-07-09T08:42:12.028Z"
   },
   {
    "duration": 873,
    "start_time": "2023-07-09T08:42:12.095Z"
   },
   {
    "duration": 68,
    "start_time": "2023-07-09T08:42:12.970Z"
   },
   {
    "duration": 53,
    "start_time": "2023-07-09T08:42:13.040Z"
   },
   {
    "duration": 648,
    "start_time": "2023-07-09T08:42:13.094Z"
   },
   {
    "duration": 185,
    "start_time": "2023-07-09T08:42:13.744Z"
   },
   {
    "duration": 38,
    "start_time": "2023-07-09T08:42:13.931Z"
   },
   {
    "duration": 68,
    "start_time": "2023-07-09T08:42:13.972Z"
   },
   {
    "duration": 138,
    "start_time": "2023-07-09T08:42:14.042Z"
   },
   {
    "duration": 103,
    "start_time": "2023-07-09T08:42:14.182Z"
   },
   {
    "duration": 5,
    "start_time": "2023-07-09T08:42:14.287Z"
   },
   {
    "duration": 82,
    "start_time": "2023-07-09T08:46:02.695Z"
   },
   {
    "duration": 84,
    "start_time": "2023-07-09T08:46:03.568Z"
   },
   {
    "duration": 1236,
    "start_time": "2023-07-09T08:46:11.541Z"
   },
   {
    "duration": 980,
    "start_time": "2023-07-09T08:46:12.780Z"
   },
   {
    "duration": 21,
    "start_time": "2023-07-09T08:46:13.762Z"
   },
   {
    "duration": 4,
    "start_time": "2023-07-09T08:46:13.786Z"
   },
   {
    "duration": 200,
    "start_time": "2023-07-09T08:46:13.793Z"
   },
   {
    "duration": 88,
    "start_time": "2023-07-09T08:46:13.995Z"
   },
   {
    "duration": 4057,
    "start_time": "2023-07-09T08:46:14.086Z"
   },
   {
    "duration": 29,
    "start_time": "2023-07-09T08:46:18.145Z"
   },
   {
    "duration": 47,
    "start_time": "2023-07-09T08:46:18.176Z"
   },
   {
    "duration": 168,
    "start_time": "2023-07-09T08:46:18.225Z"
   },
   {
    "duration": 112,
    "start_time": "2023-07-09T08:46:18.395Z"
   },
   {
    "duration": 89,
    "start_time": "2023-07-09T08:46:18.510Z"
   },
   {
    "duration": 947,
    "start_time": "2023-07-09T08:46:18.601Z"
   },
   {
    "duration": 88,
    "start_time": "2023-07-09T08:46:19.551Z"
   },
   {
    "duration": 51,
    "start_time": "2023-07-09T08:46:19.640Z"
   },
   {
    "duration": 695,
    "start_time": "2023-07-09T08:46:19.693Z"
   },
   {
    "duration": 184,
    "start_time": "2023-07-09T08:46:20.390Z"
   },
   {
    "duration": 26,
    "start_time": "2023-07-09T08:46:20.576Z"
   },
   {
    "duration": 77,
    "start_time": "2023-07-09T08:46:20.604Z"
   },
   {
    "duration": 117,
    "start_time": "2023-07-09T08:46:20.683Z"
   },
   {
    "duration": 107,
    "start_time": "2023-07-09T08:46:20.802Z"
   },
   {
    "duration": 5,
    "start_time": "2023-07-09T08:46:20.911Z"
   },
   {
    "duration": 1187,
    "start_time": "2023-07-09T08:47:46.812Z"
   },
   {
    "duration": 896,
    "start_time": "2023-07-09T08:47:48.002Z"
   },
   {
    "duration": 20,
    "start_time": "2023-07-09T08:47:48.900Z"
   },
   {
    "duration": 4,
    "start_time": "2023-07-09T08:47:48.922Z"
   },
   {
    "duration": 175,
    "start_time": "2023-07-09T08:47:48.929Z"
   },
   {
    "duration": 74,
    "start_time": "2023-07-09T08:47:49.106Z"
   },
   {
    "duration": 3869,
    "start_time": "2023-07-09T08:47:49.182Z"
   },
   {
    "duration": 25,
    "start_time": "2023-07-09T08:47:53.053Z"
   },
   {
    "duration": 87,
    "start_time": "2023-07-09T08:47:53.080Z"
   },
   {
    "duration": 149,
    "start_time": "2023-07-09T08:47:53.170Z"
   },
   {
    "duration": 67,
    "start_time": "2023-07-09T08:47:53.321Z"
   },
   {
    "duration": 52,
    "start_time": "2023-07-09T08:47:53.390Z"
   },
   {
    "duration": 929,
    "start_time": "2023-07-09T08:47:53.444Z"
   },
   {
    "duration": 66,
    "start_time": "2023-07-09T08:47:54.377Z"
   },
   {
    "duration": 64,
    "start_time": "2023-07-09T08:47:54.444Z"
   },
   {
    "duration": 630,
    "start_time": "2023-07-09T08:47:54.510Z"
   },
   {
    "duration": 177,
    "start_time": "2023-07-09T08:47:55.142Z"
   },
   {
    "duration": 24,
    "start_time": "2023-07-09T08:47:55.321Z"
   },
   {
    "duration": 58,
    "start_time": "2023-07-09T08:47:55.347Z"
   },
   {
    "duration": 36,
    "start_time": "2023-07-09T08:47:55.407Z"
   },
   {
    "duration": 69,
    "start_time": "2023-07-09T08:47:55.444Z"
   },
   {
    "duration": 5,
    "start_time": "2023-07-09T08:47:55.515Z"
   },
   {
    "duration": 215,
    "start_time": "2023-07-09T08:48:27.270Z"
   },
   {
    "duration": 4,
    "start_time": "2023-07-09T08:48:31.217Z"
   },
   {
    "duration": 142,
    "start_time": "2023-07-09T08:48:42.085Z"
   },
   {
    "duration": 52,
    "start_time": "2023-07-09T08:51:51.396Z"
   },
   {
    "duration": 899,
    "start_time": "2023-07-09T08:51:53.953Z"
   },
   {
    "duration": 124,
    "start_time": "2023-07-09T08:53:34.576Z"
   },
   {
    "duration": 298,
    "start_time": "2023-07-09T08:53:49.820Z"
   },
   {
    "duration": 317,
    "start_time": "2023-07-09T08:54:23.042Z"
   },
   {
    "duration": 389,
    "start_time": "2023-07-09T08:54:41.233Z"
   },
   {
    "duration": 20,
    "start_time": "2023-07-09T08:55:34.565Z"
   },
   {
    "duration": 1188,
    "start_time": "2023-07-09T08:55:55.817Z"
   },
   {
    "duration": 920,
    "start_time": "2023-07-09T08:55:57.007Z"
   },
   {
    "duration": 20,
    "start_time": "2023-07-09T08:55:57.929Z"
   },
   {
    "duration": 15,
    "start_time": "2023-07-09T08:55:57.952Z"
   },
   {
    "duration": 126,
    "start_time": "2023-07-09T08:55:57.969Z"
   },
   {
    "duration": 71,
    "start_time": "2023-07-09T08:55:58.096Z"
   },
   {
    "duration": 3902,
    "start_time": "2023-07-09T08:55:58.169Z"
   },
   {
    "duration": 21,
    "start_time": "2023-07-09T08:56:02.073Z"
   },
   {
    "duration": 68,
    "start_time": "2023-07-09T08:56:02.096Z"
   },
   {
    "duration": 143,
    "start_time": "2023-07-09T08:56:02.167Z"
   },
   {
    "duration": 77,
    "start_time": "2023-07-09T08:56:02.312Z"
   },
   {
    "duration": 82,
    "start_time": "2023-07-09T08:56:02.391Z"
   },
   {
    "duration": 906,
    "start_time": "2023-07-09T08:56:02.475Z"
   },
   {
    "duration": 88,
    "start_time": "2023-07-09T08:56:03.383Z"
   },
   {
    "duration": 43,
    "start_time": "2023-07-09T08:56:03.473Z"
   },
   {
    "duration": 350,
    "start_time": "2023-07-09T08:56:03.519Z"
   },
   {
    "duration": 19,
    "start_time": "2023-07-09T08:56:03.870Z"
   },
   {
    "duration": 272,
    "start_time": "2023-07-09T08:56:03.890Z"
   },
   {
    "duration": 29,
    "start_time": "2023-07-09T08:56:04.165Z"
   },
   {
    "duration": 89,
    "start_time": "2023-07-09T08:56:04.196Z"
   },
   {
    "duration": 48,
    "start_time": "2023-07-09T08:56:04.287Z"
   },
   {
    "duration": 242,
    "start_time": "2023-07-09T08:56:04.337Z"
   },
   {
    "duration": 157,
    "start_time": "2023-07-09T08:56:04.582Z"
   },
   {
    "duration": 1238,
    "start_time": "2023-07-09T08:56:30.584Z"
   },
   {
    "duration": 880,
    "start_time": "2023-07-09T08:56:31.824Z"
   },
   {
    "duration": 18,
    "start_time": "2023-07-09T08:56:32.706Z"
   },
   {
    "duration": 4,
    "start_time": "2023-07-09T08:56:32.726Z"
   },
   {
    "duration": 144,
    "start_time": "2023-07-09T08:56:32.732Z"
   },
   {
    "duration": 65,
    "start_time": "2023-07-09T08:56:32.878Z"
   },
   {
    "duration": 3768,
    "start_time": "2023-07-09T08:56:32.945Z"
   },
   {
    "duration": 22,
    "start_time": "2023-07-09T08:56:36.714Z"
   },
   {
    "duration": 60,
    "start_time": "2023-07-09T08:56:36.738Z"
   },
   {
    "duration": 150,
    "start_time": "2023-07-09T08:56:36.800Z"
   },
   {
    "duration": 67,
    "start_time": "2023-07-09T08:56:36.952Z"
   },
   {
    "duration": 76,
    "start_time": "2023-07-09T08:56:37.021Z"
   },
   {
    "duration": 961,
    "start_time": "2023-07-09T08:56:37.099Z"
   },
   {
    "duration": 83,
    "start_time": "2023-07-09T08:56:38.068Z"
   },
   {
    "duration": 49,
    "start_time": "2023-07-09T08:56:38.153Z"
   },
   {
    "duration": 332,
    "start_time": "2023-07-09T08:56:38.204Z"
   },
   {
    "duration": 32,
    "start_time": "2023-07-09T08:56:38.538Z"
   },
   {
    "duration": 156,
    "start_time": "2023-07-09T08:56:38.572Z"
   },
   {
    "duration": 177,
    "start_time": "2023-07-09T08:56:38.730Z"
   },
   {
    "duration": 34,
    "start_time": "2023-07-09T08:56:38.909Z"
   },
   {
    "duration": 65,
    "start_time": "2023-07-09T08:56:38.945Z"
   },
   {
    "duration": 39,
    "start_time": "2023-07-09T08:56:39.012Z"
   },
   {
    "duration": 215,
    "start_time": "2023-07-09T08:56:39.068Z"
   },
   {
    "duration": 13,
    "start_time": "2023-07-09T09:04:33.650Z"
   },
   {
    "duration": 114,
    "start_time": "2023-07-09T09:08:55.035Z"
   },
   {
    "duration": 298,
    "start_time": "2023-07-09T09:09:46.658Z"
   },
   {
    "duration": 32,
    "start_time": "2023-07-09T09:09:51.947Z"
   },
   {
    "duration": 374,
    "start_time": "2023-07-09T09:10:09.200Z"
   },
   {
    "duration": 1484,
    "start_time": "2023-07-09T09:11:13.195Z"
   },
   {
    "duration": 944,
    "start_time": "2023-07-09T09:11:14.682Z"
   },
   {
    "duration": 17,
    "start_time": "2023-07-09T09:11:15.628Z"
   },
   {
    "duration": 4,
    "start_time": "2023-07-09T09:11:15.647Z"
   },
   {
    "duration": 192,
    "start_time": "2023-07-09T09:11:15.654Z"
   },
   {
    "duration": 81,
    "start_time": "2023-07-09T09:11:15.848Z"
   },
   {
    "duration": 4264,
    "start_time": "2023-07-09T09:11:15.931Z"
   },
   {
    "duration": 21,
    "start_time": "2023-07-09T09:11:20.197Z"
   },
   {
    "duration": 69,
    "start_time": "2023-07-09T09:11:20.220Z"
   },
   {
    "duration": 155,
    "start_time": "2023-07-09T09:11:20.291Z"
   },
   {
    "duration": 82,
    "start_time": "2023-07-09T09:11:20.448Z"
   },
   {
    "duration": 75,
    "start_time": "2023-07-09T09:11:20.532Z"
   },
   {
    "duration": 992,
    "start_time": "2023-07-09T09:11:20.609Z"
   },
   {
    "duration": 76,
    "start_time": "2023-07-09T09:11:21.605Z"
   },
   {
    "duration": 54,
    "start_time": "2023-07-09T09:11:21.684Z"
   },
   {
    "duration": 333,
    "start_time": "2023-07-09T09:11:21.740Z"
   },
   {
    "duration": 21,
    "start_time": "2023-07-09T09:11:22.075Z"
   },
   {
    "duration": 178,
    "start_time": "2023-07-09T09:11:22.098Z"
   },
   {
    "duration": 246,
    "start_time": "2023-07-09T09:11:22.278Z"
   },
   {
    "duration": 28,
    "start_time": "2023-07-09T09:11:22.526Z"
   },
   {
    "duration": 90,
    "start_time": "2023-07-09T09:11:22.569Z"
   },
   {
    "duration": 50,
    "start_time": "2023-07-09T09:11:22.668Z"
   },
   {
    "duration": 303,
    "start_time": "2023-07-09T09:11:22.720Z"
   },
   {
    "duration": 14,
    "start_time": "2023-07-09T09:11:23.025Z"
   },
   {
    "duration": 149,
    "start_time": "2023-07-09T09:11:23.042Z"
   },
   {
    "duration": 13,
    "start_time": "2023-07-09T09:11:36.844Z"
   },
   {
    "duration": 398,
    "start_time": "2023-07-09T09:11:37.483Z"
   },
   {
    "duration": 1574,
    "start_time": "2023-07-09T09:12:51.275Z"
   },
   {
    "duration": 897,
    "start_time": "2023-07-09T09:12:52.851Z"
   },
   {
    "duration": 24,
    "start_time": "2023-07-09T09:12:53.750Z"
   },
   {
    "duration": 5,
    "start_time": "2023-07-09T09:12:53.777Z"
   },
   {
    "duration": 137,
    "start_time": "2023-07-09T09:12:53.785Z"
   },
   {
    "duration": 80,
    "start_time": "2023-07-09T09:12:53.924Z"
   },
   {
    "duration": 3832,
    "start_time": "2023-07-09T09:12:54.006Z"
   },
   {
    "duration": 28,
    "start_time": "2023-07-09T09:12:57.840Z"
   },
   {
    "duration": 47,
    "start_time": "2023-07-09T09:12:57.870Z"
   },
   {
    "duration": 114,
    "start_time": "2023-07-09T09:12:57.918Z"
   },
   {
    "duration": 69,
    "start_time": "2023-07-09T09:12:58.034Z"
   },
   {
    "duration": 64,
    "start_time": "2023-07-09T09:12:58.104Z"
   },
   {
    "duration": 850,
    "start_time": "2023-07-09T09:12:58.170Z"
   },
   {
    "duration": 72,
    "start_time": "2023-07-09T09:12:59.024Z"
   },
   {
    "duration": 42,
    "start_time": "2023-07-09T09:12:59.098Z"
   },
   {
    "duration": 302,
    "start_time": "2023-07-09T09:12:59.141Z"
   },
   {
    "duration": 29,
    "start_time": "2023-07-09T09:12:59.445Z"
   },
   {
    "duration": 149,
    "start_time": "2023-07-09T09:12:59.476Z"
   },
   {
    "duration": 171,
    "start_time": "2023-07-09T09:12:59.627Z"
   },
   {
    "duration": 30,
    "start_time": "2023-07-09T09:12:59.800Z"
   },
   {
    "duration": 64,
    "start_time": "2023-07-09T09:12:59.832Z"
   },
   {
    "duration": 38,
    "start_time": "2023-07-09T09:12:59.898Z"
   },
   {
    "duration": 240,
    "start_time": "2023-07-09T09:12:59.938Z"
   },
   {
    "duration": 12,
    "start_time": "2023-07-09T09:13:00.180Z"
   },
   {
    "duration": 378,
    "start_time": "2023-07-09T09:13:00.194Z"
   },
   {
    "duration": 14,
    "start_time": "2023-07-09T09:24:46.803Z"
   },
   {
    "duration": 366,
    "start_time": "2023-07-09T09:24:47.336Z"
   },
   {
    "duration": 104,
    "start_time": "2023-07-09T09:24:48.454Z"
   },
   {
    "duration": 19,
    "start_time": "2023-07-09T09:25:24.716Z"
   },
   {
    "duration": 42,
    "start_time": "2023-07-09T09:25:31.212Z"
   },
   {
    "duration": 5,
    "start_time": "2023-07-09T09:30:14.414Z"
   },
   {
    "duration": 104,
    "start_time": "2023-07-09T09:31:17.154Z"
   },
   {
    "duration": 4,
    "start_time": "2023-07-09T09:31:23.332Z"
   },
   {
    "duration": 5,
    "start_time": "2023-07-09T09:31:38.627Z"
   },
   {
    "duration": 3,
    "start_time": "2023-07-09T09:33:34.946Z"
   },
   {
    "duration": 3,
    "start_time": "2023-07-09T10:00:48.131Z"
   },
   {
    "duration": 5,
    "start_time": "2023-07-09T10:04:10.465Z"
   },
   {
    "duration": 267,
    "start_time": "2023-07-09T10:11:03.108Z"
   },
   {
    "duration": 1699150,
    "start_time": "2023-07-09T11:00:04.054Z"
   },
   {
    "duration": 4,
    "start_time": "2023-07-09T15:36:24.424Z"
   },
   {
    "duration": 1496,
    "start_time": "2023-07-09T17:32:29.042Z"
   },
   {
    "duration": 3097,
    "start_time": "2023-07-09T17:32:30.540Z"
   },
   {
    "duration": 18,
    "start_time": "2023-07-09T17:32:33.638Z"
   },
   {
    "duration": 5,
    "start_time": "2023-07-09T17:32:33.657Z"
   },
   {
    "duration": 114,
    "start_time": "2023-07-09T17:32:33.664Z"
   },
   {
    "duration": 64,
    "start_time": "2023-07-09T17:32:33.779Z"
   },
   {
    "duration": 3749,
    "start_time": "2023-07-09T17:32:33.845Z"
   },
   {
    "duration": 19,
    "start_time": "2023-07-09T17:32:37.596Z"
   },
   {
    "duration": 59,
    "start_time": "2023-07-09T17:32:37.617Z"
   },
   {
    "duration": 141,
    "start_time": "2023-07-09T17:32:37.677Z"
   },
   {
    "duration": 72,
    "start_time": "2023-07-09T17:32:37.821Z"
   },
   {
    "duration": 53,
    "start_time": "2023-07-09T17:32:37.895Z"
   },
   {
    "duration": 878,
    "start_time": "2023-07-09T17:32:37.950Z"
   },
   {
    "duration": 77,
    "start_time": "2023-07-09T17:32:38.831Z"
   },
   {
    "duration": 145,
    "start_time": "2023-07-09T17:32:38.910Z"
   },
   {
    "duration": 283,
    "start_time": "2023-07-09T17:32:39.057Z"
   },
   {
    "duration": 28,
    "start_time": "2023-07-09T17:32:39.341Z"
   },
   {
    "duration": 142,
    "start_time": "2023-07-09T17:32:39.371Z"
   },
   {
    "duration": 167,
    "start_time": "2023-07-09T17:32:39.515Z"
   },
   {
    "duration": 24,
    "start_time": "2023-07-09T17:32:39.684Z"
   },
   {
    "duration": 64,
    "start_time": "2023-07-09T17:32:39.709Z"
   },
   {
    "duration": 39,
    "start_time": "2023-07-09T17:32:39.775Z"
   },
   {
    "duration": 231,
    "start_time": "2023-07-09T17:32:39.816Z"
   },
   {
    "duration": 19,
    "start_time": "2023-07-09T17:32:40.048Z"
   },
   {
    "duration": 371,
    "start_time": "2023-07-09T17:32:40.068Z"
   },
   {
    "duration": 57,
    "start_time": "2023-07-09T17:32:40.440Z"
   },
   {
    "duration": 5,
    "start_time": "2023-07-09T17:32:40.499Z"
   },
   {
    "duration": 6,
    "start_time": "2023-07-09T17:32:40.506Z"
   },
   {
    "duration": 1181167,
    "start_time": "2023-07-09T17:32:40.514Z"
   },
   {
    "duration": 122,
    "start_time": "2023-07-09T17:52:21.683Z"
   },
   {
    "duration": 0,
    "start_time": "2023-07-09T17:52:21.807Z"
   },
   {
    "duration": 0,
    "start_time": "2023-07-09T17:52:21.809Z"
   },
   {
    "duration": 0,
    "start_time": "2023-07-09T17:52:21.810Z"
   },
   {
    "duration": 0,
    "start_time": "2023-07-09T17:52:21.812Z"
   },
   {
    "duration": 5,
    "start_time": "2023-07-09T17:53:32.971Z"
   },
   {
    "duration": 149,
    "start_time": "2023-07-09T17:53:40.523Z"
   },
   {
    "duration": 218,
    "start_time": "2023-07-09T17:53:55.750Z"
   },
   {
    "duration": 13,
    "start_time": "2023-07-09T17:54:33.854Z"
   },
   {
    "duration": 217114,
    "start_time": "2023-07-09T17:55:47.611Z"
   },
   {
    "duration": 111,
    "start_time": "2023-07-09T17:59:24.728Z"
   },
   {
    "duration": 0,
    "start_time": "2023-07-09T17:59:24.841Z"
   },
   {
    "duration": 14,
    "start_time": "2023-07-09T18:01:57.165Z"
   },
   {
    "duration": 4,
    "start_time": "2023-07-09T18:04:59.618Z"
   },
   {
    "duration": 18,
    "start_time": "2023-07-09T18:05:16.184Z"
   },
   {
    "duration": 4231565,
    "start_time": "2023-07-09T18:05:42.547Z"
   },
   {
    "duration": 0,
    "start_time": "2023-07-09T19:16:14.115Z"
   },
   {
    "duration": 1620,
    "start_time": "2023-07-10T18:36:30.328Z"
   },
   {
    "duration": 858,
    "start_time": "2023-07-10T18:36:31.950Z"
   },
   {
    "duration": 27,
    "start_time": "2023-07-10T18:36:32.810Z"
   },
   {
    "duration": 15,
    "start_time": "2023-07-10T18:36:32.844Z"
   },
   {
    "duration": 188,
    "start_time": "2023-07-10T18:36:32.861Z"
   },
   {
    "duration": 58,
    "start_time": "2023-07-10T18:36:33.051Z"
   },
   {
    "duration": 3811,
    "start_time": "2023-07-10T18:36:33.110Z"
   },
   {
    "duration": 35,
    "start_time": "2023-07-10T18:36:36.922Z"
   },
   {
    "duration": 47,
    "start_time": "2023-07-10T18:36:36.959Z"
   },
   {
    "duration": 168,
    "start_time": "2023-07-10T18:36:37.009Z"
   },
   {
    "duration": 89,
    "start_time": "2023-07-10T18:36:37.179Z"
   },
   {
    "duration": 49,
    "start_time": "2023-07-10T18:36:37.269Z"
   },
   {
    "duration": 935,
    "start_time": "2023-07-10T18:36:37.320Z"
   },
   {
    "duration": 54,
    "start_time": "2023-07-10T18:36:38.257Z"
   },
   {
    "duration": 60,
    "start_time": "2023-07-10T18:36:38.313Z"
   },
   {
    "duration": 375,
    "start_time": "2023-07-10T18:36:38.374Z"
   },
   {
    "duration": 16,
    "start_time": "2023-07-10T18:36:38.751Z"
   },
   {
    "duration": 148,
    "start_time": "2023-07-10T18:36:38.769Z"
   },
   {
    "duration": 196,
    "start_time": "2023-07-10T18:36:38.919Z"
   },
   {
    "duration": 38,
    "start_time": "2023-07-10T18:36:39.116Z"
   },
   {
    "duration": 54,
    "start_time": "2023-07-10T18:36:39.156Z"
   },
   {
    "duration": 54,
    "start_time": "2023-07-10T18:36:39.212Z"
   },
   {
    "duration": 220,
    "start_time": "2023-07-10T18:36:39.268Z"
   },
   {
    "duration": 44,
    "start_time": "2023-07-10T18:36:48.065Z"
   },
   {
    "duration": 1769,
    "start_time": "2023-07-11T19:06:57.786Z"
   },
   {
    "duration": 1332,
    "start_time": "2023-07-11T19:06:59.558Z"
   },
   {
    "duration": 20,
    "start_time": "2023-07-11T19:07:00.892Z"
   },
   {
    "duration": 61,
    "start_time": "2023-07-11T19:07:00.914Z"
   },
   {
    "duration": 237,
    "start_time": "2023-07-11T19:07:00.977Z"
   },
   {
    "duration": 63,
    "start_time": "2023-07-11T19:07:01.216Z"
   },
   {
    "duration": 4097,
    "start_time": "2023-07-11T19:07:01.281Z"
   },
   {
    "duration": 32,
    "start_time": "2023-07-11T19:07:05.381Z"
   },
   {
    "duration": 76,
    "start_time": "2023-07-11T19:07:05.415Z"
   },
   {
    "duration": 137,
    "start_time": "2023-07-11T19:07:05.493Z"
   },
   {
    "duration": 81,
    "start_time": "2023-07-11T19:07:05.631Z"
   },
   {
    "duration": 151,
    "start_time": "2023-07-11T19:07:05.713Z"
   },
   {
    "duration": 892,
    "start_time": "2023-07-11T19:07:05.866Z"
   },
   {
    "duration": 52,
    "start_time": "2023-07-11T19:07:06.762Z"
   },
   {
    "duration": 135,
    "start_time": "2023-07-11T19:07:06.815Z"
   },
   {
    "duration": 323,
    "start_time": "2023-07-11T19:07:06.952Z"
   },
   {
    "duration": 16,
    "start_time": "2023-07-11T19:07:07.276Z"
   },
   {
    "duration": 155,
    "start_time": "2023-07-11T19:07:07.294Z"
   },
   {
    "duration": 196,
    "start_time": "2023-07-11T19:07:07.451Z"
   },
   {
    "duration": 25,
    "start_time": "2023-07-11T19:07:07.649Z"
   },
   {
    "duration": 76,
    "start_time": "2023-07-11T19:07:07.675Z"
   },
   {
    "duration": 48,
    "start_time": "2023-07-11T19:07:07.753Z"
   },
   {
    "duration": 231,
    "start_time": "2023-07-11T19:07:07.803Z"
   },
   {
    "duration": 49,
    "start_time": "2023-07-11T19:07:08.042Z"
   },
   {
    "duration": 11,
    "start_time": "2023-07-11T19:07:08.092Z"
   },
   {
    "duration": 417,
    "start_time": "2023-07-11T19:07:08.104Z"
   },
   {
    "duration": 41,
    "start_time": "2023-07-11T19:07:08.523Z"
   },
   {
    "duration": 4,
    "start_time": "2023-07-11T19:07:08.565Z"
   },
   {
    "duration": 8,
    "start_time": "2023-07-11T19:07:08.571Z"
   },
   {
    "duration": 1106388,
    "start_time": "2023-07-11T19:07:08.581Z"
   },
   {
    "duration": 259,
    "start_time": "2023-07-11T19:25:34.973Z"
   }
  ],
  "kernelspec": {
   "display_name": "Python 3 (ipykernel)",
   "language": "python",
   "name": "python3"
  },
  "language_info": {
   "codemirror_mode": {
    "name": "ipython",
    "version": 3
   },
   "file_extension": ".py",
   "mimetype": "text/x-python",
   "name": "python",
   "nbconvert_exporter": "python",
   "pygments_lexer": "ipython3",
   "version": "3.9.12"
  },
  "toc": {
   "base_numbering": 1,
   "nav_menu": {},
   "number_sections": true,
   "sideBar": true,
   "skip_h1_title": true,
   "title_cell": "Table of Contents",
   "title_sidebar": "Contents",
   "toc_cell": false,
   "toc_position": {},
   "toc_section_display": true,
   "toc_window_display": false
  }
 },
 "nbformat": 4,
 "nbformat_minor": 2
}
