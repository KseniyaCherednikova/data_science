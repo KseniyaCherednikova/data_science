{
 "cells": [
  {
   "cell_type": "markdown",
   "metadata": {},
   "source": [
    "# Отток клиентов"
   ]
  },
  {
   "cell_type": "markdown",
   "metadata": {},
   "source": [
    "Из банка стали уходить клиенты. Каждый месяц. Немного, но заметно. Банковские маркетологи посчитали: сохранять текущих клиентов дешевле, чем привлекать новых.\n",
    "\n",
    "Нужно спрогнозировать, уйдёт клиент из банка в ближайшее время или нет. Предоставлены исторические данные о поведении клиентов и расторжении договоров с банком. \n",
    "\n",
    "Необходимо построить модель с предельно большим значением *F1*-меры, довести метрику до 0.59. "
   ]
  },
  {
   "cell_type": "markdown",
   "metadata": {},
   "source": [
    "Признаки:\n",
    "- RowNumber — индекс строки в данных\n",
    "- CustomerId — уникальный идентификатор клиента\n",
    "- Surname — фамилия\n",
    "- CreditScore — кредитный рейтинг\n",
    "- Geography — страна проживания\n",
    "- Gender — пол\n",
    "- Age — возраст\n",
    "- Tenure — сколько лет человек является клиентом банка\n",
    "- Balance — баланс на счёте\n",
    "- NumOfProducts — количество продуктов банка, используемых клиентом\n",
    "- HasCrCard — наличие кредитной карты\n",
    "- IsActiveMember — активность клиента\n",
    "- EstimatedSalary — предполагаемая зарплата\n",
    "\n",
    "Целевой признак\n",
    "- Exited — факт ухода клиента"
   ]
  },
  {
   "cell_type": "markdown",
   "metadata": {},
   "source": [
    "## Подготовка данных"
   ]
  },
  {
   "cell_type": "code",
   "execution_count": 1,
   "metadata": {},
   "outputs": [],
   "source": [
    "import pandas as pd\n",
    "import numpy as np\n",
    "from sklearn.model_selection import train_test_split\n",
    "from sklearn.tree import DecisionTreeClassifier\n",
    "from sklearn.ensemble import RandomForestClassifier \n",
    "from sklearn.linear_model import LogisticRegression\n",
    "from sklearn.preprocessing import OrdinalEncoder\n",
    "from sklearn.dummy import DummyClassifier\n",
    "from sklearn.preprocessing import StandardScaler\n",
    "from sklearn.preprocessing import OneHotEncoder\n",
    "from sklearn.metrics import accuracy_score \n",
    "from sklearn.metrics  import f1_score\n",
    "from sklearn.model_selection import GridSearchCV\n",
    "from sklearn.metrics import accuracy_score, f1_score, recall_score, precision_score, roc_auc_score, roc_curve, confusion_matrix\n",
    "from sklearn.utils import shuffle\n",
    "from tqdm import tqdm\n",
    "import time\n",
    "import matplotlib.pyplot as plt\n",
    "from warnings import simplefilter\n",
    "simplefilter(action='ignore')"
   ]
  },
  {
   "cell_type": "code",
   "execution_count": 2,
   "metadata": {},
   "outputs": [
    {
     "name": "stdout",
     "output_type": "stream",
     "text": [
      "<class 'pandas.core.frame.DataFrame'>\n",
      "RangeIndex: 10000 entries, 0 to 9999\n",
      "Data columns (total 14 columns):\n",
      " #   Column           Non-Null Count  Dtype  \n",
      "---  ------           --------------  -----  \n",
      " 0   RowNumber        10000 non-null  int64  \n",
      " 1   CustomerId       10000 non-null  int64  \n",
      " 2   Surname          10000 non-null  object \n",
      " 3   CreditScore      10000 non-null  int64  \n",
      " 4   Geography        10000 non-null  object \n",
      " 5   Gender           10000 non-null  object \n",
      " 6   Age              10000 non-null  int64  \n",
      " 7   Tenure           9091 non-null   float64\n",
      " 8   Balance          10000 non-null  float64\n",
      " 9   NumOfProducts    10000 non-null  int64  \n",
      " 10  HasCrCard        10000 non-null  int64  \n",
      " 11  IsActiveMember   10000 non-null  int64  \n",
      " 12  EstimatedSalary  10000 non-null  float64\n",
      " 13  Exited           10000 non-null  int64  \n",
      "dtypes: float64(3), int64(8), object(3)\n",
      "memory usage: 1.1+ MB\n"
     ]
    }
   ],
   "source": [
    "try:\n",
    "    data = pd.read_csv('C:/Users/Ксения/data_analyst/DS_projects/****n.csv')\n",
    "except:\n",
    "    data = pd.read_csv('/datasets/****n.csv')\n",
    "data.info()"
   ]
  },
  {
   "cell_type": "code",
   "execution_count": 3,
   "metadata": {},
   "outputs": [
    {
     "data": {
      "text/html": [
       "<div>\n",
       "<style scoped>\n",
       "    .dataframe tbody tr th:only-of-type {\n",
       "        vertical-align: middle;\n",
       "    }\n",
       "\n",
       "    .dataframe tbody tr th {\n",
       "        vertical-align: top;\n",
       "    }\n",
       "\n",
       "    .dataframe thead th {\n",
       "        text-align: right;\n",
       "    }\n",
       "</style>\n",
       "<table border=\"1\" class=\"dataframe\">\n",
       "  <thead>\n",
       "    <tr style=\"text-align: right;\">\n",
       "      <th></th>\n",
       "      <th>rownumber</th>\n",
       "      <th>customerid</th>\n",
       "      <th>surname</th>\n",
       "      <th>creditscore</th>\n",
       "      <th>geography</th>\n",
       "      <th>gender</th>\n",
       "      <th>age</th>\n",
       "      <th>tenure</th>\n",
       "      <th>balance</th>\n",
       "      <th>numofproducts</th>\n",
       "      <th>hascrcard</th>\n",
       "      <th>isactivemember</th>\n",
       "      <th>estimatedsalary</th>\n",
       "      <th>exited</th>\n",
       "    </tr>\n",
       "  </thead>\n",
       "  <tbody>\n",
       "    <tr>\n",
       "      <th>0</th>\n",
       "      <td>1</td>\n",
       "      <td>15634602</td>\n",
       "      <td>Hargrave</td>\n",
       "      <td>619</td>\n",
       "      <td>France</td>\n",
       "      <td>Female</td>\n",
       "      <td>42</td>\n",
       "      <td>2.0</td>\n",
       "      <td>0.00</td>\n",
       "      <td>1</td>\n",
       "      <td>1</td>\n",
       "      <td>1</td>\n",
       "      <td>101348.88</td>\n",
       "      <td>1</td>\n",
       "    </tr>\n",
       "    <tr>\n",
       "      <th>1</th>\n",
       "      <td>2</td>\n",
       "      <td>15647311</td>\n",
       "      <td>Hill</td>\n",
       "      <td>608</td>\n",
       "      <td>Spain</td>\n",
       "      <td>Female</td>\n",
       "      <td>41</td>\n",
       "      <td>1.0</td>\n",
       "      <td>83807.86</td>\n",
       "      <td>1</td>\n",
       "      <td>0</td>\n",
       "      <td>1</td>\n",
       "      <td>112542.58</td>\n",
       "      <td>0</td>\n",
       "    </tr>\n",
       "    <tr>\n",
       "      <th>2</th>\n",
       "      <td>3</td>\n",
       "      <td>15619304</td>\n",
       "      <td>Onio</td>\n",
       "      <td>502</td>\n",
       "      <td>France</td>\n",
       "      <td>Female</td>\n",
       "      <td>42</td>\n",
       "      <td>8.0</td>\n",
       "      <td>159660.80</td>\n",
       "      <td>3</td>\n",
       "      <td>1</td>\n",
       "      <td>0</td>\n",
       "      <td>113931.57</td>\n",
       "      <td>1</td>\n",
       "    </tr>\n",
       "    <tr>\n",
       "      <th>3</th>\n",
       "      <td>4</td>\n",
       "      <td>15701354</td>\n",
       "      <td>Boni</td>\n",
       "      <td>699</td>\n",
       "      <td>France</td>\n",
       "      <td>Female</td>\n",
       "      <td>39</td>\n",
       "      <td>1.0</td>\n",
       "      <td>0.00</td>\n",
       "      <td>2</td>\n",
       "      <td>0</td>\n",
       "      <td>0</td>\n",
       "      <td>93826.63</td>\n",
       "      <td>0</td>\n",
       "    </tr>\n",
       "    <tr>\n",
       "      <th>4</th>\n",
       "      <td>5</td>\n",
       "      <td>15737888</td>\n",
       "      <td>Mitchell</td>\n",
       "      <td>850</td>\n",
       "      <td>Spain</td>\n",
       "      <td>Female</td>\n",
       "      <td>43</td>\n",
       "      <td>2.0</td>\n",
       "      <td>125510.82</td>\n",
       "      <td>1</td>\n",
       "      <td>1</td>\n",
       "      <td>1</td>\n",
       "      <td>79084.10</td>\n",
       "      <td>0</td>\n",
       "    </tr>\n",
       "    <tr>\n",
       "      <th>5</th>\n",
       "      <td>6</td>\n",
       "      <td>15574012</td>\n",
       "      <td>Chu</td>\n",
       "      <td>645</td>\n",
       "      <td>Spain</td>\n",
       "      <td>Male</td>\n",
       "      <td>44</td>\n",
       "      <td>8.0</td>\n",
       "      <td>113755.78</td>\n",
       "      <td>2</td>\n",
       "      <td>1</td>\n",
       "      <td>0</td>\n",
       "      <td>149756.71</td>\n",
       "      <td>1</td>\n",
       "    </tr>\n",
       "    <tr>\n",
       "      <th>6</th>\n",
       "      <td>7</td>\n",
       "      <td>15592531</td>\n",
       "      <td>Bartlett</td>\n",
       "      <td>822</td>\n",
       "      <td>France</td>\n",
       "      <td>Male</td>\n",
       "      <td>50</td>\n",
       "      <td>7.0</td>\n",
       "      <td>0.00</td>\n",
       "      <td>2</td>\n",
       "      <td>1</td>\n",
       "      <td>1</td>\n",
       "      <td>10062.80</td>\n",
       "      <td>0</td>\n",
       "    </tr>\n",
       "    <tr>\n",
       "      <th>7</th>\n",
       "      <td>8</td>\n",
       "      <td>15656148</td>\n",
       "      <td>Obinna</td>\n",
       "      <td>376</td>\n",
       "      <td>Germany</td>\n",
       "      <td>Female</td>\n",
       "      <td>29</td>\n",
       "      <td>4.0</td>\n",
       "      <td>115046.74</td>\n",
       "      <td>4</td>\n",
       "      <td>1</td>\n",
       "      <td>0</td>\n",
       "      <td>119346.88</td>\n",
       "      <td>1</td>\n",
       "    </tr>\n",
       "    <tr>\n",
       "      <th>8</th>\n",
       "      <td>9</td>\n",
       "      <td>15792365</td>\n",
       "      <td>He</td>\n",
       "      <td>501</td>\n",
       "      <td>France</td>\n",
       "      <td>Male</td>\n",
       "      <td>44</td>\n",
       "      <td>4.0</td>\n",
       "      <td>142051.07</td>\n",
       "      <td>2</td>\n",
       "      <td>0</td>\n",
       "      <td>1</td>\n",
       "      <td>74940.50</td>\n",
       "      <td>0</td>\n",
       "    </tr>\n",
       "    <tr>\n",
       "      <th>9</th>\n",
       "      <td>10</td>\n",
       "      <td>15592389</td>\n",
       "      <td>H?</td>\n",
       "      <td>684</td>\n",
       "      <td>France</td>\n",
       "      <td>Male</td>\n",
       "      <td>27</td>\n",
       "      <td>2.0</td>\n",
       "      <td>134603.88</td>\n",
       "      <td>1</td>\n",
       "      <td>1</td>\n",
       "      <td>1</td>\n",
       "      <td>71725.73</td>\n",
       "      <td>0</td>\n",
       "    </tr>\n",
       "  </tbody>\n",
       "</table>\n",
       "</div>"
      ],
      "text/plain": [
       "   rownumber  customerid   surname  creditscore geography  gender  age  \\\n",
       "0          1    15634602  Hargrave          619    France  Female   42   \n",
       "1          2    15647311      Hill          608     Spain  Female   41   \n",
       "2          3    15619304      Onio          502    France  Female   42   \n",
       "3          4    15701354      Boni          699    France  Female   39   \n",
       "4          5    15737888  Mitchell          850     Spain  Female   43   \n",
       "5          6    15574012       Chu          645     Spain    Male   44   \n",
       "6          7    15592531  Bartlett          822    France    Male   50   \n",
       "7          8    15656148    Obinna          376   Germany  Female   29   \n",
       "8          9    15792365        He          501    France    Male   44   \n",
       "9         10    15592389        H?          684    France    Male   27   \n",
       "\n",
       "   tenure    balance  numofproducts  hascrcard  isactivemember  \\\n",
       "0     2.0       0.00              1          1               1   \n",
       "1     1.0   83807.86              1          0               1   \n",
       "2     8.0  159660.80              3          1               0   \n",
       "3     1.0       0.00              2          0               0   \n",
       "4     2.0  125510.82              1          1               1   \n",
       "5     8.0  113755.78              2          1               0   \n",
       "6     7.0       0.00              2          1               1   \n",
       "7     4.0  115046.74              4          1               0   \n",
       "8     4.0  142051.07              2          0               1   \n",
       "9     2.0  134603.88              1          1               1   \n",
       "\n",
       "   estimatedsalary  exited  \n",
       "0        101348.88       1  \n",
       "1        112542.58       0  \n",
       "2        113931.57       1  \n",
       "3         93826.63       0  \n",
       "4         79084.10       0  \n",
       "5        149756.71       1  \n",
       "6         10062.80       0  \n",
       "7        119346.88       1  \n",
       "8         74940.50       0  \n",
       "9         71725.73       0  "
      ]
     },
     "execution_count": 3,
     "metadata": {},
     "output_type": "execute_result"
    }
   ],
   "source": [
    "data.columns = data.columns.str.lower()\n",
    "data.head(10)"
   ]
  },
  {
   "cell_type": "code",
   "execution_count": 4,
   "metadata": {},
   "outputs": [
    {
     "data": {
      "text/plain": [
       "Index(['rownumber', 'customerid', 'surname', 'creditscore', 'geography',\n",
       "       'gender', 'age', 'tenure', 'balance', 'numofproducts', 'hascrcard',\n",
       "       'isactivemember', 'estimatedsalary', 'exited'],\n",
       "      dtype='object')"
      ]
     },
     "execution_count": 4,
     "metadata": {},
     "output_type": "execute_result"
    }
   ],
   "source": [
    "data.columns "
   ]
  },
  {
   "cell_type": "code",
   "execution_count": 5,
   "metadata": {},
   "outputs": [
    {
     "name": "stdout",
     "output_type": "stream",
     "text": [
      "Процент пропусков :\n",
      "rownumber - 0%\n",
      "customerid - 0%\n",
      "surname - 0%\n",
      "creditscore - 0%\n",
      "geography - 0%\n",
      "gender - 0%\n",
      "age - 0%\n",
      "tenure - 9%\n",
      "balance - 0%\n",
      "numofproducts - 0%\n",
      "hascrcard - 0%\n",
      "isactivemember - 0%\n",
      "estimatedsalary - 0%\n",
      "exited - 0%\n"
     ]
    }
   ],
   "source": [
    "print(\"Процент пропусков :\")\n",
    "for column in data.columns:\n",
    "    perс = np.mean(data[column].isnull().sum().sum())/100\n",
    "    print('{} - {}%'.format(column, round(perс)))   \n",
    "   "
   ]
  },
  {
   "cell_type": "code",
   "execution_count": 6,
   "metadata": {
    "scrolled": false
   },
   "outputs": [],
   "source": [
    "data = data.dropna()\n",
    "data = data.drop_duplicates()"
   ]
  },
  {
   "cell_type": "markdown",
   "metadata": {},
   "source": [
    "В столбце `tenure` есть пропуски, однако процент их составляент около 9%. Принято решение их не обрабатывать и удалить данные строки."
   ]
  },
  {
   "cell_type": "code",
   "execution_count": 7,
   "metadata": {},
   "outputs": [
    {
     "name": "stdout",
     "output_type": "stream",
     "text": [
      "<class 'pandas.core.frame.DataFrame'>\n",
      "Int64Index: 9091 entries, 0 to 9998\n",
      "Data columns (total 11 columns):\n",
      " #   Column           Non-Null Count  Dtype \n",
      "---  ------           --------------  ----- \n",
      " 0   creditscore      9091 non-null   int64 \n",
      " 1   geography        9091 non-null   object\n",
      " 2   gender           9091 non-null   object\n",
      " 3   age              9091 non-null   int64 \n",
      " 4   tenure           9091 non-null   int32 \n",
      " 5   balance          9091 non-null   int32 \n",
      " 6   numofproducts    9091 non-null   int64 \n",
      " 7   hascrcard        9091 non-null   int64 \n",
      " 8   isactivemember   9091 non-null   int64 \n",
      " 9   estimatedsalary  9091 non-null   int32 \n",
      " 10  exited           9091 non-null   int64 \n",
      "dtypes: int32(3), int64(6), object(2)\n",
      "memory usage: 745.7+ KB\n"
     ]
    }
   ],
   "source": [
    "# Избавимся от лишних данных\n",
    "data = data[['creditscore', 'geography',\n",
    "       'gender', 'age', 'tenure', 'balance', 'numofproducts', 'hascrcard',\n",
    "       'isactivemember', 'estimatedsalary', 'exited']]\n",
    "\n",
    "# Изменим тип данных\n",
    "\n",
    "data[['tenure', 'balance', 'estimatedsalary']] = data[['tenure', 'balance', 'estimatedsalary']].astype('int')\n",
    "data.info()"
   ]
  },
  {
   "cell_type": "code",
   "execution_count": 8,
   "metadata": {},
   "outputs": [
    {
     "data": {
      "text/html": [
       "<div>\n",
       "<style scoped>\n",
       "    .dataframe tbody tr th:only-of-type {\n",
       "        vertical-align: middle;\n",
       "    }\n",
       "\n",
       "    .dataframe tbody tr th {\n",
       "        vertical-align: top;\n",
       "    }\n",
       "\n",
       "    .dataframe thead th {\n",
       "        text-align: right;\n",
       "    }\n",
       "</style>\n",
       "<table border=\"1\" class=\"dataframe\">\n",
       "  <thead>\n",
       "    <tr style=\"text-align: right;\">\n",
       "      <th></th>\n",
       "      <th>creditscore</th>\n",
       "      <th>geography</th>\n",
       "      <th>gender</th>\n",
       "      <th>age</th>\n",
       "      <th>tenure</th>\n",
       "      <th>balance</th>\n",
       "      <th>numofproducts</th>\n",
       "      <th>hascrcard</th>\n",
       "      <th>isactivemember</th>\n",
       "      <th>estimatedsalary</th>\n",
       "      <th>exited</th>\n",
       "    </tr>\n",
       "  </thead>\n",
       "  <tbody>\n",
       "    <tr>\n",
       "      <th>0</th>\n",
       "      <td>226.0</td>\n",
       "      <td>0.0</td>\n",
       "      <td>0.0</td>\n",
       "      <td>24.0</td>\n",
       "      <td>2.0</td>\n",
       "      <td>0.0</td>\n",
       "      <td>0.0</td>\n",
       "      <td>1.0</td>\n",
       "      <td>1.0</td>\n",
       "      <td>4514.0</td>\n",
       "      <td>1.0</td>\n",
       "    </tr>\n",
       "    <tr>\n",
       "      <th>1</th>\n",
       "      <td>215.0</td>\n",
       "      <td>2.0</td>\n",
       "      <td>0.0</td>\n",
       "      <td>23.0</td>\n",
       "      <td>1.0</td>\n",
       "      <td>668.0</td>\n",
       "      <td>0.0</td>\n",
       "      <td>0.0</td>\n",
       "      <td>1.0</td>\n",
       "      <td>5010.0</td>\n",
       "      <td>0.0</td>\n",
       "    </tr>\n",
       "    <tr>\n",
       "      <th>2</th>\n",
       "      <td>109.0</td>\n",
       "      <td>0.0</td>\n",
       "      <td>0.0</td>\n",
       "      <td>24.0</td>\n",
       "      <td>8.0</td>\n",
       "      <td>5134.0</td>\n",
       "      <td>2.0</td>\n",
       "      <td>1.0</td>\n",
       "      <td>0.0</td>\n",
       "      <td>5071.0</td>\n",
       "      <td>1.0</td>\n",
       "    </tr>\n",
       "    <tr>\n",
       "      <th>3</th>\n",
       "      <td>306.0</td>\n",
       "      <td>0.0</td>\n",
       "      <td>0.0</td>\n",
       "      <td>21.0</td>\n",
       "      <td>1.0</td>\n",
       "      <td>0.0</td>\n",
       "      <td>1.0</td>\n",
       "      <td>0.0</td>\n",
       "      <td>0.0</td>\n",
       "      <td>4187.0</td>\n",
       "      <td>0.0</td>\n",
       "    </tr>\n",
       "    <tr>\n",
       "      <th>4</th>\n",
       "      <td>457.0</td>\n",
       "      <td>2.0</td>\n",
       "      <td>0.0</td>\n",
       "      <td>25.0</td>\n",
       "      <td>2.0</td>\n",
       "      <td>3277.0</td>\n",
       "      <td>0.0</td>\n",
       "      <td>1.0</td>\n",
       "      <td>1.0</td>\n",
       "      <td>3487.0</td>\n",
       "      <td>0.0</td>\n",
       "    </tr>\n",
       "    <tr>\n",
       "      <th>...</th>\n",
       "      <td>...</td>\n",
       "      <td>...</td>\n",
       "      <td>...</td>\n",
       "      <td>...</td>\n",
       "      <td>...</td>\n",
       "      <td>...</td>\n",
       "      <td>...</td>\n",
       "      <td>...</td>\n",
       "      <td>...</td>\n",
       "      <td>...</td>\n",
       "      <td>...</td>\n",
       "    </tr>\n",
       "    <tr>\n",
       "      <th>9086</th>\n",
       "      <td>407.0</td>\n",
       "      <td>0.0</td>\n",
       "      <td>0.0</td>\n",
       "      <td>11.0</td>\n",
       "      <td>2.0</td>\n",
       "      <td>0.0</td>\n",
       "      <td>1.0</td>\n",
       "      <td>0.0</td>\n",
       "      <td>0.0</td>\n",
       "      <td>7439.0</td>\n",
       "      <td>0.0</td>\n",
       "    </tr>\n",
       "    <tr>\n",
       "      <th>9087</th>\n",
       "      <td>378.0</td>\n",
       "      <td>0.0</td>\n",
       "      <td>1.0</td>\n",
       "      <td>21.0</td>\n",
       "      <td>5.0</td>\n",
       "      <td>0.0</td>\n",
       "      <td>1.0</td>\n",
       "      <td>1.0</td>\n",
       "      <td>0.0</td>\n",
       "      <td>4296.0</td>\n",
       "      <td>0.0</td>\n",
       "    </tr>\n",
       "    <tr>\n",
       "      <th>9088</th>\n",
       "      <td>123.0</td>\n",
       "      <td>0.0</td>\n",
       "      <td>1.0</td>\n",
       "      <td>17.0</td>\n",
       "      <td>10.0</td>\n",
       "      <td>109.0</td>\n",
       "      <td>0.0</td>\n",
       "      <td>1.0</td>\n",
       "      <td>1.0</td>\n",
       "      <td>4530.0</td>\n",
       "      <td>0.0</td>\n",
       "    </tr>\n",
       "    <tr>\n",
       "      <th>9089</th>\n",
       "      <td>316.0</td>\n",
       "      <td>0.0</td>\n",
       "      <td>0.0</td>\n",
       "      <td>18.0</td>\n",
       "      <td>7.0</td>\n",
       "      <td>0.0</td>\n",
       "      <td>0.0</td>\n",
       "      <td>0.0</td>\n",
       "      <td>1.0</td>\n",
       "      <td>1844.0</td>\n",
       "      <td>1.0</td>\n",
       "    </tr>\n",
       "    <tr>\n",
       "      <th>9090</th>\n",
       "      <td>379.0</td>\n",
       "      <td>1.0</td>\n",
       "      <td>1.0</td>\n",
       "      <td>24.0</td>\n",
       "      <td>3.0</td>\n",
       "      <td>382.0</td>\n",
       "      <td>1.0</td>\n",
       "      <td>1.0</td>\n",
       "      <td>0.0</td>\n",
       "      <td>4129.0</td>\n",
       "      <td>1.0</td>\n",
       "    </tr>\n",
       "  </tbody>\n",
       "</table>\n",
       "<p>9091 rows × 11 columns</p>\n",
       "</div>"
      ],
      "text/plain": [
       "      creditscore  geography  gender   age  tenure  balance  numofproducts  \\\n",
       "0           226.0        0.0     0.0  24.0     2.0      0.0            0.0   \n",
       "1           215.0        2.0     0.0  23.0     1.0    668.0            0.0   \n",
       "2           109.0        0.0     0.0  24.0     8.0   5134.0            2.0   \n",
       "3           306.0        0.0     0.0  21.0     1.0      0.0            1.0   \n",
       "4           457.0        2.0     0.0  25.0     2.0   3277.0            0.0   \n",
       "...           ...        ...     ...   ...     ...      ...            ...   \n",
       "9086        407.0        0.0     0.0  11.0     2.0      0.0            1.0   \n",
       "9087        378.0        0.0     1.0  21.0     5.0      0.0            1.0   \n",
       "9088        123.0        0.0     1.0  17.0    10.0    109.0            0.0   \n",
       "9089        316.0        0.0     0.0  18.0     7.0      0.0            0.0   \n",
       "9090        379.0        1.0     1.0  24.0     3.0    382.0            1.0   \n",
       "\n",
       "      hascrcard  isactivemember  estimatedsalary  exited  \n",
       "0           1.0             1.0           4514.0     1.0  \n",
       "1           0.0             1.0           5010.0     0.0  \n",
       "2           1.0             0.0           5071.0     1.0  \n",
       "3           0.0             0.0           4187.0     0.0  \n",
       "4           1.0             1.0           3487.0     0.0  \n",
       "...         ...             ...              ...     ...  \n",
       "9086        0.0             0.0           7439.0     0.0  \n",
       "9087        1.0             0.0           4296.0     0.0  \n",
       "9088        1.0             1.0           4530.0     0.0  \n",
       "9089        0.0             1.0           1844.0     1.0  \n",
       "9090        1.0             0.0           4129.0     1.0  \n",
       "\n",
       "[9091 rows x 11 columns]"
      ]
     },
     "execution_count": 8,
     "metadata": {},
     "output_type": "execute_result"
    }
   ],
   "source": [
    "# Преобразуем категориальные признаки в целочисленные\n",
    "encoder = OrdinalEncoder()\n",
    "encoder.fit(data) \n",
    "data_ordinal = pd.DataFrame(encoder.fit_transform(data),columns=data.columns) \n",
    "data_ordinal"
   ]
  },
  {
   "cell_type": "code",
   "execution_count": 9,
   "metadata": {},
   "outputs": [
    {
     "name": "stdout",
     "output_type": "stream",
     "text": [
      "<class 'pandas.core.frame.DataFrame'>\n",
      "RangeIndex: 9091 entries, 0 to 9090\n",
      "Data columns (total 11 columns):\n",
      " #   Column           Non-Null Count  Dtype  \n",
      "---  ------           --------------  -----  \n",
      " 0   creditscore      9091 non-null   float64\n",
      " 1   geography        9091 non-null   float64\n",
      " 2   gender           9091 non-null   float64\n",
      " 3   age              9091 non-null   float64\n",
      " 4   tenure           9091 non-null   float64\n",
      " 5   balance          9091 non-null   float64\n",
      " 6   numofproducts    9091 non-null   float64\n",
      " 7   hascrcard        9091 non-null   float64\n",
      " 8   isactivemember   9091 non-null   float64\n",
      " 9   estimatedsalary  9091 non-null   float64\n",
      " 10  exited           9091 non-null   float64\n",
      "dtypes: float64(11)\n",
      "memory usage: 781.4 KB\n"
     ]
    }
   ],
   "source": [
    "data_ordinal.info()"
   ]
  },
  {
   "cell_type": "code",
   "execution_count": 10,
   "metadata": {},
   "outputs": [
    {
     "data": {
      "text/plain": [
       "0"
      ]
     },
     "execution_count": 10,
     "metadata": {},
     "output_type": "execute_result"
    }
   ],
   "source": [
    "data_ordinal['exited'].isna().sum()"
   ]
  },
  {
   "cell_type": "code",
   "execution_count": 11,
   "metadata": {},
   "outputs": [],
   "source": [
    "random = 12345"
   ]
  },
  {
   "cell_type": "code",
   "execution_count": 12,
   "metadata": {},
   "outputs": [],
   "source": [
    "# Разобъем датасет на выборки\n",
    "features = data_ordinal.drop('exited', axis = 1).astype('int')\n",
    "target = data_ordinal['exited'].astype('int')\n",
    "data = pd.get_dummies(data, drop_first=True)\n",
    "\n",
    "features_train, features_val, target_train, target_val  = train_test_split(\n",
    "    features,target, test_size=0.4, random_state=random, stratify=target) "
   ]
  },
  {
   "cell_type": "code",
   "execution_count": 13,
   "metadata": {},
   "outputs": [],
   "source": [
    "features_test, features_val, target_test, target_val = train_test_split(\n",
    "    features_val, target_val, test_size=0.5, random_state=random, stratify=target_val) "
   ]
  },
  {
   "cell_type": "code",
   "execution_count": 14,
   "metadata": {},
   "outputs": [
    {
     "name": "stdout",
     "output_type": "stream",
     "text": [
      "Обучающая выборка:\n",
      "(5454, 10)\n",
      "(5454,)\n",
      "Тестовая выборка:\n",
      "(1818, 10)\n",
      "(1818,)\n",
      "Валидационная выборка:\n",
      "(1819, 10)\n",
      "(1819,)\n"
     ]
    }
   ],
   "source": [
    "print('Обучающая выборка:')\n",
    "print(features_train.shape)\n",
    "print(target_train.shape)\n",
    "print('Тестовая выборка:')\n",
    "print(features_test.shape)\n",
    "print(target_test.shape)\n",
    "print('Валидационная выборка:')\n",
    "print(features_val.shape)\n",
    "print(target_val.shape)"
   ]
  },
  {
   "cell_type": "code",
   "execution_count": 15,
   "metadata": {},
   "outputs": [],
   "source": [
    "# Масштабируем данные\n",
    "scaler = StandardScaler()\n",
    "scaler.fit(features_train) \n",
    "features_train = scaler.transform(features_train)\n",
    "features_val = scaler.transform(features_val)\n",
    "features_test = scaler.transform(features_test)\n",
    "pd.options.mode.chained_assignment = None"
   ]
  },
  {
   "cell_type": "markdown",
   "metadata": {},
   "source": [
    "В результате проведения предобработки данных было сделано:\n",
    "- для удобства переименовали столбцы\n",
    "- пропусками в стобце `tenure` составли около 9% и поскольку заменить их достоверными данными не представляется возможным, то принято решение удалить такие строки\n",
    "- избавились от идентификационных данных, которые в данном ислследовании не понадобятся\n",
    "- изменены типы данных с `float` на `int`\n",
    "- преобразованы категориальные признаки в целочиленные для возможности последующего построения модели\n",
    "- данные разделены на три выборки: обучающую, валидационную и тестовую\n",
    "- были масштабированны численные признаки для избежания дальнейших \"перекосов\" при расчете модели"
   ]
  },
  {
   "cell_type": "markdown",
   "metadata": {},
   "source": [
    "## Исследование задачи"
   ]
  },
  {
   "cell_type": "code",
   "execution_count": 16,
   "metadata": {},
   "outputs": [
    {
     "name": "stdout",
     "output_type": "stream",
     "text": [
      "Расчетное время 771.0685031414032\n",
      "AUC_ROC: 0.8340819570818008\n",
      "F1: 0.5460992907801419\n"
     ]
    }
   ],
   "source": [
    "#Проверка валидационной модели Случайного леса\n",
    "start_time = time.time()\n",
    "model_class = RandomForestClassifier()\n",
    "\n",
    "parametrs = { 'n_estimators': range (1, 15),\n",
    "              'max_depth': range (1,10),\n",
    "              'min_samples_leaf': range (1,8),\n",
    "              'min_samples_split': range (2,10)}\n",
    "\n",
    "grid_forest = GridSearchCV(model_class, parametrs, scoring ='f1', cv=5, n_jobs = -1)\n",
    "grid_forest.fit(features_train, target_train)\n",
    "\n",
    "\n",
    "finish_time = time.time()\n",
    "model_forest = RandomForestClassifier(**grid_forest.best_params_, random_state=random)\n",
    "\n",
    "model_forest.fit(features_train, target_train)\n",
    "predictions_rf = model_forest.predict(features_val)\n",
    "\n",
    "# вычислим вероятность положительного класса для всех моделей\n",
    "prob_valid_f = model_forest.predict_proba(features_val)\n",
    "#вычислим значение auc_roc\n",
    "auc_roc_f = roc_auc_score(target_val, prob_valid_f[:, 1])\n",
    "\n",
    "\n",
    "print (\"Расчетное время\", finish_time-start_time)\n",
    "print(\"AUC_ROC:\", auc_roc_f)\n",
    "print(\"F1:\", f1_score(target_val, predictions_rf))\n"
   ]
  },
  {
   "cell_type": "code",
   "execution_count": 17,
   "metadata": {},
   "outputs": [
    {
     "name": "stdout",
     "output_type": "stream",
     "text": [
      "Расчетное время 39.00058603286743\n",
      "AUC_ROC: 0.7722269586454409\n",
      "F1: 0.5306748466257669\n"
     ]
    }
   ],
   "source": [
    "#Проверка валидационной модели Дерева решений\n",
    "start_time = time.time()\n",
    "model_class = DecisionTreeClassifier(random_state=random)\n",
    "parametrs = { 'max_depth': range (1,15),\n",
    "              'min_samples_leaf': range (1,8),\n",
    "              'min_samples_split': range (2,10)}\n",
    "grid_dec_tree = GridSearchCV(model_class, parametrs, scoring ='f1', cv=5, n_jobs = -1)\n",
    "grid_dec_tree.fit(features_train, target_train)\n",
    "\n",
    "finish_time = time.time()\n",
    "\n",
    "model_dec_tree = DecisionTreeClassifier(**grid_dec_tree.best_params_, random_state=random)\n",
    "\n",
    "model_dec_tree.fit(features_train, target_train) # обучиим модель на тренировочной выборке\n",
    "predictions_dec_tree = model_dec_tree.predict(features_val)#получим предсказание\n",
    "\n",
    "# вычислим вероятность положительного класса для всех моделей\n",
    "prob_valid_d = model_dec_tree.predict_proba(features_val)\n",
    "#вычислим значение auc_roc\n",
    "auc_roc_d = roc_auc_score(target_val, prob_valid_d[:, 1])\n",
    "\n",
    "\n",
    "print (\"Расчетное время\", finish_time-start_time)\n",
    "print(\"AUC_ROC:\", auc_roc_d)\n",
    "print(\"F1:\", f1_score(target_val, predictions_dec_tree))\n"
   ]
  },
  {
   "cell_type": "code",
   "execution_count": 18,
   "metadata": {},
   "outputs": [
    {
     "name": "stdout",
     "output_type": "stream",
     "text": [
      "Расчетное время 19.859828233718872\n",
      "AUC_ROC: 0.7546164614078719\n",
      "F1: 0.2557651991614256\n"
     ]
    }
   ],
   "source": [
    "#Проверка валидационной модели логистической регрессии\n",
    "start_time = time.time()\n",
    "model_class = LogisticRegression(random_state=random)\n",
    "parametrs = {'solver': ['newton-cg', 'lbfgs', 'sag', 'saga'],\n",
    "            'max_iter': range(10, 100)}\n",
    "\n",
    "grid_log_reg = GridSearchCV(model_class, parametrs, scoring ='f1', cv=5, n_jobs = -1)\n",
    "grid_log_reg.fit(features_train, target_train)\n",
    "\n",
    "finish_time = time.time()\n",
    "\n",
    "model_log_reg = LogisticRegression(**grid_log_reg.best_params_, random_state=random)\n",
    "\n",
    "model_log_reg.fit(features_train, target_train) # обучиим модель на тренировочной выборке\n",
    "predictions_log_reg = model_log_reg.predict(features_val)#получим предсказание\n",
    "\n",
    "# вычислим вероятность положительного класса для всех моделей\n",
    "prob_valid_l = model_log_reg.predict_proba(features_val)\n",
    "#вычислим значение auc_roc\n",
    "auc_roc_l = roc_auc_score(target_val, prob_valid_l[:, 1])\n",
    "\n",
    "\n",
    "print (\"Расчетное время\", finish_time-start_time)\n",
    "print(\"AUC_ROC:\", auc_roc_l)\n",
    "print(\"F1:\", f1_score(target_val, predictions_log_reg))\n"
   ]
  },
  {
   "cell_type": "code",
   "execution_count": 19,
   "metadata": {},
   "outputs": [
    {
     "data": {
      "text/plain": [
       "'Распределение ответов'"
      ]
     },
     "metadata": {},
     "output_type": "display_data"
    },
    {
     "data": {
      "text/plain": [
       "0    0.796113\n",
       "1    0.203887\n",
       "Name: exited, dtype: float64"
      ]
     },
     "metadata": {},
     "output_type": "display_data"
    },
    {
     "data": {
      "text/plain": [
       "<AxesSubplot:title={'center':'Диаграмма баланса классов'}, ylabel='Frequency'>"
      ]
     },
     "execution_count": 19,
     "metadata": {},
     "output_type": "execute_result"
    },
    {
     "data": {
      "image/png": "[encoded data removed]",
      "text/plain": [
       "<Figure size 432x288 with 1 Axes>"
      ]
     },
     "metadata": {
      "needs_background": "light"
     },
     "output_type": "display_data"
    }
   ],
   "source": [
    "#Исследован баланс классов\n",
    "display(\"Распределение ответов\", target_train.value_counts(normalize = 1))\n",
    "target_train.plot(kind ='hist', bins=2, title = \"Диаграмма баланса классов\")"
   ]
  },
  {
   "cell_type": "code",
   "execution_count": 20,
   "metadata": {},
   "outputs": [
    {
     "name": "stdout",
     "output_type": "stream",
     "text": [
      "Точность предсказания модели на тестовой сборке c DummyClassifier: 0.7959295929592959\n",
      "Точность предсказания модели на тестовой сборке c Random Forest: 0.8340819570818008\n",
      "Точность предсказания модели на тестовой сборке c Decision Tree: 0.7722269586454409\n",
      "Точность предсказания модели на тестовой сборке c Logistic Regression: 0.7546164614078719\n"
     ]
    }
   ],
   "source": [
    "# Проверим на адекватность\n",
    "dummy_model = DummyClassifier(strategy='most_frequent') \n",
    "dummy_model.fit(features_train, target_train)\n",
    "dummy_score = dummy_model.score(features_test, target_test)\n",
    "print('Точность предсказания модели на тестовой сборке c DummyClassifier:', dummy_score)\n",
    "print('Точность предсказания модели на тестовой сборке c Random Forest:', auc_roc_f)\n",
    "print('Точность предсказания модели на тестовой сборке c Decision Tree:', auc_roc_d)\n",
    "print('Точность предсказания модели на тестовой сборке c Logistic Regression:', auc_roc_l)"
   ]
  },
  {
   "cell_type": "code",
   "execution_count": 21,
   "metadata": {},
   "outputs": [
    {
     "name": "stdout",
     "output_type": "stream",
     "text": [
      "Доля ответ ов модели Random Forest:\n"
     ]
    },
    {
     "data": {
      "text/plain": [
       "0    0.884855\n",
       "1    0.115145\n",
       "dtype: float64"
      ]
     },
     "execution_count": 21,
     "metadata": {},
     "output_type": "execute_result"
    }
   ],
   "source": [
    "#Cоотношение ответов в лучшей модели RandomForest\n",
    "share = pd.Series(model_forest.predict(features_train)).value_counts(normalize = 1)\n",
    "print(\"Доля ответ ов модели Random Forest:\")\n",
    "share"
   ]
  },
  {
   "cell_type": "code",
   "execution_count": 22,
   "metadata": {},
   "outputs": [
    {
     "name": "stdout",
     "output_type": "stream",
     "text": [
      "Доля ответов модели Decision Tree:\n"
     ]
    },
    {
     "data": {
      "text/plain": [
       "0    0.843968\n",
       "1    0.156032\n",
       "dtype: float64"
      ]
     },
     "execution_count": 22,
     "metadata": {},
     "output_type": "execute_result"
    }
   ],
   "source": [
    "#Cоотношение ответов в лучшей модели Decision Tree\n",
    "share = pd.Series(model_dec_tree.predict(features_train)).value_counts(normalize = 1)\n",
    "print(\"Доля ответов модели Decision Tree:\")\n",
    "share"
   ]
  },
  {
   "cell_type": "code",
   "execution_count": 23,
   "metadata": {},
   "outputs": [
    {
     "name": "stdout",
     "output_type": "stream",
     "text": [
      "Доля ответов модели Logistic Regression:\n"
     ]
    },
    {
     "data": {
      "text/plain": [
       "0    0.949762\n",
       "1    0.050238\n",
       "dtype: float64"
      ]
     },
     "execution_count": 23,
     "metadata": {},
     "output_type": "execute_result"
    }
   ],
   "source": [
    "#Cоотношение ответов в лучшей модели Logistic Regression\n",
    "share = pd.Series(model_log_reg.predict(features_train)).value_counts(normalize = 1)\n",
    "print(\"Доля ответов модели Logistic Regression:\")\n",
    "share"
   ]
  },
  {
   "cell_type": "markdown",
   "metadata": {},
   "source": [
    "Исследование началось с подбора наилучшей модели. Поскольку задача с классификационная, то проверялись 3 модели:  модель Случайного леса, модель Дерева решений, модель Логистической регрессии.\n",
    "\n",
    "Модель Случайного леса:\n",
    "- Расчетное время 295.626029253006\n",
    "- AUC_ROC: 0.9609183035248916\n",
    "- F1: 0.6564625850340137\n",
    "\n",
    "Модель Дерева решений:\n",
    "- Расчетное время 12.931391954421997\n",
    "- AUC_ROC: 0.8168055948533901\n",
    "- F1: 0.5147058823529412\n",
    "\n",
    "Модель Логистической регрессии:\n",
    "- Расчетное время 587.1397461891174\n",
    "- AUC_ROC: 0.7590616669893226\n",
    "- F1: 0.2755741127348643\n",
    "\n",
    "Модель Случайного леса показал лучший показатель AUC_ROC модели и меру-F1. Модель Древа решений оказалась самой быстрой и достаточно близка по точности к модели Случайного леса.\n",
    "\n",
    "Баланс классов показал, что наблюдается дисбаланс - например доля  положительных ответов у Случайного леса почти в 6 раза меньше, чем доля отрицательных.\n",
    "Тест на адекватности модели успешной пройден, точность 2х моделей выше точности модели с дамми-ловушкой."
   ]
  },
  {
   "cell_type": "markdown",
   "metadata": {},
   "source": [
    "## Борьба с дисбалансом"
   ]
  },
  {
   "cell_type": "code",
   "execution_count": 24,
   "metadata": {},
   "outputs": [
    {
     "name": "stdout",
     "output_type": "stream",
     "text": [
      "F1-мера Random Forest: 0.5777777777777777\n",
      "F1-мера Decision Tree: 0.525987525987526\n",
      "F1-мера Logistic Regression: 0.49031007751937994\n"
     ]
    }
   ],
   "source": [
    "# Баланс с помощью веса\n",
    "model_class_rf = RandomForestClassifier( **grid_forest.best_params_, class_weight='balanced', random_state=random)\n",
    "model_dec_tree = DecisionTreeClassifier( **grid_dec_tree.best_params_, class_weight='balanced', random_state=random)\n",
    "model_log_reg = LogisticRegression( **grid_log_reg.best_params_, class_weight='balanced', random_state=random)\n",
    "\n",
    "model_dic = [model_class_rf, model_dec_tree, model_log_reg]\n",
    "models_name = ['Random Forest', 'Decision Tree', 'Logistic Regression']\n",
    "for i in range(len(model_dic)):\n",
    "    model = model_dic[i]\n",
    "    model.fit(features_train, target_train)\n",
    "    predictions = model.predict(features_val)\n",
    "    print(\"F1-мера {}:\".format(models_name[i]), f1_score(target_val, predictions))"
   ]
  },
  {
   "cell_type": "code",
   "execution_count": 25,
   "metadata": {},
   "outputs": [],
   "source": [
    "model_class_rf_2 = RandomForestClassifier( **grid_forest.best_params_, class_weight='balanced', random_state=random)\n",
    "model_dec_tree_2 = DecisionTreeClassifier( **grid_dec_tree.best_params_, class_weight='balanced', random_state=random)\n",
    "model_log_reg_2 = LogisticRegression( **grid_log_reg.best_params_, class_weight='balanced', random_state=random)"
   ]
  },
  {
   "cell_type": "code",
   "execution_count": 26,
   "metadata": {},
   "outputs": [],
   "source": [
    "features_train = pd.DataFrame(features_train, columns= features.columns)\n",
    "features_val = pd.DataFrame(features_val, columns= features.columns)\n",
    "features_test = pd.DataFrame(features_test, columns= features.columns)\n",
    "target_train.index = features_train.index\n",
    "target_val.index = features_val.index\n",
    "target_test.index = features_test.index"
   ]
  },
  {
   "cell_type": "code",
   "execution_count": 27,
   "metadata": {},
   "outputs": [],
   "source": [
    "# Баланс увеличением выборки\n",
    "def upsample(features, target, repeat):\n",
    "    features_zeros = features[target == 0]\n",
    "    features_ones = features[target == 1]\n",
    "    target_zeros = target[target == 0]\n",
    "    target_ones = target[target == 1]\n",
    "\n",
    "    features_upsampled = pd.concat([features_zeros] + [features_ones] * repeat)\n",
    "    target_upsampled = pd.concat([target_zeros] + [target_ones] * repeat)\n",
    "    \n",
    "    features_upsampled, target_upsampled = shuffle(features_upsampled, target_upsampled, random_state=random)\n",
    "    \n",
    "    return features_upsampled, target_upsampled"
   ]
  },
  {
   "cell_type": "code",
   "execution_count": 28,
   "metadata": {
    "scrolled": false
   },
   "outputs": [
    {
     "name": "stdout",
     "output_type": "stream",
     "text": [
      "F1-мера Random Forest: 0.5556858147713951\n",
      "F1-мера Decision Tree: 0.5161290322580645\n",
      "F1-мера Logistic Regression: 0.49286393910561366\n"
     ]
    }
   ],
   "source": [
    "model_dic_2 = [model_class_rf_2, model_dec_tree_2, model_log_reg_2]\n",
    "for i in range(len(model_dic_2)):\n",
    "    features_upsampled, target_upsampled = upsample(features_train, target_train, 8)\n",
    "    model = model_dic_2[i]\n",
    "    model.fit(features_upsampled, target_upsampled)\n",
    "    prediction = model.predict(features_val)\n",
    "    print(\"F1-мера {}:\".format(models_name[i]), f1_score(target_val, prediction))"
   ]
  },
  {
   "cell_type": "code",
   "execution_count": 29,
   "metadata": {},
   "outputs": [],
   "source": [
    "# Баланс уменьшением выборки\n",
    "def downsample(features, target, fraction):\n",
    "    features_zeros = features[target == 0]\n",
    "    features_ones = features[target == 1]\n",
    "    target_zeros = target[target == 0]\n",
    "    target_ones = target[target == 1]\n",
    "\n",
    "    features_downsampled = pd.concat(\n",
    "        [features_zeros.sample(frac=fraction, random_state=12345)] + [features_ones])\n",
    "    target_downsampled = pd.concat(\n",
    "        [target_zeros.sample(frac=fraction, random_state=12345)] + [target_ones])\n",
    "    \n",
    "    features_downsampled, target_downsampled = shuffle(\n",
    "        features_downsampled, target_downsampled, random_state=12345)\n",
    "    \n",
    "    return features_downsampled, target_downsampled"
   ]
  },
  {
   "cell_type": "code",
   "execution_count": 30,
   "metadata": {},
   "outputs": [
    {
     "name": "stdout",
     "output_type": "stream",
     "text": [
      "F1-мера Random Forest: 0.5008431703204047\n",
      "F1-мера Decision Tree: 0.48867924528301887\n",
      "F1-мера Logistic Regression: 0.491324200913242\n"
     ]
    }
   ],
   "source": [
    "for i in range(len(model_dic_2)):\n",
    "    features_downsampled, target_downsampled = downsample(features_train, target_train, 0.125)\n",
    "    model = model_dic_2[i]\n",
    "    model.fit(features_downsampled, target_downsampled)\n",
    "    prediction = model.predict(features_val)\n",
    "    print(\"F1-мера {}:\".format(models_name[i]), f1_score(target_val, prediction))"
   ]
  },
  {
   "cell_type": "markdown",
   "metadata": {},
   "source": [
    "Для борьбы с дисбалансом использовались 3 варианта: баласировка с помощию аргумента `class_weight`, путем увеличения, путем уменьшения выборки. Лучшим оказался путь увеличения выборки Random Forest. F1-мера показала результат 0.58."
   ]
  },
  {
   "cell_type": "markdown",
   "metadata": {},
   "source": [
    "## Тестирование модели"
   ]
  },
  {
   "cell_type": "code",
   "execution_count": 31,
   "metadata": {},
   "outputs": [
    {
     "name": "stdout",
     "output_type": "stream",
     "text": [
      "F1-мера 0.59\n"
     ]
    }
   ],
   "source": [
    "# Проверяем тестовойвыборкой\n",
    "model = RandomForestClassifier( **grid_forest.best_params_, class_weight='balanced', random_state=random)\n",
    "model.fit(features_upsampled, target_upsampled)\n",
    "prediction = model.predict(features_test)\n",
    "print(\"F1-мера\", round(f1_score(target_test, prediction),2))"
   ]
  },
  {
   "cell_type": "code",
   "execution_count": 32,
   "metadata": {},
   "outputs": [
    {
     "data": {
      "text/plain": [
       "0    1818\n",
       "dtype: int64"
      ]
     },
     "execution_count": 32,
     "metadata": {},
     "output_type": "execute_result"
    }
   ],
   "source": [
    "# Константная модель\n",
    "target_predict_constant = pd.Series([0]*len(target_test))\n",
    "target_predict_constant.value_counts()"
   ]
  },
  {
   "cell_type": "code",
   "execution_count": 33,
   "metadata": {},
   "outputs": [
    {
     "name": "stdout",
     "output_type": "stream",
     "text": [
      "0.83\n"
     ]
    }
   ],
   "source": [
    "#Сравним показатель точности (accuracy_score) константной модели и финальной\n",
    "probabilities_valid = model.predict_proba(features_val)\n",
    "probabilities_one_valid = probabilities_valid[:, 1]\n",
    "\n",
    "auc_roc = roc_auc_score(target_val, probabilities_one_valid)\n",
    "print(round(auc_roc,2))"
   ]
  },
  {
   "cell_type": "markdown",
   "metadata": {},
   "source": [
    "Тестовая выборка показала меру F-1 в пределах требований.\n",
    "При сравнении обученной модели со случайной, площадь под ROC-кривой — AUC-ROC показывает 0.85. Показатель больше 0.5 и стремится к 1, что говорит о хорошем качестве модели."
   ]
  },
  {
   "cell_type": "markdown",
   "metadata": {},
   "source": [
    "Впроекте была проведена предобработка и подготовка данных для расчета лучшей модели.\n",
    "В процессе предобработки были удалены столцы персональных данных, которые в данной задаче не поналобятся, удалены строки с пропусками в столбце tenure.\n",
    "\n",
    "Датасет был поделен на 3 выборки: обучающая, валидационная, тестовая. Соотношение выборок 60/20/20.\n",
    "Были масштабированны численные признаки для избежания дальнейших \"перекосов\" при расчете модели. Целевым признаком является столбец  факт ухода клиента. \n",
    "\n",
    "Для дальнейшего исследования были выбраны 3 модели, которые используются для классификации - \n",
    "RandomForestClassifier, DecisionTreeClassifier, LogisticRegression.\n",
    "\n",
    "Для поиска лучших параметров модели  использовался GridSearchCV. Модель Случайного леса показал лучший показатель AUC_ROC модели и меру-F1. Модель Древа решений оказалась самой быстрой и достаточно близка по точности к модели Случайного леса.\n",
    "\n",
    "Баланс классов показал, что наблюдается дисбаланс - например доля положительных ответов у Случайного леса почти в 6 раза меньше, чем доля отрицательных. Тест на адекватности модели успешной пройден, точность 2х моделей выше точности модели с дамми-ловушкой.\n",
    "\n",
    "В качестве мер по борьбе с дисбалансом, рассмотрели 3 способа - придание веса class_weight='balanced', метод увеличения выборки, метод уменьшения выборки. Лучшую меру F-1 показал метод увеличения выборки модели Random Forest. Тестирование модели подверждает, получена мера F-1, удовлетворяющая услови ТЗ."
   ]
  }
 ],
 "metadata": {
  "ExecuteTimeLog": [
   {
    "duration": 420,
    "start_time": "2023-04-23T06:58:20.475Z"
   },
   {
    "duration": 109,
    "start_time": "2023-04-23T06:58:21.398Z"
   },
   {
    "duration": 69,
    "start_time": "2023-04-23T06:58:33.972Z"
   },
   {
    "duration": 27,
    "start_time": "2023-04-23T07:04:14.580Z"
   },
   {
    "duration": 110,
    "start_time": "2023-04-23T08:11:27.771Z"
   },
   {
    "duration": 934,
    "start_time": "2023-04-23T08:12:04.270Z"
   },
   {
    "duration": 15,
    "start_time": "2023-04-23T08:12:08.600Z"
   },
   {
    "duration": 13,
    "start_time": "2023-04-23T08:12:10.595Z"
   },
   {
    "duration": 7,
    "start_time": "2023-04-23T08:12:54.486Z"
   },
   {
    "duration": 420,
    "start_time": "2023-04-23T09:00:04.946Z"
   },
   {
    "duration": 9,
    "start_time": "2023-04-23T09:00:10.811Z"
   },
   {
    "duration": 4,
    "start_time": "2023-04-23T09:02:45.817Z"
   },
   {
    "duration": 30,
    "start_time": "2023-04-23T09:02:52.310Z"
   },
   {
    "duration": 18,
    "start_time": "2023-04-23T09:04:36.079Z"
   },
   {
    "duration": 1690,
    "start_time": "2023-04-23T09:04:54.617Z"
   },
   {
    "duration": 118,
    "start_time": "2023-04-23T09:04:56.310Z"
   },
   {
    "duration": 52,
    "start_time": "2023-04-23T09:04:56.433Z"
   },
   {
    "duration": 146,
    "start_time": "2023-04-23T09:04:56.488Z"
   },
   {
    "duration": 112,
    "start_time": "2023-04-23T09:04:56.642Z"
   },
   {
    "duration": 144,
    "start_time": "2023-04-23T09:04:56.765Z"
   },
   {
    "duration": 97,
    "start_time": "2023-04-23T09:04:56.914Z"
   },
   {
    "duration": 50,
    "start_time": "2023-04-23T09:05:57.625Z"
   },
   {
    "duration": 186,
    "start_time": "2023-04-23T09:06:26.309Z"
   },
   {
    "duration": 21,
    "start_time": "2023-04-23T09:06:38.415Z"
   },
   {
    "duration": 18,
    "start_time": "2023-04-23T09:06:53.273Z"
   },
   {
    "duration": 47,
    "start_time": "2023-04-23T09:08:21.708Z"
   },
   {
    "duration": 113,
    "start_time": "2023-04-23T09:08:46.191Z"
   },
   {
    "duration": 81,
    "start_time": "2023-04-23T09:08:53.683Z"
   },
   {
    "duration": 20,
    "start_time": "2023-04-23T09:09:08.091Z"
   },
   {
    "duration": 26,
    "start_time": "2023-04-23T09:09:42.463Z"
   },
   {
    "duration": 18,
    "start_time": "2023-04-23T09:09:54.249Z"
   },
   {
    "duration": 20,
    "start_time": "2023-04-23T09:10:02.914Z"
   },
   {
    "duration": 19,
    "start_time": "2023-04-23T09:11:46.119Z"
   },
   {
    "duration": 29,
    "start_time": "2023-04-23T09:14:54.259Z"
   },
   {
    "duration": 1557,
    "start_time": "2023-04-23T09:15:09.532Z"
   },
   {
    "duration": 74,
    "start_time": "2023-04-23T09:15:11.093Z"
   },
   {
    "duration": 39,
    "start_time": "2023-04-23T09:15:11.179Z"
   },
   {
    "duration": 75,
    "start_time": "2023-04-23T09:15:11.220Z"
   },
   {
    "duration": 40,
    "start_time": "2023-04-23T09:15:11.298Z"
   },
   {
    "duration": 14,
    "start_time": "2023-04-23T09:15:11.341Z"
   },
   {
    "duration": 43,
    "start_time": "2023-04-23T09:15:11.358Z"
   },
   {
    "duration": 15,
    "start_time": "2023-04-23T09:15:11.404Z"
   },
   {
    "duration": 88,
    "start_time": "2023-04-23T10:12:16.065Z"
   },
   {
    "duration": 1264,
    "start_time": "2023-04-23T10:39:38.318Z"
   },
   {
    "duration": 94,
    "start_time": "2023-04-23T10:39:39.584Z"
   },
   {
    "duration": 25,
    "start_time": "2023-04-23T10:39:39.680Z"
   },
   {
    "duration": 14,
    "start_time": "2023-04-23T10:39:39.707Z"
   },
   {
    "duration": 64,
    "start_time": "2023-04-23T10:39:39.724Z"
   },
   {
    "duration": 10,
    "start_time": "2023-04-23T10:39:39.790Z"
   },
   {
    "duration": 26,
    "start_time": "2023-04-23T10:39:39.802Z"
   },
   {
    "duration": 9,
    "start_time": "2023-04-23T10:39:39.830Z"
   },
   {
    "duration": 148,
    "start_time": "2023-04-23T10:39:39.841Z"
   },
   {
    "duration": 0,
    "start_time": "2023-04-23T10:39:39.991Z"
   },
   {
    "duration": 0,
    "start_time": "2023-04-23T10:39:39.992Z"
   },
   {
    "duration": 13,
    "start_time": "2023-04-23T10:40:06.321Z"
   },
   {
    "duration": 48,
    "start_time": "2023-04-23T10:40:10.167Z"
   },
   {
    "duration": 7,
    "start_time": "2023-04-23T10:42:04.124Z"
   },
   {
    "duration": 10,
    "start_time": "2023-04-23T11:40:36.563Z"
   },
   {
    "duration": 1923,
    "start_time": "2023-04-23T11:41:21.784Z"
   },
   {
    "duration": 11,
    "start_time": "2023-04-23T11:41:28.259Z"
   },
   {
    "duration": 6,
    "start_time": "2023-04-23T11:58:39.382Z"
   },
   {
    "duration": 1781,
    "start_time": "2023-04-23T11:59:45.919Z"
   },
   {
    "duration": 35,
    "start_time": "2023-04-23T11:59:56.130Z"
   },
   {
    "duration": 1409,
    "start_time": "2023-04-23T12:00:25.712Z"
   },
   {
    "duration": 67,
    "start_time": "2023-04-23T12:00:27.124Z"
   },
   {
    "duration": 32,
    "start_time": "2023-04-23T12:00:27.194Z"
   },
   {
    "duration": 28,
    "start_time": "2023-04-23T12:00:27.228Z"
   },
   {
    "duration": 55,
    "start_time": "2023-04-23T12:00:27.262Z"
   },
   {
    "duration": 16,
    "start_time": "2023-04-23T12:00:27.319Z"
   },
   {
    "duration": 51,
    "start_time": "2023-04-23T12:00:27.337Z"
   },
   {
    "duration": 17,
    "start_time": "2023-04-23T12:00:27.390Z"
   },
   {
    "duration": 29,
    "start_time": "2023-04-23T12:00:27.409Z"
   },
   {
    "duration": 44,
    "start_time": "2023-04-23T12:00:27.441Z"
   },
   {
    "duration": 149,
    "start_time": "2023-04-23T12:00:27.488Z"
   },
   {
    "duration": 0,
    "start_time": "2023-04-23T12:00:27.641Z"
   },
   {
    "duration": 0,
    "start_time": "2023-04-23T12:00:27.642Z"
   },
   {
    "duration": 42,
    "start_time": "2023-04-23T12:08:26.445Z"
   },
   {
    "duration": 25,
    "start_time": "2023-04-23T12:09:12.428Z"
   },
   {
    "duration": 56,
    "start_time": "2023-04-23T12:10:45.601Z"
   },
   {
    "duration": 27,
    "start_time": "2023-04-23T12:11:11.807Z"
   },
   {
    "duration": 1318,
    "start_time": "2023-04-23T12:11:32.564Z"
   },
   {
    "duration": 55,
    "start_time": "2023-04-23T12:11:33.885Z"
   },
   {
    "duration": 29,
    "start_time": "2023-04-23T12:11:33.953Z"
   },
   {
    "duration": 5,
    "start_time": "2023-04-23T12:11:33.984Z"
   },
   {
    "duration": 167,
    "start_time": "2023-04-23T12:11:33.991Z"
   },
   {
    "duration": 0,
    "start_time": "2023-04-23T12:11:34.161Z"
   },
   {
    "duration": 0,
    "start_time": "2023-04-23T12:11:34.163Z"
   },
   {
    "duration": 0,
    "start_time": "2023-04-23T12:11:34.165Z"
   },
   {
    "duration": 0,
    "start_time": "2023-04-23T12:11:34.167Z"
   },
   {
    "duration": 0,
    "start_time": "2023-04-23T12:11:34.168Z"
   },
   {
    "duration": 0,
    "start_time": "2023-04-23T12:11:34.170Z"
   },
   {
    "duration": 0,
    "start_time": "2023-04-23T12:11:34.171Z"
   },
   {
    "duration": 0,
    "start_time": "2023-04-23T12:11:34.172Z"
   },
   {
    "duration": 8,
    "start_time": "2023-04-23T12:12:21.210Z"
   },
   {
    "duration": 15,
    "start_time": "2023-04-23T12:12:56.364Z"
   },
   {
    "duration": 27,
    "start_time": "2023-04-23T12:12:57.320Z"
   },
   {
    "duration": 7,
    "start_time": "2023-04-23T12:13:00.204Z"
   },
   {
    "duration": 30,
    "start_time": "2023-04-23T12:13:05.341Z"
   },
   {
    "duration": 28,
    "start_time": "2023-04-23T12:13:23.111Z"
   },
   {
    "duration": 26,
    "start_time": "2023-04-23T12:13:42.457Z"
   },
   {
    "duration": 8,
    "start_time": "2023-04-23T12:15:25.226Z"
   },
   {
    "duration": 102,
    "start_time": "2023-04-23T12:16:03.687Z"
   },
   {
    "duration": 10,
    "start_time": "2023-04-23T12:16:27.231Z"
   },
   {
    "duration": 9,
    "start_time": "2023-04-23T12:16:42.616Z"
   },
   {
    "duration": 1267,
    "start_time": "2023-04-23T12:16:50.216Z"
   },
   {
    "duration": 60,
    "start_time": "2023-04-23T12:16:51.486Z"
   },
   {
    "duration": 32,
    "start_time": "2023-04-23T12:16:51.548Z"
   },
   {
    "duration": 10,
    "start_time": "2023-04-23T12:16:51.582Z"
   },
   {
    "duration": 24,
    "start_time": "2023-04-23T12:16:51.595Z"
   },
   {
    "duration": 42,
    "start_time": "2023-04-23T12:16:51.621Z"
   },
   {
    "duration": 28,
    "start_time": "2023-04-23T12:16:51.665Z"
   },
   {
    "duration": 13,
    "start_time": "2023-04-23T12:16:51.695Z"
   },
   {
    "duration": 122,
    "start_time": "2023-04-23T12:16:51.711Z"
   },
   {
    "duration": 100,
    "start_time": "2023-04-23T12:16:51.835Z"
   },
   {
    "duration": 43,
    "start_time": "2023-04-23T12:16:51.937Z"
   },
   {
    "duration": 139,
    "start_time": "2023-04-23T12:16:51.982Z"
   },
   {
    "duration": 0,
    "start_time": "2023-04-23T12:16:52.123Z"
   },
   {
    "duration": 0,
    "start_time": "2023-04-23T12:16:52.124Z"
   },
   {
    "duration": 21,
    "start_time": "2023-04-23T12:17:43.257Z"
   },
   {
    "duration": 332,
    "start_time": "2023-04-23T12:32:16.276Z"
   },
   {
    "duration": 13,
    "start_time": "2023-04-23T12:36:13.568Z"
   },
   {
    "duration": 4,
    "start_time": "2023-04-23T12:36:32.669Z"
   },
   {
    "duration": 201,
    "start_time": "2023-04-23T12:36:45.802Z"
   },
   {
    "duration": 26,
    "start_time": "2023-04-23T12:36:57.214Z"
   },
   {
    "duration": 22,
    "start_time": "2023-04-23T12:37:17.438Z"
   },
   {
    "duration": 19,
    "start_time": "2023-04-23T12:37:20.429Z"
   },
   {
    "duration": 1480,
    "start_time": "2023-04-23T12:40:18.612Z"
   },
   {
    "duration": 83,
    "start_time": "2023-04-23T12:40:20.095Z"
   },
   {
    "duration": 35,
    "start_time": "2023-04-23T12:40:20.180Z"
   },
   {
    "duration": 6,
    "start_time": "2023-04-23T12:40:20.218Z"
   },
   {
    "duration": 62,
    "start_time": "2023-04-23T12:40:20.227Z"
   },
   {
    "duration": 24,
    "start_time": "2023-04-23T12:40:20.292Z"
   },
   {
    "duration": 38,
    "start_time": "2023-04-23T12:40:20.319Z"
   },
   {
    "duration": 91,
    "start_time": "2023-04-23T12:40:20.367Z"
   },
   {
    "duration": 19,
    "start_time": "2023-04-23T12:40:20.461Z"
   },
   {
    "duration": 25,
    "start_time": "2023-04-23T12:40:20.486Z"
   },
   {
    "duration": 20,
    "start_time": "2023-04-23T12:40:20.513Z"
   },
   {
    "duration": 50,
    "start_time": "2023-04-23T12:40:20.536Z"
   },
   {
    "duration": 208,
    "start_time": "2023-04-23T12:40:20.588Z"
   },
   {
    "duration": 5258,
    "start_time": "2023-04-23T12:40:20.798Z"
   },
   {
    "duration": 179,
    "start_time": "2023-04-23T12:40:26.058Z"
   },
   {
    "duration": 27096,
    "start_time": "2023-04-23T12:41:11.907Z"
   },
   {
    "duration": 5,
    "start_time": "2023-04-23T12:50:47.630Z"
   },
   {
    "duration": 4,
    "start_time": "2023-04-23T12:52:46.601Z"
   },
   {
    "duration": 16,
    "start_time": "2023-04-23T12:53:20.546Z"
   },
   {
    "duration": 10,
    "start_time": "2023-04-23T13:01:19.183Z"
   },
   {
    "duration": 12,
    "start_time": "2023-04-23T13:04:44.126Z"
   },
   {
    "duration": 81,
    "start_time": "2023-04-23T13:05:19.612Z"
   },
   {
    "duration": 8,
    "start_time": "2023-04-23T13:05:44.168Z"
   },
   {
    "duration": 11,
    "start_time": "2023-04-23T13:05:48.871Z"
   },
   {
    "duration": 51,
    "start_time": "2023-04-23T13:05:52.688Z"
   },
   {
    "duration": 218,
    "start_time": "2023-04-23T13:07:26.514Z"
   },
   {
    "duration": 26002,
    "start_time": "2023-04-23T13:07:37.168Z"
   },
   {
    "duration": 2814,
    "start_time": "2023-04-23T14:00:46.421Z"
   },
   {
    "duration": 91,
    "start_time": "2023-04-23T14:00:49.239Z"
   },
   {
    "duration": 71,
    "start_time": "2023-04-23T14:00:49.333Z"
   },
   {
    "duration": 14,
    "start_time": "2023-04-23T14:00:49.416Z"
   },
   {
    "duration": 39,
    "start_time": "2023-04-23T14:00:49.432Z"
   },
   {
    "duration": 47,
    "start_time": "2023-04-23T14:00:49.478Z"
   },
   {
    "duration": 38,
    "start_time": "2023-04-23T14:00:49.527Z"
   },
   {
    "duration": 96,
    "start_time": "2023-04-23T14:00:49.567Z"
   },
   {
    "duration": 20,
    "start_time": "2023-04-23T14:00:49.664Z"
   },
   {
    "duration": 40,
    "start_time": "2023-04-23T14:00:49.688Z"
   },
   {
    "duration": 25,
    "start_time": "2023-04-23T14:00:49.730Z"
   },
   {
    "duration": 63,
    "start_time": "2023-04-23T14:00:49.758Z"
   },
   {
    "duration": 667010,
    "start_time": "2023-04-23T14:00:49.824Z"
   },
   {
    "duration": 197,
    "start_time": "2023-04-23T14:11:56.845Z"
   },
   {
    "duration": 0,
    "start_time": "2023-04-23T14:11:57.051Z"
   },
   {
    "duration": 20,
    "start_time": "2023-04-23T14:13:11.637Z"
   },
   {
    "duration": 23,
    "start_time": "2023-04-23T14:14:25.601Z"
   },
   {
    "duration": 19,
    "start_time": "2023-04-23T14:14:49.304Z"
   },
   {
    "duration": 19,
    "start_time": "2023-04-23T14:15:31.049Z"
   },
   {
    "duration": 1078,
    "start_time": "2023-04-23T19:49:09.509Z"
   },
   {
    "duration": 85,
    "start_time": "2023-04-23T19:49:10.589Z"
   },
   {
    "duration": 20,
    "start_time": "2023-04-23T19:49:10.675Z"
   },
   {
    "duration": 47,
    "start_time": "2023-04-23T19:49:10.697Z"
   },
   {
    "duration": 16,
    "start_time": "2023-04-23T19:49:10.746Z"
   },
   {
    "duration": 8,
    "start_time": "2023-04-23T19:49:10.764Z"
   },
   {
    "duration": 14,
    "start_time": "2023-04-23T19:49:10.773Z"
   },
   {
    "duration": 46,
    "start_time": "2023-04-23T19:49:10.789Z"
   },
   {
    "duration": 8,
    "start_time": "2023-04-23T19:49:10.836Z"
   },
   {
    "duration": 5,
    "start_time": "2023-04-23T19:49:10.846Z"
   },
   {
    "duration": 6,
    "start_time": "2023-04-23T19:49:10.852Z"
   },
   {
    "duration": 6,
    "start_time": "2023-04-23T19:49:10.859Z"
   },
   {
    "duration": 389606,
    "start_time": "2023-04-23T19:49:10.866Z"
   },
   {
    "duration": 0,
    "start_time": "2023-04-23T19:55:40.474Z"
   },
   {
    "duration": 0,
    "start_time": "2023-04-23T19:55:40.475Z"
   },
   {
    "duration": 0,
    "start_time": "2023-04-23T19:55:40.476Z"
   },
   {
    "duration": 0,
    "start_time": "2023-04-23T19:55:40.477Z"
   },
   {
    "duration": 391419,
    "start_time": "2023-04-23T19:56:06.968Z"
   },
   {
    "duration": 17763,
    "start_time": "2023-04-23T20:02:38.388Z"
   },
   {
    "duration": 0,
    "start_time": "2023-04-23T20:02:56.152Z"
   },
   {
    "duration": 16813,
    "start_time": "2023-04-23T20:03:29.595Z"
   },
   {
    "duration": 1098603,
    "start_time": "2023-04-23T20:03:50.939Z"
   },
   {
    "duration": 5,
    "start_time": "2023-04-23T20:22:51.495Z"
   },
   {
    "duration": 518,
    "start_time": "2023-04-23T20:25:50.791Z"
   },
   {
    "duration": 97,
    "start_time": "2023-04-23T20:25:59.889Z"
   },
   {
    "duration": 115,
    "start_time": "2023-04-23T20:26:15.574Z"
   },
   {
    "duration": 119,
    "start_time": "2023-04-23T20:27:19.403Z"
   },
   {
    "duration": 118,
    "start_time": "2023-04-23T20:28:21.764Z"
   },
   {
    "duration": 40,
    "start_time": "2023-04-23T20:45:36.481Z"
   },
   {
    "duration": 31,
    "start_time": "2023-04-23T20:45:42.825Z"
   },
   {
    "duration": 567,
    "start_time": "2023-04-23T20:46:07.868Z"
   },
   {
    "duration": 683,
    "start_time": "2023-04-23T20:46:17.647Z"
   },
   {
    "duration": 688,
    "start_time": "2023-04-23T20:46:52.720Z"
   },
   {
    "duration": 12,
    "start_time": "2023-04-23T20:51:36.530Z"
   },
   {
    "duration": 8,
    "start_time": "2023-04-23T20:52:55.794Z"
   },
   {
    "duration": 4,
    "start_time": "2023-04-23T20:54:07.150Z"
   },
   {
    "duration": 9,
    "start_time": "2023-04-23T20:54:13.667Z"
   },
   {
    "duration": 11,
    "start_time": "2023-04-23T20:54:48.427Z"
   },
   {
    "duration": 13,
    "start_time": "2023-04-23T20:54:53.566Z"
   },
   {
    "duration": 11,
    "start_time": "2023-04-23T20:56:48.600Z"
   },
   {
    "duration": 14,
    "start_time": "2023-04-23T20:58:30.962Z"
   },
   {
    "duration": 1507,
    "start_time": "2023-04-24T18:38:02.575Z"
   },
   {
    "duration": 96,
    "start_time": "2023-04-24T18:38:04.084Z"
   },
   {
    "duration": 18,
    "start_time": "2023-04-24T18:38:04.182Z"
   },
   {
    "duration": 12,
    "start_time": "2023-04-24T18:38:04.201Z"
   },
   {
    "duration": 22,
    "start_time": "2023-04-24T18:38:04.215Z"
   },
   {
    "duration": 16,
    "start_time": "2023-04-24T18:38:04.238Z"
   },
   {
    "duration": 13,
    "start_time": "2023-04-24T18:38:04.255Z"
   },
   {
    "duration": 35,
    "start_time": "2023-04-24T18:38:04.270Z"
   },
   {
    "duration": 9,
    "start_time": "2023-04-24T18:38:04.307Z"
   },
   {
    "duration": 9,
    "start_time": "2023-04-24T18:38:04.318Z"
   },
   {
    "duration": 5,
    "start_time": "2023-04-24T18:38:04.328Z"
   },
   {
    "duration": 5,
    "start_time": "2023-04-24T18:38:04.335Z"
   },
   {
    "duration": 372133,
    "start_time": "2023-04-24T18:38:04.372Z"
   },
   {
    "duration": 17956,
    "start_time": "2023-04-24T18:44:16.508Z"
   },
   {
    "duration": 640918,
    "start_time": "2023-04-24T18:44:34.465Z"
   },
   {
    "duration": 1007,
    "start_time": "2023-04-24T18:55:15.385Z"
   },
   {
    "duration": 6,
    "start_time": "2023-04-24T18:55:16.394Z"
   },
   {
    "duration": 19,
    "start_time": "2023-04-24T18:55:16.402Z"
   },
   {
    "duration": 24,
    "start_time": "2023-04-24T18:55:16.423Z"
   },
   {
    "duration": 68,
    "start_time": "2023-04-24T18:55:43.147Z"
   },
   {
    "duration": 330,
    "start_time": "2023-04-24T18:55:48.720Z"
   },
   {
    "duration": 125,
    "start_time": "2023-04-24T19:01:24.299Z"
   },
   {
    "duration": 4,
    "start_time": "2023-04-24T19:01:48.293Z"
   },
   {
    "duration": 9,
    "start_time": "2023-04-24T19:01:53.473Z"
   },
   {
    "duration": 500,
    "start_time": "2023-04-24T19:02:31.015Z"
   },
   {
    "duration": 11,
    "start_time": "2023-04-24T19:02:40.132Z"
   },
   {
    "duration": 507,
    "start_time": "2023-04-24T19:02:40.691Z"
   },
   {
    "duration": 12,
    "start_time": "2023-04-24T19:02:45.070Z"
   },
   {
    "duration": 648,
    "start_time": "2023-04-24T19:02:45.589Z"
   },
   {
    "duration": 11,
    "start_time": "2023-04-24T19:03:34.074Z"
   },
   {
    "duration": 976,
    "start_time": "2023-04-24T19:03:34.871Z"
   },
   {
    "duration": 18,
    "start_time": "2023-04-24T19:03:43.400Z"
   },
   {
    "duration": 1559,
    "start_time": "2023-04-24T19:03:44.415Z"
   },
   {
    "duration": 1454,
    "start_time": "2023-04-24T19:04:06.312Z"
   },
   {
    "duration": 12,
    "start_time": "2023-04-24T19:04:13.207Z"
   },
   {
    "duration": 1465,
    "start_time": "2023-04-24T19:04:13.734Z"
   },
   {
    "duration": 11,
    "start_time": "2023-04-24T19:04:22.381Z"
   },
   {
    "duration": 1042,
    "start_time": "2023-04-24T19:04:23.898Z"
   },
   {
    "duration": 10,
    "start_time": "2023-04-24T19:04:51.640Z"
   },
   {
    "duration": 582,
    "start_time": "2023-04-24T19:04:53.006Z"
   },
   {
    "duration": 14,
    "start_time": "2023-04-24T19:04:58.598Z"
   },
   {
    "duration": 633,
    "start_time": "2023-04-24T19:04:59.271Z"
   },
   {
    "duration": 430,
    "start_time": "2023-04-24T19:07:50.877Z"
   },
   {
    "duration": 10,
    "start_time": "2023-04-24T19:19:12.123Z"
   },
   {
    "duration": 853,
    "start_time": "2023-04-24T19:19:52.684Z"
   },
   {
    "duration": 758,
    "start_time": "2023-04-24T19:20:07.758Z"
   },
   {
    "duration": 1813,
    "start_time": "2023-04-24T19:20:19.705Z"
   },
   {
    "duration": 13,
    "start_time": "2023-04-24T19:20:35.778Z"
   },
   {
    "duration": 2249,
    "start_time": "2023-04-24T19:20:38.012Z"
   },
   {
    "duration": 16,
    "start_time": "2023-04-24T19:20:44.236Z"
   },
   {
    "duration": 3313,
    "start_time": "2023-04-24T19:20:46.668Z"
   },
   {
    "duration": 19,
    "start_time": "2023-04-24T19:20:53.370Z"
   },
   {
    "duration": 2380,
    "start_time": "2023-04-24T19:20:55.985Z"
   },
   {
    "duration": 1119,
    "start_time": "2023-04-24T19:21:15.694Z"
   },
   {
    "duration": 8,
    "start_time": "2023-04-24T19:21:41.787Z"
   },
   {
    "duration": 530,
    "start_time": "2023-04-24T19:21:46.277Z"
   },
   {
    "duration": 9,
    "start_time": "2023-04-24T19:21:55.268Z"
   },
   {
    "duration": 499,
    "start_time": "2023-04-24T19:21:55.739Z"
   },
   {
    "duration": 9,
    "start_time": "2023-04-24T19:22:03.124Z"
   },
   {
    "duration": 382,
    "start_time": "2023-04-24T19:22:03.829Z"
   },
   {
    "duration": 7,
    "start_time": "2023-04-24T19:22:09.500Z"
   },
   {
    "duration": 455,
    "start_time": "2023-04-24T19:22:09.939Z"
   },
   {
    "duration": 9,
    "start_time": "2023-04-24T19:22:15.631Z"
   },
   {
    "duration": 532,
    "start_time": "2023-04-24T19:22:16.340Z"
   },
   {
    "duration": 9,
    "start_time": "2023-04-24T19:22:21.858Z"
   },
   {
    "duration": 669,
    "start_time": "2023-04-24T19:22:22.701Z"
   },
   {
    "duration": 9,
    "start_time": "2023-04-24T19:22:28.305Z"
   },
   {
    "duration": 472,
    "start_time": "2023-04-24T19:22:28.966Z"
   },
   {
    "duration": 431,
    "start_time": "2023-04-24T19:23:10.199Z"
   },
   {
    "duration": 8,
    "start_time": "2023-04-24T19:23:14.709Z"
   },
   {
    "duration": 422,
    "start_time": "2023-04-24T19:23:15.133Z"
   },
   {
    "duration": 677,
    "start_time": "2023-04-24T19:23:26.984Z"
   },
   {
    "duration": 8,
    "start_time": "2023-04-24T19:23:32.793Z"
   },
   {
    "duration": 639,
    "start_time": "2023-04-24T19:23:33.354Z"
   },
   {
    "duration": 10,
    "start_time": "2023-04-24T19:23:40.965Z"
   },
   {
    "duration": 688,
    "start_time": "2023-04-24T19:23:41.492Z"
   },
   {
    "duration": 9,
    "start_time": "2023-04-24T19:23:46.772Z"
   },
   {
    "duration": 655,
    "start_time": "2023-04-24T19:23:47.404Z"
   },
   {
    "duration": 10,
    "start_time": "2023-04-24T19:25:08.222Z"
   },
   {
    "duration": 433,
    "start_time": "2023-04-24T19:25:09.299Z"
   },
   {
    "duration": 9,
    "start_time": "2023-04-24T19:25:41.451Z"
   },
   {
    "duration": 559,
    "start_time": "2023-04-24T19:25:42.689Z"
   },
   {
    "duration": 9,
    "start_time": "2023-04-24T19:26:17.611Z"
   },
   {
    "duration": 551,
    "start_time": "2023-04-24T19:26:18.219Z"
   },
   {
    "duration": 9,
    "start_time": "2023-04-24T19:26:25.901Z"
   },
   {
    "duration": 494,
    "start_time": "2023-04-24T19:26:26.575Z"
   },
   {
    "duration": 8,
    "start_time": "2023-04-24T19:26:31.748Z"
   },
   {
    "duration": 418,
    "start_time": "2023-04-24T19:26:32.872Z"
   },
   {
    "duration": 8,
    "start_time": "2023-04-24T19:26:37.417Z"
   },
   {
    "duration": 483,
    "start_time": "2023-04-24T19:26:38.506Z"
   },
   {
    "duration": 26,
    "start_time": "2023-04-24T19:28:30.202Z"
   },
   {
    "duration": 24,
    "start_time": "2023-04-24T19:30:15.464Z"
   },
   {
    "duration": 8,
    "start_time": "2023-04-24T19:30:29.178Z"
   },
   {
    "duration": 528,
    "start_time": "2023-04-24T19:30:29.803Z"
   },
   {
    "duration": 24,
    "start_time": "2023-04-24T19:30:32.496Z"
   },
   {
    "duration": 11,
    "start_time": "2023-04-24T19:30:38.781Z"
   },
   {
    "duration": 600,
    "start_time": "2023-04-24T19:30:39.424Z"
   },
   {
    "duration": 26,
    "start_time": "2023-04-24T19:30:40.958Z"
   },
   {
    "duration": 53,
    "start_time": "2023-04-24T19:32:13.557Z"
   },
   {
    "duration": 708,
    "start_time": "2023-04-24T19:32:21.157Z"
   },
   {
    "duration": 357,
    "start_time": "2023-04-24T19:32:39.379Z"
   },
   {
    "duration": 9,
    "start_time": "2023-04-24T19:32:41.285Z"
   },
   {
    "duration": 722,
    "start_time": "2023-04-24T19:32:45.077Z"
   },
   {
    "duration": 676,
    "start_time": "2023-04-24T19:34:22.479Z"
   },
   {
    "duration": 27,
    "start_time": "2023-04-24T19:34:24.231Z"
   },
   {
    "duration": 8,
    "start_time": "2023-04-24T19:34:30.939Z"
   },
   {
    "duration": 526,
    "start_time": "2023-04-24T19:34:32.066Z"
   },
   {
    "duration": 46,
    "start_time": "2023-04-24T19:35:48.132Z"
   },
   {
    "duration": 81,
    "start_time": "2023-04-24T19:36:06.614Z"
   },
   {
    "duration": 8,
    "start_time": "2023-04-24T19:36:13.486Z"
   },
   {
    "duration": 572,
    "start_time": "2023-04-24T19:36:15.746Z"
   },
   {
    "duration": 100,
    "start_time": "2023-04-24T19:36:18.633Z"
   },
   {
    "duration": 9,
    "start_time": "2023-04-24T19:36:23.864Z"
   },
   {
    "duration": 617,
    "start_time": "2023-04-24T19:36:24.941Z"
   },
   {
    "duration": 94,
    "start_time": "2023-04-24T19:36:27.411Z"
   },
   {
    "duration": 9,
    "start_time": "2023-04-24T19:36:32.810Z"
   },
   {
    "duration": 591,
    "start_time": "2023-04-24T19:36:33.845Z"
   },
   {
    "duration": 104,
    "start_time": "2023-04-24T19:36:35.542Z"
   },
   {
    "duration": 10,
    "start_time": "2023-04-24T19:36:44.328Z"
   },
   {
    "duration": 693,
    "start_time": "2023-04-24T19:36:45.133Z"
   },
   {
    "duration": 141,
    "start_time": "2023-04-24T19:36:45.827Z"
   },
   {
    "duration": 8,
    "start_time": "2023-04-24T19:36:53.020Z"
   },
   {
    "duration": 489,
    "start_time": "2023-04-24T19:36:53.591Z"
   },
   {
    "duration": 77,
    "start_time": "2023-04-24T19:36:54.174Z"
   },
   {
    "duration": 26,
    "start_time": "2023-04-24T19:38:37.047Z"
   },
   {
    "duration": 6,
    "start_time": "2023-04-24T19:39:44.983Z"
   },
   {
    "duration": 10,
    "start_time": "2023-04-24T19:39:49.385Z"
   },
   {
    "duration": 525,
    "start_time": "2023-04-24T19:39:50.252Z"
   },
   {
    "duration": 6,
    "start_time": "2023-04-24T19:39:51.888Z"
   },
   {
    "duration": 9,
    "start_time": "2023-04-24T19:39:56.705Z"
   },
   {
    "duration": 534,
    "start_time": "2023-04-24T19:39:57.308Z"
   },
   {
    "duration": 6,
    "start_time": "2023-04-24T19:39:57.968Z"
   },
   {
    "duration": 10,
    "start_time": "2023-04-24T19:40:02.270Z"
   },
   {
    "duration": 475,
    "start_time": "2023-04-24T19:40:03.047Z"
   },
   {
    "duration": 6,
    "start_time": "2023-04-24T19:40:03.718Z"
   },
   {
    "duration": 6,
    "start_time": "2023-04-24T19:40:21.335Z"
   },
   {
    "duration": 445,
    "start_time": "2023-04-24T19:42:41.417Z"
   },
   {
    "duration": 6,
    "start_time": "2023-04-24T19:42:42.978Z"
   },
   {
    "duration": 8,
    "start_time": "2023-04-24T19:42:45.711Z"
   },
   {
    "duration": 490,
    "start_time": "2023-04-24T19:42:46.176Z"
   },
   {
    "duration": 5,
    "start_time": "2023-04-24T19:42:46.673Z"
   },
   {
    "duration": 9,
    "start_time": "2023-04-24T19:45:24.836Z"
   },
   {
    "duration": 80,
    "start_time": "2023-04-24T19:46:00.029Z"
   },
   {
    "duration": 77,
    "start_time": "2023-04-24T19:46:14.891Z"
   },
   {
    "duration": 77,
    "start_time": "2023-04-24T19:47:56.499Z"
   },
   {
    "duration": 75,
    "start_time": "2023-04-24T19:49:05.486Z"
   },
   {
    "duration": 1020,
    "start_time": "2023-04-24T19:49:32.114Z"
   },
   {
    "duration": 47,
    "start_time": "2023-04-24T19:49:33.136Z"
   },
   {
    "duration": 20,
    "start_time": "2023-04-24T19:49:33.184Z"
   },
   {
    "duration": 4,
    "start_time": "2023-04-24T19:49:33.205Z"
   },
   {
    "duration": 9,
    "start_time": "2023-04-24T19:49:33.211Z"
   },
   {
    "duration": 6,
    "start_time": "2023-04-24T19:49:33.222Z"
   },
   {
    "duration": 12,
    "start_time": "2023-04-24T19:49:33.230Z"
   },
   {
    "duration": 63,
    "start_time": "2023-04-24T19:49:33.243Z"
   },
   {
    "duration": 8,
    "start_time": "2023-04-24T19:49:33.308Z"
   },
   {
    "duration": 5,
    "start_time": "2023-04-24T19:49:33.317Z"
   },
   {
    "duration": 13,
    "start_time": "2023-04-24T19:49:33.324Z"
   },
   {
    "duration": 6,
    "start_time": "2023-04-24T19:49:33.339Z"
   },
   {
    "duration": 374499,
    "start_time": "2023-04-24T19:49:33.347Z"
   },
   {
    "duration": 17266,
    "start_time": "2023-04-24T19:55:47.849Z"
   },
   {
    "duration": 616059,
    "start_time": "2023-04-24T19:56:05.120Z"
   },
   {
    "duration": 499,
    "start_time": "2023-04-24T20:06:21.181Z"
   },
   {
    "duration": 5,
    "start_time": "2023-04-24T20:06:21.682Z"
   },
   {
    "duration": 17,
    "start_time": "2023-04-24T20:06:21.688Z"
   },
   {
    "duration": 12,
    "start_time": "2023-04-24T20:06:21.706Z"
   },
   {
    "duration": 433,
    "start_time": "2023-04-24T20:06:21.719Z"
   },
   {
    "duration": 9,
    "start_time": "2023-04-24T20:06:22.154Z"
   },
   {
    "duration": 502,
    "start_time": "2023-04-24T20:06:22.164Z"
   },
   {
    "duration": 8,
    "start_time": "2023-04-24T20:06:22.668Z"
   },
   {
    "duration": 95,
    "start_time": "2023-04-24T20:06:22.677Z"
   },
   {
    "duration": 9,
    "start_time": "2023-04-24T20:06:34.809Z"
   },
   {
    "duration": 497,
    "start_time": "2023-04-24T20:06:35.497Z"
   },
   {
    "duration": 5,
    "start_time": "2023-04-24T20:06:37.463Z"
   },
   {
    "duration": 82,
    "start_time": "2023-04-24T20:06:41.526Z"
   },
   {
    "duration": 10,
    "start_time": "2023-04-24T20:06:47.010Z"
   },
   {
    "duration": 402,
    "start_time": "2023-04-24T20:06:47.537Z"
   },
   {
    "duration": 5,
    "start_time": "2023-04-24T20:06:48.103Z"
   },
   {
    "duration": 69,
    "start_time": "2023-04-24T20:06:50.433Z"
   },
   {
    "duration": 9,
    "start_time": "2023-04-24T20:06:56.800Z"
   },
   {
    "duration": 348,
    "start_time": "2023-04-24T20:06:57.324Z"
   },
   {
    "duration": 5,
    "start_time": "2023-04-24T20:06:57.776Z"
   },
   {
    "duration": 62,
    "start_time": "2023-04-24T20:06:59.282Z"
   },
   {
    "duration": 66,
    "start_time": "2023-04-24T20:07:54.945Z"
   },
   {
    "duration": 74,
    "start_time": "2023-04-24T20:08:07.386Z"
   },
   {
    "duration": 418,
    "start_time": "2023-04-24T20:13:08.208Z"
   },
   {
    "duration": 409,
    "start_time": "2023-04-24T20:13:22.585Z"
   },
   {
    "duration": 385,
    "start_time": "2023-04-24T20:13:48.011Z"
   },
   {
    "duration": 386,
    "start_time": "2023-04-24T20:14:09.946Z"
   },
   {
    "duration": 10,
    "start_time": "2023-04-24T20:24:28.847Z"
   },
   {
    "duration": 1765,
    "start_time": "2023-04-24T20:24:51.212Z"
   },
   {
    "duration": 57,
    "start_time": "2023-04-24T20:25:56.392Z"
   },
   {
    "duration": 41,
    "start_time": "2023-04-24T20:26:18.243Z"
   },
   {
    "duration": 11,
    "start_time": "2023-04-24T20:26:55.200Z"
   },
   {
    "duration": 42,
    "start_time": "2023-04-24T20:26:57.676Z"
   },
   {
    "duration": 9,
    "start_time": "2023-04-24T20:27:08.353Z"
   },
   {
    "duration": 9,
    "start_time": "2023-04-24T20:27:09.409Z"
   },
   {
    "duration": 46,
    "start_time": "2023-04-24T20:27:11.899Z"
   },
   {
    "duration": 10,
    "start_time": "2023-04-24T20:30:06.428Z"
   },
   {
    "duration": 9,
    "start_time": "2023-04-24T20:30:07.255Z"
   },
   {
    "duration": 50,
    "start_time": "2023-04-24T20:30:09.963Z"
   },
   {
    "duration": 13,
    "start_time": "2023-04-24T20:30:32.079Z"
   },
   {
    "duration": 10,
    "start_time": "2023-04-24T20:30:35.060Z"
   },
   {
    "duration": 14,
    "start_time": "2023-04-24T20:30:35.706Z"
   },
   {
    "duration": 62,
    "start_time": "2023-04-24T20:30:37.260Z"
   },
   {
    "duration": 14,
    "start_time": "2023-04-24T20:31:00.879Z"
   },
   {
    "duration": 16,
    "start_time": "2023-04-24T20:31:02.218Z"
   },
   {
    "duration": 10,
    "start_time": "2023-04-24T20:31:11.408Z"
   },
   {
    "duration": 42,
    "start_time": "2023-04-24T20:31:15.425Z"
   },
   {
    "duration": 12,
    "start_time": "2023-04-24T20:31:20.212Z"
   },
   {
    "duration": 65,
    "start_time": "2023-04-24T20:31:21.273Z"
   },
   {
    "duration": 11,
    "start_time": "2023-04-24T20:31:28.155Z"
   },
   {
    "duration": 44,
    "start_time": "2023-04-24T20:31:29.247Z"
   },
   {
    "duration": 11,
    "start_time": "2023-04-24T20:31:34.802Z"
   },
   {
    "duration": 42,
    "start_time": "2023-04-24T20:31:35.833Z"
   },
   {
    "duration": 12,
    "start_time": "2023-04-24T20:31:43.252Z"
   },
   {
    "duration": 44,
    "start_time": "2023-04-24T20:31:44.017Z"
   },
   {
    "duration": 41,
    "start_time": "2023-04-24T20:31:59.249Z"
   },
   {
    "duration": 13,
    "start_time": "2023-04-24T20:32:18.736Z"
   },
   {
    "duration": 54,
    "start_time": "2023-04-24T20:32:19.929Z"
   },
   {
    "duration": 10,
    "start_time": "2023-04-24T20:32:29.422Z"
   },
   {
    "duration": 49,
    "start_time": "2023-04-24T20:32:30.222Z"
   },
   {
    "duration": 11,
    "start_time": "2023-04-24T20:32:35.697Z"
   },
   {
    "duration": 46,
    "start_time": "2023-04-24T20:32:36.734Z"
   },
   {
    "duration": 10,
    "start_time": "2023-04-24T20:32:40.795Z"
   },
   {
    "duration": 45,
    "start_time": "2023-04-24T20:32:42.602Z"
   },
   {
    "duration": 11,
    "start_time": "2023-04-24T20:32:47.067Z"
   },
   {
    "duration": 69,
    "start_time": "2023-04-24T20:32:48.042Z"
   },
   {
    "duration": 11,
    "start_time": "2023-04-24T20:32:52.426Z"
   },
   {
    "duration": 49,
    "start_time": "2023-04-24T20:32:53.200Z"
   },
   {
    "duration": 12,
    "start_time": "2023-04-24T20:35:14.033Z"
   },
   {
    "duration": 122,
    "start_time": "2023-04-24T20:35:51.202Z"
   },
   {
    "duration": 17,
    "start_time": "2023-04-24T20:36:02.996Z"
   },
   {
    "duration": 192,
    "start_time": "2023-04-24T20:36:03.503Z"
   },
   {
    "duration": 8,
    "start_time": "2023-04-24T20:36:10.327Z"
   },
   {
    "duration": 83,
    "start_time": "2023-04-24T20:36:11.099Z"
   },
   {
    "duration": 9,
    "start_time": "2023-04-24T20:36:16.167Z"
   },
   {
    "duration": 156,
    "start_time": "2023-04-24T20:36:16.569Z"
   },
   {
    "duration": 9,
    "start_time": "2023-04-24T20:37:08.573Z"
   },
   {
    "duration": 81,
    "start_time": "2023-04-24T20:37:09.156Z"
   },
   {
    "duration": 8,
    "start_time": "2023-04-24T20:37:17.005Z"
   },
   {
    "duration": 74,
    "start_time": "2023-04-24T20:37:17.372Z"
   },
   {
    "duration": 15,
    "start_time": "2023-04-24T20:40:55.367Z"
   },
   {
    "duration": 8,
    "start_time": "2023-04-24T20:41:11.003Z"
   },
   {
    "duration": 80,
    "start_time": "2023-04-24T20:41:12.296Z"
   },
   {
    "duration": 8,
    "start_time": "2023-04-24T20:41:16.544Z"
   },
   {
    "duration": 1011,
    "start_time": "2023-04-24T20:46:49.208Z"
   },
   {
    "duration": 46,
    "start_time": "2023-04-24T20:46:50.221Z"
   },
   {
    "duration": 19,
    "start_time": "2023-04-24T20:46:50.269Z"
   },
   {
    "duration": 7,
    "start_time": "2023-04-24T20:46:50.290Z"
   },
   {
    "duration": 19,
    "start_time": "2023-04-24T20:46:50.298Z"
   },
   {
    "duration": 10,
    "start_time": "2023-04-24T20:46:50.318Z"
   },
   {
    "duration": 17,
    "start_time": "2023-04-24T20:46:50.329Z"
   },
   {
    "duration": 35,
    "start_time": "2023-04-24T20:46:50.347Z"
   },
   {
    "duration": 8,
    "start_time": "2023-04-24T20:46:50.383Z"
   },
   {
    "duration": 11,
    "start_time": "2023-04-24T20:46:50.393Z"
   },
   {
    "duration": 5,
    "start_time": "2023-04-24T20:46:50.405Z"
   },
   {
    "duration": 5,
    "start_time": "2023-04-24T20:46:50.412Z"
   },
   {
    "duration": 1142,
    "start_time": "2023-04-24T20:48:26.671Z"
   },
   {
    "duration": 49,
    "start_time": "2023-04-24T20:48:27.815Z"
   },
   {
    "duration": 26,
    "start_time": "2023-04-24T20:48:27.865Z"
   },
   {
    "duration": 4,
    "start_time": "2023-04-24T20:48:27.894Z"
   },
   {
    "duration": 17,
    "start_time": "2023-04-24T20:48:27.899Z"
   },
   {
    "duration": 8,
    "start_time": "2023-04-24T20:48:27.918Z"
   },
   {
    "duration": 16,
    "start_time": "2023-04-24T20:48:27.928Z"
   },
   {
    "duration": 56,
    "start_time": "2023-04-24T20:48:27.945Z"
   },
   {
    "duration": 9,
    "start_time": "2023-04-24T20:48:28.002Z"
   },
   {
    "duration": 10,
    "start_time": "2023-04-24T20:48:28.013Z"
   },
   {
    "duration": 7,
    "start_time": "2023-04-24T20:48:28.024Z"
   },
   {
    "duration": 12,
    "start_time": "2023-04-24T20:48:28.032Z"
   },
   {
    "duration": 44,
    "start_time": "2023-04-25T03:38:59.458Z"
   },
   {
    "duration": 1022,
    "start_time": "2023-04-25T03:39:09.548Z"
   },
   {
    "duration": 173,
    "start_time": "2023-04-25T03:39:10.572Z"
   },
   {
    "duration": 18,
    "start_time": "2023-04-25T03:39:10.747Z"
   },
   {
    "duration": 4,
    "start_time": "2023-04-25T03:39:10.766Z"
   },
   {
    "duration": 20,
    "start_time": "2023-04-25T03:39:10.772Z"
   },
   {
    "duration": 9,
    "start_time": "2023-04-25T03:39:10.794Z"
   },
   {
    "duration": 14,
    "start_time": "2023-04-25T03:39:10.805Z"
   },
   {
    "duration": 34,
    "start_time": "2023-04-25T03:39:10.821Z"
   },
   {
    "duration": 8,
    "start_time": "2023-04-25T03:39:10.856Z"
   },
   {
    "duration": 21,
    "start_time": "2023-04-25T03:39:10.865Z"
   },
   {
    "duration": 22,
    "start_time": "2023-04-25T03:39:10.894Z"
   },
   {
    "duration": 7,
    "start_time": "2023-04-25T03:39:10.918Z"
   },
   {
    "duration": 1335,
    "start_time": "2023-04-25T17:28:08.003Z"
   },
   {
    "duration": 198,
    "start_time": "2023-04-25T17:28:09.340Z"
   },
   {
    "duration": 21,
    "start_time": "2023-04-25T17:28:09.540Z"
   },
   {
    "duration": 5,
    "start_time": "2023-04-25T17:28:09.563Z"
   },
   {
    "duration": 14,
    "start_time": "2023-04-25T17:28:09.570Z"
   },
   {
    "duration": 22,
    "start_time": "2023-04-25T17:28:09.590Z"
   },
   {
    "duration": 18,
    "start_time": "2023-04-25T17:28:09.616Z"
   },
   {
    "duration": 41,
    "start_time": "2023-04-25T17:28:09.636Z"
   },
   {
    "duration": 16,
    "start_time": "2023-04-25T17:28:09.686Z"
   },
   {
    "duration": 18,
    "start_time": "2023-04-25T17:28:09.704Z"
   },
   {
    "duration": 6,
    "start_time": "2023-04-25T17:28:09.724Z"
   },
   {
    "duration": 18,
    "start_time": "2023-04-25T17:28:09.732Z"
   },
   {
    "duration": 1244,
    "start_time": "2023-04-25T18:42:53.681Z"
   },
   {
    "duration": 50,
    "start_time": "2023-04-25T18:42:54.928Z"
   },
   {
    "duration": 33,
    "start_time": "2023-04-25T18:42:54.980Z"
   },
   {
    "duration": 4,
    "start_time": "2023-04-25T18:42:55.015Z"
   },
   {
    "duration": 18,
    "start_time": "2023-04-25T18:42:55.021Z"
   },
   {
    "duration": 8,
    "start_time": "2023-04-25T18:42:55.040Z"
   },
   {
    "duration": 16,
    "start_time": "2023-04-25T18:42:55.050Z"
   },
   {
    "duration": 66,
    "start_time": "2023-04-25T18:42:55.067Z"
   },
   {
    "duration": 11,
    "start_time": "2023-04-25T18:42:55.134Z"
   },
   {
    "duration": 7,
    "start_time": "2023-04-25T18:42:55.146Z"
   },
   {
    "duration": 4,
    "start_time": "2023-04-25T18:42:55.155Z"
   },
   {
    "duration": 24,
    "start_time": "2023-04-25T18:42:55.161Z"
   },
   {
    "duration": 1781111,
    "start_time": "2023-04-25T18:42:55.189Z"
   },
   {
    "duration": 117737,
    "start_time": "2023-04-25T19:12:36.303Z"
   },
   {
    "duration": 1446143,
    "start_time": "2023-04-25T19:14:34.042Z"
   },
   {
    "duration": 626,
    "start_time": "2023-04-25T19:38:40.188Z"
   },
   {
    "duration": 7,
    "start_time": "2023-04-25T19:38:40.816Z"
   },
   {
    "duration": 19,
    "start_time": "2023-04-25T19:38:40.824Z"
   },
   {
    "duration": 11,
    "start_time": "2023-04-25T19:38:40.845Z"
   },
   {
    "duration": 366,
    "start_time": "2023-04-25T19:38:40.858Z"
   },
   {
    "duration": 10,
    "start_time": "2023-04-25T19:38:41.226Z"
   },
   {
    "duration": 85,
    "start_time": "2023-04-25T19:38:41.237Z"
   },
   {
    "duration": 9,
    "start_time": "2023-04-25T19:38:41.324Z"
   },
   {
    "duration": 62,
    "start_time": "2023-04-25T19:38:41.335Z"
   },
   {
    "duration": 52,
    "start_time": "2023-04-25T19:38:49.837Z"
   },
   {
    "duration": 12,
    "start_time": "2023-04-25T19:39:02.459Z"
   },
   {
    "duration": 87,
    "start_time": "2023-04-25T19:39:09.535Z"
   },
   {
    "duration": 9,
    "start_time": "2023-04-25T19:39:14.600Z"
   },
   {
    "duration": 91,
    "start_time": "2023-04-25T19:39:15.267Z"
   },
   {
    "duration": 9,
    "start_time": "2023-04-25T19:39:25.940Z"
   },
   {
    "duration": 75,
    "start_time": "2023-04-25T19:39:26.927Z"
   },
   {
    "duration": 10,
    "start_time": "2023-04-25T19:39:31.700Z"
   },
   {
    "duration": 68,
    "start_time": "2023-04-25T19:39:32.321Z"
   },
   {
    "duration": 10,
    "start_time": "2023-04-25T19:39:38.092Z"
   },
   {
    "duration": 59,
    "start_time": "2023-04-25T19:39:38.739Z"
   },
   {
    "duration": 10,
    "start_time": "2023-04-25T19:39:45.080Z"
   },
   {
    "duration": 66,
    "start_time": "2023-04-25T19:39:45.862Z"
   },
   {
    "duration": 9,
    "start_time": "2023-04-25T19:39:52.646Z"
   },
   {
    "duration": 37,
    "start_time": "2023-04-25T19:39:53.513Z"
   },
   {
    "duration": 9,
    "start_time": "2023-04-25T19:39:57.893Z"
   },
   {
    "duration": 41,
    "start_time": "2023-04-25T19:39:58.332Z"
   },
   {
    "duration": 10,
    "start_time": "2023-04-25T19:40:03.627Z"
   },
   {
    "duration": 41,
    "start_time": "2023-04-25T19:40:04.376Z"
   },
   {
    "duration": 10,
    "start_time": "2023-04-25T19:40:08.961Z"
   },
   {
    "duration": 45,
    "start_time": "2023-04-25T19:40:09.636Z"
   },
   {
    "duration": 10,
    "start_time": "2023-04-25T19:40:20.038Z"
   },
   {
    "duration": 49,
    "start_time": "2023-04-25T19:40:21.382Z"
   },
   {
    "duration": 11,
    "start_time": "2023-04-25T19:40:27.386Z"
   },
   {
    "duration": 73,
    "start_time": "2023-04-25T19:41:15.338Z"
   },
   {
    "duration": 43,
    "start_time": "2023-04-25T19:41:37.780Z"
   },
   {
    "duration": 81,
    "start_time": "2023-04-25T19:42:48.267Z"
   },
   {
    "duration": 12,
    "start_time": "2023-04-25T19:42:49.584Z"
   },
   {
    "duration": 53,
    "start_time": "2023-04-25T19:42:50.605Z"
   },
   {
    "duration": 50,
    "start_time": "2023-04-25T19:43:20.997Z"
   },
   {
    "duration": 13,
    "start_time": "2023-04-25T19:43:26.428Z"
   },
   {
    "duration": 56,
    "start_time": "2023-04-25T19:43:26.832Z"
   },
   {
    "duration": 10,
    "start_time": "2023-04-25T19:43:31.463Z"
   },
   {
    "duration": 48,
    "start_time": "2023-04-25T19:43:32.577Z"
   },
   {
    "duration": 10,
    "start_time": "2023-04-25T19:43:36.695Z"
   },
   {
    "duration": 55,
    "start_time": "2023-04-25T19:43:37.320Z"
   },
   {
    "duration": 74,
    "start_time": "2023-04-25T19:43:41.660Z"
   },
   {
    "duration": 71,
    "start_time": "2023-04-25T19:45:19.811Z"
   },
   {
    "duration": 9,
    "start_time": "2023-04-25T19:45:38.622Z"
   },
   {
    "duration": 87,
    "start_time": "2023-04-25T19:45:39.156Z"
   },
   {
    "duration": 9,
    "start_time": "2023-04-25T19:45:45.449Z"
   },
   {
    "duration": 86,
    "start_time": "2023-04-25T19:45:46.073Z"
   },
   {
    "duration": 10,
    "start_time": "2023-04-25T19:45:51.200Z"
   },
   {
    "duration": 80,
    "start_time": "2023-04-25T19:45:51.556Z"
   },
   {
    "duration": 97,
    "start_time": "2023-04-25T19:46:07.539Z"
   },
   {
    "duration": 11,
    "start_time": "2023-04-25T19:46:08.169Z"
   },
   {
    "duration": 9,
    "start_time": "2023-04-25T19:46:12.800Z"
   },
   {
    "duration": 84,
    "start_time": "2023-04-25T19:46:13.310Z"
   },
   {
    "duration": 11,
    "start_time": "2023-04-25T19:46:16.439Z"
   },
   {
    "duration": 77,
    "start_time": "2023-04-25T19:46:16.848Z"
   },
   {
    "duration": 50,
    "start_time": "2023-04-25T19:46:46.362Z"
   },
   {
    "duration": 78,
    "start_time": "2023-04-25T20:17:10.062Z"
   },
   {
    "duration": 78,
    "start_time": "2023-04-25T20:17:19.279Z"
   },
   {
    "duration": 78,
    "start_time": "2023-04-25T20:17:42.879Z"
   },
   {
    "duration": 77,
    "start_time": "2023-04-25T20:17:48.633Z"
   },
   {
    "duration": 78,
    "start_time": "2023-04-25T20:17:52.977Z"
   },
   {
    "duration": 46,
    "start_time": "2023-04-25T20:18:22.535Z"
   },
   {
    "duration": 67,
    "start_time": "2023-04-25T20:18:29.254Z"
   },
   {
    "duration": 83,
    "start_time": "2023-04-25T20:18:34.348Z"
   },
   {
    "duration": 77,
    "start_time": "2023-04-25T20:18:39.914Z"
   },
   {
    "duration": 73,
    "start_time": "2023-04-25T20:18:45.177Z"
   },
   {
    "duration": 78,
    "start_time": "2023-04-25T20:18:58.711Z"
   },
   {
    "duration": 79,
    "start_time": "2023-04-25T20:19:04.236Z"
   },
   {
    "duration": 13,
    "start_time": "2023-04-25T20:22:02.720Z"
   },
   {
    "duration": 7,
    "start_time": "2023-04-25T20:23:19.098Z"
   },
   {
    "duration": 112,
    "start_time": "2023-04-25T20:26:55.428Z"
   },
   {
    "duration": 12,
    "start_time": "2023-04-25T20:27:19.844Z"
   },
   {
    "duration": 12,
    "start_time": "2023-04-25T20:27:20.781Z"
   },
   {
    "duration": 4,
    "start_time": "2023-04-25T20:27:42.654Z"
   },
   {
    "duration": 109,
    "start_time": "2023-04-25T20:27:48.592Z"
   },
   {
    "duration": 6,
    "start_time": "2023-04-25T20:27:49.960Z"
   },
   {
    "duration": 125,
    "start_time": "2023-04-25T20:28:29.358Z"
   },
   {
    "duration": 119,
    "start_time": "2023-04-25T20:31:37.336Z"
   },
   {
    "duration": 120,
    "start_time": "2023-04-25T20:32:04.876Z"
   },
   {
    "duration": 113,
    "start_time": "2023-04-25T20:33:11.556Z"
   },
   {
    "duration": 45,
    "start_time": "2023-04-25T20:34:16.808Z"
   },
   {
    "duration": 74,
    "start_time": "2023-04-25T20:34:26.191Z"
   },
   {
    "duration": 71,
    "start_time": "2023-04-25T20:34:38.991Z"
   },
   {
    "duration": 127,
    "start_time": "2023-04-25T20:34:46.969Z"
   },
   {
    "duration": 142,
    "start_time": "2023-04-25T20:34:54.781Z"
   },
   {
    "duration": 57,
    "start_time": "2023-04-25T20:34:59.208Z"
   },
   {
    "duration": 135,
    "start_time": "2023-04-25T20:35:08.652Z"
   },
   {
    "duration": 142,
    "start_time": "2023-04-25T20:35:16.393Z"
   },
   {
    "duration": 50,
    "start_time": "2023-04-25T20:35:32.165Z"
   },
   {
    "duration": 76,
    "start_time": "2023-04-25T20:35:38.875Z"
   },
   {
    "duration": 79,
    "start_time": "2023-04-25T20:35:59.000Z"
   },
   {
    "duration": 10,
    "start_time": "2023-04-25T20:36:09.350Z"
   },
   {
    "duration": 83,
    "start_time": "2023-04-25T20:36:10.997Z"
   },
   {
    "duration": 10,
    "start_time": "2023-04-25T20:36:16.548Z"
   },
   {
    "duration": 91,
    "start_time": "2023-04-25T20:36:17.330Z"
   },
   {
    "duration": 10,
    "start_time": "2023-04-25T20:36:24.510Z"
   },
   {
    "duration": 93,
    "start_time": "2023-04-25T20:36:24.977Z"
   },
   {
    "duration": 9,
    "start_time": "2023-04-25T20:36:29.306Z"
   },
   {
    "duration": 65,
    "start_time": "2023-04-25T20:36:29.803Z"
   },
   {
    "duration": 10,
    "start_time": "2023-04-25T20:36:33.393Z"
   },
   {
    "duration": 76,
    "start_time": "2023-04-25T20:36:33.834Z"
   },
   {
    "duration": 49,
    "start_time": "2023-04-25T20:37:02.745Z"
   },
   {
    "duration": 84,
    "start_time": "2023-04-25T20:37:20.573Z"
   },
   {
    "duration": 50,
    "start_time": "2023-04-25T20:37:51.057Z"
   },
   {
    "duration": 50,
    "start_time": "2023-04-25T20:38:00.608Z"
   },
   {
    "duration": 48,
    "start_time": "2023-04-25T20:38:21.669Z"
   },
   {
    "duration": 80,
    "start_time": "2023-04-25T20:38:26.504Z"
   },
   {
    "duration": 14,
    "start_time": "2023-04-25T20:41:09.265Z"
   },
   {
    "duration": 14,
    "start_time": "2023-04-25T20:42:57.787Z"
   },
   {
    "duration": 13,
    "start_time": "2023-04-25T20:45:36.398Z"
   },
   {
    "duration": 13,
    "start_time": "2023-04-25T20:49:18.867Z"
   },
   {
    "duration": 12,
    "start_time": "2023-04-25T20:53:42.491Z"
   },
   {
    "duration": 14,
    "start_time": "2023-04-25T20:54:23.832Z"
   },
   {
    "duration": 6,
    "start_time": "2023-04-25T20:55:17.570Z"
   },
   {
    "duration": 17,
    "start_time": "2023-04-25T20:55:18.222Z"
   },
   {
    "duration": 7,
    "start_time": "2023-04-25T20:55:26.662Z"
   },
   {
    "duration": 15,
    "start_time": "2023-04-25T20:55:27.248Z"
   },
   {
    "duration": 16,
    "start_time": "2023-04-25T20:57:43.044Z"
   },
   {
    "duration": 14,
    "start_time": "2023-04-25T20:58:28.797Z"
   },
   {
    "duration": 14,
    "start_time": "2023-04-25T20:58:32.836Z"
   },
   {
    "duration": 12,
    "start_time": "2023-04-25T20:58:37.297Z"
   },
   {
    "duration": 117,
    "start_time": "2023-04-25T20:58:41.848Z"
   },
   {
    "duration": 9,
    "start_time": "2023-04-25T20:58:44.116Z"
   },
   {
    "duration": 17,
    "start_time": "2023-04-25T20:58:44.725Z"
   },
   {
    "duration": 7,
    "start_time": "2023-04-25T20:59:39.906Z"
   },
   {
    "duration": 26,
    "start_time": "2023-04-25T20:59:43.009Z"
   },
   {
    "duration": 6,
    "start_time": "2023-04-25T20:59:53.370Z"
   },
   {
    "duration": 7,
    "start_time": "2023-04-25T21:00:07.368Z"
   },
   {
    "duration": 8,
    "start_time": "2023-04-25T21:00:18.462Z"
   },
   {
    "duration": 14,
    "start_time": "2023-04-25T21:06:12.113Z"
   },
   {
    "duration": 21,
    "start_time": "2023-04-25T21:06:17.788Z"
   },
   {
    "duration": 12,
    "start_time": "2023-04-25T21:06:29.631Z"
   },
   {
    "duration": 14,
    "start_time": "2023-04-25T21:06:35.555Z"
   },
   {
    "duration": 7,
    "start_time": "2023-04-25T21:07:34.468Z"
   },
   {
    "duration": 6,
    "start_time": "2023-04-25T21:07:35.075Z"
   },
   {
    "duration": 5,
    "start_time": "2023-04-25T21:07:38.147Z"
   },
   {
    "duration": 96,
    "start_time": "2023-04-25T21:10:55.670Z"
   },
   {
    "duration": 6,
    "start_time": "2023-04-25T21:10:57.063Z"
   },
   {
    "duration": 5,
    "start_time": "2023-04-25T21:10:57.861Z"
   },
   {
    "duration": 1343,
    "start_time": "2023-04-25T21:12:22.581Z"
   },
   {
    "duration": 64,
    "start_time": "2023-04-25T21:12:23.926Z"
   },
   {
    "duration": 22,
    "start_time": "2023-04-25T21:12:23.992Z"
   },
   {
    "duration": 6,
    "start_time": "2023-04-25T21:12:24.017Z"
   },
   {
    "duration": 19,
    "start_time": "2023-04-25T21:12:24.025Z"
   },
   {
    "duration": 49,
    "start_time": "2023-04-25T21:12:24.046Z"
   },
   {
    "duration": 20,
    "start_time": "2023-04-25T21:12:24.098Z"
   },
   {
    "duration": 64,
    "start_time": "2023-04-25T21:12:24.121Z"
   },
   {
    "duration": 10,
    "start_time": "2023-04-25T21:12:24.187Z"
   },
   {
    "duration": 14,
    "start_time": "2023-04-25T21:12:24.200Z"
   },
   {
    "duration": 5,
    "start_time": "2023-04-25T21:12:24.215Z"
   },
   {
    "duration": 6,
    "start_time": "2023-04-25T21:12:24.222Z"
   },
   {
    "duration": 1639695,
    "start_time": "2023-04-25T21:12:24.229Z"
   },
   {
    "duration": 50405,
    "start_time": "2023-04-25T21:39:43.925Z"
   },
   {
    "duration": 995660,
    "start_time": "2023-04-25T21:40:34.332Z"
   },
   {
    "duration": 353,
    "start_time": "2023-04-25T21:57:09.994Z"
   },
   {
    "duration": 6,
    "start_time": "2023-04-25T21:57:10.349Z"
   },
   {
    "duration": 23,
    "start_time": "2023-04-25T21:57:10.356Z"
   },
   {
    "duration": 20,
    "start_time": "2023-04-25T21:57:10.381Z"
   },
   {
    "duration": 333,
    "start_time": "2023-04-25T21:57:10.402Z"
   },
   {
    "duration": 8,
    "start_time": "2023-04-25T21:57:10.737Z"
   },
   {
    "duration": 82,
    "start_time": "2023-04-25T21:57:10.746Z"
   },
   {
    "duration": 10,
    "start_time": "2023-04-25T21:57:10.830Z"
   },
   {
    "duration": 62,
    "start_time": "2023-04-25T21:57:10.841Z"
   },
   {
    "duration": 85,
    "start_time": "2023-04-25T21:57:10.905Z"
   },
   {
    "duration": 13,
    "start_time": "2023-04-25T21:57:10.991Z"
   },
   {
    "duration": 131,
    "start_time": "2023-04-25T21:57:11.006Z"
   },
   {
    "duration": 6,
    "start_time": "2023-04-25T21:57:11.140Z"
   },
   {
    "duration": 121,
    "start_time": "2023-04-25T21:57:11.147Z"
   },
   {
    "duration": 75,
    "start_time": "2023-04-25T22:01:29.776Z"
   },
   {
    "duration": 115,
    "start_time": "2023-04-25T22:01:31.116Z"
   },
   {
    "duration": 13,
    "start_time": "2023-04-25T22:03:25.042Z"
   },
   {
    "duration": 1526,
    "start_time": "2023-04-26T18:45:27.144Z"
   },
   {
    "duration": 100,
    "start_time": "2023-04-26T18:45:28.672Z"
   },
   {
    "duration": 17,
    "start_time": "2023-04-26T18:45:28.774Z"
   },
   {
    "duration": 10,
    "start_time": "2023-04-26T18:45:28.792Z"
   },
   {
    "duration": 24,
    "start_time": "2023-04-26T18:45:28.803Z"
   },
   {
    "duration": 25,
    "start_time": "2023-04-26T18:45:28.828Z"
   },
   {
    "duration": 20,
    "start_time": "2023-04-26T18:45:28.854Z"
   },
   {
    "duration": 38,
    "start_time": "2023-04-26T18:45:28.875Z"
   },
   {
    "duration": 9,
    "start_time": "2023-04-26T18:45:28.915Z"
   },
   {
    "duration": 29,
    "start_time": "2023-04-26T18:45:28.927Z"
   },
   {
    "duration": 5,
    "start_time": "2023-04-26T18:45:28.958Z"
   },
   {
    "duration": 16,
    "start_time": "2023-04-26T18:45:28.964Z"
   },
   {
    "duration": 1596732,
    "start_time": "2023-04-26T18:45:28.982Z"
   },
   {
    "duration": 53871,
    "start_time": "2023-04-26T19:12:05.715Z"
   },
   {
    "duration": 680265,
    "start_time": "2023-04-26T19:12:59.588Z"
   },
   {
    "duration": 237,
    "start_time": "2023-04-26T19:24:19.858Z"
   },
   {
    "duration": 5,
    "start_time": "2023-04-26T19:24:20.096Z"
   },
   {
    "duration": 19,
    "start_time": "2023-04-26T19:24:20.103Z"
   },
   {
    "duration": 29,
    "start_time": "2023-04-26T19:24:20.124Z"
   },
   {
    "duration": 358,
    "start_time": "2023-04-26T19:24:20.155Z"
   },
   {
    "duration": 10,
    "start_time": "2023-04-26T19:24:20.514Z"
   },
   {
    "duration": 95,
    "start_time": "2023-04-26T19:24:20.525Z"
   },
   {
    "duration": 10,
    "start_time": "2023-04-26T19:24:20.621Z"
   },
   {
    "duration": 59,
    "start_time": "2023-04-26T19:24:20.633Z"
   },
   {
    "duration": 95,
    "start_time": "2023-04-26T19:24:20.694Z"
   },
   {
    "duration": 6,
    "start_time": "2023-04-26T19:24:20.791Z"
   },
   {
    "duration": 15,
    "start_time": "2023-04-26T19:24:20.798Z"
   },
   {
    "duration": 5,
    "start_time": "2023-04-26T19:36:34.510Z"
   },
   {
    "duration": 14,
    "start_time": "2023-04-26T19:37:04.341Z"
   },
   {
    "duration": 62,
    "start_time": "2023-04-26T20:36:56.843Z"
   },
   {
    "duration": 51,
    "start_time": "2023-04-26T20:37:16.952Z"
   },
   {
    "duration": 1348,
    "start_time": "2023-04-26T21:05:17.793Z"
   },
   {
    "duration": 49,
    "start_time": "2023-04-26T21:05:19.143Z"
   },
   {
    "duration": 20,
    "start_time": "2023-04-26T21:05:19.193Z"
   },
   {
    "duration": 4,
    "start_time": "2023-04-26T21:05:19.214Z"
   },
   {
    "duration": 15,
    "start_time": "2023-04-26T21:05:19.221Z"
   },
   {
    "duration": 28,
    "start_time": "2023-04-26T21:05:19.238Z"
   },
   {
    "duration": 16,
    "start_time": "2023-04-26T21:05:19.268Z"
   },
   {
    "duration": 42,
    "start_time": "2023-04-26T21:05:19.286Z"
   },
   {
    "duration": 14,
    "start_time": "2023-04-26T21:05:19.348Z"
   },
   {
    "duration": 19,
    "start_time": "2023-04-26T21:05:19.364Z"
   },
   {
    "duration": 10,
    "start_time": "2023-04-26T21:05:19.385Z"
   },
   {
    "duration": 10,
    "start_time": "2023-04-26T21:05:19.397Z"
   },
   {
    "duration": 1612453,
    "start_time": "2023-04-26T21:05:19.409Z"
   },
   {
    "duration": 52180,
    "start_time": "2023-04-26T21:32:11.865Z"
   },
   {
    "duration": 719696,
    "start_time": "2023-04-26T21:33:04.059Z"
   },
   {
    "duration": 328,
    "start_time": "2023-04-26T21:45:03.759Z"
   },
   {
    "duration": 5,
    "start_time": "2023-04-26T21:45:04.089Z"
   },
   {
    "duration": 20,
    "start_time": "2023-04-26T21:45:04.096Z"
   },
   {
    "duration": 33,
    "start_time": "2023-04-26T21:45:04.118Z"
   },
   {
    "duration": 355,
    "start_time": "2023-04-26T21:45:04.153Z"
   },
   {
    "duration": 8,
    "start_time": "2023-04-26T21:45:04.510Z"
   },
   {
    "duration": 97,
    "start_time": "2023-04-26T21:45:04.520Z"
   },
   {
    "duration": 11,
    "start_time": "2023-04-26T21:45:04.619Z"
   },
   {
    "duration": 69,
    "start_time": "2023-04-26T21:45:04.632Z"
   },
   {
    "duration": 64,
    "start_time": "2023-04-26T21:45:04.703Z"
   },
   {
    "duration": 6,
    "start_time": "2023-04-26T21:45:04.768Z"
   },
   {
    "duration": 25,
    "start_time": "2023-04-26T21:45:04.776Z"
   },
   {
    "duration": 1966,
    "start_time": "2023-04-27T18:20:07.420Z"
   },
   {
    "duration": 379,
    "start_time": "2023-04-27T18:20:09.389Z"
   },
   {
    "duration": 22,
    "start_time": "2023-04-27T18:20:09.769Z"
   },
   {
    "duration": 9,
    "start_time": "2023-04-27T18:20:09.799Z"
   },
   {
    "duration": 12,
    "start_time": "2023-04-27T18:20:09.810Z"
   },
   {
    "duration": 16,
    "start_time": "2023-04-27T18:20:09.824Z"
   },
   {
    "duration": 15,
    "start_time": "2023-04-27T18:20:09.841Z"
   },
   {
    "duration": 63,
    "start_time": "2023-04-27T18:20:09.857Z"
   },
   {
    "duration": 10,
    "start_time": "2023-04-27T18:20:09.922Z"
   },
   {
    "duration": 14,
    "start_time": "2023-04-27T18:20:09.934Z"
   },
   {
    "duration": 5,
    "start_time": "2023-04-27T18:20:09.950Z"
   },
   {
    "duration": 4,
    "start_time": "2023-04-27T18:20:09.957Z"
   },
   {
    "duration": 1723423,
    "start_time": "2023-04-27T18:20:09.963Z"
   },
   {
    "duration": 50805,
    "start_time": "2023-04-27T18:48:53.391Z"
   },
   {
    "duration": 798600,
    "start_time": "2023-04-27T18:49:44.198Z"
   },
   {
    "duration": 346,
    "start_time": "2023-04-27T19:03:02.799Z"
   },
   {
    "duration": 8,
    "start_time": "2023-04-27T19:03:03.146Z"
   },
   {
    "duration": 45,
    "start_time": "2023-04-27T19:03:03.155Z"
   },
   {
    "duration": 15,
    "start_time": "2023-04-27T19:03:03.202Z"
   },
   {
    "duration": 376,
    "start_time": "2023-04-27T19:03:03.219Z"
   },
   {
    "duration": 9,
    "start_time": "2023-04-27T19:03:03.597Z"
   },
   {
    "duration": 83,
    "start_time": "2023-04-27T19:03:03.609Z"
   },
   {
    "duration": 10,
    "start_time": "2023-04-27T19:03:03.694Z"
   },
   {
    "duration": 54,
    "start_time": "2023-04-27T19:03:03.706Z"
   },
   {
    "duration": 65,
    "start_time": "2023-04-27T19:03:03.761Z"
   },
   {
    "duration": 6,
    "start_time": "2023-04-27T19:03:03.828Z"
   },
   {
    "duration": 32,
    "start_time": "2023-04-27T19:03:03.836Z"
   },
   {
    "duration": 1470,
    "start_time": "2023-04-29T21:46:31.730Z"
   },
   {
    "duration": 91,
    "start_time": "2023-04-29T21:46:33.203Z"
   },
   {
    "duration": 18,
    "start_time": "2023-04-29T21:46:33.295Z"
   },
   {
    "duration": 6,
    "start_time": "2023-04-29T21:46:33.314Z"
   },
   {
    "duration": 13,
    "start_time": "2023-04-29T21:46:33.322Z"
   },
   {
    "duration": 22,
    "start_time": "2023-04-29T21:46:33.336Z"
   },
   {
    "duration": 13,
    "start_time": "2023-04-29T21:46:33.359Z"
   },
   {
    "duration": 50,
    "start_time": "2023-04-29T21:46:33.373Z"
   },
   {
    "duration": 8,
    "start_time": "2023-04-29T21:46:33.425Z"
   },
   {
    "duration": 12,
    "start_time": "2023-04-29T21:46:33.435Z"
   },
   {
    "duration": 4,
    "start_time": "2023-04-29T21:46:33.449Z"
   },
   {
    "duration": 5,
    "start_time": "2023-04-29T21:46:33.455Z"
   },
   {
    "duration": 121,
    "start_time": "2023-04-29T21:46:33.461Z"
   },
   {
    "duration": 0,
    "start_time": "2023-04-29T21:46:33.584Z"
   },
   {
    "duration": 0,
    "start_time": "2023-04-29T21:46:33.585Z"
   },
   {
    "duration": 0,
    "start_time": "2023-04-29T21:46:33.587Z"
   },
   {
    "duration": 0,
    "start_time": "2023-04-29T21:46:33.588Z"
   },
   {
    "duration": 0,
    "start_time": "2023-04-29T21:46:33.590Z"
   },
   {
    "duration": 0,
    "start_time": "2023-04-29T21:46:33.591Z"
   },
   {
    "duration": 0,
    "start_time": "2023-04-29T21:46:33.592Z"
   },
   {
    "duration": 0,
    "start_time": "2023-04-29T21:46:33.594Z"
   },
   {
    "duration": 0,
    "start_time": "2023-04-29T21:46:33.595Z"
   },
   {
    "duration": 0,
    "start_time": "2023-04-29T21:46:33.596Z"
   },
   {
    "duration": 0,
    "start_time": "2023-04-29T21:46:33.598Z"
   },
   {
    "duration": 0,
    "start_time": "2023-04-29T21:46:33.599Z"
   },
   {
    "duration": 0,
    "start_time": "2023-04-29T21:46:33.601Z"
   },
   {
    "duration": 0,
    "start_time": "2023-04-29T21:46:33.602Z"
   },
   {
    "duration": 0,
    "start_time": "2023-04-29T21:46:33.603Z"
   },
   {
    "duration": 4,
    "start_time": "2023-04-29T21:48:59.184Z"
   },
   {
    "duration": 1343,
    "start_time": "2023-04-29T21:49:11.039Z"
   },
   {
    "duration": 48,
    "start_time": "2023-04-29T21:49:12.383Z"
   },
   {
    "duration": 15,
    "start_time": "2023-04-29T21:49:12.433Z"
   },
   {
    "duration": 3,
    "start_time": "2023-04-29T21:49:12.450Z"
   },
   {
    "duration": 11,
    "start_time": "2023-04-29T21:49:12.454Z"
   },
   {
    "duration": 13,
    "start_time": "2023-04-29T21:49:12.467Z"
   },
   {
    "duration": 14,
    "start_time": "2023-04-29T21:49:12.481Z"
   },
   {
    "duration": 57,
    "start_time": "2023-04-29T21:49:12.496Z"
   },
   {
    "duration": 8,
    "start_time": "2023-04-29T21:49:12.554Z"
   },
   {
    "duration": 11,
    "start_time": "2023-04-29T21:49:12.563Z"
   },
   {
    "duration": 3,
    "start_time": "2023-04-29T21:49:12.576Z"
   },
   {
    "duration": 8,
    "start_time": "2023-04-29T21:49:12.580Z"
   },
   {
    "duration": 9,
    "start_time": "2023-04-29T21:49:12.589Z"
   },
   {
    "duration": 201,
    "start_time": "2023-04-29T21:49:12.600Z"
   },
   {
    "duration": 0,
    "start_time": "2023-04-29T21:49:12.802Z"
   },
   {
    "duration": 0,
    "start_time": "2023-04-29T21:49:12.803Z"
   },
   {
    "duration": 0,
    "start_time": "2023-04-29T21:49:12.804Z"
   },
   {
    "duration": 0,
    "start_time": "2023-04-29T21:49:12.805Z"
   },
   {
    "duration": 0,
    "start_time": "2023-04-29T21:49:12.806Z"
   },
   {
    "duration": 0,
    "start_time": "2023-04-29T21:49:12.807Z"
   },
   {
    "duration": 0,
    "start_time": "2023-04-29T21:49:12.808Z"
   },
   {
    "duration": 0,
    "start_time": "2023-04-29T21:49:12.809Z"
   },
   {
    "duration": 0,
    "start_time": "2023-04-29T21:49:12.809Z"
   },
   {
    "duration": 0,
    "start_time": "2023-04-29T21:49:12.810Z"
   },
   {
    "duration": 0,
    "start_time": "2023-04-29T21:49:12.811Z"
   },
   {
    "duration": 0,
    "start_time": "2023-04-29T21:49:12.812Z"
   },
   {
    "duration": 0,
    "start_time": "2023-04-29T21:49:12.813Z"
   },
   {
    "duration": 0,
    "start_time": "2023-04-29T21:49:12.813Z"
   },
   {
    "duration": 44,
    "start_time": "2023-04-29T21:53:08.961Z"
   },
   {
    "duration": 97,
    "start_time": "2023-04-29T21:53:31.932Z"
   },
   {
    "duration": 40,
    "start_time": "2023-04-29T21:54:24.832Z"
   },
   {
    "duration": 107,
    "start_time": "2023-04-29T21:54:48.486Z"
   },
   {
    "duration": 8,
    "start_time": "2023-04-29T21:56:09.054Z"
   },
   {
    "duration": 7,
    "start_time": "2023-04-29T21:56:40.246Z"
   },
   {
    "duration": 52,
    "start_time": "2023-04-29T21:57:45.810Z"
   },
   {
    "duration": 107,
    "start_time": "2023-04-29T21:58:40.500Z"
   },
   {
    "duration": 132,
    "start_time": "2023-04-29T21:59:57.853Z"
   },
   {
    "duration": 138,
    "start_time": "2023-04-29T22:11:09.259Z"
   },
   {
    "duration": 52,
    "start_time": "2023-04-29T22:11:28.564Z"
   },
   {
    "duration": 140,
    "start_time": "2023-04-29T22:11:42.272Z"
   },
   {
    "duration": 8,
    "start_time": "2023-04-29T22:17:01.837Z"
   },
   {
    "duration": 4,
    "start_time": "2023-04-29T22:17:18.318Z"
   },
   {
    "duration": 9,
    "start_time": "2023-04-29T22:19:08.908Z"
   },
   {
    "duration": 4,
    "start_time": "2023-04-29T22:19:27.561Z"
   },
   {
    "duration": 1783,
    "start_time": "2023-04-30T14:09:15.554Z"
   },
   {
    "duration": 110,
    "start_time": "2023-04-30T14:09:17.339Z"
   },
   {
    "duration": 19,
    "start_time": "2023-04-30T14:09:17.451Z"
   },
   {
    "duration": 7,
    "start_time": "2023-04-30T14:09:17.472Z"
   },
   {
    "duration": 44,
    "start_time": "2023-04-30T14:09:17.481Z"
   },
   {
    "duration": 22,
    "start_time": "2023-04-30T14:09:17.527Z"
   },
   {
    "duration": 18,
    "start_time": "2023-04-30T14:09:17.550Z"
   },
   {
    "duration": 46,
    "start_time": "2023-04-30T14:09:17.569Z"
   },
   {
    "duration": 13,
    "start_time": "2023-04-30T14:09:17.617Z"
   },
   {
    "duration": 15,
    "start_time": "2023-04-30T14:09:17.633Z"
   },
   {
    "duration": 5,
    "start_time": "2023-04-30T14:09:17.650Z"
   },
   {
    "duration": 8,
    "start_time": "2023-04-30T14:09:17.656Z"
   },
   {
    "duration": 15,
    "start_time": "2023-04-30T14:09:17.683Z"
   },
   {
    "duration": 100,
    "start_time": "2023-04-30T14:09:17.700Z"
   },
   {
    "duration": 0,
    "start_time": "2023-04-30T14:09:17.802Z"
   },
   {
    "duration": 0,
    "start_time": "2023-04-30T14:09:17.804Z"
   },
   {
    "duration": 0,
    "start_time": "2023-04-30T14:09:17.805Z"
   },
   {
    "duration": 0,
    "start_time": "2023-04-30T14:09:17.807Z"
   },
   {
    "duration": 0,
    "start_time": "2023-04-30T14:09:17.808Z"
   },
   {
    "duration": 0,
    "start_time": "2023-04-30T14:09:17.809Z"
   },
   {
    "duration": 0,
    "start_time": "2023-04-30T14:09:17.810Z"
   },
   {
    "duration": 0,
    "start_time": "2023-04-30T14:09:17.811Z"
   },
   {
    "duration": 0,
    "start_time": "2023-04-30T14:09:17.812Z"
   },
   {
    "duration": 0,
    "start_time": "2023-04-30T14:09:17.814Z"
   },
   {
    "duration": 0,
    "start_time": "2023-04-30T14:09:17.815Z"
   },
   {
    "duration": 0,
    "start_time": "2023-04-30T14:09:17.816Z"
   },
   {
    "duration": 0,
    "start_time": "2023-04-30T14:09:17.817Z"
   },
   {
    "duration": 0,
    "start_time": "2023-04-30T14:09:17.818Z"
   },
   {
    "duration": 0,
    "start_time": "2023-04-30T14:09:17.819Z"
   },
   {
    "duration": 0,
    "start_time": "2023-04-30T14:09:17.820Z"
   },
   {
    "duration": 239,
    "start_time": "2023-04-30T14:09:25.924Z"
   },
   {
    "duration": 1827719,
    "start_time": "2023-04-30T14:10:50.885Z"
   },
   {
    "duration": 1696371,
    "start_time": "2023-04-30T15:53:24.101Z"
   },
   {
    "duration": 1661234,
    "start_time": "2023-04-30T16:29:15.417Z"
   },
   {
    "duration": 13,
    "start_time": "2023-04-30T16:57:53.529Z"
   },
   {
    "duration": 37,
    "start_time": "2023-04-30T16:59:15.110Z"
   },
   {
    "duration": 44980,
    "start_time": "2023-04-30T17:00:07.746Z"
   },
   {
    "duration": 45199,
    "start_time": "2023-04-30T17:03:14.603Z"
   },
   {
    "duration": 1322,
    "start_time": "2023-04-30T17:27:45.101Z"
   },
   {
    "duration": 50,
    "start_time": "2023-04-30T17:27:46.424Z"
   },
   {
    "duration": 17,
    "start_time": "2023-04-30T17:27:46.476Z"
   },
   {
    "duration": 19,
    "start_time": "2023-04-30T17:27:46.494Z"
   },
   {
    "duration": 40,
    "start_time": "2023-04-30T17:27:46.515Z"
   },
   {
    "duration": 25,
    "start_time": "2023-04-30T17:27:46.557Z"
   },
   {
    "duration": 13,
    "start_time": "2023-04-30T17:27:46.584Z"
   },
   {
    "duration": 45,
    "start_time": "2023-04-30T17:27:46.598Z"
   },
   {
    "duration": 10,
    "start_time": "2023-04-30T17:27:46.644Z"
   },
   {
    "duration": 17,
    "start_time": "2023-04-30T17:27:46.656Z"
   },
   {
    "duration": 17,
    "start_time": "2023-04-30T17:27:46.674Z"
   },
   {
    "duration": 14,
    "start_time": "2023-04-30T17:27:46.692Z"
   },
   {
    "duration": 22,
    "start_time": "2023-04-30T17:27:46.707Z"
   },
   {
    "duration": 1604266,
    "start_time": "2023-04-30T17:27:46.731Z"
   },
   {
    "duration": 42009,
    "start_time": "2023-04-30T17:54:30.998Z"
   },
   {
    "duration": 783283,
    "start_time": "2023-04-30T17:55:13.009Z"
   },
   {
    "duration": 322,
    "start_time": "2023-04-30T18:08:16.293Z"
   },
   {
    "duration": 119,
    "start_time": "2023-04-30T18:08:16.617Z"
   },
   {
    "duration": 0,
    "start_time": "2023-04-30T18:08:16.738Z"
   },
   {
    "duration": 0,
    "start_time": "2023-04-30T18:08:16.739Z"
   },
   {
    "duration": 0,
    "start_time": "2023-04-30T18:08:16.741Z"
   },
   {
    "duration": 0,
    "start_time": "2023-04-30T18:08:16.742Z"
   },
   {
    "duration": 0,
    "start_time": "2023-04-30T18:08:16.743Z"
   },
   {
    "duration": 0,
    "start_time": "2023-04-30T18:08:16.743Z"
   },
   {
    "duration": 0,
    "start_time": "2023-04-30T18:08:16.745Z"
   },
   {
    "duration": 0,
    "start_time": "2023-04-30T18:08:16.745Z"
   },
   {
    "duration": 0,
    "start_time": "2023-04-30T18:08:16.747Z"
   },
   {
    "duration": 0,
    "start_time": "2023-04-30T18:08:16.748Z"
   },
   {
    "duration": 6,
    "start_time": "2023-04-30T18:40:09.172Z"
   },
   {
    "duration": 12,
    "start_time": "2023-04-30T19:03:34.474Z"
   },
   {
    "duration": 5,
    "start_time": "2023-04-30T19:03:35.988Z"
   },
   {
    "duration": 5,
    "start_time": "2023-04-30T19:03:50.992Z"
   },
   {
    "duration": 5,
    "start_time": "2023-04-30T19:03:51.752Z"
   },
   {
    "duration": 6,
    "start_time": "2023-04-30T19:03:52.381Z"
   },
   {
    "duration": 9,
    "start_time": "2023-04-30T19:04:17.282Z"
   },
   {
    "duration": 15,
    "start_time": "2023-04-30T19:04:35.941Z"
   },
   {
    "duration": 11,
    "start_time": "2023-04-30T19:07:37.053Z"
   },
   {
    "duration": 12,
    "start_time": "2023-04-30T19:07:39.787Z"
   },
   {
    "duration": 21,
    "start_time": "2023-04-30T19:07:43.022Z"
   },
   {
    "duration": 3,
    "start_time": "2023-04-30T19:16:06.578Z"
   },
   {
    "duration": 9,
    "start_time": "2023-04-30T19:38:16.140Z"
   },
   {
    "duration": 9,
    "start_time": "2023-04-30T19:44:07.481Z"
   },
   {
    "duration": 9,
    "start_time": "2023-04-30T19:45:58.567Z"
   },
   {
    "duration": 16,
    "start_time": "2023-04-30T19:46:15.974Z"
   },
   {
    "duration": 70,
    "start_time": "2023-04-30T19:48:44.502Z"
   },
   {
    "duration": 23,
    "start_time": "2023-04-30T19:48:50.994Z"
   },
   {
    "duration": 22,
    "start_time": "2023-04-30T19:48:57.724Z"
   },
   {
    "duration": 13,
    "start_time": "2023-04-30T19:48:58.214Z"
   },
   {
    "duration": 28,
    "start_time": "2023-04-30T19:48:59.157Z"
   },
   {
    "duration": 15,
    "start_time": "2023-04-30T19:49:00.229Z"
   },
   {
    "duration": 86,
    "start_time": "2023-04-30T19:49:13.693Z"
   },
   {
    "duration": 83,
    "start_time": "2023-04-30T19:50:04.583Z"
   },
   {
    "duration": 79,
    "start_time": "2023-04-30T19:50:30.142Z"
   },
   {
    "duration": 6,
    "start_time": "2023-04-30T20:00:06.154Z"
   },
   {
    "duration": 18,
    "start_time": "2023-04-30T20:00:18.879Z"
   },
   {
    "duration": 8,
    "start_time": "2023-04-30T20:00:37.903Z"
   },
   {
    "duration": 13,
    "start_time": "2023-04-30T20:00:55.145Z"
   },
   {
    "duration": 77,
    "start_time": "2023-04-30T20:04:16.297Z"
   },
   {
    "duration": 62,
    "start_time": "2023-04-30T20:07:12.268Z"
   },
   {
    "duration": 13,
    "start_time": "2023-04-30T20:18:38.393Z"
   },
   {
    "duration": 350,
    "start_time": "2023-04-30T20:20:34.754Z"
   },
   {
    "duration": 275,
    "start_time": "2023-04-30T20:21:18.578Z"
   },
   {
    "duration": 198,
    "start_time": "2023-04-30T20:21:48.161Z"
   },
   {
    "duration": 1398,
    "start_time": "2023-04-30T20:22:33.980Z"
   },
   {
    "duration": 50,
    "start_time": "2023-04-30T20:22:35.380Z"
   },
   {
    "duration": 17,
    "start_time": "2023-04-30T20:22:35.432Z"
   },
   {
    "duration": 22,
    "start_time": "2023-04-30T20:22:35.451Z"
   },
   {
    "duration": 26,
    "start_time": "2023-04-30T20:22:35.475Z"
   },
   {
    "duration": 19,
    "start_time": "2023-04-30T20:22:35.503Z"
   },
   {
    "duration": 34,
    "start_time": "2023-04-30T20:22:35.524Z"
   },
   {
    "duration": 50,
    "start_time": "2023-04-30T20:22:35.560Z"
   },
   {
    "duration": 9,
    "start_time": "2023-04-30T20:22:35.612Z"
   },
   {
    "duration": 22,
    "start_time": "2023-04-30T20:22:35.623Z"
   },
   {
    "duration": 6,
    "start_time": "2023-04-30T20:22:35.647Z"
   },
   {
    "duration": 29,
    "start_time": "2023-04-30T20:22:35.654Z"
   },
   {
    "duration": 11,
    "start_time": "2023-04-30T20:22:35.685Z"
   },
   {
    "duration": 1508544,
    "start_time": "2023-04-30T20:22:35.700Z"
   },
   {
    "duration": 41396,
    "start_time": "2023-04-30T20:47:44.245Z"
   },
   {
    "duration": 139844,
    "start_time": "2023-04-30T20:48:25.643Z"
   },
   {
    "duration": 330,
    "start_time": "2023-04-30T20:50:45.491Z"
   },
   {
    "duration": 6,
    "start_time": "2023-04-30T20:50:45.822Z"
   },
   {
    "duration": 35,
    "start_time": "2023-04-30T20:50:45.829Z"
   },
   {
    "duration": 24,
    "start_time": "2023-04-30T20:50:45.865Z"
   },
   {
    "duration": 39,
    "start_time": "2023-04-30T20:50:45.890Z"
   },
   {
    "duration": 328,
    "start_time": "2023-04-30T20:50:45.988Z"
   },
   {
    "duration": 120,
    "start_time": "2023-04-30T20:50:46.318Z"
   },
   {
    "duration": 0,
    "start_time": "2023-04-30T20:50:46.440Z"
   },
   {
    "duration": 0,
    "start_time": "2023-04-30T20:50:46.442Z"
   },
   {
    "duration": 0,
    "start_time": "2023-04-30T20:50:46.444Z"
   },
   {
    "duration": 0,
    "start_time": "2023-04-30T20:50:46.445Z"
   },
   {
    "duration": 0,
    "start_time": "2023-04-30T20:50:46.447Z"
   },
   {
    "duration": 0,
    "start_time": "2023-04-30T20:50:46.448Z"
   },
   {
    "duration": 1399,
    "start_time": "2023-05-01T08:52:37.003Z"
   },
   {
    "duration": 85,
    "start_time": "2023-05-01T08:52:38.404Z"
   },
   {
    "duration": 16,
    "start_time": "2023-05-01T08:52:38.491Z"
   },
   {
    "duration": 8,
    "start_time": "2023-05-01T08:52:38.508Z"
   },
   {
    "duration": 16,
    "start_time": "2023-05-01T08:52:38.518Z"
   },
   {
    "duration": 22,
    "start_time": "2023-05-01T08:52:38.535Z"
   },
   {
    "duration": 13,
    "start_time": "2023-05-01T08:52:38.559Z"
   },
   {
    "duration": 39,
    "start_time": "2023-05-01T08:52:38.573Z"
   },
   {
    "duration": 9,
    "start_time": "2023-05-01T08:52:38.614Z"
   },
   {
    "duration": 12,
    "start_time": "2023-05-01T08:52:38.624Z"
   },
   {
    "duration": 4,
    "start_time": "2023-05-01T08:52:38.637Z"
   },
   {
    "duration": 7,
    "start_time": "2023-05-01T08:52:38.642Z"
   },
   {
    "duration": 9,
    "start_time": "2023-05-01T08:52:38.671Z"
   },
   {
    "duration": 1361013,
    "start_time": "2023-05-01T08:52:38.682Z"
   },
   {
    "duration": 39178,
    "start_time": "2023-05-01T09:15:19.697Z"
   },
   {
    "duration": 95196,
    "start_time": "2023-05-01T09:15:58.877Z"
   },
   {
    "duration": 229,
    "start_time": "2023-05-01T09:17:34.075Z"
   },
   {
    "duration": 6,
    "start_time": "2023-05-01T09:17:34.306Z"
   },
   {
    "duration": 20,
    "start_time": "2023-05-01T09:17:34.314Z"
   },
   {
    "duration": 6,
    "start_time": "2023-05-01T09:17:34.336Z"
   },
   {
    "duration": 31,
    "start_time": "2023-05-01T09:17:34.344Z"
   },
   {
    "duration": 271,
    "start_time": "2023-05-01T09:17:34.376Z"
   },
   {
    "duration": 166,
    "start_time": "2023-05-01T09:17:34.649Z"
   },
   {
    "duration": 0,
    "start_time": "2023-05-01T09:17:34.817Z"
   },
   {
    "duration": 0,
    "start_time": "2023-05-01T09:17:34.818Z"
   },
   {
    "duration": 0,
    "start_time": "2023-05-01T09:17:34.819Z"
   },
   {
    "duration": 0,
    "start_time": "2023-05-01T09:17:34.820Z"
   },
   {
    "duration": 0,
    "start_time": "2023-05-01T09:17:34.821Z"
   },
   {
    "duration": 0,
    "start_time": "2023-05-01T09:17:34.823Z"
   },
   {
    "duration": 14,
    "start_time": "2023-05-01T09:36:51.631Z"
   },
   {
    "duration": 13,
    "start_time": "2023-05-01T09:50:38.100Z"
   },
   {
    "duration": 7,
    "start_time": "2023-05-01T09:51:07.128Z"
   },
   {
    "duration": 76,
    "start_time": "2023-05-01T09:51:19.769Z"
   },
   {
    "duration": 5,
    "start_time": "2023-05-01T09:52:03.003Z"
   },
   {
    "duration": 79,
    "start_time": "2023-05-01T10:04:13.123Z"
   },
   {
    "duration": 167,
    "start_time": "2023-05-01T10:06:02.015Z"
   },
   {
    "duration": 88,
    "start_time": "2023-05-01T10:10:22.410Z"
   },
   {
    "duration": 189,
    "start_time": "2023-05-01T10:14:01.983Z"
   },
   {
    "duration": 131,
    "start_time": "2023-05-01T10:14:28.269Z"
   },
   {
    "duration": 14,
    "start_time": "2023-05-01T10:15:35.561Z"
   },
   {
    "duration": 17,
    "start_time": "2023-05-01T10:15:47.827Z"
   },
   {
    "duration": 1398,
    "start_time": "2023-05-01T10:16:29.914Z"
   },
   {
    "duration": 45,
    "start_time": "2023-05-01T10:16:31.314Z"
   },
   {
    "duration": 61,
    "start_time": "2023-05-01T10:16:31.360Z"
   },
   {
    "duration": 88,
    "start_time": "2023-05-01T10:16:31.422Z"
   },
   {
    "duration": 82,
    "start_time": "2023-05-01T10:16:31.512Z"
   },
   {
    "duration": 41,
    "start_time": "2023-05-01T10:16:31.596Z"
   },
   {
    "duration": 45,
    "start_time": "2023-05-01T10:16:31.638Z"
   },
   {
    "duration": 62,
    "start_time": "2023-05-01T10:16:31.685Z"
   },
   {
    "duration": 8,
    "start_time": "2023-05-01T10:16:31.748Z"
   },
   {
    "duration": 29,
    "start_time": "2023-05-01T10:16:31.758Z"
   },
   {
    "duration": 24,
    "start_time": "2023-05-01T10:16:31.788Z"
   },
   {
    "duration": 27,
    "start_time": "2023-05-01T10:16:31.814Z"
   },
   {
    "duration": 46,
    "start_time": "2023-05-01T10:16:31.843Z"
   },
   {
    "duration": 1395735,
    "start_time": "2023-05-01T10:16:31.891Z"
   },
   {
    "duration": 40062,
    "start_time": "2023-05-01T10:39:47.627Z"
   },
   {
    "duration": 94982,
    "start_time": "2023-05-01T10:40:27.691Z"
   },
   {
    "duration": 217,
    "start_time": "2023-05-01T10:42:02.674Z"
   },
   {
    "duration": 7,
    "start_time": "2023-05-01T10:42:02.893Z"
   },
   {
    "duration": 58,
    "start_time": "2023-05-01T10:42:02.901Z"
   },
   {
    "duration": 25,
    "start_time": "2023-05-01T10:42:02.960Z"
   },
   {
    "duration": 24,
    "start_time": "2023-05-01T10:42:02.987Z"
   },
   {
    "duration": 259,
    "start_time": "2023-05-01T10:42:03.014Z"
   },
   {
    "duration": 6,
    "start_time": "2023-05-01T10:42:03.274Z"
   },
   {
    "duration": 252,
    "start_time": "2023-05-01T10:42:03.371Z"
   },
   {
    "duration": 210,
    "start_time": "2023-05-01T10:42:03.671Z"
   },
   {
    "duration": 0,
    "start_time": "2023-05-01T10:42:03.883Z"
   },
   {
    "duration": 0,
    "start_time": "2023-05-01T10:42:03.884Z"
   },
   {
    "duration": 0,
    "start_time": "2023-05-01T10:42:03.885Z"
   },
   {
    "duration": 0,
    "start_time": "2023-05-01T10:42:03.885Z"
   },
   {
    "duration": 14,
    "start_time": "2023-05-01T11:32:56.506Z"
   },
   {
    "duration": 15,
    "start_time": "2023-05-01T11:33:24.793Z"
   },
   {
    "duration": 17,
    "start_time": "2023-05-01T11:33:46.260Z"
   },
   {
    "duration": 14,
    "start_time": "2023-05-01T11:35:08.766Z"
   },
   {
    "duration": 16,
    "start_time": "2023-05-01T11:44:31.695Z"
   },
   {
    "duration": 17,
    "start_time": "2023-05-01T11:53:58.049Z"
   },
   {
    "duration": 14,
    "start_time": "2023-05-01T11:54:27.102Z"
   },
   {
    "duration": 14,
    "start_time": "2023-05-01T11:56:30.880Z"
   },
   {
    "duration": 25,
    "start_time": "2023-05-01T11:57:01.835Z"
   },
   {
    "duration": 17,
    "start_time": "2023-05-01T12:01:17.800Z"
   },
   {
    "duration": 15,
    "start_time": "2023-05-01T12:01:33.476Z"
   },
   {
    "duration": 5,
    "start_time": "2023-05-01T12:01:45.087Z"
   },
   {
    "duration": 16,
    "start_time": "2023-05-01T12:01:52.887Z"
   },
   {
    "duration": 47,
    "start_time": "2023-05-01T12:03:14.603Z"
   },
   {
    "duration": 81,
    "start_time": "2023-05-01T12:03:28.614Z"
   },
   {
    "duration": 49,
    "start_time": "2023-05-01T12:11:01.792Z"
   },
   {
    "duration": 52,
    "start_time": "2023-05-01T12:11:32.514Z"
   },
   {
    "duration": 52,
    "start_time": "2023-05-01T12:12:08.014Z"
   },
   {
    "duration": 57,
    "start_time": "2023-05-01T12:13:48.078Z"
   },
   {
    "duration": 52,
    "start_time": "2023-05-01T12:13:51.444Z"
   },
   {
    "duration": 52,
    "start_time": "2023-05-01T12:14:09.872Z"
   },
   {
    "duration": 50,
    "start_time": "2023-05-01T12:14:44.116Z"
   },
   {
    "duration": 54,
    "start_time": "2023-05-01T12:17:13.145Z"
   },
   {
    "duration": 52,
    "start_time": "2023-05-01T12:17:13.794Z"
   },
   {
    "duration": 58,
    "start_time": "2023-05-01T12:17:58.334Z"
   },
   {
    "duration": 52,
    "start_time": "2023-05-01T12:18:05.518Z"
   },
   {
    "duration": 56,
    "start_time": "2023-05-01T12:19:24.890Z"
   },
   {
    "duration": 4,
    "start_time": "2023-05-01T12:19:40.131Z"
   },
   {
    "duration": 55,
    "start_time": "2023-05-01T12:19:43.743Z"
   },
   {
    "duration": 1272,
    "start_time": "2023-05-01T12:21:37.244Z"
   },
   {
    "duration": 56,
    "start_time": "2023-05-01T12:21:38.517Z"
   },
   {
    "duration": 15,
    "start_time": "2023-05-01T12:21:38.574Z"
   },
   {
    "duration": 6,
    "start_time": "2023-05-01T12:21:38.591Z"
   },
   {
    "duration": 19,
    "start_time": "2023-05-01T12:21:38.598Z"
   },
   {
    "duration": 21,
    "start_time": "2023-05-01T12:21:38.618Z"
   },
   {
    "duration": 37,
    "start_time": "2023-05-01T12:21:38.641Z"
   },
   {
    "duration": 42,
    "start_time": "2023-05-01T12:21:38.679Z"
   },
   {
    "duration": 10,
    "start_time": "2023-05-01T12:21:38.722Z"
   },
   {
    "duration": 12,
    "start_time": "2023-05-01T12:21:38.735Z"
   },
   {
    "duration": 6,
    "start_time": "2023-05-01T12:21:38.771Z"
   },
   {
    "duration": 18,
    "start_time": "2023-05-01T12:21:38.778Z"
   },
   {
    "duration": 19,
    "start_time": "2023-05-01T12:21:38.797Z"
   },
   {
    "duration": 1338717,
    "start_time": "2023-05-01T12:21:38.818Z"
   },
   {
    "duration": 39334,
    "start_time": "2023-05-01T12:43:57.536Z"
   },
   {
    "duration": 99404,
    "start_time": "2023-05-01T12:44:36.872Z"
   },
   {
    "duration": 317,
    "start_time": "2023-05-01T12:46:16.278Z"
   },
   {
    "duration": 6,
    "start_time": "2023-05-01T12:46:16.597Z"
   },
   {
    "duration": 61,
    "start_time": "2023-05-01T12:46:16.604Z"
   },
   {
    "duration": 34,
    "start_time": "2023-05-01T12:46:16.666Z"
   },
   {
    "duration": 72,
    "start_time": "2023-05-01T12:46:16.701Z"
   },
   {
    "duration": 203,
    "start_time": "2023-05-01T12:46:16.774Z"
   },
   {
    "duration": 93,
    "start_time": "2023-05-01T12:46:16.980Z"
   },
   {
    "duration": 238,
    "start_time": "2023-05-01T12:46:17.074Z"
   },
   {
    "duration": 0,
    "start_time": "2023-05-01T12:46:17.314Z"
   },
   {
    "duration": 0,
    "start_time": "2023-05-01T12:46:17.315Z"
   },
   {
    "duration": 0,
    "start_time": "2023-05-01T12:46:17.315Z"
   },
   {
    "duration": 0,
    "start_time": "2023-05-01T12:46:17.317Z"
   },
   {
    "duration": 0,
    "start_time": "2023-05-01T12:46:17.317Z"
   },
   {
    "duration": 0,
    "start_time": "2023-05-01T12:46:17.318Z"
   },
   {
    "duration": 4,
    "start_time": "2023-05-01T12:55:43.817Z"
   },
   {
    "duration": 53,
    "start_time": "2023-05-01T12:55:45.259Z"
   },
   {
    "duration": 4,
    "start_time": "2023-05-01T12:56:28.935Z"
   },
   {
    "duration": 59,
    "start_time": "2023-05-01T12:56:32.147Z"
   },
   {
    "duration": 4,
    "start_time": "2023-05-01T12:57:38.962Z"
   },
   {
    "duration": 57,
    "start_time": "2023-05-01T12:57:40.541Z"
   },
   {
    "duration": 3,
    "start_time": "2023-05-01T12:59:26.669Z"
   },
   {
    "duration": 58,
    "start_time": "2023-05-01T12:59:27.940Z"
   },
   {
    "duration": 49,
    "start_time": "2023-05-01T13:00:32.431Z"
   },
   {
    "duration": 58,
    "start_time": "2023-05-01T13:01:11.951Z"
   },
   {
    "duration": 3,
    "start_time": "2023-05-01T13:02:43.170Z"
   },
   {
    "duration": 47,
    "start_time": "2023-05-01T13:02:54.557Z"
   },
   {
    "duration": 3,
    "start_time": "2023-05-01T13:03:23.616Z"
   },
   {
    "duration": 4,
    "start_time": "2023-05-01T13:03:29.117Z"
   },
   {
    "duration": 72,
    "start_time": "2023-05-01T13:03:30.303Z"
   },
   {
    "duration": 49,
    "start_time": "2023-05-01T13:04:18.199Z"
   },
   {
    "duration": 60,
    "start_time": "2023-05-01T13:12:04.597Z"
   },
   {
    "duration": 51,
    "start_time": "2023-05-01T13:13:06.193Z"
   },
   {
    "duration": 5,
    "start_time": "2023-05-01T13:13:48.092Z"
   },
   {
    "duration": 47,
    "start_time": "2023-05-01T13:13:51.721Z"
   },
   {
    "duration": 3,
    "start_time": "2023-05-01T13:14:06.627Z"
   },
   {
    "duration": 61,
    "start_time": "2023-05-01T13:14:07.993Z"
   },
   {
    "duration": 14,
    "start_time": "2023-05-01T13:15:26.255Z"
   },
   {
    "duration": 12,
    "start_time": "2023-05-01T13:15:59.610Z"
   },
   {
    "duration": 14,
    "start_time": "2023-05-01T13:16:20.420Z"
   },
   {
    "duration": 13,
    "start_time": "2023-05-01T13:17:45.323Z"
   },
   {
    "duration": 1309,
    "start_time": "2023-05-01T13:17:59.260Z"
   },
   {
    "duration": 46,
    "start_time": "2023-05-01T13:18:02.541Z"
   },
   {
    "duration": 17,
    "start_time": "2023-05-01T13:18:03.237Z"
   },
   {
    "duration": 4,
    "start_time": "2023-05-01T13:18:03.946Z"
   },
   {
    "duration": 10,
    "start_time": "2023-05-01T13:18:04.898Z"
   },
   {
    "duration": 14,
    "start_time": "2023-05-01T13:18:05.538Z"
   },
   {
    "duration": 13,
    "start_time": "2023-05-01T13:18:08.001Z"
   },
   {
    "duration": 34,
    "start_time": "2023-05-01T13:18:10.765Z"
   },
   {
    "duration": 10,
    "start_time": "2023-05-01T13:18:12.545Z"
   },
   {
    "duration": 14,
    "start_time": "2023-05-01T13:18:13.409Z"
   },
   {
    "duration": 5,
    "start_time": "2023-05-01T13:18:14.517Z"
   },
   {
    "duration": 4,
    "start_time": "2023-05-01T13:18:15.337Z"
   },
   {
    "duration": 9,
    "start_time": "2023-05-01T13:18:16.001Z"
   },
   {
    "duration": 15,
    "start_time": "2023-05-01T13:18:19.703Z"
   },
   {
    "duration": 9,
    "start_time": "2023-05-01T13:18:32.766Z"
   },
   {
    "duration": 5,
    "start_time": "2023-05-01T13:18:33.318Z"
   },
   {
    "duration": 6,
    "start_time": "2023-05-01T13:18:33.898Z"
   },
   {
    "duration": 9,
    "start_time": "2023-05-01T13:18:39.667Z"
   },
   {
    "duration": 128,
    "start_time": "2023-05-01T13:18:44.988Z"
   },
   {
    "duration": 15,
    "start_time": "2023-05-01T13:19:07.720Z"
   },
   {
    "duration": 9,
    "start_time": "2023-05-01T13:20:55.198Z"
   },
   {
    "duration": 8,
    "start_time": "2023-05-01T13:21:06.790Z"
   },
   {
    "duration": 14,
    "start_time": "2023-05-01T13:21:33.534Z"
   },
   {
    "duration": 8,
    "start_time": "2023-05-01T13:21:49.853Z"
   },
   {
    "duration": 13,
    "start_time": "2023-05-01T13:21:57.588Z"
   },
   {
    "duration": 4,
    "start_time": "2023-05-01T13:23:49.849Z"
   },
   {
    "duration": 4,
    "start_time": "2023-05-01T13:24:03.999Z"
   },
   {
    "duration": 4,
    "start_time": "2023-05-01T13:24:04.729Z"
   },
   {
    "duration": 9,
    "start_time": "2023-05-01T13:24:06.404Z"
   },
   {
    "duration": 4,
    "start_time": "2023-05-01T13:24:31.928Z"
   },
   {
    "duration": 15,
    "start_time": "2023-05-01T13:24:54.597Z"
   },
   {
    "duration": 18,
    "start_time": "2023-05-01T13:26:20.292Z"
   },
   {
    "duration": 21,
    "start_time": "2023-05-01T13:26:44.193Z"
   },
   {
    "duration": 13,
    "start_time": "2023-05-01T13:27:12.201Z"
   },
   {
    "duration": 14,
    "start_time": "2023-05-01T13:27:20.358Z"
   },
   {
    "duration": 70,
    "start_time": "2023-05-01T13:28:01.094Z"
   },
   {
    "duration": 16,
    "start_time": "2023-05-01T13:28:14.793Z"
   },
   {
    "duration": 16,
    "start_time": "2023-05-01T13:28:19.293Z"
   },
   {
    "duration": 5,
    "start_time": "2023-05-01T13:28:31.900Z"
   },
   {
    "duration": 14,
    "start_time": "2023-05-01T13:28:34.564Z"
   },
   {
    "duration": 9,
    "start_time": "2023-05-01T13:28:43.441Z"
   },
   {
    "duration": 5,
    "start_time": "2023-05-01T13:28:43.923Z"
   },
   {
    "duration": 5,
    "start_time": "2023-05-01T13:28:44.445Z"
   },
   {
    "duration": 9,
    "start_time": "2023-05-01T13:28:48.548Z"
   },
   {
    "duration": 1310,
    "start_time": "2023-05-01T13:47:05.530Z"
   },
   {
    "duration": 46,
    "start_time": "2023-05-01T13:47:06.842Z"
   },
   {
    "duration": 17,
    "start_time": "2023-05-01T13:47:06.890Z"
   },
   {
    "duration": 3,
    "start_time": "2023-05-01T13:47:06.909Z"
   },
   {
    "duration": 11,
    "start_time": "2023-05-01T13:47:06.913Z"
   },
   {
    "duration": 16,
    "start_time": "2023-05-01T13:47:06.926Z"
   },
   {
    "duration": 31,
    "start_time": "2023-05-01T13:47:06.943Z"
   },
   {
    "duration": 34,
    "start_time": "2023-05-01T13:47:06.976Z"
   },
   {
    "duration": 8,
    "start_time": "2023-05-01T13:47:07.012Z"
   },
   {
    "duration": 4,
    "start_time": "2023-05-01T13:47:07.022Z"
   },
   {
    "duration": 13,
    "start_time": "2023-05-01T13:47:07.028Z"
   },
   {
    "duration": 6,
    "start_time": "2023-05-01T13:47:07.043Z"
   },
   {
    "duration": 22,
    "start_time": "2023-05-01T13:47:07.050Z"
   },
   {
    "duration": 10,
    "start_time": "2023-05-01T13:47:07.073Z"
   },
   {
    "duration": 233985,
    "start_time": "2023-05-01T13:47:07.084Z"
   },
   {
    "duration": 11263,
    "start_time": "2023-05-01T13:51:01.071Z"
   },
   {
    "duration": 91637,
    "start_time": "2023-05-01T13:51:12.336Z"
   },
   {
    "duration": 267,
    "start_time": "2023-05-01T13:52:43.978Z"
   },
   {
    "duration": 5,
    "start_time": "2023-05-01T13:52:44.247Z"
   },
   {
    "duration": 23,
    "start_time": "2023-05-01T13:52:44.253Z"
   },
   {
    "duration": 6,
    "start_time": "2023-05-01T13:52:44.277Z"
   },
   {
    "duration": 14,
    "start_time": "2023-05-01T13:52:44.284Z"
   },
   {
    "duration": 109,
    "start_time": "2023-05-01T13:52:44.372Z"
   },
   {
    "duration": 112,
    "start_time": "2023-05-01T13:52:44.483Z"
   },
   {
    "duration": 0,
    "start_time": "2023-05-01T13:52:44.596Z"
   },
   {
    "duration": 0,
    "start_time": "2023-05-01T13:52:44.597Z"
   },
   {
    "duration": 0,
    "start_time": "2023-05-01T13:52:44.598Z"
   },
   {
    "duration": 0,
    "start_time": "2023-05-01T13:52:44.599Z"
   },
   {
    "duration": 0,
    "start_time": "2023-05-01T13:52:44.600Z"
   },
   {
    "duration": 0,
    "start_time": "2023-05-01T13:52:44.601Z"
   },
   {
    "duration": 0,
    "start_time": "2023-05-01T13:52:44.602Z"
   },
   {
    "duration": 0,
    "start_time": "2023-05-01T13:52:44.602Z"
   },
   {
    "duration": 1326,
    "start_time": "2023-05-01T13:55:52.411Z"
   },
   {
    "duration": 45,
    "start_time": "2023-05-01T13:55:53.739Z"
   },
   {
    "duration": 15,
    "start_time": "2023-05-01T13:55:53.785Z"
   },
   {
    "duration": 42,
    "start_time": "2023-05-01T13:55:53.802Z"
   },
   {
    "duration": 12,
    "start_time": "2023-05-01T13:55:53.846Z"
   },
   {
    "duration": 46,
    "start_time": "2023-05-01T13:55:53.859Z"
   },
   {
    "duration": 18,
    "start_time": "2023-05-01T13:55:53.906Z"
   },
   {
    "duration": 33,
    "start_time": "2023-05-01T13:55:53.925Z"
   },
   {
    "duration": 7,
    "start_time": "2023-05-01T13:55:53.960Z"
   },
   {
    "duration": 2,
    "start_time": "2023-05-01T13:55:53.969Z"
   },
   {
    "duration": 16,
    "start_time": "2023-05-01T13:55:53.972Z"
   },
   {
    "duration": 4,
    "start_time": "2023-05-01T13:55:53.989Z"
   },
   {
    "duration": 7,
    "start_time": "2023-05-01T13:55:53.994Z"
   },
   {
    "duration": 8,
    "start_time": "2023-05-01T13:55:54.003Z"
   },
   {
    "duration": 231660,
    "start_time": "2023-05-01T13:55:54.012Z"
   },
   {
    "duration": 11625,
    "start_time": "2023-05-01T13:59:45.673Z"
   },
   {
    "duration": 102972,
    "start_time": "2023-05-01T13:59:57.300Z"
   },
   {
    "duration": 329,
    "start_time": "2023-05-01T14:01:40.275Z"
   },
   {
    "duration": 5,
    "start_time": "2023-05-01T14:01:40.606Z"
   },
   {
    "duration": 19,
    "start_time": "2023-05-01T14:01:40.613Z"
   },
   {
    "duration": 5,
    "start_time": "2023-05-01T14:01:40.634Z"
   },
   {
    "duration": 40,
    "start_time": "2023-05-01T14:01:40.641Z"
   },
   {
    "duration": 9,
    "start_time": "2023-05-01T14:01:40.772Z"
   },
   {
    "duration": 131,
    "start_time": "2023-05-01T14:01:40.782Z"
   },
   {
    "duration": 0,
    "start_time": "2023-05-01T14:01:40.915Z"
   },
   {
    "duration": 0,
    "start_time": "2023-05-01T14:01:40.916Z"
   },
   {
    "duration": 0,
    "start_time": "2023-05-01T14:01:40.917Z"
   },
   {
    "duration": 0,
    "start_time": "2023-05-01T14:01:40.918Z"
   },
   {
    "duration": 0,
    "start_time": "2023-05-01T14:01:40.919Z"
   },
   {
    "duration": 0,
    "start_time": "2023-05-01T14:01:40.920Z"
   },
   {
    "duration": 0,
    "start_time": "2023-05-01T14:01:40.920Z"
   },
   {
    "duration": 0,
    "start_time": "2023-05-01T14:01:40.921Z"
   },
   {
    "duration": 1292,
    "start_time": "2023-05-01T14:33:27.867Z"
   },
   {
    "duration": 54,
    "start_time": "2023-05-01T14:33:29.161Z"
   },
   {
    "duration": 16,
    "start_time": "2023-05-01T14:33:29.216Z"
   },
   {
    "duration": 4,
    "start_time": "2023-05-01T14:33:29.233Z"
   },
   {
    "duration": 14,
    "start_time": "2023-05-01T14:33:29.239Z"
   },
   {
    "duration": 14,
    "start_time": "2023-05-01T14:33:29.254Z"
   },
   {
    "duration": 19,
    "start_time": "2023-05-01T14:33:29.269Z"
   },
   {
    "duration": 37,
    "start_time": "2023-05-01T14:33:29.290Z"
   },
   {
    "duration": 8,
    "start_time": "2023-05-01T14:33:29.328Z"
   },
   {
    "duration": 6,
    "start_time": "2023-05-01T14:33:29.337Z"
   },
   {
    "duration": 13,
    "start_time": "2023-05-01T14:33:29.344Z"
   },
   {
    "duration": 6,
    "start_time": "2023-05-01T14:33:29.381Z"
   },
   {
    "duration": 5,
    "start_time": "2023-05-01T14:33:29.388Z"
   },
   {
    "duration": 9,
    "start_time": "2023-05-01T14:33:29.396Z"
   },
   {
    "duration": 241840,
    "start_time": "2023-05-01T14:33:29.406Z"
   },
   {
    "duration": 11907,
    "start_time": "2023-05-01T14:37:31.248Z"
   },
   {
    "duration": 330135,
    "start_time": "2023-05-01T14:37:43.156Z"
   },
   {
    "duration": 361,
    "start_time": "2023-05-01T14:43:13.292Z"
   },
   {
    "duration": 6,
    "start_time": "2023-05-01T14:43:13.654Z"
   },
   {
    "duration": 23,
    "start_time": "2023-05-01T14:43:13.661Z"
   },
   {
    "duration": 7,
    "start_time": "2023-05-01T14:43:13.686Z"
   },
   {
    "duration": 88,
    "start_time": "2023-05-01T14:43:13.695Z"
   },
   {
    "duration": 193,
    "start_time": "2023-05-01T14:43:13.785Z"
   },
   {
    "duration": 4,
    "start_time": "2023-05-01T14:43:13.980Z"
   },
   {
    "duration": 90,
    "start_time": "2023-05-01T14:43:13.985Z"
   },
   {
    "duration": 219,
    "start_time": "2023-05-01T14:43:14.081Z"
   },
   {
    "duration": 0,
    "start_time": "2023-05-01T14:43:14.301Z"
   },
   {
    "duration": 0,
    "start_time": "2023-05-01T14:43:14.302Z"
   },
   {
    "duration": 0,
    "start_time": "2023-05-01T14:43:14.303Z"
   },
   {
    "duration": 0,
    "start_time": "2023-05-01T14:43:14.303Z"
   },
   {
    "duration": 0,
    "start_time": "2023-05-01T14:43:14.304Z"
   },
   {
    "duration": 0,
    "start_time": "2023-05-01T14:43:14.305Z"
   },
   {
    "duration": 8,
    "start_time": "2023-05-01T14:51:53.671Z"
   },
   {
    "duration": 3,
    "start_time": "2023-05-01T14:51:55.416Z"
   },
   {
    "duration": 62,
    "start_time": "2023-05-01T14:51:57.440Z"
   },
   {
    "duration": 65,
    "start_time": "2023-05-01T14:59:04.737Z"
   },
   {
    "duration": 86,
    "start_time": "2023-05-01T15:10:03.907Z"
   },
   {
    "duration": 3,
    "start_time": "2023-05-01T15:31:40.523Z"
   },
   {
    "duration": 58,
    "start_time": "2023-05-01T15:31:50.484Z"
   },
   {
    "duration": 4,
    "start_time": "2023-05-01T15:32:02.538Z"
   },
   {
    "duration": 53,
    "start_time": "2023-05-01T15:32:05.298Z"
   },
   {
    "duration": 4,
    "start_time": "2023-05-01T15:35:02.140Z"
   },
   {
    "duration": 4,
    "start_time": "2023-05-01T15:35:15.564Z"
   },
   {
    "duration": 59,
    "start_time": "2023-05-01T15:35:20.626Z"
   },
   {
    "duration": 69,
    "start_time": "2023-05-01T15:37:10.324Z"
   },
   {
    "duration": 71,
    "start_time": "2023-05-01T15:42:22.241Z"
   },
   {
    "duration": 1299,
    "start_time": "2023-05-01T15:44:36.018Z"
   },
   {
    "duration": 46,
    "start_time": "2023-05-01T15:44:37.319Z"
   },
   {
    "duration": 27,
    "start_time": "2023-05-01T15:44:37.367Z"
   },
   {
    "duration": 9,
    "start_time": "2023-05-01T15:44:37.397Z"
   },
   {
    "duration": 16,
    "start_time": "2023-05-01T15:44:37.407Z"
   },
   {
    "duration": 14,
    "start_time": "2023-05-01T15:44:37.424Z"
   },
   {
    "duration": 13,
    "start_time": "2023-05-01T15:44:37.439Z"
   },
   {
    "duration": 53,
    "start_time": "2023-05-01T15:44:37.453Z"
   },
   {
    "duration": 9,
    "start_time": "2023-05-01T15:44:37.507Z"
   },
   {
    "duration": 6,
    "start_time": "2023-05-01T15:44:37.518Z"
   },
   {
    "duration": 13,
    "start_time": "2023-05-01T15:44:37.525Z"
   },
   {
    "duration": 3,
    "start_time": "2023-05-01T15:44:37.539Z"
   },
   {
    "duration": 5,
    "start_time": "2023-05-01T15:44:37.543Z"
   },
   {
    "duration": 41,
    "start_time": "2023-05-01T15:44:37.549Z"
   },
   {
    "duration": 243169,
    "start_time": "2023-05-01T15:44:37.592Z"
   },
   {
    "duration": 11660,
    "start_time": "2023-05-01T15:48:40.763Z"
   },
   {
    "duration": 115949,
    "start_time": "2023-05-01T15:48:52.424Z"
   },
   {
    "duration": 232,
    "start_time": "2023-05-01T15:50:48.375Z"
   },
   {
    "duration": 6,
    "start_time": "2023-05-01T15:50:48.608Z"
   },
   {
    "duration": 24,
    "start_time": "2023-05-01T15:50:48.616Z"
   },
   {
    "duration": 6,
    "start_time": "2023-05-01T15:50:48.641Z"
   },
   {
    "duration": 35,
    "start_time": "2023-05-01T15:50:48.649Z"
   },
   {
    "duration": 293,
    "start_time": "2023-05-01T15:50:48.685Z"
   },
   {
    "duration": 92,
    "start_time": "2023-05-01T15:50:48.980Z"
   },
   {
    "duration": 5,
    "start_time": "2023-05-01T15:50:49.073Z"
   },
   {
    "duration": 21,
    "start_time": "2023-05-01T15:50:49.080Z"
   },
   {
    "duration": 11,
    "start_time": "2023-05-01T15:50:49.103Z"
   },
   {
    "duration": 6,
    "start_time": "2023-05-01T15:50:49.118Z"
   },
   {
    "duration": 184,
    "start_time": "2023-05-01T15:50:49.126Z"
   },
   {
    "duration": 0,
    "start_time": "2023-05-01T15:50:49.312Z"
   },
   {
    "duration": 0,
    "start_time": "2023-05-01T15:50:49.313Z"
   },
   {
    "duration": 0,
    "start_time": "2023-05-01T15:50:49.314Z"
   },
   {
    "duration": 0,
    "start_time": "2023-05-01T15:50:49.315Z"
   },
   {
    "duration": 0,
    "start_time": "2023-05-01T15:50:49.317Z"
   },
   {
    "duration": 0,
    "start_time": "2023-05-01T15:50:49.318Z"
   },
   {
    "duration": 1251,
    "start_time": "2023-05-01T15:58:34.519Z"
   },
   {
    "duration": 49,
    "start_time": "2023-05-01T15:58:35.772Z"
   },
   {
    "duration": 17,
    "start_time": "2023-05-01T15:58:35.822Z"
   },
   {
    "duration": 8,
    "start_time": "2023-05-01T15:58:35.840Z"
   },
   {
    "duration": 11,
    "start_time": "2023-05-01T15:58:35.849Z"
   },
   {
    "duration": 21,
    "start_time": "2023-05-01T15:58:35.861Z"
   },
   {
    "duration": 13,
    "start_time": "2023-05-01T15:58:35.883Z"
   },
   {
    "duration": 35,
    "start_time": "2023-05-01T15:58:35.897Z"
   },
   {
    "duration": 8,
    "start_time": "2023-05-01T15:58:35.933Z"
   },
   {
    "duration": 10,
    "start_time": "2023-05-01T15:58:35.944Z"
   },
   {
    "duration": 26,
    "start_time": "2023-05-01T15:58:35.955Z"
   },
   {
    "duration": 5,
    "start_time": "2023-05-01T15:58:35.983Z"
   },
   {
    "duration": 6,
    "start_time": "2023-05-01T15:58:35.990Z"
   },
   {
    "duration": 12,
    "start_time": "2023-05-01T15:58:35.998Z"
   },
   {
    "duration": 237724,
    "start_time": "2023-05-01T15:58:36.011Z"
   },
   {
    "duration": 11494,
    "start_time": "2023-05-01T16:02:33.736Z"
   },
   {
    "duration": 137942,
    "start_time": "2023-05-01T16:02:45.231Z"
   },
   {
    "duration": 243,
    "start_time": "2023-05-01T16:05:03.176Z"
   },
   {
    "duration": 8,
    "start_time": "2023-05-01T16:05:03.421Z"
   },
   {
    "duration": 28,
    "start_time": "2023-05-01T16:05:03.430Z"
   },
   {
    "duration": 13,
    "start_time": "2023-05-01T16:05:03.459Z"
   },
   {
    "duration": 6,
    "start_time": "2023-05-01T16:05:03.473Z"
   },
   {
    "duration": 243,
    "start_time": "2023-05-01T16:05:03.480Z"
   },
   {
    "duration": 51,
    "start_time": "2023-05-01T16:05:03.724Z"
   },
   {
    "duration": 100,
    "start_time": "2023-05-01T16:05:03.777Z"
   },
   {
    "duration": 13,
    "start_time": "2023-05-01T16:05:03.879Z"
   },
   {
    "duration": 5,
    "start_time": "2023-05-01T16:05:03.894Z"
   },
   {
    "duration": 169,
    "start_time": "2023-05-01T16:05:03.903Z"
   },
   {
    "duration": 4,
    "start_time": "2023-05-01T16:05:04.074Z"
   },
   {
    "duration": 203,
    "start_time": "2023-05-01T16:05:04.079Z"
   },
   {
    "duration": 0,
    "start_time": "2023-05-01T16:05:04.284Z"
   },
   {
    "duration": 0,
    "start_time": "2023-05-01T16:05:04.285Z"
   },
   {
    "duration": 0,
    "start_time": "2023-05-01T16:05:04.286Z"
   },
   {
    "duration": 0,
    "start_time": "2023-05-01T16:05:04.287Z"
   },
   {
    "duration": 70,
    "start_time": "2023-05-01T16:33:57.219Z"
   },
   {
    "duration": 3,
    "start_time": "2023-05-01T16:34:04.741Z"
   },
   {
    "duration": 68,
    "start_time": "2023-05-01T16:34:07.492Z"
   },
   {
    "duration": 3,
    "start_time": "2023-05-01T16:34:45.892Z"
   },
   {
    "duration": 5,
    "start_time": "2023-05-01T16:34:53.416Z"
   },
   {
    "duration": 28,
    "start_time": "2023-05-01T16:34:55.316Z"
   },
   {
    "duration": 4,
    "start_time": "2023-05-01T16:56:35.577Z"
   },
   {
    "duration": 18,
    "start_time": "2023-05-01T16:56:57.182Z"
   },
   {
    "duration": 4,
    "start_time": "2023-05-01T16:57:12.374Z"
   },
   {
    "duration": 16,
    "start_time": "2023-05-01T16:57:13.454Z"
   },
   {
    "duration": 4,
    "start_time": "2023-05-01T16:59:43.496Z"
   },
   {
    "duration": 16,
    "start_time": "2023-05-01T16:59:43.985Z"
   },
   {
    "duration": 3,
    "start_time": "2023-05-01T17:00:32.936Z"
   },
   {
    "duration": 318,
    "start_time": "2023-05-01T17:00:34.051Z"
   },
   {
    "duration": 4,
    "start_time": "2023-05-01T17:01:49.801Z"
   },
   {
    "duration": 354,
    "start_time": "2023-05-01T17:01:51.307Z"
   },
   {
    "duration": 4,
    "start_time": "2023-05-01T17:02:22.305Z"
   },
   {
    "duration": 347,
    "start_time": "2023-05-01T17:02:22.792Z"
   },
   {
    "duration": 3,
    "start_time": "2023-05-01T17:10:27.905Z"
   },
   {
    "duration": 17,
    "start_time": "2023-05-01T17:10:29.113Z"
   },
   {
    "duration": 5,
    "start_time": "2023-05-01T17:10:53.079Z"
   },
   {
    "duration": 351,
    "start_time": "2023-05-01T17:10:53.559Z"
   },
   {
    "duration": 5,
    "start_time": "2023-05-01T17:12:58.025Z"
   },
   {
    "duration": 860,
    "start_time": "2023-05-01T17:12:59.125Z"
   },
   {
    "duration": 90,
    "start_time": "2023-05-01T17:20:14.470Z"
   },
   {
    "duration": 8,
    "start_time": "2023-05-01T17:20:38.934Z"
   },
   {
    "duration": 272,
    "start_time": "2023-05-01T17:21:16.741Z"
   },
   {
    "duration": 310,
    "start_time": "2023-05-01T17:22:04.909Z"
   },
   {
    "duration": 323,
    "start_time": "2023-05-01T17:22:26.352Z"
   },
   {
    "duration": 14,
    "start_time": "2023-05-01T17:23:59.635Z"
   },
   {
    "duration": 11,
    "start_time": "2023-05-01T17:25:41.794Z"
   },
   {
    "duration": 316,
    "start_time": "2023-05-01T17:25:48.517Z"
   },
   {
    "duration": 466,
    "start_time": "2023-05-01T17:26:13.347Z"
   },
   {
    "duration": 30,
    "start_time": "2023-05-01T17:26:53.447Z"
   },
   {
    "duration": 4,
    "start_time": "2023-05-01T17:27:49.156Z"
   },
   {
    "duration": 368,
    "start_time": "2023-05-01T17:27:49.972Z"
   },
   {
    "duration": 20,
    "start_time": "2023-05-01T17:28:03.009Z"
   },
   {
    "duration": 28,
    "start_time": "2023-05-01T17:28:22.040Z"
   },
   {
    "duration": 1257,
    "start_time": "2023-05-01T17:29:47.889Z"
   },
   {
    "duration": 52,
    "start_time": "2023-05-01T17:29:49.148Z"
   },
   {
    "duration": 18,
    "start_time": "2023-05-01T17:29:49.201Z"
   },
   {
    "duration": 4,
    "start_time": "2023-05-01T17:29:49.220Z"
   },
   {
    "duration": 15,
    "start_time": "2023-05-01T17:29:49.227Z"
   },
   {
    "duration": 45,
    "start_time": "2023-05-01T17:29:49.244Z"
   },
   {
    "duration": 15,
    "start_time": "2023-05-01T17:29:49.291Z"
   },
   {
    "duration": 42,
    "start_time": "2023-05-01T17:29:49.307Z"
   },
   {
    "duration": 8,
    "start_time": "2023-05-01T17:29:49.350Z"
   },
   {
    "duration": 17,
    "start_time": "2023-05-01T17:29:49.360Z"
   },
   {
    "duration": 19,
    "start_time": "2023-05-01T17:29:49.386Z"
   },
   {
    "duration": 6,
    "start_time": "2023-05-01T17:29:49.407Z"
   },
   {
    "duration": 15,
    "start_time": "2023-05-01T17:29:49.414Z"
   },
   {
    "duration": 20,
    "start_time": "2023-05-01T17:29:49.432Z"
   },
   {
    "duration": 247732,
    "start_time": "2023-05-01T17:29:49.453Z"
   },
   {
    "duration": 12081,
    "start_time": "2023-05-01T17:33:57.187Z"
   },
   {
    "duration": 401455,
    "start_time": "2023-05-01T17:34:09.276Z"
   },
   {
    "duration": 332,
    "start_time": "2023-05-01T17:40:50.734Z"
   },
   {
    "duration": 8,
    "start_time": "2023-05-01T17:40:51.068Z"
   },
   {
    "duration": 54,
    "start_time": "2023-05-01T17:40:51.078Z"
   },
   {
    "duration": 24,
    "start_time": "2023-05-01T17:40:51.133Z"
   },
   {
    "duration": 40,
    "start_time": "2023-05-01T17:40:51.158Z"
   },
   {
    "duration": 241,
    "start_time": "2023-05-01T17:40:51.199Z"
   },
   {
    "duration": 37,
    "start_time": "2023-05-01T17:40:51.442Z"
   },
   {
    "duration": 114,
    "start_time": "2023-05-01T17:40:51.482Z"
   },
   {
    "duration": 23,
    "start_time": "2023-05-01T17:40:51.597Z"
   },
   {
    "duration": 13,
    "start_time": "2023-05-01T17:40:51.622Z"
   },
   {
    "duration": 172,
    "start_time": "2023-05-01T17:40:51.636Z"
   },
   {
    "duration": 68,
    "start_time": "2023-05-01T17:40:51.810Z"
   },
   {
    "duration": 329,
    "start_time": "2023-05-01T17:40:51.880Z"
   },
   {
    "duration": 0,
    "start_time": "2023-05-01T17:40:52.211Z"
   },
   {
    "duration": 0,
    "start_time": "2023-05-01T17:40:52.211Z"
   },
   {
    "duration": 0,
    "start_time": "2023-05-01T17:40:52.212Z"
   },
   {
    "duration": 0,
    "start_time": "2023-05-01T17:40:52.213Z"
   },
   {
    "duration": 9,
    "start_time": "2023-05-01T17:46:48.541Z"
   },
   {
    "duration": 4,
    "start_time": "2023-05-01T17:47:59.874Z"
   },
   {
    "duration": 10,
    "start_time": "2023-05-01T17:48:02.947Z"
   },
   {
    "duration": 4,
    "start_time": "2023-05-01T17:48:03.368Z"
   },
   {
    "duration": 5,
    "start_time": "2023-05-01T17:48:13.096Z"
   },
   {
    "duration": 9,
    "start_time": "2023-05-01T17:48:13.807Z"
   },
   {
    "duration": 54,
    "start_time": "2023-05-01T17:48:17.758Z"
   },
   {
    "duration": 46,
    "start_time": "2023-05-01T17:48:44.714Z"
   },
   {
    "duration": 15,
    "start_time": "2023-05-01T17:48:47.644Z"
   },
   {
    "duration": 4,
    "start_time": "2023-05-01T17:48:48.465Z"
   },
   {
    "duration": 11,
    "start_time": "2023-05-01T17:48:50.622Z"
   },
   {
    "duration": 19,
    "start_time": "2023-05-01T17:48:51.467Z"
   },
   {
    "duration": 14,
    "start_time": "2023-05-01T17:48:56.646Z"
   },
   {
    "duration": 38,
    "start_time": "2023-05-01T17:48:59.218Z"
   },
   {
    "duration": 10,
    "start_time": "2023-05-01T17:49:00.817Z"
   },
   {
    "duration": 2,
    "start_time": "2023-05-01T17:49:01.576Z"
   },
   {
    "duration": 15,
    "start_time": "2023-05-01T17:49:02.400Z"
   },
   {
    "duration": 5,
    "start_time": "2023-05-01T17:49:03.051Z"
   },
   {
    "duration": 5,
    "start_time": "2023-05-01T17:49:04.640Z"
   },
   {
    "duration": 9,
    "start_time": "2023-05-01T17:49:07.771Z"
   },
   {
    "duration": 9,
    "start_time": "2023-05-01T17:49:45.497Z"
   },
   {
    "duration": 13,
    "start_time": "2023-05-01T17:49:59.772Z"
   },
   {
    "duration": 58,
    "start_time": "2023-05-01T17:50:01.857Z"
   },
   {
    "duration": 14,
    "start_time": "2023-05-01T17:50:50.664Z"
   },
   {
    "duration": 4,
    "start_time": "2023-05-01T17:50:51.531Z"
   },
   {
    "duration": 57,
    "start_time": "2023-05-01T17:50:53.887Z"
   },
   {
    "duration": 14,
    "start_time": "2023-05-01T17:52:02.114Z"
   },
   {
    "duration": 9,
    "start_time": "2023-05-01T17:52:56.399Z"
   },
   {
    "duration": 11,
    "start_time": "2023-05-01T17:53:13.650Z"
   },
   {
    "duration": 8,
    "start_time": "2023-05-01T17:53:23.967Z"
   },
   {
    "duration": 11,
    "start_time": "2023-05-01T17:53:32.671Z"
   },
   {
    "duration": 10,
    "start_time": "2023-05-01T17:53:35.778Z"
   },
   {
    "duration": 12,
    "start_time": "2023-05-01T17:53:39.189Z"
   },
   {
    "duration": 10,
    "start_time": "2023-05-01T17:53:56.758Z"
   },
   {
    "duration": 4,
    "start_time": "2023-05-01T17:53:57.701Z"
   },
   {
    "duration": 44,
    "start_time": "2023-05-01T17:55:41.818Z"
   },
   {
    "duration": 12,
    "start_time": "2023-05-01T17:55:42.351Z"
   },
   {
    "duration": 4,
    "start_time": "2023-05-01T17:55:42.933Z"
   },
   {
    "duration": 10,
    "start_time": "2023-05-01T17:55:43.437Z"
   },
   {
    "duration": 13,
    "start_time": "2023-05-01T17:55:43.938Z"
   },
   {
    "duration": 13,
    "start_time": "2023-05-01T17:55:47.158Z"
   },
   {
    "duration": 35,
    "start_time": "2023-05-01T17:55:50.331Z"
   },
   {
    "duration": 9,
    "start_time": "2023-05-01T17:55:53.473Z"
   },
   {
    "duration": 2,
    "start_time": "2023-05-01T17:55:54.106Z"
   },
   {
    "duration": 18,
    "start_time": "2023-05-01T17:55:54.768Z"
   },
   {
    "duration": 6,
    "start_time": "2023-05-01T17:55:56.026Z"
   },
   {
    "duration": 5,
    "start_time": "2023-05-01T17:55:56.638Z"
   },
   {
    "duration": 10,
    "start_time": "2023-05-01T17:55:58.957Z"
   },
   {
    "duration": 9,
    "start_time": "2023-05-01T17:56:14.514Z"
   },
   {
    "duration": 19,
    "start_time": "2023-05-01T17:56:42.731Z"
   },
   {
    "duration": 7,
    "start_time": "2023-05-01T17:56:49.434Z"
   },
   {
    "duration": 11,
    "start_time": "2023-05-01T17:56:56.923Z"
   },
   {
    "duration": 3,
    "start_time": "2023-05-01T17:57:03.237Z"
   },
   {
    "duration": 3,
    "start_time": "2023-05-01T17:57:06.342Z"
   },
   {
    "duration": 19,
    "start_time": "2023-05-01T17:57:16.170Z"
   },
   {
    "duration": 2,
    "start_time": "2023-05-01T17:58:12.266Z"
   },
   {
    "duration": 4,
    "start_time": "2023-05-01T17:58:13.748Z"
   },
   {
    "duration": 16,
    "start_time": "2023-05-01T17:58:14.405Z"
   },
   {
    "duration": 4,
    "start_time": "2023-05-01T17:58:26.118Z"
   },
   {
    "duration": 5,
    "start_time": "2023-05-01T17:58:27.823Z"
   },
   {
    "duration": 83,
    "start_time": "2023-05-01T17:58:28.657Z"
   },
   {
    "duration": 1394,
    "start_time": "2023-05-01T17:59:17.094Z"
   },
   {
    "duration": 46,
    "start_time": "2023-05-01T17:59:18.490Z"
   },
   {
    "duration": 16,
    "start_time": "2023-05-01T17:59:18.538Z"
   },
   {
    "duration": 16,
    "start_time": "2023-05-01T17:59:18.557Z"
   },
   {
    "duration": 25,
    "start_time": "2023-05-01T17:59:18.575Z"
   },
   {
    "duration": 44,
    "start_time": "2023-05-01T17:59:18.602Z"
   },
   {
    "duration": 19,
    "start_time": "2023-05-01T17:59:18.647Z"
   },
   {
    "duration": 42,
    "start_time": "2023-05-01T17:59:18.668Z"
   },
   {
    "duration": 9,
    "start_time": "2023-05-01T17:59:18.711Z"
   },
   {
    "duration": 15,
    "start_time": "2023-05-01T17:59:18.722Z"
   },
   {
    "duration": 16,
    "start_time": "2023-05-01T17:59:18.739Z"
   },
   {
    "duration": 7,
    "start_time": "2023-05-01T17:59:18.756Z"
   },
   {
    "duration": 17,
    "start_time": "2023-05-01T17:59:18.765Z"
   },
   {
    "duration": 37,
    "start_time": "2023-05-01T17:59:18.784Z"
   },
   {
    "duration": 247501,
    "start_time": "2023-05-01T17:59:18.823Z"
   },
   {
    "duration": 11966,
    "start_time": "2023-05-01T18:03:26.326Z"
   },
   {
    "duration": 102778,
    "start_time": "2023-05-01T18:03:38.295Z"
   },
   {
    "duration": 238,
    "start_time": "2023-05-01T18:05:21.075Z"
   },
   {
    "duration": 7,
    "start_time": "2023-05-01T18:05:21.316Z"
   },
   {
    "duration": 26,
    "start_time": "2023-05-01T18:05:21.324Z"
   },
   {
    "duration": 8,
    "start_time": "2023-05-01T18:05:21.352Z"
   },
   {
    "duration": 13,
    "start_time": "2023-05-01T18:05:21.372Z"
   },
   {
    "duration": 252,
    "start_time": "2023-05-01T18:05:21.386Z"
   },
   {
    "duration": 35,
    "start_time": "2023-05-01T18:05:21.640Z"
   },
   {
    "duration": 100,
    "start_time": "2023-05-01T18:05:21.677Z"
   },
   {
    "duration": 100,
    "start_time": "2023-05-01T18:05:21.779Z"
   },
   {
    "duration": 4,
    "start_time": "2023-05-01T18:05:21.881Z"
   },
   {
    "duration": 200,
    "start_time": "2023-05-01T18:05:21.974Z"
   },
   {
    "duration": 0,
    "start_time": "2023-05-01T18:05:22.175Z"
   },
   {
    "duration": 0,
    "start_time": "2023-05-01T18:05:22.176Z"
   },
   {
    "duration": 0,
    "start_time": "2023-05-01T18:05:22.177Z"
   },
   {
    "duration": 0,
    "start_time": "2023-05-01T18:05:22.178Z"
   },
   {
    "duration": 4,
    "start_time": "2023-05-01T18:27:28.427Z"
   },
   {
    "duration": 745,
    "start_time": "2023-05-01T18:27:29.410Z"
   },
   {
    "duration": 936,
    "start_time": "2023-05-01T18:27:52.763Z"
   },
   {
    "duration": 657,
    "start_time": "2023-05-01T18:28:02.891Z"
   },
   {
    "duration": 680,
    "start_time": "2023-05-01T18:28:48.945Z"
   },
   {
    "duration": 651,
    "start_time": "2023-05-01T18:31:10.029Z"
   },
   {
    "duration": 4,
    "start_time": "2023-05-01T18:31:39.613Z"
   },
   {
    "duration": 19,
    "start_time": "2023-05-01T18:31:41.489Z"
   },
   {
    "duration": 5,
    "start_time": "2023-05-01T18:31:54.654Z"
   },
   {
    "duration": 17,
    "start_time": "2023-05-01T18:31:55.838Z"
   },
   {
    "duration": 3,
    "start_time": "2023-05-01T18:32:09.153Z"
   },
   {
    "duration": 14,
    "start_time": "2023-05-01T18:32:10.648Z"
   },
   {
    "duration": 5,
    "start_time": "2023-05-01T18:32:32.750Z"
   },
   {
    "duration": 14,
    "start_time": "2023-05-01T18:32:34.222Z"
   },
   {
    "duration": 4,
    "start_time": "2023-05-01T18:32:45.294Z"
   },
   {
    "duration": 886,
    "start_time": "2023-05-01T18:32:45.799Z"
   },
   {
    "duration": 4,
    "start_time": "2023-05-01T18:36:43.287Z"
   },
   {
    "duration": 28,
    "start_time": "2023-05-01T18:36:44.460Z"
   },
   {
    "duration": 4,
    "start_time": "2023-05-01T18:38:02.135Z"
   },
   {
    "duration": 15,
    "start_time": "2023-05-01T18:38:04.368Z"
   },
   {
    "duration": 7,
    "start_time": "2023-05-01T18:46:49.844Z"
   },
   {
    "duration": 10,
    "start_time": "2023-05-01T18:47:33.902Z"
   },
   {
    "duration": 9,
    "start_time": "2023-05-01T18:48:17.406Z"
   },
   {
    "duration": 14,
    "start_time": "2023-05-01T18:48:43.395Z"
   },
   {
    "duration": 4,
    "start_time": "2023-05-01T18:48:59.051Z"
   },
   {
    "duration": 8,
    "start_time": "2023-05-01T18:49:03.618Z"
   },
   {
    "duration": 10,
    "start_time": "2023-05-01T18:49:24.167Z"
   },
   {
    "duration": 65,
    "start_time": "2023-05-01T18:49:25.031Z"
   },
   {
    "duration": 92,
    "start_time": "2023-05-01T18:49:41.051Z"
   },
   {
    "duration": 4,
    "start_time": "2023-05-01T18:50:33.106Z"
   },
   {
    "duration": 46,
    "start_time": "2023-05-01T18:50:36.585Z"
   },
   {
    "duration": 4,
    "start_time": "2023-05-01T18:50:56.739Z"
   },
   {
    "duration": 56,
    "start_time": "2023-05-01T18:50:57.203Z"
   },
   {
    "duration": 4,
    "start_time": "2023-05-01T18:51:34.225Z"
   },
   {
    "duration": 59,
    "start_time": "2023-05-01T18:51:34.645Z"
   },
   {
    "duration": 4,
    "start_time": "2023-05-01T18:52:30.745Z"
   },
   {
    "duration": 82,
    "start_time": "2023-05-01T18:52:31.466Z"
   },
   {
    "duration": 5,
    "start_time": "2023-05-01T18:55:11.119Z"
   },
   {
    "duration": 59,
    "start_time": "2023-05-01T18:55:14.603Z"
   },
   {
    "duration": 4,
    "start_time": "2023-05-01T18:55:26.559Z"
   },
   {
    "duration": 58,
    "start_time": "2023-05-01T18:55:29.209Z"
   },
   {
    "duration": 47,
    "start_time": "2023-05-01T18:57:14.474Z"
   },
   {
    "duration": 60,
    "start_time": "2023-05-01T18:57:28.970Z"
   },
   {
    "duration": 43,
    "start_time": "2023-05-01T19:45:02.414Z"
   },
   {
    "duration": 46,
    "start_time": "2023-05-01T19:45:24.614Z"
   },
   {
    "duration": 49,
    "start_time": "2023-05-01T19:45:57.917Z"
   },
   {
    "duration": 15,
    "start_time": "2023-05-01T19:47:16.233Z"
   },
   {
    "duration": 1298,
    "start_time": "2023-05-01T19:54:35.114Z"
   },
   {
    "duration": 54,
    "start_time": "2023-05-01T19:54:36.414Z"
   },
   {
    "duration": 17,
    "start_time": "2023-05-01T19:54:36.470Z"
   },
   {
    "duration": 4,
    "start_time": "2023-05-01T19:54:36.488Z"
   },
   {
    "duration": 11,
    "start_time": "2023-05-01T19:54:36.493Z"
   },
   {
    "duration": 26,
    "start_time": "2023-05-01T19:54:36.505Z"
   },
   {
    "duration": 12,
    "start_time": "2023-05-01T19:54:36.532Z"
   },
   {
    "duration": 54,
    "start_time": "2023-05-01T19:54:36.546Z"
   },
   {
    "duration": 8,
    "start_time": "2023-05-01T19:54:36.601Z"
   },
   {
    "duration": 11,
    "start_time": "2023-05-01T19:54:36.610Z"
   },
   {
    "duration": 19,
    "start_time": "2023-05-01T19:54:36.623Z"
   },
   {
    "duration": 3,
    "start_time": "2023-05-01T19:54:36.643Z"
   },
   {
    "duration": 15,
    "start_time": "2023-05-01T19:54:36.647Z"
   },
   {
    "duration": 9,
    "start_time": "2023-05-01T19:54:36.664Z"
   },
   {
    "duration": 293065,
    "start_time": "2023-05-01T19:54:36.675Z"
   },
   {
    "duration": 16265,
    "start_time": "2023-05-01T19:59:29.742Z"
   },
   {
    "duration": 121472,
    "start_time": "2023-05-01T19:59:46.009Z"
   },
   {
    "duration": 333,
    "start_time": "2023-05-01T20:01:47.482Z"
   },
   {
    "duration": 6,
    "start_time": "2023-05-01T20:01:47.816Z"
   },
   {
    "duration": 14,
    "start_time": "2023-05-01T20:01:47.823Z"
   },
   {
    "duration": 7,
    "start_time": "2023-05-01T20:01:47.839Z"
   },
   {
    "duration": 28,
    "start_time": "2023-05-01T20:01:47.848Z"
   },
   {
    "duration": 295,
    "start_time": "2023-05-01T20:01:47.878Z"
   },
   {
    "duration": 5,
    "start_time": "2023-05-01T20:01:48.174Z"
   },
   {
    "duration": 93,
    "start_time": "2023-05-01T20:01:48.180Z"
   },
   {
    "duration": 125,
    "start_time": "2023-05-01T20:01:48.275Z"
   },
   {
    "duration": 0,
    "start_time": "2023-05-01T20:01:48.402Z"
   },
   {
    "duration": 0,
    "start_time": "2023-05-01T20:01:48.403Z"
   },
   {
    "duration": 0,
    "start_time": "2023-05-01T20:01:48.404Z"
   },
   {
    "duration": 0,
    "start_time": "2023-05-01T20:01:48.406Z"
   },
   {
    "duration": 0,
    "start_time": "2023-05-01T20:01:48.407Z"
   },
   {
    "duration": 0,
    "start_time": "2023-05-01T20:01:48.408Z"
   },
   {
    "duration": 0,
    "start_time": "2023-05-01T20:01:48.410Z"
   },
   {
    "duration": 0,
    "start_time": "2023-05-01T20:01:48.411Z"
   },
   {
    "duration": 0,
    "start_time": "2023-05-01T20:01:48.412Z"
   },
   {
    "duration": 10,
    "start_time": "2023-05-01T20:12:03.892Z"
   },
   {
    "duration": 4,
    "start_time": "2023-05-01T20:12:13.408Z"
   },
   {
    "duration": 3,
    "start_time": "2023-05-01T20:12:13.984Z"
   },
   {
    "duration": 59,
    "start_time": "2023-05-01T20:12:15.940Z"
   },
   {
    "duration": 13,
    "start_time": "2023-05-01T20:12:32.592Z"
   },
   {
    "duration": 8,
    "start_time": "2023-05-01T20:12:40.743Z"
   },
   {
    "duration": 9,
    "start_time": "2023-05-01T20:12:51.565Z"
   },
   {
    "duration": 8,
    "start_time": "2023-05-01T20:12:59.851Z"
   },
   {
    "duration": 5,
    "start_time": "2023-05-01T20:13:45.132Z"
   },
   {
    "duration": 3,
    "start_time": "2023-05-01T20:13:45.582Z"
   },
   {
    "duration": 62,
    "start_time": "2023-05-01T20:13:48.146Z"
   },
   {
    "duration": 67,
    "start_time": "2023-05-01T20:16:27.369Z"
   },
   {
    "duration": 5,
    "start_time": "2023-05-01T20:16:37.707Z"
   },
   {
    "duration": 3,
    "start_time": "2023-05-01T20:16:40.590Z"
   },
   {
    "duration": 3,
    "start_time": "2023-05-01T20:16:41.082Z"
   },
   {
    "duration": 58,
    "start_time": "2023-05-01T20:16:42.776Z"
   },
   {
    "duration": 1272,
    "start_time": "2023-05-01T20:17:43.074Z"
   },
   {
    "duration": 47,
    "start_time": "2023-05-01T20:17:44.348Z"
   },
   {
    "duration": 15,
    "start_time": "2023-05-01T20:17:44.396Z"
   },
   {
    "duration": 11,
    "start_time": "2023-05-01T20:17:44.412Z"
   },
   {
    "duration": 21,
    "start_time": "2023-05-01T20:17:44.424Z"
   },
   {
    "duration": 15,
    "start_time": "2023-05-01T20:17:44.446Z"
   },
   {
    "duration": 22,
    "start_time": "2023-05-01T20:17:44.462Z"
   },
   {
    "duration": 39,
    "start_time": "2023-05-01T20:17:44.486Z"
   },
   {
    "duration": 8,
    "start_time": "2023-05-01T20:17:44.526Z"
   },
   {
    "duration": 20,
    "start_time": "2023-05-01T20:17:44.535Z"
   },
   {
    "duration": 14,
    "start_time": "2023-05-01T20:17:44.557Z"
   },
   {
    "duration": 7,
    "start_time": "2023-05-01T20:17:44.572Z"
   },
   {
    "duration": 7,
    "start_time": "2023-05-01T20:17:44.581Z"
   },
   {
    "duration": 16,
    "start_time": "2023-05-01T20:17:44.591Z"
   },
   {
    "duration": 118,
    "start_time": "2023-05-01T20:17:44.609Z"
   },
   {
    "duration": 0,
    "start_time": "2023-05-01T20:17:44.728Z"
   },
   {
    "duration": 0,
    "start_time": "2023-05-01T20:17:44.729Z"
   },
   {
    "duration": 0,
    "start_time": "2023-05-01T20:17:44.730Z"
   },
   {
    "duration": 0,
    "start_time": "2023-05-01T20:17:44.731Z"
   },
   {
    "duration": 0,
    "start_time": "2023-05-01T20:17:44.732Z"
   },
   {
    "duration": 0,
    "start_time": "2023-05-01T20:17:44.733Z"
   },
   {
    "duration": 0,
    "start_time": "2023-05-01T20:17:44.734Z"
   },
   {
    "duration": 0,
    "start_time": "2023-05-01T20:17:44.735Z"
   },
   {
    "duration": 0,
    "start_time": "2023-05-01T20:17:44.736Z"
   },
   {
    "duration": 0,
    "start_time": "2023-05-01T20:17:44.737Z"
   },
   {
    "duration": 0,
    "start_time": "2023-05-01T20:17:44.738Z"
   },
   {
    "duration": 0,
    "start_time": "2023-05-01T20:17:44.739Z"
   },
   {
    "duration": 0,
    "start_time": "2023-05-01T20:17:44.740Z"
   },
   {
    "duration": 0,
    "start_time": "2023-05-01T20:17:44.741Z"
   },
   {
    "duration": 0,
    "start_time": "2023-05-01T20:17:44.742Z"
   },
   {
    "duration": 0,
    "start_time": "2023-05-01T20:17:44.771Z"
   },
   {
    "duration": 0,
    "start_time": "2023-05-01T20:17:44.772Z"
   },
   {
    "duration": 0,
    "start_time": "2023-05-01T20:17:44.773Z"
   },
   {
    "duration": 1,
    "start_time": "2023-05-01T20:17:44.774Z"
   },
   {
    "duration": 0,
    "start_time": "2023-05-01T20:17:44.775Z"
   },
   {
    "duration": 14,
    "start_time": "2023-05-01T20:18:59.912Z"
   },
   {
    "duration": 13,
    "start_time": "2023-05-01T20:19:07.800Z"
   },
   {
    "duration": 9,
    "start_time": "2023-05-01T20:19:56.470Z"
   },
   {
    "duration": 14,
    "start_time": "2023-05-01T20:20:00.603Z"
   },
   {
    "duration": 1205,
    "start_time": "2023-05-01T20:20:30.027Z"
   },
   {
    "duration": 50,
    "start_time": "2023-05-01T20:20:31.234Z"
   },
   {
    "duration": 16,
    "start_time": "2023-05-01T20:20:31.285Z"
   },
   {
    "duration": 25,
    "start_time": "2023-05-01T20:20:31.303Z"
   },
   {
    "duration": 45,
    "start_time": "2023-05-01T20:20:31.330Z"
   },
   {
    "duration": 52,
    "start_time": "2023-05-01T20:20:31.377Z"
   },
   {
    "duration": 25,
    "start_time": "2023-05-01T20:20:31.430Z"
   },
   {
    "duration": 64,
    "start_time": "2023-05-01T20:20:31.456Z"
   },
   {
    "duration": 10,
    "start_time": "2023-05-01T20:20:31.521Z"
   },
   {
    "duration": 33,
    "start_time": "2023-05-01T20:20:31.533Z"
   },
   {
    "duration": 69,
    "start_time": "2023-05-01T20:20:31.568Z"
   },
   {
    "duration": 21,
    "start_time": "2023-05-01T20:20:31.639Z"
   },
   {
    "duration": 31,
    "start_time": "2023-05-01T20:20:31.661Z"
   },
   {
    "duration": 54,
    "start_time": "2023-05-01T20:20:31.695Z"
   },
   {
    "duration": 232587,
    "start_time": "2023-05-01T20:20:31.750Z"
   },
   {
    "duration": 11221,
    "start_time": "2023-05-01T20:24:24.339Z"
   },
   {
    "duration": 93113,
    "start_time": "2023-05-01T20:24:35.561Z"
   },
   {
    "duration": 251,
    "start_time": "2023-05-01T20:26:08.678Z"
   },
   {
    "duration": 7,
    "start_time": "2023-05-01T20:26:08.930Z"
   },
   {
    "duration": 13,
    "start_time": "2023-05-01T20:26:08.938Z"
   },
   {
    "duration": 20,
    "start_time": "2023-05-01T20:26:08.952Z"
   },
   {
    "duration": 6,
    "start_time": "2023-05-01T20:26:08.973Z"
   },
   {
    "duration": 292,
    "start_time": "2023-05-01T20:26:08.981Z"
   },
   {
    "duration": 199,
    "start_time": "2023-05-01T20:26:09.274Z"
   },
   {
    "duration": 0,
    "start_time": "2023-05-01T20:26:09.474Z"
   },
   {
    "duration": 0,
    "start_time": "2023-05-01T20:26:09.475Z"
   },
   {
    "duration": 0,
    "start_time": "2023-05-01T20:26:09.476Z"
   },
   {
    "duration": 0,
    "start_time": "2023-05-01T20:26:09.477Z"
   },
   {
    "duration": 0,
    "start_time": "2023-05-01T20:26:09.477Z"
   },
   {
    "duration": 0,
    "start_time": "2023-05-01T20:26:09.478Z"
   },
   {
    "duration": 0,
    "start_time": "2023-05-01T20:26:09.479Z"
   },
   {
    "duration": 0,
    "start_time": "2023-05-01T20:26:09.480Z"
   },
   {
    "duration": 0,
    "start_time": "2023-05-01T20:26:09.481Z"
   },
   {
    "duration": 0,
    "start_time": "2023-05-01T20:26:09.482Z"
   },
   {
    "duration": 0,
    "start_time": "2023-05-01T20:26:09.483Z"
   },
   {
    "duration": 17,
    "start_time": "2023-05-01T20:31:01.935Z"
   },
   {
    "duration": 4,
    "start_time": "2023-05-01T20:31:12.619Z"
   },
   {
    "duration": 3,
    "start_time": "2023-05-01T20:31:13.521Z"
   },
   {
    "duration": 67,
    "start_time": "2023-05-01T20:31:18.388Z"
   },
   {
    "duration": 13,
    "start_time": "2023-05-01T20:31:40.924Z"
   },
   {
    "duration": 3,
    "start_time": "2023-05-01T20:31:43.125Z"
   },
   {
    "duration": 2,
    "start_time": "2023-05-01T20:31:43.712Z"
   },
   {
    "duration": 55,
    "start_time": "2023-05-01T20:31:49.199Z"
   },
   {
    "duration": 15,
    "start_time": "2023-05-01T20:32:39.193Z"
   },
   {
    "duration": 3,
    "start_time": "2023-05-01T20:32:48.999Z"
   },
   {
    "duration": 3,
    "start_time": "2023-05-01T20:32:49.424Z"
   },
   {
    "duration": 59,
    "start_time": "2023-05-01T20:32:51.100Z"
   },
   {
    "duration": 55,
    "start_time": "2023-05-01T20:33:05.045Z"
   },
   {
    "duration": 55,
    "start_time": "2023-05-01T20:33:12.997Z"
   },
   {
    "duration": 68,
    "start_time": "2023-05-01T20:33:25.954Z"
   },
   {
    "duration": 53,
    "start_time": "2023-05-01T20:33:34.196Z"
   },
   {
    "duration": 52,
    "start_time": "2023-05-01T20:33:43.328Z"
   },
   {
    "duration": 61,
    "start_time": "2023-05-01T20:33:53.283Z"
   },
   {
    "duration": 47,
    "start_time": "2023-05-01T20:34:07.693Z"
   },
   {
    "duration": 14,
    "start_time": "2023-05-01T20:35:07.925Z"
   },
   {
    "duration": 4,
    "start_time": "2023-05-01T20:35:11.728Z"
   },
   {
    "duration": 4,
    "start_time": "2023-05-01T20:35:12.218Z"
   },
   {
    "duration": 58,
    "start_time": "2023-05-01T20:35:13.871Z"
   },
   {
    "duration": 61,
    "start_time": "2023-05-01T20:35:21.946Z"
   },
   {
    "duration": 6,
    "start_time": "2023-05-01T20:36:38.436Z"
   },
   {
    "duration": 3,
    "start_time": "2023-05-01T20:36:41.133Z"
   },
   {
    "duration": 51,
    "start_time": "2023-05-01T20:36:42.332Z"
   },
   {
    "duration": 1381,
    "start_time": "2023-05-01T20:36:52.596Z"
   },
   {
    "duration": 49,
    "start_time": "2023-05-01T20:36:53.979Z"
   },
   {
    "duration": 18,
    "start_time": "2023-05-01T20:36:54.030Z"
   },
   {
    "duration": 14,
    "start_time": "2023-05-01T20:36:54.050Z"
   },
   {
    "duration": 14,
    "start_time": "2023-05-01T20:36:54.066Z"
   },
   {
    "duration": 15,
    "start_time": "2023-05-01T20:36:54.081Z"
   },
   {
    "duration": 14,
    "start_time": "2023-05-01T20:36:54.098Z"
   },
   {
    "duration": 37,
    "start_time": "2023-05-01T20:36:54.113Z"
   },
   {
    "duration": 8,
    "start_time": "2023-05-01T20:36:54.172Z"
   },
   {
    "duration": 6,
    "start_time": "2023-05-01T20:36:54.182Z"
   },
   {
    "duration": 18,
    "start_time": "2023-05-01T20:36:54.189Z"
   },
   {
    "duration": 4,
    "start_time": "2023-05-01T20:36:54.208Z"
   },
   {
    "duration": 9,
    "start_time": "2023-05-01T20:36:54.214Z"
   },
   {
    "duration": 17,
    "start_time": "2023-05-01T20:36:54.224Z"
   },
   {
    "duration": 236112,
    "start_time": "2023-05-01T20:36:54.242Z"
   },
   {
    "duration": 12198,
    "start_time": "2023-05-01T20:40:50.355Z"
   },
   {
    "duration": 89818,
    "start_time": "2023-05-01T20:41:02.555Z"
   },
   {
    "duration": 230,
    "start_time": "2023-05-01T20:42:32.375Z"
   },
   {
    "duration": 6,
    "start_time": "2023-05-01T20:42:32.608Z"
   },
   {
    "duration": 25,
    "start_time": "2023-05-01T20:42:32.615Z"
   },
   {
    "duration": 6,
    "start_time": "2023-05-01T20:42:32.642Z"
   },
   {
    "duration": 123,
    "start_time": "2023-05-01T20:42:32.649Z"
   },
   {
    "duration": 200,
    "start_time": "2023-05-01T20:42:32.773Z"
   },
   {
    "duration": 5,
    "start_time": "2023-05-01T20:42:32.974Z"
   },
   {
    "duration": 98,
    "start_time": "2023-05-01T20:42:32.980Z"
   },
   {
    "duration": 110,
    "start_time": "2023-05-01T20:42:33.080Z"
   },
   {
    "duration": 180,
    "start_time": "2023-05-01T20:42:33.192Z"
   },
   {
    "duration": 17,
    "start_time": "2023-05-01T20:42:33.375Z"
   },
   {
    "duration": 8,
    "start_time": "2023-05-01T20:42:33.393Z"
   },
   {
    "duration": 61,
    "start_time": "2023-05-01T20:42:33.402Z"
   },
   {
    "duration": 151,
    "start_time": "2023-05-01T20:42:33.464Z"
   },
   {
    "duration": 0,
    "start_time": "2023-05-01T20:42:33.616Z"
   },
   {
    "duration": 0,
    "start_time": "2023-05-01T20:42:33.617Z"
   },
   {
    "duration": 0,
    "start_time": "2023-05-01T20:42:33.618Z"
   },
   {
    "duration": 0,
    "start_time": "2023-05-01T20:42:33.619Z"
   },
   {
    "duration": 60,
    "start_time": "2023-05-01T20:56:23.334Z"
   },
   {
    "duration": 47,
    "start_time": "2023-05-01T21:01:06.435Z"
   },
   {
    "duration": 45,
    "start_time": "2023-05-01T21:01:23.797Z"
   },
   {
    "duration": 53,
    "start_time": "2023-05-01T21:02:09.227Z"
   },
   {
    "duration": 9,
    "start_time": "2023-05-01T21:04:52.411Z"
   },
   {
    "duration": 1266,
    "start_time": "2023-05-01T21:04:59.188Z"
   },
   {
    "duration": 46,
    "start_time": "2023-05-01T21:05:00.456Z"
   },
   {
    "duration": 17,
    "start_time": "2023-05-01T21:05:00.503Z"
   },
   {
    "duration": 24,
    "start_time": "2023-05-01T21:05:00.522Z"
   },
   {
    "duration": 36,
    "start_time": "2023-05-01T21:05:00.548Z"
   },
   {
    "duration": 48,
    "start_time": "2023-05-01T21:05:00.586Z"
   },
   {
    "duration": 31,
    "start_time": "2023-05-01T21:05:00.635Z"
   },
   {
    "duration": 54,
    "start_time": "2023-05-01T21:05:00.668Z"
   },
   {
    "duration": 24,
    "start_time": "2023-05-01T21:05:00.723Z"
   },
   {
    "duration": 30,
    "start_time": "2023-05-01T21:05:00.748Z"
   },
   {
    "duration": 39,
    "start_time": "2023-05-01T21:05:00.780Z"
   },
   {
    "duration": 85,
    "start_time": "2023-05-01T21:05:00.820Z"
   },
   {
    "duration": 108,
    "start_time": "2023-05-01T21:05:00.907Z"
   },
   {
    "duration": 45,
    "start_time": "2023-05-01T21:05:01.018Z"
   },
   {
    "duration": 227236,
    "start_time": "2023-05-01T21:05:01.064Z"
   },
   {
    "duration": 11177,
    "start_time": "2023-05-01T21:08:48.302Z"
   },
   {
    "duration": 87593,
    "start_time": "2023-05-01T21:08:59.480Z"
   },
   {
    "duration": 270,
    "start_time": "2023-05-01T21:10:27.074Z"
   },
   {
    "duration": 5,
    "start_time": "2023-05-01T21:10:27.345Z"
   },
   {
    "duration": 13,
    "start_time": "2023-05-01T21:10:27.352Z"
   },
   {
    "duration": 6,
    "start_time": "2023-05-01T21:10:27.371Z"
   },
   {
    "duration": 7,
    "start_time": "2023-05-01T21:10:27.379Z"
   },
   {
    "duration": 283,
    "start_time": "2023-05-01T21:10:27.389Z"
   },
   {
    "duration": 7,
    "start_time": "2023-05-01T21:10:27.675Z"
   },
   {
    "duration": 6,
    "start_time": "2023-05-01T21:10:27.773Z"
   },
   {
    "duration": 102,
    "start_time": "2023-05-01T21:10:27.780Z"
   },
   {
    "duration": 5,
    "start_time": "2023-05-01T21:10:27.883Z"
   },
   {
    "duration": 185,
    "start_time": "2023-05-01T21:10:27.889Z"
   },
   {
    "duration": 53,
    "start_time": "2023-05-01T21:10:28.075Z"
   },
   {
    "duration": 163,
    "start_time": "2023-05-01T21:10:28.129Z"
   },
   {
    "duration": 0,
    "start_time": "2023-05-01T21:10:28.293Z"
   },
   {
    "duration": 0,
    "start_time": "2023-05-01T21:10:28.294Z"
   },
   {
    "duration": 0,
    "start_time": "2023-05-01T21:10:28.295Z"
   },
   {
    "duration": 0,
    "start_time": "2023-05-01T21:10:28.296Z"
   },
   {
    "duration": 8,
    "start_time": "2023-05-01T21:15:01.133Z"
   },
   {
    "duration": 9,
    "start_time": "2023-05-01T21:15:08.062Z"
   },
   {
    "duration": 6,
    "start_time": "2023-05-01T21:15:49.330Z"
   },
   {
    "duration": 52,
    "start_time": "2023-05-01T21:16:31.731Z"
   },
   {
    "duration": 57,
    "start_time": "2023-05-01T21:16:33.170Z"
   },
   {
    "duration": 12,
    "start_time": "2023-05-01T21:17:21.814Z"
   },
   {
    "duration": 62,
    "start_time": "2023-05-01T21:17:23.334Z"
   },
   {
    "duration": 63,
    "start_time": "2023-05-01T21:17:37.436Z"
   },
   {
    "duration": 54,
    "start_time": "2023-05-01T21:18:19.470Z"
   },
   {
    "duration": 59,
    "start_time": "2023-05-01T21:18:20.244Z"
   },
   {
    "duration": 64,
    "start_time": "2023-05-01T21:18:33.974Z"
   },
   {
    "duration": 62,
    "start_time": "2023-05-01T21:18:34.947Z"
   },
   {
    "duration": 9,
    "start_time": "2023-05-01T21:19:08.813Z"
   },
   {
    "duration": 9,
    "start_time": "2023-05-01T21:19:46.332Z"
   },
   {
    "duration": 5,
    "start_time": "2023-05-01T21:19:47.578Z"
   },
   {
    "duration": 38,
    "start_time": "2023-05-01T21:19:52.800Z"
   },
   {
    "duration": 9,
    "start_time": "2023-05-01T21:19:56.922Z"
   },
   {
    "duration": 62,
    "start_time": "2023-05-01T21:20:59.247Z"
   },
   {
    "duration": 19,
    "start_time": "2023-05-01T21:22:03.971Z"
   },
   {
    "duration": 7,
    "start_time": "2023-05-01T21:22:26.747Z"
   },
   {
    "duration": 66,
    "start_time": "2023-05-01T21:22:28.380Z"
   },
   {
    "duration": 10,
    "start_time": "2023-05-01T21:22:29.446Z"
   },
   {
    "duration": 62,
    "start_time": "2023-05-01T21:22:30.422Z"
   },
   {
    "duration": 1249,
    "start_time": "2023-05-01T21:24:50.597Z"
   },
   {
    "duration": 45,
    "start_time": "2023-05-01T21:24:51.848Z"
   },
   {
    "duration": 24,
    "start_time": "2023-05-01T21:24:51.895Z"
   },
   {
    "duration": 5,
    "start_time": "2023-05-01T21:24:51.922Z"
   },
   {
    "duration": 13,
    "start_time": "2023-05-01T21:24:51.928Z"
   },
   {
    "duration": 34,
    "start_time": "2023-05-01T21:24:51.942Z"
   },
   {
    "duration": 25,
    "start_time": "2023-05-01T21:24:51.978Z"
   },
   {
    "duration": 36,
    "start_time": "2023-05-01T21:24:52.004Z"
   },
   {
    "duration": 8,
    "start_time": "2023-05-01T21:24:52.042Z"
   },
   {
    "duration": 18,
    "start_time": "2023-05-01T21:24:52.053Z"
   },
   {
    "duration": 36,
    "start_time": "2023-05-01T21:24:52.073Z"
   },
   {
    "duration": 24,
    "start_time": "2023-05-01T21:24:52.111Z"
   },
   {
    "duration": 12,
    "start_time": "2023-05-01T21:24:52.136Z"
   },
   {
    "duration": 37,
    "start_time": "2023-05-01T21:24:52.149Z"
   },
   {
    "duration": 238879,
    "start_time": "2023-05-01T21:24:52.187Z"
   },
   {
    "duration": 11426,
    "start_time": "2023-05-01T21:28:51.068Z"
   },
   {
    "duration": 173077,
    "start_time": "2023-05-01T21:29:02.496Z"
   },
   {
    "duration": 262,
    "start_time": "2023-05-01T21:31:55.574Z"
   },
   {
    "duration": 7,
    "start_time": "2023-05-01T21:31:55.837Z"
   },
   {
    "duration": 16,
    "start_time": "2023-05-01T21:31:55.845Z"
   },
   {
    "duration": 7,
    "start_time": "2023-05-01T21:31:55.862Z"
   },
   {
    "duration": 9,
    "start_time": "2023-05-01T21:31:55.872Z"
   },
   {
    "duration": 318,
    "start_time": "2023-05-01T21:31:55.883Z"
   },
   {
    "duration": 69,
    "start_time": "2023-05-01T21:31:56.203Z"
   },
   {
    "duration": 102,
    "start_time": "2023-05-01T21:31:56.275Z"
   },
   {
    "duration": 121,
    "start_time": "2023-05-01T21:31:56.378Z"
   },
   {
    "duration": 4,
    "start_time": "2023-05-01T21:31:56.501Z"
   },
   {
    "duration": 101,
    "start_time": "2023-05-01T21:31:56.575Z"
   },
   {
    "duration": 167,
    "start_time": "2023-05-01T21:31:56.678Z"
   },
   {
    "duration": 0,
    "start_time": "2023-05-01T21:31:56.848Z"
   },
   {
    "duration": 1,
    "start_time": "2023-05-01T21:31:56.849Z"
   },
   {
    "duration": 0,
    "start_time": "2023-05-01T21:31:56.851Z"
   },
   {
    "duration": 0,
    "start_time": "2023-05-01T21:31:56.853Z"
   },
   {
    "duration": 14,
    "start_time": "2023-05-01T21:35:43.299Z"
   },
   {
    "duration": 4,
    "start_time": "2023-05-01T21:36:07.309Z"
   },
   {
    "duration": 51,
    "start_time": "2023-05-01T21:36:07.927Z"
   },
   {
    "duration": 1887,
    "start_time": "2023-05-02T19:35:24.689Z"
   },
   {
    "duration": 124,
    "start_time": "2023-05-02T19:35:26.579Z"
   },
   {
    "duration": 34,
    "start_time": "2023-05-02T19:35:26.707Z"
   },
   {
    "duration": 8,
    "start_time": "2023-05-02T19:35:26.743Z"
   },
   {
    "duration": 15,
    "start_time": "2023-05-02T19:35:26.754Z"
   },
   {
    "duration": 46,
    "start_time": "2023-05-02T19:35:26.772Z"
   },
   {
    "duration": 21,
    "start_time": "2023-05-02T19:35:26.820Z"
   },
   {
    "duration": 81,
    "start_time": "2023-05-02T19:35:26.842Z"
   },
   {
    "duration": 16,
    "start_time": "2023-05-02T19:35:26.926Z"
   },
   {
    "duration": 4,
    "start_time": "2023-05-02T19:35:26.944Z"
   },
   {
    "duration": 63,
    "start_time": "2023-05-02T19:35:26.950Z"
   },
   {
    "duration": 8,
    "start_time": "2023-05-02T19:35:27.022Z"
   },
   {
    "duration": 7,
    "start_time": "2023-05-02T19:35:27.033Z"
   },
   {
    "duration": 14,
    "start_time": "2023-05-02T19:35:27.045Z"
   },
   {
    "duration": 336172,
    "start_time": "2023-05-02T19:35:27.061Z"
   },
   {
    "duration": 14438,
    "start_time": "2023-05-02T19:41:03.235Z"
   },
   {
    "duration": 1599,
    "start_time": "2023-05-02T19:41:53.721Z"
   },
   {
    "duration": 50,
    "start_time": "2023-05-02T19:41:55.325Z"
   },
   {
    "duration": 28,
    "start_time": "2023-05-02T19:41:55.377Z"
   },
   {
    "duration": 13,
    "start_time": "2023-05-02T19:41:55.407Z"
   },
   {
    "duration": 18,
    "start_time": "2023-05-02T19:41:55.425Z"
   },
   {
    "duration": 21,
    "start_time": "2023-05-02T19:41:55.445Z"
   },
   {
    "duration": 52,
    "start_time": "2023-05-02T19:41:55.467Z"
   },
   {
    "duration": 44,
    "start_time": "2023-05-02T19:41:55.523Z"
   },
   {
    "duration": 22,
    "start_time": "2023-05-02T19:41:55.568Z"
   },
   {
    "duration": 10,
    "start_time": "2023-05-02T19:41:55.592Z"
   },
   {
    "duration": 23,
    "start_time": "2023-05-02T19:41:55.605Z"
   },
   {
    "duration": 5,
    "start_time": "2023-05-02T19:41:55.630Z"
   },
   {
    "duration": 14,
    "start_time": "2023-05-02T19:41:55.637Z"
   },
   {
    "duration": 46,
    "start_time": "2023-05-02T19:41:55.654Z"
   },
   {
    "duration": 328446,
    "start_time": "2023-05-02T19:41:55.706Z"
   },
   {
    "duration": 14366,
    "start_time": "2023-05-02T19:47:24.153Z"
   },
   {
    "duration": 326796,
    "start_time": "2023-05-02T19:47:38.521Z"
   },
   {
    "duration": 420,
    "start_time": "2023-05-02T19:53:05.320Z"
   },
   {
    "duration": 8,
    "start_time": "2023-05-02T19:53:05.742Z"
   },
   {
    "duration": 18,
    "start_time": "2023-05-02T19:53:05.752Z"
   },
   {
    "duration": 17,
    "start_time": "2023-05-02T19:53:05.792Z"
   },
   {
    "duration": 102,
    "start_time": "2023-05-02T19:53:05.814Z"
   },
   {
    "duration": 171,
    "start_time": "2023-05-02T19:53:05.926Z"
   },
   {
    "duration": 7,
    "start_time": "2023-05-02T19:53:06.110Z"
   },
   {
    "duration": 79,
    "start_time": "2023-05-02T19:53:06.122Z"
   },
   {
    "duration": 198,
    "start_time": "2023-05-02T19:53:06.208Z"
   },
   {
    "duration": 102,
    "start_time": "2023-05-02T19:53:06.412Z"
   },
   {
    "duration": 5,
    "start_time": "2023-05-02T19:53:06.516Z"
   },
   {
    "duration": 220,
    "start_time": "2023-05-02T19:53:06.523Z"
   },
   {
    "duration": 0,
    "start_time": "2023-05-02T19:53:06.744Z"
   },
   {
    "duration": 0,
    "start_time": "2023-05-02T19:53:06.746Z"
   },
   {
    "duration": 0,
    "start_time": "2023-05-02T19:53:06.747Z"
   },
   {
    "duration": 0,
    "start_time": "2023-05-02T19:53:06.748Z"
   },
   {
    "duration": 0,
    "start_time": "2023-05-02T19:53:06.749Z"
   },
   {
    "duration": 91,
    "start_time": "2023-05-02T19:57:26.870Z"
   },
   {
    "duration": 1647,
    "start_time": "2023-05-02T19:58:09.493Z"
   },
   {
    "duration": 55,
    "start_time": "2023-05-02T19:58:11.143Z"
   },
   {
    "duration": 22,
    "start_time": "2023-05-02T19:58:11.201Z"
   },
   {
    "duration": 5,
    "start_time": "2023-05-02T19:58:11.225Z"
   },
   {
    "duration": 17,
    "start_time": "2023-05-02T19:58:11.233Z"
   },
   {
    "duration": 47,
    "start_time": "2023-05-02T19:58:11.252Z"
   },
   {
    "duration": 23,
    "start_time": "2023-05-02T19:58:11.301Z"
   },
   {
    "duration": 43,
    "start_time": "2023-05-02T19:58:11.326Z"
   },
   {
    "duration": 30,
    "start_time": "2023-05-02T19:58:11.371Z"
   },
   {
    "duration": 7,
    "start_time": "2023-05-02T19:58:11.403Z"
   },
   {
    "duration": 34,
    "start_time": "2023-05-02T19:58:11.412Z"
   },
   {
    "duration": 7,
    "start_time": "2023-05-02T19:58:11.448Z"
   },
   {
    "duration": 9,
    "start_time": "2023-05-02T19:58:11.457Z"
   },
   {
    "duration": 17,
    "start_time": "2023-05-02T19:58:11.493Z"
   },
   {
    "duration": 329235,
    "start_time": "2023-05-02T19:58:11.512Z"
   },
   {
    "duration": 14230,
    "start_time": "2023-05-02T20:03:40.748Z"
   },
   {
    "duration": 358467,
    "start_time": "2023-05-02T20:03:54.980Z"
   },
   {
    "duration": 465,
    "start_time": "2023-05-02T20:09:53.492Z"
   },
   {
    "duration": 10,
    "start_time": "2023-05-02T20:09:53.960Z"
   },
   {
    "duration": 31,
    "start_time": "2023-05-02T20:09:53.988Z"
   },
   {
    "duration": 12,
    "start_time": "2023-05-02T20:09:54.021Z"
   },
   {
    "duration": 167,
    "start_time": "2023-05-02T20:09:54.036Z"
   },
   {
    "duration": 184,
    "start_time": "2023-05-02T20:09:54.206Z"
   },
   {
    "duration": 12,
    "start_time": "2023-05-02T20:09:54.392Z"
   },
   {
    "duration": 13,
    "start_time": "2023-05-02T20:09:54.410Z"
   },
   {
    "duration": 199,
    "start_time": "2023-05-02T20:09:54.493Z"
   },
   {
    "duration": 7,
    "start_time": "2023-05-02T20:09:54.694Z"
   },
   {
    "duration": 230,
    "start_time": "2023-05-02T20:09:54.703Z"
   },
   {
    "duration": 0,
    "start_time": "2023-05-02T20:09:54.936Z"
   },
   {
    "duration": 0,
    "start_time": "2023-05-02T20:09:54.938Z"
   },
   {
    "duration": 0,
    "start_time": "2023-05-02T20:09:54.940Z"
   },
   {
    "duration": 0,
    "start_time": "2023-05-02T20:09:54.941Z"
   },
   {
    "duration": 0,
    "start_time": "2023-05-02T20:09:54.942Z"
   },
   {
    "duration": 7,
    "start_time": "2023-05-02T20:10:45.020Z"
   },
   {
    "duration": 20,
    "start_time": "2023-05-02T20:10:46.334Z"
   },
   {
    "duration": 7,
    "start_time": "2023-05-02T20:11:18.753Z"
   },
   {
    "duration": 24,
    "start_time": "2023-05-02T20:11:20.915Z"
   },
   {
    "duration": 5,
    "start_time": "2023-05-02T20:13:17.543Z"
   },
   {
    "duration": 18,
    "start_time": "2023-05-02T20:13:18.362Z"
   },
   {
    "duration": 5,
    "start_time": "2023-05-02T20:15:46.669Z"
   },
   {
    "duration": 625,
    "start_time": "2023-05-02T20:15:47.327Z"
   },
   {
    "duration": 1786,
    "start_time": "2023-05-03T16:03:44.828Z"
   },
   {
    "duration": 171,
    "start_time": "2023-05-03T16:03:46.617Z"
   },
   {
    "duration": 18,
    "start_time": "2023-05-03T16:03:46.790Z"
   },
   {
    "duration": 4,
    "start_time": "2023-05-03T16:03:46.810Z"
   },
   {
    "duration": 25,
    "start_time": "2023-05-03T16:03:46.816Z"
   },
   {
    "duration": 17,
    "start_time": "2023-05-03T16:03:46.842Z"
   },
   {
    "duration": 14,
    "start_time": "2023-05-03T16:03:46.860Z"
   },
   {
    "duration": 59,
    "start_time": "2023-05-03T16:03:46.876Z"
   },
   {
    "duration": 10,
    "start_time": "2023-05-03T16:03:46.937Z"
   },
   {
    "duration": 5,
    "start_time": "2023-05-03T16:03:46.949Z"
   },
   {
    "duration": 18,
    "start_time": "2023-05-03T16:03:46.956Z"
   },
   {
    "duration": 198,
    "start_time": "2023-05-03T16:03:46.976Z"
   },
   {
    "duration": 0,
    "start_time": "2023-05-03T16:03:47.176Z"
   },
   {
    "duration": 0,
    "start_time": "2023-05-03T16:03:47.177Z"
   },
   {
    "duration": 0,
    "start_time": "2023-05-03T16:03:47.178Z"
   },
   {
    "duration": 0,
    "start_time": "2023-05-03T16:03:47.179Z"
   },
   {
    "duration": 0,
    "start_time": "2023-05-03T16:03:47.181Z"
   },
   {
    "duration": 0,
    "start_time": "2023-05-03T16:03:47.182Z"
   },
   {
    "duration": 0,
    "start_time": "2023-05-03T16:03:47.184Z"
   },
   {
    "duration": 0,
    "start_time": "2023-05-03T16:03:47.185Z"
   },
   {
    "duration": 0,
    "start_time": "2023-05-03T16:03:47.186Z"
   },
   {
    "duration": 0,
    "start_time": "2023-05-03T16:03:47.188Z"
   },
   {
    "duration": 0,
    "start_time": "2023-05-03T16:03:47.189Z"
   },
   {
    "duration": 0,
    "start_time": "2023-05-03T16:03:47.191Z"
   },
   {
    "duration": 0,
    "start_time": "2023-05-03T16:03:47.192Z"
   },
   {
    "duration": 0,
    "start_time": "2023-05-03T16:03:47.193Z"
   },
   {
    "duration": 0,
    "start_time": "2023-05-03T16:03:47.195Z"
   },
   {
    "duration": 0,
    "start_time": "2023-05-03T16:03:47.196Z"
   },
   {
    "duration": 0,
    "start_time": "2023-05-03T16:03:47.197Z"
   },
   {
    "duration": 0,
    "start_time": "2023-05-03T16:03:47.199Z"
   },
   {
    "duration": 0,
    "start_time": "2023-05-03T16:03:47.200Z"
   },
   {
    "duration": 0,
    "start_time": "2023-05-03T16:03:47.201Z"
   },
   {
    "duration": 0,
    "start_time": "2023-05-03T16:03:47.202Z"
   },
   {
    "duration": 107,
    "start_time": "2023-05-03T16:06:16.804Z"
   },
   {
    "duration": 14,
    "start_time": "2023-05-03T16:07:23.291Z"
   },
   {
    "duration": 111,
    "start_time": "2023-05-03T16:08:04.230Z"
   },
   {
    "duration": 17,
    "start_time": "2023-05-03T16:08:09.299Z"
   },
   {
    "duration": 11,
    "start_time": "2023-05-03T16:08:23.590Z"
   },
   {
    "duration": 16,
    "start_time": "2023-05-03T16:08:24.712Z"
   },
   {
    "duration": 13,
    "start_time": "2023-05-03T16:09:03.915Z"
   },
   {
    "duration": 12,
    "start_time": "2023-05-03T16:09:04.407Z"
   },
   {
    "duration": 1521,
    "start_time": "2023-05-03T16:11:26.194Z"
   },
   {
    "duration": 65,
    "start_time": "2023-05-03T16:11:27.716Z"
   },
   {
    "duration": 20,
    "start_time": "2023-05-03T16:11:27.783Z"
   },
   {
    "duration": 14,
    "start_time": "2023-05-03T16:11:27.805Z"
   },
   {
    "duration": 21,
    "start_time": "2023-05-03T16:11:27.820Z"
   },
   {
    "duration": 18,
    "start_time": "2023-05-03T16:11:27.843Z"
   },
   {
    "duration": 14,
    "start_time": "2023-05-03T16:11:27.863Z"
   },
   {
    "duration": 40,
    "start_time": "2023-05-03T16:11:27.879Z"
   },
   {
    "duration": 9,
    "start_time": "2023-05-03T16:11:27.935Z"
   },
   {
    "duration": 18,
    "start_time": "2023-05-03T16:11:27.947Z"
   },
   {
    "duration": 45,
    "start_time": "2023-05-03T16:11:27.966Z"
   },
   {
    "duration": 109,
    "start_time": "2023-05-03T16:11:28.013Z"
   },
   {
    "duration": 0,
    "start_time": "2023-05-03T16:11:28.124Z"
   },
   {
    "duration": 0,
    "start_time": "2023-05-03T16:11:28.125Z"
   },
   {
    "duration": 0,
    "start_time": "2023-05-03T16:11:28.134Z"
   },
   {
    "duration": 0,
    "start_time": "2023-05-03T16:11:28.135Z"
   },
   {
    "duration": 0,
    "start_time": "2023-05-03T16:11:28.136Z"
   },
   {
    "duration": 0,
    "start_time": "2023-05-03T16:11:28.137Z"
   },
   {
    "duration": 0,
    "start_time": "2023-05-03T16:11:28.138Z"
   },
   {
    "duration": 0,
    "start_time": "2023-05-03T16:11:28.140Z"
   },
   {
    "duration": 0,
    "start_time": "2023-05-03T16:11:28.140Z"
   },
   {
    "duration": 0,
    "start_time": "2023-05-03T16:11:28.141Z"
   },
   {
    "duration": 0,
    "start_time": "2023-05-03T16:11:28.142Z"
   },
   {
    "duration": 0,
    "start_time": "2023-05-03T16:11:28.143Z"
   },
   {
    "duration": 0,
    "start_time": "2023-05-03T16:11:28.144Z"
   },
   {
    "duration": 0,
    "start_time": "2023-05-03T16:11:28.145Z"
   },
   {
    "duration": 0,
    "start_time": "2023-05-03T16:11:28.146Z"
   },
   {
    "duration": 0,
    "start_time": "2023-05-03T16:11:28.147Z"
   },
   {
    "duration": 0,
    "start_time": "2023-05-03T16:11:28.148Z"
   },
   {
    "duration": 0,
    "start_time": "2023-05-03T16:11:28.149Z"
   },
   {
    "duration": 0,
    "start_time": "2023-05-03T16:11:28.150Z"
   },
   {
    "duration": 0,
    "start_time": "2023-05-03T16:11:28.151Z"
   },
   {
    "duration": 0,
    "start_time": "2023-05-03T16:11:28.152Z"
   },
   {
    "duration": 13,
    "start_time": "2023-05-03T16:14:49.537Z"
   },
   {
    "duration": 14,
    "start_time": "2023-05-03T16:16:16.349Z"
   },
   {
    "duration": 14,
    "start_time": "2023-05-03T16:16:16.365Z"
   },
   {
    "duration": 28,
    "start_time": "2023-05-03T16:16:50.089Z"
   },
   {
    "duration": 1386,
    "start_time": "2023-05-03T16:17:41.405Z"
   },
   {
    "duration": 52,
    "start_time": "2023-05-03T16:17:42.793Z"
   },
   {
    "duration": 18,
    "start_time": "2023-05-03T16:17:42.847Z"
   },
   {
    "duration": 5,
    "start_time": "2023-05-03T16:17:42.866Z"
   },
   {
    "duration": 22,
    "start_time": "2023-05-03T16:17:42.873Z"
   },
   {
    "duration": 37,
    "start_time": "2023-05-03T16:17:42.897Z"
   },
   {
    "duration": 15,
    "start_time": "2023-05-03T16:17:42.936Z"
   },
   {
    "duration": 37,
    "start_time": "2023-05-03T16:17:42.953Z"
   },
   {
    "duration": 9,
    "start_time": "2023-05-03T16:17:42.992Z"
   },
   {
    "duration": 7,
    "start_time": "2023-05-03T16:17:43.002Z"
   },
   {
    "duration": 34,
    "start_time": "2023-05-03T16:17:43.011Z"
   },
   {
    "duration": 5,
    "start_time": "2023-05-03T16:17:43.046Z"
   },
   {
    "duration": 10,
    "start_time": "2023-05-03T16:17:43.052Z"
   },
   {
    "duration": 11,
    "start_time": "2023-05-03T16:17:43.064Z"
   },
   {
    "duration": 207457,
    "start_time": "2023-05-03T16:17:43.077Z"
   },
   {
    "duration": 7019,
    "start_time": "2023-05-03T16:21:10.536Z"
   },
   {
    "duration": 9511,
    "start_time": "2023-05-03T16:21:17.557Z"
   },
   {
    "duration": 203,
    "start_time": "2023-05-03T16:21:27.069Z"
   },
   {
    "duration": 7,
    "start_time": "2023-05-03T16:21:27.274Z"
   },
   {
    "duration": 43,
    "start_time": "2023-05-03T16:21:27.283Z"
   },
   {
    "duration": 12,
    "start_time": "2023-05-03T16:21:27.328Z"
   },
   {
    "duration": 92,
    "start_time": "2023-05-03T16:21:27.342Z"
   },
   {
    "duration": 194,
    "start_time": "2023-05-03T16:21:27.437Z"
   },
   {
    "duration": 4,
    "start_time": "2023-05-03T16:21:27.635Z"
   },
   {
    "duration": 10,
    "start_time": "2023-05-03T16:21:27.640Z"
   },
   {
    "duration": 135,
    "start_time": "2023-05-03T16:21:27.651Z"
   },
   {
    "duration": 4,
    "start_time": "2023-05-03T16:21:27.787Z"
   },
   {
    "duration": 1152,
    "start_time": "2023-05-03T16:21:27.793Z"
   },
   {
    "duration": 0,
    "start_time": "2023-05-03T16:21:28.946Z"
   },
   {
    "duration": 0,
    "start_time": "2023-05-03T16:21:28.947Z"
   },
   {
    "duration": 0,
    "start_time": "2023-05-03T16:21:28.948Z"
   },
   {
    "duration": 0,
    "start_time": "2023-05-03T16:21:28.949Z"
   },
   {
    "duration": 0,
    "start_time": "2023-05-03T16:21:28.950Z"
   },
   {
    "duration": 4,
    "start_time": "2023-05-03T16:27:58.787Z"
   },
   {
    "duration": 15,
    "start_time": "2023-05-03T16:28:00.730Z"
   },
   {
    "duration": 6,
    "start_time": "2023-05-03T16:29:22.578Z"
   },
   {
    "duration": 12,
    "start_time": "2023-05-03T16:29:39.719Z"
   },
   {
    "duration": 10,
    "start_time": "2023-05-03T16:29:55.346Z"
   },
   {
    "duration": 112,
    "start_time": "2023-05-03T16:30:11.703Z"
   },
   {
    "duration": 3,
    "start_time": "2023-05-03T16:30:32.335Z"
   },
   {
    "duration": 9,
    "start_time": "2023-05-03T16:30:33.711Z"
   },
   {
    "duration": 9,
    "start_time": "2023-05-03T16:30:34.332Z"
   },
   {
    "duration": 112,
    "start_time": "2023-05-03T16:30:35.083Z"
   },
   {
    "duration": 6,
    "start_time": "2023-05-03T16:34:37.776Z"
   },
   {
    "duration": 15,
    "start_time": "2023-05-03T16:36:16.286Z"
   },
   {
    "duration": 6,
    "start_time": "2023-05-03T16:37:50.560Z"
   },
   {
    "duration": 7,
    "start_time": "2023-05-03T16:38:37.051Z"
   },
   {
    "duration": 14,
    "start_time": "2023-05-03T16:39:28.072Z"
   },
   {
    "duration": 5,
    "start_time": "2023-05-03T16:40:38.422Z"
   },
   {
    "duration": 5,
    "start_time": "2023-05-03T16:43:38.260Z"
   },
   {
    "duration": 5,
    "start_time": "2023-05-03T16:43:42.375Z"
   },
   {
    "duration": 3,
    "start_time": "2023-05-03T16:43:42.868Z"
   },
   {
    "duration": 15,
    "start_time": "2023-05-03T16:43:43.306Z"
   },
   {
    "duration": 8,
    "start_time": "2023-05-03T16:43:43.847Z"
   },
   {
    "duration": 6,
    "start_time": "2023-05-03T16:43:44.200Z"
   },
   {
    "duration": 9,
    "start_time": "2023-05-03T16:43:46.763Z"
   },
   {
    "duration": 4,
    "start_time": "2023-05-03T16:43:55.231Z"
   },
   {
    "duration": 6,
    "start_time": "2023-05-03T16:43:56.110Z"
   },
   {
    "duration": 9,
    "start_time": "2023-05-03T16:43:57.740Z"
   },
   {
    "duration": 272043,
    "start_time": "2023-05-03T16:44:03.050Z"
   },
   {
    "duration": 11678,
    "start_time": "2023-05-03T16:48:35.095Z"
   },
   {
    "duration": 201962,
    "start_time": "2023-05-03T16:48:46.774Z"
   },
   {
    "duration": 253,
    "start_time": "2023-05-03T16:52:08.738Z"
   },
   {
    "duration": 6,
    "start_time": "2023-05-03T16:52:08.992Z"
   },
   {
    "duration": 23,
    "start_time": "2023-05-03T16:52:09.000Z"
   },
   {
    "duration": 15,
    "start_time": "2023-05-03T16:52:09.025Z"
   },
   {
    "duration": 93,
    "start_time": "2023-05-03T16:52:09.042Z"
   },
   {
    "duration": 202,
    "start_time": "2023-05-03T16:52:09.137Z"
   },
   {
    "duration": 4,
    "start_time": "2023-05-03T16:53:07.621Z"
   },
   {
    "duration": 3,
    "start_time": "2023-05-03T16:53:14.035Z"
   },
   {
    "duration": 18,
    "start_time": "2023-05-03T16:53:19.441Z"
   },
   {
    "duration": 9,
    "start_time": "2023-05-03T16:55:46.023Z"
   },
   {
    "duration": 9,
    "start_time": "2023-05-03T16:56:04.764Z"
   },
   {
    "duration": 10,
    "start_time": "2023-05-03T16:56:18.483Z"
   },
   {
    "duration": 8,
    "start_time": "2023-05-03T16:58:02.140Z"
   },
   {
    "duration": 7,
    "start_time": "2023-05-03T16:58:22.697Z"
   },
   {
    "duration": 4,
    "start_time": "2023-05-03T16:58:29.953Z"
   },
   {
    "duration": 6,
    "start_time": "2023-05-03T16:58:42.416Z"
   },
   {
    "duration": 10,
    "start_time": "2023-05-03T17:11:16.401Z"
   },
   {
    "duration": 5,
    "start_time": "2023-05-03T17:11:53.902Z"
   },
   {
    "duration": 12,
    "start_time": "2023-05-03T17:13:53.979Z"
   },
   {
    "duration": 13,
    "start_time": "2023-05-03T17:14:37.160Z"
   },
   {
    "duration": 6,
    "start_time": "2023-05-03T17:14:37.625Z"
   },
   {
    "duration": 4,
    "start_time": "2023-05-03T17:14:38.092Z"
   },
   {
    "duration": 10,
    "start_time": "2023-05-03T17:14:38.986Z"
   },
   {
    "duration": 1673,
    "start_time": "2023-05-03T19:45:08.454Z"
   },
   {
    "duration": 192,
    "start_time": "2023-05-03T19:45:10.129Z"
   },
   {
    "duration": 20,
    "start_time": "2023-05-03T19:45:10.323Z"
   },
   {
    "duration": 15,
    "start_time": "2023-05-03T19:45:10.345Z"
   },
   {
    "duration": 28,
    "start_time": "2023-05-03T19:45:10.362Z"
   },
   {
    "duration": 27,
    "start_time": "2023-05-03T19:45:10.391Z"
   },
   {
    "duration": 22,
    "start_time": "2023-05-03T19:45:10.419Z"
   },
   {
    "duration": 46,
    "start_time": "2023-05-03T19:45:10.443Z"
   },
   {
    "duration": 11,
    "start_time": "2023-05-03T19:45:10.492Z"
   },
   {
    "duration": 5,
    "start_time": "2023-05-03T19:45:10.519Z"
   },
   {
    "duration": 18,
    "start_time": "2023-05-03T19:45:10.526Z"
   },
   {
    "duration": 31,
    "start_time": "2023-05-03T19:45:10.545Z"
   },
   {
    "duration": 128,
    "start_time": "2023-05-03T19:45:10.578Z"
   },
   {
    "duration": 0,
    "start_time": "2023-05-03T19:45:10.708Z"
   },
   {
    "duration": 0,
    "start_time": "2023-05-03T19:45:10.710Z"
   },
   {
    "duration": 0,
    "start_time": "2023-05-03T19:45:10.711Z"
   },
   {
    "duration": 0,
    "start_time": "2023-05-03T19:45:10.718Z"
   },
   {
    "duration": 0,
    "start_time": "2023-05-03T19:45:10.719Z"
   },
   {
    "duration": 0,
    "start_time": "2023-05-03T19:45:10.720Z"
   },
   {
    "duration": 0,
    "start_time": "2023-05-03T19:45:10.721Z"
   },
   {
    "duration": 0,
    "start_time": "2023-05-03T19:45:10.722Z"
   },
   {
    "duration": 0,
    "start_time": "2023-05-03T19:45:10.723Z"
   },
   {
    "duration": 0,
    "start_time": "2023-05-03T19:45:10.725Z"
   },
   {
    "duration": 0,
    "start_time": "2023-05-03T19:45:10.726Z"
   },
   {
    "duration": 0,
    "start_time": "2023-05-03T19:45:10.727Z"
   },
   {
    "duration": 0,
    "start_time": "2023-05-03T19:45:10.728Z"
   },
   {
    "duration": 0,
    "start_time": "2023-05-03T19:45:10.730Z"
   },
   {
    "duration": 0,
    "start_time": "2023-05-03T19:45:10.731Z"
   },
   {
    "duration": 0,
    "start_time": "2023-05-03T19:45:10.732Z"
   },
   {
    "duration": 0,
    "start_time": "2023-05-03T19:45:10.734Z"
   },
   {
    "duration": 0,
    "start_time": "2023-05-03T19:45:10.735Z"
   },
   {
    "duration": 0,
    "start_time": "2023-05-03T19:45:10.736Z"
   },
   {
    "duration": 0,
    "start_time": "2023-05-03T19:45:10.737Z"
   },
   {
    "duration": 0,
    "start_time": "2023-05-03T19:45:10.738Z"
   },
   {
    "duration": 0,
    "start_time": "2023-05-03T19:45:10.739Z"
   },
   {
    "duration": 0,
    "start_time": "2023-05-03T19:45:10.741Z"
   },
   {
    "duration": 0,
    "start_time": "2023-05-03T19:45:10.742Z"
   },
   {
    "duration": 0,
    "start_time": "2023-05-03T19:45:10.743Z"
   },
   {
    "duration": 0,
    "start_time": "2023-05-03T19:45:10.744Z"
   },
   {
    "duration": 0,
    "start_time": "2023-05-03T19:45:10.745Z"
   },
   {
    "duration": 11,
    "start_time": "2023-05-03T19:46:00.794Z"
   },
   {
    "duration": 10,
    "start_time": "2023-05-03T19:46:29.680Z"
   },
   {
    "duration": 7,
    "start_time": "2023-05-03T19:46:58.384Z"
   },
   {
    "duration": 6,
    "start_time": "2023-05-03T19:47:01.183Z"
   },
   {
    "duration": 23,
    "start_time": "2023-05-03T19:47:06.995Z"
   },
   {
    "duration": 140,
    "start_time": "2023-05-03T19:47:38.162Z"
   },
   {
    "duration": 19,
    "start_time": "2023-05-03T19:47:46.045Z"
   },
   {
    "duration": 12,
    "start_time": "2023-05-03T19:48:53.641Z"
   },
   {
    "duration": 5,
    "start_time": "2023-05-03T19:49:16.395Z"
   },
   {
    "duration": 7,
    "start_time": "2023-05-03T19:49:47.028Z"
   },
   {
    "duration": 4,
    "start_time": "2023-05-03T19:49:47.690Z"
   },
   {
    "duration": 78,
    "start_time": "2023-05-03T19:51:58.626Z"
   },
   {
    "duration": 10,
    "start_time": "2023-05-03T19:53:14.257Z"
   },
   {
    "duration": 16,
    "start_time": "2023-05-03T19:53:20.617Z"
   },
   {
    "duration": 322563,
    "start_time": "2023-05-03T19:54:18.676Z"
   },
   {
    "duration": 15222,
    "start_time": "2023-05-03T19:59:41.241Z"
   },
   {
    "duration": 198856,
    "start_time": "2023-05-03T19:59:56.465Z"
   },
   {
    "duration": 227,
    "start_time": "2023-05-03T20:03:15.324Z"
   },
   {
    "duration": 7,
    "start_time": "2023-05-03T20:13:41.734Z"
   },
   {
    "duration": 77,
    "start_time": "2023-05-03T20:15:08.873Z"
   },
   {
    "duration": 6,
    "start_time": "2023-05-03T20:15:12.679Z"
   },
   {
    "duration": 3,
    "start_time": "2023-05-03T20:15:19.893Z"
   },
   {
    "duration": 5,
    "start_time": "2023-05-03T20:15:20.603Z"
   },
   {
    "duration": 23,
    "start_time": "2023-05-03T20:15:24.636Z"
   },
   {
    "duration": 29,
    "start_time": "2023-05-03T20:20:38.846Z"
   },
   {
    "duration": 34,
    "start_time": "2023-05-03T20:23:52.164Z"
   },
   {
    "duration": 18,
    "start_time": "2023-05-03T20:24:57.095Z"
   },
   {
    "duration": 15,
    "start_time": "2023-05-03T20:25:31.612Z"
   },
   {
    "duration": 81,
    "start_time": "2023-05-03T20:26:38.932Z"
   },
   {
    "duration": 44,
    "start_time": "2023-05-03T20:27:55.633Z"
   },
   {
    "duration": 12,
    "start_time": "2023-05-03T20:29:08.278Z"
   },
   {
    "duration": 19,
    "start_time": "2023-05-03T20:29:20.790Z"
   },
   {
    "duration": 1470,
    "start_time": "2023-05-03T21:36:32.117Z"
   },
   {
    "duration": 90,
    "start_time": "2023-05-03T21:36:33.589Z"
   },
   {
    "duration": 18,
    "start_time": "2023-05-03T21:36:33.680Z"
   },
   {
    "duration": 5,
    "start_time": "2023-05-03T21:36:33.700Z"
   },
   {
    "duration": 35,
    "start_time": "2023-05-03T21:36:33.706Z"
   },
   {
    "duration": 29,
    "start_time": "2023-05-03T21:36:33.743Z"
   },
   {
    "duration": 15,
    "start_time": "2023-05-03T21:36:33.773Z"
   },
   {
    "duration": 42,
    "start_time": "2023-05-03T21:36:33.790Z"
   },
   {
    "duration": 10,
    "start_time": "2023-05-03T21:36:33.834Z"
   },
   {
    "duration": 19,
    "start_time": "2023-05-03T21:36:33.846Z"
   },
   {
    "duration": 6,
    "start_time": "2023-05-03T21:36:33.867Z"
   },
   {
    "duration": 35,
    "start_time": "2023-05-03T21:36:33.875Z"
   },
   {
    "duration": 6,
    "start_time": "2023-05-03T21:36:33.912Z"
   },
   {
    "duration": 14,
    "start_time": "2023-05-03T21:36:33.920Z"
   },
   {
    "duration": 27,
    "start_time": "2023-05-03T21:36:33.935Z"
   },
   {
    "duration": 304898,
    "start_time": "2023-05-03T21:36:33.964Z"
   },
   {
    "duration": 14816,
    "start_time": "2023-05-03T21:41:38.864Z"
   },
   {
    "duration": 200641,
    "start_time": "2023-05-03T21:41:53.682Z"
   },
   {
    "duration": 245,
    "start_time": "2023-05-03T21:45:14.325Z"
   },
   {
    "duration": 7,
    "start_time": "2023-05-03T21:45:14.572Z"
   },
   {
    "duration": 59,
    "start_time": "2023-05-03T21:45:14.581Z"
   },
   {
    "duration": 26,
    "start_time": "2023-05-03T21:45:14.642Z"
   },
   {
    "duration": 52,
    "start_time": "2023-05-03T21:45:14.670Z"
   },
   {
    "duration": 497,
    "start_time": "2023-05-03T21:45:14.725Z"
   },
   {
    "duration": 4,
    "start_time": "2023-05-03T21:45:15.225Z"
   },
   {
    "duration": 95,
    "start_time": "2023-05-03T21:45:15.324Z"
   },
   {
    "duration": 143,
    "start_time": "2023-05-03T21:45:15.421Z"
   },
   {
    "duration": 0,
    "start_time": "2023-05-03T21:45:15.565Z"
   },
   {
    "duration": 0,
    "start_time": "2023-05-03T21:45:15.567Z"
   },
   {
    "duration": 0,
    "start_time": "2023-05-03T21:45:15.568Z"
   },
   {
    "duration": 0,
    "start_time": "2023-05-03T21:45:15.569Z"
   },
   {
    "duration": 0,
    "start_time": "2023-05-03T21:45:15.570Z"
   },
   {
    "duration": 0,
    "start_time": "2023-05-03T21:45:15.571Z"
   },
   {
    "duration": 0,
    "start_time": "2023-05-03T21:45:15.572Z"
   },
   {
    "duration": 1427,
    "start_time": "2023-05-03T21:45:37.890Z"
   },
   {
    "duration": 89,
    "start_time": "2023-05-03T21:45:39.319Z"
   },
   {
    "duration": 18,
    "start_time": "2023-05-03T21:45:39.410Z"
   },
   {
    "duration": 21,
    "start_time": "2023-05-03T21:45:39.430Z"
   },
   {
    "duration": 24,
    "start_time": "2023-05-03T21:45:39.454Z"
   },
   {
    "duration": 19,
    "start_time": "2023-05-03T21:45:39.480Z"
   },
   {
    "duration": 17,
    "start_time": "2023-05-03T21:45:39.501Z"
   },
   {
    "duration": 42,
    "start_time": "2023-05-03T21:45:39.519Z"
   },
   {
    "duration": 11,
    "start_time": "2023-05-03T21:45:39.563Z"
   },
   {
    "duration": 13,
    "start_time": "2023-05-03T21:45:39.576Z"
   },
   {
    "duration": 22,
    "start_time": "2023-05-03T21:45:39.591Z"
   },
   {
    "duration": 30,
    "start_time": "2023-05-03T21:45:39.614Z"
   },
   {
    "duration": 14,
    "start_time": "2023-05-03T21:45:39.646Z"
   },
   {
    "duration": 33,
    "start_time": "2023-05-03T21:45:39.662Z"
   },
   {
    "duration": 21,
    "start_time": "2023-05-03T21:45:39.696Z"
   },
   {
    "duration": 352146,
    "start_time": "2023-05-03T21:45:39.719Z"
   },
   {
    "duration": 19296,
    "start_time": "2023-05-03T21:51:31.867Z"
   },
   {
    "duration": 173754,
    "start_time": "2023-05-03T21:51:51.165Z"
   },
   {
    "duration": 243,
    "start_time": "2023-05-03T21:54:44.921Z"
   },
   {
    "duration": 12,
    "start_time": "2023-05-03T21:54:45.166Z"
   },
   {
    "duration": 26,
    "start_time": "2023-05-03T21:54:45.180Z"
   },
   {
    "duration": 16,
    "start_time": "2023-05-03T21:54:45.208Z"
   },
   {
    "duration": 31,
    "start_time": "2023-05-03T21:54:45.226Z"
   },
   {
    "duration": 258,
    "start_time": "2023-05-03T21:54:45.260Z"
   },
   {
    "duration": 4,
    "start_time": "2023-05-03T21:54:45.520Z"
   },
   {
    "duration": 111,
    "start_time": "2023-05-03T21:54:45.526Z"
   },
   {
    "duration": 135,
    "start_time": "2023-05-03T21:54:45.639Z"
   },
   {
    "duration": 0,
    "start_time": "2023-05-03T21:54:45.776Z"
   },
   {
    "duration": 0,
    "start_time": "2023-05-03T21:54:45.777Z"
   },
   {
    "duration": 0,
    "start_time": "2023-05-03T21:54:45.779Z"
   },
   {
    "duration": 0,
    "start_time": "2023-05-03T21:54:45.780Z"
   },
   {
    "duration": 0,
    "start_time": "2023-05-03T21:54:45.782Z"
   },
   {
    "duration": 0,
    "start_time": "2023-05-03T21:54:45.783Z"
   },
   {
    "duration": 0,
    "start_time": "2023-05-03T21:54:45.786Z"
   },
   {
    "duration": 168,
    "start_time": "2023-05-03T21:58:13.951Z"
   },
   {
    "duration": 219,
    "start_time": "2023-05-03T21:58:33.201Z"
   },
   {
    "duration": 148,
    "start_time": "2023-05-03T21:58:48.901Z"
   },
   {
    "duration": 18,
    "start_time": "2023-05-03T21:59:01.637Z"
   },
   {
    "duration": 251,
    "start_time": "2023-05-03T21:59:05.871Z"
   },
   {
    "duration": 6,
    "start_time": "2023-05-03T21:59:13.279Z"
   },
   {
    "duration": 162,
    "start_time": "2023-05-03T21:59:13.960Z"
   },
   {
    "duration": 4,
    "start_time": "2023-05-03T21:59:47.596Z"
   },
   {
    "duration": 5,
    "start_time": "2023-05-03T21:59:48.174Z"
   },
   {
    "duration": 179,
    "start_time": "2023-05-03T21:59:49.039Z"
   },
   {
    "duration": 5,
    "start_time": "2023-05-03T21:59:55.073Z"
   },
   {
    "duration": 101,
    "start_time": "2023-05-03T21:59:57.025Z"
   },
   {
    "duration": 91,
    "start_time": "2023-05-03T22:00:13.038Z"
   },
   {
    "duration": 56,
    "start_time": "2023-05-03T22:00:24.692Z"
   },
   {
    "duration": 57,
    "start_time": "2023-05-03T22:01:16.428Z"
   },
   {
    "duration": 6,
    "start_time": "2023-05-03T22:01:28.363Z"
   },
   {
    "duration": 11,
    "start_time": "2023-05-03T22:01:29.667Z"
   },
   {
    "duration": 1582,
    "start_time": "2023-05-04T19:00:35.465Z"
   },
   {
    "duration": 120,
    "start_time": "2023-05-04T19:00:37.049Z"
   },
   {
    "duration": 19,
    "start_time": "2023-05-04T19:00:37.170Z"
   },
   {
    "duration": 4,
    "start_time": "2023-05-04T19:00:37.191Z"
   },
   {
    "duration": 15,
    "start_time": "2023-05-04T19:00:37.197Z"
   },
   {
    "duration": 16,
    "start_time": "2023-05-04T19:00:37.213Z"
   },
   {
    "duration": 15,
    "start_time": "2023-05-04T19:00:37.231Z"
   },
   {
    "duration": 67,
    "start_time": "2023-05-04T19:00:37.247Z"
   },
   {
    "duration": 10,
    "start_time": "2023-05-04T19:00:37.315Z"
   },
   {
    "duration": 6,
    "start_time": "2023-05-04T19:00:37.327Z"
   },
   {
    "duration": 10,
    "start_time": "2023-05-04T19:00:37.335Z"
   },
   {
    "duration": 52,
    "start_time": "2023-05-04T19:00:37.346Z"
   },
   {
    "duration": 9,
    "start_time": "2023-05-04T19:00:37.400Z"
   },
   {
    "duration": 13,
    "start_time": "2023-05-04T19:00:37.411Z"
   },
   {
    "duration": 13,
    "start_time": "2023-05-04T19:00:37.426Z"
   },
   {
    "duration": 279562,
    "start_time": "2023-05-04T19:00:37.441Z"
   },
   {
    "duration": 12648,
    "start_time": "2023-05-04T19:05:17.005Z"
   },
   {
    "duration": 151930,
    "start_time": "2023-05-04T19:05:29.655Z"
   },
   {
    "duration": 236,
    "start_time": "2023-05-04T19:08:01.588Z"
   },
   {
    "duration": 6,
    "start_time": "2023-05-04T19:08:01.826Z"
   },
   {
    "duration": 17,
    "start_time": "2023-05-04T19:08:01.833Z"
   },
   {
    "duration": 9,
    "start_time": "2023-05-04T19:08:01.852Z"
   },
   {
    "duration": 14,
    "start_time": "2023-05-04T19:08:01.885Z"
   },
   {
    "duration": 201,
    "start_time": "2023-05-04T19:08:01.985Z"
   },
   {
    "duration": 5,
    "start_time": "2023-05-04T19:08:02.188Z"
   },
   {
    "duration": 120,
    "start_time": "2023-05-04T19:08:02.285Z"
   },
   {
    "duration": 0,
    "start_time": "2023-05-04T19:08:02.407Z"
   },
   {
    "duration": 0,
    "start_time": "2023-05-04T19:08:02.409Z"
   },
   {
    "duration": 0,
    "start_time": "2023-05-04T19:08:02.410Z"
   },
   {
    "duration": 0,
    "start_time": "2023-05-04T19:08:02.411Z"
   },
   {
    "duration": 0,
    "start_time": "2023-05-04T19:08:02.412Z"
   },
   {
    "duration": 0,
    "start_time": "2023-05-04T19:08:02.414Z"
   },
   {
    "duration": 0,
    "start_time": "2023-05-04T19:08:02.415Z"
   },
   {
    "duration": 1573,
    "start_time": "2023-05-04T20:13:44.560Z"
   },
   {
    "duration": 77,
    "start_time": "2023-05-04T20:13:46.135Z"
   },
   {
    "duration": 17,
    "start_time": "2023-05-04T20:13:46.214Z"
   },
   {
    "duration": 4,
    "start_time": "2023-05-04T20:13:46.233Z"
   },
   {
    "duration": 12,
    "start_time": "2023-05-04T20:13:46.239Z"
   },
   {
    "duration": 40,
    "start_time": "2023-05-04T20:13:46.252Z"
   },
   {
    "duration": 19,
    "start_time": "2023-05-04T20:13:46.294Z"
   },
   {
    "duration": 39,
    "start_time": "2023-05-04T20:13:46.315Z"
   },
   {
    "duration": 9,
    "start_time": "2023-05-04T20:13:46.355Z"
   },
   {
    "duration": 7,
    "start_time": "2023-05-04T20:13:46.387Z"
   },
   {
    "duration": 19,
    "start_time": "2023-05-04T20:13:46.396Z"
   },
   {
    "duration": 45,
    "start_time": "2023-05-04T20:13:46.416Z"
   },
   {
    "duration": 9,
    "start_time": "2023-05-04T20:13:46.463Z"
   },
   {
    "duration": 22,
    "start_time": "2023-05-04T20:13:46.474Z"
   },
   {
    "duration": 22,
    "start_time": "2023-05-04T20:13:46.498Z"
   },
   {
    "duration": 295659,
    "start_time": "2023-05-04T20:13:46.522Z"
   },
   {
    "duration": 12944,
    "start_time": "2023-05-04T20:18:42.183Z"
   },
   {
    "duration": 587165,
    "start_time": "2023-05-04T20:18:55.129Z"
   },
   {
    "duration": 314,
    "start_time": "2023-05-04T20:28:42.297Z"
   },
   {
    "duration": 7,
    "start_time": "2023-05-04T20:28:42.613Z"
   },
   {
    "duration": 50,
    "start_time": "2023-05-04T20:28:42.622Z"
   },
   {
    "duration": 25,
    "start_time": "2023-05-04T20:28:42.674Z"
   },
   {
    "duration": 23,
    "start_time": "2023-05-04T20:28:42.702Z"
   },
   {
    "duration": 273,
    "start_time": "2023-05-04T20:28:42.726Z"
   },
   {
    "duration": 90,
    "start_time": "2023-05-04T20:28:43.003Z"
   },
   {
    "duration": 10,
    "start_time": "2023-05-04T20:28:43.098Z"
   },
   {
    "duration": 76,
    "start_time": "2023-05-04T20:28:43.112Z"
   },
   {
    "duration": 194,
    "start_time": "2023-05-04T20:28:43.192Z"
   },
   {
    "duration": 7,
    "start_time": "2023-05-04T20:28:43.388Z"
   },
   {
    "duration": 187,
    "start_time": "2023-05-04T20:28:43.401Z"
   },
   {
    "duration": 199,
    "start_time": "2023-05-04T20:28:43.591Z"
   },
   {
    "duration": 9,
    "start_time": "2023-05-04T20:28:43.793Z"
   },
   {
    "duration": 15,
    "start_time": "2023-05-04T20:28:43.804Z"
   },
   {
    "duration": 16,
    "start_time": "2023-05-04T20:28:43.821Z"
   },
   {
    "duration": 174,
    "start_time": "2023-05-04T21:11:32.798Z"
   },
   {
    "duration": 1299,
    "start_time": "2023-05-04T21:12:05.427Z"
   },
   {
    "duration": 69,
    "start_time": "2023-05-04T21:12:06.728Z"
   },
   {
    "duration": 21,
    "start_time": "2023-05-04T21:12:06.799Z"
   },
   {
    "duration": 19,
    "start_time": "2023-05-04T21:12:06.822Z"
   },
   {
    "duration": 13,
    "start_time": "2023-05-04T21:12:06.843Z"
   },
   {
    "duration": 30,
    "start_time": "2023-05-04T21:12:06.857Z"
   },
   {
    "duration": 14,
    "start_time": "2023-05-04T21:12:06.889Z"
   },
   {
    "duration": 39,
    "start_time": "2023-05-04T21:12:06.905Z"
   },
   {
    "duration": 11,
    "start_time": "2023-05-04T21:12:06.946Z"
   },
   {
    "duration": 31,
    "start_time": "2023-05-04T21:12:06.959Z"
   },
   {
    "duration": 4,
    "start_time": "2023-05-04T21:12:06.991Z"
   },
   {
    "duration": 22,
    "start_time": "2023-05-04T21:12:06.997Z"
   },
   {
    "duration": 5,
    "start_time": "2023-05-04T21:12:07.020Z"
   },
   {
    "duration": 5,
    "start_time": "2023-05-04T21:12:07.028Z"
   },
   {
    "duration": 25,
    "start_time": "2023-05-04T21:12:07.035Z"
   },
   {
    "duration": 274404,
    "start_time": "2023-05-04T21:12:07.062Z"
   },
   {
    "duration": 12032,
    "start_time": "2023-05-04T21:16:41.468Z"
   },
   {
    "duration": 152485,
    "start_time": "2023-05-04T21:16:53.502Z"
   },
   {
    "duration": 354,
    "start_time": "2023-05-04T21:19:25.990Z"
   },
   {
    "duration": 6,
    "start_time": "2023-05-04T21:19:26.346Z"
   },
   {
    "duration": 26,
    "start_time": "2023-05-04T21:19:26.354Z"
   },
   {
    "duration": 8,
    "start_time": "2023-05-04T21:19:26.384Z"
   },
   {
    "duration": 92,
    "start_time": "2023-05-04T21:19:26.394Z"
   },
   {
    "duration": 198,
    "start_time": "2023-05-04T21:19:26.488Z"
   },
   {
    "duration": 5,
    "start_time": "2023-05-04T21:19:26.689Z"
   },
   {
    "duration": 97,
    "start_time": "2023-05-04T21:19:26.696Z"
   },
   {
    "duration": 13,
    "start_time": "2023-05-04T21:19:26.795Z"
   },
   {
    "duration": 177,
    "start_time": "2023-05-04T21:19:26.809Z"
   },
   {
    "duration": 6,
    "start_time": "2023-05-04T21:19:26.989Z"
   },
   {
    "duration": 290,
    "start_time": "2023-05-04T21:19:26.997Z"
   },
   {
    "duration": 130,
    "start_time": "2023-05-04T21:19:27.289Z"
   },
   {
    "duration": 6,
    "start_time": "2023-05-04T21:19:27.422Z"
   },
   {
    "duration": 14,
    "start_time": "2023-05-04T21:19:27.430Z"
   },
   {
    "duration": 1791,
    "start_time": "2023-05-05T20:41:57.697Z"
   },
   {
    "duration": 121,
    "start_time": "2023-05-05T20:41:59.490Z"
   },
   {
    "duration": 28,
    "start_time": "2023-05-05T20:41:59.613Z"
   },
   {
    "duration": 6,
    "start_time": "2023-05-05T20:41:59.643Z"
   },
   {
    "duration": 38,
    "start_time": "2023-05-05T20:41:59.651Z"
   },
   {
    "duration": 33,
    "start_time": "2023-05-05T20:41:59.691Z"
   },
   {
    "duration": 17,
    "start_time": "2023-05-05T20:41:59.726Z"
   },
   {
    "duration": 70,
    "start_time": "2023-05-05T20:41:59.745Z"
   },
   {
    "duration": 14,
    "start_time": "2023-05-05T20:41:59.818Z"
   },
   {
    "duration": 5,
    "start_time": "2023-05-05T20:41:59.834Z"
   },
   {
    "duration": 13,
    "start_time": "2023-05-05T20:41:59.841Z"
   },
   {
    "duration": 45,
    "start_time": "2023-05-05T20:41:59.856Z"
   },
   {
    "duration": 6,
    "start_time": "2023-05-05T20:41:59.903Z"
   },
   {
    "duration": 12,
    "start_time": "2023-05-05T20:41:59.912Z"
   },
   {
    "duration": 30,
    "start_time": "2023-05-05T20:41:59.925Z"
   },
   {
    "duration": 468766,
    "start_time": "2023-05-05T20:41:59.958Z"
   },
   {
    "duration": 30912,
    "start_time": "2023-05-05T20:49:48.726Z"
   },
   {
    "duration": 558593,
    "start_time": "2023-05-05T20:50:19.640Z"
   },
   {
    "duration": 328,
    "start_time": "2023-05-05T20:59:38.234Z"
   },
   {
    "duration": 7,
    "start_time": "2023-05-05T20:59:38.564Z"
   },
   {
    "duration": 17,
    "start_time": "2023-05-05T20:59:38.573Z"
   },
   {
    "duration": 22,
    "start_time": "2023-05-05T20:59:38.593Z"
   },
   {
    "duration": 16,
    "start_time": "2023-05-05T20:59:38.617Z"
   },
   {
    "duration": 295,
    "start_time": "2023-05-05T20:59:38.720Z"
   },
   {
    "duration": 5,
    "start_time": "2023-05-05T20:59:39.017Z"
   },
   {
    "duration": 90,
    "start_time": "2023-05-05T20:59:39.024Z"
   },
   {
    "duration": 7,
    "start_time": "2023-05-05T20:59:39.117Z"
   },
   {
    "duration": 190,
    "start_time": "2023-05-05T20:59:39.128Z"
   },
   {
    "duration": 6,
    "start_time": "2023-05-05T20:59:39.320Z"
   },
   {
    "duration": 387,
    "start_time": "2023-05-05T20:59:39.328Z"
   },
   {
    "duration": 34,
    "start_time": "2023-05-05T20:59:39.717Z"
   },
   {
    "duration": 9,
    "start_time": "2023-05-05T20:59:39.811Z"
   },
   {
    "duration": 24,
    "start_time": "2023-05-05T20:59:39.822Z"
   },
   {
    "duration": 138,
    "start_time": "2023-05-05T21:04:13.186Z"
   },
   {
    "duration": 3,
    "start_time": "2023-05-05T21:04:17.484Z"
   },
   {
    "duration": 4,
    "start_time": "2023-05-05T21:04:18.699Z"
   },
   {
    "duration": 5,
    "start_time": "2023-05-05T21:04:19.411Z"
   },
   {
    "duration": 232,
    "start_time": "2023-05-05T21:04:20.097Z"
   },
   {
    "duration": 5,
    "start_time": "2023-05-05T21:04:23.596Z"
   },
   {
    "duration": 130,
    "start_time": "2023-05-05T21:04:24.388Z"
   },
   {
    "duration": 1478,
    "start_time": "2023-05-05T21:04:33.980Z"
   },
   {
    "duration": 83,
    "start_time": "2023-05-05T21:04:35.461Z"
   },
   {
    "duration": 20,
    "start_time": "2023-05-05T21:04:35.545Z"
   },
   {
    "duration": 23,
    "start_time": "2023-05-05T21:04:35.567Z"
   },
   {
    "duration": 32,
    "start_time": "2023-05-05T21:04:35.593Z"
   },
   {
    "duration": 24,
    "start_time": "2023-05-05T21:04:35.630Z"
   },
   {
    "duration": 16,
    "start_time": "2023-05-05T21:04:35.656Z"
   },
   {
    "duration": 60,
    "start_time": "2023-05-05T21:04:35.674Z"
   },
   {
    "duration": 10,
    "start_time": "2023-05-05T21:04:35.736Z"
   },
   {
    "duration": 16,
    "start_time": "2023-05-05T21:04:35.748Z"
   },
   {
    "duration": 20,
    "start_time": "2023-05-05T21:04:35.767Z"
   },
   {
    "duration": 24,
    "start_time": "2023-05-05T21:04:35.789Z"
   },
   {
    "duration": 8,
    "start_time": "2023-05-05T21:04:35.827Z"
   },
   {
    "duration": 16,
    "start_time": "2023-05-05T21:04:35.839Z"
   },
   {
    "duration": 21,
    "start_time": "2023-05-05T21:04:35.858Z"
   },
   {
    "duration": 716694,
    "start_time": "2023-05-05T21:04:35.882Z"
   },
   {
    "duration": 30702,
    "start_time": "2023-05-05T21:16:32.578Z"
   },
   {
    "duration": 1477,
    "start_time": "2023-05-05T21:23:23.530Z"
   },
   {
    "duration": 80,
    "start_time": "2023-05-05T21:23:25.015Z"
   },
   {
    "duration": 24,
    "start_time": "2023-05-05T21:23:25.097Z"
   },
   {
    "duration": 8,
    "start_time": "2023-05-05T21:23:25.124Z"
   },
   {
    "duration": 23,
    "start_time": "2023-05-05T21:23:25.134Z"
   },
   {
    "duration": 17,
    "start_time": "2023-05-05T21:23:25.159Z"
   },
   {
    "duration": 17,
    "start_time": "2023-05-05T21:23:25.177Z"
   },
   {
    "duration": 67,
    "start_time": "2023-05-05T21:23:25.195Z"
   },
   {
    "duration": 9,
    "start_time": "2023-05-05T21:23:25.263Z"
   },
   {
    "duration": 4,
    "start_time": "2023-05-05T21:23:25.274Z"
   },
   {
    "duration": 5,
    "start_time": "2023-05-05T21:23:25.280Z"
   },
   {
    "duration": 41,
    "start_time": "2023-05-05T21:23:25.287Z"
   },
   {
    "duration": 5,
    "start_time": "2023-05-05T21:23:25.330Z"
   },
   {
    "duration": 6,
    "start_time": "2023-05-05T21:23:25.338Z"
   },
   {
    "duration": 11,
    "start_time": "2023-05-05T21:23:25.345Z"
   },
   {
    "duration": 1078529,
    "start_time": "2023-05-05T21:23:25.358Z"
   },
   {
    "duration": 58915,
    "start_time": "2023-05-05T21:41:23.890Z"
   },
   {
    "duration": 690928,
    "start_time": "2023-05-05T21:42:22.811Z"
   },
   {
    "duration": 340,
    "start_time": "2023-05-05T21:53:53.742Z"
   },
   {
    "duration": 7,
    "start_time": "2023-05-05T21:53:54.085Z"
   },
   {
    "duration": 30,
    "start_time": "2023-05-05T21:53:54.094Z"
   },
   {
    "duration": 15,
    "start_time": "2023-05-05T21:53:54.126Z"
   },
   {
    "duration": 75,
    "start_time": "2023-05-05T21:53:54.143Z"
   },
   {
    "duration": 298,
    "start_time": "2023-05-05T21:53:54.221Z"
   },
   {
    "duration": 13,
    "start_time": "2023-05-05T21:53:54.528Z"
   },
   {
    "duration": 68,
    "start_time": "2023-05-05T21:53:54.546Z"
   },
   {
    "duration": 7,
    "start_time": "2023-05-05T21:53:54.621Z"
   },
   {
    "duration": 317,
    "start_time": "2023-05-05T21:53:54.633Z"
   },
   {
    "duration": 60,
    "start_time": "2023-05-05T21:53:54.952Z"
   },
   {
    "duration": 198,
    "start_time": "2023-05-05T21:53:55.019Z"
   },
   {
    "duration": 199,
    "start_time": "2023-05-05T21:53:55.219Z"
   },
   {
    "duration": 11,
    "start_time": "2023-05-05T21:53:55.420Z"
   },
   {
    "duration": 17,
    "start_time": "2023-05-05T21:53:55.437Z"
   },
   {
    "duration": 131,
    "start_time": "2023-05-05T22:05:46.397Z"
   },
   {
    "duration": 8,
    "start_time": "2023-05-05T22:07:02.253Z"
   },
   {
    "duration": 14,
    "start_time": "2023-05-05T22:07:04.388Z"
   }
  ],
  "kernelspec": {
   "display_name": "Python 3 (ipykernel)",
   "language": "python",
   "name": "python3"
  },
  "language_info": {
   "codemirror_mode": {
    "name": "ipython",
    "version": 3
   },
   "file_extension": ".py",
   "mimetype": "text/x-python",
   "name": "python",
   "nbconvert_exporter": "python",
   "pygments_lexer": "ipython3",
   "version": "3.9.12"
  },
  "toc": {
   "base_numbering": 1,
   "nav_menu": {},
   "number_sections": true,
   "sideBar": true,
   "skip_h1_title": true,
   "title_cell": "Содержание",
   "title_sidebar": "Contents",
   "toc_cell": true,
   "toc_position": {
    "height": "calc(100% - 180px)",
    "left": "10px",
    "top": "150px",
    "width": "664px"
   },
   "toc_section_display": true,
   "toc_window_display": true
  }
 },
 "nbformat": 4,
 "nbformat_minor": 2
}
