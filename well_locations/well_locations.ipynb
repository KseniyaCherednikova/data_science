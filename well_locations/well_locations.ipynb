{
 "cells": [
  {
   "cell_type": "markdown",
   "metadata": {},
   "source": [
    "# Выбор локации для скважины"
   ]
  },
  {
   "cell_type": "markdown",
   "metadata": {},
   "source": [
    "Для добывающей компании нужно решить, где бурить новую скважину.\n",
    "\n",
    "Предоставлены пробы нефти в трёх регионах: в каждом 10 000 месторождений, где измерили качество нефти и объём её запасов. Необходимо построить модель машинного обучения, которая поможет определить регион, где добыча принесёт наибольшую прибыль и проанализировать возможную прибыль и риски.\n",
    "\n",
    "Шаги для выбора локации:\n",
    "\n",
    "- В избранном регионе ищут месторождения, для каждого определяют значения признаков;\n",
    "- Строят модель и оценивают объём запасов;\n",
    "- Выбирают месторождения с самым высокими оценками значений. Количество месторождений зависит от бюджета компании и стоимости разработки одной скважины;\n",
    "- Прибыль равна суммарной прибыли отобранных месторождений."
   ]
  },
  {
   "cell_type": "markdown",
   "metadata": {},
   "source": [
    "Описание данных:\n",
    "- id — уникальный идентификатор скважины;\n",
    "- f0, f1, f2 — три признака точек (неважно, что они означают, но сами признаки значимы);\n",
    "- product — объём запасов в скважине (тыс. баррелей)."
   ]
  },
  {
   "cell_type": "markdown",
   "metadata": {},
   "source": [
    "## Загрузка и подготовка данных"
   ]
  },
  {
   "cell_type": "code",
   "execution_count": 1,
   "metadata": {},
   "outputs": [],
   "source": [
    "#Библиотеки\n",
    "import pandas as pd\n",
    "import numpy as np\n",
    "import matplotlib.pyplot as plt\n",
    "from IPython.display import display\n",
    "from sklearn.preprocessing import OrdinalEncoder \n",
    "from sklearn.model_selection import train_test_split\n",
    "from sklearn.linear_model import LinearRegression\n",
    "from sklearn.preprocessing import StandardScaler\n",
    "from sklearn.metrics import accuracy_score\n",
    "import time\n",
    "from sklearn.metrics import mean_squared_error, r2_score\n",
    "from scipy import stats as st"
   ]
  },
  {
   "cell_type": "code",
   "execution_count": 2,
   "metadata": {},
   "outputs": [],
   "source": [
    "geo_0 = pd. read_csv('/datasets/****ta_0.csv')\n",
    "geo_1 = pd. read_csv('/datasets/****ta_1.csv')\n",
    "geo_2 = pd. read_csv('/datasets/****ta_2.csv')"
   ]
  },
  {
   "cell_type": "code",
   "execution_count": 3,
   "metadata": {},
   "outputs": [],
   "source": [
    "def data_info(data, data_name):\n",
    "    data.info()\n",
    "    print()\n",
    "    print('{}'.format(data_name))\n",
    "    data.hist(figsize=(10, 10), alpha=0.5)\n",
    "    display(data.head(10))\n",
    "    display(data.describe())\n",
    " "
   ]
  },
  {
   "cell_type": "code",
   "execution_count": 4,
   "metadata": {},
   "outputs": [
    {
     "name": "stdout",
     "output_type": "stream",
     "text": [
      "<class 'pandas.core.frame.DataFrame'>\n",
      "RangeIndex: 100000 entries, 0 to 99999\n",
      "Data columns (total 5 columns):\n",
      " #   Column   Non-Null Count   Dtype  \n",
      "---  ------   --------------   -----  \n",
      " 0   id       100000 non-null  object \n",
      " 1   f0       100000 non-null  float64\n",
      " 2   f1       100000 non-null  float64\n",
      " 3   f2       100000 non-null  float64\n",
      " 4   product  100000 non-null  float64\n",
      "dtypes: float64(4), object(1)\n",
      "memory usage: 3.8+ MB\n",
      "\n",
      "Распределение данных geo_0\n"
     ]
    },
    {
     "data": {
      "text/html": [
       "<div>\n",
       "<style scoped>\n",
       "    .dataframe tbody tr th:only-of-type {\n",
       "        vertical-align: middle;\n",
       "    }\n",
       "\n",
       "    .dataframe tbody tr th {\n",
       "        vertical-align: top;\n",
       "    }\n",
       "\n",
       "    .dataframe thead th {\n",
       "        text-align: right;\n",
       "    }\n",
       "</style>\n",
       "<table border=\"1\" class=\"dataframe\">\n",
       "  <thead>\n",
       "    <tr style=\"text-align: right;\">\n",
       "      <th></th>\n",
       "      <th>id</th>\n",
       "      <th>f0</th>\n",
       "      <th>f1</th>\n",
       "      <th>f2</th>\n",
       "      <th>product</th>\n",
       "    </tr>\n",
       "  </thead>\n",
       "  <tbody>\n",
       "    <tr>\n",
       "      <th>0</th>\n",
       "      <td>txEyH</td>\n",
       "      <td>0.705745</td>\n",
       "      <td>-0.497823</td>\n",
       "      <td>1.221170</td>\n",
       "      <td>105.280062</td>\n",
       "    </tr>\n",
       "    <tr>\n",
       "      <th>1</th>\n",
       "      <td>2acmU</td>\n",
       "      <td>1.334711</td>\n",
       "      <td>-0.340164</td>\n",
       "      <td>4.365080</td>\n",
       "      <td>73.037750</td>\n",
       "    </tr>\n",
       "    <tr>\n",
       "      <th>2</th>\n",
       "      <td>409Wp</td>\n",
       "      <td>1.022732</td>\n",
       "      <td>0.151990</td>\n",
       "      <td>1.419926</td>\n",
       "      <td>85.265647</td>\n",
       "    </tr>\n",
       "    <tr>\n",
       "      <th>3</th>\n",
       "      <td>iJLyR</td>\n",
       "      <td>-0.032172</td>\n",
       "      <td>0.139033</td>\n",
       "      <td>2.978566</td>\n",
       "      <td>168.620776</td>\n",
       "    </tr>\n",
       "    <tr>\n",
       "      <th>4</th>\n",
       "      <td>Xdl7t</td>\n",
       "      <td>1.988431</td>\n",
       "      <td>0.155413</td>\n",
       "      <td>4.751769</td>\n",
       "      <td>154.036647</td>\n",
       "    </tr>\n",
       "    <tr>\n",
       "      <th>5</th>\n",
       "      <td>wX4Hy</td>\n",
       "      <td>0.969570</td>\n",
       "      <td>0.489775</td>\n",
       "      <td>-0.735383</td>\n",
       "      <td>64.741541</td>\n",
       "    </tr>\n",
       "    <tr>\n",
       "      <th>6</th>\n",
       "      <td>tL6pL</td>\n",
       "      <td>0.645075</td>\n",
       "      <td>0.530656</td>\n",
       "      <td>1.780266</td>\n",
       "      <td>49.055285</td>\n",
       "    </tr>\n",
       "    <tr>\n",
       "      <th>7</th>\n",
       "      <td>BYPU6</td>\n",
       "      <td>-0.400648</td>\n",
       "      <td>0.808337</td>\n",
       "      <td>-5.624670</td>\n",
       "      <td>72.943292</td>\n",
       "    </tr>\n",
       "    <tr>\n",
       "      <th>8</th>\n",
       "      <td>j9Oui</td>\n",
       "      <td>0.643105</td>\n",
       "      <td>-0.551583</td>\n",
       "      <td>2.372141</td>\n",
       "      <td>113.356160</td>\n",
       "    </tr>\n",
       "    <tr>\n",
       "      <th>9</th>\n",
       "      <td>OLuZU</td>\n",
       "      <td>2.173381</td>\n",
       "      <td>0.563698</td>\n",
       "      <td>9.441852</td>\n",
       "      <td>127.910945</td>\n",
       "    </tr>\n",
       "  </tbody>\n",
       "</table>\n",
       "</div>"
      ],
      "text/plain": [
       "      id        f0        f1        f2     product\n",
       "0  txEyH  0.705745 -0.497823  1.221170  105.280062\n",
       "1  2acmU  1.334711 -0.340164  4.365080   73.037750\n",
       "2  409Wp  1.022732  0.151990  1.419926   85.265647\n",
       "3  iJLyR -0.032172  0.139033  2.978566  168.620776\n",
       "4  Xdl7t  1.988431  0.155413  4.751769  154.036647\n",
       "5  wX4Hy  0.969570  0.489775 -0.735383   64.741541\n",
       "6  tL6pL  0.645075  0.530656  1.780266   49.055285\n",
       "7  BYPU6 -0.400648  0.808337 -5.624670   72.943292\n",
       "8  j9Oui  0.643105 -0.551583  2.372141  113.356160\n",
       "9  OLuZU  2.173381  0.563698  9.441852  127.910945"
      ]
     },
     "metadata": {},
     "output_type": "display_data"
    },
    {
     "data": {
      "text/html": [
       "<div>\n",
       "<style scoped>\n",
       "    .dataframe tbody tr th:only-of-type {\n",
       "        vertical-align: middle;\n",
       "    }\n",
       "\n",
       "    .dataframe tbody tr th {\n",
       "        vertical-align: top;\n",
       "    }\n",
       "\n",
       "    .dataframe thead th {\n",
       "        text-align: right;\n",
       "    }\n",
       "</style>\n",
       "<table border=\"1\" class=\"dataframe\">\n",
       "  <thead>\n",
       "    <tr style=\"text-align: right;\">\n",
       "      <th></th>\n",
       "      <th>f0</th>\n",
       "      <th>f1</th>\n",
       "      <th>f2</th>\n",
       "      <th>product</th>\n",
       "    </tr>\n",
       "  </thead>\n",
       "  <tbody>\n",
       "    <tr>\n",
       "      <th>count</th>\n",
       "      <td>100000.000000</td>\n",
       "      <td>100000.000000</td>\n",
       "      <td>100000.000000</td>\n",
       "      <td>100000.000000</td>\n",
       "    </tr>\n",
       "    <tr>\n",
       "      <th>mean</th>\n",
       "      <td>0.500419</td>\n",
       "      <td>0.250143</td>\n",
       "      <td>2.502647</td>\n",
       "      <td>92.500000</td>\n",
       "    </tr>\n",
       "    <tr>\n",
       "      <th>std</th>\n",
       "      <td>0.871832</td>\n",
       "      <td>0.504433</td>\n",
       "      <td>3.248248</td>\n",
       "      <td>44.288691</td>\n",
       "    </tr>\n",
       "    <tr>\n",
       "      <th>min</th>\n",
       "      <td>-1.408605</td>\n",
       "      <td>-0.848218</td>\n",
       "      <td>-12.088328</td>\n",
       "      <td>0.000000</td>\n",
       "    </tr>\n",
       "    <tr>\n",
       "      <th>25%</th>\n",
       "      <td>-0.072580</td>\n",
       "      <td>-0.200881</td>\n",
       "      <td>0.287748</td>\n",
       "      <td>56.497507</td>\n",
       "    </tr>\n",
       "    <tr>\n",
       "      <th>50%</th>\n",
       "      <td>0.502360</td>\n",
       "      <td>0.250252</td>\n",
       "      <td>2.515969</td>\n",
       "      <td>91.849972</td>\n",
       "    </tr>\n",
       "    <tr>\n",
       "      <th>75%</th>\n",
       "      <td>1.073581</td>\n",
       "      <td>0.700646</td>\n",
       "      <td>4.715088</td>\n",
       "      <td>128.564089</td>\n",
       "    </tr>\n",
       "    <tr>\n",
       "      <th>max</th>\n",
       "      <td>2.362331</td>\n",
       "      <td>1.343769</td>\n",
       "      <td>16.003790</td>\n",
       "      <td>185.364347</td>\n",
       "    </tr>\n",
       "  </tbody>\n",
       "</table>\n",
       "</div>"
      ],
      "text/plain": [
       "                  f0             f1             f2        product\n",
       "count  100000.000000  100000.000000  100000.000000  100000.000000\n",
       "mean        0.500419       0.250143       2.502647      92.500000\n",
       "std         0.871832       0.504433       3.248248      44.288691\n",
       "min        -1.408605      -0.848218     -12.088328       0.000000\n",
       "25%        -0.072580      -0.200881       0.287748      56.497507\n",
       "50%         0.502360       0.250252       2.515969      91.849972\n",
       "75%         1.073581       0.700646       4.715088     128.564089\n",
       "max         2.362331       1.343769      16.003790     185.364347"
      ]
     },
     "metadata": {},
     "output_type": "display_data"
    },
    {
     "data": {
      "image/png": "[encoded data removed]",
      "text/plain": [
       "<Figure size 720x720 with 4 Axes>"
      ]
     },
     "metadata": {
      "needs_background": "light"
     },
     "output_type": "display_data"
    }
   ],
   "source": [
    "data_info(geo_0, 'Распределение данных geo_0')"
   ]
  },
  {
   "cell_type": "code",
   "execution_count": 5,
   "metadata": {},
   "outputs": [
    {
     "name": "stdout",
     "output_type": "stream",
     "text": [
      "<class 'pandas.core.frame.DataFrame'>\n",
      "RangeIndex: 100000 entries, 0 to 99999\n",
      "Data columns (total 5 columns):\n",
      " #   Column   Non-Null Count   Dtype  \n",
      "---  ------   --------------   -----  \n",
      " 0   id       100000 non-null  object \n",
      " 1   f0       100000 non-null  float64\n",
      " 2   f1       100000 non-null  float64\n",
      " 3   f2       100000 non-null  float64\n",
      " 4   product  100000 non-null  float64\n",
      "dtypes: float64(4), object(1)\n",
      "memory usage: 3.8+ MB\n",
      "\n",
      "Распределение данных geo_1\n"
     ]
    },
    {
     "data": {
      "text/html": [
       "<div>\n",
       "<style scoped>\n",
       "    .dataframe tbody tr th:only-of-type {\n",
       "        vertical-align: middle;\n",
       "    }\n",
       "\n",
       "    .dataframe tbody tr th {\n",
       "        vertical-align: top;\n",
       "    }\n",
       "\n",
       "    .dataframe thead th {\n",
       "        text-align: right;\n",
       "    }\n",
       "</style>\n",
       "<table border=\"1\" class=\"dataframe\">\n",
       "  <thead>\n",
       "    <tr style=\"text-align: right;\">\n",
       "      <th></th>\n",
       "      <th>id</th>\n",
       "      <th>f0</th>\n",
       "      <th>f1</th>\n",
       "      <th>f2</th>\n",
       "      <th>product</th>\n",
       "    </tr>\n",
       "  </thead>\n",
       "  <tbody>\n",
       "    <tr>\n",
       "      <th>0</th>\n",
       "      <td>kBEdx</td>\n",
       "      <td>-15.001348</td>\n",
       "      <td>-8.276000</td>\n",
       "      <td>-0.005876</td>\n",
       "      <td>3.179103</td>\n",
       "    </tr>\n",
       "    <tr>\n",
       "      <th>1</th>\n",
       "      <td>62mP7</td>\n",
       "      <td>14.272088</td>\n",
       "      <td>-3.475083</td>\n",
       "      <td>0.999183</td>\n",
       "      <td>26.953261</td>\n",
       "    </tr>\n",
       "    <tr>\n",
       "      <th>2</th>\n",
       "      <td>vyE1P</td>\n",
       "      <td>6.263187</td>\n",
       "      <td>-5.948386</td>\n",
       "      <td>5.001160</td>\n",
       "      <td>134.766305</td>\n",
       "    </tr>\n",
       "    <tr>\n",
       "      <th>3</th>\n",
       "      <td>KcrkZ</td>\n",
       "      <td>-13.081196</td>\n",
       "      <td>-11.506057</td>\n",
       "      <td>4.999415</td>\n",
       "      <td>137.945408</td>\n",
       "    </tr>\n",
       "    <tr>\n",
       "      <th>4</th>\n",
       "      <td>AHL4O</td>\n",
       "      <td>12.702195</td>\n",
       "      <td>-8.147433</td>\n",
       "      <td>5.004363</td>\n",
       "      <td>134.766305</td>\n",
       "    </tr>\n",
       "    <tr>\n",
       "      <th>5</th>\n",
       "      <td>HHckp</td>\n",
       "      <td>-3.327590</td>\n",
       "      <td>-2.205276</td>\n",
       "      <td>3.003647</td>\n",
       "      <td>84.038886</td>\n",
       "    </tr>\n",
       "    <tr>\n",
       "      <th>6</th>\n",
       "      <td>h5Ujo</td>\n",
       "      <td>-11.142655</td>\n",
       "      <td>-10.133399</td>\n",
       "      <td>4.002382</td>\n",
       "      <td>110.992147</td>\n",
       "    </tr>\n",
       "    <tr>\n",
       "      <th>7</th>\n",
       "      <td>muH9x</td>\n",
       "      <td>4.234715</td>\n",
       "      <td>-0.001354</td>\n",
       "      <td>2.004588</td>\n",
       "      <td>53.906522</td>\n",
       "    </tr>\n",
       "    <tr>\n",
       "      <th>8</th>\n",
       "      <td>YiRkx</td>\n",
       "      <td>13.355129</td>\n",
       "      <td>-0.332068</td>\n",
       "      <td>4.998647</td>\n",
       "      <td>134.766305</td>\n",
       "    </tr>\n",
       "    <tr>\n",
       "      <th>9</th>\n",
       "      <td>jG6Gi</td>\n",
       "      <td>1.069227</td>\n",
       "      <td>-11.025667</td>\n",
       "      <td>4.997844</td>\n",
       "      <td>137.945408</td>\n",
       "    </tr>\n",
       "  </tbody>\n",
       "</table>\n",
       "</div>"
      ],
      "text/plain": [
       "      id         f0         f1        f2     product\n",
       "0  kBEdx -15.001348  -8.276000 -0.005876    3.179103\n",
       "1  62mP7  14.272088  -3.475083  0.999183   26.953261\n",
       "2  vyE1P   6.263187  -5.948386  5.001160  134.766305\n",
       "3  KcrkZ -13.081196 -11.506057  4.999415  137.945408\n",
       "4  AHL4O  12.702195  -8.147433  5.004363  134.766305\n",
       "5  HHckp  -3.327590  -2.205276  3.003647   84.038886\n",
       "6  h5Ujo -11.142655 -10.133399  4.002382  110.992147\n",
       "7  muH9x   4.234715  -0.001354  2.004588   53.906522\n",
       "8  YiRkx  13.355129  -0.332068  4.998647  134.766305\n",
       "9  jG6Gi   1.069227 -11.025667  4.997844  137.945408"
      ]
     },
     "metadata": {},
     "output_type": "display_data"
    },
    {
     "data": {
      "text/html": [
       "<div>\n",
       "<style scoped>\n",
       "    .dataframe tbody tr th:only-of-type {\n",
       "        vertical-align: middle;\n",
       "    }\n",
       "\n",
       "    .dataframe tbody tr th {\n",
       "        vertical-align: top;\n",
       "    }\n",
       "\n",
       "    .dataframe thead th {\n",
       "        text-align: right;\n",
       "    }\n",
       "</style>\n",
       "<table border=\"1\" class=\"dataframe\">\n",
       "  <thead>\n",
       "    <tr style=\"text-align: right;\">\n",
       "      <th></th>\n",
       "      <th>f0</th>\n",
       "      <th>f1</th>\n",
       "      <th>f2</th>\n",
       "      <th>product</th>\n",
       "    </tr>\n",
       "  </thead>\n",
       "  <tbody>\n",
       "    <tr>\n",
       "      <th>count</th>\n",
       "      <td>100000.000000</td>\n",
       "      <td>100000.000000</td>\n",
       "      <td>100000.000000</td>\n",
       "      <td>100000.000000</td>\n",
       "    </tr>\n",
       "    <tr>\n",
       "      <th>mean</th>\n",
       "      <td>1.141296</td>\n",
       "      <td>-4.796579</td>\n",
       "      <td>2.494541</td>\n",
       "      <td>68.825000</td>\n",
       "    </tr>\n",
       "    <tr>\n",
       "      <th>std</th>\n",
       "      <td>8.965932</td>\n",
       "      <td>5.119872</td>\n",
       "      <td>1.703572</td>\n",
       "      <td>45.944423</td>\n",
       "    </tr>\n",
       "    <tr>\n",
       "      <th>min</th>\n",
       "      <td>-31.609576</td>\n",
       "      <td>-26.358598</td>\n",
       "      <td>-0.018144</td>\n",
       "      <td>0.000000</td>\n",
       "    </tr>\n",
       "    <tr>\n",
       "      <th>25%</th>\n",
       "      <td>-6.298551</td>\n",
       "      <td>-8.267985</td>\n",
       "      <td>1.000021</td>\n",
       "      <td>26.953261</td>\n",
       "    </tr>\n",
       "    <tr>\n",
       "      <th>50%</th>\n",
       "      <td>1.153055</td>\n",
       "      <td>-4.813172</td>\n",
       "      <td>2.011479</td>\n",
       "      <td>57.085625</td>\n",
       "    </tr>\n",
       "    <tr>\n",
       "      <th>75%</th>\n",
       "      <td>8.621015</td>\n",
       "      <td>-1.332816</td>\n",
       "      <td>3.999904</td>\n",
       "      <td>107.813044</td>\n",
       "    </tr>\n",
       "    <tr>\n",
       "      <th>max</th>\n",
       "      <td>29.421755</td>\n",
       "      <td>18.734063</td>\n",
       "      <td>5.019721</td>\n",
       "      <td>137.945408</td>\n",
       "    </tr>\n",
       "  </tbody>\n",
       "</table>\n",
       "</div>"
      ],
      "text/plain": [
       "                  f0             f1             f2        product\n",
       "count  100000.000000  100000.000000  100000.000000  100000.000000\n",
       "mean        1.141296      -4.796579       2.494541      68.825000\n",
       "std         8.965932       5.119872       1.703572      45.944423\n",
       "min       -31.609576     -26.358598      -0.018144       0.000000\n",
       "25%        -6.298551      -8.267985       1.000021      26.953261\n",
       "50%         1.153055      -4.813172       2.011479      57.085625\n",
       "75%         8.621015      -1.332816       3.999904     107.813044\n",
       "max        29.421755      18.734063       5.019721     137.945408"
      ]
     },
     "metadata": {},
     "output_type": "display_data"
    },
    {
     "data": {
      "image/png": "[encoded data removed]",
      "text/plain": [
       "<Figure size 720x720 with 4 Axes>"
      ]
     },
     "metadata": {
      "needs_background": "light"
     },
     "output_type": "display_data"
    }
   ],
   "source": [
    "data_info(geo_1, 'Распределение данных geo_1')"
   ]
  },
  {
   "cell_type": "code",
   "execution_count": 6,
   "metadata": {},
   "outputs": [
    {
     "name": "stdout",
     "output_type": "stream",
     "text": [
      "<class 'pandas.core.frame.DataFrame'>\n",
      "RangeIndex: 100000 entries, 0 to 99999\n",
      "Data columns (total 5 columns):\n",
      " #   Column   Non-Null Count   Dtype  \n",
      "---  ------   --------------   -----  \n",
      " 0   id       100000 non-null  object \n",
      " 1   f0       100000 non-null  float64\n",
      " 2   f1       100000 non-null  float64\n",
      " 3   f2       100000 non-null  float64\n",
      " 4   product  100000 non-null  float64\n",
      "dtypes: float64(4), object(1)\n",
      "memory usage: 3.8+ MB\n",
      "\n",
      "Распределение данных geo_2\n"
     ]
    },
    {
     "data": {
      "text/html": [
       "<div>\n",
       "<style scoped>\n",
       "    .dataframe tbody tr th:only-of-type {\n",
       "        vertical-align: middle;\n",
       "    }\n",
       "\n",
       "    .dataframe tbody tr th {\n",
       "        vertical-align: top;\n",
       "    }\n",
       "\n",
       "    .dataframe thead th {\n",
       "        text-align: right;\n",
       "    }\n",
       "</style>\n",
       "<table border=\"1\" class=\"dataframe\">\n",
       "  <thead>\n",
       "    <tr style=\"text-align: right;\">\n",
       "      <th></th>\n",
       "      <th>id</th>\n",
       "      <th>f0</th>\n",
       "      <th>f1</th>\n",
       "      <th>f2</th>\n",
       "      <th>product</th>\n",
       "    </tr>\n",
       "  </thead>\n",
       "  <tbody>\n",
       "    <tr>\n",
       "      <th>0</th>\n",
       "      <td>fwXo0</td>\n",
       "      <td>-1.146987</td>\n",
       "      <td>0.963328</td>\n",
       "      <td>-0.828965</td>\n",
       "      <td>27.758673</td>\n",
       "    </tr>\n",
       "    <tr>\n",
       "      <th>1</th>\n",
       "      <td>WJtFt</td>\n",
       "      <td>0.262778</td>\n",
       "      <td>0.269839</td>\n",
       "      <td>-2.530187</td>\n",
       "      <td>56.069697</td>\n",
       "    </tr>\n",
       "    <tr>\n",
       "      <th>2</th>\n",
       "      <td>ovLUW</td>\n",
       "      <td>0.194587</td>\n",
       "      <td>0.289035</td>\n",
       "      <td>-5.586433</td>\n",
       "      <td>62.871910</td>\n",
       "    </tr>\n",
       "    <tr>\n",
       "      <th>3</th>\n",
       "      <td>q6cA6</td>\n",
       "      <td>2.236060</td>\n",
       "      <td>-0.553760</td>\n",
       "      <td>0.930038</td>\n",
       "      <td>114.572842</td>\n",
       "    </tr>\n",
       "    <tr>\n",
       "      <th>4</th>\n",
       "      <td>WPMUX</td>\n",
       "      <td>-0.515993</td>\n",
       "      <td>1.716266</td>\n",
       "      <td>5.899011</td>\n",
       "      <td>149.600746</td>\n",
       "    </tr>\n",
       "    <tr>\n",
       "      <th>5</th>\n",
       "      <td>LzZXx</td>\n",
       "      <td>-0.758092</td>\n",
       "      <td>0.710691</td>\n",
       "      <td>2.585887</td>\n",
       "      <td>90.222465</td>\n",
       "    </tr>\n",
       "    <tr>\n",
       "      <th>6</th>\n",
       "      <td>WBHRv</td>\n",
       "      <td>-0.574891</td>\n",
       "      <td>0.317727</td>\n",
       "      <td>1.773745</td>\n",
       "      <td>45.641478</td>\n",
       "    </tr>\n",
       "    <tr>\n",
       "      <th>7</th>\n",
       "      <td>XO8fn</td>\n",
       "      <td>-1.906649</td>\n",
       "      <td>-2.458350</td>\n",
       "      <td>-0.177097</td>\n",
       "      <td>72.480640</td>\n",
       "    </tr>\n",
       "    <tr>\n",
       "      <th>8</th>\n",
       "      <td>ybmQ5</td>\n",
       "      <td>1.776292</td>\n",
       "      <td>-0.279356</td>\n",
       "      <td>3.004156</td>\n",
       "      <td>106.616832</td>\n",
       "    </tr>\n",
       "    <tr>\n",
       "      <th>9</th>\n",
       "      <td>OilcN</td>\n",
       "      <td>-1.214452</td>\n",
       "      <td>-0.439314</td>\n",
       "      <td>5.922514</td>\n",
       "      <td>52.954532</td>\n",
       "    </tr>\n",
       "  </tbody>\n",
       "</table>\n",
       "</div>"
      ],
      "text/plain": [
       "      id        f0        f1        f2     product\n",
       "0  fwXo0 -1.146987  0.963328 -0.828965   27.758673\n",
       "1  WJtFt  0.262778  0.269839 -2.530187   56.069697\n",
       "2  ovLUW  0.194587  0.289035 -5.586433   62.871910\n",
       "3  q6cA6  2.236060 -0.553760  0.930038  114.572842\n",
       "4  WPMUX -0.515993  1.716266  5.899011  149.600746\n",
       "5  LzZXx -0.758092  0.710691  2.585887   90.222465\n",
       "6  WBHRv -0.574891  0.317727  1.773745   45.641478\n",
       "7  XO8fn -1.906649 -2.458350 -0.177097   72.480640\n",
       "8  ybmQ5  1.776292 -0.279356  3.004156  106.616832\n",
       "9  OilcN -1.214452 -0.439314  5.922514   52.954532"
      ]
     },
     "metadata": {},
     "output_type": "display_data"
    },
    {
     "data": {
      "text/html": [
       "<div>\n",
       "<style scoped>\n",
       "    .dataframe tbody tr th:only-of-type {\n",
       "        vertical-align: middle;\n",
       "    }\n",
       "\n",
       "    .dataframe tbody tr th {\n",
       "        vertical-align: top;\n",
       "    }\n",
       "\n",
       "    .dataframe thead th {\n",
       "        text-align: right;\n",
       "    }\n",
       "</style>\n",
       "<table border=\"1\" class=\"dataframe\">\n",
       "  <thead>\n",
       "    <tr style=\"text-align: right;\">\n",
       "      <th></th>\n",
       "      <th>f0</th>\n",
       "      <th>f1</th>\n",
       "      <th>f2</th>\n",
       "      <th>product</th>\n",
       "    </tr>\n",
       "  </thead>\n",
       "  <tbody>\n",
       "    <tr>\n",
       "      <th>count</th>\n",
       "      <td>100000.000000</td>\n",
       "      <td>100000.000000</td>\n",
       "      <td>100000.000000</td>\n",
       "      <td>100000.000000</td>\n",
       "    </tr>\n",
       "    <tr>\n",
       "      <th>mean</th>\n",
       "      <td>0.002023</td>\n",
       "      <td>-0.002081</td>\n",
       "      <td>2.495128</td>\n",
       "      <td>95.000000</td>\n",
       "    </tr>\n",
       "    <tr>\n",
       "      <th>std</th>\n",
       "      <td>1.732045</td>\n",
       "      <td>1.730417</td>\n",
       "      <td>3.473445</td>\n",
       "      <td>44.749921</td>\n",
       "    </tr>\n",
       "    <tr>\n",
       "      <th>min</th>\n",
       "      <td>-8.760004</td>\n",
       "      <td>-7.084020</td>\n",
       "      <td>-11.970335</td>\n",
       "      <td>0.000000</td>\n",
       "    </tr>\n",
       "    <tr>\n",
       "      <th>25%</th>\n",
       "      <td>-1.162288</td>\n",
       "      <td>-1.174820</td>\n",
       "      <td>0.130359</td>\n",
       "      <td>59.450441</td>\n",
       "    </tr>\n",
       "    <tr>\n",
       "      <th>50%</th>\n",
       "      <td>0.009424</td>\n",
       "      <td>-0.009482</td>\n",
       "      <td>2.484236</td>\n",
       "      <td>94.925613</td>\n",
       "    </tr>\n",
       "    <tr>\n",
       "      <th>75%</th>\n",
       "      <td>1.158535</td>\n",
       "      <td>1.163678</td>\n",
       "      <td>4.858794</td>\n",
       "      <td>130.595027</td>\n",
       "    </tr>\n",
       "    <tr>\n",
       "      <th>max</th>\n",
       "      <td>7.238262</td>\n",
       "      <td>7.844801</td>\n",
       "      <td>16.739402</td>\n",
       "      <td>190.029838</td>\n",
       "    </tr>\n",
       "  </tbody>\n",
       "</table>\n",
       "</div>"
      ],
      "text/plain": [
       "                  f0             f1             f2        product\n",
       "count  100000.000000  100000.000000  100000.000000  100000.000000\n",
       "mean        0.002023      -0.002081       2.495128      95.000000\n",
       "std         1.732045       1.730417       3.473445      44.749921\n",
       "min        -8.760004      -7.084020     -11.970335       0.000000\n",
       "25%        -1.162288      -1.174820       0.130359      59.450441\n",
       "50%         0.009424      -0.009482       2.484236      94.925613\n",
       "75%         1.158535       1.163678       4.858794     130.595027\n",
       "max         7.238262       7.844801      16.739402     190.029838"
      ]
     },
     "metadata": {},
     "output_type": "display_data"
    },
    {
     "data": {
      "image/png": "[encoded data removed]",
      "text/plain": [
       "<Figure size 720x720 with 4 Axes>"
      ]
     },
     "metadata": {
      "needs_background": "light"
     },
     "output_type": "display_data"
    }
   ],
   "source": [
    "data_info(geo_2, 'Распределение данных geo_2')"
   ]
  },
  {
   "cell_type": "code",
   "execution_count": 7,
   "metadata": {},
   "outputs": [],
   "source": [
    "#  Удалим лишние столбцы\n",
    "\n",
    "def drop_column(data):\n",
    "    data = data.drop('id', axis= 1)\n",
    "    print('Таблица корреляции признаков')\n",
    "    display(data.corr())\n",
    "    return data"
   ]
  },
  {
   "cell_type": "code",
   "execution_count": 8,
   "metadata": {},
   "outputs": [
    {
     "name": "stdout",
     "output_type": "stream",
     "text": [
      "Таблица корреляции признаков\n"
     ]
    },
    {
     "data": {
      "text/html": [
       "<div>\n",
       "<style scoped>\n",
       "    .dataframe tbody tr th:only-of-type {\n",
       "        vertical-align: middle;\n",
       "    }\n",
       "\n",
       "    .dataframe tbody tr th {\n",
       "        vertical-align: top;\n",
       "    }\n",
       "\n",
       "    .dataframe thead th {\n",
       "        text-align: right;\n",
       "    }\n",
       "</style>\n",
       "<table border=\"1\" class=\"dataframe\">\n",
       "  <thead>\n",
       "    <tr style=\"text-align: right;\">\n",
       "      <th></th>\n",
       "      <th>f0</th>\n",
       "      <th>f1</th>\n",
       "      <th>f2</th>\n",
       "      <th>product</th>\n",
       "    </tr>\n",
       "  </thead>\n",
       "  <tbody>\n",
       "    <tr>\n",
       "      <th>f0</th>\n",
       "      <td>1.000000</td>\n",
       "      <td>-0.440723</td>\n",
       "      <td>-0.003153</td>\n",
       "      <td>0.143536</td>\n",
       "    </tr>\n",
       "    <tr>\n",
       "      <th>f1</th>\n",
       "      <td>-0.440723</td>\n",
       "      <td>1.000000</td>\n",
       "      <td>0.001724</td>\n",
       "      <td>-0.192356</td>\n",
       "    </tr>\n",
       "    <tr>\n",
       "      <th>f2</th>\n",
       "      <td>-0.003153</td>\n",
       "      <td>0.001724</td>\n",
       "      <td>1.000000</td>\n",
       "      <td>0.483663</td>\n",
       "    </tr>\n",
       "    <tr>\n",
       "      <th>product</th>\n",
       "      <td>0.143536</td>\n",
       "      <td>-0.192356</td>\n",
       "      <td>0.483663</td>\n",
       "      <td>1.000000</td>\n",
       "    </tr>\n",
       "  </tbody>\n",
       "</table>\n",
       "</div>"
      ],
      "text/plain": [
       "               f0        f1        f2   product\n",
       "f0       1.000000 -0.440723 -0.003153  0.143536\n",
       "f1      -0.440723  1.000000  0.001724 -0.192356\n",
       "f2      -0.003153  0.001724  1.000000  0.483663\n",
       "product  0.143536 -0.192356  0.483663  1.000000"
      ]
     },
     "metadata": {},
     "output_type": "display_data"
    },
    {
     "data": {
      "text/html": [
       "<div>\n",
       "<style scoped>\n",
       "    .dataframe tbody tr th:only-of-type {\n",
       "        vertical-align: middle;\n",
       "    }\n",
       "\n",
       "    .dataframe tbody tr th {\n",
       "        vertical-align: top;\n",
       "    }\n",
       "\n",
       "    .dataframe thead th {\n",
       "        text-align: right;\n",
       "    }\n",
       "</style>\n",
       "<table border=\"1\" class=\"dataframe\">\n",
       "  <thead>\n",
       "    <tr style=\"text-align: right;\">\n",
       "      <th></th>\n",
       "      <th>f0</th>\n",
       "      <th>f1</th>\n",
       "      <th>f2</th>\n",
       "      <th>product</th>\n",
       "    </tr>\n",
       "  </thead>\n",
       "  <tbody>\n",
       "    <tr>\n",
       "      <th>0</th>\n",
       "      <td>0.705745</td>\n",
       "      <td>-0.497823</td>\n",
       "      <td>1.221170</td>\n",
       "      <td>105.280062</td>\n",
       "    </tr>\n",
       "    <tr>\n",
       "      <th>1</th>\n",
       "      <td>1.334711</td>\n",
       "      <td>-0.340164</td>\n",
       "      <td>4.365080</td>\n",
       "      <td>73.037750</td>\n",
       "    </tr>\n",
       "    <tr>\n",
       "      <th>2</th>\n",
       "      <td>1.022732</td>\n",
       "      <td>0.151990</td>\n",
       "      <td>1.419926</td>\n",
       "      <td>85.265647</td>\n",
       "    </tr>\n",
       "    <tr>\n",
       "      <th>3</th>\n",
       "      <td>-0.032172</td>\n",
       "      <td>0.139033</td>\n",
       "      <td>2.978566</td>\n",
       "      <td>168.620776</td>\n",
       "    </tr>\n",
       "    <tr>\n",
       "      <th>4</th>\n",
       "      <td>1.988431</td>\n",
       "      <td>0.155413</td>\n",
       "      <td>4.751769</td>\n",
       "      <td>154.036647</td>\n",
       "    </tr>\n",
       "    <tr>\n",
       "      <th>5</th>\n",
       "      <td>0.969570</td>\n",
       "      <td>0.489775</td>\n",
       "      <td>-0.735383</td>\n",
       "      <td>64.741541</td>\n",
       "    </tr>\n",
       "    <tr>\n",
       "      <th>6</th>\n",
       "      <td>0.645075</td>\n",
       "      <td>0.530656</td>\n",
       "      <td>1.780266</td>\n",
       "      <td>49.055285</td>\n",
       "    </tr>\n",
       "    <tr>\n",
       "      <th>7</th>\n",
       "      <td>-0.400648</td>\n",
       "      <td>0.808337</td>\n",
       "      <td>-5.624670</td>\n",
       "      <td>72.943292</td>\n",
       "    </tr>\n",
       "    <tr>\n",
       "      <th>8</th>\n",
       "      <td>0.643105</td>\n",
       "      <td>-0.551583</td>\n",
       "      <td>2.372141</td>\n",
       "      <td>113.356160</td>\n",
       "    </tr>\n",
       "    <tr>\n",
       "      <th>9</th>\n",
       "      <td>2.173381</td>\n",
       "      <td>0.563698</td>\n",
       "      <td>9.441852</td>\n",
       "      <td>127.910945</td>\n",
       "    </tr>\n",
       "  </tbody>\n",
       "</table>\n",
       "</div>"
      ],
      "text/plain": [
       "         f0        f1        f2     product\n",
       "0  0.705745 -0.497823  1.221170  105.280062\n",
       "1  1.334711 -0.340164  4.365080   73.037750\n",
       "2  1.022732  0.151990  1.419926   85.265647\n",
       "3 -0.032172  0.139033  2.978566  168.620776\n",
       "4  1.988431  0.155413  4.751769  154.036647\n",
       "5  0.969570  0.489775 -0.735383   64.741541\n",
       "6  0.645075  0.530656  1.780266   49.055285\n",
       "7 -0.400648  0.808337 -5.624670   72.943292\n",
       "8  0.643105 -0.551583  2.372141  113.356160\n",
       "9  2.173381  0.563698  9.441852  127.910945"
      ]
     },
     "metadata": {},
     "output_type": "display_data"
    },
    {
     "data": {
      "text/plain": [
       "0"
      ]
     },
     "execution_count": 8,
     "metadata": {},
     "output_type": "execute_result"
    }
   ],
   "source": [
    "geo_0 = drop_column(geo_0)\n",
    "display(geo_0.head(10))\n",
    "geo_0.duplicated().sum()"
   ]
  },
  {
   "cell_type": "code",
   "execution_count": 9,
   "metadata": {},
   "outputs": [
    {
     "name": "stdout",
     "output_type": "stream",
     "text": [
      "Таблица корреляции признаков\n"
     ]
    },
    {
     "data": {
      "text/html": [
       "<div>\n",
       "<style scoped>\n",
       "    .dataframe tbody tr th:only-of-type {\n",
       "        vertical-align: middle;\n",
       "    }\n",
       "\n",
       "    .dataframe tbody tr th {\n",
       "        vertical-align: top;\n",
       "    }\n",
       "\n",
       "    .dataframe thead th {\n",
       "        text-align: right;\n",
       "    }\n",
       "</style>\n",
       "<table border=\"1\" class=\"dataframe\">\n",
       "  <thead>\n",
       "    <tr style=\"text-align: right;\">\n",
       "      <th></th>\n",
       "      <th>f0</th>\n",
       "      <th>f1</th>\n",
       "      <th>f2</th>\n",
       "      <th>product</th>\n",
       "    </tr>\n",
       "  </thead>\n",
       "  <tbody>\n",
       "    <tr>\n",
       "      <th>f0</th>\n",
       "      <td>1.000000</td>\n",
       "      <td>0.182287</td>\n",
       "      <td>-0.001777</td>\n",
       "      <td>-0.030491</td>\n",
       "    </tr>\n",
       "    <tr>\n",
       "      <th>f1</th>\n",
       "      <td>0.182287</td>\n",
       "      <td>1.000000</td>\n",
       "      <td>-0.002595</td>\n",
       "      <td>-0.010155</td>\n",
       "    </tr>\n",
       "    <tr>\n",
       "      <th>f2</th>\n",
       "      <td>-0.001777</td>\n",
       "      <td>-0.002595</td>\n",
       "      <td>1.000000</td>\n",
       "      <td>0.999397</td>\n",
       "    </tr>\n",
       "    <tr>\n",
       "      <th>product</th>\n",
       "      <td>-0.030491</td>\n",
       "      <td>-0.010155</td>\n",
       "      <td>0.999397</td>\n",
       "      <td>1.000000</td>\n",
       "    </tr>\n",
       "  </tbody>\n",
       "</table>\n",
       "</div>"
      ],
      "text/plain": [
       "               f0        f1        f2   product\n",
       "f0       1.000000  0.182287 -0.001777 -0.030491\n",
       "f1       0.182287  1.000000 -0.002595 -0.010155\n",
       "f2      -0.001777 -0.002595  1.000000  0.999397\n",
       "product -0.030491 -0.010155  0.999397  1.000000"
      ]
     },
     "metadata": {},
     "output_type": "display_data"
    },
    {
     "data": {
      "text/html": [
       "<div>\n",
       "<style scoped>\n",
       "    .dataframe tbody tr th:only-of-type {\n",
       "        vertical-align: middle;\n",
       "    }\n",
       "\n",
       "    .dataframe tbody tr th {\n",
       "        vertical-align: top;\n",
       "    }\n",
       "\n",
       "    .dataframe thead th {\n",
       "        text-align: right;\n",
       "    }\n",
       "</style>\n",
       "<table border=\"1\" class=\"dataframe\">\n",
       "  <thead>\n",
       "    <tr style=\"text-align: right;\">\n",
       "      <th></th>\n",
       "      <th>f0</th>\n",
       "      <th>f1</th>\n",
       "      <th>f2</th>\n",
       "      <th>product</th>\n",
       "    </tr>\n",
       "  </thead>\n",
       "  <tbody>\n",
       "    <tr>\n",
       "      <th>0</th>\n",
       "      <td>-15.001348</td>\n",
       "      <td>-8.276000</td>\n",
       "      <td>-0.005876</td>\n",
       "      <td>3.179103</td>\n",
       "    </tr>\n",
       "    <tr>\n",
       "      <th>1</th>\n",
       "      <td>14.272088</td>\n",
       "      <td>-3.475083</td>\n",
       "      <td>0.999183</td>\n",
       "      <td>26.953261</td>\n",
       "    </tr>\n",
       "    <tr>\n",
       "      <th>2</th>\n",
       "      <td>6.263187</td>\n",
       "      <td>-5.948386</td>\n",
       "      <td>5.001160</td>\n",
       "      <td>134.766305</td>\n",
       "    </tr>\n",
       "    <tr>\n",
       "      <th>3</th>\n",
       "      <td>-13.081196</td>\n",
       "      <td>-11.506057</td>\n",
       "      <td>4.999415</td>\n",
       "      <td>137.945408</td>\n",
       "    </tr>\n",
       "    <tr>\n",
       "      <th>4</th>\n",
       "      <td>12.702195</td>\n",
       "      <td>-8.147433</td>\n",
       "      <td>5.004363</td>\n",
       "      <td>134.766305</td>\n",
       "    </tr>\n",
       "    <tr>\n",
       "      <th>5</th>\n",
       "      <td>-3.327590</td>\n",
       "      <td>-2.205276</td>\n",
       "      <td>3.003647</td>\n",
       "      <td>84.038886</td>\n",
       "    </tr>\n",
       "    <tr>\n",
       "      <th>6</th>\n",
       "      <td>-11.142655</td>\n",
       "      <td>-10.133399</td>\n",
       "      <td>4.002382</td>\n",
       "      <td>110.992147</td>\n",
       "    </tr>\n",
       "    <tr>\n",
       "      <th>7</th>\n",
       "      <td>4.234715</td>\n",
       "      <td>-0.001354</td>\n",
       "      <td>2.004588</td>\n",
       "      <td>53.906522</td>\n",
       "    </tr>\n",
       "    <tr>\n",
       "      <th>8</th>\n",
       "      <td>13.355129</td>\n",
       "      <td>-0.332068</td>\n",
       "      <td>4.998647</td>\n",
       "      <td>134.766305</td>\n",
       "    </tr>\n",
       "    <tr>\n",
       "      <th>9</th>\n",
       "      <td>1.069227</td>\n",
       "      <td>-11.025667</td>\n",
       "      <td>4.997844</td>\n",
       "      <td>137.945408</td>\n",
       "    </tr>\n",
       "  </tbody>\n",
       "</table>\n",
       "</div>"
      ],
      "text/plain": [
       "          f0         f1        f2     product\n",
       "0 -15.001348  -8.276000 -0.005876    3.179103\n",
       "1  14.272088  -3.475083  0.999183   26.953261\n",
       "2   6.263187  -5.948386  5.001160  134.766305\n",
       "3 -13.081196 -11.506057  4.999415  137.945408\n",
       "4  12.702195  -8.147433  5.004363  134.766305\n",
       "5  -3.327590  -2.205276  3.003647   84.038886\n",
       "6 -11.142655 -10.133399  4.002382  110.992147\n",
       "7   4.234715  -0.001354  2.004588   53.906522\n",
       "8  13.355129  -0.332068  4.998647  134.766305\n",
       "9   1.069227 -11.025667  4.997844  137.945408"
      ]
     },
     "metadata": {},
     "output_type": "display_data"
    },
    {
     "data": {
      "text/plain": [
       "0"
      ]
     },
     "execution_count": 9,
     "metadata": {},
     "output_type": "execute_result"
    }
   ],
   "source": [
    "geo_1 = drop_column(geo_1)\n",
    "display(geo_1.head(10))\n",
    "geo_1.duplicated().sum()"
   ]
  },
  {
   "cell_type": "code",
   "execution_count": 10,
   "metadata": {},
   "outputs": [
    {
     "name": "stdout",
     "output_type": "stream",
     "text": [
      "Таблица корреляции признаков\n"
     ]
    },
    {
     "data": {
      "text/html": [
       "<div>\n",
       "<style scoped>\n",
       "    .dataframe tbody tr th:only-of-type {\n",
       "        vertical-align: middle;\n",
       "    }\n",
       "\n",
       "    .dataframe tbody tr th {\n",
       "        vertical-align: top;\n",
       "    }\n",
       "\n",
       "    .dataframe thead th {\n",
       "        text-align: right;\n",
       "    }\n",
       "</style>\n",
       "<table border=\"1\" class=\"dataframe\">\n",
       "  <thead>\n",
       "    <tr style=\"text-align: right;\">\n",
       "      <th></th>\n",
       "      <th>f0</th>\n",
       "      <th>f1</th>\n",
       "      <th>f2</th>\n",
       "      <th>product</th>\n",
       "    </tr>\n",
       "  </thead>\n",
       "  <tbody>\n",
       "    <tr>\n",
       "      <th>f0</th>\n",
       "      <td>1.000000</td>\n",
       "      <td>0.000528</td>\n",
       "      <td>-0.000448</td>\n",
       "      <td>-0.001987</td>\n",
       "    </tr>\n",
       "    <tr>\n",
       "      <th>f1</th>\n",
       "      <td>0.000528</td>\n",
       "      <td>1.000000</td>\n",
       "      <td>0.000779</td>\n",
       "      <td>-0.001012</td>\n",
       "    </tr>\n",
       "    <tr>\n",
       "      <th>f2</th>\n",
       "      <td>-0.000448</td>\n",
       "      <td>0.000779</td>\n",
       "      <td>1.000000</td>\n",
       "      <td>0.445871</td>\n",
       "    </tr>\n",
       "    <tr>\n",
       "      <th>product</th>\n",
       "      <td>-0.001987</td>\n",
       "      <td>-0.001012</td>\n",
       "      <td>0.445871</td>\n",
       "      <td>1.000000</td>\n",
       "    </tr>\n",
       "  </tbody>\n",
       "</table>\n",
       "</div>"
      ],
      "text/plain": [
       "               f0        f1        f2   product\n",
       "f0       1.000000  0.000528 -0.000448 -0.001987\n",
       "f1       0.000528  1.000000  0.000779 -0.001012\n",
       "f2      -0.000448  0.000779  1.000000  0.445871\n",
       "product -0.001987 -0.001012  0.445871  1.000000"
      ]
     },
     "metadata": {},
     "output_type": "display_data"
    },
    {
     "data": {
      "text/html": [
       "<div>\n",
       "<style scoped>\n",
       "    .dataframe tbody tr th:only-of-type {\n",
       "        vertical-align: middle;\n",
       "    }\n",
       "\n",
       "    .dataframe tbody tr th {\n",
       "        vertical-align: top;\n",
       "    }\n",
       "\n",
       "    .dataframe thead th {\n",
       "        text-align: right;\n",
       "    }\n",
       "</style>\n",
       "<table border=\"1\" class=\"dataframe\">\n",
       "  <thead>\n",
       "    <tr style=\"text-align: right;\">\n",
       "      <th></th>\n",
       "      <th>f0</th>\n",
       "      <th>f1</th>\n",
       "      <th>f2</th>\n",
       "      <th>product</th>\n",
       "    </tr>\n",
       "  </thead>\n",
       "  <tbody>\n",
       "    <tr>\n",
       "      <th>0</th>\n",
       "      <td>-1.146987</td>\n",
       "      <td>0.963328</td>\n",
       "      <td>-0.828965</td>\n",
       "      <td>27.758673</td>\n",
       "    </tr>\n",
       "    <tr>\n",
       "      <th>1</th>\n",
       "      <td>0.262778</td>\n",
       "      <td>0.269839</td>\n",
       "      <td>-2.530187</td>\n",
       "      <td>56.069697</td>\n",
       "    </tr>\n",
       "    <tr>\n",
       "      <th>2</th>\n",
       "      <td>0.194587</td>\n",
       "      <td>0.289035</td>\n",
       "      <td>-5.586433</td>\n",
       "      <td>62.871910</td>\n",
       "    </tr>\n",
       "    <tr>\n",
       "      <th>3</th>\n",
       "      <td>2.236060</td>\n",
       "      <td>-0.553760</td>\n",
       "      <td>0.930038</td>\n",
       "      <td>114.572842</td>\n",
       "    </tr>\n",
       "    <tr>\n",
       "      <th>4</th>\n",
       "      <td>-0.515993</td>\n",
       "      <td>1.716266</td>\n",
       "      <td>5.899011</td>\n",
       "      <td>149.600746</td>\n",
       "    </tr>\n",
       "    <tr>\n",
       "      <th>5</th>\n",
       "      <td>-0.758092</td>\n",
       "      <td>0.710691</td>\n",
       "      <td>2.585887</td>\n",
       "      <td>90.222465</td>\n",
       "    </tr>\n",
       "    <tr>\n",
       "      <th>6</th>\n",
       "      <td>-0.574891</td>\n",
       "      <td>0.317727</td>\n",
       "      <td>1.773745</td>\n",
       "      <td>45.641478</td>\n",
       "    </tr>\n",
       "    <tr>\n",
       "      <th>7</th>\n",
       "      <td>-1.906649</td>\n",
       "      <td>-2.458350</td>\n",
       "      <td>-0.177097</td>\n",
       "      <td>72.480640</td>\n",
       "    </tr>\n",
       "    <tr>\n",
       "      <th>8</th>\n",
       "      <td>1.776292</td>\n",
       "      <td>-0.279356</td>\n",
       "      <td>3.004156</td>\n",
       "      <td>106.616832</td>\n",
       "    </tr>\n",
       "    <tr>\n",
       "      <th>9</th>\n",
       "      <td>-1.214452</td>\n",
       "      <td>-0.439314</td>\n",
       "      <td>5.922514</td>\n",
       "      <td>52.954532</td>\n",
       "    </tr>\n",
       "  </tbody>\n",
       "</table>\n",
       "</div>"
      ],
      "text/plain": [
       "         f0        f1        f2     product\n",
       "0 -1.146987  0.963328 -0.828965   27.758673\n",
       "1  0.262778  0.269839 -2.530187   56.069697\n",
       "2  0.194587  0.289035 -5.586433   62.871910\n",
       "3  2.236060 -0.553760  0.930038  114.572842\n",
       "4 -0.515993  1.716266  5.899011  149.600746\n",
       "5 -0.758092  0.710691  2.585887   90.222465\n",
       "6 -0.574891  0.317727  1.773745   45.641478\n",
       "7 -1.906649 -2.458350 -0.177097   72.480640\n",
       "8  1.776292 -0.279356  3.004156  106.616832\n",
       "9 -1.214452 -0.439314  5.922514   52.954532"
      ]
     },
     "metadata": {},
     "output_type": "display_data"
    },
    {
     "data": {
      "text/plain": [
       "0"
      ]
     },
     "execution_count": 10,
     "metadata": {},
     "output_type": "execute_result"
    }
   ],
   "source": [
    "geo_2 = drop_column(geo_2)\n",
    "display(geo_2.head(10))\n",
    "geo_2.duplicated().sum()"
   ]
  },
  {
   "cell_type": "markdown",
   "metadata": {},
   "source": [
    "Подготовка денных началась с просмотра 3х датасетов. У всех трех датасетов отсутствуют пропуски и дубликаты. Данные распределены в основном нормально. Для дальнейшей работы столбws `id` из типа данных object приведены к типу данных 'int' кодировки признаков."
   ]
  },
  {
   "cell_type": "markdown",
   "metadata": {},
   "source": [
    "## Обучение и проверка модели"
   ]
  },
  {
   "cell_type": "code",
   "execution_count": 11,
   "metadata": {},
   "outputs": [],
   "source": [
    "random = 999999\n",
    "\n",
    "# Функция разбиения на выборки\n",
    "def split(data):\n",
    "    target=data['product']\n",
    "    features=data.drop(['product'], axis=1)\n",
    "    features_train,features_valid, target_train, target_valid = train_test_split(\n",
    "        features,target, test_size = 0.25, random_state = random)\n",
    "    print('Обучающая выборка:')\n",
    "    print(features_train.shape)\n",
    "    print(target_train.shape)\n",
    "    print('Валидационная выборка:')\n",
    "    print(features_valid.shape)\n",
    "    print(target_valid.shape)\n",
    "    return features_train,features_valid, target_train, target_valid"
   ]
  },
  {
   "cell_type": "code",
   "execution_count": 12,
   "metadata": {},
   "outputs": [
    {
     "name": "stdout",
     "output_type": "stream",
     "text": [
      "Обучающая выборка:\n",
      "(75000, 3)\n",
      "(75000,)\n",
      "Валидационная выборка:\n",
      "(25000, 3)\n",
      "(25000,)\n"
     ]
    }
   ],
   "source": [
    "features_train_0,features_valid_0, target_train_0, target_valid_0 = split(geo_0)"
   ]
  },
  {
   "cell_type": "code",
   "execution_count": 13,
   "metadata": {},
   "outputs": [
    {
     "name": "stdout",
     "output_type": "stream",
     "text": [
      "Обучающая выборка:\n",
      "(75000, 3)\n",
      "(75000,)\n",
      "Валидационная выборка:\n",
      "(25000, 3)\n",
      "(25000,)\n"
     ]
    }
   ],
   "source": [
    "features_train_1,features_valid_1, target_train_1, target_valid_1 = split(geo_1)"
   ]
  },
  {
   "cell_type": "code",
   "execution_count": 14,
   "metadata": {},
   "outputs": [
    {
     "name": "stdout",
     "output_type": "stream",
     "text": [
      "Обучающая выборка:\n",
      "(75000, 3)\n",
      "(75000,)\n",
      "Валидационная выборка:\n",
      "(25000, 3)\n",
      "(25000,)\n"
     ]
    }
   ],
   "source": [
    "features_train_2,features_valid_2, target_train_2, target_valid_2 = split(geo_2)"
   ]
  },
  {
   "cell_type": "code",
   "execution_count": 15,
   "metadata": {},
   "outputs": [],
   "source": [
    "def train_the_model(features_train,features_valid, target_train, target_valid, data_name):\n",
    "    model = LinearRegression()\n",
    "    model.fit(features_train,target_train)\n",
    "    predict = model.predict(features_valid)\n",
    "    rsme = mean_squared_error(target_valid, predict)**0.5\n",
    "    print('Cредний запас предсказанного сырья {}:'.format(data_name), round(predict.mean(),2))  \n",
    "    print('RMSE {}:'.format(data_name), round(rsme,2))\n",
    "    return predict  "
   ]
  },
  {
   "cell_type": "code",
   "execution_count": 16,
   "metadata": {},
   "outputs": [
    {
     "name": "stdout",
     "output_type": "stream",
     "text": [
      "Cредний запас предсказанного сырья geo_0: 92.53\n",
      "RMSE geo_0: 37.6\n"
     ]
    }
   ],
   "source": [
    "predict_0 = train_the_model(features_train_0,features_valid_0, target_train_0, target_valid_0, \"geo_0\")"
   ]
  },
  {
   "cell_type": "code",
   "execution_count": 17,
   "metadata": {},
   "outputs": [
    {
     "name": "stdout",
     "output_type": "stream",
     "text": [
      "Cредний запас предсказанного сырья geo_1: 68.88\n",
      "RMSE geo_1: 0.89\n"
     ]
    }
   ],
   "source": [
    "predict_1 = train_the_model(features_train_1,features_valid_1, target_train_1, target_valid_1, \"geo_1\")"
   ]
  },
  {
   "cell_type": "code",
   "execution_count": 18,
   "metadata": {},
   "outputs": [
    {
     "name": "stdout",
     "output_type": "stream",
     "text": [
      "Cредний запас предсказанного сырья geo_2: 94.95\n",
      "RMSE geo_2: 40.06\n"
     ]
    }
   ],
   "source": [
    "predict_2 = train_the_model(features_train_2,features_valid_2, target_train_2, target_valid_2, \"geo_2\")"
   ]
  },
  {
   "cell_type": "markdown",
   "metadata": {},
   "source": [
    "Для всех трех регионов разделили данные на обучающую и валидационную выборку. Соотношение 75%/25%. Дело имеем с регрессией, поэтому в качестве модели используем Линейную регрессию. \n",
    "Посмотрев на средние запасы регионов, есть предположение, что регион 0 и регион 2 показывают лучшие результаты. Однако значения метрик у региона 0 и региона 2 хуже, чем у региона 1.\n"
   ]
  },
  {
   "cell_type": "markdown",
   "metadata": {},
   "source": [
    "## Подготовка к расчёту прибыли"
   ]
  },
  {
   "cell_type": "markdown",
   "metadata": {},
   "source": [
    "В нашем распоряжении данные 500 точек, из которых нужно выбрать 200 лучших для разработки.\n",
    "\n",
    "Бюджет на разработку скважин в регионе — 10 млрд рублей.\n",
    "\n",
    "При нынешних ценах один баррель сырья приносит 450 рублей дохода. \n",
    "\n",
    "Доход с каждой единицы продукта составляет 450 тыс. рублей, поскольку объём указан в тысячах баррелей.\n",
    "\n",
    "После оценки рисков нужно оставить лишь те регионы, в которых вероятность убытков меньше 2.5%. Среди них выбирают регион с наибольшей средней прибылью."
   ]
  },
  {
   "cell_type": "code",
   "execution_count": 19,
   "metadata": {},
   "outputs": [
    {
     "name": "stdout",
     "output_type": "stream",
     "text": [
      "Достаточное количество сырья 111.11111111111111\n",
      "Среднее количество сырья в 0 регионе 92.50000000000001\n",
      "Среднее количество сырья в 0 регионе 68.82500000000002\n",
      "Среднее количество сырья в 0 регионе 95.00000000000004\n"
     ]
    }
   ],
   "source": [
    "# Рассчитайте достаточный объём сырья для безубыточной разработки новой скважины. \n",
    "ESTIMATION  = 10_000_000\n",
    "BUDSTRAP_SAMPLES  = 1000\n",
    "UNIT_YIELD  = 450\n",
    "TOTAL  = 500\n",
    "TOP_200  = 200\n",
    "THRESHOLD = 0.025\n",
    "\n",
    "quantity_materials = ESTIMATION / (UNIT_YIELD * TOP_200)\n",
    "print('Достаточное количество сырья', quantity_materials)\n",
    "print('Среднее количество сырья в 0 регионе', geo_0['product'].mean())\n",
    "print('Среднее количество сырья в 0 регионе', geo_1['product'].mean())\n",
    "print('Среднее количество сырья в 0 регионе', geo_2['product'].mean())"
   ]
  },
  {
   "cell_type": "markdown",
   "metadata": {},
   "source": [
    "Показатель достаточности кол-ва сырья дает понять, что средние всех трех регионов  ниже требуемых значений. Это значит, что отбор скважен для последующих разработок нужно определять тщательнее."
   ]
  },
  {
   "cell_type": "markdown",
   "metadata": {},
   "source": [
    "## Расчёт прибыли и рисков "
   ]
  },
  {
   "cell_type": "code",
   "execution_count": 20,
   "metadata": {},
   "outputs": [],
   "source": [
    "def quantity_income(target, predict, TOP_200):\n",
    "    target = target.reset_index(drop=True)\n",
    "    predict = predict.reset_index(drop=True)\n",
    "    predict_sorted = predict.sort_values(ascending=False)[:TOP_200]\n",
    "    selected = target[predict_sorted.index]\n",
    "    selected_total_income = selected.sum() * UNIT_YIELD\n",
    "    return selected_total_income"
   ]
  },
  {
   "cell_type": "code",
   "execution_count": 21,
   "metadata": {},
   "outputs": [],
   "source": [
    "def risks (target,predict, region, features):\n",
    "    \n",
    "    state = np.random.RandomState(random)\n",
    "    \n",
    "    values = []\n",
    "    predict = pd.Series(predict, index=features.index)\n",
    "    for i in range(1000):\n",
    "        predict_subsample = predict.sample(TOTAL, replace=True, random_state=state)\n",
    "        target_subsample = target[predict_subsample.index]\n",
    "        values.append(quantity_income(target_subsample, predict_subsample, TOP_200) - ESTIMATION)\n",
    "        \n",
    "    values = pd.Series(values)\n",
    "        \n",
    "    mean = values.mean()/1000\n",
    "    lower = values.quantile(.025)/1000\n",
    "    upper = values.quantile(.975)/1000\n",
    "    \n",
    "    risk = (values < 0).mean()\n",
    "\n",
    "    print()\n",
    "    print(f'Для {region} региона:')\n",
    "    print(f'Средняя прибыль скважен Топ-200 = {mean:.0f} млн. рублей.')\n",
    "    print(f'Доверительный интервал лежит между {lower:.0f} - {upper:.0f} млн. рублей.')\n",
    "    print(f'Риск убытков составляет = {risk:.2%}')"
   ]
  },
  {
   "cell_type": "code",
   "execution_count": 22,
   "metadata": {
    "scrolled": false
   },
   "outputs": [
    {
     "name": "stdout",
     "output_type": "stream",
     "text": [
      "\n",
      "Для 0 региона:\n",
      "Средняя прибыль скважен Топ-200 = 426 млн. рублей.\n",
      "Доверительный интервал лежит между -116 - 950 млн. рублей.\n",
      "Риск убытков составляет = 5.50%\n"
     ]
    }
   ],
   "source": [
    "risks(target_valid_0, predict_0, 0,features_valid_0)"
   ]
  },
  {
   "cell_type": "code",
   "execution_count": 23,
   "metadata": {},
   "outputs": [
    {
     "name": "stdout",
     "output_type": "stream",
     "text": [
      "\n",
      "Для 1 региона:\n",
      "Средняя прибыль скважен Топ-200 = 467 млн. рублей.\n",
      "Доверительный интервал лежит между 77 - 859 млн. рублей.\n",
      "Риск убытков составляет = 1.10%\n"
     ]
    }
   ],
   "source": [
    "risks(target_valid_1, predict_1, 1,features_valid_1)"
   ]
  },
  {
   "cell_type": "code",
   "execution_count": 24,
   "metadata": {},
   "outputs": [
    {
     "name": "stdout",
     "output_type": "stream",
     "text": [
      "\n",
      "Для 2 региона:\n",
      "Средняя прибыль скважен Топ-200 = 362 млн. рублей.\n",
      "Доверительный интервал лежит между -161 - 881 млн. рублей.\n",
      "Риск убытков составляет = 9.10%\n"
     ]
    }
   ],
   "source": [
    "risks(target_valid_2, predict_2, 2,features_valid_2)"
   ]
  },
  {
   "cell_type": "markdown",
   "metadata": {},
   "source": [
    "## Риски и прибыль для каждого региона"
   ]
  },
  {
   "cell_type": "markdown",
   "metadata": {},
   "source": [
    "С помощью техники Bootstrap из 500 скважин выбраны 200 лучших. Среди регионов оказался лучшим регион 1:\n",
    "- Средняя прибыль скважен Топ-200 = 467 млн. рублей.\n",
    "- Доверительный интервал лежит между 77 - 859 млн. рублей.\n",
    "- Риск убытков составляет = 1.10%,  что меньше 2,5%, заявленных в ТЗ."
   ]
  }
 ],
 "metadata": {
  "ExecuteTimeLog": [
   {
    "duration": 363,
    "start_time": "2023-05-08T11:37:20.698Z"
   },
   {
    "duration": 1759,
    "start_time": "2023-05-08T11:39:17.753Z"
   },
   {
    "duration": 3,
    "start_time": "2023-05-08T11:41:23.006Z"
   },
   {
    "duration": 953,
    "start_time": "2023-05-08T11:41:43.600Z"
   },
   {
    "duration": 6,
    "start_time": "2023-05-08T11:42:03.063Z"
   },
   {
    "duration": 332,
    "start_time": "2023-05-08T11:42:05.055Z"
   },
   {
    "duration": 3,
    "start_time": "2023-05-08T11:42:15.692Z"
   },
   {
    "duration": 497,
    "start_time": "2023-05-08T11:42:16.038Z"
   },
   {
    "duration": 3,
    "start_time": "2023-05-08T11:44:14.387Z"
   },
   {
    "duration": 3,
    "start_time": "2023-05-08T11:45:30.435Z"
   },
   {
    "duration": 616,
    "start_time": "2023-05-08T11:45:32.711Z"
   },
   {
    "duration": 98,
    "start_time": "2023-05-08T11:45:46.537Z"
   },
   {
    "duration": 432,
    "start_time": "2023-05-08T11:45:47.091Z"
   },
   {
    "duration": 2,
    "start_time": "2023-05-08T11:50:50.740Z"
   },
   {
    "duration": 520,
    "start_time": "2023-05-08T11:50:51.399Z"
   },
   {
    "duration": 5,
    "start_time": "2023-05-08T11:51:34.698Z"
   },
   {
    "duration": 537,
    "start_time": "2023-05-08T11:51:35.199Z"
   },
   {
    "duration": 9,
    "start_time": "2023-05-08T11:52:39.588Z"
   },
   {
    "duration": 406,
    "start_time": "2023-05-08T11:52:40.313Z"
   },
   {
    "duration": 3,
    "start_time": "2023-05-08T11:53:14.067Z"
   },
   {
    "duration": 443,
    "start_time": "2023-05-08T11:53:14.402Z"
   },
   {
    "duration": 4,
    "start_time": "2023-05-08T11:53:37.314Z"
   },
   {
    "duration": 458,
    "start_time": "2023-05-08T11:53:38.538Z"
   },
   {
    "duration": 456,
    "start_time": "2023-05-08T11:54:01.968Z"
   },
   {
    "duration": 478,
    "start_time": "2023-05-08T11:54:21.316Z"
   },
   {
    "duration": 4,
    "start_time": "2023-05-08T11:58:39.564Z"
   },
   {
    "duration": 427,
    "start_time": "2023-05-08T11:58:40.443Z"
   },
   {
    "duration": 516,
    "start_time": "2023-05-08T11:58:41.570Z"
   },
   {
    "duration": 483,
    "start_time": "2023-05-08T11:58:42.810Z"
   },
   {
    "duration": 3,
    "start_time": "2023-05-08T12:48:18.998Z"
   },
   {
    "duration": 466,
    "start_time": "2023-05-08T12:48:19.732Z"
   },
   {
    "duration": 5,
    "start_time": "2023-05-08T12:48:30.798Z"
   },
   {
    "duration": 464,
    "start_time": "2023-05-08T12:48:32.405Z"
   },
   {
    "duration": 459,
    "start_time": "2023-05-08T12:48:54.541Z"
   },
   {
    "duration": 424,
    "start_time": "2023-05-08T12:48:58.030Z"
   },
   {
    "duration": 3,
    "start_time": "2023-05-08T13:15:59.013Z"
   },
   {
    "duration": 462,
    "start_time": "2023-05-08T13:16:00.453Z"
   },
   {
    "duration": 3,
    "start_time": "2023-05-08T13:17:03.647Z"
   },
   {
    "duration": 3,
    "start_time": "2023-05-08T13:17:24.136Z"
   },
   {
    "duration": 511,
    "start_time": "2023-05-08T13:17:25.348Z"
   },
   {
    "duration": 4,
    "start_time": "2023-05-08T13:17:49.384Z"
   },
   {
    "duration": 431,
    "start_time": "2023-05-08T13:17:50.171Z"
   },
   {
    "duration": 3,
    "start_time": "2023-05-08T13:18:06.967Z"
   },
   {
    "duration": 446,
    "start_time": "2023-05-08T13:18:07.457Z"
   },
   {
    "duration": 466,
    "start_time": "2023-05-08T13:18:08.030Z"
   },
   {
    "duration": 438,
    "start_time": "2023-05-08T13:18:11.397Z"
   },
   {
    "duration": 691,
    "start_time": "2023-05-08T14:26:38.426Z"
   },
   {
    "duration": 40,
    "start_time": "2023-05-08T14:44:26.886Z"
   },
   {
    "duration": 9,
    "start_time": "2023-05-08T14:44:27.252Z"
   },
   {
    "duration": 7,
    "start_time": "2023-05-08T14:44:27.860Z"
   },
   {
    "duration": 5,
    "start_time": "2023-05-08T14:44:35.502Z"
   },
   {
    "duration": 523,
    "start_time": "2023-05-08T14:44:36.105Z"
   },
   {
    "duration": 1,
    "start_time": "2023-05-08T14:44:36.630Z"
   },
   {
    "duration": 525,
    "start_time": "2023-05-08T14:44:37.069Z"
   },
   {
    "duration": 3,
    "start_time": "2023-05-08T14:44:46.427Z"
   },
   {
    "duration": 493,
    "start_time": "2023-05-08T14:44:47.096Z"
   },
   {
    "duration": 419,
    "start_time": "2023-05-08T14:44:48.111Z"
   },
   {
    "duration": 480,
    "start_time": "2023-05-08T14:44:48.819Z"
   },
   {
    "duration": 204,
    "start_time": "2023-05-08T14:45:30.291Z"
   },
   {
    "duration": 181,
    "start_time": "2023-05-08T14:45:37.563Z"
   },
   {
    "duration": 211,
    "start_time": "2023-05-08T14:46:22.695Z"
   },
   {
    "duration": 211,
    "start_time": "2023-05-08T14:46:44.428Z"
   },
   {
    "duration": 191,
    "start_time": "2023-05-08T14:47:00.247Z"
   },
   {
    "duration": 212,
    "start_time": "2023-05-08T14:47:18.531Z"
   },
   {
    "duration": 91,
    "start_time": "2023-05-08T15:05:41.339Z"
   },
   {
    "duration": 4,
    "start_time": "2023-05-08T15:05:47.644Z"
   },
   {
    "duration": 16,
    "start_time": "2023-05-08T15:06:40.090Z"
   },
   {
    "duration": 15,
    "start_time": "2023-05-08T15:06:58.029Z"
   },
   {
    "duration": 15,
    "start_time": "2023-05-08T15:07:12.416Z"
   },
   {
    "duration": 9,
    "start_time": "2023-05-08T16:34:46.311Z"
   },
   {
    "duration": 160,
    "start_time": "2023-05-08T16:35:32.455Z"
   },
   {
    "duration": 8,
    "start_time": "2023-05-08T16:40:07.695Z"
   },
   {
    "duration": 86,
    "start_time": "2023-05-08T16:40:08.499Z"
   },
   {
    "duration": 7,
    "start_time": "2023-05-08T16:42:52.614Z"
   },
   {
    "duration": 10,
    "start_time": "2023-05-08T16:42:57.295Z"
   },
   {
    "duration": 14,
    "start_time": "2023-05-08T16:42:57.918Z"
   },
   {
    "duration": 7,
    "start_time": "2023-05-08T16:43:08.827Z"
   },
   {
    "duration": 17,
    "start_time": "2023-05-08T16:43:11.332Z"
   },
   {
    "duration": 34,
    "start_time": "2023-05-08T16:43:39.651Z"
   },
   {
    "duration": 43,
    "start_time": "2023-05-08T16:43:59.690Z"
   },
   {
    "duration": 2,
    "start_time": "2023-05-08T17:15:34.894Z"
   },
   {
    "duration": 1809,
    "start_time": "2023-05-08T20:43:50.427Z"
   },
   {
    "duration": 1308,
    "start_time": "2023-05-08T20:43:52.238Z"
   },
   {
    "duration": 4,
    "start_time": "2023-05-08T20:43:53.548Z"
   },
   {
    "duration": 680,
    "start_time": "2023-05-08T20:43:53.554Z"
   },
   {
    "duration": 650,
    "start_time": "2023-05-08T20:43:54.239Z"
   },
   {
    "duration": 765,
    "start_time": "2023-05-08T20:43:54.891Z"
   },
   {
    "duration": 4,
    "start_time": "2023-05-08T20:43:55.659Z"
   },
   {
    "duration": 781,
    "start_time": "2023-05-08T20:43:55.666Z"
   },
   {
    "duration": 690,
    "start_time": "2023-05-08T20:43:56.451Z"
   },
   {
    "duration": 706,
    "start_time": "2023-05-08T20:43:57.144Z"
   },
   {
    "duration": 5,
    "start_time": "2023-05-08T20:43:57.852Z"
   },
   {
    "duration": 27,
    "start_time": "2023-05-08T20:43:57.859Z"
   },
   {
    "duration": 29,
    "start_time": "2023-05-08T20:43:57.888Z"
   },
   {
    "duration": 31,
    "start_time": "2023-05-08T20:43:57.919Z"
   },
   {
    "duration": 23,
    "start_time": "2023-05-08T20:43:57.952Z"
   },
   {
    "duration": 134,
    "start_time": "2023-05-08T20:43:57.977Z"
   },
   {
    "duration": 108,
    "start_time": "2023-05-08T20:43:58.117Z"
   },
   {
    "duration": 109,
    "start_time": "2023-05-08T20:43:58.229Z"
   },
   {
    "duration": 72,
    "start_time": "2023-05-08T20:43:58.340Z"
   },
   {
    "duration": 6,
    "start_time": "2023-05-08T21:02:54.745Z"
   },
   {
    "duration": 6,
    "start_time": "2023-05-08T21:03:03.077Z"
   },
   {
    "duration": 5,
    "start_time": "2023-05-08T21:03:12.880Z"
   },
   {
    "duration": 4,
    "start_time": "2023-05-08T21:16:58.097Z"
   },
   {
    "duration": 9,
    "start_time": "2023-05-08T21:28:13.462Z"
   },
   {
    "duration": 1465,
    "start_time": "2023-05-08T22:10:42.945Z"
   },
   {
    "duration": 447,
    "start_time": "2023-05-08T22:10:44.413Z"
   },
   {
    "duration": 4,
    "start_time": "2023-05-08T22:10:44.861Z"
   },
   {
    "duration": 627,
    "start_time": "2023-05-08T22:10:44.867Z"
   },
   {
    "duration": 636,
    "start_time": "2023-05-08T22:10:45.496Z"
   },
   {
    "duration": 715,
    "start_time": "2023-05-08T22:10:46.134Z"
   },
   {
    "duration": 3,
    "start_time": "2023-05-08T22:10:46.851Z"
   },
   {
    "duration": 679,
    "start_time": "2023-05-08T22:10:46.856Z"
   },
   {
    "duration": 642,
    "start_time": "2023-05-08T22:10:47.537Z"
   },
   {
    "duration": 687,
    "start_time": "2023-05-08T22:10:48.181Z"
   },
   {
    "duration": 6,
    "start_time": "2023-05-08T22:10:48.871Z"
   },
   {
    "duration": 24,
    "start_time": "2023-05-08T22:10:48.879Z"
   },
   {
    "duration": 29,
    "start_time": "2023-05-08T22:10:48.918Z"
   },
   {
    "duration": 22,
    "start_time": "2023-05-08T22:10:48.950Z"
   },
   {
    "duration": 5,
    "start_time": "2023-05-08T22:10:48.974Z"
   },
   {
    "duration": 138,
    "start_time": "2023-05-08T22:10:48.981Z"
   },
   {
    "duration": 111,
    "start_time": "2023-05-08T22:10:49.121Z"
   },
   {
    "duration": 99,
    "start_time": "2023-05-08T22:10:49.235Z"
   },
   {
    "duration": 92,
    "start_time": "2023-05-08T22:10:49.423Z"
   },
   {
    "duration": 1491,
    "start_time": "2023-05-09T07:48:25.173Z"
   },
   {
    "duration": 893,
    "start_time": "2023-05-09T07:48:26.665Z"
   },
   {
    "duration": 4,
    "start_time": "2023-05-09T07:48:27.559Z"
   },
   {
    "duration": 498,
    "start_time": "2023-05-09T07:48:27.565Z"
   },
   {
    "duration": 482,
    "start_time": "2023-05-09T07:48:28.065Z"
   },
   {
    "duration": 536,
    "start_time": "2023-05-09T07:48:28.549Z"
   },
   {
    "duration": 8,
    "start_time": "2023-05-09T07:48:29.087Z"
   },
   {
    "duration": 530,
    "start_time": "2023-05-09T07:48:29.096Z"
   },
   {
    "duration": 472,
    "start_time": "2023-05-09T07:48:29.628Z"
   },
   {
    "duration": 530,
    "start_time": "2023-05-09T07:48:30.102Z"
   },
   {
    "duration": 5,
    "start_time": "2023-05-09T07:48:30.633Z"
   },
   {
    "duration": 56,
    "start_time": "2023-05-09T07:48:30.639Z"
   },
   {
    "duration": 36,
    "start_time": "2023-05-09T07:48:30.697Z"
   },
   {
    "duration": 51,
    "start_time": "2023-05-09T07:48:30.737Z"
   },
   {
    "duration": 16,
    "start_time": "2023-05-09T07:48:30.790Z"
   },
   {
    "duration": 47,
    "start_time": "2023-05-09T07:48:30.808Z"
   },
   {
    "duration": 107,
    "start_time": "2023-05-09T07:48:30.896Z"
   },
   {
    "duration": 201,
    "start_time": "2023-05-09T07:48:31.005Z"
   },
   {
    "duration": 90,
    "start_time": "2023-05-09T07:48:31.208Z"
   },
   {
    "duration": 13,
    "start_time": "2023-05-09T08:12:10.589Z"
   },
   {
    "duration": 23,
    "start_time": "2023-05-09T08:12:11.089Z"
   },
   {
    "duration": 14,
    "start_time": "2023-05-09T08:12:11.807Z"
   },
   {
    "duration": 16,
    "start_time": "2023-05-09T08:12:12.939Z"
   },
   {
    "duration": 191,
    "start_time": "2023-05-09T08:13:03.980Z"
   },
   {
    "duration": 9,
    "start_time": "2023-05-09T08:13:10.122Z"
   },
   {
    "duration": 5,
    "start_time": "2023-05-09T08:13:20.933Z"
   },
   {
    "duration": 5,
    "start_time": "2023-05-09T08:13:36.824Z"
   },
   {
    "duration": 3,
    "start_time": "2023-05-09T08:36:32.656Z"
   },
   {
    "duration": 9,
    "start_time": "2023-05-09T08:39:27.780Z"
   },
   {
    "duration": 12,
    "start_time": "2023-05-09T08:40:02.083Z"
   },
   {
    "duration": 4,
    "start_time": "2023-05-09T09:05:52.777Z"
   },
   {
    "duration": 14,
    "start_time": "2023-05-09T09:05:53.288Z"
   },
   {
    "duration": 8,
    "start_time": "2023-05-09T09:07:52.211Z"
   },
   {
    "duration": 9,
    "start_time": "2023-05-09T09:08:13.650Z"
   },
   {
    "duration": 9,
    "start_time": "2023-05-09T09:09:43.232Z"
   },
   {
    "duration": 11,
    "start_time": "2023-05-09T09:09:43.733Z"
   },
   {
    "duration": 7,
    "start_time": "2023-05-09T09:17:46.626Z"
   },
   {
    "duration": 8,
    "start_time": "2023-05-09T09:18:03.484Z"
   },
   {
    "duration": 9,
    "start_time": "2023-05-09T09:18:37.227Z"
   },
   {
    "duration": 7,
    "start_time": "2023-05-09T09:19:53.235Z"
   },
   {
    "duration": 10,
    "start_time": "2023-05-09T09:20:17.607Z"
   },
   {
    "duration": 4,
    "start_time": "2023-05-09T09:26:02.147Z"
   },
   {
    "duration": 4,
    "start_time": "2023-05-09T09:26:02.655Z"
   },
   {
    "duration": 7,
    "start_time": "2023-05-09T09:26:03.278Z"
   },
   {
    "duration": 9,
    "start_time": "2023-05-09T09:26:22.848Z"
   },
   {
    "duration": 7,
    "start_time": "2023-05-09T09:27:12.209Z"
   },
   {
    "duration": 4,
    "start_time": "2023-05-09T09:27:31.497Z"
   },
   {
    "duration": 3,
    "start_time": "2023-05-09T09:27:32.057Z"
   },
   {
    "duration": 6,
    "start_time": "2023-05-09T09:27:32.584Z"
   },
   {
    "duration": 7,
    "start_time": "2023-05-09T09:27:33.486Z"
   },
   {
    "duration": 7,
    "start_time": "2023-05-09T09:27:48.943Z"
   },
   {
    "duration": 3,
    "start_time": "2023-05-09T09:28:30.087Z"
   },
   {
    "duration": 7,
    "start_time": "2023-05-09T09:28:30.558Z"
   },
   {
    "duration": 6,
    "start_time": "2023-05-09T09:28:31.381Z"
   },
   {
    "duration": 6,
    "start_time": "2023-05-09T09:28:31.982Z"
   },
   {
    "duration": 9,
    "start_time": "2023-05-09T09:29:40.099Z"
   },
   {
    "duration": 4,
    "start_time": "2023-05-09T09:29:41.510Z"
   },
   {
    "duration": 4,
    "start_time": "2023-05-09T09:29:41.882Z"
   },
   {
    "duration": 9,
    "start_time": "2023-05-09T09:29:42.415Z"
   },
   {
    "duration": 6,
    "start_time": "2023-05-09T09:29:43.062Z"
   },
   {
    "duration": 6,
    "start_time": "2023-05-09T09:29:43.644Z"
   },
   {
    "duration": 9,
    "start_time": "2023-05-09T09:29:53.128Z"
   },
   {
    "duration": 2,
    "start_time": "2023-05-09T09:29:53.972Z"
   },
   {
    "duration": 4,
    "start_time": "2023-05-09T09:29:54.183Z"
   },
   {
    "duration": 8,
    "start_time": "2023-05-09T09:29:54.443Z"
   },
   {
    "duration": 7,
    "start_time": "2023-05-09T09:29:54.639Z"
   },
   {
    "duration": 6,
    "start_time": "2023-05-09T09:29:54.852Z"
   },
   {
    "duration": 6,
    "start_time": "2023-05-09T10:21:07.928Z"
   },
   {
    "duration": 6,
    "start_time": "2023-05-09T10:24:31.456Z"
   },
   {
    "duration": 21,
    "start_time": "2023-05-09T10:25:50.796Z"
   },
   {
    "duration": 5,
    "start_time": "2023-05-09T10:27:50.455Z"
   },
   {
    "duration": 11,
    "start_time": "2023-05-09T10:28:08.976Z"
   },
   {
    "duration": 9,
    "start_time": "2023-05-09T10:28:23.682Z"
   },
   {
    "duration": 6,
    "start_time": "2023-05-09T10:28:41.137Z"
   },
   {
    "duration": 8,
    "start_time": "2023-05-09T10:29:27.784Z"
   },
   {
    "duration": 13,
    "start_time": "2023-05-09T10:29:28.721Z"
   },
   {
    "duration": 9,
    "start_time": "2023-05-09T10:31:48.155Z"
   },
   {
    "duration": 6,
    "start_time": "2023-05-09T10:31:58.550Z"
   },
   {
    "duration": 9,
    "start_time": "2023-05-09T10:32:07.162Z"
   },
   {
    "duration": 13,
    "start_time": "2023-05-09T10:32:24.794Z"
   },
   {
    "duration": 7,
    "start_time": "2023-05-09T10:32:46.821Z"
   },
   {
    "duration": 17,
    "start_time": "2023-05-09T10:32:48.156Z"
   },
   {
    "duration": 9,
    "start_time": "2023-05-09T10:33:04.567Z"
   },
   {
    "duration": 10,
    "start_time": "2023-05-09T10:33:56.555Z"
   },
   {
    "duration": 22,
    "start_time": "2023-05-09T10:33:57.669Z"
   },
   {
    "duration": 6,
    "start_time": "2023-05-09T10:34:35.889Z"
   },
   {
    "duration": 7,
    "start_time": "2023-05-09T10:35:55.954Z"
   },
   {
    "duration": 19,
    "start_time": "2023-05-09T10:35:56.949Z"
   },
   {
    "duration": 6,
    "start_time": "2023-05-09T10:36:41.424Z"
   },
   {
    "duration": 7,
    "start_time": "2023-05-09T10:38:03.352Z"
   },
   {
    "duration": 22,
    "start_time": "2023-05-09T10:38:04.974Z"
   },
   {
    "duration": 7,
    "start_time": "2023-05-09T10:38:54.264Z"
   },
   {
    "duration": 17,
    "start_time": "2023-05-09T10:38:54.799Z"
   },
   {
    "duration": 7,
    "start_time": "2023-05-09T10:42:41.213Z"
   },
   {
    "duration": 14,
    "start_time": "2023-05-09T10:42:41.678Z"
   },
   {
    "duration": 7,
    "start_time": "2023-05-09T10:45:05.769Z"
   },
   {
    "duration": 13,
    "start_time": "2023-05-09T10:45:06.550Z"
   },
   {
    "duration": 4,
    "start_time": "2023-05-09T10:45:32.477Z"
   },
   {
    "duration": 16,
    "start_time": "2023-05-09T10:45:32.933Z"
   },
   {
    "duration": 6,
    "start_time": "2023-05-09T12:16:53.347Z"
   },
   {
    "duration": 11,
    "start_time": "2023-05-09T12:16:58.432Z"
   },
   {
    "duration": 8,
    "start_time": "2023-05-09T12:17:11.328Z"
   },
   {
    "duration": 4231,
    "start_time": "2023-05-09T12:17:11.832Z"
   },
   {
    "duration": 6,
    "start_time": "2023-05-09T12:20:36.015Z"
   },
   {
    "duration": 4015,
    "start_time": "2023-05-09T12:20:44.403Z"
   },
   {
    "duration": 4,
    "start_time": "2023-05-09T12:22:29.650Z"
   },
   {
    "duration": 4831,
    "start_time": "2023-05-09T12:22:32.445Z"
   },
   {
    "duration": 4,
    "start_time": "2023-05-09T12:24:11.351Z"
   },
   {
    "duration": 3,
    "start_time": "2023-05-09T12:24:19.757Z"
   },
   {
    "duration": 7,
    "start_time": "2023-05-09T12:24:25.416Z"
   },
   {
    "duration": 2854,
    "start_time": "2023-05-09T12:24:28.724Z"
   },
   {
    "duration": 4,
    "start_time": "2023-05-09T12:24:45.045Z"
   },
   {
    "duration": 6,
    "start_time": "2023-05-09T12:24:51.105Z"
   },
   {
    "duration": 2820,
    "start_time": "2023-05-09T12:24:55.676Z"
   },
   {
    "duration": 8,
    "start_time": "2023-05-09T12:26:02.568Z"
   },
   {
    "duration": 3085,
    "start_time": "2023-05-09T12:26:06.014Z"
   },
   {
    "duration": 1521,
    "start_time": "2023-05-09T12:28:15.107Z"
   },
   {
    "duration": 477,
    "start_time": "2023-05-09T12:28:16.631Z"
   },
   {
    "duration": 5,
    "start_time": "2023-05-09T12:28:17.110Z"
   },
   {
    "duration": 641,
    "start_time": "2023-05-09T12:28:17.118Z"
   },
   {
    "duration": 576,
    "start_time": "2023-05-09T12:28:17.761Z"
   },
   {
    "duration": 683,
    "start_time": "2023-05-09T12:28:18.339Z"
   },
   {
    "duration": 5,
    "start_time": "2023-05-09T12:28:19.024Z"
   },
   {
    "duration": 626,
    "start_time": "2023-05-09T12:28:19.031Z"
   },
   {
    "duration": 553,
    "start_time": "2023-05-09T12:28:19.659Z"
   },
   {
    "duration": 581,
    "start_time": "2023-05-09T12:28:20.214Z"
   },
   {
    "duration": 5,
    "start_time": "2023-05-09T12:28:20.797Z"
   },
   {
    "duration": 35,
    "start_time": "2023-05-09T12:28:20.804Z"
   },
   {
    "duration": 25,
    "start_time": "2023-05-09T12:28:20.840Z"
   },
   {
    "duration": 18,
    "start_time": "2023-05-09T12:28:20.867Z"
   },
   {
    "duration": 4,
    "start_time": "2023-05-09T12:28:20.894Z"
   },
   {
    "duration": 29,
    "start_time": "2023-05-09T12:28:20.900Z"
   },
   {
    "duration": 264,
    "start_time": "2023-05-09T12:28:20.931Z"
   },
   {
    "duration": 110,
    "start_time": "2023-05-09T12:28:21.197Z"
   },
   {
    "duration": 84,
    "start_time": "2023-05-09T12:28:21.312Z"
   },
   {
    "duration": 99,
    "start_time": "2023-05-09T12:28:21.397Z"
   },
   {
    "duration": 9,
    "start_time": "2023-05-09T12:28:21.498Z"
   },
   {
    "duration": 126,
    "start_time": "2023-05-09T12:28:21.510Z"
   },
   {
    "duration": 0,
    "start_time": "2023-05-09T12:28:21.638Z"
   },
   {
    "duration": 0,
    "start_time": "2023-05-09T12:28:21.640Z"
   },
   {
    "duration": 0,
    "start_time": "2023-05-09T12:28:21.642Z"
   },
   {
    "duration": 0,
    "start_time": "2023-05-09T12:28:21.644Z"
   },
   {
    "duration": 0,
    "start_time": "2023-05-09T12:28:21.645Z"
   },
   {
    "duration": 6,
    "start_time": "2023-05-09T12:33:08.567Z"
   },
   {
    "duration": 4,
    "start_time": "2023-05-09T12:33:36.929Z"
   },
   {
    "duration": 12,
    "start_time": "2023-05-09T12:33:45.466Z"
   },
   {
    "duration": 5,
    "start_time": "2023-05-09T12:33:51.423Z"
   },
   {
    "duration": 8,
    "start_time": "2023-05-09T12:34:01.775Z"
   },
   {
    "duration": 8,
    "start_time": "2023-05-09T12:34:06.927Z"
   },
   {
    "duration": 9,
    "start_time": "2023-05-09T12:34:14.672Z"
   },
   {
    "duration": 4,
    "start_time": "2023-05-09T12:35:39.611Z"
   },
   {
    "duration": 3,
    "start_time": "2023-05-09T12:35:40.222Z"
   },
   {
    "duration": 11,
    "start_time": "2023-05-09T12:35:45.200Z"
   },
   {
    "duration": 6,
    "start_time": "2023-05-09T12:35:50.356Z"
   },
   {
    "duration": 6,
    "start_time": "2023-05-09T12:35:51.076Z"
   },
   {
    "duration": 3,
    "start_time": "2023-05-09T12:35:52.572Z"
   },
   {
    "duration": 6,
    "start_time": "2023-05-09T12:35:53.940Z"
   },
   {
    "duration": 2983,
    "start_time": "2023-05-09T12:35:59.969Z"
   },
   {
    "duration": 10,
    "start_time": "2023-05-09T12:36:31.628Z"
   },
   {
    "duration": 3134,
    "start_time": "2023-05-09T12:36:34.001Z"
   },
   {
    "duration": 12,
    "start_time": "2023-05-09T12:36:58.005Z"
   },
   {
    "duration": 3100,
    "start_time": "2023-05-09T12:36:58.571Z"
   },
   {
    "duration": 11,
    "start_time": "2023-05-09T12:40:00.108Z"
   },
   {
    "duration": 1098,
    "start_time": "2023-05-09T12:40:01.489Z"
   },
   {
    "duration": 12,
    "start_time": "2023-05-09T12:40:34.329Z"
   },
   {
    "duration": 930,
    "start_time": "2023-05-09T12:40:35.672Z"
   },
   {
    "duration": 954,
    "start_time": "2023-05-09T12:41:05.819Z"
   },
   {
    "duration": 842,
    "start_time": "2023-05-09T12:41:18.204Z"
   },
   {
    "duration": 1358,
    "start_time": "2023-05-09T12:41:53.070Z"
   },
   {
    "duration": 357,
    "start_time": "2023-05-09T12:41:54.430Z"
   },
   {
    "duration": 6,
    "start_time": "2023-05-09T12:41:54.789Z"
   },
   {
    "duration": 541,
    "start_time": "2023-05-09T12:41:54.797Z"
   },
   {
    "duration": 546,
    "start_time": "2023-05-09T12:41:55.340Z"
   },
   {
    "duration": 634,
    "start_time": "2023-05-09T12:41:55.887Z"
   },
   {
    "duration": 4,
    "start_time": "2023-05-09T12:41:56.523Z"
   },
   {
    "duration": 592,
    "start_time": "2023-05-09T12:41:56.529Z"
   },
   {
    "duration": 599,
    "start_time": "2023-05-09T12:41:57.122Z"
   },
   {
    "duration": 574,
    "start_time": "2023-05-09T12:41:57.723Z"
   },
   {
    "duration": 4,
    "start_time": "2023-05-09T12:41:58.298Z"
   },
   {
    "duration": 28,
    "start_time": "2023-05-09T12:41:58.304Z"
   },
   {
    "duration": 19,
    "start_time": "2023-05-09T12:41:58.334Z"
   },
   {
    "duration": 39,
    "start_time": "2023-05-09T12:41:58.356Z"
   },
   {
    "duration": 5,
    "start_time": "2023-05-09T12:41:58.398Z"
   },
   {
    "duration": 27,
    "start_time": "2023-05-09T12:41:58.404Z"
   },
   {
    "duration": 75,
    "start_time": "2023-05-09T12:41:58.433Z"
   },
   {
    "duration": 102,
    "start_time": "2023-05-09T12:41:58.595Z"
   },
   {
    "duration": 11,
    "start_time": "2023-05-09T12:41:58.699Z"
   },
   {
    "duration": 100,
    "start_time": "2023-05-09T12:41:58.796Z"
   },
   {
    "duration": 9,
    "start_time": "2023-05-09T12:41:58.899Z"
   },
   {
    "duration": 14,
    "start_time": "2023-05-09T12:41:58.911Z"
   },
   {
    "duration": 10,
    "start_time": "2023-05-09T12:41:58.927Z"
   },
   {
    "duration": 10,
    "start_time": "2023-05-09T12:41:58.939Z"
   },
   {
    "duration": 5,
    "start_time": "2023-05-09T12:41:58.952Z"
   },
   {
    "duration": 39,
    "start_time": "2023-05-09T12:41:58.959Z"
   },
   {
    "duration": 905,
    "start_time": "2023-05-09T12:41:59.000Z"
   },
   {
    "duration": 911,
    "start_time": "2023-05-09T12:41:59.907Z"
   },
   {
    "duration": 898,
    "start_time": "2023-05-09T12:42:00.820Z"
   },
   {
    "duration": 3275,
    "start_time": "2023-05-09T14:04:45.656Z"
   },
   {
    "duration": 360,
    "start_time": "2023-05-09T14:04:48.933Z"
   },
   {
    "duration": 3,
    "start_time": "2023-05-09T14:04:49.295Z"
   },
   {
    "duration": 586,
    "start_time": "2023-05-09T14:04:49.300Z"
   },
   {
    "duration": 571,
    "start_time": "2023-05-09T14:04:49.888Z"
   },
   {
    "duration": 651,
    "start_time": "2023-05-09T14:04:50.460Z"
   },
   {
    "duration": 5,
    "start_time": "2023-05-09T14:04:51.112Z"
   },
   {
    "duration": 620,
    "start_time": "2023-05-09T14:04:51.118Z"
   },
   {
    "duration": 595,
    "start_time": "2023-05-09T14:04:51.740Z"
   },
   {
    "duration": 632,
    "start_time": "2023-05-09T14:04:52.337Z"
   },
   {
    "duration": 4,
    "start_time": "2023-05-09T14:04:52.971Z"
   },
   {
    "duration": 50,
    "start_time": "2023-05-09T14:04:52.976Z"
   },
   {
    "duration": 40,
    "start_time": "2023-05-09T14:04:53.027Z"
   },
   {
    "duration": 41,
    "start_time": "2023-05-09T14:04:53.070Z"
   },
   {
    "duration": 20,
    "start_time": "2023-05-09T14:04:53.113Z"
   },
   {
    "duration": 54,
    "start_time": "2023-05-09T14:04:53.135Z"
   },
   {
    "duration": 103,
    "start_time": "2023-05-09T14:04:53.196Z"
   },
   {
    "duration": 193,
    "start_time": "2023-05-09T14:04:53.301Z"
   },
   {
    "duration": 101,
    "start_time": "2023-05-09T14:04:53.497Z"
   },
   {
    "duration": 88,
    "start_time": "2023-05-09T14:04:53.600Z"
   },
   {
    "duration": 44,
    "start_time": "2023-05-09T14:04:53.690Z"
   },
   {
    "duration": 25,
    "start_time": "2023-05-09T14:04:53.737Z"
   },
   {
    "duration": 23,
    "start_time": "2023-05-09T14:04:53.764Z"
   },
   {
    "duration": 22,
    "start_time": "2023-05-09T14:04:53.789Z"
   },
   {
    "duration": 23,
    "start_time": "2023-05-09T14:04:53.813Z"
   },
   {
    "duration": 20,
    "start_time": "2023-05-09T14:04:53.838Z"
   },
   {
    "duration": 1026,
    "start_time": "2023-05-09T14:04:53.860Z"
   },
   {
    "duration": 902,
    "start_time": "2023-05-09T14:04:54.888Z"
   },
   {
    "duration": 931,
    "start_time": "2023-05-09T14:04:55.791Z"
   },
   {
    "duration": 1653,
    "start_time": "2023-05-09T20:04:50.613Z"
   },
   {
    "duration": 1991,
    "start_time": "2023-05-09T20:04:52.268Z"
   },
   {
    "duration": 3,
    "start_time": "2023-05-09T20:04:58.439Z"
   },
   {
    "duration": 528,
    "start_time": "2023-05-09T20:05:06.322Z"
   },
   {
    "duration": 494,
    "start_time": "2023-05-09T20:05:16.100Z"
   },
   {
    "duration": 548,
    "start_time": "2023-05-09T20:05:17.244Z"
   },
   {
    "duration": 4,
    "start_time": "2023-05-09T20:07:23.202Z"
   },
   {
    "duration": 172,
    "start_time": "2023-05-09T20:07:24.728Z"
   },
   {
    "duration": 11,
    "start_time": "2023-05-09T20:10:02.161Z"
   },
   {
    "duration": 1380,
    "start_time": "2023-05-09T20:10:24.500Z"
   },
   {
    "duration": 340,
    "start_time": "2023-05-09T20:10:25.882Z"
   },
   {
    "duration": 3,
    "start_time": "2023-05-09T20:10:26.223Z"
   },
   {
    "duration": 517,
    "start_time": "2023-05-09T20:10:26.228Z"
   },
   {
    "duration": 501,
    "start_time": "2023-05-09T20:10:26.748Z"
   },
   {
    "duration": 534,
    "start_time": "2023-05-09T20:10:27.251Z"
   },
   {
    "duration": 2,
    "start_time": "2023-05-09T20:10:27.787Z"
   },
   {
    "duration": 11,
    "start_time": "2023-05-09T20:10:27.791Z"
   },
   {
    "duration": 136,
    "start_time": "2023-05-09T20:10:27.804Z"
   },
   {
    "duration": 0,
    "start_time": "2023-05-09T20:10:27.942Z"
   },
   {
    "duration": 0,
    "start_time": "2023-05-09T20:10:27.943Z"
   },
   {
    "duration": 0,
    "start_time": "2023-05-09T20:10:27.949Z"
   },
   {
    "duration": 0,
    "start_time": "2023-05-09T20:10:27.950Z"
   },
   {
    "duration": 0,
    "start_time": "2023-05-09T20:10:27.951Z"
   },
   {
    "duration": 0,
    "start_time": "2023-05-09T20:10:27.952Z"
   },
   {
    "duration": 0,
    "start_time": "2023-05-09T20:10:27.953Z"
   },
   {
    "duration": 0,
    "start_time": "2023-05-09T20:10:27.954Z"
   },
   {
    "duration": 0,
    "start_time": "2023-05-09T20:10:27.955Z"
   },
   {
    "duration": 0,
    "start_time": "2023-05-09T20:10:27.957Z"
   },
   {
    "duration": 0,
    "start_time": "2023-05-09T20:10:27.958Z"
   },
   {
    "duration": 0,
    "start_time": "2023-05-09T20:10:27.959Z"
   },
   {
    "duration": 0,
    "start_time": "2023-05-09T20:10:27.960Z"
   },
   {
    "duration": 0,
    "start_time": "2023-05-09T20:10:27.961Z"
   },
   {
    "duration": 0,
    "start_time": "2023-05-09T20:10:27.962Z"
   },
   {
    "duration": 0,
    "start_time": "2023-05-09T20:10:27.963Z"
   },
   {
    "duration": 0,
    "start_time": "2023-05-09T20:10:27.964Z"
   },
   {
    "duration": 0,
    "start_time": "2023-05-09T20:10:27.964Z"
   },
   {
    "duration": 0,
    "start_time": "2023-05-09T20:10:27.966Z"
   },
   {
    "duration": 0,
    "start_time": "2023-05-09T20:10:27.966Z"
   },
   {
    "duration": 0,
    "start_time": "2023-05-09T20:10:27.968Z"
   },
   {
    "duration": 125,
    "start_time": "2023-05-09T20:10:45.226Z"
   },
   {
    "duration": 16,
    "start_time": "2023-05-09T20:10:58.539Z"
   },
   {
    "duration": 3,
    "start_time": "2023-05-09T20:11:01.020Z"
   },
   {
    "duration": 15,
    "start_time": "2023-05-09T20:11:01.584Z"
   },
   {
    "duration": 1373,
    "start_time": "2023-05-09T20:11:07.314Z"
   },
   {
    "duration": 346,
    "start_time": "2023-05-09T20:11:08.689Z"
   },
   {
    "duration": 3,
    "start_time": "2023-05-09T20:11:09.037Z"
   },
   {
    "duration": 501,
    "start_time": "2023-05-09T20:11:09.041Z"
   },
   {
    "duration": 521,
    "start_time": "2023-05-09T20:11:09.544Z"
   },
   {
    "duration": 539,
    "start_time": "2023-05-09T20:11:10.067Z"
   },
   {
    "duration": 3,
    "start_time": "2023-05-09T20:11:10.607Z"
   },
   {
    "duration": 13,
    "start_time": "2023-05-09T20:11:10.612Z"
   },
   {
    "duration": 133,
    "start_time": "2023-05-09T20:11:10.628Z"
   },
   {
    "duration": 0,
    "start_time": "2023-05-09T20:11:10.763Z"
   },
   {
    "duration": 0,
    "start_time": "2023-05-09T20:11:10.764Z"
   },
   {
    "duration": 0,
    "start_time": "2023-05-09T20:11:10.765Z"
   },
   {
    "duration": 0,
    "start_time": "2023-05-09T20:11:10.766Z"
   },
   {
    "duration": 0,
    "start_time": "2023-05-09T20:11:10.767Z"
   },
   {
    "duration": 0,
    "start_time": "2023-05-09T20:11:10.768Z"
   },
   {
    "duration": 0,
    "start_time": "2023-05-09T20:11:10.768Z"
   },
   {
    "duration": 0,
    "start_time": "2023-05-09T20:11:10.769Z"
   },
   {
    "duration": 0,
    "start_time": "2023-05-09T20:11:10.771Z"
   },
   {
    "duration": 0,
    "start_time": "2023-05-09T20:11:10.772Z"
   },
   {
    "duration": 0,
    "start_time": "2023-05-09T20:11:10.773Z"
   },
   {
    "duration": 0,
    "start_time": "2023-05-09T20:11:10.774Z"
   },
   {
    "duration": 0,
    "start_time": "2023-05-09T20:11:10.774Z"
   },
   {
    "duration": 0,
    "start_time": "2023-05-09T20:11:10.775Z"
   },
   {
    "duration": 0,
    "start_time": "2023-05-09T20:11:10.777Z"
   },
   {
    "duration": 0,
    "start_time": "2023-05-09T20:11:10.778Z"
   },
   {
    "duration": 0,
    "start_time": "2023-05-09T20:11:10.779Z"
   },
   {
    "duration": 0,
    "start_time": "2023-05-09T20:11:10.781Z"
   },
   {
    "duration": 0,
    "start_time": "2023-05-09T20:11:10.782Z"
   },
   {
    "duration": 0,
    "start_time": "2023-05-09T20:11:10.783Z"
   },
   {
    "duration": 0,
    "start_time": "2023-05-09T20:11:10.784Z"
   },
   {
    "duration": 3,
    "start_time": "2023-05-09T20:12:50.395Z"
   },
   {
    "duration": 364,
    "start_time": "2023-05-09T20:12:51.185Z"
   },
   {
    "duration": 4,
    "start_time": "2023-05-09T20:12:51.550Z"
   },
   {
    "duration": 500,
    "start_time": "2023-05-09T20:12:52.809Z"
   },
   {
    "duration": 495,
    "start_time": "2023-05-09T20:12:53.925Z"
   },
   {
    "duration": 504,
    "start_time": "2023-05-09T20:12:54.839Z"
   },
   {
    "duration": 4,
    "start_time": "2023-05-09T20:12:56.279Z"
   },
   {
    "duration": 15,
    "start_time": "2023-05-09T20:13:00.098Z"
   },
   {
    "duration": 1370,
    "start_time": "2023-05-09T20:13:11.778Z"
   },
   {
    "duration": 342,
    "start_time": "2023-05-09T20:13:13.150Z"
   },
   {
    "duration": 3,
    "start_time": "2023-05-09T20:13:13.494Z"
   },
   {
    "duration": 568,
    "start_time": "2023-05-09T20:13:13.499Z"
   },
   {
    "duration": 555,
    "start_time": "2023-05-09T20:13:14.070Z"
   },
   {
    "duration": 611,
    "start_time": "2023-05-09T20:13:14.626Z"
   },
   {
    "duration": 4,
    "start_time": "2023-05-09T20:13:15.238Z"
   },
   {
    "duration": 47,
    "start_time": "2023-05-09T20:13:15.249Z"
   },
   {
    "duration": 129,
    "start_time": "2023-05-09T20:13:15.298Z"
   },
   {
    "duration": 0,
    "start_time": "2023-05-09T20:13:15.429Z"
   },
   {
    "duration": 0,
    "start_time": "2023-05-09T20:13:15.430Z"
   },
   {
    "duration": 0,
    "start_time": "2023-05-09T20:13:15.431Z"
   },
   {
    "duration": 0,
    "start_time": "2023-05-09T20:13:15.432Z"
   },
   {
    "duration": 0,
    "start_time": "2023-05-09T20:13:15.433Z"
   },
   {
    "duration": 0,
    "start_time": "2023-05-09T20:13:15.434Z"
   },
   {
    "duration": 0,
    "start_time": "2023-05-09T20:13:15.450Z"
   },
   {
    "duration": 0,
    "start_time": "2023-05-09T20:13:15.451Z"
   },
   {
    "duration": 0,
    "start_time": "2023-05-09T20:13:15.453Z"
   },
   {
    "duration": 0,
    "start_time": "2023-05-09T20:13:15.454Z"
   },
   {
    "duration": 0,
    "start_time": "2023-05-09T20:13:15.455Z"
   },
   {
    "duration": 0,
    "start_time": "2023-05-09T20:13:15.456Z"
   },
   {
    "duration": 0,
    "start_time": "2023-05-09T20:13:15.457Z"
   },
   {
    "duration": 0,
    "start_time": "2023-05-09T20:13:15.458Z"
   },
   {
    "duration": 0,
    "start_time": "2023-05-09T20:13:15.459Z"
   },
   {
    "duration": 0,
    "start_time": "2023-05-09T20:13:15.460Z"
   },
   {
    "duration": 0,
    "start_time": "2023-05-09T20:13:15.461Z"
   },
   {
    "duration": 0,
    "start_time": "2023-05-09T20:13:15.462Z"
   },
   {
    "duration": 0,
    "start_time": "2023-05-09T20:13:15.463Z"
   },
   {
    "duration": 0,
    "start_time": "2023-05-09T20:13:15.464Z"
   },
   {
    "duration": 35,
    "start_time": "2023-05-09T20:13:45.198Z"
   },
   {
    "duration": 42,
    "start_time": "2023-05-09T20:13:45.353Z"
   },
   {
    "duration": 1319,
    "start_time": "2023-05-09T20:13:55.316Z"
   },
   {
    "duration": 360,
    "start_time": "2023-05-09T20:13:56.637Z"
   },
   {
    "duration": 4,
    "start_time": "2023-05-09T20:13:56.999Z"
   },
   {
    "duration": 544,
    "start_time": "2023-05-09T20:13:57.005Z"
   },
   {
    "duration": 518,
    "start_time": "2023-05-09T20:13:57.552Z"
   },
   {
    "duration": 561,
    "start_time": "2023-05-09T20:13:58.072Z"
   },
   {
    "duration": 3,
    "start_time": "2023-05-09T20:13:58.634Z"
   },
   {
    "duration": 61,
    "start_time": "2023-05-09T20:13:58.639Z"
   },
   {
    "duration": 37,
    "start_time": "2023-05-09T20:13:58.702Z"
   },
   {
    "duration": 41,
    "start_time": "2023-05-09T20:13:58.749Z"
   },
   {
    "duration": 5,
    "start_time": "2023-05-09T20:13:58.792Z"
   },
   {
    "duration": 50,
    "start_time": "2023-05-09T20:13:58.799Z"
   },
   {
    "duration": 25,
    "start_time": "2023-05-09T20:13:58.850Z"
   },
   {
    "duration": 21,
    "start_time": "2023-05-09T20:13:58.879Z"
   },
   {
    "duration": 11,
    "start_time": "2023-05-09T20:13:58.903Z"
   },
   {
    "duration": 54,
    "start_time": "2023-05-09T20:13:58.916Z"
   },
   {
    "duration": 196,
    "start_time": "2023-05-09T20:13:58.972Z"
   },
   {
    "duration": 199,
    "start_time": "2023-05-09T20:13:59.170Z"
   },
   {
    "duration": 198,
    "start_time": "2023-05-09T20:13:59.371Z"
   },
   {
    "duration": 6,
    "start_time": "2023-05-09T20:13:59.571Z"
   },
   {
    "duration": 18,
    "start_time": "2023-05-09T20:13:59.578Z"
   },
   {
    "duration": 21,
    "start_time": "2023-05-09T20:13:59.597Z"
   },
   {
    "duration": 19,
    "start_time": "2023-05-09T20:13:59.619Z"
   },
   {
    "duration": 32,
    "start_time": "2023-05-09T20:13:59.640Z"
   },
   {
    "duration": 12,
    "start_time": "2023-05-09T20:13:59.674Z"
   },
   {
    "duration": 16,
    "start_time": "2023-05-09T20:13:59.688Z"
   },
   {
    "duration": 835,
    "start_time": "2023-05-09T20:13:59.705Z"
   },
   {
    "duration": 848,
    "start_time": "2023-05-09T20:14:00.542Z"
   },
   {
    "duration": 759,
    "start_time": "2023-05-09T20:14:01.392Z"
   },
   {
    "duration": 3,
    "start_time": "2023-05-09T20:14:46.000Z"
   },
   {
    "duration": 120,
    "start_time": "2023-05-09T20:14:47.368Z"
   },
   {
    "duration": 5,
    "start_time": "2023-05-09T20:15:07.399Z"
   },
   {
    "duration": 371,
    "start_time": "2023-05-09T20:15:07.830Z"
   },
   {
    "duration": 4,
    "start_time": "2023-05-09T20:15:08.202Z"
   },
   {
    "duration": 481,
    "start_time": "2023-05-09T20:15:08.442Z"
   },
   {
    "duration": 492,
    "start_time": "2023-05-09T20:15:09.197Z"
   },
   {
    "duration": 567,
    "start_time": "2023-05-09T20:15:12.198Z"
   },
   {
    "duration": 3,
    "start_time": "2023-05-09T20:15:28.201Z"
   },
   {
    "duration": 48,
    "start_time": "2023-05-09T20:15:30.281Z"
   },
   {
    "duration": 3,
    "start_time": "2023-05-09T20:16:12.965Z"
   },
   {
    "duration": 42,
    "start_time": "2023-05-09T20:16:15.960Z"
   },
   {
    "duration": 1266,
    "start_time": "2023-05-09T20:16:25.994Z"
   },
   {
    "duration": 340,
    "start_time": "2023-05-09T20:16:27.262Z"
   },
   {
    "duration": 3,
    "start_time": "2023-05-09T20:16:27.604Z"
   },
   {
    "duration": 495,
    "start_time": "2023-05-09T20:16:27.608Z"
   },
   {
    "duration": 488,
    "start_time": "2023-05-09T20:16:28.105Z"
   },
   {
    "duration": 572,
    "start_time": "2023-05-09T20:16:28.595Z"
   },
   {
    "duration": 3,
    "start_time": "2023-05-09T20:16:29.168Z"
   },
   {
    "duration": 77,
    "start_time": "2023-05-09T20:16:29.173Z"
   },
   {
    "duration": 61,
    "start_time": "2023-05-09T20:16:29.252Z"
   },
   {
    "duration": 71,
    "start_time": "2023-05-09T20:16:29.314Z"
   },
   {
    "duration": 5,
    "start_time": "2023-05-09T20:16:29.386Z"
   },
   {
    "duration": 18,
    "start_time": "2023-05-09T20:16:29.392Z"
   },
   {
    "duration": 13,
    "start_time": "2023-05-09T20:16:29.411Z"
   },
   {
    "duration": 37,
    "start_time": "2023-05-09T20:16:29.426Z"
   },
   {
    "duration": 4,
    "start_time": "2023-05-09T20:16:29.465Z"
   },
   {
    "duration": 19,
    "start_time": "2023-05-09T20:16:29.471Z"
   },
   {
    "duration": 69,
    "start_time": "2023-05-09T20:16:29.492Z"
   },
   {
    "duration": 124,
    "start_time": "2023-05-09T20:16:29.649Z"
   },
   {
    "duration": 179,
    "start_time": "2023-05-09T20:16:29.776Z"
   },
   {
    "duration": 4,
    "start_time": "2023-05-09T20:16:29.957Z"
   },
   {
    "duration": 10,
    "start_time": "2023-05-09T20:16:29.962Z"
   },
   {
    "duration": 15,
    "start_time": "2023-05-09T20:16:29.973Z"
   },
   {
    "duration": 13,
    "start_time": "2023-05-09T20:16:29.990Z"
   },
   {
    "duration": 32,
    "start_time": "2023-05-09T20:16:30.005Z"
   },
   {
    "duration": 22,
    "start_time": "2023-05-09T20:16:30.039Z"
   },
   {
    "duration": 31,
    "start_time": "2023-05-09T20:16:30.063Z"
   },
   {
    "duration": 840,
    "start_time": "2023-05-09T20:16:30.095Z"
   },
   {
    "duration": 767,
    "start_time": "2023-05-09T20:16:30.936Z"
   },
   {
    "duration": 724,
    "start_time": "2023-05-09T20:16:31.705Z"
   },
   {
    "duration": 75,
    "start_time": "2023-05-09T20:23:53.502Z"
   },
   {
    "duration": 3,
    "start_time": "2023-05-09T20:24:08.067Z"
   },
   {
    "duration": 337,
    "start_time": "2023-05-09T20:24:08.642Z"
   },
   {
    "duration": 4,
    "start_time": "2023-05-09T20:24:08.980Z"
   },
   {
    "duration": 464,
    "start_time": "2023-05-09T20:24:10.154Z"
   },
   {
    "duration": 474,
    "start_time": "2023-05-09T20:24:10.800Z"
   },
   {
    "duration": 546,
    "start_time": "2023-05-09T20:24:11.397Z"
   },
   {
    "duration": 69,
    "start_time": "2023-05-09T20:24:12.043Z"
   },
   {
    "duration": 48,
    "start_time": "2023-05-09T20:24:14.377Z"
   },
   {
    "duration": 1325,
    "start_time": "2023-05-09T20:25:39.151Z"
   },
   {
    "duration": 363,
    "start_time": "2023-05-09T20:25:40.478Z"
   },
   {
    "duration": 6,
    "start_time": "2023-05-09T20:25:40.843Z"
   },
   {
    "duration": 518,
    "start_time": "2023-05-09T20:25:40.851Z"
   },
   {
    "duration": 512,
    "start_time": "2023-05-09T20:25:41.371Z"
   },
   {
    "duration": 541,
    "start_time": "2023-05-09T20:25:41.885Z"
   },
   {
    "duration": 65,
    "start_time": "2023-05-09T20:25:42.429Z"
   },
   {
    "duration": 0,
    "start_time": "2023-05-09T20:25:42.496Z"
   },
   {
    "duration": 0,
    "start_time": "2023-05-09T20:25:42.497Z"
   },
   {
    "duration": 0,
    "start_time": "2023-05-09T20:25:42.498Z"
   },
   {
    "duration": 0,
    "start_time": "2023-05-09T20:25:42.500Z"
   },
   {
    "duration": 0,
    "start_time": "2023-05-09T20:25:42.501Z"
   },
   {
    "duration": 0,
    "start_time": "2023-05-09T20:25:42.502Z"
   },
   {
    "duration": 0,
    "start_time": "2023-05-09T20:25:42.503Z"
   },
   {
    "duration": 0,
    "start_time": "2023-05-09T20:25:42.504Z"
   },
   {
    "duration": 0,
    "start_time": "2023-05-09T20:25:42.505Z"
   },
   {
    "duration": 0,
    "start_time": "2023-05-09T20:25:42.506Z"
   },
   {
    "duration": 0,
    "start_time": "2023-05-09T20:25:42.507Z"
   },
   {
    "duration": 0,
    "start_time": "2023-05-09T20:25:42.508Z"
   },
   {
    "duration": 0,
    "start_time": "2023-05-09T20:25:42.510Z"
   },
   {
    "duration": 0,
    "start_time": "2023-05-09T20:25:42.511Z"
   },
   {
    "duration": 0,
    "start_time": "2023-05-09T20:25:42.512Z"
   },
   {
    "duration": 0,
    "start_time": "2023-05-09T20:25:42.513Z"
   },
   {
    "duration": 0,
    "start_time": "2023-05-09T20:25:42.514Z"
   },
   {
    "duration": 0,
    "start_time": "2023-05-09T20:25:42.515Z"
   },
   {
    "duration": 0,
    "start_time": "2023-05-09T20:25:42.517Z"
   },
   {
    "duration": 0,
    "start_time": "2023-05-09T20:25:42.518Z"
   },
   {
    "duration": 0,
    "start_time": "2023-05-09T20:25:42.519Z"
   },
   {
    "duration": 0,
    "start_time": "2023-05-09T20:25:42.520Z"
   },
   {
    "duration": 3,
    "start_time": "2023-05-09T20:26:03.400Z"
   },
   {
    "duration": 52,
    "start_time": "2023-05-09T20:26:06.954Z"
   },
   {
    "duration": 48,
    "start_time": "2023-05-09T20:26:21.451Z"
   },
   {
    "duration": 50,
    "start_time": "2023-05-09T20:26:21.840Z"
   },
   {
    "duration": 4,
    "start_time": "2023-05-09T20:26:52.013Z"
   },
   {
    "duration": 13,
    "start_time": "2023-05-09T20:26:52.601Z"
   },
   {
    "duration": 14,
    "start_time": "2023-05-09T20:26:53.346Z"
   },
   {
    "duration": 12,
    "start_time": "2023-05-09T20:26:55.902Z"
   },
   {
    "duration": 4,
    "start_time": "2023-05-09T20:26:56.262Z"
   },
   {
    "duration": 20,
    "start_time": "2023-05-09T20:26:56.904Z"
   },
   {
    "duration": 13,
    "start_time": "2023-05-09T20:26:57.272Z"
   },
   {
    "duration": 15,
    "start_time": "2023-05-09T20:26:59.637Z"
   },
   {
    "duration": 1297,
    "start_time": "2023-05-09T20:31:15.348Z"
   },
   {
    "duration": 354,
    "start_time": "2023-05-09T20:31:16.647Z"
   },
   {
    "duration": 3,
    "start_time": "2023-05-09T20:31:17.003Z"
   },
   {
    "duration": 504,
    "start_time": "2023-05-09T20:31:17.008Z"
   },
   {
    "duration": 507,
    "start_time": "2023-05-09T20:31:17.513Z"
   },
   {
    "duration": 556,
    "start_time": "2023-05-09T20:31:18.021Z"
   },
   {
    "duration": 3,
    "start_time": "2023-05-09T20:31:18.579Z"
   },
   {
    "duration": 91,
    "start_time": "2023-05-09T20:31:18.584Z"
   },
   {
    "duration": 44,
    "start_time": "2023-05-09T20:31:18.677Z"
   },
   {
    "duration": 67,
    "start_time": "2023-05-09T20:31:18.723Z"
   },
   {
    "duration": 4,
    "start_time": "2023-05-09T20:31:18.792Z"
   },
   {
    "duration": 16,
    "start_time": "2023-05-09T20:31:18.797Z"
   },
   {
    "duration": 28,
    "start_time": "2023-05-09T20:31:18.815Z"
   },
   {
    "duration": 14,
    "start_time": "2023-05-09T20:31:18.845Z"
   },
   {
    "duration": 11,
    "start_time": "2023-05-09T20:31:18.861Z"
   },
   {
    "duration": 34,
    "start_time": "2023-05-09T20:31:18.873Z"
   },
   {
    "duration": 141,
    "start_time": "2023-05-09T20:31:18.910Z"
   },
   {
    "duration": 102,
    "start_time": "2023-05-09T20:31:19.053Z"
   },
   {
    "duration": 192,
    "start_time": "2023-05-09T20:31:19.157Z"
   },
   {
    "duration": 4,
    "start_time": "2023-05-09T20:31:19.351Z"
   },
   {
    "duration": 18,
    "start_time": "2023-05-09T20:31:19.356Z"
   },
   {
    "duration": 20,
    "start_time": "2023-05-09T20:31:19.375Z"
   },
   {
    "duration": 18,
    "start_time": "2023-05-09T20:31:19.396Z"
   },
   {
    "duration": 17,
    "start_time": "2023-05-09T20:31:19.415Z"
   },
   {
    "duration": 5,
    "start_time": "2023-05-09T20:31:19.433Z"
   },
   {
    "duration": 20,
    "start_time": "2023-05-09T20:31:19.439Z"
   },
   {
    "duration": 768,
    "start_time": "2023-05-09T20:31:19.460Z"
   },
   {
    "duration": 735,
    "start_time": "2023-05-09T20:31:20.231Z"
   },
   {
    "duration": 754,
    "start_time": "2023-05-09T20:31:20.967Z"
   },
   {
    "duration": 4,
    "start_time": "2023-05-09T20:47:58.430Z"
   },
   {
    "duration": 116,
    "start_time": "2023-05-09T20:48:01.095Z"
   },
   {
    "duration": 4,
    "start_time": "2023-05-09T20:48:18.853Z"
   },
   {
    "duration": 12,
    "start_time": "2023-05-09T20:48:22.108Z"
   },
   {
    "duration": 4,
    "start_time": "2023-05-09T20:48:42.929Z"
   },
   {
    "duration": 15,
    "start_time": "2023-05-09T20:48:46.171Z"
   },
   {
    "duration": 4,
    "start_time": "2023-05-09T20:48:59.606Z"
   },
   {
    "duration": 14,
    "start_time": "2023-05-09T20:49:02.253Z"
   },
   {
    "duration": 1384,
    "start_time": "2023-05-09T20:49:49.137Z"
   },
   {
    "duration": 366,
    "start_time": "2023-05-09T20:49:50.523Z"
   },
   {
    "duration": 3,
    "start_time": "2023-05-09T20:49:50.891Z"
   },
   {
    "duration": 528,
    "start_time": "2023-05-09T20:49:50.897Z"
   },
   {
    "duration": 503,
    "start_time": "2023-05-09T20:49:51.427Z"
   },
   {
    "duration": 570,
    "start_time": "2023-05-09T20:49:51.932Z"
   },
   {
    "duration": 3,
    "start_time": "2023-05-09T20:49:52.504Z"
   },
   {
    "duration": 68,
    "start_time": "2023-05-09T20:49:52.508Z"
   },
   {
    "duration": 48,
    "start_time": "2023-05-09T20:49:52.577Z"
   },
   {
    "duration": 73,
    "start_time": "2023-05-09T20:49:52.628Z"
   },
   {
    "duration": 4,
    "start_time": "2023-05-09T20:49:52.702Z"
   },
   {
    "duration": 21,
    "start_time": "2023-05-09T20:49:52.708Z"
   },
   {
    "duration": 16,
    "start_time": "2023-05-09T20:49:52.749Z"
   },
   {
    "duration": 19,
    "start_time": "2023-05-09T20:49:52.767Z"
   },
   {
    "duration": 4,
    "start_time": "2023-05-09T20:49:52.788Z"
   },
   {
    "duration": 156,
    "start_time": "2023-05-09T20:49:52.794Z"
   },
   {
    "duration": 12,
    "start_time": "2023-05-09T20:49:52.952Z"
   },
   {
    "duration": 197,
    "start_time": "2023-05-09T20:49:52.967Z"
   },
   {
    "duration": 84,
    "start_time": "2023-05-09T20:49:53.165Z"
   },
   {
    "duration": 110,
    "start_time": "2023-05-09T20:49:53.251Z"
   },
   {
    "duration": 21,
    "start_time": "2023-05-09T20:49:53.364Z"
   },
   {
    "duration": 149,
    "start_time": "2023-05-09T20:49:53.387Z"
   },
   {
    "duration": 0,
    "start_time": "2023-05-09T20:49:53.538Z"
   },
   {
    "duration": 0,
    "start_time": "2023-05-09T20:49:53.540Z"
   },
   {
    "duration": 0,
    "start_time": "2023-05-09T20:49:53.541Z"
   },
   {
    "duration": 0,
    "start_time": "2023-05-09T20:49:53.549Z"
   },
   {
    "duration": 0,
    "start_time": "2023-05-09T20:49:53.550Z"
   },
   {
    "duration": 0,
    "start_time": "2023-05-09T20:49:53.551Z"
   },
   {
    "duration": 0,
    "start_time": "2023-05-09T20:49:53.552Z"
   },
   {
    "duration": 3,
    "start_time": "2023-05-09T20:53:57.263Z"
   },
   {
    "duration": 4,
    "start_time": "2023-05-09T20:53:59.000Z"
   },
   {
    "duration": 14,
    "start_time": "2023-05-09T20:53:59.890Z"
   },
   {
    "duration": 5,
    "start_time": "2023-05-09T20:54:47.099Z"
   },
   {
    "duration": 5,
    "start_time": "2023-05-09T20:55:09.121Z"
   },
   {
    "duration": 3,
    "start_time": "2023-05-09T20:56:30.106Z"
   },
   {
    "duration": 4,
    "start_time": "2023-05-09T20:56:32.358Z"
   },
   {
    "duration": 17,
    "start_time": "2023-05-09T20:56:33.575Z"
   },
   {
    "duration": 9,
    "start_time": "2023-05-09T20:57:10.427Z"
   },
   {
    "duration": 9,
    "start_time": "2023-05-09T20:57:29.455Z"
   },
   {
    "duration": 3,
    "start_time": "2023-05-09T20:58:16.348Z"
   },
   {
    "duration": 3,
    "start_time": "2023-05-09T20:58:17.430Z"
   },
   {
    "duration": 18,
    "start_time": "2023-05-09T20:58:18.214Z"
   },
   {
    "duration": 3,
    "start_time": "2023-05-09T20:58:40.978Z"
   },
   {
    "duration": 4,
    "start_time": "2023-05-09T20:58:42.065Z"
   },
   {
    "duration": 15,
    "start_time": "2023-05-09T20:58:42.863Z"
   },
   {
    "duration": 4,
    "start_time": "2023-05-09T20:59:04.284Z"
   },
   {
    "duration": 5,
    "start_time": "2023-05-09T20:59:41.016Z"
   },
   {
    "duration": 12,
    "start_time": "2023-05-09T20:59:41.581Z"
   },
   {
    "duration": 3,
    "start_time": "2023-05-09T21:00:15.800Z"
   },
   {
    "duration": 16,
    "start_time": "2023-05-09T21:00:16.523Z"
   },
   {
    "duration": 4,
    "start_time": "2023-05-09T21:01:07.496Z"
   },
   {
    "duration": 12,
    "start_time": "2023-05-09T21:01:07.982Z"
   },
   {
    "duration": 5,
    "start_time": "2023-05-09T21:01:40.782Z"
   },
   {
    "duration": 13,
    "start_time": "2023-05-09T21:01:41.233Z"
   },
   {
    "duration": 4,
    "start_time": "2023-05-09T21:02:25.616Z"
   },
   {
    "duration": 16,
    "start_time": "2023-05-09T21:02:26.223Z"
   },
   {
    "duration": 4,
    "start_time": "2023-05-09T21:02:46.056Z"
   },
   {
    "duration": 12,
    "start_time": "2023-05-09T21:02:46.535Z"
   },
   {
    "duration": 4,
    "start_time": "2023-05-09T21:03:06.705Z"
   },
   {
    "duration": 3,
    "start_time": "2023-05-09T21:03:07.444Z"
   },
   {
    "duration": 4,
    "start_time": "2023-05-09T21:03:36.311Z"
   },
   {
    "duration": 14,
    "start_time": "2023-05-09T21:03:36.779Z"
   },
   {
    "duration": 4,
    "start_time": "2023-05-09T21:03:57.051Z"
   },
   {
    "duration": 3,
    "start_time": "2023-05-09T21:04:10.194Z"
   },
   {
    "duration": 4,
    "start_time": "2023-05-09T21:04:10.949Z"
   },
   {
    "duration": 3,
    "start_time": "2023-05-09T21:04:23.058Z"
   },
   {
    "duration": 15,
    "start_time": "2023-05-09T21:04:23.748Z"
   },
   {
    "duration": 3,
    "start_time": "2023-05-09T21:04:53.201Z"
   },
   {
    "duration": 3,
    "start_time": "2023-05-09T21:04:53.723Z"
   },
   {
    "duration": 4,
    "start_time": "2023-05-09T21:05:37.919Z"
   },
   {
    "duration": 23,
    "start_time": "2023-05-09T21:05:38.894Z"
   },
   {
    "duration": 4,
    "start_time": "2023-05-09T21:06:16.642Z"
   },
   {
    "duration": 4,
    "start_time": "2023-05-09T21:06:26.719Z"
   },
   {
    "duration": 5,
    "start_time": "2023-05-09T21:07:15.849Z"
   },
   {
    "duration": 13,
    "start_time": "2023-05-09T21:07:17.082Z"
   },
   {
    "duration": 5,
    "start_time": "2023-05-09T21:07:37.209Z"
   },
   {
    "duration": 8,
    "start_time": "2023-05-09T21:07:40.284Z"
   },
   {
    "duration": 5,
    "start_time": "2023-05-09T21:09:32.221Z"
   },
   {
    "duration": 12,
    "start_time": "2023-05-09T21:09:33.906Z"
   },
   {
    "duration": 5,
    "start_time": "2023-05-09T21:12:49.976Z"
   },
   {
    "duration": 14,
    "start_time": "2023-05-09T21:12:51.278Z"
   },
   {
    "duration": 15,
    "start_time": "2023-05-09T21:13:21.107Z"
   },
   {
    "duration": 15,
    "start_time": "2023-05-09T21:13:21.506Z"
   },
   {
    "duration": 1395,
    "start_time": "2023-05-09T21:13:44.284Z"
   },
   {
    "duration": 374,
    "start_time": "2023-05-09T21:13:45.682Z"
   },
   {
    "duration": 4,
    "start_time": "2023-05-09T21:13:46.057Z"
   },
   {
    "duration": 566,
    "start_time": "2023-05-09T21:13:46.063Z"
   },
   {
    "duration": 609,
    "start_time": "2023-05-09T21:13:46.632Z"
   },
   {
    "duration": 562,
    "start_time": "2023-05-09T21:13:47.242Z"
   },
   {
    "duration": 3,
    "start_time": "2023-05-09T21:13:47.807Z"
   },
   {
    "duration": 73,
    "start_time": "2023-05-09T21:13:47.812Z"
   },
   {
    "duration": 80,
    "start_time": "2023-05-09T21:13:47.888Z"
   },
   {
    "duration": 59,
    "start_time": "2023-05-09T21:13:47.970Z"
   },
   {
    "duration": 7,
    "start_time": "2023-05-09T21:13:48.049Z"
   },
   {
    "duration": 28,
    "start_time": "2023-05-09T21:13:48.058Z"
   },
   {
    "duration": 22,
    "start_time": "2023-05-09T21:13:48.088Z"
   },
   {
    "duration": 18,
    "start_time": "2023-05-09T21:13:48.113Z"
   },
   {
    "duration": 17,
    "start_time": "2023-05-09T21:13:48.133Z"
   },
   {
    "duration": 34,
    "start_time": "2023-05-09T21:13:48.152Z"
   },
   {
    "duration": 162,
    "start_time": "2023-05-09T21:13:48.189Z"
   },
   {
    "duration": 202,
    "start_time": "2023-05-09T21:13:48.354Z"
   },
   {
    "duration": 194,
    "start_time": "2023-05-09T21:13:48.558Z"
   },
   {
    "duration": 8,
    "start_time": "2023-05-09T21:13:48.753Z"
   },
   {
    "duration": 25,
    "start_time": "2023-05-09T21:13:48.762Z"
   },
   {
    "duration": 15,
    "start_time": "2023-05-09T21:13:48.788Z"
   },
   {
    "duration": 22,
    "start_time": "2023-05-09T21:13:48.805Z"
   },
   {
    "duration": 3,
    "start_time": "2023-05-09T21:13:48.829Z"
   },
   {
    "duration": 30,
    "start_time": "2023-05-09T21:13:48.833Z"
   },
   {
    "duration": 125,
    "start_time": "2023-05-09T21:13:48.865Z"
   },
   {
    "duration": 0,
    "start_time": "2023-05-09T21:13:48.991Z"
   },
   {
    "duration": 0,
    "start_time": "2023-05-09T21:13:48.992Z"
   },
   {
    "duration": 1300,
    "start_time": "2023-05-09T21:16:05.787Z"
   },
   {
    "duration": 354,
    "start_time": "2023-05-09T21:16:07.089Z"
   },
   {
    "duration": 4,
    "start_time": "2023-05-09T21:16:07.445Z"
   },
   {
    "duration": 505,
    "start_time": "2023-05-09T21:16:07.451Z"
   },
   {
    "duration": 500,
    "start_time": "2023-05-09T21:16:07.959Z"
   },
   {
    "duration": 545,
    "start_time": "2023-05-09T21:16:08.461Z"
   },
   {
    "duration": 3,
    "start_time": "2023-05-09T21:16:09.007Z"
   },
   {
    "duration": 75,
    "start_time": "2023-05-09T21:16:09.012Z"
   },
   {
    "duration": 45,
    "start_time": "2023-05-09T21:16:09.088Z"
   },
   {
    "duration": 51,
    "start_time": "2023-05-09T21:16:09.149Z"
   },
   {
    "duration": 4,
    "start_time": "2023-05-09T21:16:09.202Z"
   },
   {
    "duration": 22,
    "start_time": "2023-05-09T21:16:09.208Z"
   },
   {
    "duration": 28,
    "start_time": "2023-05-09T21:16:09.231Z"
   },
   {
    "duration": 13,
    "start_time": "2023-05-09T21:16:09.262Z"
   },
   {
    "duration": 3,
    "start_time": "2023-05-09T21:16:09.277Z"
   },
   {
    "duration": 71,
    "start_time": "2023-05-09T21:16:09.282Z"
   },
   {
    "duration": 98,
    "start_time": "2023-05-09T21:16:09.354Z"
   },
   {
    "duration": 107,
    "start_time": "2023-05-09T21:16:09.454Z"
   },
   {
    "duration": 99,
    "start_time": "2023-05-09T21:16:09.650Z"
   },
   {
    "duration": 5,
    "start_time": "2023-05-09T21:16:09.751Z"
   },
   {
    "duration": 12,
    "start_time": "2023-05-09T21:16:09.757Z"
   },
   {
    "duration": 12,
    "start_time": "2023-05-09T21:16:09.771Z"
   },
   {
    "duration": 25,
    "start_time": "2023-05-09T21:16:09.785Z"
   },
   {
    "duration": 25,
    "start_time": "2023-05-09T21:16:09.812Z"
   },
   {
    "duration": 21,
    "start_time": "2023-05-09T21:16:09.839Z"
   },
   {
    "duration": 124,
    "start_time": "2023-05-09T21:16:09.862Z"
   },
   {
    "duration": 0,
    "start_time": "2023-05-09T21:16:09.988Z"
   },
   {
    "duration": 0,
    "start_time": "2023-05-09T21:16:09.989Z"
   },
   {
    "duration": 4,
    "start_time": "2023-05-09T21:18:27.612Z"
   },
   {
    "duration": 8,
    "start_time": "2023-05-09T21:18:28.182Z"
   },
   {
    "duration": 9,
    "start_time": "2023-05-09T21:18:30.626Z"
   },
   {
    "duration": 9,
    "start_time": "2023-05-09T21:18:31.395Z"
   },
   {
    "duration": 1294,
    "start_time": "2023-05-09T21:23:35.435Z"
   },
   {
    "duration": 354,
    "start_time": "2023-05-09T21:23:36.731Z"
   },
   {
    "duration": 3,
    "start_time": "2023-05-09T21:23:37.087Z"
   },
   {
    "duration": 496,
    "start_time": "2023-05-09T21:23:37.092Z"
   },
   {
    "duration": 483,
    "start_time": "2023-05-09T21:23:37.590Z"
   },
   {
    "duration": 550,
    "start_time": "2023-05-09T21:23:38.076Z"
   },
   {
    "duration": 3,
    "start_time": "2023-05-09T21:23:38.628Z"
   },
   {
    "duration": 60,
    "start_time": "2023-05-09T21:23:38.632Z"
   },
   {
    "duration": 72,
    "start_time": "2023-05-09T21:23:38.694Z"
   },
   {
    "duration": 52,
    "start_time": "2023-05-09T21:23:38.768Z"
   },
   {
    "duration": 4,
    "start_time": "2023-05-09T21:23:38.822Z"
   },
   {
    "duration": 13,
    "start_time": "2023-05-09T21:23:38.849Z"
   },
   {
    "duration": 13,
    "start_time": "2023-05-09T21:23:38.863Z"
   },
   {
    "duration": 13,
    "start_time": "2023-05-09T21:23:38.878Z"
   },
   {
    "duration": 3,
    "start_time": "2023-05-09T21:23:38.893Z"
   },
   {
    "duration": 53,
    "start_time": "2023-05-09T21:23:38.897Z"
   },
   {
    "duration": 103,
    "start_time": "2023-05-09T21:23:38.952Z"
   },
   {
    "duration": 196,
    "start_time": "2023-05-09T21:23:39.056Z"
   },
   {
    "duration": 100,
    "start_time": "2023-05-09T21:23:39.254Z"
   },
   {
    "duration": 93,
    "start_time": "2023-05-09T21:23:39.356Z"
   },
   {
    "duration": 12,
    "start_time": "2023-05-09T21:23:39.451Z"
   },
   {
    "duration": 8,
    "start_time": "2023-05-09T21:23:39.465Z"
   },
   {
    "duration": 8,
    "start_time": "2023-05-09T21:23:39.475Z"
   },
   {
    "duration": 3,
    "start_time": "2023-05-09T21:23:39.484Z"
   },
   {
    "duration": 7,
    "start_time": "2023-05-09T21:23:39.488Z"
   },
   {
    "duration": 147,
    "start_time": "2023-05-09T21:23:39.497Z"
   },
   {
    "duration": 0,
    "start_time": "2023-05-09T21:23:39.645Z"
   },
   {
    "duration": 0,
    "start_time": "2023-05-09T21:23:39.649Z"
   },
   {
    "duration": 5,
    "start_time": "2023-05-09T21:27:31.686Z"
   },
   {
    "duration": 9,
    "start_time": "2023-05-09T21:27:32.320Z"
   },
   {
    "duration": 8,
    "start_time": "2023-05-09T21:27:33.422Z"
   },
   {
    "duration": 8,
    "start_time": "2023-05-09T21:27:34.184Z"
   },
   {
    "duration": 1245,
    "start_time": "2023-05-09T21:29:12.494Z"
   },
   {
    "duration": 349,
    "start_time": "2023-05-09T21:29:13.741Z"
   },
   {
    "duration": 3,
    "start_time": "2023-05-09T21:29:14.092Z"
   },
   {
    "duration": 540,
    "start_time": "2023-05-09T21:29:14.097Z"
   },
   {
    "duration": 491,
    "start_time": "2023-05-09T21:29:14.638Z"
   },
   {
    "duration": 544,
    "start_time": "2023-05-09T21:29:15.130Z"
   },
   {
    "duration": 2,
    "start_time": "2023-05-09T21:29:15.676Z"
   },
   {
    "duration": 69,
    "start_time": "2023-05-09T21:29:15.680Z"
   },
   {
    "duration": 44,
    "start_time": "2023-05-09T21:29:15.751Z"
   },
   {
    "duration": 69,
    "start_time": "2023-05-09T21:29:15.797Z"
   },
   {
    "duration": 4,
    "start_time": "2023-05-09T21:29:15.867Z"
   },
   {
    "duration": 19,
    "start_time": "2023-05-09T21:29:15.873Z"
   },
   {
    "duration": 13,
    "start_time": "2023-05-09T21:29:15.893Z"
   },
   {
    "duration": 13,
    "start_time": "2023-05-09T21:29:15.908Z"
   },
   {
    "duration": 28,
    "start_time": "2023-05-09T21:29:15.923Z"
   },
   {
    "duration": 12,
    "start_time": "2023-05-09T21:29:15.953Z"
   },
   {
    "duration": 88,
    "start_time": "2023-05-09T21:29:15.967Z"
   },
   {
    "duration": 196,
    "start_time": "2023-05-09T21:29:16.057Z"
   },
   {
    "duration": 98,
    "start_time": "2023-05-09T21:29:16.255Z"
   },
   {
    "duration": 11,
    "start_time": "2023-05-09T21:29:16.355Z"
   },
   {
    "duration": 11,
    "start_time": "2023-05-09T21:29:16.368Z"
   },
   {
    "duration": 6,
    "start_time": "2023-05-09T21:29:16.381Z"
   },
   {
    "duration": 60,
    "start_time": "2023-05-09T21:29:16.389Z"
   },
   {
    "duration": 3,
    "start_time": "2023-05-09T21:29:16.451Z"
   },
   {
    "duration": 8,
    "start_time": "2023-05-09T21:29:16.455Z"
   },
   {
    "duration": 131,
    "start_time": "2023-05-09T21:29:16.464Z"
   },
   {
    "duration": 0,
    "start_time": "2023-05-09T21:29:16.596Z"
   },
   {
    "duration": 0,
    "start_time": "2023-05-09T21:29:16.597Z"
   },
   {
    "duration": 7,
    "start_time": "2023-05-09T21:31:34.786Z"
   },
   {
    "duration": 8,
    "start_time": "2023-05-09T21:31:37.082Z"
   },
   {
    "duration": 29,
    "start_time": "2023-05-09T21:31:48.802Z"
   },
   {
    "duration": 1283,
    "start_time": "2023-05-09T21:32:54.458Z"
   },
   {
    "duration": 358,
    "start_time": "2023-05-09T21:32:55.743Z"
   },
   {
    "duration": 4,
    "start_time": "2023-05-09T21:32:56.103Z"
   },
   {
    "duration": 504,
    "start_time": "2023-05-09T21:32:56.109Z"
   },
   {
    "duration": 526,
    "start_time": "2023-05-09T21:32:56.615Z"
   },
   {
    "duration": 559,
    "start_time": "2023-05-09T21:32:57.142Z"
   },
   {
    "duration": 4,
    "start_time": "2023-05-09T21:32:57.702Z"
   },
   {
    "duration": 72,
    "start_time": "2023-05-09T21:32:57.708Z"
   },
   {
    "duration": 68,
    "start_time": "2023-05-09T21:32:57.782Z"
   },
   {
    "duration": 55,
    "start_time": "2023-05-09T21:32:57.852Z"
   },
   {
    "duration": 4,
    "start_time": "2023-05-09T21:32:57.909Z"
   },
   {
    "duration": 37,
    "start_time": "2023-05-09T21:32:57.914Z"
   },
   {
    "duration": 15,
    "start_time": "2023-05-09T21:32:57.953Z"
   },
   {
    "duration": 31,
    "start_time": "2023-05-09T21:32:57.970Z"
   },
   {
    "duration": 5,
    "start_time": "2023-05-09T21:32:58.003Z"
   },
   {
    "duration": 24,
    "start_time": "2023-05-09T21:32:58.009Z"
   },
   {
    "duration": 103,
    "start_time": "2023-05-09T21:32:58.057Z"
   },
   {
    "duration": 104,
    "start_time": "2023-05-09T21:32:58.251Z"
   },
   {
    "duration": 191,
    "start_time": "2023-05-09T21:32:58.358Z"
   },
   {
    "duration": 22,
    "start_time": "2023-05-09T21:32:58.551Z"
   },
   {
    "duration": 18,
    "start_time": "2023-05-09T21:32:58.575Z"
   },
   {
    "duration": 9,
    "start_time": "2023-05-09T21:32:58.595Z"
   },
   {
    "duration": 9,
    "start_time": "2023-05-09T21:32:58.605Z"
   },
   {
    "duration": 8,
    "start_time": "2023-05-09T21:32:58.616Z"
   },
   {
    "duration": 146,
    "start_time": "2023-05-09T21:32:58.625Z"
   },
   {
    "duration": 0,
    "start_time": "2023-05-09T21:32:58.773Z"
   },
   {
    "duration": 0,
    "start_time": "2023-05-09T21:32:58.774Z"
   },
   {
    "duration": 8,
    "start_time": "2023-05-09T21:35:26.244Z"
   },
   {
    "duration": 27,
    "start_time": "2023-05-09T21:35:30.239Z"
   },
   {
    "duration": 7,
    "start_time": "2023-05-09T21:37:15.829Z"
   },
   {
    "duration": 27,
    "start_time": "2023-05-09T21:37:18.950Z"
   },
   {
    "duration": 4,
    "start_time": "2023-05-09T21:39:13.150Z"
   },
   {
    "duration": 6,
    "start_time": "2023-05-09T21:39:15.123Z"
   },
   {
    "duration": 8,
    "start_time": "2023-05-09T21:39:18.526Z"
   },
   {
    "duration": 7,
    "start_time": "2023-05-09T21:39:47.926Z"
   },
   {
    "duration": 12,
    "start_time": "2023-05-09T21:39:49.070Z"
   },
   {
    "duration": 9,
    "start_time": "2023-05-09T21:41:35.699Z"
   },
   {
    "duration": 4,
    "start_time": "2023-05-09T21:41:40.080Z"
   },
   {
    "duration": 8,
    "start_time": "2023-05-09T21:41:41.001Z"
   },
   {
    "duration": 12,
    "start_time": "2023-05-09T21:41:42.437Z"
   },
   {
    "duration": 10,
    "start_time": "2023-05-09T21:41:54.778Z"
   },
   {
    "duration": 1336,
    "start_time": "2023-05-09T21:41:55.375Z"
   },
   {
    "duration": 1308,
    "start_time": "2023-05-09T21:42:01.553Z"
   },
   {
    "duration": 1345,
    "start_time": "2023-05-09T21:42:02.862Z"
   },
   {
    "duration": 1400,
    "start_time": "2023-05-09T21:42:10.497Z"
   },
   {
    "duration": 350,
    "start_time": "2023-05-09T21:42:11.899Z"
   },
   {
    "duration": 3,
    "start_time": "2023-05-09T21:42:12.250Z"
   },
   {
    "duration": 489,
    "start_time": "2023-05-09T21:42:12.254Z"
   },
   {
    "duration": 513,
    "start_time": "2023-05-09T21:42:12.745Z"
   },
   {
    "duration": 578,
    "start_time": "2023-05-09T21:42:13.261Z"
   },
   {
    "duration": 8,
    "start_time": "2023-05-09T21:42:13.841Z"
   },
   {
    "duration": 97,
    "start_time": "2023-05-09T21:42:13.850Z"
   },
   {
    "duration": 48,
    "start_time": "2023-05-09T21:42:13.949Z"
   },
   {
    "duration": 73,
    "start_time": "2023-05-09T21:42:13.999Z"
   },
   {
    "duration": 3,
    "start_time": "2023-05-09T21:42:14.074Z"
   },
   {
    "duration": 68,
    "start_time": "2023-05-09T21:42:14.079Z"
   },
   {
    "duration": 41,
    "start_time": "2023-05-09T21:42:14.149Z"
   },
   {
    "duration": 44,
    "start_time": "2023-05-09T21:42:14.193Z"
   },
   {
    "duration": 21,
    "start_time": "2023-05-09T21:42:14.239Z"
   },
   {
    "duration": 86,
    "start_time": "2023-05-09T21:42:14.262Z"
   },
   {
    "duration": 109,
    "start_time": "2023-05-09T21:42:14.350Z"
   },
   {
    "duration": 209,
    "start_time": "2023-05-09T21:42:14.460Z"
   },
   {
    "duration": 181,
    "start_time": "2023-05-09T21:42:14.672Z"
   },
   {
    "duration": 27,
    "start_time": "2023-05-09T21:42:14.854Z"
   },
   {
    "duration": 9,
    "start_time": "2023-05-09T21:42:14.883Z"
   },
   {
    "duration": 8,
    "start_time": "2023-05-09T21:42:14.893Z"
   },
   {
    "duration": 8,
    "start_time": "2023-05-09T21:42:14.903Z"
   },
   {
    "duration": 8,
    "start_time": "2023-05-09T21:42:14.912Z"
   },
   {
    "duration": 6,
    "start_time": "2023-05-09T21:42:14.922Z"
   },
   {
    "duration": 1319,
    "start_time": "2023-05-09T21:42:14.930Z"
   },
   {
    "duration": 1295,
    "start_time": "2023-05-09T21:42:16.251Z"
   },
   {
    "duration": 1290,
    "start_time": "2023-05-09T21:42:17.549Z"
   },
   {
    "duration": 1299,
    "start_time": "2023-05-09T21:43:13.885Z"
   },
   {
    "duration": 349,
    "start_time": "2023-05-09T21:43:15.186Z"
   },
   {
    "duration": 4,
    "start_time": "2023-05-09T21:43:15.537Z"
   },
   {
    "duration": 494,
    "start_time": "2023-05-09T21:43:15.543Z"
   },
   {
    "duration": 501,
    "start_time": "2023-05-09T21:43:16.039Z"
   },
   {
    "duration": 561,
    "start_time": "2023-05-09T21:43:16.541Z"
   },
   {
    "duration": 3,
    "start_time": "2023-05-09T21:43:17.104Z"
   },
   {
    "duration": 66,
    "start_time": "2023-05-09T21:43:17.108Z"
   },
   {
    "duration": 49,
    "start_time": "2023-05-09T21:43:17.176Z"
   },
   {
    "duration": 55,
    "start_time": "2023-05-09T21:43:17.249Z"
   },
   {
    "duration": 5,
    "start_time": "2023-05-09T21:43:17.306Z"
   },
   {
    "duration": 38,
    "start_time": "2023-05-09T21:43:17.312Z"
   },
   {
    "duration": 14,
    "start_time": "2023-05-09T21:43:17.351Z"
   },
   {
    "duration": 12,
    "start_time": "2023-05-09T21:43:17.366Z"
   },
   {
    "duration": 3,
    "start_time": "2023-05-09T21:43:17.380Z"
   },
   {
    "duration": 69,
    "start_time": "2023-05-09T21:43:17.384Z"
   },
   {
    "duration": 101,
    "start_time": "2023-05-09T21:43:17.455Z"
   },
   {
    "duration": 195,
    "start_time": "2023-05-09T21:43:17.558Z"
   },
   {
    "duration": 100,
    "start_time": "2023-05-09T21:43:17.754Z"
   },
   {
    "duration": 94,
    "start_time": "2023-05-09T21:43:17.856Z"
   },
   {
    "duration": 11,
    "start_time": "2023-05-09T21:43:17.952Z"
   },
   {
    "duration": 9,
    "start_time": "2023-05-09T21:43:17.965Z"
   },
   {
    "duration": 10,
    "start_time": "2023-05-09T21:43:17.975Z"
   },
   {
    "duration": 4,
    "start_time": "2023-05-09T21:43:17.987Z"
   },
   {
    "duration": 9,
    "start_time": "2023-05-09T21:43:17.992Z"
   },
   {
    "duration": 1364,
    "start_time": "2023-05-09T21:43:18.002Z"
   },
   {
    "duration": 1337,
    "start_time": "2023-05-09T21:43:19.368Z"
   },
   {
    "duration": 1364,
    "start_time": "2023-05-09T21:43:20.708Z"
   },
   {
    "duration": 6,
    "start_time": "2023-05-09T21:44:54.729Z"
   },
   {
    "duration": 13,
    "start_time": "2023-05-09T21:44:55.298Z"
   },
   {
    "duration": 11,
    "start_time": "2023-05-09T21:44:56.358Z"
   },
   {
    "duration": 13,
    "start_time": "2023-05-09T21:44:57.189Z"
   },
   {
    "duration": 4,
    "start_time": "2023-05-09T21:45:27.520Z"
   },
   {
    "duration": 14,
    "start_time": "2023-05-09T21:45:28.245Z"
   },
   {
    "duration": 4,
    "start_time": "2023-05-09T21:46:52.643Z"
   },
   {
    "duration": 9,
    "start_time": "2023-05-09T21:46:53.290Z"
   },
   {
    "duration": 5,
    "start_time": "2023-05-09T21:47:41.124Z"
   },
   {
    "duration": 12,
    "start_time": "2023-05-09T21:47:41.896Z"
   },
   {
    "duration": 7,
    "start_time": "2023-05-09T21:47:43.190Z"
   },
   {
    "duration": 9,
    "start_time": "2023-05-09T21:47:43.895Z"
   },
   {
    "duration": 4,
    "start_time": "2023-05-09T21:49:20.597Z"
   },
   {
    "duration": 9,
    "start_time": "2023-05-09T21:49:21.232Z"
   },
   {
    "duration": 8,
    "start_time": "2023-05-09T21:49:22.052Z"
   },
   {
    "duration": 9,
    "start_time": "2023-05-09T21:49:22.897Z"
   },
   {
    "duration": 4,
    "start_time": "2023-05-09T21:50:20.517Z"
   },
   {
    "duration": 7,
    "start_time": "2023-05-09T21:50:21.261Z"
   },
   {
    "duration": 1315,
    "start_time": "2023-05-09T21:50:22.414Z"
   },
   {
    "duration": 1387,
    "start_time": "2023-05-09T21:50:23.731Z"
   },
   {
    "duration": 1322,
    "start_time": "2023-05-09T21:50:25.119Z"
   },
   {
    "duration": 1355,
    "start_time": "2023-05-09T21:50:32.783Z"
   },
   {
    "duration": 368,
    "start_time": "2023-05-09T21:50:34.139Z"
   },
   {
    "duration": 5,
    "start_time": "2023-05-09T21:50:34.509Z"
   },
   {
    "duration": 519,
    "start_time": "2023-05-09T21:50:34.516Z"
   },
   {
    "duration": 506,
    "start_time": "2023-05-09T21:50:35.036Z"
   },
   {
    "duration": 538,
    "start_time": "2023-05-09T21:50:35.549Z"
   },
   {
    "duration": 3,
    "start_time": "2023-05-09T21:50:36.089Z"
   },
   {
    "duration": 66,
    "start_time": "2023-05-09T21:50:36.094Z"
   },
   {
    "duration": 49,
    "start_time": "2023-05-09T21:50:36.162Z"
   },
   {
    "duration": 74,
    "start_time": "2023-05-09T21:50:36.213Z"
   },
   {
    "duration": 4,
    "start_time": "2023-05-09T21:50:36.289Z"
   },
   {
    "duration": 19,
    "start_time": "2023-05-09T21:50:36.295Z"
   },
   {
    "duration": 15,
    "start_time": "2023-05-09T21:50:36.316Z"
   },
   {
    "duration": 27,
    "start_time": "2023-05-09T21:50:36.333Z"
   },
   {
    "duration": 4,
    "start_time": "2023-05-09T21:50:36.361Z"
   },
   {
    "duration": 24,
    "start_time": "2023-05-09T21:50:36.367Z"
   },
   {
    "duration": 164,
    "start_time": "2023-05-09T21:50:36.392Z"
   },
   {
    "duration": 202,
    "start_time": "2023-05-09T21:50:36.558Z"
   },
   {
    "duration": 88,
    "start_time": "2023-05-09T21:50:36.762Z"
   },
   {
    "duration": 7,
    "start_time": "2023-05-09T21:50:36.856Z"
   },
   {
    "duration": 11,
    "start_time": "2023-05-09T21:50:36.950Z"
   },
   {
    "duration": 8,
    "start_time": "2023-05-09T21:50:36.962Z"
   },
   {
    "duration": 9,
    "start_time": "2023-05-09T21:50:36.971Z"
   },
   {
    "duration": 3,
    "start_time": "2023-05-09T21:50:36.981Z"
   },
   {
    "duration": 8,
    "start_time": "2023-05-09T21:50:36.985Z"
   },
   {
    "duration": 1363,
    "start_time": "2023-05-09T21:50:36.994Z"
   },
   {
    "duration": 1347,
    "start_time": "2023-05-09T21:50:38.359Z"
   },
   {
    "duration": 1397,
    "start_time": "2023-05-09T21:50:39.708Z"
   },
   {
    "duration": 4,
    "start_time": "2023-05-09T21:51:20.069Z"
   },
   {
    "duration": 9,
    "start_time": "2023-05-09T21:51:20.572Z"
   },
   {
    "duration": 6,
    "start_time": "2023-05-09T21:51:21.536Z"
   },
   {
    "duration": 7,
    "start_time": "2023-05-09T21:51:22.602Z"
   },
   {
    "duration": 7,
    "start_time": "2023-05-09T21:54:20.576Z"
   },
   {
    "duration": 6,
    "start_time": "2023-05-09T21:54:22.312Z"
   },
   {
    "duration": 11,
    "start_time": "2023-05-09T21:54:23.070Z"
   },
   {
    "duration": 8,
    "start_time": "2023-05-09T21:54:23.976Z"
   },
   {
    "duration": 11,
    "start_time": "2023-05-09T21:54:24.991Z"
   },
   {
    "duration": 4,
    "start_time": "2023-05-09T21:54:33.079Z"
   },
   {
    "duration": 7,
    "start_time": "2023-05-09T21:54:34.132Z"
   },
   {
    "duration": 1304,
    "start_time": "2023-05-09T21:54:35.243Z"
   },
   {
    "duration": 1323,
    "start_time": "2023-05-09T21:54:36.549Z"
   },
   {
    "duration": 1303,
    "start_time": "2023-05-09T21:54:37.874Z"
   },
   {
    "duration": 1308,
    "start_time": "2023-05-09T21:59:33.270Z"
   },
   {
    "duration": 354,
    "start_time": "2023-05-09T21:59:34.580Z"
   },
   {
    "duration": 3,
    "start_time": "2023-05-09T21:59:34.935Z"
   },
   {
    "duration": 493,
    "start_time": "2023-05-09T21:59:34.948Z"
   },
   {
    "duration": 483,
    "start_time": "2023-05-09T21:59:35.442Z"
   },
   {
    "duration": 612,
    "start_time": "2023-05-09T21:59:35.926Z"
   },
   {
    "duration": 2,
    "start_time": "2023-05-09T21:59:36.540Z"
   },
   {
    "duration": 54,
    "start_time": "2023-05-09T21:59:36.549Z"
   },
   {
    "duration": 65,
    "start_time": "2023-05-09T21:59:36.605Z"
   },
   {
    "duration": 52,
    "start_time": "2023-05-09T21:59:36.672Z"
   },
   {
    "duration": 4,
    "start_time": "2023-05-09T21:59:36.725Z"
   },
   {
    "duration": 13,
    "start_time": "2023-05-09T21:59:36.749Z"
   },
   {
    "duration": 12,
    "start_time": "2023-05-09T21:59:36.763Z"
   },
   {
    "duration": 11,
    "start_time": "2023-05-09T21:59:36.776Z"
   },
   {
    "duration": 3,
    "start_time": "2023-05-09T21:59:36.789Z"
   },
   {
    "duration": 58,
    "start_time": "2023-05-09T21:59:36.793Z"
   },
   {
    "duration": 110,
    "start_time": "2023-05-09T21:59:36.852Z"
   },
   {
    "duration": 90,
    "start_time": "2023-05-09T21:59:36.963Z"
   },
   {
    "duration": 95,
    "start_time": "2023-05-09T21:59:37.055Z"
   },
   {
    "duration": 103,
    "start_time": "2023-05-09T21:59:37.152Z"
   },
   {
    "duration": 16,
    "start_time": "2023-05-09T21:59:37.256Z"
   },
   {
    "duration": 11,
    "start_time": "2023-05-09T21:59:37.274Z"
   },
   {
    "duration": 9,
    "start_time": "2023-05-09T21:59:37.287Z"
   },
   {
    "duration": 11,
    "start_time": "2023-05-09T21:59:37.298Z"
   },
   {
    "duration": 8,
    "start_time": "2023-05-09T21:59:37.311Z"
   },
   {
    "duration": 1294,
    "start_time": "2023-05-09T21:59:37.320Z"
   },
   {
    "duration": 1302,
    "start_time": "2023-05-09T21:59:38.616Z"
   },
   {
    "duration": 1318,
    "start_time": "2023-05-09T21:59:39.921Z"
   },
   {
    "duration": 1326,
    "start_time": "2023-05-09T22:00:23.942Z"
   },
   {
    "duration": 345,
    "start_time": "2023-05-09T22:00:25.270Z"
   },
   {
    "duration": 4,
    "start_time": "2023-05-09T22:00:25.616Z"
   },
   {
    "duration": 490,
    "start_time": "2023-05-09T22:00:25.622Z"
   },
   {
    "duration": 485,
    "start_time": "2023-05-09T22:00:26.114Z"
   },
   {
    "duration": 536,
    "start_time": "2023-05-09T22:00:26.600Z"
   },
   {
    "duration": 3,
    "start_time": "2023-05-09T22:00:27.138Z"
   },
   {
    "duration": 59,
    "start_time": "2023-05-09T22:00:27.142Z"
   },
   {
    "duration": 68,
    "start_time": "2023-05-09T22:00:27.203Z"
   },
   {
    "duration": 50,
    "start_time": "2023-05-09T22:00:27.272Z"
   },
   {
    "duration": 4,
    "start_time": "2023-05-09T22:00:27.323Z"
   },
   {
    "duration": 31,
    "start_time": "2023-05-09T22:00:27.329Z"
   },
   {
    "duration": 13,
    "start_time": "2023-05-09T22:00:27.362Z"
   },
   {
    "duration": 13,
    "start_time": "2023-05-09T22:00:27.379Z"
   },
   {
    "duration": 4,
    "start_time": "2023-05-09T22:00:27.394Z"
   },
   {
    "duration": 53,
    "start_time": "2023-05-09T22:00:27.400Z"
   },
   {
    "duration": 103,
    "start_time": "2023-05-09T22:00:27.455Z"
   },
   {
    "duration": 187,
    "start_time": "2023-05-09T22:00:27.562Z"
   },
   {
    "duration": 102,
    "start_time": "2023-05-09T22:00:27.754Z"
   },
   {
    "duration": 5,
    "start_time": "2023-05-09T22:00:27.858Z"
   },
   {
    "duration": 11,
    "start_time": "2023-05-09T22:00:27.864Z"
   },
   {
    "duration": 8,
    "start_time": "2023-05-09T22:00:27.876Z"
   },
   {
    "duration": 10,
    "start_time": "2023-05-09T22:00:27.885Z"
   },
   {
    "duration": 3,
    "start_time": "2023-05-09T22:00:27.897Z"
   },
   {
    "duration": 7,
    "start_time": "2023-05-09T22:00:27.902Z"
   },
   {
    "duration": 1341,
    "start_time": "2023-05-09T22:00:27.910Z"
   },
   {
    "duration": 1370,
    "start_time": "2023-05-09T22:00:29.253Z"
   },
   {
    "duration": 1353,
    "start_time": "2023-05-09T22:00:30.625Z"
   },
   {
    "duration": 117,
    "start_time": "2023-05-09T22:03:07.362Z"
   },
   {
    "duration": 7,
    "start_time": "2023-05-09T22:03:34.913Z"
   },
   {
    "duration": 4,
    "start_time": "2023-05-09T22:03:39.459Z"
   },
   {
    "duration": 8,
    "start_time": "2023-05-09T22:03:40.422Z"
   },
   {
    "duration": 8,
    "start_time": "2023-05-09T22:03:42.055Z"
   },
   {
    "duration": 9,
    "start_time": "2023-05-09T22:03:42.543Z"
   },
   {
    "duration": 4,
    "start_time": "2023-05-09T22:04:34.322Z"
   },
   {
    "duration": 9,
    "start_time": "2023-05-09T22:04:36.346Z"
   },
   {
    "duration": 8,
    "start_time": "2023-05-09T22:04:36.941Z"
   },
   {
    "duration": 8,
    "start_time": "2023-05-09T22:04:37.461Z"
   },
   {
    "duration": 4,
    "start_time": "2023-05-09T22:05:11.336Z"
   },
   {
    "duration": 9,
    "start_time": "2023-05-09T22:05:12.049Z"
   },
   {
    "duration": 7,
    "start_time": "2023-05-09T22:05:12.783Z"
   },
   {
    "duration": 9,
    "start_time": "2023-05-09T22:05:13.553Z"
   },
   {
    "duration": 3,
    "start_time": "2023-05-09T22:05:26.263Z"
   },
   {
    "duration": 7,
    "start_time": "2023-05-09T22:05:27.723Z"
   },
   {
    "duration": 1362,
    "start_time": "2023-05-09T22:05:29.726Z"
   },
   {
    "duration": 1282,
    "start_time": "2023-05-09T22:05:31.090Z"
   },
   {
    "duration": 1373,
    "start_time": "2023-05-09T22:05:42.403Z"
   },
   {
    "duration": 8,
    "start_time": "2023-05-09T22:06:20.752Z"
   },
   {
    "duration": 1326,
    "start_time": "2023-05-09T22:06:24.423Z"
   },
   {
    "duration": 1340,
    "start_time": "2023-05-09T22:06:25.751Z"
   },
   {
    "duration": 1293,
    "start_time": "2023-05-09T22:06:27.092Z"
   },
   {
    "duration": 27,
    "start_time": "2023-05-09T22:11:19.558Z"
   },
   {
    "duration": 6,
    "start_time": "2023-05-09T22:11:33.212Z"
   },
   {
    "duration": 5,
    "start_time": "2023-05-09T22:11:45.668Z"
   },
   {
    "duration": 6,
    "start_time": "2023-05-09T22:12:33.989Z"
   },
   {
    "duration": 5,
    "start_time": "2023-05-09T22:13:24.663Z"
   },
   {
    "duration": 14,
    "start_time": "2023-05-09T22:13:27.444Z"
   },
   {
    "duration": 12,
    "start_time": "2023-05-09T22:20:23.459Z"
   },
   {
    "duration": 12,
    "start_time": "2023-05-09T22:21:00.805Z"
   },
   {
    "duration": 9,
    "start_time": "2023-05-09T22:22:02.901Z"
   },
   {
    "duration": 10,
    "start_time": "2023-05-09T22:22:30.092Z"
   },
   {
    "duration": 4,
    "start_time": "2023-05-09T22:25:09.731Z"
   },
   {
    "duration": 10,
    "start_time": "2023-05-09T22:25:16.760Z"
   },
   {
    "duration": 4,
    "start_time": "2023-05-09T22:25:39.584Z"
   },
   {
    "duration": 9,
    "start_time": "2023-05-09T22:25:40.225Z"
   },
   {
    "duration": 9,
    "start_time": "2023-05-09T22:25:42.424Z"
   },
   {
    "duration": 4,
    "start_time": "2023-05-09T22:26:06.003Z"
   },
   {
    "duration": 13,
    "start_time": "2023-05-09T22:26:06.540Z"
   },
   {
    "duration": 4,
    "start_time": "2023-05-09T22:26:16.971Z"
   },
   {
    "duration": 9,
    "start_time": "2023-05-09T22:26:17.614Z"
   },
   {
    "duration": 4,
    "start_time": "2023-05-09T22:26:34.371Z"
   },
   {
    "duration": 12,
    "start_time": "2023-05-09T22:26:35.126Z"
   },
   {
    "duration": 10,
    "start_time": "2023-05-09T22:26:37.511Z"
   },
   {
    "duration": 1351,
    "start_time": "2023-05-09T22:29:16.176Z"
   },
   {
    "duration": 374,
    "start_time": "2023-05-09T22:29:17.529Z"
   },
   {
    "duration": 3,
    "start_time": "2023-05-09T22:29:17.905Z"
   },
   {
    "duration": 505,
    "start_time": "2023-05-09T22:29:17.909Z"
   },
   {
    "duration": 501,
    "start_time": "2023-05-09T22:29:18.417Z"
   },
   {
    "duration": 561,
    "start_time": "2023-05-09T22:29:18.920Z"
   },
   {
    "duration": 4,
    "start_time": "2023-05-09T22:29:19.483Z"
   },
   {
    "duration": 68,
    "start_time": "2023-05-09T22:29:19.489Z"
   },
   {
    "duration": 47,
    "start_time": "2023-05-09T22:29:19.559Z"
   },
   {
    "duration": 80,
    "start_time": "2023-05-09T22:29:19.608Z"
   },
   {
    "duration": 4,
    "start_time": "2023-05-09T22:29:19.689Z"
   },
   {
    "duration": 18,
    "start_time": "2023-05-09T22:29:19.694Z"
   },
   {
    "duration": 37,
    "start_time": "2023-05-09T22:29:19.714Z"
   },
   {
    "duration": 16,
    "start_time": "2023-05-09T22:29:19.755Z"
   },
   {
    "duration": 8,
    "start_time": "2023-05-09T22:29:19.772Z"
   },
   {
    "duration": 79,
    "start_time": "2023-05-09T22:29:19.781Z"
   },
   {
    "duration": 96,
    "start_time": "2023-05-09T22:29:19.861Z"
   },
   {
    "duration": 91,
    "start_time": "2023-05-09T22:29:19.959Z"
   },
   {
    "duration": 107,
    "start_time": "2023-05-09T22:29:20.054Z"
   },
   {
    "duration": 14,
    "start_time": "2023-05-09T22:29:20.162Z"
   },
   {
    "duration": 12,
    "start_time": "2023-05-09T22:29:20.177Z"
   },
   {
    "duration": 13,
    "start_time": "2023-05-09T22:29:20.190Z"
   },
   {
    "duration": 13,
    "start_time": "2023-05-09T22:29:20.204Z"
   },
   {
    "duration": 4,
    "start_time": "2023-05-09T22:29:20.219Z"
   },
   {
    "duration": 27,
    "start_time": "2023-05-09T22:29:20.225Z"
   },
   {
    "duration": 1351,
    "start_time": "2023-05-09T22:29:20.253Z"
   },
   {
    "duration": 1398,
    "start_time": "2023-05-09T22:29:21.605Z"
   },
   {
    "duration": 1409,
    "start_time": "2023-05-09T22:29:23.005Z"
   },
   {
    "duration": 4,
    "start_time": "2023-05-09T22:39:56.576Z"
   },
   {
    "duration": 11,
    "start_time": "2023-05-09T22:39:58.387Z"
   },
   {
    "duration": 9,
    "start_time": "2023-05-09T22:40:00.522Z"
   },
   {
    "duration": 9,
    "start_time": "2023-05-09T22:40:01.514Z"
   },
   {
    "duration": 5,
    "start_time": "2023-05-09T22:40:23.905Z"
   },
   {
    "duration": 9,
    "start_time": "2023-05-09T22:40:25.598Z"
   },
   {
    "duration": 8,
    "start_time": "2023-05-09T22:40:25.909Z"
   },
   {
    "duration": 9,
    "start_time": "2023-05-09T22:40:26.691Z"
   },
   {
    "duration": 4,
    "start_time": "2023-05-09T22:40:50.233Z"
   },
   {
    "duration": 7,
    "start_time": "2023-05-09T22:40:52.112Z"
   },
   {
    "duration": 1415,
    "start_time": "2023-05-09T22:40:53.841Z"
   },
   {
    "duration": 1339,
    "start_time": "2023-05-09T22:40:55.258Z"
   },
   {
    "duration": 1370,
    "start_time": "2023-05-09T22:40:56.598Z"
   },
   {
    "duration": 1258,
    "start_time": "2023-05-09T22:42:23.173Z"
   },
   {
    "duration": 387,
    "start_time": "2023-05-09T22:42:24.433Z"
   },
   {
    "duration": 3,
    "start_time": "2023-05-09T22:42:24.822Z"
   },
   {
    "duration": 539,
    "start_time": "2023-05-09T22:42:24.828Z"
   },
   {
    "duration": 486,
    "start_time": "2023-05-09T22:42:25.368Z"
   },
   {
    "duration": 551,
    "start_time": "2023-05-09T22:42:25.856Z"
   },
   {
    "duration": 3,
    "start_time": "2023-05-09T22:42:26.409Z"
   },
   {
    "duration": 74,
    "start_time": "2023-05-09T22:42:26.413Z"
   },
   {
    "duration": 44,
    "start_time": "2023-05-09T22:42:26.488Z"
   },
   {
    "duration": 56,
    "start_time": "2023-05-09T22:42:26.550Z"
   },
   {
    "duration": 4,
    "start_time": "2023-05-09T22:42:26.608Z"
   },
   {
    "duration": 37,
    "start_time": "2023-05-09T22:42:26.613Z"
   },
   {
    "duration": 12,
    "start_time": "2023-05-09T22:42:26.652Z"
   },
   {
    "duration": 12,
    "start_time": "2023-05-09T22:42:26.666Z"
   },
   {
    "duration": 4,
    "start_time": "2023-05-09T22:42:26.679Z"
   },
   {
    "duration": 72,
    "start_time": "2023-05-09T22:42:26.684Z"
   },
   {
    "duration": 106,
    "start_time": "2023-05-09T22:42:26.758Z"
   },
   {
    "duration": 209,
    "start_time": "2023-05-09T22:42:26.866Z"
   },
   {
    "duration": 178,
    "start_time": "2023-05-09T22:42:27.076Z"
   },
   {
    "duration": 8,
    "start_time": "2023-05-09T22:42:27.256Z"
   },
   {
    "duration": 17,
    "start_time": "2023-05-09T22:42:27.266Z"
   },
   {
    "duration": 9,
    "start_time": "2023-05-09T22:42:27.285Z"
   },
   {
    "duration": 16,
    "start_time": "2023-05-09T22:42:27.296Z"
   },
   {
    "duration": 3,
    "start_time": "2023-05-09T22:42:27.314Z"
   },
   {
    "duration": 12,
    "start_time": "2023-05-09T22:42:27.319Z"
   },
   {
    "duration": 1383,
    "start_time": "2023-05-09T22:42:27.332Z"
   },
   {
    "duration": 1381,
    "start_time": "2023-05-09T22:42:28.717Z"
   },
   {
    "duration": 1426,
    "start_time": "2023-05-09T22:42:30.101Z"
   },
   {
    "duration": 7,
    "start_time": "2023-05-09T22:43:21.732Z"
   },
   {
    "duration": 1389,
    "start_time": "2023-05-09T22:43:22.824Z"
   },
   {
    "duration": 1452,
    "start_time": "2023-05-09T22:43:24.215Z"
   },
   {
    "duration": 1396,
    "start_time": "2023-05-09T22:43:25.669Z"
   },
   {
    "duration": 10,
    "start_time": "2023-05-09T22:43:44.416Z"
   },
   {
    "duration": 1351,
    "start_time": "2023-05-09T22:43:44.961Z"
   },
   {
    "duration": 1432,
    "start_time": "2023-05-09T22:43:46.314Z"
   },
   {
    "duration": 1366,
    "start_time": "2023-05-09T22:43:47.749Z"
   },
   {
    "duration": 7,
    "start_time": "2023-05-09T22:44:05.281Z"
   },
   {
    "duration": 1383,
    "start_time": "2023-05-09T22:44:05.796Z"
   },
   {
    "duration": 1370,
    "start_time": "2023-05-09T22:44:07.181Z"
   },
   {
    "duration": 1418,
    "start_time": "2023-05-09T22:44:08.552Z"
   },
   {
    "duration": 1290,
    "start_time": "2023-05-09T22:44:12.446Z"
   },
   {
    "duration": 367,
    "start_time": "2023-05-09T22:44:13.738Z"
   },
   {
    "duration": 3,
    "start_time": "2023-05-09T22:44:14.106Z"
   },
   {
    "duration": 543,
    "start_time": "2023-05-09T22:44:14.111Z"
   },
   {
    "duration": 499,
    "start_time": "2023-05-09T22:44:14.656Z"
   },
   {
    "duration": 547,
    "start_time": "2023-05-09T22:44:15.156Z"
   },
   {
    "duration": 3,
    "start_time": "2023-05-09T22:44:15.704Z"
   },
   {
    "duration": 91,
    "start_time": "2023-05-09T22:44:15.708Z"
   },
   {
    "duration": 64,
    "start_time": "2023-05-09T22:44:15.800Z"
   },
   {
    "duration": 54,
    "start_time": "2023-05-09T22:44:15.866Z"
   },
   {
    "duration": 4,
    "start_time": "2023-05-09T22:44:15.922Z"
   },
   {
    "duration": 22,
    "start_time": "2023-05-09T22:44:15.948Z"
   },
   {
    "duration": 25,
    "start_time": "2023-05-09T22:44:15.972Z"
   },
   {
    "duration": 29,
    "start_time": "2023-05-09T22:44:16.000Z"
   },
   {
    "duration": 35,
    "start_time": "2023-05-09T22:44:16.031Z"
   },
   {
    "duration": 92,
    "start_time": "2023-05-09T22:44:16.067Z"
   },
   {
    "duration": 124,
    "start_time": "2023-05-09T22:44:16.161Z"
   },
   {
    "duration": 164,
    "start_time": "2023-05-09T22:44:16.287Z"
   },
   {
    "duration": 99,
    "start_time": "2023-05-09T22:44:16.455Z"
   },
   {
    "duration": 9,
    "start_time": "2023-05-09T22:44:16.555Z"
   },
   {
    "duration": 28,
    "start_time": "2023-05-09T22:44:16.566Z"
   },
   {
    "duration": 8,
    "start_time": "2023-05-09T22:44:16.596Z"
   },
   {
    "duration": 15,
    "start_time": "2023-05-09T22:44:16.606Z"
   },
   {
    "duration": 5,
    "start_time": "2023-05-09T22:44:16.623Z"
   },
   {
    "duration": 22,
    "start_time": "2023-05-09T22:44:16.629Z"
   },
   {
    "duration": 1407,
    "start_time": "2023-05-09T22:44:16.652Z"
   },
   {
    "duration": 1350,
    "start_time": "2023-05-09T22:44:18.061Z"
   },
   {
    "duration": 1416,
    "start_time": "2023-05-09T22:44:19.412Z"
   },
   {
    "duration": 1245,
    "start_time": "2023-05-09T22:46:25.277Z"
   },
   {
    "duration": 357,
    "start_time": "2023-05-09T22:46:26.524Z"
   },
   {
    "duration": 5,
    "start_time": "2023-05-09T22:46:26.882Z"
   },
   {
    "duration": 521,
    "start_time": "2023-05-09T22:46:26.888Z"
   },
   {
    "duration": 506,
    "start_time": "2023-05-09T22:46:27.411Z"
   },
   {
    "duration": 549,
    "start_time": "2023-05-09T22:46:27.919Z"
   },
   {
    "duration": 3,
    "start_time": "2023-05-09T22:46:28.469Z"
   },
   {
    "duration": 67,
    "start_time": "2023-05-09T22:46:28.474Z"
   },
   {
    "duration": 60,
    "start_time": "2023-05-09T22:46:28.543Z"
   },
   {
    "duration": 73,
    "start_time": "2023-05-09T22:46:28.605Z"
   },
   {
    "duration": 4,
    "start_time": "2023-05-09T22:46:28.680Z"
   },
   {
    "duration": 18,
    "start_time": "2023-05-09T22:46:28.686Z"
   },
   {
    "duration": 13,
    "start_time": "2023-05-09T22:46:28.705Z"
   },
   {
    "duration": 36,
    "start_time": "2023-05-09T22:46:28.720Z"
   },
   {
    "duration": 3,
    "start_time": "2023-05-09T22:46:28.758Z"
   },
   {
    "duration": 186,
    "start_time": "2023-05-09T22:46:28.763Z"
   },
   {
    "duration": 18,
    "start_time": "2023-05-09T22:46:28.951Z"
   },
   {
    "duration": 114,
    "start_time": "2023-05-09T22:46:29.049Z"
   },
   {
    "duration": 88,
    "start_time": "2023-05-09T22:46:29.171Z"
   },
   {
    "duration": 100,
    "start_time": "2023-05-09T22:46:29.263Z"
   },
   {
    "duration": 13,
    "start_time": "2023-05-09T22:46:29.365Z"
   },
   {
    "duration": 10,
    "start_time": "2023-05-09T22:46:29.381Z"
   },
   {
    "duration": 13,
    "start_time": "2023-05-09T22:46:29.393Z"
   },
   {
    "duration": 3,
    "start_time": "2023-05-09T22:46:29.408Z"
   },
   {
    "duration": 7,
    "start_time": "2023-05-09T22:46:29.412Z"
   },
   {
    "duration": 1471,
    "start_time": "2023-05-09T22:46:29.420Z"
   },
   {
    "duration": 1344,
    "start_time": "2023-05-09T22:46:30.893Z"
   },
   {
    "duration": 1357,
    "start_time": "2023-05-09T22:46:32.239Z"
   },
   {
    "duration": 7,
    "start_time": "2023-05-09T22:48:51.897Z"
   },
   {
    "duration": 7,
    "start_time": "2023-05-09T22:49:07.970Z"
   },
   {
    "duration": 1359,
    "start_time": "2023-05-09T22:49:10.064Z"
   },
   {
    "duration": 1466,
    "start_time": "2023-05-09T22:49:17.543Z"
   },
   {
    "duration": 1439,
    "start_time": "2023-05-09T22:49:19.011Z"
   },
   {
    "duration": 1452,
    "start_time": "2023-05-11T19:25:20.064Z"
   },
   {
    "duration": 956,
    "start_time": "2023-05-11T19:25:21.518Z"
   },
   {
    "duration": 3,
    "start_time": "2023-05-11T19:25:22.476Z"
   },
   {
    "duration": 595,
    "start_time": "2023-05-11T19:25:22.482Z"
   },
   {
    "duration": 551,
    "start_time": "2023-05-11T19:25:23.078Z"
   },
   {
    "duration": 707,
    "start_time": "2023-05-11T19:25:23.632Z"
   },
   {
    "duration": 3,
    "start_time": "2023-05-11T19:25:24.341Z"
   },
   {
    "duration": 70,
    "start_time": "2023-05-11T19:25:24.346Z"
   },
   {
    "duration": 70,
    "start_time": "2023-05-11T19:25:24.418Z"
   },
   {
    "duration": 102,
    "start_time": "2023-05-11T19:25:24.492Z"
   },
   {
    "duration": 5,
    "start_time": "2023-05-11T19:25:24.596Z"
   },
   {
    "duration": 24,
    "start_time": "2023-05-11T19:25:24.603Z"
   },
   {
    "duration": 35,
    "start_time": "2023-05-11T19:25:24.629Z"
   },
   {
    "duration": 16,
    "start_time": "2023-05-11T19:25:24.665Z"
   },
   {
    "duration": 4,
    "start_time": "2023-05-11T19:25:24.682Z"
   },
   {
    "duration": 73,
    "start_time": "2023-05-11T19:25:24.688Z"
   },
   {
    "duration": 102,
    "start_time": "2023-05-11T19:25:24.763Z"
   },
   {
    "duration": 94,
    "start_time": "2023-05-11T19:25:24.867Z"
   },
   {
    "duration": 8,
    "start_time": "2023-05-11T19:25:24.963Z"
   },
   {
    "duration": 7,
    "start_time": "2023-05-11T19:25:25.062Z"
   },
   {
    "duration": 94,
    "start_time": "2023-05-11T19:25:25.073Z"
   },
   {
    "duration": 8,
    "start_time": "2023-05-11T19:25:25.168Z"
   },
   {
    "duration": 11,
    "start_time": "2023-05-11T19:25:25.178Z"
   },
   {
    "duration": 4,
    "start_time": "2023-05-11T19:25:25.191Z"
   },
   {
    "duration": 10,
    "start_time": "2023-05-11T19:25:25.196Z"
   },
   {
    "duration": 1649,
    "start_time": "2023-05-11T19:25:25.208Z"
   },
   {
    "duration": 1761,
    "start_time": "2023-05-11T19:25:26.859Z"
   },
   {
    "duration": 1902,
    "start_time": "2023-05-11T19:25:28.623Z"
   },
   {
    "duration": 7,
    "start_time": "2023-05-11T19:29:41.349Z"
   },
   {
    "duration": 3,
    "start_time": "2023-05-11T19:35:22.249Z"
   },
   {
    "duration": 101,
    "start_time": "2023-05-11T19:36:32.161Z"
   },
   {
    "duration": 12,
    "start_time": "2023-05-11T19:36:59.661Z"
   },
   {
    "duration": 4,
    "start_time": "2023-05-11T19:37:59.176Z"
   },
   {
    "duration": 20,
    "start_time": "2023-05-11T19:37:59.868Z"
   },
   {
    "duration": 4,
    "start_time": "2023-05-11T19:38:30.152Z"
   },
   {
    "duration": 7,
    "start_time": "2023-05-11T19:38:32.633Z"
   },
   {
    "duration": 50,
    "start_time": "2023-05-11T19:54:37.304Z"
   },
   {
    "duration": 5,
    "start_time": "2023-05-11T19:54:47.321Z"
   },
   {
    "duration": 15,
    "start_time": "2023-05-11T19:55:12.004Z"
   },
   {
    "duration": 6,
    "start_time": "2023-05-11T19:56:08.687Z"
   },
   {
    "duration": 921,
    "start_time": "2023-05-11T19:56:09.316Z"
   },
   {
    "duration": 6,
    "start_time": "2023-05-11T19:57:33.548Z"
   },
   {
    "duration": 23,
    "start_time": "2023-05-11T19:57:36.584Z"
   },
   {
    "duration": 7,
    "start_time": "2023-05-11T19:58:10.022Z"
   },
   {
    "duration": 20,
    "start_time": "2023-05-11T19:58:11.004Z"
   },
   {
    "duration": 16,
    "start_time": "2023-05-11T19:59:00.394Z"
   },
   {
    "duration": 5,
    "start_time": "2023-05-11T19:59:14.809Z"
   },
   {
    "duration": 4,
    "start_time": "2023-05-11T19:59:17.112Z"
   },
   {
    "duration": 6,
    "start_time": "2023-05-11T19:59:17.576Z"
   },
   {
    "duration": 13,
    "start_time": "2023-05-11T19:59:19.352Z"
   },
   {
    "duration": 1361,
    "start_time": "2023-05-11T19:59:29.862Z"
   },
   {
    "duration": 4,
    "start_time": "2023-05-11T20:00:41.705Z"
   },
   {
    "duration": 5,
    "start_time": "2023-05-11T20:00:42.206Z"
   },
   {
    "duration": 1845,
    "start_time": "2023-05-11T20:00:44.090Z"
   },
   {
    "duration": 5,
    "start_time": "2023-05-11T20:13:00.213Z"
   },
   {
    "duration": 12,
    "start_time": "2023-05-11T20:13:06.727Z"
   },
   {
    "duration": 3,
    "start_time": "2023-05-11T20:13:46.301Z"
   },
   {
    "duration": 5,
    "start_time": "2023-05-11T20:13:47.000Z"
   },
   {
    "duration": 1255,
    "start_time": "2023-05-11T20:13:48.540Z"
   },
   {
    "duration": 5,
    "start_time": "2023-05-11T20:14:28.808Z"
   },
   {
    "duration": 1302,
    "start_time": "2023-05-11T20:14:29.804Z"
   },
   {
    "duration": 3,
    "start_time": "2023-05-11T20:16:30.949Z"
   },
   {
    "duration": 6,
    "start_time": "2023-05-11T20:16:31.442Z"
   },
   {
    "duration": 1399,
    "start_time": "2023-05-11T20:16:32.251Z"
   },
   {
    "duration": 1515,
    "start_time": "2023-05-11T20:16:54.928Z"
   },
   {
    "duration": 394,
    "start_time": "2023-05-11T20:16:56.445Z"
   },
   {
    "duration": 3,
    "start_time": "2023-05-11T20:16:56.841Z"
   },
   {
    "duration": 595,
    "start_time": "2023-05-11T20:16:56.846Z"
   },
   {
    "duration": 604,
    "start_time": "2023-05-11T20:16:57.443Z"
   },
   {
    "duration": 656,
    "start_time": "2023-05-11T20:16:58.049Z"
   },
   {
    "duration": 3,
    "start_time": "2023-05-11T20:16:58.707Z"
   },
   {
    "duration": 101,
    "start_time": "2023-05-11T20:16:58.712Z"
   },
   {
    "duration": 69,
    "start_time": "2023-05-11T20:16:58.815Z"
   },
   {
    "duration": 90,
    "start_time": "2023-05-11T20:16:58.887Z"
   },
   {
    "duration": 10,
    "start_time": "2023-05-11T20:16:58.978Z"
   },
   {
    "duration": 18,
    "start_time": "2023-05-11T20:16:58.990Z"
   },
   {
    "duration": 16,
    "start_time": "2023-05-11T20:16:59.010Z"
   },
   {
    "duration": 36,
    "start_time": "2023-05-11T20:16:59.029Z"
   },
   {
    "duration": 6,
    "start_time": "2023-05-11T20:16:59.068Z"
   },
   {
    "duration": 194,
    "start_time": "2023-05-11T20:16:59.076Z"
   },
   {
    "duration": 86,
    "start_time": "2023-05-11T20:16:59.272Z"
   },
   {
    "duration": 110,
    "start_time": "2023-05-11T20:16:59.365Z"
   },
   {
    "duration": 20,
    "start_time": "2023-05-11T20:16:59.481Z"
   },
   {
    "duration": 10,
    "start_time": "2023-05-11T20:16:59.564Z"
   },
   {
    "duration": 10,
    "start_time": "2023-05-11T20:16:59.576Z"
   },
   {
    "duration": 1493,
    "start_time": "2023-05-11T20:16:59.588Z"
   },
   {
    "duration": 148,
    "start_time": "2023-05-11T20:17:01.083Z"
   },
   {
    "duration": 0,
    "start_time": "2023-05-11T20:17:01.234Z"
   },
   {
    "duration": 0,
    "start_time": "2023-05-11T20:17:01.236Z"
   },
   {
    "duration": 0,
    "start_time": "2023-05-11T20:17:01.238Z"
   },
   {
    "duration": 0,
    "start_time": "2023-05-11T20:17:01.239Z"
   },
   {
    "duration": 0,
    "start_time": "2023-05-11T20:17:01.240Z"
   },
   {
    "duration": 1,
    "start_time": "2023-05-11T20:17:01.241Z"
   },
   {
    "duration": 0,
    "start_time": "2023-05-11T20:17:01.243Z"
   },
   {
    "duration": 3,
    "start_time": "2023-05-11T20:19:22.418Z"
   },
   {
    "duration": 9,
    "start_time": "2023-05-11T20:19:22.955Z"
   },
   {
    "duration": 1320,
    "start_time": "2023-05-11T20:19:24.309Z"
   },
   {
    "duration": 6,
    "start_time": "2023-05-11T20:20:09.943Z"
   },
   {
    "duration": 1539,
    "start_time": "2023-05-11T20:20:10.339Z"
   },
   {
    "duration": 8,
    "start_time": "2023-05-11T20:21:04.439Z"
   },
   {
    "duration": 1520,
    "start_time": "2023-05-11T20:21:05.323Z"
   },
   {
    "duration": 1254,
    "start_time": "2023-05-11T20:24:48.789Z"
   },
   {
    "duration": 1333,
    "start_time": "2023-05-11T20:26:17.311Z"
   },
   {
    "duration": 358,
    "start_time": "2023-05-11T20:26:18.646Z"
   },
   {
    "duration": 3,
    "start_time": "2023-05-11T20:26:19.006Z"
   },
   {
    "duration": 525,
    "start_time": "2023-05-11T20:26:19.012Z"
   },
   {
    "duration": 537,
    "start_time": "2023-05-11T20:26:19.539Z"
   },
   {
    "duration": 689,
    "start_time": "2023-05-11T20:26:20.078Z"
   },
   {
    "duration": 4,
    "start_time": "2023-05-11T20:26:20.768Z"
   },
   {
    "duration": 91,
    "start_time": "2023-05-11T20:26:20.774Z"
   },
   {
    "duration": 69,
    "start_time": "2023-05-11T20:26:20.867Z"
   },
   {
    "duration": 55,
    "start_time": "2023-05-11T20:26:20.956Z"
   },
   {
    "duration": 4,
    "start_time": "2023-05-11T20:26:21.013Z"
   },
   {
    "duration": 19,
    "start_time": "2023-05-11T20:26:21.018Z"
   },
   {
    "duration": 19,
    "start_time": "2023-05-11T20:26:21.056Z"
   },
   {
    "duration": 19,
    "start_time": "2023-05-11T20:26:21.077Z"
   },
   {
    "duration": 4,
    "start_time": "2023-05-11T20:26:21.098Z"
   },
   {
    "duration": 55,
    "start_time": "2023-05-11T20:26:21.104Z"
   },
   {
    "duration": 99,
    "start_time": "2023-05-11T20:26:21.161Z"
   },
   {
    "duration": 99,
    "start_time": "2023-05-11T20:26:21.262Z"
   },
   {
    "duration": 93,
    "start_time": "2023-05-11T20:26:21.363Z"
   },
   {
    "duration": 4,
    "start_time": "2023-05-11T20:26:21.459Z"
   },
   {
    "duration": 8,
    "start_time": "2023-05-11T20:26:21.465Z"
   },
   {
    "duration": 1240,
    "start_time": "2023-05-11T20:26:21.475Z"
   },
   {
    "duration": 1220,
    "start_time": "2023-05-11T20:26:22.717Z"
   },
   {
    "duration": 1254,
    "start_time": "2023-05-11T20:26:23.939Z"
   },
   {
    "duration": 6,
    "start_time": "2023-05-11T20:31:25.406Z"
   },
   {
    "duration": 1306,
    "start_time": "2023-05-11T20:31:26.110Z"
   },
   {
    "duration": 6,
    "start_time": "2023-05-11T20:31:45.929Z"
   },
   {
    "duration": 1273,
    "start_time": "2023-05-11T20:31:49.023Z"
   },
   {
    "duration": 1287,
    "start_time": "2023-05-11T20:32:50.470Z"
   },
   {
    "duration": 1223,
    "start_time": "2023-05-11T20:32:51.760Z"
   },
   {
    "duration": 1305,
    "start_time": "2023-05-11T20:35:21.230Z"
   },
   {
    "duration": 347,
    "start_time": "2023-05-11T20:35:22.537Z"
   },
   {
    "duration": 6,
    "start_time": "2023-05-11T20:35:22.886Z"
   },
   {
    "duration": 562,
    "start_time": "2023-05-11T20:35:22.893Z"
   },
   {
    "duration": 638,
    "start_time": "2023-05-11T20:35:23.458Z"
   },
   {
    "duration": 611,
    "start_time": "2023-05-11T20:35:24.098Z"
   },
   {
    "duration": 4,
    "start_time": "2023-05-11T20:35:24.711Z"
   },
   {
    "duration": 87,
    "start_time": "2023-05-11T20:35:24.716Z"
   },
   {
    "duration": 78,
    "start_time": "2023-05-11T20:35:24.804Z"
   },
   {
    "duration": 83,
    "start_time": "2023-05-11T20:35:24.884Z"
   },
   {
    "duration": 6,
    "start_time": "2023-05-11T20:35:24.969Z"
   },
   {
    "duration": 20,
    "start_time": "2023-05-11T20:35:24.976Z"
   },
   {
    "duration": 15,
    "start_time": "2023-05-11T20:35:24.997Z"
   },
   {
    "duration": 48,
    "start_time": "2023-05-11T20:35:25.014Z"
   },
   {
    "duration": 4,
    "start_time": "2023-05-11T20:35:25.064Z"
   },
   {
    "duration": 32,
    "start_time": "2023-05-11T20:35:25.070Z"
   },
   {
    "duration": 19,
    "start_time": "2023-05-11T20:35:25.256Z"
   },
   {
    "duration": 182,
    "start_time": "2023-05-11T20:35:25.277Z"
   },
   {
    "duration": 8,
    "start_time": "2023-05-11T20:35:25.462Z"
   },
   {
    "duration": 6,
    "start_time": "2023-05-11T20:35:25.557Z"
   },
   {
    "duration": 8,
    "start_time": "2023-05-11T20:35:25.566Z"
   },
   {
    "duration": 1240,
    "start_time": "2023-05-11T20:35:25.575Z"
   },
   {
    "duration": 1325,
    "start_time": "2023-05-11T20:35:26.817Z"
   },
   {
    "duration": 1361,
    "start_time": "2023-05-11T20:35:28.145Z"
   },
   {
    "duration": 5,
    "start_time": "2023-05-11T20:36:52.936Z"
   },
   {
    "duration": 1315,
    "start_time": "2023-05-11T20:36:53.250Z"
   },
   {
    "duration": 1188,
    "start_time": "2023-05-11T20:36:55.819Z"
   },
   {
    "duration": 1205,
    "start_time": "2023-05-11T20:36:57.867Z"
   },
   {
    "duration": 1363,
    "start_time": "2023-05-11T20:39:41.916Z"
   },
   {
    "duration": 376,
    "start_time": "2023-05-11T20:39:43.281Z"
   },
   {
    "duration": 5,
    "start_time": "2023-05-11T20:39:43.659Z"
   },
   {
    "duration": 672,
    "start_time": "2023-05-11T20:39:43.665Z"
   },
   {
    "duration": 580,
    "start_time": "2023-05-11T20:39:44.340Z"
   },
   {
    "duration": 592,
    "start_time": "2023-05-11T20:39:44.922Z"
   },
   {
    "duration": 3,
    "start_time": "2023-05-11T20:39:45.515Z"
   },
   {
    "duration": 75,
    "start_time": "2023-05-11T20:39:45.520Z"
   },
   {
    "duration": 66,
    "start_time": "2023-05-11T20:39:45.597Z"
   },
   {
    "duration": 61,
    "start_time": "2023-05-11T20:39:45.665Z"
   },
   {
    "duration": 5,
    "start_time": "2023-05-11T20:39:45.728Z"
   },
   {
    "duration": 37,
    "start_time": "2023-05-11T20:39:45.735Z"
   },
   {
    "duration": 17,
    "start_time": "2023-05-11T20:39:45.774Z"
   },
   {
    "duration": 15,
    "start_time": "2023-05-11T20:39:45.793Z"
   },
   {
    "duration": 5,
    "start_time": "2023-05-11T20:39:45.809Z"
   },
   {
    "duration": 289,
    "start_time": "2023-05-11T20:39:45.815Z"
   },
   {
    "duration": 0,
    "start_time": "2023-05-11T20:39:46.106Z"
   },
   {
    "duration": 0,
    "start_time": "2023-05-11T20:39:46.108Z"
   },
   {
    "duration": 0,
    "start_time": "2023-05-11T20:39:46.109Z"
   },
   {
    "duration": 0,
    "start_time": "2023-05-11T20:39:46.110Z"
   },
   {
    "duration": 0,
    "start_time": "2023-05-11T20:39:46.111Z"
   },
   {
    "duration": 0,
    "start_time": "2023-05-11T20:39:46.113Z"
   },
   {
    "duration": 0,
    "start_time": "2023-05-11T20:39:46.114Z"
   },
   {
    "duration": 0,
    "start_time": "2023-05-11T20:39:46.115Z"
   },
   {
    "duration": 5,
    "start_time": "2023-05-11T20:40:10.178Z"
   },
   {
    "duration": 149,
    "start_time": "2023-05-11T20:40:11.718Z"
   },
   {
    "duration": 4,
    "start_time": "2023-05-11T20:40:23.058Z"
   },
   {
    "duration": 160,
    "start_time": "2023-05-11T20:40:24.498Z"
   },
   {
    "duration": 5,
    "start_time": "2023-05-11T20:41:39.885Z"
   },
   {
    "duration": 181,
    "start_time": "2023-05-11T20:41:40.277Z"
   },
   {
    "duration": 61,
    "start_time": "2023-05-11T20:42:20.992Z"
   },
   {
    "duration": 52,
    "start_time": "2023-05-11T20:42:21.308Z"
   },
   {
    "duration": 57,
    "start_time": "2023-05-11T20:42:49.431Z"
   },
   {
    "duration": 46,
    "start_time": "2023-05-11T20:43:44.500Z"
   },
   {
    "duration": 5,
    "start_time": "2023-05-11T20:44:07.259Z"
   },
   {
    "duration": 18,
    "start_time": "2023-05-11T20:44:08.142Z"
   },
   {
    "duration": 15,
    "start_time": "2023-05-11T20:44:09.262Z"
   },
   {
    "duration": 1276,
    "start_time": "2023-05-11T20:44:21.438Z"
   },
   {
    "duration": 345,
    "start_time": "2023-05-11T20:44:22.716Z"
   },
   {
    "duration": 3,
    "start_time": "2023-05-11T20:44:23.062Z"
   },
   {
    "duration": 526,
    "start_time": "2023-05-11T20:44:23.067Z"
   },
   {
    "duration": 651,
    "start_time": "2023-05-11T20:44:23.595Z"
   },
   {
    "duration": 639,
    "start_time": "2023-05-11T20:44:24.248Z"
   },
   {
    "duration": 3,
    "start_time": "2023-05-11T20:44:24.889Z"
   },
   {
    "duration": 84,
    "start_time": "2023-05-11T20:44:24.894Z"
   },
   {
    "duration": 52,
    "start_time": "2023-05-11T20:44:24.981Z"
   },
   {
    "duration": 60,
    "start_time": "2023-05-11T20:44:25.056Z"
   },
   {
    "duration": 5,
    "start_time": "2023-05-11T20:44:25.118Z"
   },
   {
    "duration": 48,
    "start_time": "2023-05-11T20:44:25.125Z"
   },
   {
    "duration": 21,
    "start_time": "2023-05-11T20:44:25.176Z"
   },
   {
    "duration": 20,
    "start_time": "2023-05-11T20:44:25.201Z"
   },
   {
    "duration": 4,
    "start_time": "2023-05-11T20:44:25.223Z"
   },
   {
    "duration": 20,
    "start_time": "2023-05-11T20:44:25.256Z"
   },
   {
    "duration": 181,
    "start_time": "2023-05-11T20:44:25.278Z"
   },
   {
    "duration": 101,
    "start_time": "2023-05-11T20:44:25.461Z"
   },
   {
    "duration": 10,
    "start_time": "2023-05-11T20:44:25.564Z"
   },
   {
    "duration": 6,
    "start_time": "2023-05-11T20:44:25.658Z"
   },
   {
    "duration": 91,
    "start_time": "2023-05-11T20:44:25.666Z"
   },
   {
    "duration": 1260,
    "start_time": "2023-05-11T20:44:25.762Z"
   },
   {
    "duration": 1318,
    "start_time": "2023-05-11T20:44:27.024Z"
   },
   {
    "duration": 1331,
    "start_time": "2023-05-11T20:44:28.345Z"
   },
   {
    "duration": 3290,
    "start_time": "2023-05-11T21:08:17.565Z"
   },
   {
    "duration": 1447,
    "start_time": "2023-05-11T21:08:20.857Z"
   },
   {
    "duration": 4,
    "start_time": "2023-05-11T21:08:22.305Z"
   },
   {
    "duration": 450,
    "start_time": "2023-05-11T21:08:22.311Z"
   },
   {
    "duration": 511,
    "start_time": "2023-05-11T21:08:22.762Z"
   },
   {
    "duration": 430,
    "start_time": "2023-05-11T21:08:23.275Z"
   },
   {
    "duration": 4,
    "start_time": "2023-05-11T21:08:23.706Z"
   },
   {
    "duration": 64,
    "start_time": "2023-05-11T21:08:23.711Z"
   },
   {
    "duration": 52,
    "start_time": "2023-05-11T21:08:23.776Z"
   },
   {
    "duration": 63,
    "start_time": "2023-05-11T21:08:23.830Z"
   },
   {
    "duration": 3,
    "start_time": "2023-05-11T21:08:23.895Z"
   },
   {
    "duration": 29,
    "start_time": "2023-05-11T21:08:23.899Z"
   },
   {
    "duration": 11,
    "start_time": "2023-05-11T21:08:23.930Z"
   },
   {
    "duration": 17,
    "start_time": "2023-05-11T21:08:23.942Z"
   },
   {
    "duration": 3,
    "start_time": "2023-05-11T21:08:23.960Z"
   },
   {
    "duration": 30,
    "start_time": "2023-05-11T21:08:23.965Z"
   },
   {
    "duration": 188,
    "start_time": "2023-05-11T21:08:23.997Z"
   },
   {
    "duration": 100,
    "start_time": "2023-05-11T21:08:24.187Z"
   },
   {
    "duration": 201,
    "start_time": "2023-05-11T21:08:24.289Z"
   },
   {
    "duration": 13,
    "start_time": "2023-05-11T21:08:24.491Z"
   },
   {
    "duration": 6,
    "start_time": "2023-05-11T21:08:24.505Z"
   },
   {
    "duration": 919,
    "start_time": "2023-05-11T21:08:24.512Z"
   },
   {
    "duration": 988,
    "start_time": "2023-05-11T21:08:25.433Z"
   },
   {
    "duration": 949,
    "start_time": "2023-05-11T21:08:26.422Z"
   },
   {
    "duration": 6,
    "start_time": "2023-05-11T21:08:45.511Z"
   },
   {
    "duration": 4,
    "start_time": "2023-05-11T21:08:48.211Z"
   },
   {
    "duration": 5,
    "start_time": "2023-05-11T21:09:32.415Z"
   },
   {
    "duration": 922,
    "start_time": "2023-05-11T21:09:32.656Z"
   },
   {
    "duration": 931,
    "start_time": "2023-05-11T21:09:33.580Z"
   },
   {
    "duration": 873,
    "start_time": "2023-05-11T21:09:34.512Z"
   },
   {
    "duration": 6,
    "start_time": "2023-05-11T21:09:45.391Z"
   },
   {
    "duration": 5,
    "start_time": "2023-05-11T21:09:47.627Z"
   },
   {
    "duration": 958,
    "start_time": "2023-05-11T21:09:48.814Z"
   },
   {
    "duration": 963,
    "start_time": "2023-05-11T21:09:49.773Z"
   },
   {
    "duration": 935,
    "start_time": "2023-05-11T21:09:50.738Z"
   },
   {
    "duration": 7,
    "start_time": "2023-05-11T21:09:53.912Z"
   },
   {
    "duration": 919,
    "start_time": "2023-05-11T21:09:54.107Z"
   },
   {
    "duration": 934,
    "start_time": "2023-05-11T21:09:55.028Z"
   },
   {
    "duration": 969,
    "start_time": "2023-05-11T21:09:55.963Z"
   },
   {
    "duration": 7,
    "start_time": "2023-05-11T21:10:01.129Z"
   },
   {
    "duration": 932,
    "start_time": "2023-05-11T21:10:01.315Z"
   },
   {
    "duration": 890,
    "start_time": "2023-05-11T21:10:02.249Z"
   },
   {
    "duration": 871,
    "start_time": "2023-05-11T21:10:03.141Z"
   },
   {
    "duration": 4,
    "start_time": "2023-05-11T21:14:26.624Z"
   },
   {
    "duration": 896,
    "start_time": "2023-05-11T21:14:27.160Z"
   },
   {
    "duration": 867,
    "start_time": "2023-05-11T21:14:28.057Z"
   },
   {
    "duration": 912,
    "start_time": "2023-05-11T21:14:28.926Z"
   },
   {
    "duration": 19,
    "start_time": "2023-05-12T03:11:26.228Z"
   },
   {
    "duration": 2348,
    "start_time": "2023-05-12T03:13:45.803Z"
   },
   {
    "duration": 3347,
    "start_time": "2023-05-12T03:13:48.153Z"
   },
   {
    "duration": 20,
    "start_time": "2023-05-12T03:13:51.515Z"
   },
   {
    "duration": 970,
    "start_time": "2023-05-12T03:13:51.544Z"
   },
   {
    "duration": 949,
    "start_time": "2023-05-12T03:13:52.516Z"
   },
   {
    "duration": 963,
    "start_time": "2023-05-12T03:13:53.468Z"
   },
   {
    "duration": 8,
    "start_time": "2023-05-12T03:13:54.438Z"
   },
   {
    "duration": 277,
    "start_time": "2023-05-12T03:13:54.452Z"
   },
   {
    "duration": 400,
    "start_time": "2023-05-12T03:13:54.731Z"
   },
   {
    "duration": 156,
    "start_time": "2023-05-12T03:13:55.142Z"
   },
   {
    "duration": 59,
    "start_time": "2023-05-12T03:13:55.307Z"
   },
   {
    "duration": 235,
    "start_time": "2023-05-12T03:13:55.368Z"
   },
   {
    "duration": 112,
    "start_time": "2023-05-12T03:13:55.615Z"
   },
   {
    "duration": 130,
    "start_time": "2023-05-12T03:13:55.737Z"
   },
   {
    "duration": 86,
    "start_time": "2023-05-12T03:13:55.886Z"
   },
   {
    "duration": 132,
    "start_time": "2023-05-12T03:13:55.983Z"
   },
   {
    "duration": 49,
    "start_time": "2023-05-12T03:13:56.122Z"
   },
   {
    "duration": 140,
    "start_time": "2023-05-12T03:13:56.180Z"
   },
   {
    "duration": 91,
    "start_time": "2023-05-12T03:13:56.339Z"
   },
   {
    "duration": 45,
    "start_time": "2023-05-12T03:13:56.437Z"
   },
   {
    "duration": 60,
    "start_time": "2023-05-12T03:13:56.491Z"
   },
   {
    "duration": 1832,
    "start_time": "2023-05-12T03:13:56.560Z"
   },
   {
    "duration": 1635,
    "start_time": "2023-05-12T03:13:58.398Z"
   },
   {
    "duration": 1610,
    "start_time": "2023-05-12T03:14:00.039Z"
   },
   {
    "duration": 2149,
    "start_time": "2023-05-12T20:00:21.978Z"
   },
   {
    "duration": 1426,
    "start_time": "2023-05-12T20:00:24.131Z"
   },
   {
    "duration": 5,
    "start_time": "2023-05-12T20:00:25.559Z"
   },
   {
    "duration": 904,
    "start_time": "2023-05-12T20:00:25.567Z"
   },
   {
    "duration": 1018,
    "start_time": "2023-05-12T20:00:26.474Z"
   },
   {
    "duration": 916,
    "start_time": "2023-05-12T20:00:27.494Z"
   },
   {
    "duration": 5,
    "start_time": "2023-05-12T20:00:28.413Z"
   },
   {
    "duration": 102,
    "start_time": "2023-05-12T20:00:28.420Z"
   },
   {
    "duration": 98,
    "start_time": "2023-05-12T20:00:28.524Z"
   },
   {
    "duration": 108,
    "start_time": "2023-05-12T20:00:28.626Z"
   },
   {
    "duration": 7,
    "start_time": "2023-05-12T20:00:28.737Z"
   },
   {
    "duration": 42,
    "start_time": "2023-05-12T20:00:28.746Z"
   },
   {
    "duration": 21,
    "start_time": "2023-05-12T20:00:28.790Z"
   },
   {
    "duration": 32,
    "start_time": "2023-05-12T20:00:28.814Z"
   },
   {
    "duration": 6,
    "start_time": "2023-05-12T20:00:28.849Z"
   },
   {
    "duration": 46,
    "start_time": "2023-05-12T20:00:28.858Z"
   },
   {
    "duration": 190,
    "start_time": "2023-05-12T20:00:28.910Z"
   },
   {
    "duration": 87,
    "start_time": "2023-05-12T20:00:29.112Z"
   },
   {
    "duration": 82,
    "start_time": "2023-05-12T20:00:29.212Z"
   },
   {
    "duration": 11,
    "start_time": "2023-05-12T20:00:29.296Z"
   },
   {
    "duration": 17,
    "start_time": "2023-05-12T20:00:29.310Z"
   },
   {
    "duration": 1894,
    "start_time": "2023-05-12T20:00:29.329Z"
   },
   {
    "duration": 1358,
    "start_time": "2023-05-12T20:00:31.225Z"
   },
   {
    "duration": 1386,
    "start_time": "2023-05-12T20:00:32.598Z"
   },
   {
    "duration": 3,
    "start_time": "2023-05-12T20:02:32.717Z"
   },
   {
    "duration": 5,
    "start_time": "2023-05-12T20:02:44.996Z"
   },
   {
    "duration": 17,
    "start_time": "2023-05-12T20:02:46.294Z"
   },
   {
    "duration": 1884,
    "start_time": "2023-05-12T20:02:48.000Z"
   },
   {
    "duration": 5,
    "start_time": "2023-05-12T20:03:04.703Z"
   },
   {
    "duration": 14,
    "start_time": "2023-05-12T20:03:05.896Z"
   },
   {
    "duration": 1790,
    "start_time": "2023-05-12T20:03:07.805Z"
   },
   {
    "duration": 8,
    "start_time": "2023-05-12T20:03:32.379Z"
   },
   {
    "duration": 5,
    "start_time": "2023-05-12T20:03:33.212Z"
   },
   {
    "duration": 2696,
    "start_time": "2023-05-12T20:03:34.575Z"
   },
   {
    "duration": 6,
    "start_time": "2023-05-12T20:04:28.994Z"
   },
   {
    "duration": 6,
    "start_time": "2023-05-12T20:04:30.523Z"
   },
   {
    "duration": 132,
    "start_time": "2023-05-12T20:04:31.812Z"
   },
   {
    "duration": 3,
    "start_time": "2023-05-12T20:05:43.547Z"
   },
   {
    "duration": 7,
    "start_time": "2023-05-12T20:05:44.656Z"
   },
   {
    "duration": 2469,
    "start_time": "2023-05-12T20:05:45.868Z"
   },
   {
    "duration": 9,
    "start_time": "2023-05-12T20:07:25.050Z"
   },
   {
    "duration": 16,
    "start_time": "2023-05-12T20:07:27.606Z"
   },
   {
    "duration": 1302,
    "start_time": "2023-05-12T20:07:30.009Z"
   },
   {
    "duration": 1385,
    "start_time": "2023-05-12T20:08:10.019Z"
   },
   {
    "duration": 437,
    "start_time": "2023-05-12T20:08:11.406Z"
   },
   {
    "duration": 3,
    "start_time": "2023-05-12T20:08:11.845Z"
   },
   {
    "duration": 599,
    "start_time": "2023-05-12T20:08:11.850Z"
   },
   {
    "duration": 619,
    "start_time": "2023-05-12T20:08:12.450Z"
   },
   {
    "duration": 690,
    "start_time": "2023-05-12T20:08:13.071Z"
   },
   {
    "duration": 4,
    "start_time": "2023-05-12T20:08:13.762Z"
   },
   {
    "duration": 85,
    "start_time": "2023-05-12T20:08:13.781Z"
   },
   {
    "duration": 64,
    "start_time": "2023-05-12T20:08:13.868Z"
   },
   {
    "duration": 97,
    "start_time": "2023-05-12T20:08:13.939Z"
   },
   {
    "duration": 4,
    "start_time": "2023-05-12T20:08:14.039Z"
   },
   {
    "duration": 34,
    "start_time": "2023-05-12T20:08:14.045Z"
   },
   {
    "duration": 22,
    "start_time": "2023-05-12T20:08:14.084Z"
   },
   {
    "duration": 19,
    "start_time": "2023-05-12T20:08:14.108Z"
   },
   {
    "duration": 5,
    "start_time": "2023-05-12T20:08:14.129Z"
   },
   {
    "duration": 80,
    "start_time": "2023-05-12T20:08:14.136Z"
   },
   {
    "duration": 116,
    "start_time": "2023-05-12T20:08:14.278Z"
   },
   {
    "duration": 97,
    "start_time": "2023-05-12T20:08:14.396Z"
   },
   {
    "duration": 78,
    "start_time": "2023-05-12T20:08:14.502Z"
   },
   {
    "duration": 16,
    "start_time": "2023-05-12T20:08:14.593Z"
   },
   {
    "duration": 74,
    "start_time": "2023-05-12T20:08:14.611Z"
   },
   {
    "duration": 1332,
    "start_time": "2023-05-12T20:08:14.690Z"
   },
   {
    "duration": 1475,
    "start_time": "2023-05-12T20:08:16.024Z"
   },
   {
    "duration": 1284,
    "start_time": "2023-05-12T20:08:17.500Z"
   },
   {
    "duration": 1425,
    "start_time": "2023-05-12T21:40:50.805Z"
   },
   {
    "duration": 434,
    "start_time": "2023-05-12T21:40:52.231Z"
   },
   {
    "duration": 5,
    "start_time": "2023-05-12T21:40:52.666Z"
   },
   {
    "duration": 621,
    "start_time": "2023-05-12T21:40:52.676Z"
   },
   {
    "duration": 622,
    "start_time": "2023-05-12T21:40:53.300Z"
   },
   {
    "duration": 788,
    "start_time": "2023-05-12T21:40:53.925Z"
   },
   {
    "duration": 4,
    "start_time": "2023-05-12T21:40:54.715Z"
   },
   {
    "duration": 95,
    "start_time": "2023-05-12T21:40:54.720Z"
   },
   {
    "duration": 82,
    "start_time": "2023-05-12T21:40:54.817Z"
   },
   {
    "duration": 59,
    "start_time": "2023-05-12T21:40:54.902Z"
   },
   {
    "duration": 7,
    "start_time": "2023-05-12T21:40:54.976Z"
   },
   {
    "duration": 21,
    "start_time": "2023-05-12T21:40:54.985Z"
   },
   {
    "duration": 17,
    "start_time": "2023-05-12T21:40:55.007Z"
   },
   {
    "duration": 15,
    "start_time": "2023-05-12T21:40:55.026Z"
   },
   {
    "duration": 34,
    "start_time": "2023-05-12T21:40:55.042Z"
   },
   {
    "duration": 101,
    "start_time": "2023-05-12T21:40:55.078Z"
   },
   {
    "duration": 114,
    "start_time": "2023-05-12T21:40:55.190Z"
   },
   {
    "duration": 186,
    "start_time": "2023-05-12T21:40:55.307Z"
   },
   {
    "duration": 87,
    "start_time": "2023-05-12T21:40:55.497Z"
   },
   {
    "duration": 12,
    "start_time": "2023-05-12T21:40:55.590Z"
   },
   {
    "duration": 73,
    "start_time": "2023-05-12T21:40:55.604Z"
   },
   {
    "duration": 1312,
    "start_time": "2023-05-12T21:40:55.679Z"
   },
   {
    "duration": 1276,
    "start_time": "2023-05-12T21:40:56.993Z"
   },
   {
    "duration": 1309,
    "start_time": "2023-05-12T21:40:58.272Z"
   },
   {
    "duration": 1562,
    "start_time": "2023-05-12T21:42:23.856Z"
   },
   {
    "duration": 426,
    "start_time": "2023-05-12T21:42:25.420Z"
   },
   {
    "duration": 4,
    "start_time": "2023-05-12T21:42:25.847Z"
   },
   {
    "duration": 647,
    "start_time": "2023-05-12T21:42:25.853Z"
   },
   {
    "duration": 619,
    "start_time": "2023-05-12T21:42:26.502Z"
   },
   {
    "duration": 738,
    "start_time": "2023-05-12T21:42:27.123Z"
   },
   {
    "duration": 15,
    "start_time": "2023-05-12T21:42:27.864Z"
   },
   {
    "duration": 66,
    "start_time": "2023-05-12T21:42:27.881Z"
   },
   {
    "duration": 80,
    "start_time": "2023-05-12T21:42:27.949Z"
   },
   {
    "duration": 95,
    "start_time": "2023-05-12T21:42:28.031Z"
   },
   {
    "duration": 4,
    "start_time": "2023-05-12T21:42:28.128Z"
   },
   {
    "duration": 24,
    "start_time": "2023-05-12T21:42:28.134Z"
   },
   {
    "duration": 28,
    "start_time": "2023-05-12T21:42:28.176Z"
   },
   {
    "duration": 23,
    "start_time": "2023-05-12T21:42:28.208Z"
   },
   {
    "duration": 5,
    "start_time": "2023-05-12T21:42:28.234Z"
   },
   {
    "duration": 154,
    "start_time": "2023-05-12T21:42:28.242Z"
   },
   {
    "duration": 192,
    "start_time": "2023-05-12T21:42:28.399Z"
   },
   {
    "duration": 189,
    "start_time": "2023-05-12T21:42:28.597Z"
   },
   {
    "duration": 85,
    "start_time": "2023-05-12T21:42:28.792Z"
   },
   {
    "duration": 5,
    "start_time": "2023-05-12T21:42:28.880Z"
   },
   {
    "duration": 7,
    "start_time": "2023-05-12T21:42:28.887Z"
   },
   {
    "duration": 1331,
    "start_time": "2023-05-12T21:42:28.897Z"
   },
   {
    "duration": 1236,
    "start_time": "2023-05-12T21:42:30.230Z"
   },
   {
    "duration": 1368,
    "start_time": "2023-05-12T21:42:31.467Z"
   }
  ],
  "kernelspec": {
   "display_name": "Python 3 (ipykernel)",
   "language": "python",
   "name": "python3"
  },
  "language_info": {
   "codemirror_mode": {
    "name": "ipython",
    "version": 3
   },
   "file_extension": ".py",
   "mimetype": "text/x-python",
   "name": "python",
   "nbconvert_exporter": "python",
   "pygments_lexer": "ipython3",
   "version": "3.9.12"
  },
  "toc": {
   "base_numbering": 1,
   "nav_menu": {},
   "number_sections": true,
   "sideBar": true,
   "skip_h1_title": true,
   "title_cell": "Table of Contents",
   "title_sidebar": "Contents",
   "toc_cell": false,
   "toc_position": {},
   "toc_section_display": true,
   "toc_window_display": false
  }
 },
 "nbformat": 4,
 "nbformat_minor": 2
}
