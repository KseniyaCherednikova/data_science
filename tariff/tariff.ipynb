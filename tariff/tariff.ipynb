{
 "cells": [
  {
   "cell_type": "markdown",
   "metadata": {},
   "source": [
    "# Рекомендация тарифов"
   ]
  },
  {
   "cell_type": "markdown",
   "metadata": {},
   "source": [
    "В вашем распоряжении данные о поведении клиентов, которые уже перешли на эти тарифы. Нужно построить модель для задачи классификации, которая выберет подходящий тариф. \n",
    "\n",
    "Постройте модель с максимально большим значением *accuracy*. Необходимо довести долю правильных ответов по крайней мере до 0.75. Проверьть *accuracy* на тестовой выборке самостоятельно."
   ]
  },
  {
   "cell_type": "markdown",
   "metadata": {},
   "source": [
    "Описание данных:\n",
    "- сalls — количество звонков,\n",
    "- minutes — суммарная длительность звонков в минутах,\n",
    "- messages — количество sms-сообщений,\n",
    "- mb_used — израсходованный интернет-трафик в Мб,\n",
    "- is_ultra — каким тарифом пользовался в течение месяца («Ультра» — 1, «Смарт» — 0)."
   ]
  },
  {
   "cell_type": "code",
   "execution_count": 1,
   "metadata": {},
   "outputs": [],
   "source": [
    "# Библиотеки\n",
    "import pandas as pd\n",
    "from sklearn.tree import DecisionTreeClassifier\n",
    "from sklearn.ensemble import RandomForestClassifier \n",
    "from sklearn.linear_model import LogisticRegression\n",
    "from sklearn.dummy import DummyClassifier\n",
    "from sklearn.metrics import accuracy_score \n",
    "from sklearn.model_selection import train_test_split\n",
    "from warnings import simplefilter\n",
    "simplefilter(action='ignore')\n",
    "from tqdm import tqdm\n",
    "from sklearn.model_selection import GridSearchCV\n",
    "import time"
   ]
  },
  {
   "cell_type": "code",
   "execution_count": 2,
   "metadata": {},
   "outputs": [
    {
     "name": "stdout",
     "output_type": "stream",
     "text": [
      "<class 'pandas.core.frame.DataFrame'>\n",
      "RangeIndex: 3214 entries, 0 to 3213\n",
      "Data columns (total 5 columns):\n",
      " #   Column    Non-Null Count  Dtype  \n",
      "---  ------    --------------  -----  \n",
      " 0   calls     3214 non-null   float64\n",
      " 1   minutes   3214 non-null   float64\n",
      " 2   messages  3214 non-null   float64\n",
      " 3   mb_used   3214 non-null   float64\n",
      " 4   is_ultra  3214 non-null   int64  \n",
      "dtypes: float64(4), int64(1)\n",
      "memory usage: 125.7 KB\n"
     ]
    }
   ],
   "source": [
    "data = pd.read_csv('/datasets/****ior.csv')\n",
    "data.info()"
   ]
  },
  {
   "cell_type": "code",
   "execution_count": 3,
   "metadata": {},
   "outputs": [
    {
     "data": {
      "text/html": [
       "<div>\n",
       "<style scoped>\n",
       "    .dataframe tbody tr th:only-of-type {\n",
       "        vertical-align: middle;\n",
       "    }\n",
       "\n",
       "    .dataframe tbody tr th {\n",
       "        vertical-align: top;\n",
       "    }\n",
       "\n",
       "    .dataframe thead th {\n",
       "        text-align: right;\n",
       "    }\n",
       "</style>\n",
       "<table border=\"1\" class=\"dataframe\">\n",
       "  <thead>\n",
       "    <tr style=\"text-align: right;\">\n",
       "      <th></th>\n",
       "      <th>calls</th>\n",
       "      <th>minutes</th>\n",
       "      <th>messages</th>\n",
       "      <th>mb_used</th>\n",
       "      <th>is_ultra</th>\n",
       "    </tr>\n",
       "  </thead>\n",
       "  <tbody>\n",
       "    <tr>\n",
       "      <th>0</th>\n",
       "      <td>40.0</td>\n",
       "      <td>311.90</td>\n",
       "      <td>83.0</td>\n",
       "      <td>19915.42</td>\n",
       "      <td>0</td>\n",
       "    </tr>\n",
       "    <tr>\n",
       "      <th>1</th>\n",
       "      <td>85.0</td>\n",
       "      <td>516.75</td>\n",
       "      <td>56.0</td>\n",
       "      <td>22696.96</td>\n",
       "      <td>0</td>\n",
       "    </tr>\n",
       "    <tr>\n",
       "      <th>2</th>\n",
       "      <td>77.0</td>\n",
       "      <td>467.66</td>\n",
       "      <td>86.0</td>\n",
       "      <td>21060.45</td>\n",
       "      <td>0</td>\n",
       "    </tr>\n",
       "    <tr>\n",
       "      <th>3</th>\n",
       "      <td>106.0</td>\n",
       "      <td>745.53</td>\n",
       "      <td>81.0</td>\n",
       "      <td>8437.39</td>\n",
       "      <td>1</td>\n",
       "    </tr>\n",
       "    <tr>\n",
       "      <th>4</th>\n",
       "      <td>66.0</td>\n",
       "      <td>418.74</td>\n",
       "      <td>1.0</td>\n",
       "      <td>14502.75</td>\n",
       "      <td>0</td>\n",
       "    </tr>\n",
       "  </tbody>\n",
       "</table>\n",
       "</div>"
      ],
      "text/plain": [
       "   calls  minutes  messages   mb_used  is_ultra\n",
       "0   40.0   311.90      83.0  19915.42         0\n",
       "1   85.0   516.75      56.0  22696.96         0\n",
       "2   77.0   467.66      86.0  21060.45         0\n",
       "3  106.0   745.53      81.0   8437.39         1\n",
       "4   66.0   418.74       1.0  14502.75         0"
      ]
     },
     "execution_count": 3,
     "metadata": {},
     "output_type": "execute_result"
    }
   ],
   "source": [
    "data.head()"
   ]
  },
  {
   "cell_type": "markdown",
   "metadata": {},
   "source": [
    "## Разбивка данных на выборки"
   ]
  },
  {
   "cell_type": "code",
   "execution_count": 4,
   "metadata": {},
   "outputs": [],
   "source": [
    "features = data.drop(['is_ultra'], axis=1)\n",
    "target = data['is_ultra']"
   ]
  },
  {
   "cell_type": "code",
   "execution_count": 5,
   "metadata": {},
   "outputs": [
    {
     "name": "stdout",
     "output_type": "stream",
     "text": [
      "(2571, 4)\n",
      "(2571,)\n"
     ]
    }
   ],
   "source": [
    "features_train, features_test, target_train, target_test  = train_test_split(features,target, test_size=0.2, random_state=12345) \n",
    "\n",
    "print(features_train.shape)\n",
    "print(target_train.shape)"
   ]
  },
  {
   "cell_type": "code",
   "execution_count": 6,
   "metadata": {},
   "outputs": [],
   "source": [
    "features_train, features_val, target_train, target_val = train_test_split(features_train, target_train, test_size=0.25, random_state=12345) \n"
   ]
  },
  {
   "cell_type": "code",
   "execution_count": 7,
   "metadata": {},
   "outputs": [
    {
     "name": "stdout",
     "output_type": "stream",
     "text": [
      "Обучающая выборка:\n",
      "(1928, 4)\n",
      "(1928,)\n",
      "Тестовая выборка:\n",
      "(643, 4)\n",
      "(643,)\n",
      "Валидационная выборка:\n",
      "(643, 4)\n",
      "(643,)\n"
     ]
    }
   ],
   "source": [
    "print('Обучающая выборка:')\n",
    "print(features_train.shape)\n",
    "print(target_train.shape)\n",
    "print('Тестовая выборка:')\n",
    "print(features_test.shape)\n",
    "print(target_test.shape)\n",
    "print('Валидационная выборка:')\n",
    "print(features_val.shape)\n",
    "print(target_val.shape)"
   ]
  },
  {
   "cell_type": "markdown",
   "metadata": {},
   "source": [
    "## Исследование модели"
   ]
  },
  {
   "cell_type": "code",
   "execution_count": 8,
   "metadata": {},
   "outputs": [
    {
     "name": "stdout",
     "output_type": "stream",
     "text": [
      "Лучшие параметры {'max_depth': 7, 'min_samples_leaf': 3, 'min_samples_split': 3}\n",
      "Точность предсказания 0.7744945567651633\n",
      "Расчетное время 11.965874671936035\n"
     ]
    }
   ],
   "source": [
    "#Проверка валидационной модели Дерева решений\n",
    "start_time = time.time()\n",
    "model_class = DecisionTreeClassifier()\n",
    "parametrs = { 'max_depth': range (1,11),\n",
    "              'min_samples_leaf': range (1,8),\n",
    "              'min_samples_split': range (2,10) }\n",
    "grid = GridSearchCV(model_class, parametrs, cv=5)\n",
    "grid.fit(features_val, target_val)\n",
    "finish_time = time.time()\n",
    "\n",
    "model_class = DecisionTreeClassifier(random_state=12345, max_depth = grid.best_params_[\"max_depth\"]\n",
    "                                     , min_samples_leaf = grid.best_params_[\"min_samples_leaf\"]\n",
    "                                     , min_samples_split = grid.best_params_[\"min_samples_split\"] )\n",
    "model_class.fit(features_train, target_train)\n",
    "predictions = model_class.predict(features_val)\n",
    "accuracy = accuracy_score(target_val, predictions)\n",
    "print(\"Лучшие параметры\", grid.best_params_)\n",
    "print(\"Точность предсказания\", accuracy)\n",
    "print (\"Расчетное время\", finish_time-start_time)\n"
   ]
  },
  {
   "cell_type": "code",
   "execution_count": 9,
   "metadata": {
    "scrolled": true
   },
   "outputs": [
    {
     "name": "stdout",
     "output_type": "stream",
     "text": [
      "Лучшие параметры {'max_iter': 39, 'solver': 'newton-cg'}\n",
      "Точность предсказания 0.7278382581648523\n",
      "Расчетное время 31.871304512023926\n"
     ]
    }
   ],
   "source": [
    "start_time = time.time()\n",
    "model_class = LogisticRegression()\n",
    "parametrs = {'solver': ['newton-cg', 'lbfgs', 'sag', 'saga'],\n",
    "            'max_iter': range(10, 100)}\n",
    "grid = GridSearchCV(model_class, parametrs, cv=5)\n",
    "grid.fit(features_val, target_val)\n",
    "finish_time = time.time()\n",
    "model_class = LogisticRegression(random_state=12345, solver = grid.best_params_[\"solver\"]\n",
    "                                     , max_iter = grid.best_params_[\"max_iter\"])\n",
    "model_class.fit(features_train, target_train)\n",
    "predictions = model_class.predict(features_val)\n",
    "accuracy = accuracy_score(target_val, predictions)\n",
    "print(\"Лучшие параметры\", grid.best_params_)\n",
    "print(\"Точность предсказания\", accuracy)\n",
    "print (\"Расчетное время\", finish_time-start_time)\n"
   ]
  },
  {
   "cell_type": "code",
   "execution_count": 10,
   "metadata": {},
   "outputs": [
    {
     "name": "stdout",
     "output_type": "stream",
     "text": [
      "Лучшие параметры {'max_depth': 9, 'min_samples_leaf': 6, 'min_samples_split': 4, 'n_estimators': 8}\n",
      "Точность предсказания 0.7838258164852255\n",
      "Расчетное время 323.31711173057556\n"
     ]
    }
   ],
   "source": [
    "#Проверка валидационной модели Случайного леса\n",
    "start_time = time.time()\n",
    "model_class = RandomForestClassifier()\n",
    "parametrs = { 'n_estimators': range (1, 11),\n",
    "              'max_depth': range (1,11),\n",
    "              'min_samples_leaf': range (1,8),\n",
    "              'min_samples_split': range (2,10) }\n",
    "grid = GridSearchCV(model_class, parametrs, cv=5)\n",
    "grid.fit(features_val, target_val)\n",
    "finish_time = time.time()\n",
    "model_class = RandomForestClassifier(random_state=12345, max_depth = grid.best_params_[\"max_depth\"]\n",
    "                                     , min_samples_leaf = grid.best_params_[\"min_samples_leaf\"]\n",
    "                                     , min_samples_split = grid.best_params_[\"min_samples_split\"]\n",
    "                                     , n_estimators = grid.best_params_[\"n_estimators\"])\n",
    "model_class.fit(features_train, target_train)\n",
    "predictions = model_class.predict(features_val)\n",
    "accuracy = accuracy_score(target_val, predictions)\n",
    "print(\"Лучшие параметры\", grid.best_params_)\n",
    "print(\"Точность предсказания\", accuracy)\n",
    "print (\"Расчетное время\", finish_time-start_time)\n"
   ]
  },
  {
   "cell_type": "markdown",
   "metadata": {},
   "source": [
    "В данной задаче целевой признак категориальный, значит решаем задачу бинарной классификации. \n",
    "Для исследования берем следующие классификаторы:\n",
    "- DecisionTreeClassifier (Дерево решений)\n",
    "- RandomForestClassifier (Случайный лес)\n",
    "- LogisticRegression (Логистическая регрессия)\n",
    "\n",
    "В исследовании использовались разные гиперпараметри для определения наилучшего:\n",
    "- для DecisionTreeClassifier лучшим оказался max_depth=5, min_samples_leaf=2, min_samples_split=7, accuracy = 0.774\n",
    "- для RandomForestClassifier лучшим были max_depth=6, min_samples_leaf=5, min_samples_split=6, n_estimators=9, accuracy = 0.783\n",
    "- для LogisticRegression лучшим были max_iter=39, solver=newton-cg,  accuracy = 0.728\n",
    "\n",
    "Лучшей моделью оказался RandomForestClassifier, для дальнейшего исследования будем применять эту модель.\n"
   ]
  },
  {
   "cell_type": "markdown",
   "metadata": {},
   "source": [
    "## Проверка модель на тестовой выборке"
   ]
  },
  {
   "cell_type": "code",
   "execution_count": 11,
   "metadata": {},
   "outputs": [
    {
     "name": "stdout",
     "output_type": "stream",
     "text": [
      "Точность предсказания модели на тестовой сборке: 0.7978227060653188\n"
     ]
    }
   ],
   "source": [
    "model_class = RandomForestClassifier(random_state=12345, max_depth = grid.best_params_[\"max_depth\"]\n",
    "                                     , n_estimators=grid.best_params_[\"n_estimators\"]\n",
    "                                    , min_samples_leaf = grid.best_params_[\"min_samples_leaf\"]\n",
    "                                     , min_samples_split = grid.best_params_[\"min_samples_split\"])\n",
    "model_class.fit(features_train, target_train)\n",
    "predictions_test = model_class.predict(features_test)\n",
    "accuracy = accuracy_score(target_test, predictions_test)\n",
    "print('Точность предсказания модели на тестовой сборке:', accuracy)"
   ]
  },
  {
   "cell_type": "markdown",
   "metadata": {},
   "source": [
    "Доля правильных ответов выбранной модели  на тестовой выборке равна 0.7884914463452566."
   ]
  },
  {
   "cell_type": "markdown",
   "metadata": {},
   "source": [
    "## Проверька модели на адекватность"
   ]
  },
  {
   "cell_type": "code",
   "execution_count": 12,
   "metadata": {},
   "outputs": [
    {
     "name": "stdout",
     "output_type": "stream",
     "text": [
      "Точность предсказания модели на тестовой сборке c DummyClassifier: 0.6951788491446346\n",
      "Точность предсказания модели на тестовой сборке c Random Forest: 0.7978227060653188\n"
     ]
    }
   ],
   "source": [
    "dummy_model = DummyClassifier(strategy='most_frequent') \n",
    "dummy_model.fit(features_train, target_train)\n",
    "dummy_score = dummy_model.score(features_test, target_test)\n",
    "print('Точность предсказания модели на тестовой сборке c DummyClassifier:', dummy_score)\n",
    "print('Точность предсказания модели на тестовой сборке c Random Forest:', accuracy)"
   ]
  },
  {
   "cell_type": "markdown",
   "metadata": {},
   "source": [
    "Результаты проверки на адекватность говорят о правильно выбранной модели."
   ]
  }
 ],
 "metadata": {
  "ExecuteTimeLog": [
   {
    "duration": 45,
    "start_time": "2023-04-05T20:12:12.804Z"
   },
   {
    "duration": 373,
    "start_time": "2023-04-05T20:12:19.298Z"
   },
   {
    "duration": 127,
    "start_time": "2023-04-05T20:12:54.245Z"
   },
   {
    "duration": 35,
    "start_time": "2023-04-05T20:13:05.785Z"
   },
   {
    "duration": 668,
    "start_time": "2023-04-05T20:16:03.137Z"
   },
   {
    "duration": 15,
    "start_time": "2023-04-05T20:20:28.894Z"
   },
   {
    "duration": 1052,
    "start_time": "2023-04-06T09:31:42.893Z"
   },
   {
    "duration": 134,
    "start_time": "2023-04-06T09:31:43.947Z"
   },
   {
    "duration": 15,
    "start_time": "2023-04-06T09:31:44.082Z"
   },
   {
    "duration": 3,
    "start_time": "2023-04-06T09:31:44.098Z"
   },
   {
    "duration": 11,
    "start_time": "2023-04-06T09:31:44.103Z"
   },
   {
    "duration": 82,
    "start_time": "2023-04-06T09:31:44.115Z"
   },
   {
    "duration": 5,
    "start_time": "2023-04-06T09:31:52.567Z"
   },
   {
    "duration": 5,
    "start_time": "2023-04-06T09:34:24.206Z"
   },
   {
    "duration": 5,
    "start_time": "2023-04-06T09:34:44.260Z"
   },
   {
    "duration": 91,
    "start_time": "2023-04-06T09:48:10.774Z"
   },
   {
    "duration": 3,
    "start_time": "2023-04-06T09:48:39.278Z"
   },
   {
    "duration": 11,
    "start_time": "2023-04-06T09:48:48.473Z"
   },
   {
    "duration": 21,
    "start_time": "2023-04-06T09:49:59.660Z"
   },
   {
    "duration": 5,
    "start_time": "2023-04-06T09:50:10.603Z"
   },
   {
    "duration": 1914,
    "start_time": "2023-04-06T09:54:49.172Z"
   },
   {
    "duration": 1152,
    "start_time": "2023-04-06T09:56:43.220Z"
   },
   {
    "duration": 36,
    "start_time": "2023-04-06T09:56:44.374Z"
   },
   {
    "duration": 14,
    "start_time": "2023-04-06T09:56:44.412Z"
   },
   {
    "duration": 3,
    "start_time": "2023-04-06T09:56:44.428Z"
   },
   {
    "duration": 7,
    "start_time": "2023-04-06T09:56:44.433Z"
   },
   {
    "duration": 11,
    "start_time": "2023-04-06T09:56:44.441Z"
   },
   {
    "duration": 8,
    "start_time": "2023-04-06T09:56:44.453Z"
   },
   {
    "duration": 22,
    "start_time": "2023-04-06T09:56:44.462Z"
   },
   {
    "duration": 3,
    "start_time": "2023-04-06T09:56:44.485Z"
   },
   {
    "duration": 2025,
    "start_time": "2023-04-06T09:56:44.490Z"
   },
   {
    "duration": 13,
    "start_time": "2023-04-06T10:03:28.596Z"
   },
   {
    "duration": 9,
    "start_time": "2023-04-06T10:03:47.687Z"
   },
   {
    "duration": 5,
    "start_time": "2023-04-06T10:03:48.698Z"
   },
   {
    "duration": 1692,
    "start_time": "2023-04-06T10:03:55.500Z"
   },
   {
    "duration": 7,
    "start_time": "2023-04-06T10:05:27.284Z"
   },
   {
    "duration": 5,
    "start_time": "2023-04-06T10:05:41.311Z"
   },
   {
    "duration": 8,
    "start_time": "2023-04-06T10:06:22.416Z"
   },
   {
    "duration": 4,
    "start_time": "2023-04-06T10:06:38.906Z"
   },
   {
    "duration": 4,
    "start_time": "2023-04-06T10:07:06.926Z"
   },
   {
    "duration": 2120,
    "start_time": "2023-04-06T10:07:07.547Z"
   },
   {
    "duration": 2,
    "start_time": "2023-04-06T10:09:05.787Z"
   },
   {
    "duration": 10,
    "start_time": "2023-04-06T10:13:13.916Z"
   },
   {
    "duration": 7,
    "start_time": "2023-04-06T10:13:37.547Z"
   },
   {
    "duration": 8,
    "start_time": "2023-04-06T10:13:38.162Z"
   },
   {
    "duration": 51,
    "start_time": "2023-04-09T13:20:42.932Z"
   },
   {
    "duration": 1072,
    "start_time": "2023-04-09T13:21:21.309Z"
   },
   {
    "duration": 63,
    "start_time": "2023-04-09T13:21:22.383Z"
   },
   {
    "duration": 19,
    "start_time": "2023-04-09T13:21:22.448Z"
   },
   {
    "duration": 4,
    "start_time": "2023-04-09T13:21:22.469Z"
   },
   {
    "duration": 5,
    "start_time": "2023-04-09T13:21:22.475Z"
   },
   {
    "duration": 5,
    "start_time": "2023-04-09T13:21:22.481Z"
   },
   {
    "duration": 6,
    "start_time": "2023-04-09T13:21:22.487Z"
   },
   {
    "duration": 23,
    "start_time": "2023-04-09T13:21:22.494Z"
   },
   {
    "duration": 8,
    "start_time": "2023-04-09T13:21:22.519Z"
   },
   {
    "duration": 39,
    "start_time": "2023-04-09T13:21:22.528Z"
   },
   {
    "duration": 46,
    "start_time": "2023-04-09T13:21:22.568Z"
   },
   {
    "duration": 0,
    "start_time": "2023-04-09T13:21:22.616Z"
   },
   {
    "duration": 4,
    "start_time": "2023-04-09T13:21:43.853Z"
   },
   {
    "duration": 1178,
    "start_time": "2023-04-09T13:22:16.359Z"
   },
   {
    "duration": 31,
    "start_time": "2023-04-09T13:22:17.539Z"
   },
   {
    "duration": 17,
    "start_time": "2023-04-09T13:22:17.571Z"
   },
   {
    "duration": 4,
    "start_time": "2023-04-09T13:22:17.590Z"
   },
   {
    "duration": 9,
    "start_time": "2023-04-09T13:22:17.595Z"
   },
   {
    "duration": 5,
    "start_time": "2023-04-09T13:22:17.606Z"
   },
   {
    "duration": 5,
    "start_time": "2023-04-09T13:22:17.613Z"
   },
   {
    "duration": 4,
    "start_time": "2023-04-09T13:22:17.619Z"
   },
   {
    "duration": 133,
    "start_time": "2023-04-09T13:22:17.624Z"
   },
   {
    "duration": 8,
    "start_time": "2023-04-09T13:22:43.749Z"
   },
   {
    "duration": 4,
    "start_time": "2023-04-09T13:22:48.729Z"
   },
   {
    "duration": 19,
    "start_time": "2023-04-09T13:22:49.147Z"
   },
   {
    "duration": 4,
    "start_time": "2023-04-09T13:23:11.723Z"
   },
   {
    "duration": 17,
    "start_time": "2023-04-09T13:23:13.235Z"
   },
   {
    "duration": 4,
    "start_time": "2023-04-09T13:23:36.740Z"
   },
   {
    "duration": 19,
    "start_time": "2023-04-09T13:23:37.474Z"
   },
   {
    "duration": 4,
    "start_time": "2023-04-09T13:23:51.831Z"
   },
   {
    "duration": 74,
    "start_time": "2023-04-09T13:23:52.523Z"
   },
   {
    "duration": 4,
    "start_time": "2023-04-09T13:24:49.641Z"
   },
   {
    "duration": 68,
    "start_time": "2023-04-09T13:24:50.159Z"
   },
   {
    "duration": 4,
    "start_time": "2023-04-09T13:26:04.321Z"
   },
   {
    "duration": 66,
    "start_time": "2023-04-09T13:26:07.565Z"
   },
   {
    "duration": 70,
    "start_time": "2023-04-09T13:26:11.947Z"
   },
   {
    "duration": 7,
    "start_time": "2023-04-09T13:26:27.605Z"
   },
   {
    "duration": 5,
    "start_time": "2023-04-09T13:26:28.225Z"
   },
   {
    "duration": 5,
    "start_time": "2023-04-09T13:26:28.872Z"
   },
   {
    "duration": 4,
    "start_time": "2023-04-09T13:26:31.937Z"
   },
   {
    "duration": 69,
    "start_time": "2023-04-09T13:26:32.517Z"
   },
   {
    "duration": 4,
    "start_time": "2023-04-09T13:27:52.907Z"
   },
   {
    "duration": 76,
    "start_time": "2023-04-09T13:27:53.395Z"
   },
   {
    "duration": 4,
    "start_time": "2023-04-09T13:28:48.848Z"
   },
   {
    "duration": 66,
    "start_time": "2023-04-09T13:28:49.465Z"
   },
   {
    "duration": 10,
    "start_time": "2023-04-09T13:32:06.804Z"
   },
   {
    "duration": 9,
    "start_time": "2023-04-09T13:32:59.213Z"
   },
   {
    "duration": 3,
    "start_time": "2023-04-09T13:33:39.159Z"
   },
   {
    "duration": 18,
    "start_time": "2023-04-09T13:48:12.726Z"
   },
   {
    "duration": 77,
    "start_time": "2023-04-09T13:48:27.279Z"
   },
   {
    "duration": 2536,
    "start_time": "2023-04-09T13:50:09.577Z"
   },
   {
    "duration": 82,
    "start_time": "2023-04-09T13:51:10.352Z"
   },
   {
    "duration": 2592,
    "start_time": "2023-04-09T13:52:03.538Z"
   },
   {
    "duration": 1748,
    "start_time": "2023-04-09T13:55:21.251Z"
   },
   {
    "duration": 75,
    "start_time": "2023-04-09T13:58:41.402Z"
   },
   {
    "duration": 48,
    "start_time": "2023-04-09T13:59:01.035Z"
   },
   {
    "duration": 13,
    "start_time": "2023-04-09T14:28:17.381Z"
   },
   {
    "duration": 1261,
    "start_time": "2023-04-09T14:28:28.457Z"
   },
   {
    "duration": 34,
    "start_time": "2023-04-09T14:28:29.720Z"
   },
   {
    "duration": 34,
    "start_time": "2023-04-09T14:28:29.756Z"
   },
   {
    "duration": 9,
    "start_time": "2023-04-09T14:28:29.793Z"
   },
   {
    "duration": 11,
    "start_time": "2023-04-09T14:28:29.804Z"
   },
   {
    "duration": 6,
    "start_time": "2023-04-09T14:28:29.817Z"
   },
   {
    "duration": 6,
    "start_time": "2023-04-09T14:28:29.826Z"
   },
   {
    "duration": 100,
    "start_time": "2023-04-09T14:28:29.834Z"
   },
   {
    "duration": 2013,
    "start_time": "2023-04-09T14:28:29.936Z"
   },
   {
    "duration": 50,
    "start_time": "2023-04-09T14:28:31.961Z"
   },
   {
    "duration": 122,
    "start_time": "2023-04-09T14:28:32.013Z"
   },
   {
    "duration": 44,
    "start_time": "2023-04-09T14:31:17.048Z"
   },
   {
    "duration": 44,
    "start_time": "2023-04-09T14:31:56.118Z"
   },
   {
    "duration": 45,
    "start_time": "2023-04-09T14:34:59.692Z"
   },
   {
    "duration": 9,
    "start_time": "2023-04-09T15:27:18.298Z"
   },
   {
    "duration": 4,
    "start_time": "2023-04-09T15:27:54.223Z"
   },
   {
    "duration": 11,
    "start_time": "2023-04-09T15:27:58.330Z"
   },
   {
    "duration": 5,
    "start_time": "2023-04-09T15:28:10.651Z"
   },
   {
    "duration": 1137,
    "start_time": "2023-04-09T15:28:32.029Z"
   },
   {
    "duration": 32,
    "start_time": "2023-04-09T15:28:33.168Z"
   },
   {
    "duration": 16,
    "start_time": "2023-04-09T15:28:33.201Z"
   },
   {
    "duration": 3,
    "start_time": "2023-04-09T15:28:33.219Z"
   },
   {
    "duration": 7,
    "start_time": "2023-04-09T15:28:33.223Z"
   },
   {
    "duration": 7,
    "start_time": "2023-04-09T15:28:33.232Z"
   },
   {
    "duration": 7,
    "start_time": "2023-04-09T15:28:33.240Z"
   },
   {
    "duration": 84,
    "start_time": "2023-04-09T15:28:33.262Z"
   },
   {
    "duration": 1878,
    "start_time": "2023-04-09T15:28:33.361Z"
   },
   {
    "duration": 54,
    "start_time": "2023-04-09T15:28:35.242Z"
   },
   {
    "duration": 44,
    "start_time": "2023-04-09T15:28:35.298Z"
   },
   {
    "duration": 18,
    "start_time": "2023-04-09T15:28:35.343Z"
   },
   {
    "duration": 58,
    "start_time": "2023-04-09T15:29:38.556Z"
   },
   {
    "duration": 1147,
    "start_time": "2023-04-09T15:29:48.014Z"
   },
   {
    "duration": 31,
    "start_time": "2023-04-09T15:29:49.162Z"
   },
   {
    "duration": 17,
    "start_time": "2023-04-09T15:29:49.194Z"
   },
   {
    "duration": 5,
    "start_time": "2023-04-09T15:29:49.213Z"
   },
   {
    "duration": 7,
    "start_time": "2023-04-09T15:29:49.220Z"
   },
   {
    "duration": 5,
    "start_time": "2023-04-09T15:29:49.229Z"
   },
   {
    "duration": 9,
    "start_time": "2023-04-09T15:29:49.235Z"
   },
   {
    "duration": 88,
    "start_time": "2023-04-09T15:29:49.246Z"
   },
   {
    "duration": 1861,
    "start_time": "2023-04-09T15:29:49.335Z"
   },
   {
    "duration": 40,
    "start_time": "2023-04-09T15:29:51.198Z"
   },
   {
    "duration": 58,
    "start_time": "2023-04-09T15:29:51.240Z"
   },
   {
    "duration": 7,
    "start_time": "2023-04-09T15:29:51.299Z"
   },
   {
    "duration": 1711,
    "start_time": "2023-04-09T16:42:26.565Z"
   },
   {
    "duration": 96,
    "start_time": "2023-04-09T16:42:28.279Z"
   },
   {
    "duration": 17,
    "start_time": "2023-04-09T16:42:28.376Z"
   },
   {
    "duration": 4,
    "start_time": "2023-04-09T16:42:28.395Z"
   },
   {
    "duration": 6,
    "start_time": "2023-04-09T16:42:28.403Z"
   },
   {
    "duration": 6,
    "start_time": "2023-04-09T16:42:28.411Z"
   },
   {
    "duration": 12,
    "start_time": "2023-04-09T16:42:28.418Z"
   },
   {
    "duration": 114,
    "start_time": "2023-04-09T16:42:28.434Z"
   },
   {
    "duration": 1127,
    "start_time": "2023-04-09T19:37:01.347Z"
   },
   {
    "duration": 1118,
    "start_time": "2023-04-09T19:37:10.933Z"
   },
   {
    "duration": 131,
    "start_time": "2023-04-09T19:37:12.053Z"
   },
   {
    "duration": 17,
    "start_time": "2023-04-09T19:37:12.186Z"
   },
   {
    "duration": 4,
    "start_time": "2023-04-09T19:37:12.204Z"
   },
   {
    "duration": 34,
    "start_time": "2023-04-09T19:37:12.209Z"
   },
   {
    "duration": 35,
    "start_time": "2023-04-09T19:37:12.244Z"
   },
   {
    "duration": 22,
    "start_time": "2023-04-09T19:37:12.281Z"
   },
   {
    "duration": 73,
    "start_time": "2023-04-09T19:37:12.305Z"
   },
   {
    "duration": 1830,
    "start_time": "2023-04-09T19:37:12.379Z"
   },
   {
    "duration": 40,
    "start_time": "2023-04-09T19:37:14.211Z"
   },
   {
    "duration": 43,
    "start_time": "2023-04-09T19:37:14.253Z"
   },
   {
    "duration": 5,
    "start_time": "2023-04-09T19:37:14.298Z"
   },
   {
    "duration": 1132,
    "start_time": "2023-04-09T21:00:40.346Z"
   },
   {
    "duration": 37,
    "start_time": "2023-04-09T21:00:41.480Z"
   },
   {
    "duration": 16,
    "start_time": "2023-04-09T21:00:41.518Z"
   },
   {
    "duration": 4,
    "start_time": "2023-04-09T21:00:41.536Z"
   },
   {
    "duration": 9,
    "start_time": "2023-04-09T21:00:41.541Z"
   },
   {
    "duration": 6,
    "start_time": "2023-04-09T21:00:41.552Z"
   },
   {
    "duration": 6,
    "start_time": "2023-04-09T21:00:41.560Z"
   },
   {
    "duration": 88,
    "start_time": "2023-04-09T21:00:41.568Z"
   },
   {
    "duration": 123,
    "start_time": "2023-04-09T21:00:41.658Z"
   },
   {
    "duration": 0,
    "start_time": "2023-04-09T21:00:41.783Z"
   },
   {
    "duration": 0,
    "start_time": "2023-04-09T21:00:41.785Z"
   },
   {
    "duration": 0,
    "start_time": "2023-04-09T21:00:41.786Z"
   },
   {
    "duration": 3,
    "start_time": "2023-04-09T21:06:59.331Z"
   },
   {
    "duration": 342893,
    "start_time": "2023-04-09T21:07:04.861Z"
   },
   {
    "duration": 4,
    "start_time": "2023-04-09T21:15:59.245Z"
   },
   {
    "duration": 336903,
    "start_time": "2023-04-09T21:19:37.940Z"
   },
   {
    "duration": 5,
    "start_time": "2023-04-09T21:25:14.844Z"
   },
   {
    "duration": 1139,
    "start_time": "2023-04-09T21:56:14.932Z"
   },
   {
    "duration": 40,
    "start_time": "2023-04-09T21:56:16.073Z"
   },
   {
    "duration": 17,
    "start_time": "2023-04-09T21:56:16.114Z"
   },
   {
    "duration": 13,
    "start_time": "2023-04-09T21:56:16.133Z"
   },
   {
    "duration": 10,
    "start_time": "2023-04-09T21:56:16.148Z"
   },
   {
    "duration": 20,
    "start_time": "2023-04-09T21:56:16.160Z"
   },
   {
    "duration": 15,
    "start_time": "2023-04-09T21:56:16.182Z"
   },
   {
    "duration": 11865,
    "start_time": "2023-04-09T21:56:16.199Z"
   },
   {
    "duration": 342166,
    "start_time": "2023-04-09T21:56:28.067Z"
   },
   {
    "duration": 99,
    "start_time": "2023-04-09T22:02:10.235Z"
   },
   {
    "duration": 0,
    "start_time": "2023-04-09T22:02:10.336Z"
   },
   {
    "duration": 115,
    "start_time": "2023-04-09T22:03:12.526Z"
   },
   {
    "duration": 3576,
    "start_time": "2023-04-09T22:03:37.417Z"
   },
   {
    "duration": 134,
    "start_time": "2023-04-09T22:05:25.194Z"
   },
   {
    "duration": 85,
    "start_time": "2023-04-09T22:05:37.443Z"
   },
   {
    "duration": 336,
    "start_time": "2023-04-09T22:05:47.984Z"
   },
   {
    "duration": 70,
    "start_time": "2023-04-09T22:10:57.257Z"
   },
   {
    "duration": 481,
    "start_time": "2023-04-09T22:12:26.440Z"
   },
   {
    "duration": 523,
    "start_time": "2023-04-09T22:13:02.735Z"
   },
   {
    "duration": 519,
    "start_time": "2023-04-09T22:13:11.847Z"
   },
   {
    "duration": 4,
    "start_time": "2023-04-09T22:13:28.396Z"
   },
   {
    "duration": 505,
    "start_time": "2023-04-09T22:13:37.133Z"
   },
   {
    "duration": 558,
    "start_time": "2023-04-09T22:13:59.471Z"
   },
   {
    "duration": 4,
    "start_time": "2023-04-09T22:14:32.540Z"
   },
   {
    "duration": 35,
    "start_time": "2023-04-09T22:14:35.503Z"
   },
   {
    "duration": 10,
    "start_time": "2023-04-09T22:14:36.196Z"
   },
   {
    "duration": 3,
    "start_time": "2023-04-09T22:14:40.228Z"
   },
   {
    "duration": 6,
    "start_time": "2023-04-09T22:14:40.837Z"
   },
   {
    "duration": 4,
    "start_time": "2023-04-09T22:14:41.439Z"
   },
   {
    "duration": 5,
    "start_time": "2023-04-09T22:14:41.971Z"
   },
   {
    "duration": 11815,
    "start_time": "2023-04-09T22:14:47.609Z"
   },
   {
    "duration": 546,
    "start_time": "2023-04-09T22:14:59.426Z"
   },
   {
    "duration": 4896,
    "start_time": "2023-04-09T22:15:19.742Z"
   },
   {
    "duration": 55713,
    "start_time": "2023-04-09T22:15:26.472Z"
   },
   {
    "duration": 76,
    "start_time": "2023-04-09T22:18:16.394Z"
   },
   {
    "duration": 13,
    "start_time": "2023-04-09T22:18:30.739Z"
   },
   {
    "duration": 12,
    "start_time": "2023-04-09T22:20:03.531Z"
   },
   {
    "duration": 11,
    "start_time": "2023-04-09T22:20:25.059Z"
   },
   {
    "duration": 34090,
    "start_time": "2023-04-09T22:20:36.540Z"
   },
   {
    "duration": 71,
    "start_time": "2023-04-09T22:23:27.477Z"
   },
   {
    "duration": 28,
    "start_time": "2023-04-09T22:23:35.721Z"
   },
   {
    "duration": 74,
    "start_time": "2023-04-09T22:24:26.136Z"
   },
   {
    "duration": 26,
    "start_time": "2023-04-09T22:24:32.536Z"
   },
   {
    "duration": 7,
    "start_time": "2023-04-09T22:25:09.402Z"
   },
   {
    "duration": 4,
    "start_time": "2023-04-09T22:25:45.688Z"
   },
   {
    "duration": 33520,
    "start_time": "2023-04-09T22:29:19.791Z"
   },
   {
    "duration": 4,
    "start_time": "2023-04-09T22:31:38.331Z"
   },
   {
    "duration": 31832,
    "start_time": "2023-04-09T22:31:57.266Z"
   },
   {
    "duration": 12094,
    "start_time": "2023-04-09T22:42:28.302Z"
   },
   {
    "duration": 11931,
    "start_time": "2023-04-09T22:43:03.427Z"
   },
   {
    "duration": 0,
    "start_time": "2023-04-09T22:43:15.360Z"
   },
   {
    "duration": 9,
    "start_time": "2023-04-09T22:43:20.705Z"
   },
   {
    "duration": 12034,
    "start_time": "2023-04-09T22:43:54.185Z"
   },
   {
    "duration": 80,
    "start_time": "2023-04-09T22:45:00.708Z"
   },
   {
    "duration": 12154,
    "start_time": "2023-04-09T22:45:26.881Z"
   },
   {
    "duration": 4,
    "start_time": "2023-04-09T22:47:50.764Z"
   },
   {
    "duration": 11942,
    "start_time": "2023-04-09T22:48:40.649Z"
   },
   {
    "duration": 31951,
    "start_time": "2023-04-09T22:51:37.060Z"
   },
   {
    "duration": 31556,
    "start_time": "2023-04-09T22:52:32.238Z"
   },
   {
    "duration": 1142,
    "start_time": "2023-04-09T22:54:14.515Z"
   },
   {
    "duration": 38,
    "start_time": "2023-04-09T22:54:15.658Z"
   },
   {
    "duration": 16,
    "start_time": "2023-04-09T22:54:15.697Z"
   },
   {
    "duration": 4,
    "start_time": "2023-04-09T22:54:15.714Z"
   },
   {
    "duration": 14,
    "start_time": "2023-04-09T22:54:15.720Z"
   },
   {
    "duration": 12,
    "start_time": "2023-04-09T22:54:15.735Z"
   },
   {
    "duration": 9,
    "start_time": "2023-04-09T22:54:15.748Z"
   },
   {
    "duration": 11754,
    "start_time": "2023-04-09T22:54:15.758Z"
   },
   {
    "duration": 3,
    "start_time": "2023-04-09T22:54:27.514Z"
   },
   {
    "duration": 324501,
    "start_time": "2023-04-09T22:54:27.518Z"
   },
   {
    "duration": 33058,
    "start_time": "2023-04-09T22:59:52.020Z"
   },
   {
    "duration": 5,
    "start_time": "2023-04-09T23:00:25.080Z"
   },
   {
    "duration": 106,
    "start_time": "2023-04-09T23:10:55.758Z"
   },
   {
    "duration": 1101,
    "start_time": "2023-04-09T23:11:24.363Z"
   },
   {
    "duration": 36,
    "start_time": "2023-04-09T23:11:25.466Z"
   },
   {
    "duration": 14,
    "start_time": "2023-04-09T23:11:25.504Z"
   },
   {
    "duration": 12,
    "start_time": "2023-04-09T23:11:25.519Z"
   },
   {
    "duration": 8,
    "start_time": "2023-04-09T23:11:25.532Z"
   },
   {
    "duration": 14,
    "start_time": "2023-04-09T23:11:25.541Z"
   },
   {
    "duration": 9,
    "start_time": "2023-04-09T23:11:25.557Z"
   },
   {
    "duration": 11980,
    "start_time": "2023-04-09T23:11:25.567Z"
   },
   {
    "duration": 31939,
    "start_time": "2023-04-09T23:11:37.549Z"
   },
   {
    "duration": 323350,
    "start_time": "2023-04-09T23:12:09.490Z"
   },
   {
    "duration": 37,
    "start_time": "2023-04-09T23:17:32.842Z"
   },
   {
    "duration": 4,
    "start_time": "2023-04-09T23:17:32.881Z"
   }
  ],
  "kernelspec": {
   "display_name": "Python 3 (ipykernel)",
   "language": "python",
   "name": "python3"
  },
  "language_info": {
   "codemirror_mode": {
    "name": "ipython",
    "version": 3
   },
   "file_extension": ".py",
   "mimetype": "text/x-python",
   "name": "python",
   "nbconvert_exporter": "python",
   "pygments_lexer": "ipython3",
   "version": "3.9.12"
  },
  "toc": {
   "base_numbering": 1,
   "nav_menu": {},
   "number_sections": true,
   "sideBar": true,
   "skip_h1_title": true,
   "title_cell": "Table of Contents",
   "title_sidebar": "Contents",
   "toc_cell": false,
   "toc_position": {},
   "toc_section_display": true,
   "toc_window_display": false
  }
 },
 "nbformat": 4,
 "nbformat_minor": 2
}
