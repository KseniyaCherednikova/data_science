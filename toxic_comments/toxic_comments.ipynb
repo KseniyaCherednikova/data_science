{
 "cells": [
  {
   "cell_type": "markdown",
   "metadata": {},
   "source": [
    "# Проект для интернет-магазина"
   ]
  },
  {
   "cell_type": "markdown",
   "metadata": {},
   "source": [
    "Интернет-магазин запускает новый сервис. Теперь пользователи могут редактировать и дополнять описания товаров, как в вики-сообществах. То есть клиенты предлагают свои правки и комментируют изменения других. Магазину нужен инструмент, который будет искать токсичные комментарии и отправлять их на модерацию. \n",
    "\n",
    "Обучить модель классифицировать комментарии на позитивные и негативные. В нашем распоряжении набор данных с разметкой о токсичности правок. Постройть модель со значением метрики качества *F1* не меньше 0.75. "
   ]
  },
  {
   "cell_type": "markdown",
   "metadata": {},
   "source": [
    "## Подготовка"
   ]
  },
  {
   "cell_type": "code",
   "execution_count": 1,
   "metadata": {},
   "outputs": [
    {
     "name": "stderr",
     "output_type": "stream",
     "text": [
      "[nltk_data] Downloading package stopwords to /home/jovyan/nltk_data...\n",
      "[nltk_data]   Package stopwords is already up-to-date!\n",
      "[nltk_data] Downloading package averaged_perceptron_tagger to\n",
      "[nltk_data]     /home/jovyan/nltk_data...\n",
      "[nltk_data]   Unzipping taggers/averaged_perceptron_tagger.zip.\n",
      "[nltk_data] Downloading package punkt to /home/jovyan/nltk_data...\n",
      "[nltk_data]   Package punkt is already up-to-date!\n",
      "[nltk_data] Downloading package wordnet to /home/jovyan/nltk_data...\n",
      "[nltk_data]   Package wordnet is already up-to-date!\n",
      "[nltk_data] Downloading package omw-1.4 to /home/jovyan/nltk_data...\n"
     ]
    }
   ],
   "source": [
    "import pandas as pd\n",
    "import numpy as np\n",
    "import matplotlib.pyplot as plt\n",
    "from sklearn.pipeline import Pipeline\n",
    "from sklearn.model_selection import GridSearchCV\n",
    "from sklearn.linear_model import LogisticRegression\n",
    "from sklearn.ensemble import RandomForestClassifier\n",
    "from sklearn.pipeline import Pipeline\n",
    "\n",
    "\n",
    "import re\n",
    "import nltk\n",
    "nltk.download(['stopwords', 'averaged_perceptron_tagger', 'punkt', 'wordnet', 'omw-1.4'])\n",
    "from nltk.corpus import stopwords as nltk_stopwords\n",
    "from sklearn.feature_extraction.text import TfidfVectorizer, CountVectorizer\n",
    "from nltk import pos_tag\n",
    "from nltk.stem import WordNetLemmatizer\n",
    "\n",
    "from nltk import sent_tokenize, word_tokenize\n",
    "\n",
    "from sklearn.model_selection import train_test_split\n",
    "import warnings\n",
    "warnings.filterwarnings('ignore')\n",
    "import sklearn.metrics as metrics\n",
    "from sklearn.metrics import f1_score"
   ]
  },
  {
   "cell_type": "code",
   "execution_count": 2,
   "metadata": {},
   "outputs": [
    {
     "data": {
      "text/html": [
       "<div>\n",
       "<style scoped>\n",
       "    .dataframe tbody tr th:only-of-type {\n",
       "        vertical-align: middle;\n",
       "    }\n",
       "\n",
       "    .dataframe tbody tr th {\n",
       "        vertical-align: top;\n",
       "    }\n",
       "\n",
       "    .dataframe thead th {\n",
       "        text-align: right;\n",
       "    }\n",
       "</style>\n",
       "<table border=\"1\" class=\"dataframe\">\n",
       "  <thead>\n",
       "    <tr style=\"text-align: right;\">\n",
       "      <th></th>\n",
       "      <th>Unnamed: 0</th>\n",
       "      <th>text</th>\n",
       "      <th>toxic</th>\n",
       "    </tr>\n",
       "  </thead>\n",
       "  <tbody>\n",
       "    <tr>\n",
       "      <th>0</th>\n",
       "      <td>0</td>\n",
       "      <td>Explanation\\nWhy the edits made under my usern...</td>\n",
       "      <td>0</td>\n",
       "    </tr>\n",
       "    <tr>\n",
       "      <th>1</th>\n",
       "      <td>1</td>\n",
       "      <td>D'aww! He matches this background colour I'm s...</td>\n",
       "      <td>0</td>\n",
       "    </tr>\n",
       "    <tr>\n",
       "      <th>2</th>\n",
       "      <td>2</td>\n",
       "      <td>Hey man, I'm really not trying to edit war. It...</td>\n",
       "      <td>0</td>\n",
       "    </tr>\n",
       "    <tr>\n",
       "      <th>3</th>\n",
       "      <td>3</td>\n",
       "      <td>\"\\nMore\\nI can't make any real suggestions on ...</td>\n",
       "      <td>0</td>\n",
       "    </tr>\n",
       "    <tr>\n",
       "      <th>4</th>\n",
       "      <td>4</td>\n",
       "      <td>You, sir, are my hero. Any chance you remember...</td>\n",
       "      <td>0</td>\n",
       "    </tr>\n",
       "  </tbody>\n",
       "</table>\n",
       "</div>"
      ],
      "text/plain": [
       "   Unnamed: 0                                               text  toxic\n",
       "0           0  Explanation\\nWhy the edits made under my usern...      0\n",
       "1           1  D'aww! He matches this background colour I'm s...      0\n",
       "2           2  Hey man, I'm really not trying to edit war. It...      0\n",
       "3           3  \"\\nMore\\nI can't make any real suggestions on ...      0\n",
       "4           4  You, sir, are my hero. Any chance you remember...      0"
      ]
     },
     "execution_count": 2,
     "metadata": {},
     "output_type": "execute_result"
    }
   ],
   "source": [
    "try:\n",
    "    data = pd.read_csv('C:/Users/Ксения/data_analyst/vikishop/toxic_comments.csv')\n",
    "except:\n",
    "    data = pd.read_csv('/datasets/toxic_comments.csv')\n",
    "data.head()"
   ]
  },
  {
   "cell_type": "code",
   "execution_count": 3,
   "metadata": {},
   "outputs": [
    {
     "name": "stdout",
     "output_type": "stream",
     "text": [
      "<class 'pandas.core.frame.DataFrame'>\n",
      "RangeIndex: 159292 entries, 0 to 159291\n",
      "Data columns (total 3 columns):\n",
      " #   Column      Non-Null Count   Dtype \n",
      "---  ------      --------------   ----- \n",
      " 0   Unnamed: 0  159292 non-null  int64 \n",
      " 1   text        159292 non-null  object\n",
      " 2   toxic       159292 non-null  int64 \n",
      "dtypes: int64(2), object(1)\n",
      "memory usage: 3.6+ MB\n"
     ]
    }
   ],
   "source": [
    "data.info()"
   ]
  },
  {
   "cell_type": "code",
   "execution_count": 4,
   "metadata": {},
   "outputs": [
    {
     "data": {
      "image/png": "[encoded data removed]",
      "text/plain": [
       "<Figure size 432x288 with 1 Axes>"
      ]
     },
     "metadata": {
      "needs_background": "light"
     },
     "output_type": "display_data"
    }
   ],
   "source": [
    "data['toxic'].value_counts().plot(kind='bar')\n",
    "plt.title ('Распределение признаков')\n",
    "plt.xlabel('Признаки')\n",
    "plt.ylabel('Количество')\n",
    "None"
   ]
  },
  {
   "cell_type": "code",
   "execution_count": 5,
   "metadata": {
    "scrolled": true
   },
   "outputs": [],
   "source": [
    "# Избавимся от лишнего\n",
    "data = data.drop('Unnamed: 0' , axis=1)"
   ]
  },
  {
   "cell_type": "code",
   "execution_count": 6,
   "metadata": {},
   "outputs": [
    {
     "name": "stdout",
     "output_type": "stream",
     "text": [
      "<class 'pandas.core.frame.DataFrame'>\n",
      "RangeIndex: 158285 entries, 0 to 158284\n",
      "Data columns (total 2 columns):\n",
      " #   Column  Non-Null Count   Dtype \n",
      "---  ------  --------------   ----- \n",
      " 0   text    158285 non-null  object\n",
      " 1   toxic   158285 non-null  int64 \n",
      "dtypes: int64(1), object(1)\n",
      "memory usage: 2.4+ MB\n"
     ]
    }
   ],
   "source": [
    "def clearing(text):\n",
    "    text = re.sub(r\"(?:\\n|\\r)\", \" \", text)\n",
    "    text = re.sub(r\"[^a-zA-Z ]+\", \"\", text).strip()\n",
    "    text = text.lower()\n",
    "    return text\n",
    "data['text'] = data['text'].apply(clearing)\n",
    "data = data.drop_duplicates().reset_index(drop= True)\n",
    "data.info()"
   ]
  },
  {
   "cell_type": "code",
   "execution_count": 7,
   "metadata": {},
   "outputs": [
    {
     "data": {
      "text/html": [
       "<div>\n",
       "<style scoped>\n",
       "    .dataframe tbody tr th:only-of-type {\n",
       "        vertical-align: middle;\n",
       "    }\n",
       "\n",
       "    .dataframe tbody tr th {\n",
       "        vertical-align: top;\n",
       "    }\n",
       "\n",
       "    .dataframe thead th {\n",
       "        text-align: right;\n",
       "    }\n",
       "</style>\n",
       "<table border=\"1\" class=\"dataframe\">\n",
       "  <thead>\n",
       "    <tr style=\"text-align: right;\">\n",
       "      <th></th>\n",
       "      <th>text</th>\n",
       "      <th>toxic</th>\n",
       "    </tr>\n",
       "  </thead>\n",
       "  <tbody>\n",
       "    <tr>\n",
       "      <th>0</th>\n",
       "      <td>explanation why the edits made under my userna...</td>\n",
       "      <td>0</td>\n",
       "    </tr>\n",
       "    <tr>\n",
       "      <th>1</th>\n",
       "      <td>daww he matches this background colour im seem...</td>\n",
       "      <td>0</td>\n",
       "    </tr>\n",
       "    <tr>\n",
       "      <th>2</th>\n",
       "      <td>hey man im really not trying to edit war its j...</td>\n",
       "      <td>0</td>\n",
       "    </tr>\n",
       "    <tr>\n",
       "      <th>3</th>\n",
       "      <td>more i cant make any real suggestions on impro...</td>\n",
       "      <td>0</td>\n",
       "    </tr>\n",
       "    <tr>\n",
       "      <th>4</th>\n",
       "      <td>you sir are my hero any chance you remember wh...</td>\n",
       "      <td>0</td>\n",
       "    </tr>\n",
       "  </tbody>\n",
       "</table>\n",
       "</div>"
      ],
      "text/plain": [
       "                                                text  toxic\n",
       "0  explanation why the edits made under my userna...      0\n",
       "1  daww he matches this background colour im seem...      0\n",
       "2  hey man im really not trying to edit war its j...      0\n",
       "3  more i cant make any real suggestions on impro...      0\n",
       "4  you sir are my hero any chance you remember wh...      0"
      ]
     },
     "execution_count": 7,
     "metadata": {},
     "output_type": "execute_result"
    }
   ],
   "source": [
    "data.head()"
   ]
  },
  {
   "cell_type": "code",
   "execution_count": 8,
   "metadata": {},
   "outputs": [
    {
     "name": "stdout",
     "output_type": "stream",
     "text": [
      "the striped bat be hang on their foot for best\n"
     ]
    }
   ],
   "source": [
    "wnl = WordNetLemmatizer()\n",
    "\n",
    "def penn2morphy(penntag):\n",
    "    \"\"\" Converts Penn Treebank tags to WordNet. \"\"\"\n",
    "    morphy_tag = {'NN':'n', 'JJ':'a',\n",
    "                  'VB':'v', 'RB':'r'}\n",
    "    try:\n",
    "        return morphy_tag[penntag[:2]]\n",
    "    except:\n",
    "        return 'n' \n",
    "\n",
    "def lemmatize_sent(text): \n",
    "       return ' '.join([wnl.lemmatize(word.lower(), pos=penn2morphy(tag))\n",
    "            for word, tag in pos_tag(word_tokenize(text))]) \n",
    "\n",
    "\n",
    "print(lemmatize_sent(\"The striped bats are hanging on their feet for best\"))"
   ]
  },
  {
   "cell_type": "code",
   "execution_count": 9,
   "metadata": {},
   "outputs": [
    {
     "data": {
      "application/vnd.jupyter.widget-view+json": {
       "model_id": "e906491b489246e5ac679dc6f596c284",
       "version_major": 2,
       "version_minor": 0
      },
      "text/plain": [
       "  0%|          | 0/158285 [00:00<?, ?it/s]"
      ]
     },
     "metadata": {},
     "output_type": "display_data"
    }
   ],
   "source": [
    "from tqdm.notebook import tqdm\n",
    "tqdm.pandas()\n",
    "data['lemm_text'] = data['text'].progress_apply(lemmatize_sent)"
   ]
  },
  {
   "cell_type": "code",
   "execution_count": 10,
   "metadata": {},
   "outputs": [
    {
     "data": {
      "text/html": [
       "<div>\n",
       "<style scoped>\n",
       "    .dataframe tbody tr th:only-of-type {\n",
       "        vertical-align: middle;\n",
       "    }\n",
       "\n",
       "    .dataframe tbody tr th {\n",
       "        vertical-align: top;\n",
       "    }\n",
       "\n",
       "    .dataframe thead th {\n",
       "        text-align: right;\n",
       "    }\n",
       "</style>\n",
       "<table border=\"1\" class=\"dataframe\">\n",
       "  <thead>\n",
       "    <tr style=\"text-align: right;\">\n",
       "      <th></th>\n",
       "      <th>text</th>\n",
       "      <th>toxic</th>\n",
       "      <th>lemm_text</th>\n",
       "    </tr>\n",
       "  </thead>\n",
       "  <tbody>\n",
       "    <tr>\n",
       "      <th>0</th>\n",
       "      <td>explanation why the edits made under my userna...</td>\n",
       "      <td>0</td>\n",
       "      <td>explanation why the edits make under my userna...</td>\n",
       "    </tr>\n",
       "    <tr>\n",
       "      <th>1</th>\n",
       "      <td>daww he matches this background colour im seem...</td>\n",
       "      <td>0</td>\n",
       "      <td>daww he match this background colour im seemin...</td>\n",
       "    </tr>\n",
       "    <tr>\n",
       "      <th>2</th>\n",
       "      <td>hey man im really not trying to edit war its j...</td>\n",
       "      <td>0</td>\n",
       "      <td>hey man im really not try to edit war it just ...</td>\n",
       "    </tr>\n",
       "    <tr>\n",
       "      <th>3</th>\n",
       "      <td>more i cant make any real suggestions on impro...</td>\n",
       "      <td>0</td>\n",
       "      <td>more i cant make any real suggestion on improv...</td>\n",
       "    </tr>\n",
       "    <tr>\n",
       "      <th>4</th>\n",
       "      <td>you sir are my hero any chance you remember wh...</td>\n",
       "      <td>0</td>\n",
       "      <td>you sir be my hero any chance you remember wha...</td>\n",
       "    </tr>\n",
       "    <tr>\n",
       "      <th>5</th>\n",
       "      <td>congratulations from me as well use the tools ...</td>\n",
       "      <td>0</td>\n",
       "      <td>congratulation from me a well use the tool wel...</td>\n",
       "    </tr>\n",
       "    <tr>\n",
       "      <th>6</th>\n",
       "      <td>cocksucker before you piss around on my work</td>\n",
       "      <td>1</td>\n",
       "      <td>cocksucker before you piss around on my work</td>\n",
       "    </tr>\n",
       "    <tr>\n",
       "      <th>7</th>\n",
       "      <td>your vandalism to the matt shirvington article...</td>\n",
       "      <td>0</td>\n",
       "      <td>your vandalism to the matt shirvington article...</td>\n",
       "    </tr>\n",
       "    <tr>\n",
       "      <th>8</th>\n",
       "      <td>sorry if the word nonsense was offensive to yo...</td>\n",
       "      <td>0</td>\n",
       "      <td>sorry if the word nonsense be offensive to you...</td>\n",
       "    </tr>\n",
       "    <tr>\n",
       "      <th>9</th>\n",
       "      <td>alignment on this subject and which are contra...</td>\n",
       "      <td>0</td>\n",
       "      <td>alignment on this subject and which be contrar...</td>\n",
       "    </tr>\n",
       "    <tr>\n",
       "      <th>10</th>\n",
       "      <td>fair use rationale for imagewonjujpg  thanks f...</td>\n",
       "      <td>0</td>\n",
       "      <td>fair use rationale for imagewonjujpg thanks fo...</td>\n",
       "    </tr>\n",
       "    <tr>\n",
       "      <th>11</th>\n",
       "      <td>bbq   be a man and lets discuss itmaybe over t...</td>\n",
       "      <td>0</td>\n",
       "      <td>bbq be a man and let discuss itmaybe over the ...</td>\n",
       "    </tr>\n",
       "    <tr>\n",
       "      <th>12</th>\n",
       "      <td>hey what is it   talk  what is it an exclusive...</td>\n",
       "      <td>1</td>\n",
       "      <td>hey what be it talk what be it an exclusive gr...</td>\n",
       "    </tr>\n",
       "    <tr>\n",
       "      <th>13</th>\n",
       "      <td>before you start throwing accusations and warn...</td>\n",
       "      <td>0</td>\n",
       "      <td>before you start throw accusation and warning ...</td>\n",
       "    </tr>\n",
       "    <tr>\n",
       "      <th>14</th>\n",
       "      <td>oh and the girl above started her arguments wi...</td>\n",
       "      <td>0</td>\n",
       "      <td>oh and the girl above start her argument with ...</td>\n",
       "    </tr>\n",
       "  </tbody>\n",
       "</table>\n",
       "</div>"
      ],
      "text/plain": [
       "                                                 text  toxic  \\\n",
       "0   explanation why the edits made under my userna...      0   \n",
       "1   daww he matches this background colour im seem...      0   \n",
       "2   hey man im really not trying to edit war its j...      0   \n",
       "3   more i cant make any real suggestions on impro...      0   \n",
       "4   you sir are my hero any chance you remember wh...      0   \n",
       "5   congratulations from me as well use the tools ...      0   \n",
       "6        cocksucker before you piss around on my work      1   \n",
       "7   your vandalism to the matt shirvington article...      0   \n",
       "8   sorry if the word nonsense was offensive to yo...      0   \n",
       "9   alignment on this subject and which are contra...      0   \n",
       "10  fair use rationale for imagewonjujpg  thanks f...      0   \n",
       "11  bbq   be a man and lets discuss itmaybe over t...      0   \n",
       "12  hey what is it   talk  what is it an exclusive...      1   \n",
       "13  before you start throwing accusations and warn...      0   \n",
       "14  oh and the girl above started her arguments wi...      0   \n",
       "\n",
       "                                            lemm_text  \n",
       "0   explanation why the edits make under my userna...  \n",
       "1   daww he match this background colour im seemin...  \n",
       "2   hey man im really not try to edit war it just ...  \n",
       "3   more i cant make any real suggestion on improv...  \n",
       "4   you sir be my hero any chance you remember wha...  \n",
       "5   congratulation from me a well use the tool wel...  \n",
       "6        cocksucker before you piss around on my work  \n",
       "7   your vandalism to the matt shirvington article...  \n",
       "8   sorry if the word nonsense be offensive to you...  \n",
       "9   alignment on this subject and which be contrar...  \n",
       "10  fair use rationale for imagewonjujpg thanks fo...  \n",
       "11  bbq be a man and let discuss itmaybe over the ...  \n",
       "12  hey what be it talk what be it an exclusive gr...  \n",
       "13  before you start throw accusation and warning ...  \n",
       "14  oh and the girl above start her argument with ...  "
      ]
     },
     "execution_count": 10,
     "metadata": {},
     "output_type": "execute_result"
    }
   ],
   "source": [
    "data.head(15)"
   ]
  },
  {
   "cell_type": "code",
   "execution_count": 11,
   "metadata": {},
   "outputs": [
    {
     "data": {
      "text/plain": [
       "array(['cocksucker before you piss around on my work',\n",
       "       'hey what be it talk what be it an exclusive group of some wp talibanswho be good at destroy selfappointed purist who gang up any one who ask them question abt their antisocial and destructive noncontribution at wp ask sityush to clean up his behavior than issue me nonsensical warning',\n",
       "       'bye dont look come or think of comming back tosser', ...,\n",
       "       'your absurd edits your absurd edits on great white shark be total vandalism and be very sexual all you edit here be fuck bullshit like spam all over this useful encyclopedia so stop all your bullshit the admins have you everywhere the only choice for you be to stop this bullshit or else youll be block permanently userfactualman',\n",
       "       'hey listen dont you ever delete my edits ever again im annoy because the wwe k a few of the roster have be confirm and your stupid as delete what i write just stop please stop you dont work k or wwe game so stop delete other people shit if i get it wrong or others get it wrong let them they will get the hang of it eventually but dont stick your most as in their and im gon na delete the please do not insert the roster shit how do you not have it if have be confirm god your stupid',\n",
       "       'and im go to keep post the stuff u delete until this fuck site close down have fun u stupid as bitch dont ever delete anything fuckin hore like i say before go to hell'],\n",
       "      dtype=object)"
      ]
     },
     "execution_count": 11,
     "metadata": {},
     "output_type": "execute_result"
    }
   ],
   "source": [
    "# Посмотрим на токсичные слова\n",
    "data[data['toxic']==1]['lemm_text'].unique()"
   ]
  },
  {
   "cell_type": "markdown",
   "metadata": {},
   "source": [
    "**Выводы:**\n",
    "- в датасете нет пропусков\n",
    "- судя по графику распределения, нетоксичных комментариев значительно больше\n",
    "- основной текст комментариев был в разных регистрах, для удобства переведен в нижний\n",
    "- после приведения текста к единому регистру были удалены дубликаты\n",
    "- удален неинформативный столбец с индексами\n",
    "- проведена очистка текста от лишних символов\n",
    "- проведена лемматизация слов"
   ]
  },
  {
   "cell_type": "markdown",
   "metadata": {},
   "source": [
    "## Обучение"
   ]
  },
  {
   "cell_type": "code",
   "execution_count": 12,
   "metadata": {},
   "outputs": [
    {
     "name": "stdout",
     "output_type": "stream",
     "text": [
      "(118713,)\n",
      "(39572,)\n",
      "(118713,)\n",
      "(39572,)\n"
     ]
    }
   ],
   "source": [
    "# Разделение по выборкам\n",
    "random_state = 888888\n",
    "features = data['lemm_text']\n",
    "target = data['toxic']\n",
    "\n",
    "f_train, f_test, t_train, t_test= train_test_split(features, target, test_size = 0.25, random_state = random_state)\n",
    "\n",
    "print(f_train.shape)\n",
    "print(f_test.shape)\n",
    "print(t_train.shape)\n",
    "print(t_test.shape)"
   ]
  },
  {
   "cell_type": "code",
   "execution_count": 13,
   "metadata": {},
   "outputs": [
    {
     "data": {
      "text/plain": [
       "(118713, 39572)"
      ]
     },
     "execution_count": 13,
     "metadata": {},
     "output_type": "execute_result"
    }
   ],
   "source": [
    "#TFIDF векторизация\n",
    "stopwords = set(nltk_stopwords.words('english'))\n",
    "count_tf_idf = TfidfVectorizer(stop_words=stopwords)\n",
    "tfidf_train = count_tf_idf.fit_transform(f_train)\n",
    "tfidf_test = count_tf_idf.transform(f_test)\n",
    "\n",
    "\n",
    "tfidf_train.shape[0], tfidf_test.shape[0]"
   ]
  },
  {
   "cell_type": "code",
   "execution_count": 14,
   "metadata": {},
   "outputs": [
    {
     "name": "stdout",
     "output_type": "stream",
     "text": [
      "Fitting 3 folds for each of 14 candidates, totalling 42 fits\n",
      "Best parameters is: {'C': 13, 'penalty': 'l2'}\n",
      "Best score is: 0.7540592629414373\n",
      "CPU times: total: 1min 1s\n",
      "Wall time: 1min 23s\n"
     ]
    }
   ],
   "source": [
    "%%time\n",
    "\n",
    "\n",
    "param_lr = {'penalty': ['l1', 'l2'],\n",
    "            'C': list(range(1,21,3))\n",
    "        }\n",
    "\n",
    "model_lr = LogisticRegression(random_state=random_state, max_iter=180)\n",
    "\n",
    "grid_1 = GridSearchCV(model_lr, param_grid=param_lr, scoring='f1', cv=3, verbose=True, n_jobs=-1)\n",
    "best_grid = grid_1.fit(tfidf_train, t_train)\n",
    "print('Best parameters is:', grid_1.best_params_)\n",
    "print('Best score is:', grid_1.best_score_)"
   ]
  },
  {
   "cell_type": "code",
   "execution_count": 15,
   "metadata": {},
   "outputs": [
    {
     "name": "stdout",
     "output_type": "stream",
     "text": [
      "Fitting 3 folds for each of 180 candidates, totalling 540 fits\n",
      "Best parameters is: {'max_depth': 5, 'max_features': 1, 'n_estimators': 20}\n",
      "Best score is: 0.0\n",
      "CPU times: total: 15.4 s\n",
      "Wall time: 16min 47s\n"
     ]
    }
   ],
   "source": [
    "%%time\n",
    "params_forest = {\n",
    "    'n_estimators': list(range(20,200,20)),\n",
    "    'max_depth':[5,15],\n",
    "    'max_features' : list(range(1,20, 2))\n",
    "}\n",
    "\n",
    "\n",
    "model_forest = RandomForestClassifier(random_state=random_state)\n",
    "                                 \n",
    "grid_2 = GridSearchCV(model_forest, param_grid=params_forest, scoring='f1', cv=3, verbose=True, n_jobs=-1)\n",
    "best_grid_2 = grid_2.fit(tfidf_train, t_train)\n",
    "print('Best parameters is:', grid_2.best_params_)\n",
    "print('Best score is:', grid_2.best_score_)"
   ]
  },
  {
   "cell_type": "markdown",
   "metadata": {},
   "source": [
    "**Выводы:**\n",
    "Для обучения и поиска лучших гиперпараметров были взяты 2 модели: LogisticRegression и RandomForestClassifier. \n",
    "\n",
    "Результаты обучения LogisticRegression:\n",
    "- Best parameters is: {'C': 13, 'penalty': 'l2'}\n",
    "- Best score is: 0.7540592629414373\n",
    "- CPU times: total: 1min 1s\n",
    "- Wall time: 1min 23s\n",
    "\n",
    "Результаты RandomForestClassifier:\n",
    "- Best parameters is: {'max_depth': 5, 'max_features': 1, 'n_estimators': 20}\n",
    "- Best score is: 0.0\n",
    "- CPU times: total: 15.4 s\n",
    "- Wall time: 16min 47s\n",
    "\n",
    "Метрика Best score модели LogisticRegression удовлетворяет требования ТЗ, она больше 0.75. Поэтому для тестирования возьмем ее."
   ]
  },
  {
   "cell_type": "code",
   "execution_count": 18,
   "metadata": {
    "scrolled": true
   },
   "outputs": [
    {
     "name": "stdout",
     "output_type": "stream",
     "text": [
      "Метрика F1: 0.7644370585791441\n"
     ]
    }
   ],
   "source": [
    "test_pred = grid_1.best_estimator_.predict(tfidf_test)\n",
    "\n",
    "print('Метрика F1:',f1_score(t_test, test_pred))"
   ]
  },
  {
   "cell_type": "markdown",
   "metadata": {},
   "source": [
    "## Выводы"
   ]
  },
  {
   "cell_type": "markdown",
   "metadata": {},
   "source": [
    "Значение метрики F1 выше требуемой, а значит модель подобрана правильно "
   ]
  }
 ],
 "metadata": {
  "ExecuteTimeLog": [
   {
    "duration": 6671,
    "start_time": "2023-07-25T11:27:58.114Z"
   },
   {
    "duration": 189,
    "start_time": "2023-07-25T11:28:04.787Z"
   },
   {
    "duration": 2306,
    "start_time": "2023-07-25T13:34:17.635Z"
   },
   {
    "duration": 3576,
    "start_time": "2023-07-25T13:34:27.709Z"
   },
   {
    "duration": 38,
    "start_time": "2023-07-25T13:34:48.690Z"
   },
   {
    "duration": 300,
    "start_time": "2023-07-25T13:35:38.298Z"
   },
   {
    "duration": 144,
    "start_time": "2023-07-25T13:36:06.496Z"
   },
   {
    "duration": 111,
    "start_time": "2023-07-25T13:36:15.538Z"
   },
   {
    "duration": 106,
    "start_time": "2023-07-25T13:36:23.711Z"
   },
   {
    "duration": 149,
    "start_time": "2023-07-25T13:36:35.146Z"
   },
   {
    "duration": 13,
    "start_time": "2023-07-25T13:37:37.792Z"
   },
   {
    "duration": 12,
    "start_time": "2023-07-25T13:38:13.500Z"
   },
   {
    "duration": 13,
    "start_time": "2023-07-25T13:38:25.441Z"
   },
   {
    "duration": 322170,
    "start_time": "2023-07-25T13:41:39.060Z"
   },
   {
    "duration": 191,
    "start_time": "2023-07-25T13:47:16.245Z"
   },
   {
    "duration": 575,
    "start_time": "2023-07-25T13:47:28.818Z"
   },
   {
    "duration": 410,
    "start_time": "2023-07-25T13:47:42.600Z"
   },
   {
    "duration": 149,
    "start_time": "2023-07-25T13:48:02.720Z"
   },
   {
    "duration": 168,
    "start_time": "2023-07-25T13:48:37.520Z"
   },
   {
    "duration": 145,
    "start_time": "2023-07-25T13:48:48.492Z"
   },
   {
    "duration": 212,
    "start_time": "2023-07-25T13:49:17.216Z"
   },
   {
    "duration": 37,
    "start_time": "2023-07-25T13:49:40.504Z"
   },
   {
    "duration": 66,
    "start_time": "2023-07-25T13:49:46.426Z"
   },
   {
    "duration": 51,
    "start_time": "2023-07-25T13:49:52.742Z"
   },
   {
    "duration": 16,
    "start_time": "2023-07-25T13:53:44.712Z"
   },
   {
    "duration": 3102,
    "start_time": "2023-07-25T13:53:47.741Z"
   },
   {
    "duration": 9,
    "start_time": "2023-07-25T13:54:10.041Z"
   },
   {
    "duration": 8,
    "start_time": "2023-07-25T14:22:54.142Z"
   },
   {
    "duration": 28,
    "start_time": "2023-07-25T14:47:51.753Z"
   },
   {
    "duration": 261,
    "start_time": "2023-07-25T14:52:30.222Z"
   },
   {
    "duration": 30,
    "start_time": "2023-07-25T14:52:37.800Z"
   },
   {
    "duration": 5,
    "start_time": "2023-07-25T14:53:24.541Z"
   },
   {
    "duration": 2699,
    "start_time": "2023-07-25T14:54:29.461Z"
   },
   {
    "duration": 7,
    "start_time": "2023-07-25T14:54:40.700Z"
   },
   {
    "duration": 27,
    "start_time": "2023-07-25T14:54:45.811Z"
   },
   {
    "duration": 2117,
    "start_time": "2023-07-25T14:55:04.170Z"
   },
   {
    "duration": 1843,
    "start_time": "2023-07-25T14:55:06.290Z"
   },
   {
    "duration": 964,
    "start_time": "2023-07-25T14:55:08.135Z"
   },
   {
    "duration": 36,
    "start_time": "2023-07-25T14:55:09.101Z"
   },
   {
    "duration": 244,
    "start_time": "2023-07-25T14:55:09.140Z"
   },
   {
    "duration": 14,
    "start_time": "2023-07-25T14:55:09.386Z"
   },
   {
    "duration": 2647,
    "start_time": "2023-07-25T14:55:09.402Z"
   },
   {
    "duration": 12,
    "start_time": "2023-07-25T14:55:12.051Z"
   },
   {
    "duration": 161,
    "start_time": "2023-07-25T14:55:12.065Z"
   },
   {
    "duration": 0,
    "start_time": "2023-07-25T14:55:12.227Z"
   },
   {
    "duration": 0,
    "start_time": "2023-07-25T14:55:12.229Z"
   },
   {
    "duration": 0,
    "start_time": "2023-07-25T14:55:12.230Z"
   },
   {
    "duration": 0,
    "start_time": "2023-07-25T14:55:12.232Z"
   },
   {
    "duration": 0,
    "start_time": "2023-07-25T14:55:12.233Z"
   },
   {
    "duration": 0,
    "start_time": "2023-07-25T14:55:12.235Z"
   },
   {
    "duration": 0,
    "start_time": "2023-07-25T14:55:12.259Z"
   },
   {
    "duration": 313,
    "start_time": "2023-07-25T14:56:21.725Z"
   },
   {
    "duration": 1365,
    "start_time": "2023-07-25T14:56:34.300Z"
   },
   {
    "duration": 11,
    "start_time": "2023-07-25T15:00:14.753Z"
   },
   {
    "duration": 11,
    "start_time": "2023-07-25T15:03:04.667Z"
   },
   {
    "duration": 11,
    "start_time": "2023-07-25T15:03:23.411Z"
   },
   {
    "duration": 11,
    "start_time": "2023-07-25T15:03:26.830Z"
   },
   {
    "duration": 7,
    "start_time": "2023-07-25T15:05:16.443Z"
   },
   {
    "duration": 7,
    "start_time": "2023-07-25T15:06:55.402Z"
   },
   {
    "duration": 6,
    "start_time": "2023-07-25T15:07:05.549Z"
   },
   {
    "duration": 14,
    "start_time": "2023-07-25T15:07:18.540Z"
   },
   {
    "duration": 10,
    "start_time": "2023-07-25T15:09:57.345Z"
   },
   {
    "duration": 2581,
    "start_time": "2023-07-25T15:12:56.236Z"
   },
   {
    "duration": 1958,
    "start_time": "2023-07-25T15:12:58.820Z"
   },
   {
    "duration": 1122,
    "start_time": "2023-07-25T15:13:00.782Z"
   },
   {
    "duration": 38,
    "start_time": "2023-07-25T15:13:01.907Z"
   },
   {
    "duration": 351,
    "start_time": "2023-07-25T15:13:01.960Z"
   },
   {
    "duration": 25,
    "start_time": "2023-07-25T15:13:02.314Z"
   },
   {
    "duration": 3390,
    "start_time": "2023-07-25T15:13:02.341Z"
   },
   {
    "duration": 8,
    "start_time": "2023-07-25T15:13:05.733Z"
   },
   {
    "duration": 1650,
    "start_time": "2023-07-25T15:13:05.743Z"
   },
   {
    "duration": 622544,
    "start_time": "2023-07-25T15:13:07.395Z"
   },
   {
    "duration": 21,
    "start_time": "2023-07-25T15:23:29.941Z"
   },
   {
    "duration": 144,
    "start_time": "2023-07-25T15:23:29.964Z"
   },
   {
    "duration": 63,
    "start_time": "2023-07-25T15:23:30.110Z"
   },
   {
    "duration": 7098,
    "start_time": "2023-07-25T15:23:30.176Z"
   },
   {
    "duration": 11369,
    "start_time": "2023-07-25T19:23:08.935Z"
   },
   {
    "duration": 1124,
    "start_time": "2023-07-25T19:23:20.306Z"
   },
   {
    "duration": 50,
    "start_time": "2023-07-25T19:23:21.431Z"
   },
   {
    "duration": 343,
    "start_time": "2023-07-25T19:23:21.486Z"
   },
   {
    "duration": 20,
    "start_time": "2023-07-25T19:23:21.837Z"
   },
   {
    "duration": 4169,
    "start_time": "2023-07-25T19:23:21.862Z"
   },
   {
    "duration": 14,
    "start_time": "2023-07-25T19:23:26.042Z"
   },
   {
    "duration": 1991,
    "start_time": "2023-07-25T19:23:26.060Z"
   },
   {
    "duration": 820635,
    "start_time": "2023-07-25T19:23:28.053Z"
   },
   {
    "duration": 7,
    "start_time": "2023-07-25T19:37:08.691Z"
   },
   {
    "duration": 67,
    "start_time": "2023-07-25T19:37:08.700Z"
   },
   {
    "duration": 65,
    "start_time": "2023-07-25T19:37:08.769Z"
   },
   {
    "duration": 11018,
    "start_time": "2023-07-25T19:37:08.835Z"
   }
  ],
  "kernelspec": {
   "display_name": "Python 3 (ipykernel)",
   "language": "python",
   "name": "python3"
  },
  "language_info": {
   "codemirror_mode": {
    "name": "ipython",
    "version": 3
   },
   "file_extension": ".py",
   "mimetype": "text/x-python",
   "name": "python",
   "nbconvert_exporter": "python",
   "pygments_lexer": "ipython3",
   "version": "3.9.12"
  },
  "toc": {
   "base_numbering": 1,
   "nav_menu": {},
   "number_sections": true,
   "sideBar": true,
   "skip_h1_title": true,
   "title_cell": "Содержание",
   "title_sidebar": "Contents",
   "toc_cell": true,
   "toc_position": {
    "height": "calc(100% - 180px)",
    "left": "10px",
    "top": "150px",
    "width": "302.391px"
   },
   "toc_section_display": true,
   "toc_window_display": false
  }
 },
 "nbformat": 4,
 "nbformat_minor": 2
}
